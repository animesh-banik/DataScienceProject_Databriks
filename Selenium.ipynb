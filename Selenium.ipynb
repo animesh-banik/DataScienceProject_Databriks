{
  "nbformat": 4,
  "nbformat_minor": 0,
  "metadata": {
    "colab": {
      "provenance": [],
      "authorship_tag": "ABX9TyM9x7qz5QJVQ12LgCkBRmwm",
      "include_colab_link": true
    },
    "kernelspec": {
      "name": "python3",
      "display_name": "Python 3"
    },
    "language_info": {
      "name": "python"
    }
  },
  "cells": [
    {
      "cell_type": "markdown",
      "metadata": {
        "id": "view-in-github",
        "colab_type": "text"
      },
      "source": [
        "<a href=\"https://colab.research.google.com/github/animesh-banik/DataScienceProject_Databriks/blob/Google_Colub/Selenium.ipynb\" target=\"_parent\"><img src=\"https://colab.research.google.com/assets/colab-badge.svg\" alt=\"Open In Colab\"/></a>"
      ]
    },
    {
      "cell_type": "markdown",
      "source": [],
      "metadata": {
        "id": "t4SH7iWSYs56"
      }
    },
    {
      "cell_type": "markdown",
      "source": [
        "# New Section"
      ],
      "metadata": {
        "id": "rZZ7SwD461b5"
      }
    },
    {
      "cell_type": "code",
      "source": [
        "#____________________________ Configured Selenium in colob ______________________\n",
        "\n",
        "!pip install selenium webdriver-manager\n",
        "!apt-get update # to update ubuntu to correctly run apt install\n",
        "!apt install chromium-chromedriver\n",
        "# !cp /usr/lib/chromium-browser/chromedriver /usr/local/bin/chromedriver\n",
        "import sys\n",
        "# sys.path.insert(0,'/usr/local/bin/chromedriver')\n"
      ],
      "metadata": {
        "id": "ucSl7ZwQ2vCX",
        "collapsed": true
      },
      "execution_count": null,
      "outputs": []
    },
    {
      "cell_type": "code",
      "source": [
        "from IPython.display import Image\n",
        "from selenium import webdriver\n",
        "from selenium.webdriver.chrome.service import Service\n",
        "from selenium.webdriver.chrome.options import Options\n",
        "from webdriver_manager.chrome import ChromeDriverManager\n",
        "\n",
        "chrome_options = Options()\n",
        "chrome_options.add_argument(\"--headless\")  # comment this if you want visible mode via VNC\n",
        "chrome_options.add_argument(\"--no-sandbox\")\n",
        "chrome_options.add_argument(\"--disable-dev-shm-usage\")\n",
        "# service = Service(\"/usr/local/bin/chromedriver\")\n",
        "driver = webdriver.Chrome(service=Service(ChromeDriverManager().install()), options=chrome_options)\n",
        "print(\"WebDriver initialized successfully!\")\n",
        "\n",
        "\n",
        "driver.get(\"https://www.google.com\")\n",
        "print(\"Page Title:\", driver.title)\n",
        "\n",
        "# Screenshot proof\n",
        "driver.save_screenshot(\"/usr/local/bin/Screenshot/screenshot.png\")\n",
        "Image(\"screenshot.png\")\n",
        "\n",
        "driver.quit()\n",
        "\n",
        "driver.quit()"
      ],
      "metadata": {
        "colab": {
          "base_uri": "https://localhost:8080/"
        },
        "id": "cvWaYBUDiU_e",
        "outputId": "197ec112-2f33-4953-ecba-14521c1ba595"
      },
      "execution_count": 53,
      "outputs": [
        {
          "output_type": "stream",
          "name": "stderr",
          "text": [
            "WARNING:urllib3.connectionpool:Retrying (Retry(total=2, connect=None, read=None, redirect=None, status=None)) after connection broken by 'NewConnectionError('<urllib3.connection.HTTPConnection object at 0x7f8570f98ec0>: Failed to establish a new connection: [Errno 111] Connection refused')': /session/128b882e403d400dbf01f381d4a20c10\n",
            "WARNING:urllib3.connectionpool:Retrying (Retry(total=1, connect=None, read=None, redirect=None, status=None)) after connection broken by 'NewConnectionError('<urllib3.connection.HTTPConnection object at 0x7f8570c90380>: Failed to establish a new connection: [Errno 111] Connection refused')': /session/128b882e403d400dbf01f381d4a20c10\n",
            "WARNING:urllib3.connectionpool:Retrying (Retry(total=0, connect=None, read=None, redirect=None, status=None)) after connection broken by 'NewConnectionError('<urllib3.connection.HTTPConnection object at 0x7f8570cf3bc0>: Failed to establish a new connection: [Errno 111] Connection refused')': /session/128b882e403d400dbf01f381d4a20c10\n"
          ]
        },
        {
          "output_type": "stream",
          "name": "stdout",
          "text": [
            "Page Title: Google\n"
          ]
        }
      ]
    }
  ]
}