{
  "cells": [
    {
      "cell_type": "markdown",
      "source": [
        "**AI vs ML vs DL vs DS**\n",
        "\n",
        "**1.Artificial Intelligence (AI)**\n",
        "\n",
        "Definition: The broadest field — any system that can mimic human intelligence (thinking, reasoning, decision-making, problem-solving).\n",
        "\n",
        "Goal: Build machines that can act intelligently.\n",
        "\n",
        "Examples: Chatbots, self-driving cars, fraud detection systems.\n",
        "\n",
        "**2.Machine Learning (ML)**\n",
        "\n",
        "Definition: A subset of AI where machines learn from data instead of being explicitly programmed.\n",
        "\n",
        "Goal: Create models that improve performance automatically with experience.\n",
        "\n",
        "Examples: Spam email filters, recommendation systems.\n",
        "\n",
        "**3.Deep Learning (DL)**\n",
        "\n",
        "Definition: A subset of ML that uses artificial neural networks with many layers (deep networks).\n",
        "\n",
        "Goal: Automatically learn complex features/patterns from raw data.\n",
        "\n",
        "Examples: Image recognition, speech recognition, generative AI (like GPT).\n",
        "\n",
        "**4.Data Science (DS)**\n",
        "\n",
        "Definition: An interdisciplinary field using statistics, programming, ML, and domain knowledge to extract insights from data.\n",
        "\n",
        "Goal: Make data-driven decisions and predictions.\n",
        "\n",
        "Examples: Business analytics, forecasting, customer segmentation.\n",
        "\n"
      ],
      "metadata": {
        "id": "NgX93KqiLYQa"
      }
    },
    {
      "cell_type": "markdown",
      "source": [
        "**ML Flow (End-to-End Pipeline)**\n",
        "\n",
        "**1.Problem Definition**\n",
        "\n",
        "Clearly state the problem you’re solving.\n",
        "\n",
        "Example: Predict whether a customer will churn.\n",
        "\n",
        "**2.Data Collection**\n",
        "\n",
        "Gather relevant data from different sources (databases, APIs, logs, sensors, etc.).\n",
        "\n",
        "Example: Customer demographics, transactions, usage history.\n",
        "\n",
        "**3.Data Preprocessing / Cleaning**\n",
        "\n",
        "Handle missing values, duplicates, noise, outliers.\n",
        "\n",
        "Normalize/standardize values.\n",
        "\n",
        "Convert categorical → numerical (e.g., One-Hot Encoding).\n",
        "\n",
        "**4.Exploratory Data Analysis (EDA)**\n",
        "\n",
        "Understand data distribution, trends, and relationships.\n",
        "\n",
        "Use visualization (histograms, scatterplots, heatmaps).\n",
        "\n",
        "Example: Correlation between churn and service complaints.\n",
        "\n",
        "**5.Feature Engineering & Selection**\n",
        "\n",
        "Create meaningful features (e.g., \"average spend per month\").\n",
        "\n",
        "Remove irrelevant/redundant features.\n",
        "\n",
        "Apply dimensionality reduction if needed (PCA, etc.).\n",
        "\n",
        "**6.Model Selection**\n",
        "\n",
        "Choose an algorithm based on the problem type:\n",
        "\n",
        "Regression → Linear Regression, Decision Trees.\n",
        "\n",
        "Classification → Logistic Regression, Random Forest, SVM.\n",
        "\n",
        "Clustering → K-Means, DBSCAN.\n",
        "\n",
        "Deep Learning → Neural Networks.\n",
        "\n",
        "**7.Model Training**\n",
        "\n",
        "Split data into train/test (and validation) sets.\n",
        "\n",
        "Train model on training set.\n",
        "\n",
        "Optimize parameters.\n",
        "\n",
        "**8.Model Evaluation**\n",
        "\n",
        "Use metrics to check performance:\n",
        "\n",
        "Classification → Accuracy, Precision, Recall, F1, ROC-AUC.\n",
        "\n",
        "Regression → MSE, RMSE, R².\n",
        "\n",
        "Perform cross-validation to reduce overfitting.\n",
        "\n",
        "**9.Hyperparameter Tuning**\n",
        "\n",
        "Adjust algorithm parameters (e.g., learning rate, depth of trees).\n",
        "\n",
        "Methods: Grid Search, Random Search, Bayesian Optimization.\n",
        "\n",
        "**10.Model Deployment**\n",
        "\n",
        "Integrate the trained model into a real-world system (API, app, dashboard).\n",
        "\n",
        "Example: Deploy churn prediction model in CRM software.\n",
        "\n",
        "**11.Monitoring & Maintenance**\n",
        "\n",
        "Continuously track performance.\n",
        "\n",
        "Handle concept drift (data patterns change over time).\n",
        "\n",
        "Update/retrain model periodically."
      ],
      "metadata": {
        "id": "NacC16QTMj53"
      }
    },
    {
      "cell_type": "markdown",
      "source": [
        "**Types of Machine Learning Techniques**\n",
        "\n",
        "**1.Supervised Learning**\n",
        "\n",
        "Definition: Model is trained on labeled data (input + correct output).\n",
        "\n",
        "Goal: Predict outcomes for new data.\n",
        "\n",
        "Techniques:\n",
        "\n",
        "**Regression** (predict continuous values, e.g., house prices).\n",
        "\n",
        "**Classification** (predict categories, e.g., spam vs. not spam).\n",
        "\n",
        "Examples: Email classification, credit risk prediction.\n",
        "\n",
        "**Supervised Machine Learning Algorithms**\n",
        "\n",
        "**Linear Regression**\n",
        "\n",
        "**Logistic Regression**\n",
        "\n",
        "**Decision Trees**\n",
        "\n",
        "**Random Forests**\n",
        "\n",
        "**Support Vector Machine(SVM)**\n",
        "\n",
        "**K-Nearest Neighbors**\n",
        "\n",
        "**Gradient Boosting**\n",
        "\n",
        "**Naive Bayes Algorithm**\n",
        "\n",
        "\n",
        "**2.Unsupervised Learning**\n",
        "\n",
        "Definition: Model is trained on unlabeled data (no predefined output).\n",
        "\n",
        "Goal: Find hidden patterns, structures, or relationships.\n",
        "\n",
        "Techniques:\n",
        "\n",
        "**Unsupervised Learning Algorithms**\n",
        "\n",
        "Clustering (grouping data, e.g., customer segmentation).\n",
        "\n",
        "Association Rule Learning\n",
        "\n",
        "Dimensionality Reduction (e.g., PCA, t-SNE).\n",
        "\n",
        "Examples: Market basket analysis, anomaly detection.\n",
        "\n",
        "**3.Semi-Supervised Learning**\n",
        "\n",
        "Definition: Uses a mix of small labeled data + large unlabeled data.\n",
        "\n",
        "Goal: Improve learning accuracy when labeling is costly.\n",
        "\n",
        "Techniques: Self-training, pseudo-labeling, graph-based methods.\n",
        "\n",
        "Examples: Medical image classification (few labeled scans, many unlabeled).\n",
        "\n",
        "**4.Reinforcement Learning (RL)**\n",
        "\n",
        "Definition: Model learns by interacting with an environment and receiving feedback (rewards/penalties).\n",
        "\n",
        "Goal: Maximize cumulative reward through trial and error.\n",
        "\n",
        "Techniques: Q-learning, Policy Gradients, Deep RL.\n",
        "\n",
        "Examples: Game AI (Chess, Go, Atari), robotics, self-driving cars."
      ],
      "metadata": {
        "id": "BVIVon9dOJXy"
      }
    },
    {
      "cell_type": "markdown",
      "source": [
        "**Linear Regression**\n",
        "\n",
        "Linear Regression is a statistical method used to model the relationship between a dependent variable (Y) and one or more independent variables (X) by fitting a straight line (or hyperplane in higher dimensions).\n",
        "\n",
        "**Simple Linear Regression (SLR)**\n",
        "\n",
        "Definition: Models the relationship between a single independent variable X and a dependent variable Y\n",
        "\n",
        "Y=β0​+β1​X+ϵ\n",
        "\n",
        "where:\n",
        "    \n",
        "β0 = intercept\n",
        "β1 = slope (effect of X on Y)\n",
        "ϵ = error term\t​\n",
        "\n",
        "Example: Predicting house price based on square footage.\n",
        "\n",
        "**Multiple Linear Regression (MLR)**\n",
        "\n",
        "Definition: Models relationship between multiple independent variables X1​,X2.....X and dependent variable\n",
        "Y\n",
        "\n",
        "Y=β0​+β1​X1​+β2​X2​+⋯+βn​Xn​+ϵ\n",
        "\n",
        "\n",
        "Example: Predicting house price based on square footage, number of rooms, and location score.\n",
        "\n",
        "**Error Metrics for Regression**\n",
        "\n",
        "**Mean Squared Error (MSE) **\n",
        "\n",
        "MSE=n1​i=1∑n​(yi​−y^​i​)2\n",
        "\n",
        "Penalizes larger errors more (squares them).\n",
        "Lower MSE = better model.\n",
        "\n",
        "**Mean Absolute Error (MAE)**\n",
        "\n",
        "   MAE=n1​i=1∑n​∣yi​−y^​i​∣\n",
        "\n",
        "**Root Mean Squared Error (RMSE)**\n",
        "\n",
        "RMSE=SQRT of MSE\n",
        "\n",
        "​Same unit as target variable.\n",
        "Easier to interpret compared to MSE.\n",
        "\n",
        "R-squared  - → % variance explained by model.\n",
        "\n",
        "\n",
        "\n",
        "\n",
        "**Model Performance Metrics**\n",
        "\n",
        "\n",
        "| Metric / Concept | Meaning             | Best For                        |\n",
        "| ---------------- | ------------------- | ------------------------------- |\n",
        "| **SLR**          | 1 predictor         | Simple relationships            |\n",
        "| **MLR**          | Multiple predictors | Complex models                  |\n",
        "| **MSE**          | Avg. squared error  | Penalizes big errors            |\n",
        "| **MAE**          | Avg. absolute error | Robust to outliers              |\n",
        "| **RMSE**         | Square root of MSE  | Interpretable in original units |\n",
        "| **R²**           | Variance explained  | Model goodness                  |\n",
        "| **Adj. R²**      | Penalized R²        | Multiple regression             |\n",
        "| **OLS**          | Estimation method   | Finds best-fit line             |\n",
        "\n",
        "\n",
        "\n",
        "**Used in Applications**\n",
        "\n",
        "Predicting house prices, sales, salaries.\n",
        "\n",
        "Risk analysis (finance, insurance).\n",
        "\n",
        "Medical predictions (disease progression).\n",
        "\n",
        "Marketing (effect of ad spend on sales).\n"
      ],
      "metadata": {
        "id": "4f7RUnhLWjWs"
      }
    },
    {
      "cell_type": "markdown",
      "source": [
        "**Using Linear Regression Predict Exam Score from Study Hours**"
      ],
      "metadata": {
        "id": "Vii8TzyZhOSS"
      }
    },
    {
      "cell_type": "code",
      "source": [
        "# Step 1: Import libraries\n",
        "\n",
        "import numpy as np\n",
        "import pandas as pd\n",
        "import matplotlib.pyplot as plt\n",
        "from sklearn.linear_model import LinearRegression\n",
        "from sklearn.metrics import mean_squared_error, mean_absolute_error, r2_score"
      ],
      "metadata": {
        "id": "aQVrzv9JhUhQ"
      },
      "execution_count": null,
      "outputs": []
    },
    {
      "cell_type": "code",
      "source": [
        "# Step 2: Create dataset\n",
        "\n",
        "# Hours studied (X) and corresponding exam scores (y)\n",
        "data = {\n",
        "    \"Hours\": [1, 2, 3, 4, 5, 6, 7, 8, 9],\n",
        "    \"Score\": [35, 40, 50, 55, 65, 70, 75, 85, 90]\n",
        "}\n",
        "df = pd.DataFrame(data)\n",
        "\n",
        "X = df[[\"Hours\"]]   # Independent variable (2D array)\n",
        "y = df[\"Score\"]     # Dependent variable"
      ],
      "metadata": {
        "id": "_wrfZKQNhYsY"
      },
      "execution_count": null,
      "outputs": []
    },
    {
      "cell_type": "code",
      "source": [
        "# Step 3: Train Linear Regression model\n",
        "\n",
        "model = LinearRegression()\n",
        "model.fit(X, y)\n",
        "\n",
        "print(\"Intercept (β0):\", model.intercept_)\n",
        "print(\"Slope (β1):\", model.coef_[0])"
      ],
      "metadata": {
        "colab": {
          "base_uri": "https://localhost:8080/"
        },
        "id": "aDuteh1Khlfw",
        "outputId": "a8d370d6-bd7c-42da-f65e-b485128ab386"
      },
      "execution_count": null,
      "outputs": [
        {
          "output_type": "stream",
          "name": "stdout",
          "text": [
            "Intercept (β0): 27.777777777777764\n",
            "Slope (β1): 7.000000000000003\n"
          ]
        }
      ]
    },
    {
      "cell_type": "code",
      "source": [
        "# Step 4: Predictions\n",
        "\n",
        "y_pred = model.predict(X)\n",
        "\n",
        "# Predict score for a student who studies 7.5 hours\n",
        "print(\"Predicted score for 7.5 hours study:\", model.predict([[7.5]])[0])\n"
      ],
      "metadata": {
        "colab": {
          "base_uri": "https://localhost:8080/"
        },
        "id": "NMeNZCSNhq3Q",
        "outputId": "6a61aed7-2202-4934-ac94-71d578d480f4"
      },
      "execution_count": null,
      "outputs": [
        {
          "output_type": "stream",
          "name": "stdout",
          "text": [
            "Predicted score for 7.5 hours study: 80.27777777777779\n"
          ]
        },
        {
          "output_type": "stream",
          "name": "stderr",
          "text": [
            "/usr/local/lib/python3.12/dist-packages/sklearn/utils/validation.py:2739: UserWarning: X does not have valid feature names, but LinearRegression was fitted with feature names\n",
            "  warnings.warn(\n"
          ]
        }
      ]
    },
    {
      "cell_type": "code",
      "source": [
        "# Step 5: Evaluate model\n",
        "\n",
        "print(\"MSE:\", mean_squared_error(y, y_pred))\n",
        "print(\"MAE:\", mean_absolute_error(y, y_pred))\n",
        "print(\"RMSE:\", np.sqrt(mean_squared_error(y, y_pred)))\n",
        "print(\"R²:\", r2_score(y, y_pred))"
      ],
      "metadata": {
        "colab": {
          "base_uri": "https://localhost:8080/"
        },
        "id": "h80hWxEMh_PQ",
        "outputId": "cb92a884-efda-4966-9522-aef47288b401"
      },
      "execution_count": null,
      "outputs": [
        {
          "output_type": "stream",
          "name": "stdout",
          "text": [
            "MSE: 1.7283950617283963\n",
            "MAE: 1.1358024691358048\n",
            "RMSE: 1.3146843962443595\n",
            "R²: 0.9947368421052631\n"
          ]
        }
      ]
    },
    {
      "cell_type": "code",
      "source": [
        "# Step 6: Visualization\n",
        "\n",
        "plt.scatter(X, y, color=\"blue\", label=\"Actual data\")\n",
        "plt.plot(X, y_pred, color=\"red\", linewidth=2, label=\"Regression line\")\n",
        "plt.xlabel(\"Hours Studied\")\n",
        "plt.ylabel(\"Exam Score\")\n",
        "plt.title(\"Linear Regression: Study Hours vs Score\")\n",
        "plt.legend()\n",
        "plt.show()"
      ],
      "metadata": {
        "colab": {
          "base_uri": "https://localhost:8080/",
          "height": 472
        },
        "id": "y2z9B6IWiHiJ",
        "outputId": "396205eb-5bbd-476a-89f6-b356a8f65784"
      },
      "execution_count": null,
      "outputs": [
        {
          "output_type": "display_data",
          "data": {
            "text/plain": [
              "<Figure size 640x480 with 1 Axes>"
            ],
            "image/png": "[encoded data removed]"
          },
          "metadata": {}
        }
      ]
    },
    {
      "cell_type": "markdown",
      "source": [
        "**1.Ridge Regression (L2 Regularization)**\n",
        "\n",
        "**2.Lasso Regression (L1 Regularization)**"
      ],
      "metadata": {
        "id": "rteUZC4onHim"
      }
    },
    {
      "cell_type": "markdown",
      "source": [
        "**Logistic Regression**\n",
        "\n",
        "Logistic Regression is a classification algorithm.\n",
        "\n",
        "It is used when the dependent variable (target) is categorical:\n",
        "\n",
        "Binary (Yes/No, Spam/Not Spam, 0/1)\n",
        "\n",
        "Multiclass (One-vs-Rest, Softmax)\n",
        "\n",
        "\n",
        "**Sigmoid Function**\n",
        "\n",
        "P(y=1∣X)=1+e−(β0​+β1​X)1​\n",
        "\n",
        "If P>0.5, predict class 1; else class 0\n",
        "\n",
        "Works for binary classification, can be extended to multiclass (One-vs-Rest / Softmax).\n",
        "\n",
        "**2.Confusion Matrix**\n",
        "\n",
        "A 2×2 table showing predicted vs actual outcomes:\n",
        "|                     | Predicted Positive      | Predicted Negative      |\n",
        "| ------------------- | ----------------------- | ----------------------- |\n",
        "| **Actual Positive** | **True Positive (TP)**  | **False Negative (FN)** |\n",
        "| **Actual Negative** | **False Positive (FP)** | **True Negative (TN)**  |\n",
        "\n",
        "\n",
        "\n",
        "TP → Correctly predicted positives\n",
        "\n",
        "TN → Correctly predicted negatives\n",
        "\n",
        "FP → Predicted positive but actually negative (Type I Error)\n",
        "\n",
        "FN → Predicted negative but actually positive (Type II Error)\n",
        "\n",
        "\n",
        "3.Performance Metrics\n",
        "\n",
        "Accuracy\n",
        "Accuracy=TP+TN / TP + TN + FP + FN\n",
        "\n",
        "Precision\n",
        "Precision = TP / TP + FP\n",
        "\n",
        "Of all predicted positives, how many are correct\n",
        "Useful when false positives are costly (e.g., predicting cancer incorrectly).\n",
        "\n",
        "Recall (Sensitivity / True Positive Rate)\n",
        "\n",
        "Recall = TP / TP + FN\n",
        "\n",
        "Of all actual positives, how many did we catch.\n",
        "Useful when false negatives are costly (e.g., missed cancer detection).\n",
        "\n",
        "\n",
        "F1 Score\n",
        "\n",
        "F1 = 2⋅ Precision⋅Recall / Precision + Recall\n",
        "\n",
        "Harmonic mean of precision and recall.\n",
        "Balances both FP and FN\n",
        "\n",
        "\n",
        "F-Beta Score\n",
        "\n",
        "\n",
        "\n"
      ],
      "metadata": {
        "id": "WhuSfoz7n-nL"
      }
    },
    {
      "cell_type": "markdown",
      "source": [
        "**Predict Pass/Fail from Study Hours**"
      ],
      "metadata": {
        "id": "mxigl67ir04v"
      }
    },
    {
      "cell_type": "code",
      "source": [
        "# Step 1: Import Libraries\n",
        "\n",
        "import numpy as np\n",
        "import pandas as pd\n",
        "import matplotlib.pyplot as plt\n",
        "from sklearn.linear_model import LogisticRegression\n",
        "from sklearn.metrics import confusion_matrix, classification_report, roc_auc_score, roc_curve"
      ],
      "metadata": {
        "id": "WPIA_phGryfK"
      },
      "execution_count": null,
      "outputs": []
    },
    {
      "cell_type": "code",
      "source": [
        "# Step 2: Create Dataset\n",
        "\n",
        "# Hours studied (X) and whether student passed (y)\n",
        "data = {\n",
        "    \"Hours\": [1, 2, 3, 4, 5, 6, 7, 8, 9, 10],\n",
        "    \"Pass\":  [0, 0, 0, 0, 1, 1, 1, 1, 1, 1]\n",
        "}\n",
        "df = pd.DataFrame(data)\n",
        "\n",
        "X = df[[\"Hours\"]]   # Independent variable (2D array)\n",
        "y = df[\"Pass\"]      # Dependent variable\n"
      ],
      "metadata": {
        "id": "4X1IYqMur9zQ"
      },
      "execution_count": null,
      "outputs": []
    },
    {
      "cell_type": "code",
      "source": [
        "# Step 3: Train Logistic Regression\n",
        "\n",
        "model = LogisticRegression()\n",
        "model.fit(X, y)\n",
        "\n",
        "print(\"Intercept (β0):\", model.intercept_)\n",
        "print(\"Coefficient (β1):\", model.coef_)"
      ],
      "metadata": {
        "id": "MZql18A-sED3",
        "outputId": "7f7d5b28-0b0a-436c-e6a2-b59d738c2c95",
        "colab": {
          "base_uri": "https://localhost:8080/"
        }
      },
      "execution_count": null,
      "outputs": [
        {
          "output_type": "stream",
          "name": "stdout",
          "text": [
            "Intercept (β0): [-5.31167434]\n",
            "Coefficient (β1): [[1.18194943]]\n"
          ]
        }
      ]
    },
    {
      "cell_type": "code",
      "source": [
        "# Step 4: Predictions\n",
        "\n",
        "y_pred = model.predict(X)           # Predicted labels\n",
        "y_prob = model.predict_proba(X)[:,1]  # Predicted probabilities\n",
        "\n",
        "print(\"Predicted labels:\", y_pred)\n",
        "print(\"Predicted probabilities:\", y_prob)\n",
        "\n",
        "# Predict for a new student who studied 4.5 hours\n",
        "print(\"Pass probability for 4.5 hours study:\", model.predict_proba([[4.5]])[0][1])"
      ],
      "metadata": {
        "id": "RYFmibLHsKTQ",
        "outputId": "209ef065-f13f-410d-b021-b387a07de11a",
        "colab": {
          "base_uri": "https://localhost:8080/"
        }
      },
      "execution_count": null,
      "outputs": [
        {
          "output_type": "stream",
          "name": "stdout",
          "text": [
            "Predicted labels: [0 0 0 0 1 1 1 1 1 1]\n",
            "Predicted probabilities: [0.0158326  0.04984175 0.14606217 0.35804107 0.64521527 0.85569961\n",
            " 0.95082626 0.98438709 0.99515943 0.99851049]\n",
            "Pass probability for 4.5 hours study: 0.5017745155108062\n"
          ]
        },
        {
          "output_type": "stream",
          "name": "stderr",
          "text": [
            "/usr/local/lib/python3.12/dist-packages/sklearn/utils/validation.py:2739: UserWarning: X does not have valid feature names, but LogisticRegression was fitted with feature names\n",
            "  warnings.warn(\n"
          ]
        }
      ]
    },
    {
      "cell_type": "code",
      "source": [
        "# Step 5: Evaluate Model\n",
        "\n",
        "print(\"Confusion Matrix:\\n\", confusion_matrix(y, y_pred))\n",
        "print(\"\\nClassification Report:\\n\", classification_report(y, y_pred))\n",
        "print(\"ROC-AUC Score:\", roc_auc_score(y, y_prob))"
      ],
      "metadata": {
        "id": "ItYOy7EKs6GR",
        "outputId": "4a5dbfaf-a606-4b8d-f768-e323abaea94c",
        "colab": {
          "base_uri": "https://localhost:8080/"
        }
      },
      "execution_count": null,
      "outputs": [
        {
          "output_type": "stream",
          "name": "stdout",
          "text": [
            "Confusion Matrix:\n",
            " [[4 0]\n",
            " [0 6]]\n",
            "\n",
            "Classification Report:\n",
            "               precision    recall  f1-score   support\n",
            "\n",
            "           0       1.00      1.00      1.00         4\n",
            "           1       1.00      1.00      1.00         6\n",
            "\n",
            "    accuracy                           1.00        10\n",
            "   macro avg       1.00      1.00      1.00        10\n",
            "weighted avg       1.00      1.00      1.00        10\n",
            "\n",
            "ROC-AUC Score: 1.0\n"
          ]
        }
      ]
    },
    {
      "cell_type": "code",
      "source": [
        "# Step 6: Visualization\n",
        "\n",
        "# Scatter actual data\n",
        "plt.scatter(X, y, color=\"blue\", label=\"Actual data\")\n",
        "\n",
        "# Plot sigmoid curve\n",
        "X_test = np.linspace(0, 10, 100).reshape(-1, 1)\n",
        "y_prob_test = model.predict_proba(X_test)[:,1]\n",
        "plt.plot(X_test, y_prob_test, color=\"red\", linewidth=2, label=\"Sigmoid curve\")\n",
        "\n",
        "plt.xlabel(\"Hours Studied\")\n",
        "plt.ylabel(\"Pass Probability\")\n",
        "plt.title(\"Logistic Regression: Study Hours vs Pass/Fail\")\n",
        "plt.legend()\n",
        "plt.show()\n",
        "\n",
        "# ROC Curve\n",
        "fpr, tpr, _ = roc_curve(y, y_prob)\n",
        "plt.plot(fpr, tpr, label=\"ROC curve\")\n",
        "plt.plot([0,1],[0,1],'--', color='gray')  # random guess line\n",
        "plt.xlabel(\"False Positive Rate\")\n",
        "plt.ylabel(\"True Positive Rate (Recall)\")\n",
        "plt.title(\"ROC Curve\")\n",
        "plt.legend()\n",
        "plt.show()\n"
      ],
      "metadata": {
        "id": "CxHj1KK9tBeH",
        "outputId": "1d31c973-d55c-4c91-cf0c-c72132192b76",
        "colab": {
          "base_uri": "https://localhost:8080/",
          "height": 982
        }
      },
      "execution_count": null,
      "outputs": [
        {
          "output_type": "stream",
          "name": "stderr",
          "text": [
            "/usr/local/lib/python3.12/dist-packages/sklearn/utils/validation.py:2739: UserWarning: X does not have valid feature names, but LogisticRegression was fitted with feature names\n",
            "  warnings.warn(\n"
          ]
        },
        {
          "output_type": "display_data",
          "data": {
            "text/plain": [
              "<Figure size 640x480 with 1 Axes>"
            ],
            "image/png": "[encoded data removed]"
          },
          "metadata": {}
        },
        {
          "output_type": "display_data",
          "data": {
            "text/plain": [
              "<Figure size 640x480 with 1 Axes>"
            ],
            "image/png": "[encoded data removed]"
          },
          "metadata": {}
        }
      ]
    }
  ],
  "metadata": {
    "application/vnd.databricks.v1+notebook": {
      "computePreferences": null,
      "dashboards": [],
      "environmentMetadata": {
        "base_environment": "",
        "environment_version": "3"
      },
      "inputWidgetPreferences": null,
      "language": "python",
      "notebookMetadata": {
        "pythonIndentUnit": 4
      },
      "notebookName": "DataScience_Model",
      "widgets": {}
    },
    "language_info": {
      "name": "python"
    },
    "colab": {
      "provenance": []
    },
    "kernelspec": {
      "name": "python3",
      "display_name": "Python 3"
    }
  },
  "nbformat": 4,
  "nbformat_minor": 0
}