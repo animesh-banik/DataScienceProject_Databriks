{
  "nbformat": 4,
  "nbformat_minor": 0,
  "metadata": {
    "colab": {
      "provenance": [],
      "authorship_tag": "ABX9TyOcBuzuJDMyM1h8/KqK/B6m",
      "include_colab_link": true
    },
    "kernelspec": {
      "name": "python3",
      "display_name": "Python 3"
    },
    "language_info": {
      "name": "python"
    }
  },
  "cells": [
    {
      "cell_type": "markdown",
      "metadata": {
        "id": "view-in-github",
        "colab_type": "text"
      },
      "source": [
        "<a href=\"https://colab.research.google.com/github/animesh-banik/DataScienceProject_Databriks/blob/Google_Colub/SQL.ipynb\" target=\"_parent\"><img src=\"https://colab.research.google.com/assets/colab-badge.svg\" alt=\"Open In Colab\"/></a>"
      ]
    },
    {
      "cell_type": "markdown",
      "source": [
        "**Install MySQL**"
      ],
      "metadata": {
        "id": "NYsduWg_2lvU"
      }
    },
    {
      "cell_type": "code",
      "execution_count": 6,
      "metadata": {
        "colab": {
          "base_uri": "https://localhost:8080/"
        },
        "collapsed": true,
        "id": "BXr-8hDAxvfa",
        "outputId": "9b41f8fa-74bf-4608-91db-e1fad51ac2ea"
      },
      "outputs": [
        {
          "output_type": "stream",
          "name": "stdout",
          "text": [
            "Hit:1 https://cli.github.com/packages stable InRelease\n",
            "Hit:2 https://cloud.r-project.org/bin/linux/ubuntu jammy-cran40/ InRelease\n",
            "Hit:3 https://developer.download.nvidia.com/compute/cuda/repos/ubuntu2204/x86_64  InRelease\n",
            "Hit:4 http://security.ubuntu.com/ubuntu jammy-security InRelease\n",
            "Hit:5 http://archive.ubuntu.com/ubuntu jammy InRelease\n",
            "Hit:6 https://r2u.stat.illinois.edu/ubuntu jammy InRelease\n",
            "Hit:7 http://archive.ubuntu.com/ubuntu jammy-updates InRelease\n",
            "Hit:8 http://archive.ubuntu.com/ubuntu jammy-backports InRelease\n",
            "Hit:9 https://ppa.launchpadcontent.net/deadsnakes/ppa/ubuntu jammy InRelease\n",
            "Hit:10 https://ppa.launchpadcontent.net/graphics-drivers/ppa/ubuntu jammy InRelease\n",
            "Hit:11 https://ppa.launchpadcontent.net/ubuntugis/ppa/ubuntu jammy InRelease\n",
            "Reading package lists...\n",
            "W: Skipping acquire of configured file 'main/source/Sources' as repository 'https://r2u.stat.illinois.edu/ubuntu jammy InRelease' does not seem to provide it (sources.list entry misspelt?)\n",
            "Reading package lists... Done\n",
            "Building dependency tree... Done\n",
            "Reading state information... Done\n",
            "mysql-server is already the newest version (8.0.43-0ubuntu0.22.04.1).\n",
            "0 upgraded, 0 newly installed, 0 to remove and 45 not upgraded.\n"
          ]
        }
      ],
      "source": [
        "# Install MySQL server\n",
        "!apt-get update -q\n",
        "!apt-get install -y mysql-server"
      ]
    },
    {
      "cell_type": "markdown",
      "source": [
        "**Start MySQL**"
      ],
      "metadata": {
        "id": "iVMSImSU2xRK"
      }
    },
    {
      "cell_type": "code",
      "source": [
        "!service mysql start"
      ],
      "metadata": {
        "colab": {
          "base_uri": "https://localhost:8080/"
        },
        "id": "b9bLRhY6y9qD",
        "outputId": "f245d2c1-45a4-4fd2-dadd-df1fb8c1927d"
      },
      "execution_count": 7,
      "outputs": [
        {
          "output_type": "stream",
          "name": "stdout",
          "text": [
            " * Starting MySQL database server mysqld\n",
            "   ...done.\n"
          ]
        }
      ]
    },
    {
      "cell_type": "markdown",
      "source": [
        "**Version of MySQL**"
      ],
      "metadata": {
        "id": "nB5ftCI38Dgb"
      }
    },
    {
      "cell_type": "code",
      "source": [
        "!mysql -uroot -proot -e \"SELECT VERSION();\""
      ],
      "metadata": {
        "colab": {
          "base_uri": "https://localhost:8080/"
        },
        "id": "uvv1rWZY1HX-",
        "outputId": "67590ce7-0f23-419d-ccda-f77fb6fdfee4"
      },
      "execution_count": 8,
      "outputs": [
        {
          "output_type": "stream",
          "name": "stdout",
          "text": [
            "mysql: [Warning] Using a password on the command line interface can be insecure.\n",
            "+-------------------------+\n",
            "| VERSION()               |\n",
            "+-------------------------+\n",
            "| 8.0.43-0ubuntu0.22.04.1 |\n",
            "+-------------------------+\n"
          ]
        }
      ]
    },
    {
      "cell_type": "markdown",
      "source": [
        "**Create Data Base WithName test1db**"
      ],
      "metadata": {
        "id": "ua7DnxZ38Zh5"
      }
    },
    {
      "cell_type": "code",
      "source": [
        "!mysql -uroot -proot -e \"CREATE DATABASE test1db;\""
      ],
      "metadata": {
        "colab": {
          "base_uri": "https://localhost:8080/"
        },
        "id": "q-MqCnlg12Ni",
        "outputId": "d3e33161-244f-4ec3-b037-98c08f6b16aa"
      },
      "execution_count": 13,
      "outputs": [
        {
          "output_type": "stream",
          "name": "stdout",
          "text": [
            "mysql: [Warning] Using a password on the command line interface can be insecure.\n"
          ]
        }
      ]
    },
    {
      "cell_type": "markdown",
      "source": [
        "**Show Data Bases**"
      ],
      "metadata": {
        "id": "Oe9gQoWJ8hJo"
      }
    },
    {
      "cell_type": "code",
      "source": [
        "!mysql -uroot -proot -e \"SHOW DATABASES;\""
      ],
      "metadata": {
        "colab": {
          "base_uri": "https://localhost:8080/"
        },
        "id": "gPHypaK12CfB",
        "outputId": "d8ffc913-f028-4931-8967-84cfc7492053"
      },
      "execution_count": 14,
      "outputs": [
        {
          "output_type": "stream",
          "name": "stdout",
          "text": [
            "mysql: [Warning] Using a password on the command line interface can be insecure.\n",
            "+--------------------+\n",
            "| Database           |\n",
            "+--------------------+\n",
            "| information_schema |\n",
            "| mysql              |\n",
            "| performance_schema |\n",
            "| sys                |\n",
            "| test1db            |\n",
            "| testdb             |\n",
            "+--------------------+\n"
          ]
        }
      ]
    },
    {
      "cell_type": "markdown",
      "source": [
        "**Create a Table in test database**"
      ],
      "metadata": {
        "id": "_ygsSYxW8vDY"
      }
    },
    {
      "cell_type": "code",
      "source": [
        "!mysql -uroot -proot -e \"USE testdb; CREATE TABLE users(id INT AUTO_INCREMENT PRIMARY KEY, name VARCHAR(50));\""
      ],
      "metadata": {
        "colab": {
          "base_uri": "https://localhost:8080/"
        },
        "id": "Xiue4JBk2YSS",
        "outputId": "fb571010-52a1-429b-ca3e-d72e49625eae"
      },
      "execution_count": 15,
      "outputs": [
        {
          "output_type": "stream",
          "name": "stdout",
          "text": [
            "mysql: [Warning] Using a password on the command line interface can be insecure.\n"
          ]
        }
      ]
    },
    {
      "cell_type": "markdown",
      "source": [
        "**InSert Value in data Bases**"
      ],
      "metadata": {
        "id": "4Fz43dEY823J"
      }
    },
    {
      "cell_type": "code",
      "source": [
        "!mysql -uroot -proot -e \"USE testdb; INSERT INTO users(name) VALUES('Animesh');\""
      ],
      "metadata": {
        "colab": {
          "base_uri": "https://localhost:8080/"
        },
        "id": "OaxlW1EO2cOp",
        "outputId": "95ea1d1b-502a-4020-dfd1-d099a4097dc2"
      },
      "execution_count": 16,
      "outputs": [
        {
          "output_type": "stream",
          "name": "stdout",
          "text": [
            "mysql: [Warning] Using a password on the command line interface can be insecure.\n"
          ]
        }
      ]
    },
    {
      "cell_type": "markdown",
      "source": [
        "**Show Table Values**"
      ],
      "metadata": {
        "id": "dEb9zExZ8-SB"
      }
    },
    {
      "cell_type": "code",
      "source": [
        "!mysql -uroot -proot -e \"USE testdb; SELECT * FROM users;\""
      ],
      "metadata": {
        "colab": {
          "base_uri": "https://localhost:8080/"
        },
        "id": "QYX863e32euZ",
        "outputId": "4b25afff-20c7-4fdd-fe90-a12ba887ac84"
      },
      "execution_count": 17,
      "outputs": [
        {
          "output_type": "stream",
          "name": "stdout",
          "text": [
            "mysql: [Warning] Using a password on the command line interface can be insecure.\n",
            "+----+---------+\n",
            "| id | name    |\n",
            "+----+---------+\n",
            "|  1 | Animesh |\n",
            "+----+---------+\n"
          ]
        }
      ]
    }
  ]
}