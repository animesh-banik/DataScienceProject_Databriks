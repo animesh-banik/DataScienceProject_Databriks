{
  "nbformat": 4,
  "nbformat_minor": 0,
  "metadata": {
    "colab": {
      "provenance": [],
      "authorship_tag": "ABX9TyPb82/bow64G+rfMyBHew8G",
      "include_colab_link": true
    },
    "kernelspec": {
      "name": "python3",
      "display_name": "Python 3"
    },
    "language_info": {
      "name": "python"
    }
  },
  "cells": [
    {
      "cell_type": "markdown",
      "metadata": {
        "id": "view-in-github",
        "colab_type": "text"
      },
      "source": [
        "<a href=\"https://colab.research.google.com/github/animesh-banik/DataScienceProject_Databriks/blob/main/SQL.ipynb\" target=\"_parent\"><img src=\"https://colab.research.google.com/assets/colab-badge.svg\" alt=\"Open In Colab\"/></a>"
      ]
    },
    {
      "cell_type": "markdown",
      "source": [
        "**Install MySQL**"
      ],
      "metadata": {
        "id": "NYsduWg_2lvU"
      }
    },
    {
      "cell_type": "code",
      "execution_count": 6,
      "metadata": {
        "colab": {
          "base_uri": "https://localhost:8080/"
        },
        "collapsed": true,
        "id": "BXr-8hDAxvfa",
        "outputId": "9b41f8fa-74bf-4608-91db-e1fad51ac2ea"
      },
      "outputs": [
        {
          "output_type": "stream",
          "name": "stdout",
          "text": [
            "Hit:1 https://cli.github.com/packages stable InRelease\n",
            "Hit:2 https://cloud.r-project.org/bin/linux/ubuntu jammy-cran40/ InRelease\n",
            "Hit:3 https://developer.download.nvidia.com/compute/cuda/repos/ubuntu2204/x86_64  InRelease\n",
            "Hit:4 http://security.ubuntu.com/ubuntu jammy-security InRelease\n",
            "Hit:5 http://archive.ubuntu.com/ubuntu jammy InRelease\n",
            "Hit:6 https://r2u.stat.illinois.edu/ubuntu jammy InRelease\n",
            "Hit:7 http://archive.ubuntu.com/ubuntu jammy-updates InRelease\n",
            "Hit:8 http://archive.ubuntu.com/ubuntu jammy-backports InRelease\n",
            "Hit:9 https://ppa.launchpadcontent.net/deadsnakes/ppa/ubuntu jammy InRelease\n",
            "Hit:10 https://ppa.launchpadcontent.net/graphics-drivers/ppa/ubuntu jammy InRelease\n",
            "Hit:11 https://ppa.launchpadcontent.net/ubuntugis/ppa/ubuntu jammy InRelease\n",
            "Reading package lists...\n",
            "W: Skipping acquire of configured file 'main/source/Sources' as repository 'https://r2u.stat.illinois.edu/ubuntu jammy InRelease' does not seem to provide it (sources.list entry misspelt?)\n",
            "Reading package lists... Done\n",
            "Building dependency tree... Done\n",
            "Reading state information... Done\n",
            "mysql-server is already the newest version (8.0.43-0ubuntu0.22.04.1).\n",
            "0 upgraded, 0 newly installed, 0 to remove and 45 not upgraded.\n"
          ]
        }
      ],
      "source": [
        "# Install MySQL server\n",
        "!apt-get update -q\n",
        "!apt-get install -y mysql-server"
      ]
    },
    {
      "cell_type": "markdown",
      "source": [
        "**Start MySQL**"
      ],
      "metadata": {
        "id": "iVMSImSU2xRK"
      }
    },
    {
      "cell_type": "code",
      "source": [
        "!service mysql start"
      ],
      "metadata": {
        "colab": {
          "base_uri": "https://localhost:8080/"
        },
        "id": "b9bLRhY6y9qD",
        "outputId": "f245d2c1-45a4-4fd2-dadd-df1fb8c1927d"
      },
      "execution_count": 7,
      "outputs": [
        {
          "output_type": "stream",
          "name": "stdout",
          "text": [
            " * Starting MySQL database server mysqld\n",
            "   ...done.\n"
          ]
        }
      ]
    },
    {
      "cell_type": "markdown",
      "source": [
        "**Version of MySQL**"
      ],
      "metadata": {
        "id": "nB5ftCI38Dgb"
      }
    },
    {
      "cell_type": "code",
      "source": [
        "!mysql -uroot -proot -e \"SELECT VERSION();\""
      ],
      "metadata": {
        "colab": {
          "base_uri": "https://localhost:8080/"
        },
        "id": "uvv1rWZY1HX-",
        "outputId": "67590ce7-0f23-419d-ccda-f77fb6fdfee4"
      },
      "execution_count": 8,
      "outputs": [
        {
          "output_type": "stream",
          "name": "stdout",
          "text": [
            "mysql: [Warning] Using a password on the command line interface can be insecure.\n",
            "+-------------------------+\n",
            "| VERSION()               |\n",
            "+-------------------------+\n",
            "| 8.0.43-0ubuntu0.22.04.1 |\n",
            "+-------------------------+\n"
          ]
        }
      ]
    },
    {
      "cell_type": "markdown",
      "source": [
        "**Create Data Base WithName test1db**"
      ],
      "metadata": {
        "id": "ua7DnxZ38Zh5"
      }
    },
    {
      "cell_type": "code",
      "source": [
        "!mysql -uroot -proot -e \"CREATE DATABASE test1db;\""
      ],
      "metadata": {
        "colab": {
          "base_uri": "https://localhost:8080/"
        },
        "id": "q-MqCnlg12Ni",
        "outputId": "d3e33161-244f-4ec3-b037-98c08f6b16aa"
      },
      "execution_count": 13,
      "outputs": [
        {
          "output_type": "stream",
          "name": "stdout",
          "text": [
            "mysql: [Warning] Using a password on the command line interface can be insecure.\n"
          ]
        }
      ]
    },
    {
      "cell_type": "markdown",
      "source": [
        "**Show Data Bases**"
      ],
      "metadata": {
        "id": "Oe9gQoWJ8hJo"
      }
    },
    {
      "cell_type": "code",
      "source": [
        "!mysql -uroot -proot -e \"SHOW DATABASES;\""
      ],
      "metadata": {
        "colab": {
          "base_uri": "https://localhost:8080/"
        },
        "id": "gPHypaK12CfB",
        "outputId": "d8ffc913-f028-4931-8967-84cfc7492053"
      },
      "execution_count": 14,
      "outputs": [
        {
          "output_type": "stream",
          "name": "stdout",
          "text": [
            "mysql: [Warning] Using a password on the command line interface can be insecure.\n",
            "+--------------------+\n",
            "| Database           |\n",
            "+--------------------+\n",
            "| information_schema |\n",
            "| mysql              |\n",
            "| performance_schema |\n",
            "| sys                |\n",
            "| test1db            |\n",
            "| testdb             |\n",
            "+--------------------+\n"
          ]
        }
      ]
    },
    {
      "cell_type": "markdown",
      "source": [
        "**Create a Table in test database**"
      ],
      "metadata": {
        "id": "_ygsSYxW8vDY"
      }
    },
    {
      "cell_type": "code",
      "source": [
        "!mysql -uroot -proot -e \"USE testdb; CREATE TABLE users(id INT AUTO_INCREMENT PRIMARY KEY, name VARCHAR(50));\""
      ],
      "metadata": {
        "colab": {
          "base_uri": "https://localhost:8080/"
        },
        "id": "Xiue4JBk2YSS",
        "outputId": "fb571010-52a1-429b-ca3e-d72e49625eae"
      },
      "execution_count": 15,
      "outputs": [
        {
          "output_type": "stream",
          "name": "stdout",
          "text": [
            "mysql: [Warning] Using a password on the command line interface can be insecure.\n"
          ]
        }
      ]
    },
    {
      "cell_type": "markdown",
      "source": [
        "**InSert Value in data Bases**"
      ],
      "metadata": {
        "id": "4Fz43dEY823J"
      }
    },
    {
      "cell_type": "code",
      "source": [
        "!mysql -uroot -proot -e \"USE testdb; INSERT INTO users(name) VALUES('Animesh');\""
      ],
      "metadata": {
        "colab": {
          "base_uri": "https://localhost:8080/"
        },
        "id": "OaxlW1EO2cOp",
        "outputId": "95ea1d1b-502a-4020-dfd1-d099a4097dc2"
      },
      "execution_count": 16,
      "outputs": [
        {
          "output_type": "stream",
          "name": "stdout",
          "text": [
            "mysql: [Warning] Using a password on the command line interface can be insecure.\n"
          ]
        }
      ]
    },
    {
      "cell_type": "markdown",
      "source": [
        "**Show Table Values**"
      ],
      "metadata": {
        "id": "dEb9zExZ8-SB"
      }
    },
    {
      "cell_type": "code",
      "source": [
        "!mysql -uroot -proot -e \"USE testdb; SELECT * FROM users;\""
      ],
      "metadata": {
        "colab": {
          "base_uri": "https://localhost:8080/"
        },
        "id": "QYX863e32euZ",
        "outputId": "b8061b36-f8dc-4049-a457-b05d9d57d1b7"
      },
      "execution_count": 21,
      "outputs": [
        {
          "output_type": "stream",
          "name": "stdout",
          "text": [
            "mysql: [Warning] Using a password on the command line interface can be insecure.\n",
            "+----+---------+\n",
            "| id | name    |\n",
            "+----+---------+\n",
            "|  1 | Animesh |\n",
            "+----+---------+\n"
          ]
        }
      ]
    },
    {
      "cell_type": "markdown",
      "source": [
        "**Create Employee Table **"
      ],
      "metadata": {
        "id": "aK1jNybBBqVC"
      }
    },
    {
      "cell_type": "code",
      "source": [
        "!mysql -uroot -proot -e \"USE testdb; CREATE TABLE employees ( \\\n",
        "    id INT PRIMARY KEY AUTO_INCREMENT,\\\n",
        "    first_name VARCHAR(50) NOT NULL,\\\n",
        "    last_name VARCHAR(50) NOT NULL,\\\n",
        "    email VARCHAR(100) UNIQUE,\\\n",
        "    phone VARCHAR(15),\\\n",
        "    hire_date DATE,\\\n",
        "    salary DECIMAL(10,2),\\\n",
        "    department_id INT,\\\n",
        "    manager_id INT,\\\n",
        "    is_active BOOLEAN DEFAULT TRUE,\\\n",
        "    created_at TIMESTAMP DEFAULT CURRENT_TIMESTAMP\\\n",
        "    );\"\n"
      ],
      "metadata": {
        "colab": {
          "base_uri": "https://localhost:8080/"
        },
        "id": "bkcJzP91_nJP",
        "outputId": "419898da-a73e-488f-c83c-6c6ae65a9613"
      },
      "execution_count": 19,
      "outputs": [
        {
          "output_type": "stream",
          "name": "stdout",
          "text": [
            "mysql: [Warning] Using a password on the command line interface can be insecure.\n"
          ]
        }
      ]
    },
    {
      "cell_type": "markdown",
      "source": [
        "**Insert values in Employee Table**"
      ],
      "metadata": {
        "id": "wentLrcqCyx7"
      }
    },
    {
      "cell_type": "code",
      "source": [
        "!mysql -uroot -proot -e \"USE testdb; INSERT INTO employees \\\n",
        "(first_name, last_name, email, salary, department_id) \\\n",
        "VALUES('John', 'Doe', 'john.doe@company.com', 65000, 1);\"\n"
      ],
      "metadata": {
        "colab": {
          "base_uri": "https://localhost:8080/"
        },
        "id": "Oybfcl-sA46Y",
        "outputId": "3d570eba-50bf-4557-8269-32b4c328011a"
      },
      "execution_count": 27,
      "outputs": [
        {
          "output_type": "stream",
          "name": "stdout",
          "text": [
            "mysql: [Warning] Using a password on the command line interface can be insecure.\n"
          ]
        }
      ]
    },
    {
      "cell_type": "markdown",
      "source": [
        "**Show the value in Employee Table**"
      ],
      "metadata": {
        "id": "YuWdsz_DC5qY"
      }
    },
    {
      "cell_type": "code",
      "source": [
        "!mysql -uroot -proot -e \"USE testdb; SELECT * FROM employees;\""
      ],
      "metadata": {
        "colab": {
          "base_uri": "https://localhost:8080/"
        },
        "id": "qaLMHhSPBl4Y",
        "outputId": "e1a91e61-d230-4250-9cd3-145bb351982a"
      },
      "execution_count": 32,
      "outputs": [
        {
          "output_type": "stream",
          "name": "stdout",
          "text": [
            "mysql: [Warning] Using a password on the command line interface can be insecure.\n",
            "+----+------------+-----------+-------------------------+-------+-----------+----------+---------------+------------+-----------+---------------------+\n",
            "| id | first_name | last_name | email                   | phone | hire_date | salary   | department_id | manager_id | is_active | created_at          |\n",
            "+----+------------+-----------+-------------------------+-------+-----------+----------+---------------+------------+-----------+---------------------+\n",
            "|  1 | John       | Doe       | john.doe@company.com    | NULL  | NULL      | 65000.00 |             1 |       NULL |         1 | 2025-09-11 18:25:12 |\n",
            "|  2 | Jane       | Smith     | jane.smith@company.com  | NULL  | NULL      | 70000.00 |             2 |       NULL |         1 | 2025-09-11 18:33:47 |\n",
            "|  3 | Bob        | Johnson   | bob.johnson@company.com | NULL  | NULL      | 55000.00 |             1 |       NULL |         1 | 2025-09-11 18:33:47 |\n",
            "|  4 | Alice      | Brown     | alice.brown@company.com | NULL  | NULL      | 80000.00 |             3 |       NULL |         1 | 2025-09-11 18:33:47 |\n",
            "+----+------------+-----------+-------------------------+-------+-----------+----------+---------------+------------+-----------+---------------------+\n"
          ]
        }
      ]
    },
    {
      "cell_type": "markdown",
      "source": [
        "**Insert Multiple row**"
      ],
      "metadata": {
        "id": "Cf_vnBrJDFfg"
      }
    },
    {
      "cell_type": "code",
      "source": [
        "!mysql -uroot -proot -e \"USE testdb; INSERT INTO employees \\\n",
        "(first_name, last_name, email, salary, department_id) VALUES \\\n",
        "('Jane', 'Smith', 'jane.smith@company.com', 70000, 2), \\\n",
        "('Bob', 'Johnson', 'bob.johnson@company.com', 55000, 1), \\\n",
        "('Alice', 'Brown', 'alice.brown@company.com', 80000, 3); \"\n",
        "\n"
      ],
      "metadata": {
        "colab": {
          "base_uri": "https://localhost:8080/"
        },
        "id": "RIDqE3GnDPvY",
        "outputId": "62c92448-30ba-465d-d23f-1c00c59f6ffe"
      },
      "execution_count": 31,
      "outputs": [
        {
          "output_type": "stream",
          "name": "stdout",
          "text": [
            "mysql: [Warning] Using a password on the command line interface can be insecure.\n"
          ]
        }
      ]
    },
    {
      "cell_type": "code",
      "source": [
        "!mysql -uroot -proot -e \"USE testdb; \\\n",
        "SELECT * FROM employees;\""
      ],
      "metadata": {
        "colab": {
          "base_uri": "https://localhost:8080/"
        },
        "id": "DAyXyrsfDpYg",
        "outputId": "d1401b49-22be-431e-b238-23005b1ae178"
      },
      "execution_count": 34,
      "outputs": [
        {
          "output_type": "stream",
          "name": "stdout",
          "text": [
            "mysql: [Warning] Using a password on the command line interface can be insecure.\n",
            "+----+------------+-----------+-------------------------+-------+-----------+----------+---------------+------------+-----------+---------------------+\n",
            "| id | first_name | last_name | email                   | phone | hire_date | salary   | department_id | manager_id | is_active | created_at          |\n",
            "+----+------------+-----------+-------------------------+-------+-----------+----------+---------------+------------+-----------+---------------------+\n",
            "|  1 | John       | Doe       | john.doe@company.com    | NULL  | NULL      | 65000.00 |             1 |       NULL |         1 | 2025-09-11 18:25:12 |\n",
            "|  2 | Jane       | Smith     | jane.smith@company.com  | NULL  | NULL      | 70000.00 |             2 |       NULL |         1 | 2025-09-11 18:33:47 |\n",
            "|  3 | Bob        | Johnson   | bob.johnson@company.com | NULL  | NULL      | 55000.00 |             1 |       NULL |         1 | 2025-09-11 18:33:47 |\n",
            "|  4 | Alice      | Brown     | alice.brown@company.com | NULL  | NULL      | 80000.00 |             3 |       NULL |         1 | 2025-09-11 18:33:47 |\n",
            "+----+------------+-----------+-------------------------+-------+-----------+----------+---------------+------------+-----------+---------------------+\n"
          ]
        }
      ]
    },
    {
      "cell_type": "markdown",
      "source": [
        "**Update Command**\n",
        "\n",
        "Modify existing data.\n"
      ],
      "metadata": {
        "id": "xEqPOv8nDyXH"
      }
    },
    {
      "cell_type": "code",
      "source": [
        "!mysql -uroot -proot -e \"USE testdb; \\\n",
        "UPDATE employees SET salary = 75000 WHERE id = 1;\""
      ],
      "metadata": {
        "colab": {
          "base_uri": "https://localhost:8080/"
        },
        "id": "F2LNAcB4D1Tg",
        "outputId": "83e27b2c-d4bb-4a40-b66f-d1a34f3ab137"
      },
      "execution_count": 35,
      "outputs": [
        {
          "output_type": "stream",
          "name": "stdout",
          "text": [
            "mysql: [Warning] Using a password on the command line interface can be insecure.\n"
          ]
        }
      ]
    },
    {
      "cell_type": "code",
      "source": [
        "!mysql -uroot -proot -e \"USE testdb; \\\n",
        "SELECT * FROM employees;\""
      ],
      "metadata": {
        "colab": {
          "base_uri": "https://localhost:8080/"
        },
        "id": "zlca4X69EI5w",
        "outputId": "aa91c30c-df09-42c0-f2e0-1f5f8d08a8cd"
      },
      "execution_count": 36,
      "outputs": [
        {
          "output_type": "stream",
          "name": "stdout",
          "text": [
            "mysql: [Warning] Using a password on the command line interface can be insecure.\n",
            "+----+------------+-----------+-------------------------+-------+-----------+----------+---------------+------------+-----------+---------------------+\n",
            "| id | first_name | last_name | email                   | phone | hire_date | salary   | department_id | manager_id | is_active | created_at          |\n",
            "+----+------------+-----------+-------------------------+-------+-----------+----------+---------------+------------+-----------+---------------------+\n",
            "|  1 | John       | Doe       | john.doe@company.com    | NULL  | NULL      | 75000.00 |             1 |       NULL |         1 | 2025-09-11 18:25:12 |\n",
            "|  2 | Jane       | Smith     | jane.smith@company.com  | NULL  | NULL      | 70000.00 |             2 |       NULL |         1 | 2025-09-11 18:33:47 |\n",
            "|  3 | Bob        | Johnson   | bob.johnson@company.com | NULL  | NULL      | 55000.00 |             1 |       NULL |         1 | 2025-09-11 18:33:47 |\n",
            "|  4 | Alice      | Brown     | alice.brown@company.com | NULL  | NULL      | 80000.00 |             3 |       NULL |         1 | 2025-09-11 18:33:47 |\n",
            "+----+------------+-----------+-------------------------+-------+-----------+----------+---------------+------------+-----------+---------------------+\n"
          ]
        }
      ]
    }
  ]
}