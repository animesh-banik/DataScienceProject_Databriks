{
  "nbformat": 4,
  "nbformat_minor": 0,
  "metadata": {
    "colab": {
      "provenance": [],
      "authorship_tag": "ABX9TyOA3KfJ0XhdNY4N+1xZiOSO",
      "include_colab_link": true
    },
    "kernelspec": {
      "name": "python3",
      "display_name": "Python 3"
    },
    "language_info": {
      "name": "python"
    }
  },
  "cells": [
    {
      "cell_type": "markdown",
      "metadata": {
        "id": "view-in-github",
        "colab_type": "text"
      },
      "source": [
        "<a href=\"https://colab.research.google.com/github/animesh-banik/DataScienceProject_Databriks/blob/Google_Colub/SQL.ipynb\" target=\"_parent\"><img src=\"https://colab.research.google.com/assets/colab-badge.svg\" alt=\"Open In Colab\"/></a>"
      ]
    },
    {
      "cell_type": "markdown",
      "source": [
        "**Complete SQL**"
      ],
      "metadata": {
        "id": "kywFLqr3xFcp"
      }
    },
    {
      "cell_type": "markdown",
      "source": [
        "**SQL**\n",
        "\n",
        "is a standardized language for managing and manipulating relational databases. It allows you to store, retrieve, update, and delete data in database systems.\n",
        "\n",
        "**Database**:\n",
        "\n",
        "A collection of related data organized in tables\n",
        "\n",
        "**Table:**\n",
        "\n",
        "A structure that organizes data in rows and columns\n",
        "\n",
        "**Row (Record):**\n",
        "\n",
        "A single instance of data in a table\n",
        "\n",
        "**Column (Field):**\n",
        "\n",
        "A specific attribute or property of the data\n",
        "\n",
        "**Primary Key:**\n",
        "\n",
        "A unique identifier for each row in a table\n",
        "\n",
        "**Foreign Key:**\n",
        "\n",
        "A field that links to the primary key of another table\n"
      ],
      "metadata": {
        "id": "SSpZEowKxMdi"
      }
    },
    {
      "cell_type": "markdown",
      "source": [
        "**Data Definition Language (DDL)**\n",
        "\n",
        "Data Definition Language (DDL) is a subset of SQL used to define, manage, and modify the structure of database objects such as: Databases,Tables,Indexes, Views,\n",
        "\n",
        "DDL Commands : CREATE, ALTER, DROP, TRUNCATE, RENAME,COMMENT\n",
        "\n",
        "**DML** is a subset of SQL used to manipulate or manage data stored in database tables.\n",
        "\n",
        "DDL Commands : SELECT, INSERT, UPDATE, DELETE, MERGE\n",
        "\n",
        "**DCL** is a subset of SQL used to control access and permissions to the database.\n",
        "\n",
        "DML  Commands : GRANT,REVOKE\n",
        "\n",
        "TCL is a subset of SQL used to manage transactions in a database.\n",
        "\n",
        "A transaction is a group of SQL operations executed as a single unit.\n",
        "\n",
        "**TCL**\n",
        "\n",
        "(Transaction Control Language)\n",
        "TCL is a subset of SQL used to manage transactions in a database to ensures that transactions are completed successfully or rolled back in case of an error, maintaining data integrity.\n",
        "\n",
        "A transaction is a group of SQL operations executed as a single unit.\n",
        "\n",
        "\n",
        "**TCL Commands** : COMMIT,ROLLBACK,SAVEPOINT,SET TRANSACTION\n",
        "\n"
      ],
      "metadata": {
        "id": "zx8OojnFyUsM"
      }
    },
    {
      "cell_type": "markdown",
      "source": [
        "**All the SQL command systax with example**\n",
        "\n",
        "**DDL**\n",
        "\n",
        "**CREATE** - Create a database, table, or index\n",
        "\n",
        "CREATE TABLE employees (id INT PRIMARY KEY, name VARCHAR(50), salary DECIMAL(10,2));\n",
        "\n",
        "**ALTER** - Modify an existing table\n",
        "\n",
        "ALTER TABLE employees ADD COLUMN department_id INT;\n",
        "\n",
        "**DROP** - Delete table or database\n",
        "\n",
        "DROP TABLE employees;\n",
        "\n",
        "**TRUNCATE** - Delete all rows but keep table\n",
        "\n",
        "TRUNCATE TABLE employees;\n",
        "\n",
        "**RENAME** - Rename table or object\n",
        "\n",
        "ALTER TABLE employees RENAME TO staff;\n",
        "\n",
        "**COMMENT**  - Add comments to table/columns\n",
        "\n",
        "COMMENT ON COLUMN employees.id IS 'Primary key';\n",
        "\n",
        "\n",
        "**DML**\n",
        "\n",
        "**SELECT** - Retrieve data\n",
        "\n",
        "SELECT * FROM employees;\n",
        "\n",
        "**INSERT** - Add new rows\n",
        "\n",
        "INSERT INTO employees (id, name, salary) VALUES (1, 'Alice', 5000);\n",
        "\n",
        "**UPDATE** - Modify existing rows\n",
        "\n",
        "UPDATE employees SET salary = 5500 WHERE id = 1;\n",
        "\n",
        "\n",
        "**DELETE** - Remove rows\n",
        "\n",
        "DELETE FROM employees WHERE id = 1;\n",
        "\n",
        "\n",
        "**MERGE** - Insert, update, or delete conditionally\n",
        "\n",
        "MERGE INTO employees USING temp_table ON employees.id = temp_table.id WHEN MATCHED THEN UPDATE SET salary = temp_table.salary WHEN NOT MATCHED THEN INSERT (id, name, salary) VALUES (temp_table.id, temp_table.name, temp_table.salary);\n",
        "\n",
        "**DCL**\n",
        "\n",
        "**GRANT**- Give privileges to users/roles\n",
        "\n",
        "GRANT SELECT, INSERT ON employees TO user1;\n",
        "\n",
        "**REVOKE**- Remove privileges\n",
        "\n",
        "REVOKE INSERT ON employees FROM user1;\n",
        "\n",
        "**TCL**\n",
        "\n",
        "**COMMIT** - Save all changes permanently\n",
        "\n",
        "COMMIT;\n",
        "\n",
        "***ROLLBACK*** - Undo changes in a transaction\n",
        "\n",
        "ROLLBACK;\n",
        "\n",
        "**SAVEPOINT**- Set a point to roll back to within a transaction\n",
        "\n",
        "SAVEPOINT sp1;\n"
      ],
      "metadata": {
        "id": "StT8KARM1mzL"
      }
    },
    {
      "cell_type": "markdown",
      "source": [
        "CREATE - CREATE TABLE employees (id INT PRIMARY KEY, name VARCHAR(50), salary DECIMAL(10,2));"
      ],
      "metadata": {
        "id": "gXaO11O917Nh"
      }
    },
    {
      "cell_type": "markdown",
      "source": [
        "**Clauses (used inside SELECT statements)**\n",
        "\n",
        "\n",
        "\n",
        "**WHERE** - Filter rows\n",
        "\n",
        "SELECT * FROM employees WHERE salary > 5000;\n",
        "\n",
        "**ORDER BY** - Sort results\n",
        "\n",
        "SELECT * FROM employees ORDER BY salary DESC;\n",
        "\n",
        "**GROUP BY** - Group rows\n",
        "\n",
        "SELECT department_id, AVG(salary) FROM employees GROUP BY department_id;\n",
        "\n",
        "**HAVING** - Filter groups\n",
        "\n",
        "SELECT department_id, COUNT(*) FROM employees GROUP BY department_id HAVING COUNT(*) > 5;\n",
        "\n",
        "**DISTINCT** -  Remove duplicates\n",
        "\n",
        "SELECT DISTINCT department_id FROM employees;\n",
        "\n",
        "\n",
        "**LIMIT / TOP** -Restrict rows\n",
        "\n",
        "SELECT * FROM employees LIMIT 5;\n",
        "\n",
        "\n",
        "\n",
        "\n"
      ],
      "metadata": {
        "id": "Bbs_1TZz-0A9"
      }
    },
    {
      "cell_type": "markdown",
      "source": [
        "**Functions & Operators Keywords**\n",
        "\n",
        "**COUNT()** - Count rows\n",
        "\n",
        "SELECT COUNT(*) FROM employees;\n",
        "\n",
        "**SUM()**- Add values\n",
        "\n",
        "SELECT SUM(salary) FROM employees;\n",
        "\n",
        "**AVG()** - Average\n",
        "\n",
        "SELECT AVG(salary) FROM employees;\n",
        "\n",
        "**MAX()** - Highest value\n",
        "\n",
        "SELECT MAX(salary) FROM employees;\n",
        "\n",
        "**MIN()** - Lowest value\n",
        "\n",
        "SELECT MIN(salary) FROM employees;\n",
        "\n",
        "**LIKE **- Pattern match\n",
        "\n",
        "SELECT * FROM employees WHERE name LIKE 'A%';\n",
        "\n",
        "**BETWEEN** -Range check\n",
        "\n",
        "SELECT * FROM employees WHERE salary BETWEEN 4000 AND 6000;\n",
        "\n",
        "**IN** - Multiple values\n",
        "\n",
        "SELECT * FROM employees WHERE department_id IN (1,2,3);\n",
        "\n",
        "**IS NULL** - Check for nulls\n",
        "\n",
        "SELECT * FROM employees WHERE salary IS NULL;\n",
        "\n"
      ],
      "metadata": {
        "id": "av1hjUCFB4I8"
      }
    },
    {
      "cell_type": "markdown",
      "source": [
        "**Other Important Keywords**\n",
        "\n",
        "**PRIMARY KEY** - Uniquely identify a row\n",
        "\n",
        "id INT PRIMARY KEY\n",
        "\n",
        "**FOREIGN KEY** - Reference another table\n",
        "\n",
        "FOREIGN KEY (department_id) REFERENCES departments(id)\n",
        "\n",
        "**CHECK** -Constraint on values\n",
        "\n",
        "salary DECIMAL CHECK (salary > 0)\n",
        "\n",
        "**DEFAULT** - Provide default value\n",
        "\n",
        "hire_date DATE DEFAULT CURRENT_DATE\n",
        "\n",
        "**INDEX** - Improve query speed\n",
        "\n",
        "CREATE INDEX idx_salary ON employees(salary);\n",
        "\n",
        "**VIEW** - Virtual table\n",
        "\n",
        "CREATE VIEW emp_view AS SELECT name, salary FROM employees;\n",
        "\n"
      ],
      "metadata": {
        "id": "_37v0WLRDQUF"
      }
    },
    {
      "cell_type": "markdown",
      "source": [
        "**Join opearation in sql**\n",
        "\n",
        "Used to combine data from multiple tables\n",
        "\n",
        "**INNER JOIN** - Returns only the rows that have matching values in both tables.\n",
        "\n",
        "SELECT e.name, d.department_name FROM employees e INNER JOIN departments d ON e.department_id = d.id;\n",
        "\n",
        "\n",
        "**LEFT JOIN** -Returns all rows from the left table, plus matching rows from the right. If no match, shows NULL\n",
        "\n",
        "SELECT e.name, d.department_name FROM employees e LEFT JOIN departments d ON e.department_id = d.id;\n",
        "\n",
        "**RIGHT JOIN**-Returns all rows from the right table, plus matching rows from the left\n",
        "\n",
        "SELECT e.name, d.department_name\n",
        "FROM employees e\n",
        "RIGHT JOIN departments d\n",
        "ON e.department_id = d.id;\n",
        "\n",
        "**FULL JOIN**- Returns all rows when there is a match in either table; unmatched rows get NULL\n",
        "\n",
        "SELECT e.name, d.department_name\n",
        "FROM employees e\n",
        "FULL OUTER JOIN departments d\n",
        "ON e.department_id = d.id;\n",
        "\n",
        "\n",
        "**CROSS JOIN**- Returns the Cartesian product — every row of table A with every row of table B.\n",
        "\n",
        "SELECT e.name, d.department_name\n",
        "FROM employees e\n",
        "CROSS JOIN departments d;\n",
        "\n",
        "**SELF JOIN**\n",
        "Joins a table to itself (useful for hierarchical data, like employees and managers).\n",
        "\n",
        "SELECT e1.name AS employee, e2.name AS manager\n",
        "FROM employees e1\n",
        "JOIN employees e2\n",
        "ON e1.department_id = e2.id;  -- just an example relationship\n"
      ],
      "metadata": {
        "id": "m83oYVn5D6M0"
      }
    },
    {
      "cell_type": "code",
      "source": [],
      "metadata": {
        "id": "PMftpIn61uls"
      },
      "execution_count": null,
      "outputs": []
    },
    {
      "cell_type": "markdown",
      "source": [
        "**Install MySQL**"
      ],
      "metadata": {
        "id": "NYsduWg_2lvU"
      }
    },
    {
      "cell_type": "code",
      "execution_count": 5,
      "metadata": {
        "colab": {
          "base_uri": "https://localhost:8080/"
        },
        "collapsed": true,
        "id": "BXr-8hDAxvfa",
        "outputId": "c0f36f19-3d05-48e9-84f8-5ccea715ae1f"
      },
      "outputs": [
        {
          "output_type": "stream",
          "name": "stdout",
          "text": [
            "Get:1 https://cloud.r-project.org/bin/linux/ubuntu jammy-cran40/ InRelease [3,632 B]\n",
            "Get:2 https://developer.download.nvidia.com/compute/cuda/repos/ubuntu2204/x86_64  InRelease [1,581 B]\n",
            "Get:3 https://cli.github.com/packages stable InRelease [3,917 B]\n",
            "Hit:4 http://archive.ubuntu.com/ubuntu jammy InRelease\n",
            "Get:5 https://r2u.stat.illinois.edu/ubuntu jammy InRelease [6,555 B]\n",
            "Get:6 http://security.ubuntu.com/ubuntu jammy-security InRelease [129 kB]\n",
            "Get:7 http://archive.ubuntu.com/ubuntu jammy-updates InRelease [128 kB]\n",
            "Get:8 https://developer.download.nvidia.com/compute/cuda/repos/ubuntu2204/x86_64  Packages [2,006 kB]\n",
            "Get:9 https://cli.github.com/packages stable/main amd64 Packages [346 B]\n",
            "Hit:10 https://ppa.launchpadcontent.net/deadsnakes/ppa/ubuntu jammy InRelease\n",
            "Get:11 http://archive.ubuntu.com/ubuntu jammy-backports InRelease [127 kB]\n",
            "Get:12 https://ppa.launchpadcontent.net/graphics-drivers/ppa/ubuntu jammy InRelease [24.3 kB]\n",
            "Get:13 https://r2u.stat.illinois.edu/ubuntu jammy/main amd64 Packages [2,797 kB]\n",
            "Hit:14 https://ppa.launchpadcontent.net/ubuntugis/ppa/ubuntu jammy InRelease\n",
            "Get:15 http://archive.ubuntu.com/ubuntu jammy-updates/universe amd64 Packages [1,581 kB]\n",
            "Get:16 https://r2u.stat.illinois.edu/ubuntu jammy/main all Packages [9,267 kB]\n",
            "Get:17 http://security.ubuntu.com/ubuntu jammy-security/universe amd64 Packages [1,274 kB]\n",
            "Get:18 http://archive.ubuntu.com/ubuntu jammy-updates/restricted amd64 Packages [5,627 kB]\n",
            "Get:19 http://security.ubuntu.com/ubuntu jammy-security/main amd64 Packages [3,310 kB]\n",
            "Get:20 http://archive.ubuntu.com/ubuntu jammy-updates/main amd64 Packages [3,623 kB]\n",
            "Get:21 http://archive.ubuntu.com/ubuntu jammy-updates/multiverse amd64 Packages [88.8 kB]\n",
            "Fetched 30.0 MB in 3s (10.0 MB/s)\n",
            "Reading package lists...\n",
            "W: Skipping acquire of configured file 'main/source/Sources' as repository 'https://r2u.stat.illinois.edu/ubuntu jammy InRelease' does not seem to provide it (sources.list entry misspelt?)\n",
            "Reading package lists... Done\n",
            "Building dependency tree... Done\n",
            "Reading state information... Done\n",
            "The following additional packages will be installed:\n",
            "  libcgi-fast-perl libcgi-pm-perl libclone-perl libencode-locale-perl\n",
            "  libfcgi-bin libfcgi-perl libfcgi0ldbl libhtml-parser-perl\n",
            "  libhtml-tagset-perl libhtml-template-perl libhttp-date-perl\n",
            "  libhttp-message-perl libio-html-perl liblwp-mediatypes-perl libmecab2\n",
            "  libprotobuf-lite23 liburi-perl mecab-ipadic mecab-ipadic-utf8 mecab-utils\n",
            "  mysql-client-8.0 mysql-client-core-8.0 mysql-server-8.0\n",
            "  mysql-server-core-8.0\n",
            "Suggested packages:\n",
            "  libdata-dump-perl libipc-sharedcache-perl libbusiness-isbn-perl libwww-perl\n",
            "  mailx tinyca\n",
            "The following NEW packages will be installed:\n",
            "  libcgi-fast-perl libcgi-pm-perl libclone-perl libencode-locale-perl\n",
            "  libfcgi-bin libfcgi-perl libfcgi0ldbl libhtml-parser-perl\n",
            "  libhtml-tagset-perl libhtml-template-perl libhttp-date-perl\n",
            "  libhttp-message-perl libio-html-perl liblwp-mediatypes-perl libmecab2\n",
            "  libprotobuf-lite23 liburi-perl mecab-ipadic mecab-ipadic-utf8 mecab-utils\n",
            "  mysql-client-8.0 mysql-client-core-8.0 mysql-server mysql-server-8.0\n",
            "  mysql-server-core-8.0\n",
            "0 upgraded, 25 newly installed, 0 to remove and 49 not upgraded.\n",
            "Need to get 29.7 MB of archives.\n",
            "After this operation, 243 MB of additional disk space will be used.\n",
            "Get:1 http://archive.ubuntu.com/ubuntu jammy-updates/main amd64 mysql-client-core-8.0 amd64 8.0.43-0ubuntu0.22.04.1 [2,706 kB]\n",
            "Get:2 http://archive.ubuntu.com/ubuntu jammy-updates/main amd64 mysql-client-8.0 amd64 8.0.43-0ubuntu0.22.04.1 [22.7 kB]\n",
            "Get:3 http://archive.ubuntu.com/ubuntu jammy/main amd64 libmecab2 amd64 0.996-14build9 [199 kB]\n",
            "Get:4 http://archive.ubuntu.com/ubuntu jammy-updates/main amd64 libprotobuf-lite23 amd64 3.12.4-1ubuntu7.22.04.4 [209 kB]\n",
            "Get:5 http://archive.ubuntu.com/ubuntu jammy-updates/main amd64 mysql-server-core-8.0 amd64 8.0.43-0ubuntu0.22.04.1 [17.8 MB]\n",
            "Get:6 http://archive.ubuntu.com/ubuntu jammy-updates/main amd64 mysql-server-8.0 amd64 8.0.43-0ubuntu0.22.04.1 [1,446 kB]\n",
            "Get:7 http://archive.ubuntu.com/ubuntu jammy/main amd64 libhtml-tagset-perl all 3.20-4 [12.5 kB]\n",
            "Get:8 http://archive.ubuntu.com/ubuntu jammy/main amd64 liburi-perl all 5.10-1 [78.8 kB]\n",
            "Get:9 http://archive.ubuntu.com/ubuntu jammy/main amd64 libhtml-parser-perl amd64 3.76-1build2 [88.4 kB]\n",
            "Get:10 http://archive.ubuntu.com/ubuntu jammy/main amd64 libcgi-pm-perl all 4.54-1 [188 kB]\n",
            "Get:11 http://archive.ubuntu.com/ubuntu jammy-updates/main amd64 libfcgi0ldbl amd64 2.4.2-2ubuntu0.1 [28.1 kB]\n",
            "Get:12 http://archive.ubuntu.com/ubuntu jammy/main amd64 libfcgi-perl amd64 0.82+ds-1build1 [22.8 kB]\n",
            "Get:13 http://archive.ubuntu.com/ubuntu jammy/main amd64 libcgi-fast-perl all 1:2.15-1 [10.5 kB]\n",
            "Get:14 http://archive.ubuntu.com/ubuntu jammy/main amd64 libclone-perl amd64 0.45-1build3 [11.0 kB]\n",
            "Get:15 http://archive.ubuntu.com/ubuntu jammy/main amd64 libencode-locale-perl all 1.05-1.1 [11.8 kB]\n",
            "Get:16 http://archive.ubuntu.com/ubuntu jammy-updates/main amd64 libfcgi-bin amd64 2.4.2-2ubuntu0.1 [11.1 kB]\n",
            "Get:17 http://archive.ubuntu.com/ubuntu jammy/main amd64 libhtml-template-perl all 2.97-1.1 [59.1 kB]\n",
            "Get:18 http://archive.ubuntu.com/ubuntu jammy/main amd64 libhttp-date-perl all 6.05-1 [9,920 B]\n",
            "Get:19 http://archive.ubuntu.com/ubuntu jammy/main amd64 libio-html-perl all 1.004-2 [15.4 kB]\n",
            "Get:20 http://archive.ubuntu.com/ubuntu jammy/main amd64 liblwp-mediatypes-perl all 6.04-1 [19.5 kB]\n",
            "Get:21 http://archive.ubuntu.com/ubuntu jammy/main amd64 libhttp-message-perl all 6.36-1 [76.8 kB]\n",
            "Get:22 http://archive.ubuntu.com/ubuntu jammy/main amd64 mecab-utils amd64 0.996-14build9 [4,850 B]\n",
            "Get:23 http://archive.ubuntu.com/ubuntu jammy/main amd64 mecab-ipadic all 2.7.0-20070801+main-3 [6,718 kB]\n",
            "Get:24 http://archive.ubuntu.com/ubuntu jammy/main amd64 mecab-ipadic-utf8 all 2.7.0-20070801+main-3 [4,384 B]\n",
            "Get:25 http://archive.ubuntu.com/ubuntu jammy-updates/main amd64 mysql-server all 8.0.43-0ubuntu0.22.04.1 [9,454 B]\n",
            "Fetched 29.7 MB in 1s (48.7 MB/s)\n",
            "Preconfiguring packages ...\n",
            "Selecting previously unselected package mysql-client-core-8.0.\n",
            "(Reading database ... 126374 files and directories currently installed.)\n",
            "Preparing to unpack .../00-mysql-client-core-8.0_8.0.43-0ubuntu0.22.04.1_amd64.deb ...\n",
            "Unpacking mysql-client-core-8.0 (8.0.43-0ubuntu0.22.04.1) ...\n",
            "Selecting previously unselected package mysql-client-8.0.\n",
            "Preparing to unpack .../01-mysql-client-8.0_8.0.43-0ubuntu0.22.04.1_amd64.deb ...\n",
            "Unpacking mysql-client-8.0 (8.0.43-0ubuntu0.22.04.1) ...\n",
            "Selecting previously unselected package libmecab2:amd64.\n",
            "Preparing to unpack .../02-libmecab2_0.996-14build9_amd64.deb ...\n",
            "Unpacking libmecab2:amd64 (0.996-14build9) ...\n",
            "Selecting previously unselected package libprotobuf-lite23:amd64.\n",
            "Preparing to unpack .../03-libprotobuf-lite23_3.12.4-1ubuntu7.22.04.4_amd64.deb ...\n",
            "Unpacking libprotobuf-lite23:amd64 (3.12.4-1ubuntu7.22.04.4) ...\n",
            "Selecting previously unselected package mysql-server-core-8.0.\n",
            "Preparing to unpack .../04-mysql-server-core-8.0_8.0.43-0ubuntu0.22.04.1_amd64.deb ...\n",
            "Unpacking mysql-server-core-8.0 (8.0.43-0ubuntu0.22.04.1) ...\n",
            "Selecting previously unselected package mysql-server-8.0.\n",
            "Preparing to unpack .../05-mysql-server-8.0_8.0.43-0ubuntu0.22.04.1_amd64.deb ...\n",
            "Unpacking mysql-server-8.0 (8.0.43-0ubuntu0.22.04.1) ...\n",
            "Selecting previously unselected package libhtml-tagset-perl.\n",
            "Preparing to unpack .../06-libhtml-tagset-perl_3.20-4_all.deb ...\n",
            "Unpacking libhtml-tagset-perl (3.20-4) ...\n",
            "Selecting previously unselected package liburi-perl.\n",
            "Preparing to unpack .../07-liburi-perl_5.10-1_all.deb ...\n",
            "Unpacking liburi-perl (5.10-1) ...\n",
            "Selecting previously unselected package libhtml-parser-perl:amd64.\n",
            "Preparing to unpack .../08-libhtml-parser-perl_3.76-1build2_amd64.deb ...\n",
            "Unpacking libhtml-parser-perl:amd64 (3.76-1build2) ...\n",
            "Selecting previously unselected package libcgi-pm-perl.\n",
            "Preparing to unpack .../09-libcgi-pm-perl_4.54-1_all.deb ...\n",
            "Unpacking libcgi-pm-perl (4.54-1) ...\n",
            "Selecting previously unselected package libfcgi0ldbl:amd64.\n",
            "Preparing to unpack .../10-libfcgi0ldbl_2.4.2-2ubuntu0.1_amd64.deb ...\n",
            "Unpacking libfcgi0ldbl:amd64 (2.4.2-2ubuntu0.1) ...\n",
            "Selecting previously unselected package libfcgi-perl:amd64.\n",
            "Preparing to unpack .../11-libfcgi-perl_0.82+ds-1build1_amd64.deb ...\n",
            "Unpacking libfcgi-perl:amd64 (0.82+ds-1build1) ...\n",
            "Selecting previously unselected package libcgi-fast-perl.\n",
            "Preparing to unpack .../12-libcgi-fast-perl_1%3a2.15-1_all.deb ...\n",
            "Unpacking libcgi-fast-perl (1:2.15-1) ...\n",
            "Selecting previously unselected package libclone-perl.\n",
            "Preparing to unpack .../13-libclone-perl_0.45-1build3_amd64.deb ...\n",
            "Unpacking libclone-perl (0.45-1build3) ...\n",
            "Selecting previously unselected package libencode-locale-perl.\n",
            "Preparing to unpack .../14-libencode-locale-perl_1.05-1.1_all.deb ...\n",
            "Unpacking libencode-locale-perl (1.05-1.1) ...\n",
            "Selecting previously unselected package libfcgi-bin.\n",
            "Preparing to unpack .../15-libfcgi-bin_2.4.2-2ubuntu0.1_amd64.deb ...\n",
            "Unpacking libfcgi-bin (2.4.2-2ubuntu0.1) ...\n",
            "Selecting previously unselected package libhtml-template-perl.\n",
            "Preparing to unpack .../16-libhtml-template-perl_2.97-1.1_all.deb ...\n",
            "Unpacking libhtml-template-perl (2.97-1.1) ...\n",
            "Selecting previously unselected package libhttp-date-perl.\n",
            "Preparing to unpack .../17-libhttp-date-perl_6.05-1_all.deb ...\n",
            "Unpacking libhttp-date-perl (6.05-1) ...\n",
            "Selecting previously unselected package libio-html-perl.\n",
            "Preparing to unpack .../18-libio-html-perl_1.004-2_all.deb ...\n",
            "Unpacking libio-html-perl (1.004-2) ...\n",
            "Selecting previously unselected package liblwp-mediatypes-perl.\n",
            "Preparing to unpack .../19-liblwp-mediatypes-perl_6.04-1_all.deb ...\n",
            "Unpacking liblwp-mediatypes-perl (6.04-1) ...\n",
            "Selecting previously unselected package libhttp-message-perl.\n",
            "Preparing to unpack .../20-libhttp-message-perl_6.36-1_all.deb ...\n",
            "Unpacking libhttp-message-perl (6.36-1) ...\n",
            "Selecting previously unselected package mecab-utils.\n",
            "Preparing to unpack .../21-mecab-utils_0.996-14build9_amd64.deb ...\n",
            "Unpacking mecab-utils (0.996-14build9) ...\n",
            "Selecting previously unselected package mecab-ipadic.\n",
            "Preparing to unpack .../22-mecab-ipadic_2.7.0-20070801+main-3_all.deb ...\n",
            "Unpacking mecab-ipadic (2.7.0-20070801+main-3) ...\n",
            "Selecting previously unselected package mecab-ipadic-utf8.\n",
            "Preparing to unpack .../23-mecab-ipadic-utf8_2.7.0-20070801+main-3_all.deb ...\n",
            "Unpacking mecab-ipadic-utf8 (2.7.0-20070801+main-3) ...\n",
            "Selecting previously unselected package mysql-server.\n",
            "Preparing to unpack .../24-mysql-server_8.0.43-0ubuntu0.22.04.1_all.deb ...\n",
            "Unpacking mysql-server (8.0.43-0ubuntu0.22.04.1) ...\n",
            "Setting up libhttp-date-perl (6.05-1) ...\n",
            "Setting up libmecab2:amd64 (0.996-14build9) ...\n",
            "Setting up mysql-client-core-8.0 (8.0.43-0ubuntu0.22.04.1) ...\n",
            "Setting up libfcgi0ldbl:amd64 (2.4.2-2ubuntu0.1) ...\n",
            "Setting up libclone-perl (0.45-1build3) ...\n",
            "Setting up libhtml-tagset-perl (3.20-4) ...\n",
            "Setting up liblwp-mediatypes-perl (6.04-1) ...\n",
            "Setting up libfcgi-bin (2.4.2-2ubuntu0.1) ...\n",
            "Setting up libencode-locale-perl (1.05-1.1) ...\n",
            "Setting up libprotobuf-lite23:amd64 (3.12.4-1ubuntu7.22.04.4) ...\n",
            "Setting up mecab-utils (0.996-14build9) ...\n",
            "Setting up libio-html-perl (1.004-2) ...\n",
            "Setting up mysql-server-core-8.0 (8.0.43-0ubuntu0.22.04.1) ...\n",
            "Setting up mysql-client-8.0 (8.0.43-0ubuntu0.22.04.1) ...\n",
            "Setting up libfcgi-perl:amd64 (0.82+ds-1build1) ...\n",
            "Setting up liburi-perl (5.10-1) ...\n",
            "Setting up libhttp-message-perl (6.36-1) ...\n",
            "Setting up mysql-server-8.0 (8.0.43-0ubuntu0.22.04.1) ...\n",
            "invoke-rc.d: could not determine current runlevel\n",
            "invoke-rc.d: policy-rc.d denied execution of stop.\n",
            "update-alternatives: using /etc/mysql/mysql.cnf to provide /etc/mysql/my.cnf (my.cnf) in auto mode\n",
            "Renaming removed key_buffer and myisam-recover options (if present)\n",
            "mysqld will log errors to /var/log/mysql/error.log\n",
            "mysqld is running as pid 25007\n",
            "Created symlink /etc/systemd/system/multi-user.target.wants/mysql.service → /lib/systemd/system/mysql.service.\n",
            "invoke-rc.d: could not determine current runlevel\n",
            "invoke-rc.d: policy-rc.d denied execution of start.\n",
            "Setting up mecab-ipadic (2.7.0-20070801+main-3) ...\n",
            "Compiling IPA dictionary for Mecab.  This takes long time...\n",
            "reading /usr/share/mecab/dic/ipadic/unk.def ... 40\n",
            "emitting double-array: 100% |###########################################| \n",
            "/usr/share/mecab/dic/ipadic/model.def is not found. skipped.\n",
            "reading /usr/share/mecab/dic/ipadic/Verb.csv ... 130750\n",
            "reading /usr/share/mecab/dic/ipadic/Prefix.csv ... 221\n",
            "reading /usr/share/mecab/dic/ipadic/Conjunction.csv ... 171\n",
            "reading /usr/share/mecab/dic/ipadic/Filler.csv ... 19\n",
            "reading /usr/share/mecab/dic/ipadic/Noun.org.csv ... 16668\n",
            "reading /usr/share/mecab/dic/ipadic/Interjection.csv ... 252\n",
            "reading /usr/share/mecab/dic/ipadic/Suffix.csv ... 1393\n",
            "reading /usr/share/mecab/dic/ipadic/Noun.nai.csv ... 42\n",
            "reading /usr/share/mecab/dic/ipadic/Others.csv ... 2\n",
            "reading /usr/share/mecab/dic/ipadic/Noun.adjv.csv ... 3328\n",
            "reading /usr/share/mecab/dic/ipadic/Noun.name.csv ... 34202\n",
            "reading /usr/share/mecab/dic/ipadic/Noun.others.csv ... 151\n",
            "reading /usr/share/mecab/dic/ipadic/Noun.proper.csv ... 27328\n",
            "reading /usr/share/mecab/dic/ipadic/Noun.csv ... 60477\n",
            "reading /usr/share/mecab/dic/ipadic/Symbol.csv ... 208\n",
            "reading /usr/share/mecab/dic/ipadic/Noun.demonst.csv ... 120\n",
            "reading /usr/share/mecab/dic/ipadic/Noun.number.csv ... 42\n",
            "reading /usr/share/mecab/dic/ipadic/Postp.csv ... 146\n",
            "reading /usr/share/mecab/dic/ipadic/Adj.csv ... 27210\n",
            "reading /usr/share/mecab/dic/ipadic/Noun.place.csv ... 72999\n",
            "reading /usr/share/mecab/dic/ipadic/Noun.adverbal.csv ... 795\n",
            "reading /usr/share/mecab/dic/ipadic/Adnominal.csv ... 135\n",
            "reading /usr/share/mecab/dic/ipadic/Auxil.csv ... 199\n",
            "reading /usr/share/mecab/dic/ipadic/Noun.verbal.csv ... 12146\n",
            "reading /usr/share/mecab/dic/ipadic/Adverb.csv ... 3032\n",
            "reading /usr/share/mecab/dic/ipadic/Postp-col.csv ... 91\n",
            "emitting double-array: 100% |###########################################| \n",
            "reading /usr/share/mecab/dic/ipadic/matrix.def ... 1316x1316\n",
            "emitting matrix      : 100% |###########################################| \n",
            "\n",
            "done!\n",
            "update-alternatives: using /var/lib/mecab/dic/ipadic to provide /var/lib/mecab/dic/debian (mecab-dictionary) in auto mode\n",
            "Setting up mecab-ipadic-utf8 (2.7.0-20070801+main-3) ...\n",
            "Compiling IPA dictionary for Mecab.  This takes long time...\n",
            "reading /usr/share/mecab/dic/ipadic/unk.def ... 40\n",
            "emitting double-array: 100% |###########################################| \n",
            "/usr/share/mecab/dic/ipadic/model.def is not found. skipped.\n",
            "reading /usr/share/mecab/dic/ipadic/Verb.csv ... 130750\n",
            "reading /usr/share/mecab/dic/ipadic/Prefix.csv ... 221\n",
            "reading /usr/share/mecab/dic/ipadic/Conjunction.csv ... 171\n",
            "reading /usr/share/mecab/dic/ipadic/Filler.csv ... 19\n",
            "reading /usr/share/mecab/dic/ipadic/Noun.org.csv ... 16668\n",
            "reading /usr/share/mecab/dic/ipadic/Interjection.csv ... 252\n",
            "reading /usr/share/mecab/dic/ipadic/Suffix.csv ... 1393\n",
            "reading /usr/share/mecab/dic/ipadic/Noun.nai.csv ... 42\n",
            "reading /usr/share/mecab/dic/ipadic/Others.csv ... 2\n",
            "reading /usr/share/mecab/dic/ipadic/Noun.adjv.csv ... 3328\n",
            "reading /usr/share/mecab/dic/ipadic/Noun.name.csv ... 34202\n",
            "reading /usr/share/mecab/dic/ipadic/Noun.others.csv ... 151\n",
            "reading /usr/share/mecab/dic/ipadic/Noun.proper.csv ... 27328\n",
            "reading /usr/share/mecab/dic/ipadic/Noun.csv ... 60477\n",
            "reading /usr/share/mecab/dic/ipadic/Symbol.csv ... 208\n",
            "reading /usr/share/mecab/dic/ipadic/Noun.demonst.csv ... 120\n",
            "reading /usr/share/mecab/dic/ipadic/Noun.number.csv ... 42\n",
            "reading /usr/share/mecab/dic/ipadic/Postp.csv ... 146\n",
            "reading /usr/share/mecab/dic/ipadic/Adj.csv ... 27210\n",
            "reading /usr/share/mecab/dic/ipadic/Noun.place.csv ... 72999\n",
            "reading /usr/share/mecab/dic/ipadic/Noun.adverbal.csv ... 795\n",
            "reading /usr/share/mecab/dic/ipadic/Adnominal.csv ... 135\n",
            "reading /usr/share/mecab/dic/ipadic/Auxil.csv ... 199\n",
            "reading /usr/share/mecab/dic/ipadic/Noun.verbal.csv ... 12146\n",
            "reading /usr/share/mecab/dic/ipadic/Adverb.csv ... 3032\n",
            "reading /usr/share/mecab/dic/ipadic/Postp-col.csv ... 91\n",
            "emitting double-array: 100% |###########################################| \n",
            "reading /usr/share/mecab/dic/ipadic/matrix.def ... 1316x1316\n",
            "emitting matrix      : 100% |###########################################| \n",
            "\n",
            "done!\n",
            "update-alternatives: using /var/lib/mecab/dic/ipadic-utf8 to provide /var/lib/mecab/dic/debian (mecab-dictionary) in auto mode\n",
            "Setting up libhtml-parser-perl:amd64 (3.76-1build2) ...\n",
            "Setting up mysql-server (8.0.43-0ubuntu0.22.04.1) ...\n",
            "Setting up libcgi-pm-perl (4.54-1) ...\n",
            "Setting up libhtml-template-perl (2.97-1.1) ...\n",
            "Setting up libcgi-fast-perl (1:2.15-1) ...\n",
            "Processing triggers for man-db (2.10.2-1) ...\n",
            "Processing triggers for libc-bin (2.35-0ubuntu3.8) ...\n",
            "/sbin/ldconfig.real: /usr/local/lib/libur_loader.so.0 is not a symbolic link\n",
            "\n",
            "/sbin/ldconfig.real: /usr/local/lib/libur_adapter_opencl.so.0 is not a symbolic link\n",
            "\n",
            "/sbin/ldconfig.real: /usr/local/lib/libtcm.so.1 is not a symbolic link\n",
            "\n",
            "/sbin/ldconfig.real: /usr/local/lib/libur_adapter_level_zero.so.0 is not a symbolic link\n",
            "\n",
            "/sbin/ldconfig.real: /usr/local/lib/libumf.so.0 is not a symbolic link\n",
            "\n",
            "/sbin/ldconfig.real: /usr/local/lib/libtcm_debug.so.1 is not a symbolic link\n",
            "\n",
            "/sbin/ldconfig.real: /usr/local/lib/libtbbbind_2_0.so.3 is not a symbolic link\n",
            "\n",
            "/sbin/ldconfig.real: /usr/local/lib/libur_adapter_level_zero_v2.so.0 is not a symbolic link\n",
            "\n",
            "/sbin/ldconfig.real: /usr/local/lib/libtbbmalloc.so.2 is not a symbolic link\n",
            "\n",
            "/sbin/ldconfig.real: /usr/local/lib/libtbbbind.so.3 is not a symbolic link\n",
            "\n",
            "/sbin/ldconfig.real: /usr/local/lib/libtbb.so.12 is not a symbolic link\n",
            "\n",
            "/sbin/ldconfig.real: /usr/local/lib/libtbbmalloc_proxy.so.2 is not a symbolic link\n",
            "\n",
            "/sbin/ldconfig.real: /usr/local/lib/libtbbbind_2_5.so.3 is not a symbolic link\n",
            "\n",
            "/sbin/ldconfig.real: /usr/local/lib/libhwloc.so.15 is not a symbolic link\n",
            "\n"
          ]
        }
      ],
      "source": [
        "# Install MySQL server\n",
        "!apt-get update -q\n",
        "!apt-get install -y mysql-server"
      ]
    },
    {
      "cell_type": "markdown",
      "source": [
        "**Start MySQL**"
      ],
      "metadata": {
        "id": "iVMSImSU2xRK"
      }
    },
    {
      "cell_type": "code",
      "source": [
        "!service mysql start"
      ],
      "metadata": {
        "colab": {
          "base_uri": "https://localhost:8080/"
        },
        "id": "b9bLRhY6y9qD",
        "outputId": "de296d9e-eae8-4d2c-e5d7-63392329014c"
      },
      "execution_count": 6,
      "outputs": [
        {
          "output_type": "stream",
          "name": "stdout",
          "text": [
            " * Starting MySQL database server mysqld\n",
            "su: warning: cannot change directory to /nonexistent: No such file or directory\n",
            "   ...done.\n"
          ]
        }
      ]
    },
    {
      "cell_type": "markdown",
      "source": [
        "**Version of MySQL**"
      ],
      "metadata": {
        "id": "nB5ftCI38Dgb"
      }
    },
    {
      "cell_type": "code",
      "source": [
        "!mysql -uroot -proot -e \"SELECT VERSION();\""
      ],
      "metadata": {
        "colab": {
          "base_uri": "https://localhost:8080/"
        },
        "id": "uvv1rWZY1HX-",
        "outputId": "19267e57-fb28-4944-cdaa-415874f4c311"
      },
      "execution_count": 7,
      "outputs": [
        {
          "output_type": "stream",
          "name": "stdout",
          "text": [
            "mysql: [Warning] Using a password on the command line interface can be insecure.\n",
            "+-------------------------+\n",
            "| VERSION()               |\n",
            "+-------------------------+\n",
            "| 8.0.43-0ubuntu0.22.04.1 |\n",
            "+-------------------------+\n"
          ]
        }
      ]
    },
    {
      "cell_type": "markdown",
      "source": [
        "**Create Data Base WithName test1db**"
      ],
      "metadata": {
        "id": "ua7DnxZ38Zh5"
      }
    },
    {
      "cell_type": "code",
      "source": [
        "!mysql -uroot -proot -e \"CREATE DATABASE testdb;\""
      ],
      "metadata": {
        "colab": {
          "base_uri": "https://localhost:8080/"
        },
        "id": "q-MqCnlg12Ni",
        "outputId": "f5bb1c53-8d2f-41e6-94a2-ff411acf4620"
      },
      "execution_count": 13,
      "outputs": [
        {
          "output_type": "stream",
          "name": "stdout",
          "text": [
            "mysql: [Warning] Using a password on the command line interface can be insecure.\n"
          ]
        }
      ]
    },
    {
      "cell_type": "markdown",
      "source": [
        "**Show Data Bases**"
      ],
      "metadata": {
        "id": "Oe9gQoWJ8hJo"
      }
    },
    {
      "cell_type": "code",
      "source": [
        "!mysql -uroot -proot -e \"SHOW DATABASES;\""
      ],
      "metadata": {
        "colab": {
          "base_uri": "https://localhost:8080/"
        },
        "id": "gPHypaK12CfB",
        "outputId": "9f11c732-1f6f-4bd8-d549-5088e7aacc7a"
      },
      "execution_count": 14,
      "outputs": [
        {
          "output_type": "stream",
          "name": "stdout",
          "text": [
            "mysql: [Warning] Using a password on the command line interface can be insecure.\n",
            "+--------------------+\n",
            "| Database           |\n",
            "+--------------------+\n",
            "| information_schema |\n",
            "| mysql              |\n",
            "| performance_schema |\n",
            "| sys                |\n",
            "| test1db            |\n",
            "| testdb             |\n",
            "+--------------------+\n"
          ]
        }
      ]
    },
    {
      "cell_type": "markdown",
      "source": [
        "**Create a Table in test database**"
      ],
      "metadata": {
        "id": "_ygsSYxW8vDY"
      }
    },
    {
      "cell_type": "code",
      "source": [
        "!mysql -uroot -proot -e \"USE testdb; CREATE TABLE users(id INT AUTO_INCREMENT PRIMARY KEY, name VARCHAR(50));\""
      ],
      "metadata": {
        "colab": {
          "base_uri": "https://localhost:8080/"
        },
        "id": "Xiue4JBk2YSS",
        "outputId": "af6a1b86-f7c1-46d3-c983-44f7c9a085bf"
      },
      "execution_count": 15,
      "outputs": [
        {
          "output_type": "stream",
          "name": "stdout",
          "text": [
            "mysql: [Warning] Using a password on the command line interface can be insecure.\n"
          ]
        }
      ]
    },
    {
      "cell_type": "markdown",
      "source": [
        "**InSert Value in data Bases**"
      ],
      "metadata": {
        "id": "4Fz43dEY823J"
      }
    },
    {
      "cell_type": "code",
      "source": [
        "!mysql -uroot -proot -e \"USE testdb; INSERT INTO users(name) VALUES('Animesh');\""
      ],
      "metadata": {
        "colab": {
          "base_uri": "https://localhost:8080/"
        },
        "id": "OaxlW1EO2cOp",
        "outputId": "3626a765-58d2-4d9e-8a4c-e8566f62c466"
      },
      "execution_count": 16,
      "outputs": [
        {
          "output_type": "stream",
          "name": "stdout",
          "text": [
            "mysql: [Warning] Using a password on the command line interface can be insecure.\n"
          ]
        }
      ]
    },
    {
      "cell_type": "markdown",
      "source": [
        "**Show Table Values**"
      ],
      "metadata": {
        "id": "dEb9zExZ8-SB"
      }
    },
    {
      "cell_type": "code",
      "source": [
        "!mysql -uroot -proot -e \"USE testdb; SELECT * FROM users;\""
      ],
      "metadata": {
        "colab": {
          "base_uri": "https://localhost:8080/"
        },
        "id": "QYX863e32euZ",
        "outputId": "a1495a2d-93a4-4565-da0d-11873abf3508"
      },
      "execution_count": 17,
      "outputs": [
        {
          "output_type": "stream",
          "name": "stdout",
          "text": [
            "mysql: [Warning] Using a password on the command line interface can be insecure.\n",
            "+----+---------+\n",
            "| id | name    |\n",
            "+----+---------+\n",
            "|  1 | Animesh |\n",
            "+----+---------+\n"
          ]
        }
      ]
    },
    {
      "cell_type": "markdown",
      "source": [
        "**Create Employee Table **"
      ],
      "metadata": {
        "id": "aK1jNybBBqVC"
      }
    },
    {
      "cell_type": "code",
      "source": [
        "!mysql -uroot -proot -e \"USE testdb; CREATE TABLE employees ( \\\n",
        "    id INT PRIMARY KEY AUTO_INCREMENT,\\\n",
        "    first_name VARCHAR(50) NOT NULL,\\\n",
        "    last_name VARCHAR(50) NOT NULL,\\\n",
        "    email VARCHAR(100) UNIQUE,\\\n",
        "    phone VARCHAR(15),\\\n",
        "    hire_date DATE,\\\n",
        "    salary DECIMAL(10,2),\\\n",
        "    department_id INT,\\\n",
        "    manager_id INT,\\\n",
        "    is_active BOOLEAN DEFAULT TRUE,\\\n",
        "    created_at TIMESTAMP DEFAULT CURRENT_TIMESTAMP\\\n",
        "    );\"\n"
      ],
      "metadata": {
        "colab": {
          "base_uri": "https://localhost:8080/"
        },
        "id": "bkcJzP91_nJP",
        "outputId": "1c36bfe4-108b-4494-8c2a-252b0f1b793b"
      },
      "execution_count": 18,
      "outputs": [
        {
          "output_type": "stream",
          "name": "stdout",
          "text": [
            "mysql: [Warning] Using a password on the command line interface can be insecure.\n"
          ]
        }
      ]
    },
    {
      "cell_type": "markdown",
      "source": [
        "**Insert values in Employee Table**"
      ],
      "metadata": {
        "id": "wentLrcqCyx7"
      }
    },
    {
      "cell_type": "code",
      "source": [
        "!mysql -uroot -proot -e \"USE testdb; INSERT INTO employees \\\n",
        "(first_name, last_name, email, salary, department_id) \\\n",
        "VALUES('John', 'Doe', 'john.doe@company.com', 65000, 1);\"\n"
      ],
      "metadata": {
        "colab": {
          "base_uri": "https://localhost:8080/"
        },
        "id": "Oybfcl-sA46Y",
        "outputId": "537b8b86-54ff-4ef7-f9e4-7684ab7fa9b2"
      },
      "execution_count": 19,
      "outputs": [
        {
          "output_type": "stream",
          "name": "stdout",
          "text": [
            "mysql: [Warning] Using a password on the command line interface can be insecure.\n"
          ]
        }
      ]
    },
    {
      "cell_type": "markdown",
      "source": [
        "**Show the value in Employee Table**"
      ],
      "metadata": {
        "id": "YuWdsz_DC5qY"
      }
    },
    {
      "cell_type": "code",
      "source": [
        "!mysql -uroot -proot -e \"USE testdb; SELECT * FROM employees;\""
      ],
      "metadata": {
        "colab": {
          "base_uri": "https://localhost:8080/"
        },
        "id": "qaLMHhSPBl4Y",
        "outputId": "0f026558-218b-4cdb-8a8e-a7a88503bb76"
      },
      "execution_count": 20,
      "outputs": [
        {
          "output_type": "stream",
          "name": "stdout",
          "text": [
            "mysql: [Warning] Using a password on the command line interface can be insecure.\n",
            "+----+------------+-----------+----------------------+-------+-----------+----------+---------------+------------+-----------+---------------------+\n",
            "| id | first_name | last_name | email                | phone | hire_date | salary   | department_id | manager_id | is_active | created_at          |\n",
            "+----+------------+-----------+----------------------+-------+-----------+----------+---------------+------------+-----------+---------------------+\n",
            "|  1 | John       | Doe       | john.doe@company.com | NULL  | NULL      | 65000.00 |             1 |       NULL |         1 | 2025-09-14 12:05:32 |\n",
            "+----+------------+-----------+----------------------+-------+-----------+----------+---------------+------------+-----------+---------------------+\n"
          ]
        }
      ]
    },
    {
      "cell_type": "markdown",
      "source": [
        "**Insert Multiple row**"
      ],
      "metadata": {
        "id": "Cf_vnBrJDFfg"
      }
    },
    {
      "cell_type": "code",
      "source": [
        "!mysql -uroot -proot -e \"USE testdb; INSERT INTO employees \\\n",
        "(first_name, last_name, email, salary, department_id) VALUES \\\n",
        "('Jane', 'Smith', 'jane.smith@company.com', 70000, 2), \\\n",
        "('Bob', 'Johnson', 'bob.johnson@company.com', 55000, 1), \\\n",
        "('Alice', 'Brown', 'alice.brown@company.com', 80000, 3); \"\n",
        "\n"
      ],
      "metadata": {
        "colab": {
          "base_uri": "https://localhost:8080/"
        },
        "id": "RIDqE3GnDPvY",
        "outputId": "ad36d845-8fb7-4341-aca5-38272b04def1"
      },
      "execution_count": 21,
      "outputs": [
        {
          "output_type": "stream",
          "name": "stdout",
          "text": [
            "mysql: [Warning] Using a password on the command line interface can be insecure.\n"
          ]
        }
      ]
    },
    {
      "cell_type": "code",
      "source": [
        "!mysql -uroot -proot -e \"USE testdb; \\\n",
        "SELECT * FROM employees;\""
      ],
      "metadata": {
        "colab": {
          "base_uri": "https://localhost:8080/"
        },
        "id": "DAyXyrsfDpYg",
        "outputId": "6662808e-9f11-495c-d307-9e9f24bdfe33"
      },
      "execution_count": 22,
      "outputs": [
        {
          "output_type": "stream",
          "name": "stdout",
          "text": [
            "mysql: [Warning] Using a password on the command line interface can be insecure.\n",
            "+----+------------+-----------+-------------------------+-------+-----------+----------+---------------+------------+-----------+---------------------+\n",
            "| id | first_name | last_name | email                   | phone | hire_date | salary   | department_id | manager_id | is_active | created_at          |\n",
            "+----+------------+-----------+-------------------------+-------+-----------+----------+---------------+------------+-----------+---------------------+\n",
            "|  1 | John       | Doe       | john.doe@company.com    | NULL  | NULL      | 65000.00 |             1 |       NULL |         1 | 2025-09-14 12:05:32 |\n",
            "|  2 | Jane       | Smith     | jane.smith@company.com  | NULL  | NULL      | 70000.00 |             2 |       NULL |         1 | 2025-09-14 12:05:40 |\n",
            "|  3 | Bob        | Johnson   | bob.johnson@company.com | NULL  | NULL      | 55000.00 |             1 |       NULL |         1 | 2025-09-14 12:05:40 |\n",
            "|  4 | Alice      | Brown     | alice.brown@company.com | NULL  | NULL      | 80000.00 |             3 |       NULL |         1 | 2025-09-14 12:05:40 |\n",
            "+----+------------+-----------+-------------------------+-------+-----------+----------+---------------+------------+-----------+---------------------+\n"
          ]
        }
      ]
    },
    {
      "cell_type": "markdown",
      "source": [
        "**Update Command**\n",
        "\n",
        "Modify existing data.\n"
      ],
      "metadata": {
        "id": "xEqPOv8nDyXH"
      }
    },
    {
      "cell_type": "code",
      "source": [
        "!mysql -uroot -proot -e \"USE testdb; \\\n",
        "UPDATE employees SET salary = 75000 WHERE id = 1;\""
      ],
      "metadata": {
        "colab": {
          "base_uri": "https://localhost:8080/"
        },
        "id": "F2LNAcB4D1Tg",
        "outputId": "8831b222-72c3-466a-fd6b-42c77c168d71"
      },
      "execution_count": 23,
      "outputs": [
        {
          "output_type": "stream",
          "name": "stdout",
          "text": [
            "mysql: [Warning] Using a password on the command line interface can be insecure.\n"
          ]
        }
      ]
    },
    {
      "cell_type": "code",
      "source": [
        "!mysql -uroot -proot -e \"USE testdb; \\\n",
        "SELECT * FROM employees;\""
      ],
      "metadata": {
        "colab": {
          "base_uri": "https://localhost:8080/"
        },
        "id": "zlca4X69EI5w",
        "outputId": "ea22084c-6113-4e43-a35b-294b301b7fbd"
      },
      "execution_count": 24,
      "outputs": [
        {
          "output_type": "stream",
          "name": "stdout",
          "text": [
            "mysql: [Warning] Using a password on the command line interface can be insecure.\n",
            "+----+------------+-----------+-------------------------+-------+-----------+----------+---------------+------------+-----------+---------------------+\n",
            "| id | first_name | last_name | email                   | phone | hire_date | salary   | department_id | manager_id | is_active | created_at          |\n",
            "+----+------------+-----------+-------------------------+-------+-----------+----------+---------------+------------+-----------+---------------------+\n",
            "|  1 | John       | Doe       | john.doe@company.com    | NULL  | NULL      | 75000.00 |             1 |       NULL |         1 | 2025-09-14 12:05:32 |\n",
            "|  2 | Jane       | Smith     | jane.smith@company.com  | NULL  | NULL      | 70000.00 |             2 |       NULL |         1 | 2025-09-14 12:05:40 |\n",
            "|  3 | Bob        | Johnson   | bob.johnson@company.com | NULL  | NULL      | 55000.00 |             1 |       NULL |         1 | 2025-09-14 12:05:40 |\n",
            "|  4 | Alice      | Brown     | alice.brown@company.com | NULL  | NULL      | 80000.00 |             3 |       NULL |         1 | 2025-09-14 12:05:40 |\n",
            "+----+------------+-----------+-------------------------+-------+-----------+----------+---------------+------------+-----------+---------------------+\n"
          ]
        }
      ]
    },
    {
      "cell_type": "markdown",
      "source": [
        "**SQL Clauses**"
      ],
      "metadata": {
        "id": "jnLdt8uvMYDh"
      }
    },
    {
      "cell_type": "code",
      "source": [
        "# SQL Clauses (inside SELECT statements)\n",
        "\n",
        "!mysql -uroot -proot -e \"USE testdb; \\\n",
        "SELECT first_name , salary FROM employees;\""
      ],
      "metadata": {
        "id": "WSpydyIAGdHC",
        "outputId": "e2a7541e-b996-408a-bcfc-670406881027",
        "colab": {
          "base_uri": "https://localhost:8080/"
        }
      },
      "execution_count": 27,
      "outputs": [
        {
          "output_type": "stream",
          "name": "stdout",
          "text": [
            "mysql: [Warning] Using a password on the command line interface can be insecure.\n",
            "+------------+----------+\n",
            "| first_name | salary   |\n",
            "+------------+----------+\n",
            "| John       | 75000.00 |\n",
            "| Jane       | 70000.00 |\n",
            "| Bob        | 55000.00 |\n",
            "| Alice      | 80000.00 |\n",
            "+------------+----------+\n"
          ]
        }
      ]
    },
    {
      "cell_type": "code",
      "source": [
        "# FROM Clause\n",
        "!mysql -uroot -proot -e \"USE testdb; \\\n",
        "SELECT * FROM employees;\""
      ],
      "metadata": {
        "id": "pIHZ0WXfHrhh",
        "outputId": "e0bdd1e6-0592-4e08-a65c-74f046c77972",
        "colab": {
          "base_uri": "https://localhost:8080/"
        }
      },
      "execution_count": 28,
      "outputs": [
        {
          "output_type": "stream",
          "name": "stdout",
          "text": [
            "mysql: [Warning] Using a password on the command line interface can be insecure.\n",
            "+----+------------+-----------+-------------------------+-------+-----------+----------+---------------+------------+-----------+---------------------+\n",
            "| id | first_name | last_name | email                   | phone | hire_date | salary   | department_id | manager_id | is_active | created_at          |\n",
            "+----+------------+-----------+-------------------------+-------+-----------+----------+---------------+------------+-----------+---------------------+\n",
            "|  1 | John       | Doe       | john.doe@company.com    | NULL  | NULL      | 75000.00 |             1 |       NULL |         1 | 2025-09-14 12:05:32 |\n",
            "|  2 | Jane       | Smith     | jane.smith@company.com  | NULL  | NULL      | 70000.00 |             2 |       NULL |         1 | 2025-09-14 12:05:40 |\n",
            "|  3 | Bob        | Johnson   | bob.johnson@company.com | NULL  | NULL      | 55000.00 |             1 |       NULL |         1 | 2025-09-14 12:05:40 |\n",
            "|  4 | Alice      | Brown     | alice.brown@company.com | NULL  | NULL      | 80000.00 |             3 |       NULL |         1 | 2025-09-14 12:05:40 |\n",
            "+----+------------+-----------+-------------------------+-------+-----------+----------+---------------+------------+-----------+---------------------+\n"
          ]
        }
      ]
    },
    {
      "cell_type": "code",
      "source": [
        "# WHERE Clause\n",
        "!mysql -uroot -proot -e \"USE testdb; \\\n",
        "SELECT first_name , salary FROM employees WHERE salary > 5000;\"\n"
      ],
      "metadata": {
        "id": "ND7dJl6DJDER",
        "outputId": "ee601c20-074a-4763-a28f-51d9eff36fdf",
        "colab": {
          "base_uri": "https://localhost:8080/"
        }
      },
      "execution_count": 30,
      "outputs": [
        {
          "output_type": "stream",
          "name": "stdout",
          "text": [
            "mysql: [Warning] Using a password on the command line interface can be insecure.\n",
            "+------------+----------+\n",
            "| first_name | salary   |\n",
            "+------------+----------+\n",
            "| John       | 75000.00 |\n",
            "| Jane       | 70000.00 |\n",
            "| Bob        | 55000.00 |\n",
            "| Alice      | 80000.00 |\n",
            "+------------+----------+\n"
          ]
        }
      ]
    },
    {
      "cell_type": "code",
      "source": [
        "# GROUP BY Clause\n",
        "\n",
        "!mysql -uroot -proot -e \"USE testdb; \\\n",
        "SELECT department_id, AVG(salary) AS avg_salary FROM employees GROUP BY department_id;\"\n"
      ],
      "metadata": {
        "id": "xS3h-_AmKHcZ",
        "outputId": "ed4c5925-73ac-470b-c4f2-92fe5717e2b7",
        "colab": {
          "base_uri": "https://localhost:8080/"
        }
      },
      "execution_count": 36,
      "outputs": [
        {
          "output_type": "stream",
          "name": "stdout",
          "text": [
            "mysql: [Warning] Using a password on the command line interface can be insecure.\n",
            "+---------------+--------------+\n",
            "| department_id | avg_salary   |\n",
            "+---------------+--------------+\n",
            "|             1 | 65000.000000 |\n",
            "|             2 | 70000.000000 |\n",
            "|             3 | 80000.000000 |\n",
            "+---------------+--------------+\n"
          ]
        }
      ]
    },
    {
      "cell_type": "code",
      "source": [],
      "metadata": {
        "id": "8_Ge-qGoKqn6"
      },
      "execution_count": null,
      "outputs": []
    },
    {
      "cell_type": "code",
      "source": [
        "# HAVING Clause\n",
        "\n",
        "!mysql -uroot -proot -e \"USE testdb; \\\n",
        "SELECT department_id, COUNT(*) AS emp_count FROM employees GROUP BY department_id HAVING COUNT(*) > 1;\"\n",
        "\n"
      ],
      "metadata": {
        "id": "GkvLXk2RJXsR",
        "outputId": "175534d0-6683-4de3-97ee-39497f666bd6",
        "colab": {
          "base_uri": "https://localhost:8080/"
        }
      },
      "execution_count": 33,
      "outputs": [
        {
          "output_type": "stream",
          "name": "stdout",
          "text": [
            "mysql: [Warning] Using a password on the command line interface can be insecure.\n",
            "+---------------+-----------+\n",
            "| department_id | emp_count |\n",
            "+---------------+-----------+\n",
            "|             1 |         2 |\n",
            "+---------------+-----------+\n"
          ]
        }
      ]
    },
    {
      "cell_type": "code",
      "source": [
        "# ORDER BY Clause\n",
        "\n",
        "!mysql -uroot -proot -e \"USE testdb; \\\n",
        "SELECT first_name , salary  FROM employees  ORDER BY salary DESC;\"\n"
      ],
      "metadata": {
        "id": "AFBstkRdK2XY",
        "outputId": "d4f0c3b4-ca12-4878-c2f8-8df85b41ec2c",
        "colab": {
          "base_uri": "https://localhost:8080/"
        }
      },
      "execution_count": 38,
      "outputs": [
        {
          "output_type": "stream",
          "name": "stdout",
          "text": [
            "mysql: [Warning] Using a password on the command line interface can be insecure.\n",
            "+------------+----------+\n",
            "| first_name | salary   |\n",
            "+------------+----------+\n",
            "| Alice      | 80000.00 |\n",
            "| John       | 75000.00 |\n",
            "| Jane       | 70000.00 |\n",
            "| Bob        | 55000.00 |\n",
            "+------------+----------+\n"
          ]
        }
      ]
    },
    {
      "cell_type": "code",
      "source": [
        "# DISTINCT Clause - Removes duplicate rows.\n",
        "\n",
        "!mysql -uroot -proot -e \"USE testdb; \\\n",
        "SELECT DISTINCT department_id  FROM employees;\"\n"
      ],
      "metadata": {
        "id": "4XdxpP1qLGDJ",
        "outputId": "80170ddf-7f28-4234-8678-b41907f964f5",
        "colab": {
          "base_uri": "https://localhost:8080/"
        }
      },
      "execution_count": 39,
      "outputs": [
        {
          "output_type": "stream",
          "name": "stdout",
          "text": [
            "mysql: [Warning] Using a password on the command line interface can be insecure.\n",
            "+---------------+\n",
            "| department_id |\n",
            "+---------------+\n",
            "|             1 |\n",
            "|             2 |\n",
            "|             3 |\n",
            "+---------------+\n"
          ]
        }
      ]
    },
    {
      "cell_type": "code",
      "source": [
        "# LIMIT / OFFSET\n",
        "\n",
        "!mysql -uroot -proot -e \"USE testdb; \\\n",
        "SELECT *  FROM employees LIMIT 1 OFFSET 3;\"\n",
        "\n"
      ],
      "metadata": {
        "id": "m85LlLy1LeFo",
        "outputId": "d8f020e6-ce85-4345-85c5-45ba45db861b",
        "colab": {
          "base_uri": "https://localhost:8080/"
        }
      },
      "execution_count": 44,
      "outputs": [
        {
          "output_type": "stream",
          "name": "stdout",
          "text": [
            "mysql: [Warning] Using a password on the command line interface can be insecure.\n",
            "+----+------------+-----------+-------------------------+-------+-----------+----------+---------------+------------+-----------+---------------------+\n",
            "| id | first_name | last_name | email                   | phone | hire_date | salary   | department_id | manager_id | is_active | created_at          |\n",
            "+----+------------+-----------+-------------------------+-------+-----------+----------+---------------+------------+-----------+---------------------+\n",
            "|  4 | Alice      | Brown     | alice.brown@company.com | NULL  | NULL      | 80000.00 |             3 |       NULL |         1 | 2025-09-14 12:05:40 |\n",
            "+----+------------+-----------+-------------------------+-------+-----------+----------+---------------+------------+-----------+---------------------+\n"
          ]
        }
      ]
    },
    {
      "cell_type": "code",
      "source": [
        "# Top\n",
        "!mysql -uroot -proot -e \"USE testdb; \\\n",
        "SELECT TOP 3 * FROM employees;\""
      ],
      "metadata": {
        "id": "H8MNey_kLy4A",
        "outputId": "0a16445c-8321-44e7-decb-60047888468e",
        "colab": {
          "base_uri": "https://localhost:8080/"
        }
      },
      "execution_count": 49,
      "outputs": [
        {
          "output_type": "stream",
          "name": "stdout",
          "text": [
            "mysql: [Warning] Using a password on the command line interface can be insecure.\n",
            "+----+------------+-----------+-------------------------+-------+-----------+----------+---------------+------------+-----------+---------------------+\n",
            "| id | first_name | last_name | email                   | phone | hire_date | salary   | department_id | manager_id | is_active | created_at          |\n",
            "+----+------------+-----------+-------------------------+-------+-----------+----------+---------------+------------+-----------+---------------------+\n",
            "|  1 | John       | Doe       | john.doe@company.com    | NULL  | NULL      | 75000.00 |             1 |       NULL |         1 | 2025-09-14 12:05:32 |\n",
            "|  2 | Jane       | Smith     | jane.smith@company.com  | NULL  | NULL      | 70000.00 |             2 |       NULL |         1 | 2025-09-14 12:05:40 |\n",
            "|  3 | Bob        | Johnson   | bob.johnson@company.com | NULL  | NULL      | 55000.00 |             1 |       NULL |         1 | 2025-09-14 12:05:40 |\n",
            "|  4 | Alice      | Brown     | alice.brown@company.com | NULL  | NULL      | 80000.00 |             3 |       NULL |         1 | 2025-09-14 12:05:40 |\n",
            "+----+------------+-----------+-------------------------+-------+-----------+----------+---------------+------------+-----------+---------------------+\n"
          ]
        }
      ]
    },
    {
      "cell_type": "markdown",
      "source": [
        "**Functions & Operators Keywords**"
      ],
      "metadata": {
        "id": "VmUGfg8jMm5x"
      }
    },
    {
      "cell_type": "code",
      "source": [
        "# SQL Operators\n",
        "\n",
        "# Comparison Operators\n",
        "\n",
        "!mysql -uroot -proot -e \"USE testdb; \\\n",
        "SELECT * FROM employees WHERE salary > 5000;\"\n",
        "\n",
        "!mysql -uroot -proot -e \"USE testdb; \\\n",
        "SELECT * FROM employees WHERE salary = 75000;\"\n",
        "\n",
        "!mysql -uroot -proot -e \"USE testdb; \\\n",
        "SELECT * FROM employees WHERE salary <> 6000;\"\n"
      ],
      "metadata": {
        "id": "CWKxPIAyNgT4",
        "outputId": "eddb2ac7-879b-4b4a-ad38-3164b4cc5105",
        "colab": {
          "base_uri": "https://localhost:8080/"
        }
      },
      "execution_count": 53,
      "outputs": [
        {
          "output_type": "stream",
          "name": "stdout",
          "text": [
            "mysql: [Warning] Using a password on the command line interface can be insecure.\n",
            "+----+------------+-----------+-------------------------+-------+-----------+----------+---------------+------------+-----------+---------------------+\n",
            "| id | first_name | last_name | email                   | phone | hire_date | salary   | department_id | manager_id | is_active | created_at          |\n",
            "+----+------------+-----------+-------------------------+-------+-----------+----------+---------------+------------+-----------+---------------------+\n",
            "|  1 | John       | Doe       | john.doe@company.com    | NULL  | NULL      | 75000.00 |             1 |       NULL |         1 | 2025-09-14 12:05:32 |\n",
            "|  2 | Jane       | Smith     | jane.smith@company.com  | NULL  | NULL      | 70000.00 |             2 |       NULL |         1 | 2025-09-14 12:05:40 |\n",
            "|  3 | Bob        | Johnson   | bob.johnson@company.com | NULL  | NULL      | 55000.00 |             1 |       NULL |         1 | 2025-09-14 12:05:40 |\n",
            "|  4 | Alice      | Brown     | alice.brown@company.com | NULL  | NULL      | 80000.00 |             3 |       NULL |         1 | 2025-09-14 12:05:40 |\n",
            "+----+------------+-----------+-------------------------+-------+-----------+----------+---------------+------------+-----------+---------------------+\n",
            "mysql: [Warning] Using a password on the command line interface can be insecure.\n",
            "+----+------------+-----------+----------------------+-------+-----------+----------+---------------+------------+-----------+---------------------+\n",
            "| id | first_name | last_name | email                | phone | hire_date | salary   | department_id | manager_id | is_active | created_at          |\n",
            "+----+------------+-----------+----------------------+-------+-----------+----------+---------------+------------+-----------+---------------------+\n",
            "|  1 | John       | Doe       | john.doe@company.com | NULL  | NULL      | 75000.00 |             1 |       NULL |         1 | 2025-09-14 12:05:32 |\n",
            "+----+------------+-----------+----------------------+-------+-----------+----------+---------------+------------+-----------+---------------------+\n",
            "mysql: [Warning] Using a password on the command line interface can be insecure.\n",
            "+----+------------+-----------+-------------------------+-------+-----------+----------+---------------+------------+-----------+---------------------+\n",
            "| id | first_name | last_name | email                   | phone | hire_date | salary   | department_id | manager_id | is_active | created_at          |\n",
            "+----+------------+-----------+-------------------------+-------+-----------+----------+---------------+------------+-----------+---------------------+\n",
            "|  1 | John       | Doe       | john.doe@company.com    | NULL  | NULL      | 75000.00 |             1 |       NULL |         1 | 2025-09-14 12:05:32 |\n",
            "|  2 | Jane       | Smith     | jane.smith@company.com  | NULL  | NULL      | 70000.00 |             2 |       NULL |         1 | 2025-09-14 12:05:40 |\n",
            "|  3 | Bob        | Johnson   | bob.johnson@company.com | NULL  | NULL      | 55000.00 |             1 |       NULL |         1 | 2025-09-14 12:05:40 |\n",
            "|  4 | Alice      | Brown     | alice.brown@company.com | NULL  | NULL      | 80000.00 |             3 |       NULL |         1 | 2025-09-14 12:05:40 |\n",
            "+----+------------+-----------+-------------------------+-------+-----------+----------+---------------+------------+-----------+---------------------+\n"
          ]
        }
      ]
    },
    {
      "cell_type": "code",
      "source": [
        "# Logical Operators\n",
        "\n",
        "!mysql -uroot -proot -e \"USE testdb; \\\n",
        "SELECT * FROM employees WHERE salary > 4000 AND department_id = 1;\"\n",
        "\n",
        "!mysql -uroot -proot -e \"USE testdb; \\\n",
        "SELECT * FROM employees WHERE salary > 4000 OR department_id = 2;\"\n",
        "\n",
        "!mysql -uroot -proot -e \"USE testdb; \\\n",
        "SELECT * FROM employees WHERE NOT department_id = 3;\""
      ],
      "metadata": {
        "id": "U-W5YXpfOQ5i",
        "outputId": "e8274181-428b-477d-9513-1b0c733510a6",
        "colab": {
          "base_uri": "https://localhost:8080/"
        }
      },
      "execution_count": 54,
      "outputs": [
        {
          "output_type": "stream",
          "name": "stdout",
          "text": [
            "mysql: [Warning] Using a password on the command line interface can be insecure.\n",
            "+----+------------+-----------+-------------------------+-------+-----------+----------+---------------+------------+-----------+---------------------+\n",
            "| id | first_name | last_name | email                   | phone | hire_date | salary   | department_id | manager_id | is_active | created_at          |\n",
            "+----+------------+-----------+-------------------------+-------+-----------+----------+---------------+------------+-----------+---------------------+\n",
            "|  1 | John       | Doe       | john.doe@company.com    | NULL  | NULL      | 75000.00 |             1 |       NULL |         1 | 2025-09-14 12:05:32 |\n",
            "|  3 | Bob        | Johnson   | bob.johnson@company.com | NULL  | NULL      | 55000.00 |             1 |       NULL |         1 | 2025-09-14 12:05:40 |\n",
            "+----+------------+-----------+-------------------------+-------+-----------+----------+---------------+------------+-----------+---------------------+\n",
            "mysql: [Warning] Using a password on the command line interface can be insecure.\n",
            "+----+------------+-----------+-------------------------+-------+-----------+----------+---------------+------------+-----------+---------------------+\n",
            "| id | first_name | last_name | email                   | phone | hire_date | salary   | department_id | manager_id | is_active | created_at          |\n",
            "+----+------------+-----------+-------------------------+-------+-----------+----------+---------------+------------+-----------+---------------------+\n",
            "|  1 | John       | Doe       | john.doe@company.com    | NULL  | NULL      | 75000.00 |             1 |       NULL |         1 | 2025-09-14 12:05:32 |\n",
            "|  2 | Jane       | Smith     | jane.smith@company.com  | NULL  | NULL      | 70000.00 |             2 |       NULL |         1 | 2025-09-14 12:05:40 |\n",
            "|  3 | Bob        | Johnson   | bob.johnson@company.com | NULL  | NULL      | 55000.00 |             1 |       NULL |         1 | 2025-09-14 12:05:40 |\n",
            "|  4 | Alice      | Brown     | alice.brown@company.com | NULL  | NULL      | 80000.00 |             3 |       NULL |         1 | 2025-09-14 12:05:40 |\n",
            "+----+------------+-----------+-------------------------+-------+-----------+----------+---------------+------------+-----------+---------------------+\n",
            "mysql: [Warning] Using a password on the command line interface can be insecure.\n",
            "+----+------------+-----------+-------------------------+-------+-----------+----------+---------------+------------+-----------+---------------------+\n",
            "| id | first_name | last_name | email                   | phone | hire_date | salary   | department_id | manager_id | is_active | created_at          |\n",
            "+----+------------+-----------+-------------------------+-------+-----------+----------+---------------+------------+-----------+---------------------+\n",
            "|  1 | John       | Doe       | john.doe@company.com    | NULL  | NULL      | 75000.00 |             1 |       NULL |         1 | 2025-09-14 12:05:32 |\n",
            "|  2 | Jane       | Smith     | jane.smith@company.com  | NULL  | NULL      | 70000.00 |             2 |       NULL |         1 | 2025-09-14 12:05:40 |\n",
            "|  3 | Bob        | Johnson   | bob.johnson@company.com | NULL  | NULL      | 55000.00 |             1 |       NULL |         1 | 2025-09-14 12:05:40 |\n",
            "+----+------------+-----------+-------------------------+-------+-----------+----------+---------------+------------+-----------+---------------------+\n"
          ]
        }
      ]
    },
    {
      "cell_type": "code",
      "source": [
        "# Other Common Operators\n",
        "# _______________________BETWEEN _______________\n",
        "\n",
        "!mysql -uroot -proot -e \"USE testdb; \\\n",
        " SELECT * FROM employees WHERE salary BETWEEN 5000 AND 6000;\"\n",
        "\n",
        "# _______________________IN _______________\n",
        "\n",
        "!mysql -uroot -proot -e \"USE testdb; \\\n",
        "SELECT * FROM employees WHERE department_id IN (1, 2, 3);\"\n",
        "\n",
        "#________________________Like _______________\n",
        "\n",
        "!mysql -uroot -proot -e \"USE testdb; \\\n",
        "SELECT * FROM employees WHERE first_name  LIKE 'A%';\"\n",
        "\n",
        "#____________________________IS NULL___________________\n",
        "\n",
        "!mysql -uroot -proot -e \"USE testdb; \\\n",
        " SELECT * FROM employees WHERE department_id IS NULL;\""
      ],
      "metadata": {
        "id": "H3XUYXVVOuhg",
        "outputId": "9748ef85-87a2-4d46-9eda-1590e8ea665e",
        "colab": {
          "base_uri": "https://localhost:8080/"
        }
      },
      "execution_count": 60,
      "outputs": [
        {
          "output_type": "stream",
          "name": "stdout",
          "text": [
            "mysql: [Warning] Using a password on the command line interface can be insecure.\n",
            "mysql: [Warning] Using a password on the command line interface can be insecure.\n",
            "+----+------------+-----------+-------------------------+-------+-----------+----------+---------------+------------+-----------+---------------------+\n",
            "| id | first_name | last_name | email                   | phone | hire_date | salary   | department_id | manager_id | is_active | created_at          |\n",
            "+----+------------+-----------+-------------------------+-------+-----------+----------+---------------+------------+-----------+---------------------+\n",
            "|  1 | John       | Doe       | john.doe@company.com    | NULL  | NULL      | 75000.00 |             1 |       NULL |         1 | 2025-09-14 12:05:32 |\n",
            "|  2 | Jane       | Smith     | jane.smith@company.com  | NULL  | NULL      | 70000.00 |             2 |       NULL |         1 | 2025-09-14 12:05:40 |\n",
            "|  3 | Bob        | Johnson   | bob.johnson@company.com | NULL  | NULL      | 55000.00 |             1 |       NULL |         1 | 2025-09-14 12:05:40 |\n",
            "|  4 | Alice      | Brown     | alice.brown@company.com | NULL  | NULL      | 80000.00 |             3 |       NULL |         1 | 2025-09-14 12:05:40 |\n",
            "+----+------------+-----------+-------------------------+-------+-----------+----------+---------------+------------+-----------+---------------------+\n",
            "mysql: [Warning] Using a password on the command line interface can be insecure.\n",
            "+----+------------+-----------+-------------------------+-------+-----------+----------+---------------+------------+-----------+---------------------+\n",
            "| id | first_name | last_name | email                   | phone | hire_date | salary   | department_id | manager_id | is_active | created_at          |\n",
            "+----+------------+-----------+-------------------------+-------+-----------+----------+---------------+------------+-----------+---------------------+\n",
            "|  4 | Alice      | Brown     | alice.brown@company.com | NULL  | NULL      | 80000.00 |             3 |       NULL |         1 | 2025-09-14 12:05:40 |\n",
            "+----+------------+-----------+-------------------------+-------+-----------+----------+---------------+------------+-----------+---------------------+\n",
            "mysql: [Warning] Using a password on the command line interface can be insecure.\n"
          ]
        }
      ]
    }
  ]
}