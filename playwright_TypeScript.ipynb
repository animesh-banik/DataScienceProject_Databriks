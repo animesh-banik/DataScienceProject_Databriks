{
  "nbformat": 4,
  "nbformat_minor": 0,
  "metadata": {
    "colab": {
      "provenance": [],
      "include_colab_link": true
    },
    "kernelspec": {
      "name": "python3",
      "display_name": "Python 3"
    },
    "language_info": {
      "name": "python"
    }
  },
  "cells": [
    {
      "cell_type": "markdown",
      "metadata": {
        "id": "view-in-github",
        "colab_type": "text"
      },
      "source": [
        "<a href=\"https://colab.research.google.com/github/animesh-banik/DataScienceProject_Databriks/blob/Google_Colub/playwright_TypeScript.ipynb\" target=\"_parent\"><img src=\"https://colab.research.google.com/assets/colab-badge.svg\" alt=\"Open In Colab\"/></a>"
      ]
    },
    {
      "cell_type": "markdown",
      "source": [
        "**What is Type Script**\n",
        "\n",
        "TypeScript is a superset of JavaScript developed by Microsoft that adds static typing and object-oriented features to JavaScript.\n",
        "It helps developers catch errors during development rather than at runtime, which improves code quality and maintainability.\n",
        "TypeScript code is compiled (or transpiled) into plain JavaScript, so it can run in any browser or JavaScript environment.\n",
        "\n",
        "It supports features like interfaces, classes, generics, and access modifiers, which make it suitable for large-scale enterprise applications.\n",
        "\n",
        "In short, TypeScript combines the flexibility of JavaScript with the reliability of static typing.\n",
        "\n"
      ],
      "metadata": {
        "id": "rm5qGKjkJnD9"
      }
    },
    {
      "cell_type": "markdown",
      "source": [
        "** All Type scripts keywords**\n",
        "\n",
        "**Variable Declaration Keywords**\n",
        "\n",
        "| Keyword | Meaning                                                     | Example                           |\n",
        "| ------- | ----------------------------------------------------------- | --------------------------------- |\n",
        "| `let`   | Declares a **block-scoped mutable** variable                | `let count: number = 10;`         |\n",
        "| `const` | Declares a **block-scoped constant** (cannot be reassigned) | `const name: string = \"Animesh\";` |\n",
        "| `var`   | Declares a **function-scoped** variable (old JS style)      | `var age = 25;`                   |\n",
        "\n",
        "**Data Type Keywords**\n",
        "\n",
        "| Keyword             | Description                                            | Example                                                |\n",
        "| ------------------- | ------------------------------------------------------ | ------------------------------------------------------ |\n",
        "| `string`            | Text type                                              | `let city: string = \"Kolkata\";`                        |\n",
        "| `number`            | Numeric type                                           | `let price: number = 250;`                             |\n",
        "| `boolean`           | True/False                                             | `let isActive: boolean = true;`                        |\n",
        "| `any`               | Any type (disables type checking)                      | `let data: any = 10; data = \"Hello\";`                  |\n",
        "| `void`              | Function returns nothing                               | `function greet(): void { console.log(\"Hi\"); }`        |\n",
        "| `null`, `undefined` | Represent null or undefined values                     | `let x: null = null;`                                  |\n",
        "| `unknown`           | Safer alternative to `any`, requires type checking     | `let input: unknown = \"test\";`                         |\n",
        "| `never`             | Function never returns (throws error or infinite loop) | `function fail(): never { throw new Error(\"Error\"); }` |\n",
        "| `object`            | Any non-primitive type                                 | `let person: object = { name: \"Animesh\" };`            |\n",
        "\n",
        "\n",
        "Control Flow Keywords\n"
      ],
      "metadata": {
        "id": "pm3TjnRIKxt6"
      }
    },
    {
      "cell_type": "markdown",
      "source": [],
      "metadata": {
        "id": "adLIgP3P4dqw"
      }
    },
    {
      "cell_type": "markdown",
      "source": [
        "**What is the any type?**\n",
        "\n",
        "In TypeScript, the any type is a special type that allows a variable to hold any kind of value, disabling all type checking for that variable.\n",
        "\n",
        "Here, the variable value can store a number, string, boolean, or object — TypeScript won’t enforce any type rules.\n",
        "\n",
        "let value: any = 10;\n",
        "\n",
        "value = \"Hello\";   // ✅ No error\n",
        "\n",
        "value = true;      // ✅ No error\n",
        "\n",
        "value = { a: 1 };  // ✅ No error"
      ],
      "metadata": {
        "id": "AN42h-pgb5qA"
      }
    },
    {
      "cell_type": "markdown",
      "source": [
        "**What are basic types in TypeScript?**\n",
        "\n",
        "    let num: number = 42;\n",
        "    let str: string = \"hello\";\n",
        "    let bool: boolean = true;\n",
        "    let arr: number[] = [1, 2, 3];\n",
        "    let tuple: [string, number] = [\"age\", 30];\n",
        "    let any: any = \"anything\";\n",
        "    let unknown: unknown = 4;\n",
        "    let nullValue: null = null;\n",
        "    let undefinedValue: undefined = undefined;"
      ],
      "metadata": {
        "id": "YSLqCldB4PUP"
      }
    },
    {
      "cell_type": "markdown",
      "source": [
        "**How to install TypeScript?**\n",
        "\n",
        "    npm install -g typescript\n",
        "    # or locally\n",
        "    npm install --save-dev typescript\n",
        "\n"
      ],
      "metadata": {
        "id": "02098JJV4Ln3"
      }
    },
    {
      "cell_type": "markdown",
      "source": [
        "**What is the void type?**\n",
        "\n",
        "    function log(message: string): void {\n",
        "    console.log(message);\n",
        "    }"
      ],
      "metadata": {
        "id": "zarCcDN-cnlR"
      }
    },
    {
      "cell_type": "markdown",
      "source": [
        "**Arrays in TypeScript**\n",
        "\n",
        "    let numbers: number[] = [1, 2, 3];\n",
        "    let strings: Array<string> = [\"a\", \"b\"];"
      ],
      "metadata": {
        "id": "AemOSTF_dCjD"
      }
    },
    {
      "cell_type": "markdown",
      "source": [
        "**What are tuples in Type Script**\n",
        "\n",
        "    let tuple: [string, number, boolean] = [\"test\", 42, true];"
      ],
      "metadata": {
        "id": "Y3mG_rFadKdA"
      }
    },
    {
      "cell_type": "markdown",
      "source": [
        "**What are enums?**\n",
        "\n",
        "    enum Color {\n",
        "    Red,\n",
        "    Green,\n",
        "    Blue\n",
        "    }\n",
        "    let c: Color = Color.Green;"
      ],
      "metadata": {
        "id": "qjIcVlJEd_M1"
      }
    },
    {
      "cell_type": "markdown",
      "source": [
        "**What are string literal types?**\n",
        "\n",
        "    type Direction = \"North\" | \"South\" | \"East\" | \"West\";\n",
        "    let dir: Direction = \"North\";"
      ],
      "metadata": {
        "id": "gibsl7sjeQDB"
      }
    },
    {
      "cell_type": "markdown",
      "source": [
        "**What are union types?**\n",
        "\n",
        "    let value: string | number;\n",
        "    value = \"test\"; // OK\n",
        "    value = 42; // OK"
      ],
      "metadata": {
        "id": "uCYI5vXQeWW_"
      }
    },
    {
      "cell_type": "markdown",
      "source": [
        "**What are intersection types?**\n",
        "\n",
        "    type A = { a: number };\n",
        "    type B = { b: string };\n",
        "    type C = A & B; // { a: number, b: string }"
      ],
      "metadata": {
        "id": "2MgkTWwGehHR"
      }
    },
    {
      "cell_type": "markdown",
      "source": [
        "**What is type alias?**\n",
        "\n",
        "        type User = {\n",
        "        name: string;\n",
        "        age: number;\n",
        "        };"
      ],
      "metadata": {
        "id": "iJXC7zUveokG"
      }
    },
    {
      "cell_type": "markdown",
      "source": [
        "**What is an interface?**\n",
        "\n",
        "        interface User {\n",
        "        name: string;\n",
        "        age: number;\n",
        "        }"
      ],
      "metadata": {
        "id": "SL8uupy9etto"
      }
    },
    {
      "cell_type": "markdown",
      "source": [
        "**How to extend interfaces?**\n",
        "\n",
        "        interface Animal {\n",
        "        name: string;\n",
        "        }\n",
        "        interface Dog extends Animal {\n",
        "        breed: string;\n",
        "        }"
      ],
      "metadata": {
        "id": "vgi5GPtHe-J-"
      }
    },
    {
      "cell_type": "markdown",
      "source": [
        "**What are optional properties?**\n",
        "\n",
        "    interface User {\n",
        "    name: string;\n",
        "    age?: number; // optional\n",
        "    }"
      ],
      "metadata": {
        "id": "wkXpjvEbfDhP"
      }
    },
    {
      "cell_type": "markdown",
      "source": [
        "**Difference between type and interface?**\n",
        "\n",
        "Interface: Can be extended, merged\n",
        "\n",
        "Type: More flexible (unions, intersections), cannot be merged"
      ],
      "metadata": {
        "id": "XPrfaoTGey9w"
      }
    },
    {
      "cell_type": "markdown",
      "source": [
        "**How to extend interfaces?**\n",
        "\n",
        "    interface Animal {\n",
        "    name: string;\n",
        "    }\n",
        "    interface Dog extends Animal {\n",
        "    breed: string;\n",
        "    }"
      ],
      "metadata": {
        "id": "2By1RLfhpfAv"
      }
    },
    {
      "cell_type": "markdown",
      "source": [
        "**What are generic constraints?**\n",
        "\n",
        "    interface HasLength {\n",
        "    length: number;\n",
        "    }\n",
        "    function logLength<T extends HasLength>(arg: T): void {\n",
        "    console.log(arg.length);\n",
        "    }"
      ],
      "metadata": {
        "id": "kf52nWSEq5lJ"
      }
    },
    {
      "cell_type": "markdown",
      "source": [
        "**What are generic classes?**\n",
        "\n",
        "    class GenericNumber<T> {\n",
        "    value: T;\n",
        "    add: (x: T, y: T) => T;\n",
        "    }"
      ],
      "metadata": {
        "id": "Ty-rgd4OrABJ"
      }
    },
    {
      "cell_type": "markdown",
      "source": [
        "**What are generic interfaces?**\n",
        "\n",
        "        interface GenericIdentity<T> {\n",
        "        (arg: T): T;\n",
        "        }"
      ],
      "metadata": {
        "id": "tH_EI5iArE7Q"
      }
    },
    {
      "cell_type": "markdown",
      "source": [
        "**What is typeof operator?**\n",
        "\n",
        "        let x = 10;\n",
        "        let y: typeof x; // type is number"
      ],
      "metadata": {
        "id": "10D9cPr5rKKY"
      }
    },
    {
      "cell_type": "markdown",
      "source": [
        "**What is keyof operator?**\n",
        "\n",
        "        interface User {\n",
        "        name: string;\n",
        "        age: number;\n",
        "        }\n",
        "        type UserKeys = keyof User; // \"name\" | \"age\""
      ],
      "metadata": {
        "id": "8quI-DsfrPR0"
      }
    },
    {
      "cell_type": "markdown",
      "source": [
        "**What are mapped types?**\n",
        "\n",
        "        type Readonly<T> = {\n",
        "        readonly [P in keyof T]: T[P];\n",
        "        };"
      ],
      "metadata": {
        "id": "wC8Bx_yMrUmm"
      }
    },
    {
      "cell_type": "markdown",
      "source": [
        "**What is Partial<T>? Makes all properties optional**\n",
        "\n",
        "    interface User {\n",
        "    name: string;\n",
        "    age: number;\n",
        "    }\n",
        "    type PartialUser = Partial<User>;"
      ],
      "metadata": {
        "id": "ISwNRL7wra7g"
      }
    },
    {
      "cell_type": "markdown",
      "source": [
        "**How to install Selenium with TypeScript?**\n",
        "\n",
        "    npm install selenium-webdriver\n",
        "    npm install --save-dev @types/selenium-webdriver\n",
        "    npm install --save-dev typescript"
      ],
      "metadata": {
        "id": "LBehg8qIsBGY"
      }
    },
    {
      "cell_type": "markdown",
      "source": [
        "**How to create WebDriver instance in TypeScript?**\n",
        "\n",
        "    import { Builder, WebDriver } from 'selenium-webdriver';\n",
        "\n",
        "    async function createDriver(): Promise<WebDriver> {\n",
        "    return await new Builder().forBrowser('chrome').build();\n",
        "    }"
      ],
      "metadata": {
        "id": "OeqMYo_TsNCZ"
      }
    },
    {
      "cell_type": "markdown",
      "source": [
        "**How to type WebElement?**\n",
        "\n",
        "    import { WebElement } from 'selenium-webdriver';\n",
        "\n",
        "    const element: WebElement = await driver.findElement(By.id('test'));"
      ],
      "metadata": {
        "id": "xp9bTGfcsWIp"
      }
    },
    {
      "cell_type": "markdown",
      "source": [
        "**How to create a typed Page Object?**\n",
        "\n",
        "        import { WebDriver, By, WebElement } from 'selenium-webdriver';\n",
        "\n",
        "        export class LoginPage {\n",
        "        constructor(private driver: WebDriver) {}\n",
        "        \n",
        "        private get usernameInput(): Promise<WebElement> {\n",
        "            return this.driver.findElement(By.id('username'));\n",
        "        }\n",
        "        \n",
        "        async login(username: string, password: string): Promise<void> {\n",
        "            await (await this.usernameInput).sendKeys(username);\n",
        "        }\n",
        "        }"
      ],
      "metadata": {
        "id": "9Fj1UZuVsqCb"
      }
    },
    {
      "cell_type": "markdown",
      "source": [
        "**How to create typed locators?**\n",
        "\n",
        "        import { By, Locator } from 'selenium-webdriver';\n",
        "\n",
        "        const locators: Record<string, Locator> = {\n",
        "        username: By.id('username'),\n",
        "        password: By.css('[name=\"password\"]'),\n",
        "        submit: By.xpath('//button[@type=\"submit\"]')\n",
        "        };"
      ],
      "metadata": {
        "id": "Ae9-aRXas-pB"
      }
    },
    {
      "cell_type": "markdown",
      "source": [
        "**How to create base test class?**\n",
        "\n",
        "        export abstract class BaseTest {\n",
        "        protected driver!: WebDriver;\n",
        "        \n",
        "        async setup(): Promise<void> {\n",
        "            this.driver = await new Builder().forBrowser('chrome').build();\n",
        "        }\n",
        "        \n",
        "        async teardown(): Promise<void> {\n",
        "            await this.driver.quit();\n",
        "        }\n",
        "        }"
      ],
      "metadata": {
        "id": "TzmybuG-tilP"
      }
    },
    {
      "cell_type": "markdown",
      "source": [
        "**How to type Chrome options?**\n",
        "\n",
        "        import { Options as ChromeOptions } from 'selenium-webdriver/chrome';\n",
        "\n",
        "        const options: ChromeOptions = new ChromeOptions();\n",
        "        options.addArguments('--headless');\n",
        "        options.addArguments('--disable-gpu');"
      ],
      "metadata": {
        "id": "VVy2UTk6t1iB"
      }
    },
    {
      "cell_type": "markdown",
      "source": [
        "**How to type Firefox options?**\n",
        "\n",
        "    import { Options as FirefoxOptions } from 'selenium-webdriver/firefox';\n",
        "\n",
        "    const options: FirefoxOptions = new FirefoxOptions();\n",
        "    options.addArguments('-headless');"
      ],
      "metadata": {
        "id": "hAcqEx4pt6ya"
      }
    },
    {
      "cell_type": "markdown",
      "source": [
        "**How to create typed wait conditions?**\n",
        "\n",
        "    import { until, WebDriver, WebElement } from 'selenium-webdriver';\n",
        "\n",
        "    async function waitForElement(\n",
        "    driver: WebDriver,\n",
        "    locator: Locator,\n",
        "    timeout: number = 5000\n",
        "    ): Promise<WebElement> {\n",
        "    return await driver.wait(until.elementLocated(locator), timeout);\n",
        "    }"
      ],
      "metadata": {
        "id": "H_s4ANyOuCPd"
      }
    },
    {
      "cell_type": "markdown",
      "source": [
        "**How to type browser capabilities?**\n",
        "\n",
        "    import { Capabilities } from 'selenium-webdriver';\n",
        "\n",
        "    const capabilities: Capabilities = new Capabilities();\n",
        "    capabilities.set('browserName', 'chrome');"
      ],
      "metadata": {
        "id": "rW1hfxZGtD--"
      }
    },
    {
      "cell_type": "markdown",
      "source": [
        "**What is Type Script**\n",
        "\n",
        "TypeScript is a superset of JavaScript developed by Microsoft that adds static typing and object-oriented features to JavaScript.\n",
        "It helps developers catch errors during development rather than at runtime, which improves code quality and maintainability.\n",
        "TypeScript code is compiled (or transpiled) into plain JavaScript, so it can run in any browser or JavaScript environment.\n",
        "\n",
        "It supports features like interfaces, classes, generics, and access modifiers, which make it suitable for large-scale enterprise applications.\n",
        "\n",
        "In short, TypeScript combines the flexibility of JavaScript with the reliability of static typing."
      ],
      "metadata": {
        "id": "Gihak47F4-gT"
      }
    },
    {
      "cell_type": "markdown",
      "source": [
        "**Steps to Run TypeScript in Google Colab**"
      ],
      "metadata": {
        "id": "fWkG5YZr3Thz"
      }
    },
    {
      "cell_type": "code",
      "execution_count": null,
      "metadata": {
        "colab": {
          "base_uri": "https://localhost:8080/"
        },
        "id": "GoFK3gJDd7wp",
        "outputId": "990bdce8-12ef-491a-eda0-eba0dcba99e1",
        "collapsed": true
      },
      "outputs": [
        {
          "output_type": "stream",
          "name": "stdout",
          "text": [
            "Reading package lists... Done\n",
            "Building dependency tree... Done\n",
            "Reading state information... Done\n",
            "Package 'nodejs' is not installed, so not removed\n",
            "0 upgraded, 0 newly installed, 0 to remove and 38 not upgraded.\n",
            "\u001b[38;5;79m2025-10-08 18:55:33 - Installing pre-requisites\u001b[0m\n",
            "Hit:1 https://cli.github.com/packages stable InRelease\n",
            "Get:2 https://cloud.r-project.org/bin/linux/ubuntu jammy-cran40/ InRelease [3,632 B]\n",
            "Hit:3 https://developer.download.nvidia.com/compute/cuda/repos/ubuntu2204/x86_64  InRelease\n",
            "Get:4 http://security.ubuntu.com/ubuntu jammy-security InRelease [129 kB]\n",
            "Hit:5 http://archive.ubuntu.com/ubuntu jammy InRelease\n",
            "Hit:6 https://r2u.stat.illinois.edu/ubuntu jammy InRelease\n",
            "Get:7 http://archive.ubuntu.com/ubuntu jammy-updates InRelease [128 kB]\n",
            "Get:8 http://security.ubuntu.com/ubuntu jammy-security/main amd64 Packages [3,425 kB]\n",
            "Get:9 https://ppa.launchpadcontent.net/deadsnakes/ppa/ubuntu jammy InRelease [18.1 kB]\n",
            "Hit:10 https://ppa.launchpadcontent.net/graphics-drivers/ppa/ubuntu jammy InRelease\n",
            "Get:11 http://archive.ubuntu.com/ubuntu jammy-backports InRelease [127 kB]\n",
            "Hit:12 https://ppa.launchpadcontent.net/ubuntugis/ppa/ubuntu jammy InRelease\n",
            "Get:13 http://security.ubuntu.com/ubuntu jammy-security/universe amd64 Packages [1,276 kB]\n",
            "Get:14 http://security.ubuntu.com/ubuntu jammy-security/restricted amd64 Packages [5,727 kB]\n",
            "Get:15 http://archive.ubuntu.com/ubuntu jammy-updates/universe amd64 Packages [1,582 kB]\n",
            "Get:16 https://ppa.launchpadcontent.net/deadsnakes/ppa/ubuntu jammy/main amd64 Packages [32.8 kB]\n",
            "Get:17 http://archive.ubuntu.com/ubuntu jammy-updates/main amd64 Packages [3,750 kB]\n",
            "Fetched 16.2 MB in 3s (5,355 kB/s)\n",
            "Reading package lists... Done\n",
            "W: Skipping acquire of configured file 'main/source/Sources' as repository 'https://r2u.stat.illinois.edu/ubuntu jammy InRelease' does not seem to provide it (sources.list entry misspelt?)\n",
            "Reading package lists... Done\n",
            "Building dependency tree... Done\n",
            "Reading state information... Done\n",
            "ca-certificates is already the newest version (20240203~22.04.1).\n",
            "curl is already the newest version (7.81.0-1ubuntu1.21).\n",
            "gnupg is already the newest version (2.2.27-3ubuntu2.4).\n",
            "gnupg set to manually installed.\n",
            "The following NEW packages will be installed:\n",
            "  apt-transport-https\n",
            "0 upgraded, 1 newly installed, 0 to remove and 42 not upgraded.\n",
            "Need to get 1,510 B of archives.\n",
            "After this operation, 170 kB of additional disk space will be used.\n",
            "Get:1 http://archive.ubuntu.com/ubuntu jammy-updates/universe amd64 apt-transport-https all 2.4.14 [1,510 B]\n",
            "Fetched 1,510 B in 0s (3,614 B/s)\n",
            "Selecting previously unselected package apt-transport-https.\n",
            "(Reading database ... 126675 files and directories currently installed.)\n",
            "Preparing to unpack .../apt-transport-https_2.4.14_all.deb ...\n",
            "Unpacking apt-transport-https (2.4.14) ...\n",
            "Setting up apt-transport-https (2.4.14) ...\n",
            "Hit:1 https://cli.github.com/packages stable InRelease\n",
            "Hit:2 https://cloud.r-project.org/bin/linux/ubuntu jammy-cran40/ InRelease\n",
            "Hit:3 https://developer.download.nvidia.com/compute/cuda/repos/ubuntu2204/x86_64  InRelease\n",
            "Hit:4 http://security.ubuntu.com/ubuntu jammy-security InRelease\n",
            "Get:5 https://deb.nodesource.com/node_18.x nodistro InRelease [12.1 kB]\n",
            "Hit:6 http://archive.ubuntu.com/ubuntu jammy InRelease\n",
            "Hit:7 https://r2u.stat.illinois.edu/ubuntu jammy InRelease\n",
            "Hit:8 http://archive.ubuntu.com/ubuntu jammy-updates InRelease\n",
            "Hit:9 http://archive.ubuntu.com/ubuntu jammy-backports InRelease\n",
            "Get:10 https://deb.nodesource.com/node_18.x nodistro/main amd64 Packages [11.7 kB]\n",
            "Hit:11 https://ppa.launchpadcontent.net/deadsnakes/ppa/ubuntu jammy InRelease\n",
            "Hit:12 https://ppa.launchpadcontent.net/graphics-drivers/ppa/ubuntu jammy InRelease\n",
            "Hit:13 https://ppa.launchpadcontent.net/ubuntugis/ppa/ubuntu jammy InRelease\n",
            "Fetched 23.9 kB in 2s (15.7 kB/s)\n",
            "Reading package lists... Done\n",
            "W: Skipping acquire of configured file 'main/source/Sources' as repository 'https://r2u.stat.illinois.edu/ubuntu jammy InRelease' does not seem to provide it (sources.list entry misspelt?)\n",
            "\u001b[1;34m2025-10-08 18:55:51 - Repository configured successfully.\u001b[0m\n",
            "\u001b[38;5;79m2025-10-08 18:55:51 - To install Node.js, run: apt-get install nodejs -y\u001b[0m\n",
            "\u001b[38;5;79m2025-10-08 18:55:51 - You can use N|solid Runtime as a node.js alternative\u001b[0m\n",
            "\u001b[1;32m2025-10-08 18:55:51 - To install N|solid Runtime, run: apt-get install nsolid -y \n",
            "\u001b[0m\n",
            "Reading package lists... Done\n",
            "Building dependency tree... Done\n",
            "Reading state information... Done\n",
            "Some packages could not be installed. This may mean that you have\n",
            "requested an impossible situation or if you are using the unstable\n",
            "distribution that some required packages have not yet been created\n",
            "or been moved out of Incoming.\n",
            "The following information may help to resolve the situation:\n",
            "\n",
            "The following packages have unmet dependencies:\n",
            " nodejs : Conflicts: npm\n",
            " npm : Depends: node-cacache but it is not going to be installed\n",
            "       Depends: node-gyp but it is not going to be installed\n",
            "       Depends: node-mkdirp but it is not going to be installed\n",
            "       Depends: node-nopt but it is not going to be installed\n",
            "       Depends: node-tar but it is not going to be installed\n",
            "       Depends: node-which but it is not going to be installed\n",
            "       Depends: nodejs:any (>= 10)\n",
            "       Recommends: node-tap but it is not going to be installed\n",
            "E: Unable to correct problems, you have held broken packages.\n",
            "\u001b[1G\u001b[0K⠙\u001b[1G\u001b[0K⠹\u001b[1G\u001b[0K⠸\u001b[1G\u001b[0K⠼\u001b[1G\u001b[0K⠴\u001b[1G\u001b[0K⠦\u001b[1G\u001b[0K⠧\u001b[1G\u001b[0K⠇\u001b[1G\u001b[0K⠏\u001b[1G\u001b[0K⠋\u001b[1G\u001b[0K⠙\u001b[1G\u001b[0K⠹\u001b[1G\u001b[0K⠸\u001b[1G\u001b[0K⠼\u001b[1G\u001b[0K⠴\u001b[1G\u001b[0K⠦\u001b[1G\u001b[0K⠧\u001b[1G\u001b[0K⠇\u001b[1G\u001b[0K⠏\u001b[1G\u001b[0K⠋\u001b[1G\u001b[0K⠙\u001b[1G\u001b[0K⠹\u001b[1G\u001b[0K⠸\u001b[1G\u001b[0K⠼\u001b[1G\u001b[0K⠴\u001b[1G\u001b[0K⠦\u001b[1G\u001b[0K⠧\u001b[1G\u001b[0K⠇\u001b[1G\u001b[0K⠏\u001b[1G\u001b[0K⠋\u001b[1G\u001b[0K⠙\u001b[1G\u001b[0K⠹\u001b[1G\u001b[0K⠸\u001b[1G\u001b[0K⠼\u001b[1G\u001b[0K⠴\u001b[1G\u001b[0K⠦\u001b[1G\u001b[0K⠧\u001b[1G\u001b[0K⠇\u001b[1G\u001b[0K⠏\u001b[1G\u001b[0K⠋\u001b[1G\u001b[0K⠙\u001b[1G\u001b[0K⠹\u001b[1G\u001b[0K⠸\u001b[1G\u001b[0K⠼\u001b[1G\u001b[0K\n",
            "added 20 packages in 6s\n",
            "\u001b[1G\u001b[0K⠼\u001b[1G\u001b[0K"
          ]
        }
      ],
      "source": [
        "#_______________________________Install Node.js and TypeScript________________\n",
        "!apt-get remove -y nodejs\n",
        "!curl -fsSL https://deb.nodesource.com/setup_18.x | bash -\n",
        "!apt-get install -y nodejs npm\n",
        "!npm install -g typescript ts-node"
      ]
    },
    {
      "cell_type": "markdown",
      "source": [
        "**Verify Installation**"
      ],
      "metadata": {
        "id": "VSo8xX_z6Zp0"
      }
    },
    {
      "cell_type": "code",
      "source": [
        "!node -v     # should show v18.x or higher\n",
        "!tsc -v      # should show TypeScript version\n",
        "!ts-node -v  # should work"
      ],
      "metadata": {
        "colab": {
          "base_uri": "https://localhost:8080/"
        },
        "id": "Y3HOt-S66YkM",
        "outputId": "6f206ebd-d05e-405f-e841-fafa1b41acdd"
      },
      "execution_count": null,
      "outputs": [
        {
          "output_type": "stream",
          "name": "stdout",
          "text": [
            "v20.19.0\n",
            "Version 5.9.3\n",
            "v10.9.2\n"
          ]
        }
      ]
    },
    {
      "cell_type": "markdown",
      "source": [
        "**Create a TypeScript File**"
      ],
      "metadata": {
        "id": "WD9iJwpB4MEB"
      }
    },
    {
      "cell_type": "code",
      "source": [
        "%%writefile hello.ts\n",
        "let message: string = \"Hello from TypeScript in Colab!\";\n",
        "console.log(message);"
      ],
      "metadata": {
        "colab": {
          "base_uri": "https://localhost:8080/"
        },
        "id": "tP1eJXeI4KlD",
        "outputId": "0e670e31-3a03-433c-8859-75637ab10693"
      },
      "execution_count": null,
      "outputs": [
        {
          "output_type": "stream",
          "name": "stdout",
          "text": [
            "Writing hello.ts\n"
          ]
        }
      ]
    },
    {
      "cell_type": "markdown",
      "source": [
        "**Run the TypeScript File**"
      ],
      "metadata": {
        "id": "MceRdeH64Uwa"
      }
    },
    {
      "cell_type": "code",
      "source": [
        "!tsc hello.ts   # compiles to hello.js\n",
        "!node hello.js  # run compiled JavaScript"
      ],
      "metadata": {
        "colab": {
          "base_uri": "https://localhost:8080/"
        },
        "id": "JujhxCSx4YLE",
        "outputId": "95ea6fc5-25ba-47a6-b336-834e86252eda"
      },
      "execution_count": null,
      "outputs": [
        {
          "output_type": "stream",
          "name": "stdout",
          "text": [
            "Hello from TypeScript in Colab!\n"
          ]
        }
      ]
    },
    {
      "cell_type": "markdown",
      "source": [
        "**Variable in Type Script**\n",
        "\n",
        "In TypeScript (and JavaScript), variables are used to store data values.\n",
        "TypeScript supports three main keywords to declare variables:\n",
        "\n",
        "👉 var, let, and const.\n",
        "\n",
        "Diffrence between var Let and const\n",
        "\n",
        "var doesn’t have block scope, only function scope, so message inside if overwrites the outer one.\n",
        "\n",
        "let has block scope, so the inner message doesn’t affect the outer one.\n",
        "\n",
        "const makes the reference immutable, not the object itself.\n",
        "\n"
      ],
      "metadata": {
        "id": "smY3PDG45Pfm"
      }
    },
    {
      "cell_type": "markdown",
      "source": [
        "**TypeScript Variables Overview**\n",
        "\n",
        "| Keyword | Scope           | Can Reassign | Can Redeclare |\n",
        "| ------- | --------------- | ------------ | ------------- |\n",
        "| `var`   | Function/global | ✅            | ✅             |\n",
        "| `let`   | Block           | ✅            | ❌             |\n",
        "| `const` | Block           | ❌            | ❌             |\n",
        "\n",
        "    let age: number = 25;\n",
        "    age = 30; // OK\n",
        "\n",
        "    const PI: number = 3.14159;\n",
        "\n",
        "    var name: string = \"Alice\";\n",
        "    name = \"Bob\"; // OK\n",
        "\n"
      ],
      "metadata": {
        "id": "y0Ts2wm27Emd"
      }
    },
    {
      "cell_type": "markdown",
      "source": [
        "**Example of Variable in scope**\n",
        "\n"
      ],
      "metadata": {
        "id": "g0LlIFRL7UMI"
      }
    },
    {
      "cell_type": "code",
      "source": [
        "#______________________Examples of Scope of var Types __________________________\n",
        "\n",
        "%%writefile VariableScope.ts\n",
        "\n",
        "// Examples of Scope of var Types\n",
        "\n",
        "console.log(\"Examples of Scope of var Types\")\n",
        "function exampleVar() {\n",
        "  var message = \"Hello\";\n",
        "  if (true) {\n",
        "    var message = \"Hi\"; // same variable (no block scope)\n",
        "  }\n",
        "  console.log(message); // Output: Hi\n",
        "}\n",
        "exampleVar();\n",
        "\n",
        "// Examples of Scope of let  Types\n",
        "\n",
        "console.log(\"Examples of Scope of let Types\")\n",
        "function exampleLet() {\n",
        "  let message = \"Hello\";\n",
        "  if (true) {\n",
        "    let message = \"Hi\"; // different variable (block scope)\n",
        "    console.log(message); // Output: Hi\n",
        "  }\n",
        "  console.log(message); // Output: Hello\n",
        "}\n",
        "exampleLet();\n",
        "\n",
        "console.log(\"Examples of Scope of const Types\")\n",
        "const PI = 3.14;\n",
        "PI = 3.14159; // ❌ Error: Cannot reassign a const\n",
        "\n",
        "const person = { name: \"Animesh\", age: 25 };\n",
        "person.age = 26; // ✅ allowed (object properties can be changed)\n",
        "\n"
      ],
      "metadata": {
        "colab": {
          "base_uri": "https://localhost:8080/"
        },
        "id": "SirCfoRO7xBB",
        "outputId": "033666fd-2d65-49c8-bc69-a0a1bec93ec2"
      },
      "execution_count": null,
      "outputs": [
        {
          "output_type": "stream",
          "name": "stdout",
          "text": [
            "Overwriting VariableScope.ts\n"
          ]
        }
      ]
    },
    {
      "cell_type": "code",
      "source": [
        "!tsc VariableScope.ts   # compiles to hello.js\n",
        "!node VariableScope.js  # run compiled JavaScript"
      ],
      "metadata": {
        "colab": {
          "base_uri": "https://localhost:8080/"
        },
        "id": "qZs3M6St8Agv",
        "outputId": "e00e2c7b-bebe-4ebf-97f6-3e69592d73f3"
      },
      "execution_count": null,
      "outputs": [
        {
          "output_type": "stream",
          "name": "stdout",
          "text": [
            "\u001b[96mVariableScope.ts\u001b[0m:\u001b[93m29\u001b[0m:\u001b[93m1\u001b[0m - \u001b[91merror\u001b[0m\u001b[90m TS2588: \u001b[0mCannot assign to 'PI' because it is a constant.\n",
            "\n",
            "\u001b[7m29\u001b[0m PI = 3.14159; // ❌ Error: Cannot reassign a const\n",
            "\u001b[7m  \u001b[0m \u001b[91m~~\u001b[0m\n",
            "\n",
            "\n",
            "Found 1 error in VariableScope.ts\u001b[90m:29\u001b[0m\n",
            "\n",
            "Examples of Scope of var Types\n",
            "Hi\n",
            "Examples of Scope of let Types\n",
            "Hi\n",
            "Hello\n",
            "Examples of Scope of const Types\n"
          ]
        }
      ]
    },
    {
      "cell_type": "markdown",
      "source": [
        "** Data Type Annotations**\n",
        "\n",
        "| **Data Type** | **Description**                                       | **Example**                                                     | **Notes**                                            |\n",
        "| ------------- | ----------------------------------------------------- | --------------------------------------------------------------- | ---------------------------------------------------- |\n",
        "| **number**    | Numeric values (integers & floats)                    | `let age: number = 25;`                                         | Supports decimal, hex, binary, octal                 |\n",
        "| **string**    | Textual data                                          | `let name: string = \"Alice\";`                                   | Use single, double, or backticks (template literals) |\n",
        "| **boolean**   | True/False values                                     | `let isActive: boolean = true;`                                 | Only `true` or `false`                               |\n",
        "| **any**       | Any type of value                                     | `let data: any = 10; data = \"Hi\";`                              | Avoid if possible, disables type checking            |\n",
        "| **unknown**   | Unknown type, safer alternative to `any`              | `let val: unknown = 5;`                                         | Must type-check before using                         |\n",
        "| **array**     | List of elements of same type                         | `let nums: number[] = [1,2,3];`                                 | Can also use `Array<number>` syntax                  |\n",
        "| **tuple**     | Fixed-length array with multiple types                | `let person: [string, number] = [\"Bob\",30];`                    | Access elements by index                             |\n",
        "| **enum**      | Named constants                                       | `enum Color {Red, Green, Blue}; let c: Color = Color.Green;`    | Default values start at 0                            |\n",
        "| **object**    | Key-value pairs or objects                            | `let user: {name:string, age:number} = {name:\"Alice\", age:25};` | Can define custom structure                          |\n",
        "| **bigint**    | Large integers beyond `number` limit                  | `let big: bigint = 12345678901234567890n;`                      | Add `n` suffix                                       |\n",
        "| **symbol**    | Unique identifiers                                    | `const sym: symbol = Symbol(\"id\");`                             | Always unique                                        |\n",
        "| **null**      | Represents absence of a value                         | `let n: null = null;`                                           | Often used with union types                          |\n",
        "| **undefined** | Variable declared but not assigned                    | `let u: undefined;`                                             | Default uninitialized state                          |\n",
        "| **void**      | Usually function return type when nothing is returned | `function log(): void { console.log(\"Hi\"); }`                   | Cannot be assigned to variables                      |\n",
        "| **never**     | Represents unreachable code or exceptions             | `function error(): never { throw new Error(\"Fail\"); }`          | Useful for exhaustive checks                         |\n",
        "\n"
      ],
      "metadata": {
        "id": "8GnD6cYl87JS"
      }
    },
    {
      "cell_type": "markdown",
      "source": [
        "**What is Any in type script**\n",
        "\n",
        "In TypeScript, the any type is used when we don’t know the type of a variable in advance.\n",
        "It disables type checking for that variable, meaning it can hold a value of any data type — number, string, boolean, object, etc.\n",
        "\n",
        "The any type in TypeScript is a special type that allows a variable to hold values of any type, effectively turning off type checking for that variable.\n",
        "\n",
        "It’s useful when working with dynamic data — for example, when consuming APIs with unknown structures or migrating old JavaScript code to TypeScript.\n",
        "\n",
        "However, using any too much defeats the purpose of TypeScript, because it bypasses compile-time error checking.\n",
        "\n",
        "    let data: any = 10;\n",
        "    data = \"Hello\";\n",
        "    data = true;"
      ],
      "metadata": {
        "id": "oKlDLH35a41f"
      }
    },
    {
      "cell_type": "code",
      "source": [
        "#______________________Examples of Variable Types_____________________________\n",
        "\n",
        "%%writefile Variable.ts\n",
        "\n",
        "// Number\n",
        "let price: number = 100;\n",
        "\n",
        "console.log(price);\n",
        "\n",
        "// String\n",
        "let greeting: string = \"Hello\";\n",
        "\n",
        "console.log(greeting);\n",
        "\n",
        "// Boolean\n",
        "let isActive: boolean = true;\n",
        "\n",
        "console.log(isActive);\n",
        "\n",
        "// Any\n",
        "let data: any = 42;\n",
        "data = \"Hello\"; // OK\n",
        "\n",
        "console.log(data);\n",
        "\n",
        "// Array\n",
        "let numbers: number[] = [1, 2, 3];\n",
        "let fruits: Array<string> = [\"Apple\", \"Banana\"];\n",
        "\n",
        "console.log(numbers);\n",
        "console.log(fruits);\n",
        "\n",
        "// Tuple\n",
        "let person: [string, number] = [\"Alice\", 30];\n",
        "\n",
        "console.log(person);\n",
        "\n",
        "// Enum\n",
        "enum Color {Red, Green, Blue}\n",
        "let c: Color = Color.Green;\n",
        "\n",
        "console.log(Color);\n",
        "\n",
        "// Object\n",
        "let user: {name: string, age: number} = {name: \"Bob\", age: 25};\n",
        "\n",
        "console.log(user);"
      ],
      "metadata": {
        "colab": {
          "base_uri": "https://localhost:8080/"
        },
        "id": "pCbJ5GUF9KtY",
        "outputId": "45f14d22-ba4e-4cc3-d7f2-685ba34005e4"
      },
      "execution_count": null,
      "outputs": [
        {
          "output_type": "stream",
          "name": "stdout",
          "text": [
            "Writing Variable.ts\n"
          ]
        }
      ]
    },
    {
      "cell_type": "code",
      "source": [
        "!tsc Variable.ts   # compiles to hello.js\n",
        "!node Variable.js  # run compiled JavaScript"
      ],
      "metadata": {
        "colab": {
          "base_uri": "https://localhost:8080/"
        },
        "id": "UQviYKE9Cb5K",
        "outputId": "de16f2de-aec6-4ece-91c5-0bcf3d2f33da"
      },
      "execution_count": null,
      "outputs": [
        {
          "output_type": "stream",
          "name": "stdout",
          "text": [
            "\u001b[33m100\u001b[39m\n",
            "Hello\n",
            "\u001b[33mtrue\u001b[39m\n",
            "Hello\n",
            "[ \u001b[33m1\u001b[39m, \u001b[33m2\u001b[39m, \u001b[33m3\u001b[39m ]\n",
            "[ \u001b[32m'Apple'\u001b[39m, \u001b[32m'Banana'\u001b[39m ]\n",
            "[ \u001b[32m'Alice'\u001b[39m, \u001b[33m30\u001b[39m ]\n",
            "{ \u001b[32m'0'\u001b[39m: \u001b[32m'Red'\u001b[39m, \u001b[32m'1'\u001b[39m: \u001b[32m'Green'\u001b[39m, \u001b[32m'2'\u001b[39m: \u001b[32m'Blue'\u001b[39m, Red: \u001b[33m0\u001b[39m, Green: \u001b[33m1\u001b[39m, Blue: \u001b[33m2\u001b[39m }\n",
            "{ name: \u001b[32m'Bob'\u001b[39m, age: \u001b[33m25\u001b[39m }\n"
          ]
        }
      ]
    },
    {
      "cell_type": "markdown",
      "source": [
        "** All Operators in TypeScript**\n",
        "\n",
        "| **Category**              | **Operators**                                                                     | **Example**                                       |\n",
        "| ------------------------- | --------------------------------------------------------------------------------- | ------------------------------------------------- |\n",
        "| **Arithmetic Operators**  | `+`, `-`, `*`, `/`, `%`, `**`                                                     | `10 % 3 // 1`, `2 ** 3 // 8`                      |\n",
        "| **Unary Operators**       | `+`, `-`, `++`, `--`, `~`, `!`                                                    | `let y = -x;`, `!true // false`                   |\n",
        "| **Assignment Operators**  | `=`, `+=`, `-=`, `*=`, `/=`, `%=`, `**=`, `<<=`, `>>=`, `>>>=`, `&=`, `^=`, `\\|=` | `x += 5;`, `a <<= 2;`                             |\n",
        "| **Comparison Operators**  | `==`, `===`, `!=`, `!==`, `>`, `<`, `>=`, `<=`                                    | `5 === \"5\" // false`                              |\n",
        "| **Logical Operators**     | `&&`, `\\|\\|`, `!`                                                                 | `(x > 0 && y > 0)`                                |\n",
        "| **Bitwise Operators**     | `&`, `\\|`, `^`, `~`, `<<`, `>>`, `>>>`                                            | `5 & 1 // 1`, `5 >> 1 // 2`                       |\n",
        "| **Conditional (Ternary)** | `condition ? expr1 : expr2`                                                       | `(age >= 18) ? \"Adult\" : \"Minor\"`                 |\n",
        "| **String Operator**       | `+` (concatenation)                                                               | `\"Hello \" + \"World\"`                              |\n",
        "| **Type Operators**        | `typeof`, `instanceof`                                                            | `typeof \"abc\" // \"string\"`, `obj instanceof Date` |\n",
        "| **Nullish Coalescing**    | `??`                                                                              | `let user = name ?? \"Guest\";`                     |\n",
        "| **Optional Chaining**     | `?.`                                                                              | `user?.address?.city`                             |\n",
        "| **Spread / Rest**         | `...`                                                                             | `let arr = [...nums];`                            |\n",
        "| **Destructuring**         | `=` with `{}` / `[]`                                                              | `const {a, b} = obj;`                             |\n",
        "| **Comma Operator**        | `,`                                                                               | `let x = (1, 2, 3); // 3`                         |\n",
        "| **Delete Operator**       | `delete`                                                                          | `delete obj.key;`                                 |\n",
        "| **In Operator**           | `in`                                                                              | `\"name\" in person // true`                        |\n",
        "| **New Operator**          | `new`                                                                             | `let d = new Date();`                             |\n",
        "| **Void Operator**         | `void`                                                                            | `void 0 // undefined`                             |\n",
        "| **Type Assertions**       | `as`, `<type>`                                                                    | `let val = someVar as string;`                    |\n",
        "| **Non-Null Assertion**    | `!` (postfix)                                                                     | `user!.id` (asserts `user` is not null/undefined) |\n",
        "| **Await Operator**        | `await`                                                                           | `let data = await fetch(url);`                    |\n",
        "| **Yield Operator**        | `yield`, `yield*`                                                                 | Used in generator functions                       |\n"
      ],
      "metadata": {
        "id": "GzuQLBnXPMAC"
      }
    },
    {
      "cell_type": "markdown",
      "source": [
        "**Conditional Statements in TypeScript**\n",
        "\n",
        "| **Statement**                                 | **Syntax**                                                                        | **Example**                                                                                                                                              |                                                                               |\n",
        "| --------------------------------------------- | --------------------------------------------------------------------------------- | -------------------------------------------------------------------------------------------------------------------------------------------------------- | ----------------------------------------------------------------------------- |\n",
        "| **`if` statement**                            | `ts if (condition) { ... } `                                                      | `ts let age = 18; if (age >= 18) { console.log(\"Adult\"); } `                                                                                             |                                                                               |\n",
        "| **`if-else` statement**                       | `ts if (condition) { ... } else { ... } `                                         | `ts let age = 16; if (age >= 18) { console.log(\"Adult\"); } else { console.log(\"Minor\"); } `                                                              |                                                                               |\n",
        "| **`if-else if` ladder**                       | `ts if (cond1) { ... } else if (cond2) { ... } else { ... } `                     | `ts let marks = 75; if (marks >= 90) { console.log(\"A\"); } else if (marks >= 60) { console.log(\"B\"); } else { console.log(\"C\"); } `                      |                                                                               |\n",
        "| **`switch` statement**                        | `ts switch(expr) { case val1: ...; break; case val2: ...; break; default: ... } ` | `ts let color = \"red\"; switch(color) { case \"red\": console.log(\"Stop\"); break; case \"green\": console.log(\"Go\"); break; default: console.log(\"Wait\"); } ` |                                                                               |\n",
        "| **Ternary Operator** (conditional expression) | `ts condition ? expr1 : expr2 `                                                   | `ts let age = 20; let type = (age >= 18) ? \"Adult\" : \"Minor\"; console.log(type); `                                                                       |                                                                               |\n",
        "| **Optional Chaining (`?.`)**                  | `ts obj?.property `                                                               | `ts let user = {name: \"Alice\"}; console.log(user?.name); // \"Alice\" console.log(user?.address?.city); // undefined `                                     |                                                                               |\n",
        "| **Nullish Coalescing (`??`)**                 | `ts value ?? defaultValue `                                                       | \\`\\`\\`ts let name: string                                                                                                                                | null = null; let user = name ?? \"Guest\"; console.log(user); // \"Guest\" \\`\\`\\` |\n"
      ],
      "metadata": {
        "id": "F2fhntsvPo6W"
      }
    },
    {
      "cell_type": "code",
      "source": [
        "#______________________Examples of Conditional Statements in TypeScript_________\n",
        "\n",
        "%%writefile ConditionalStatements.ts\n",
        "\n",
        "//__________if statement_______________-\n",
        "\n",
        "let age1 = 18;\n",
        "if (age1 >= 18) {\n",
        "    console.log(\"Adult\");\n",
        "     }\n",
        "\n",
        "//_______________if-else statement_______________\n",
        "\n",
        "age1 = 16;\n",
        "if (age1 >= 18)\n",
        "{\n",
        "    console.log(\"Adult\");\n",
        "    }\n",
        "else {\n",
        "    console.log(\"Minor\");\n",
        "    }\n",
        "\n",
        "\n",
        "//________________________if-else if_______________\n",
        "\n",
        "let marks = 75;\n",
        "\n",
        "if (marks >= 90) {\n",
        "    console.log(\"A\");\n",
        "     }\n",
        "else if (marks >= 60) {\n",
        "    console.log(\"B\");\n",
        "    }\n",
        "else {\n",
        "     console.log(\"C\");\n",
        "     }\n",
        "\n",
        "//_________________switch statement_______________\n",
        "\n",
        "let color = \"red\";\n",
        "switch(color) {\n",
        "    case \"red\":\n",
        "    console.log(\"Stop\");\n",
        "    break;\n",
        "    case \"green\":\n",
        "    console.log(\"Go\");\n",
        "    break; default:\n",
        "    console.log(\"Wait\"); }\n",
        "\n",
        "//______________________Ternary Operator (conditional expression)______________\n",
        "\n",
        "age1 = 20;\n",
        "let type = (age1 >= 18) ? \"Adult\" : \"Minor\";\n",
        "console.log(type);\n",
        "\n",
        "//__________________________Optional Chaining (?.)______________________________\n",
        "\n",
        "type User = {\n",
        "  name: string;\n",
        "  address?: {\n",
        "    city?: string;\n",
        "    zip?: number;\n",
        "  };\n",
        "};\n",
        "\n",
        "let user1: User = { name: \"Alice\", address: { city: \"Delhi\" } };\n",
        "let user2: User = { name: \"Bob\" };\n",
        "\n",
        "console.log(user1.address?.city); // \"Delhi\"\n",
        "console.log(user2.address?.city); // undefined (no error, safe)\n"
      ],
      "metadata": {
        "colab": {
          "base_uri": "https://localhost:8080/"
        },
        "id": "Ic4LUvXqPzGm",
        "outputId": "76500dcb-bb9e-4d13-a465-329baf86bfe3"
      },
      "execution_count": null,
      "outputs": [
        {
          "output_type": "stream",
          "name": "stdout",
          "text": [
            "Overwriting ConditionalStatements.ts\n"
          ]
        }
      ]
    },
    {
      "cell_type": "code",
      "source": [
        "!tsc ConditionalStatements.ts   # compiles to hello.js\n",
        "!node ConditionalStatements.js  # run compiled JavaScript"
      ],
      "metadata": {
        "colab": {
          "base_uri": "https://localhost:8080/"
        },
        "id": "zHTzBqiyRPi6",
        "outputId": "355eaa6e-1a46-4f94-ff24-b016fb4c306e"
      },
      "execution_count": null,
      "outputs": [
        {
          "output_type": "stream",
          "name": "stdout",
          "text": [
            "Adult\n",
            "Minor\n",
            "B\n",
            "Stop\n",
            "Adult\n",
            "Delhi\n",
            "\u001b[90mundefined\u001b[39m\n"
          ]
        }
      ]
    },
    {
      "cell_type": "markdown",
      "source": [
        "**Types of Loops in TypeScript**\n",
        "\n",
        "| Loop Type    | Description                                                  | Example                                                      |\n",
        "| ------------ | ------------------------------------------------------------ | ------------------------------------------------------------ |\n",
        "| **for**      | Runs a block of code a specific number of times.             | `for (let i = 0; i < 5; i++) { console.log(i); }`            |\n",
        "| **for…of**   | Iterates over values of an iterable (arrays, strings, etc.). | `for (let num of [10, 20, 30]) { console.log(num); }`        |\n",
        "| **for…in**   | Iterates over the keys (properties) of an object.            | `for (let key in person) { console.log(key, person[key]); }` |\n",
        "| **while**    | Runs while a condition is true.                              | `let i = 0; while (i < 5) { console.log(i); i++; }`          |\n",
        "| **do…while** | Runs at least once, then continues while condition is true.  | `let i = 0; do { console.log(i); i++; } while (i < 5);`      |\n"
      ],
      "metadata": {
        "id": "HgfJGdrvU4U0"
      }
    },
    {
      "cell_type": "markdown",
      "source": [
        "Use for when you know the number of iterations.\n",
        "\n",
        "Use for…of for arrays and iterable values.\n",
        "\n",
        "Use for…in for object properties.\n",
        "\n",
        "Use while when the number of iterations is unknown.\n",
        "\n",
        "Use do…while when you want the loop to run at least once"
      ],
      "metadata": {
        "id": "bzVxCYhWV8za"
      }
    },
    {
      "cell_type": "code",
      "source": [
        "#______________________Examples of  Loops in TypeScript _________\n",
        "\n",
        "%%writefile LoopsinTypeScript.ts\n",
        "\n",
        "//__________________________________________for__________________\n",
        "\n",
        "console.log(\"For Loop:\\n\");\n",
        "\n",
        "for (let i = 1; i <= 5; i++) {\n",
        "  console.log(\"Number:\", i);\n",
        "}\n",
        "//for…of\n",
        "\n",
        "console.log(\"\\nFor…of Loop:\\n\");\n",
        "\n",
        "let colors: string[] = [\"Red\", \"Green\", \"Blue\"];\n",
        "\n",
        "for (let color of colors) {\n",
        "  console.log(color);\n",
        "}\n",
        "\n",
        "//_______________________________________for…in_______________________\n",
        "\n",
        "console.log(\"\\nFor…in Loop:\\n\");\n",
        "\n",
        "let person = { name: \"Alice\", age: 25, city: \"Delhi\" };\n",
        "\n",
        "for (let key in person) {\n",
        "  console.log(key, \":\", person[key as keyof typeof person]);\n",
        "}\n",
        "\n",
        " //___________________________________while__________________\n",
        "\n",
        " console.log(\"\\nWhile Loop:\\n\");\n",
        "\n",
        " let i: number = 0;\n",
        "\n",
        "while (i < 3) {\n",
        "  console.log(\"Count:\", i);\n",
        "  i++;\n",
        "}\n",
        "\n",
        "//________________________________do…while loop_________________\n",
        "\n",
        "console.log(\"\\nDo…While Loop:\\n\");\n",
        "\n",
        "let j: number = 0;\n",
        "\n",
        "do {\n",
        "  console.log(\"DoWhile Count:\", j);\n",
        "  j++;\n",
        "} while (j < 3);"
      ],
      "metadata": {
        "colab": {
          "base_uri": "https://localhost:8080/"
        },
        "id": "MLT8nvaPVBYu",
        "outputId": "3b80a67d-466c-4340-fbad-5b4b88145485"
      },
      "execution_count": null,
      "outputs": [
        {
          "output_type": "stream",
          "name": "stdout",
          "text": [
            "Overwriting LoopsinTypeScript.ts\n"
          ]
        }
      ]
    },
    {
      "cell_type": "code",
      "source": [
        "!tsc LoopsinTypeScript.ts   # compiles to hello.js\n",
        "!node LoopsinTypeScript.js  # run compiled JavaScript"
      ],
      "metadata": {
        "colab": {
          "base_uri": "https://localhost:8080/"
        },
        "id": "UN7PcNeAWN2F",
        "outputId": "50187b14-4f79-411f-a832-3a30d9e82a9c"
      },
      "execution_count": null,
      "outputs": [
        {
          "output_type": "stream",
          "name": "stdout",
          "text": [
            "For Loop:\n",
            "\n",
            "Number: \u001b[33m1\u001b[39m\n",
            "Number: \u001b[33m2\u001b[39m\n",
            "Number: \u001b[33m3\u001b[39m\n",
            "Number: \u001b[33m4\u001b[39m\n",
            "Number: \u001b[33m5\u001b[39m\n",
            "\n",
            "For…of Loop:\n",
            "\n",
            "Red\n",
            "Green\n",
            "Blue\n",
            "\n",
            "For…in Loop:\n",
            "\n",
            "name : Alice\n",
            "age : \u001b[33m25\u001b[39m\n",
            "city : Delhi\n",
            "\n",
            "While Loop:\n",
            "\n",
            "Count: \u001b[33m0\u001b[39m\n",
            "Count: \u001b[33m1\u001b[39m\n",
            "Count: \u001b[33m2\u001b[39m\n",
            "\n",
            "Do…While Loop:\n",
            "\n",
            "DoWhile Count: \u001b[33m0\u001b[39m\n",
            "DoWhile Count: \u001b[33m1\u001b[39m\n",
            "DoWhile Count: \u001b[33m2\u001b[39m\n"
          ]
        }
      ]
    },
    {
      "cell_type": "markdown",
      "source": [
        "**Functions in TypeScript**\n",
        "\n",
        "**Function Declaration**\n",
        "\n",
        "    function greet(name: string): string {\n",
        "    return `Hello, ${name}`;\n",
        "    }\n",
        "\n",
        "    console.log(greet(\"Alice\")); // Hello, Alice\n",
        "\n",
        "name: string → parameter type\n",
        "\n",
        ": string → return type\n",
        "\n",
        "\n",
        "**Function Expression**\n",
        "\n",
        "    const add = function (a: number, b: number): number {\n",
        "    return a + b;\n",
        "    };\n",
        "\n",
        "    console.log(add(5, 3)); // 8\n",
        "\n",
        "\n",
        "**Arrow Function**\n",
        "\n",
        "    const multiply = (x: number, y: number): number => x * y;\n",
        "\n",
        "    console.log(multiply(4, 2)); // 8\n",
        "\n",
        "**Optional Parameters (?)**\n",
        "\n",
        "    function printMessage(message: string, user?: string): void {\n",
        "    console.log(user ? `${user}: ${message}` : message);\n",
        "    }\n",
        "\n",
        "    printMessage(\"Hello\");           // Hello\n",
        "    printMessage(\"Hello\", \"Alice\");  // Alice: Hello\n",
        "\n",
        "\n",
        "**Default Parameters**\n",
        "\n",
        "    function greetUser(name: string = \"Guest\"): string {\n",
        "    return `Welcome, ${name}`;\n",
        "    }\n",
        "\n",
        "    console.log(greetUser());        // Welcome, Guest\n",
        "    console.log(greetUser(\"Bob\"));   // Welcome, Bob\n",
        "\n",
        "\n",
        "**Function with void (no return value)**\n",
        "\n",
        "    function logMessage(msg: string): void {\n",
        "    console.log(\"Log:\", msg);\n",
        "    }\n",
        "\n",
        "    logMessage(\"System started\"); // Log: System started\n",
        "\n"
      ],
      "metadata": {
        "id": "HZqroZ1ZXmzd"
      }
    },
    {
      "cell_type": "code",
      "source": [
        "#______________________Examples of  Functions TypeScript _________\n",
        "\n",
        "%%writefile functions.ts\n",
        "\n",
        "console.log(\"_______________________Function Declaration__________________\")\n",
        "\n",
        "function greet(name: string): string {\n",
        "  return `Hello, ${name}`;\n",
        "}\n",
        "\n",
        "console.log(greet(\"Alice\")); // Hello, Alice\n",
        "\n",
        "console.log(\"_______________________Function optional parameter______________\")\n",
        "\n",
        "function printMessage(message: string, user?: string): void {\n",
        "  console.log(user ? `${user}: ${message}` : message);\n",
        "}\n",
        "\n",
        "printMessage(\"Hello\");           // Hello\n",
        "printMessage(\"Hello\", \"Alice\");  // Alice: Hello\n",
        "\n",
        "console.log(\"___________Function Default Parameters______________\")\n",
        "\n",
        "function greetUser(name: string = \"Guest\"): string {\n",
        "  return `Welcome, ${name}`;\n",
        "}\n",
        "\n",
        "console.log(greetUser());        // Welcome, Guest\n",
        "console.log(greetUser(\"Bob\"));   // Welcome, Bob\n",
        "\n",
        "console.log(\"_______________________Function with void__________________\")\n",
        "\n",
        "function logMessage(msg: string): void {\n",
        "  console.log(\"Log:\", msg);\n",
        "}\n",
        "\n",
        "logMessage(\"System started\"); // Log: System started\n",
        "\n",
        "\n",
        "console.log(\"_______________________Function Types (type alias)__________________\")\n",
        "\n",
        "type MathOperation = (a: number, b: number) => number;\n",
        "\n",
        "const subtract: MathOperation = (a, b) => a - b;\n",
        "\n",
        "console.log(subtract(10, 5)); // 5\n",
        "\n"
      ],
      "metadata": {
        "colab": {
          "base_uri": "https://localhost:8080/"
        },
        "id": "tKna8nWPsGJb",
        "outputId": "08dbcefc-6357-4708-83fa-722022628e36"
      },
      "execution_count": null,
      "outputs": [
        {
          "output_type": "stream",
          "name": "stdout",
          "text": [
            "Overwriting functions.ts\n"
          ]
        }
      ]
    },
    {
      "cell_type": "code",
      "source": [
        "!tsc functions.ts   # compiles to hello.js\n",
        "!node functions.js  # run compiled JavaScript"
      ],
      "metadata": {
        "colab": {
          "base_uri": "https://localhost:8080/"
        },
        "id": "xgz9330HtGQ5",
        "outputId": "867ea723-124a-4c21-b90a-15618a7a4258"
      },
      "execution_count": null,
      "outputs": [
        {
          "output_type": "stream",
          "name": "stdout",
          "text": [
            "_______________________Function Declaration__________________\n",
            "Hello, Alice\n",
            "_______________________Function optional parameter______________\n",
            "Hello\n",
            "Alice: Hello\n",
            "___________Function Default Parameters______________\n",
            "Welcome, Guest\n",
            "Welcome, Bob\n",
            "_______________________Function with void__________________\n",
            "Log: System started\n",
            "_______________________Function Types (type alias)__________________\n",
            "\u001b[33m5\u001b[39m\n"
          ]
        }
      ]
    },
    {
      "cell_type": "markdown",
      "source": [
        "**Arrays in TypeScript**\n",
        "\n",
        "An array is a collection of elements of the same type.\n",
        "In TypeScript, you can define arrays with type annotations.\n",
        "\n",
        "    let numbers: number[] = [1, 2, 3, 4, 5];\n",
        "    let fruits: string[] = [\"Apple\", \"Banana\", \"Mango\"];"
      ],
      "metadata": {
        "id": "BNnRbmtovZLB"
      }
    },
    {
      "cell_type": "code",
      "source": [
        "#______________________Examples of  Functions TypeScript _________\n",
        "\n",
        "%%writefile array.ts\n",
        "\n",
        "// ____________________________________Array Declaration_________________\n",
        "\n",
        "// ____________________________________Using type[]______________________\n",
        "\n",
        "let numbers: number[] = [1, 2, 3, 4, 5];\n",
        "let fruits: string[] = [\"Apple\", \"Banana\", \"Mango\"];\n",
        "\n",
        "//___________________________________Using Array<type>____________________\n",
        "\n",
        "let ids: Array<number> = [101, 102, 103];\n",
        "let names: Array<string> = [\"Alice\", \"Bob\", \"Charlie\"];\n",
        "\n",
        "//______________________________Mixed-Type Arrays (using any)______________\n",
        "\n",
        "let mixed: any[] = [1, \"Hello\", true, { id: 1 }];\n",
        "\n",
        "//____________________________Iterating Over Arrays_________________\n",
        "\n",
        "let nums: number[] = [10, 20, 30];\n",
        "for (let i = 0; i < nums.length; i++) {\n",
        "  console.log(nums[i]);\n",
        "}\n",
        "\n",
        "\n",
        "//________________________________for…of loop______________________\n",
        "\n",
        "for (let num of nums) {\n",
        "  console.log(num);\n",
        "}\n",
        "\n",
        "//_______________________________forEach method___________________\n",
        "\n",
        "nums.forEach((n) => console.log(n));\n",
        "\n",
        "\n",
        "//____________________________Array of Objects_____________________\n",
        "\n",
        "type Student = { id: number; name: string };\n",
        "\n",
        "let students: Student[] = [\n",
        "  { id: 1, name: \"Alice\" },\n",
        "  { id: 2, name: \"Bob\" }\n",
        "];\n",
        "\n",
        "students.forEach(s => console.log(s.id, s.name));\n",
        "\n",
        "//____________________________-Array Methods (common ones)______________\n",
        "\n",
        "let colors: string[] = [\"Red\", \"Green\", \"Blue\"];\n",
        "\n",
        "colors.push(\"Yellow\");   // Add element\n",
        "console.log(colors);     // [\"Red\", \"Green\", \"Blue\", \"Yellow\"]\n",
        "\n",
        "colors.pop();            // Remove last\n",
        "console.log(colors);     // [\"Red\", \"Green\", \"Blue\"]\n",
        "\n",
        "console.log(colors.length); // 3\n",
        "\n",
        "// console.log(colors.includes(\"Red\")); // true"
      ],
      "metadata": {
        "colab": {
          "base_uri": "https://localhost:8080/"
        },
        "id": "b8VQUZDf0Ao4",
        "outputId": "63693960-9be4-4279-9407-7bd7f5ab12e9"
      },
      "execution_count": null,
      "outputs": [
        {
          "output_type": "stream",
          "name": "stdout",
          "text": [
            "Overwriting array.ts\n"
          ]
        }
      ]
    },
    {
      "cell_type": "code",
      "source": [
        "!tsc array.ts   # compiles to hello.js\n",
        "!node array.js  # run compiled JavaScript"
      ],
      "metadata": {
        "colab": {
          "base_uri": "https://localhost:8080/"
        },
        "id": "A94I1hJJ1qKe",
        "outputId": "b8f4900d-a48a-4b09-e4f5-92541fc6dbd9"
      },
      "execution_count": null,
      "outputs": [
        {
          "output_type": "stream",
          "name": "stdout",
          "text": [
            "\u001b[33m10\u001b[39m\n",
            "\u001b[33m20\u001b[39m\n",
            "\u001b[33m30\u001b[39m\n",
            "\u001b[33m10\u001b[39m\n",
            "\u001b[33m20\u001b[39m\n",
            "\u001b[33m30\u001b[39m\n",
            "\u001b[33m10\u001b[39m\n",
            "\u001b[33m20\u001b[39m\n",
            "\u001b[33m30\u001b[39m\n",
            "\u001b[33m1\u001b[39m Alice\n",
            "\u001b[33m2\u001b[39m Bob\n",
            "[ \u001b[32m'Red'\u001b[39m, \u001b[32m'Green'\u001b[39m, \u001b[32m'Blue'\u001b[39m, \u001b[32m'Yellow'\u001b[39m ]\n",
            "[ \u001b[32m'Red'\u001b[39m, \u001b[32m'Green'\u001b[39m, \u001b[32m'Blue'\u001b[39m ]\n",
            "\u001b[33m3\u001b[39m\n"
          ]
        }
      ]
    },
    {
      "cell_type": "markdown",
      "source": [
        "**All Strings opearations in type scripts**\n",
        "\n",
        "| Operation                | Example                              | Output                   |\n",
        "| ------------------------ | ------------------------------------ | ------------------------ |\n",
        "| **charAt(index)**        | `str.charAt(0)`                      | `\"H\"`                    |\n",
        "| **charCodeAt(index)**    | `str.charCodeAt(0)`                  | `72`                     |\n",
        "| **at(index)**            | `str.at(-1)`                         | `\"t\"`                    |\n",
        "| **concat()**             | `\"Hello\".concat(\" World\")`           | `\"Hello World\"`          |\n",
        "| **includes()**           | `str.includes(\"Type\")`               | `true`                   |\n",
        "| **indexOf()**            | `str.indexOf(\"o\")`                   | `4`                      |\n",
        "| **lastIndexOf()**        | `str.lastIndexOf(\"o\")`               | `7`                      |\n",
        "| **startsWith()**         | `str.startsWith(\"Hello\")`            | `true`                   |\n",
        "| **endsWith()**           | `str.endsWith(\"Script\")`             | `true`                   |\n",
        "| **slice(start,end)**     | `str.slice(0,5)`                     | `\"Hello\"`                |\n",
        "| **substring(start,end)** | `str.substring(6,10)`                | `\"Type\"`                 |\n",
        "| **substr(start,length)** | `str.substr(6,4)`                    | `\"Type\"`                 |\n",
        "| **toUpperCase()**        | `str.toUpperCase()`                  | `\"HELLO TYPESCRIPT\"`     |\n",
        "| **toLowerCase()**        | `str.toLowerCase()`                  | `\"hello typescript\"`     |\n",
        "| **trim()**               | `\"  hi  \".trim()`                    | `\"hi\"`                   |\n",
        "| **trimStart()**          | `\"  hi\".trimStart()`                 | `\"hi\"`                   |\n",
        "| **trimEnd()**            | `\"hi  \".trimEnd()`                   | `\"hi\"`                   |\n",
        "| **repeat(n)**            | `\"Hi\".repeat(3)`                     | `\"HiHiHi\"`               |\n",
        "| **replace()**            | `str.replace(\"TypeScript\",\"TS\")`     | `\"Hello TS\"`             |\n",
        "| **replaceAll()**         | `\"aabb\".replaceAll(\"a\",\"x\")`         | `\"xxbb\"`                 |\n",
        "| **split()**              | `str.split(\" \")`                     | `[\"Hello\",\"TypeScript\"]` |\n",
        "| **match()**              | `\"abc123\".match(/\\d+/)`              | `[\"123\"]`                |\n",
        "| **matchAll()**           | `[... \"test1test2\".matchAll(/\\d/g)]` | `[[\"1\"],[\"2\"]]`          |\n",
        "| **padStart()**           | `\"5\".padStart(3,\"0\")`                | `\"005\"`                  |\n",
        "| **padEnd()**             | `\"5\".padEnd(3,\"0\")`                  | `\"500\"`                  |\n"
      ],
      "metadata": {
        "id": "hHJ4lDIt21mz"
      }
    },
    {
      "cell_type": "code",
      "source": [
        "\n",
        "%%writefile string.ts\n",
        "\n",
        "//______________________All String operation _________\n",
        "\n",
        "let str: string = \"Hello TypeScript\";\n",
        "\n",
        "console.log(str.length);   // 16\n",
        "console.log(str.charAt(0)); // \"H\"\n",
        "\n",
        "console.log(str.at(-1));\n",
        "\n",
        "console.log(\"Hello\".concat(\" World\"));\n",
        "\n",
        "console.log(str.includes(\"Type\"));\n",
        "\n",
        "console.log(str.startsWith(\"Hello\"));\n",
        "\n",
        "console.log(str.endsWith(\"Script\"));\n",
        "\n",
        "console.log(str.slice(0,5))\n",
        "\n",
        "console.log(str.substring(6,10))\n",
        "\n",
        "console.log(str.substr(6,4))\n",
        "\n",
        "console.log(str.toUpperCase())\n",
        "\n",
        "console.log(str.toLowerCase())\n",
        "\n",
        "console.log(\" hi \".trim())\n",
        "\n",
        "console.log(str.replace(\"TypeScript\",\"TS\"))\n",
        "\n",
        "console.log(\"aabb\".replaceAll(\"a\",\"x\"))\n",
        "\n",
        "console.log(str.split(\" \"))\n",
        "\n",
        "console.log(\"abc123\".match(/\\d+/))\n",
        "\n"
      ],
      "metadata": {
        "colab": {
          "base_uri": "https://localhost:8080/"
        },
        "id": "7JV2eq_T3gjN",
        "outputId": "300dada2-14f2-40a1-d684-4715bb570404"
      },
      "execution_count": null,
      "outputs": [
        {
          "output_type": "stream",
          "name": "stdout",
          "text": [
            "Overwriting string.ts\n"
          ]
        }
      ]
    },
    {
      "cell_type": "code",
      "source": [
        "!tsc string.ts   # compiles to hello.js\n",
        "!node string.js  # run compiled JavaScript"
      ],
      "metadata": {
        "colab": {
          "base_uri": "https://localhost:8080/"
        },
        "id": "zQGXtSnG31Dk",
        "outputId": "76f6de5d-f3cf-40d2-dd77-fb6c9a29944e"
      },
      "execution_count": null,
      "outputs": [
        {
          "output_type": "stream",
          "name": "stdout",
          "text": [
            "\u001b[96mstring.ts\u001b[0m:\u001b[93m9\u001b[0m:\u001b[93m17\u001b[0m - \u001b[91merror\u001b[0m\u001b[90m TS2550: \u001b[0mProperty 'at' does not exist on type 'string'. Do you need to change your target library? Try changing the 'lib' compiler option to 'es2022' or later.\n",
            "\n",
            "\u001b[7m9\u001b[0m console.log(str.at(-1));\n",
            "\u001b[7m \u001b[0m \u001b[91m                ~~\u001b[0m\n",
            "\n",
            "\u001b[96mstring.ts\u001b[0m:\u001b[93m13\u001b[0m:\u001b[93m17\u001b[0m - \u001b[91merror\u001b[0m\u001b[90m TS2550: \u001b[0mProperty 'includes' does not exist on type 'string'. Do you need to change your target library? Try changing the 'lib' compiler option to 'es2015' or later.\n",
            "\n",
            "\u001b[7m13\u001b[0m console.log(str.includes(\"Type\"));\n",
            "\u001b[7m  \u001b[0m \u001b[91m                ~~~~~~~~\u001b[0m\n",
            "\n",
            "\u001b[96mstring.ts\u001b[0m:\u001b[93m15\u001b[0m:\u001b[93m17\u001b[0m - \u001b[91merror\u001b[0m\u001b[90m TS2550: \u001b[0mProperty 'startsWith' does not exist on type 'string'. Do you need to change your target library? Try changing the 'lib' compiler option to 'es2015' or later.\n",
            "\n",
            "\u001b[7m15\u001b[0m console.log(str.startsWith(\"Hello\"));\n",
            "\u001b[7m  \u001b[0m \u001b[91m                ~~~~~~~~~~\u001b[0m\n",
            "\n",
            "\u001b[96mstring.ts\u001b[0m:\u001b[93m17\u001b[0m:\u001b[93m17\u001b[0m - \u001b[91merror\u001b[0m\u001b[90m TS2550: \u001b[0mProperty 'endsWith' does not exist on type 'string'. Do you need to change your target library? Try changing the 'lib' compiler option to 'es2015' or later.\n",
            "\n",
            "\u001b[7m17\u001b[0m console.log(str.endsWith(\"Script\"));\n",
            "\u001b[7m  \u001b[0m \u001b[91m                ~~~~~~~~\u001b[0m\n",
            "\n",
            "\u001b[96mstring.ts\u001b[0m:\u001b[93m33\u001b[0m:\u001b[93m20\u001b[0m - \u001b[91merror\u001b[0m\u001b[90m TS2550: \u001b[0mProperty 'replaceAll' does not exist on type '\"aabb\"'. Do you need to change your target library? Try changing the 'lib' compiler option to 'es2021' or later.\n",
            "\n",
            "\u001b[7m33\u001b[0m console.log(\"aabb\".replaceAll(\"a\",\"x\"))\n",
            "\u001b[7m  \u001b[0m \u001b[91m                   ~~~~~~~~~~\u001b[0m\n",
            "\n",
            "\n",
            "Found 5 errors in the same file, starting at: string.ts\u001b[90m:9\u001b[0m\n",
            "\n",
            "\u001b[33m16\u001b[39m\n",
            "H\n",
            "t\n",
            "Hello World\n",
            "\u001b[33mtrue\u001b[39m\n",
            "\u001b[33mtrue\u001b[39m\n",
            "\u001b[33mtrue\u001b[39m\n",
            "Hello\n",
            "Type\n",
            "Type\n",
            "HELLO TYPESCRIPT\n",
            "hello typescript\n",
            "hi\n",
            "Hello TS\n",
            "xxbb\n",
            "[ \u001b[32m'Hello'\u001b[39m, \u001b[32m'TypeScript'\u001b[39m ]\n",
            "[ \u001b[32m'123'\u001b[39m, index: \u001b[33m3\u001b[39m, input: \u001b[32m'abc123'\u001b[39m, groups: \u001b[90mundefined\u001b[39m ]\n"
          ]
        }
      ]
    },
    {
      "cell_type": "markdown",
      "source": [
        "**oops concept in type script**\n",
        "\n",
        "| Concept           | Description                                         | Example                           |\n",
        "| ----------------- | --------------------------------------------------- | --------------------------------- |\n",
        "| **Class**         | Blueprint to create objects.                        | `class Person {}`                 |\n",
        "| **Object**        | Instance of a class.                                | `let p = new Person();`           |\n",
        "| **Constructor**   | Special method to initialize objects.               | `constructor(name: string)`       |\n",
        "| **Encapsulation** | Data hiding using `public`, `private`, `protected`. | `private age: number;`            |\n",
        "| **Inheritance**   | A class can extend another class.                   | `class Student extends Person {}` |\n",
        "| **Polymorphism**  | Ability to redefine methods in child classes.       | `override speak()`                |\n",
        "| **Abstraction**   | Using `abstract` classes or `interfaces`.           | `abstract class Shape {}`         |\n"
      ],
      "metadata": {
        "id": "Z8I7bhBf7cB_"
      }
    },
    {
      "cell_type": "code",
      "source": [
        "%%writefile Object.ts\n",
        "\n",
        "//_____________________________________ Class and Object___________________________\n",
        "\n",
        "class Person {\n",
        "  name: string;\n",
        "  constructor(name: string) {\n",
        "    this.name = name;\n",
        "  }\n",
        "  greet(): void {\n",
        "    console.log(`Hello, my name is ${this.name}`);\n",
        "  }\n",
        "}\n",
        "\n",
        "let p1 = new Person(\"Alice\");\n",
        "p1.greet(); // Hello, my name is Alice"
      ],
      "metadata": {
        "colab": {
          "base_uri": "https://localhost:8080/"
        },
        "id": "483OiNXm78lM",
        "outputId": "60360ad2-737b-40a1-8a15-0d3f4a978892"
      },
      "execution_count": null,
      "outputs": [
        {
          "output_type": "stream",
          "name": "stdout",
          "text": [
            "Writing Object.ts\n"
          ]
        }
      ]
    },
    {
      "cell_type": "code",
      "source": [
        "!tsc Object.ts   # compiles to hello.js\n",
        "!node Object.js  # run compiled JavaScript"
      ],
      "metadata": {
        "colab": {
          "base_uri": "https://localhost:8080/"
        },
        "id": "Vaelr8Hf8F3d",
        "outputId": "e148586d-0fb8-41f9-812c-20b72343cafd"
      },
      "execution_count": null,
      "outputs": [
        {
          "output_type": "stream",
          "name": "stdout",
          "text": [
            "Hello, my name is Alice\n"
          ]
        }
      ]
    },
    {
      "cell_type": "code",
      "source": [
        "%%writefile Encapsulation.ts\n",
        "\n",
        "//_____________________________________\n",
        "\n",
        "class BankAccount {\n",
        "  private balance: number;\n",
        "\n",
        "  constructor(balance: number) {\n",
        "    this.balance = balance;\n",
        "  }\n",
        "\n",
        "  public deposit(amount: number): void {\n",
        "    this.balance += amount;\n",
        "  }\n",
        "\n",
        "  public getBalance(): number {\n",
        "    return this.balance;\n",
        "  }\n",
        "}\n",
        "\n",
        "let account = new BankAccount(1000);\n",
        "account.deposit(500);\n",
        "console.log(account.getBalance()); // 1500"
      ],
      "metadata": {
        "colab": {
          "base_uri": "https://localhost:8080/"
        },
        "id": "ZAj7kBZK8WTK",
        "outputId": "08eb287f-d1e1-4933-90a9-faded9d0e184"
      },
      "execution_count": null,
      "outputs": [
        {
          "output_type": "stream",
          "name": "stdout",
          "text": [
            "Writing Encapsulation.ts\n"
          ]
        }
      ]
    },
    {
      "cell_type": "code",
      "source": [
        "!tsc Encapsulation.ts   # compiles to hello.js\n",
        "!node Encapsulation.js  # run compiled JavaScript"
      ],
      "metadata": {
        "colab": {
          "base_uri": "https://localhost:8080/"
        },
        "id": "o1FAmvF98gqx",
        "outputId": "861a01e4-b493-4135-8cce-ef1b55424a08"
      },
      "execution_count": null,
      "outputs": [
        {
          "output_type": "stream",
          "name": "stdout",
          "text": [
            "\u001b[33m1500\u001b[39m\n"
          ]
        }
      ]
    },
    {
      "cell_type": "code",
      "source": [
        "%%writefile Inheritance.ts\n",
        "\n",
        "class Animal {\n",
        "  move(): void {\n",
        "    console.log(\"Animal is moving\");\n",
        "  }\n",
        "}\n",
        "\n",
        "class Dog extends Animal {\n",
        "  bark(): void {\n",
        "    console.log(\"Woof!\");\n",
        "  }\n",
        "}\n",
        "\n",
        "let d = new Dog();\n",
        "d.move(); // Animal is moving\n",
        "d.bark(); // Woof!\n",
        "\n",
        "\n"
      ],
      "metadata": {
        "colab": {
          "base_uri": "https://localhost:8080/"
        },
        "id": "6J5k6ZPe977u",
        "outputId": "eea47a6a-7ab6-45de-ee18-38c4cd242c9d"
      },
      "execution_count": null,
      "outputs": [
        {
          "output_type": "stream",
          "name": "stdout",
          "text": [
            "Writing Inheritance.ts\n"
          ]
        }
      ]
    },
    {
      "cell_type": "code",
      "source": [
        "!tsc Inheritance.ts   # compiles to hello.js\n",
        "!node Inheritance.js  # run compiled JavaScript"
      ],
      "metadata": {
        "colab": {
          "base_uri": "https://localhost:8080/"
        },
        "id": "ReY_Jq13-F-d",
        "outputId": "4d04ffc8-10c6-47c8-a80a-81bc8d628099"
      },
      "execution_count": null,
      "outputs": [
        {
          "output_type": "stream",
          "name": "stdout",
          "text": [
            "Animal is moving\n",
            "Woof!\n"
          ]
        }
      ]
    },
    {
      "cell_type": "code",
      "source": [
        "%%writefile MethodOverriding.ts\n",
        "\n",
        "class Shape {\n",
        "  area(): number {\n",
        "    return 0;\n",
        "  }\n",
        "}\n",
        "\n",
        "class Circle extends Shape {\n",
        "  radius: number;\n",
        "  constructor(radius: number) {\n",
        "    super();\n",
        "    this.radius = radius;\n",
        "  }\n",
        "  area(): number {\n",
        "    return Math.PI * this.radius * this.radius;\n",
        "  }\n",
        "}\n",
        "\n",
        "let s: Shape = new Circle(5);\n",
        "console.log(s.area()); // 78.54\n"
      ],
      "metadata": {
        "colab": {
          "base_uri": "https://localhost:8080/"
        },
        "id": "HBxGYDRZF4Cz",
        "outputId": "d315fbc3-c516-471d-d09a-852ad3c0c5e6"
      },
      "execution_count": null,
      "outputs": [
        {
          "output_type": "stream",
          "name": "stdout",
          "text": [
            "Writing MethodOverriding.ts\n"
          ]
        }
      ]
    },
    {
      "cell_type": "code",
      "source": [
        "!tsc MethodOverriding.ts   # compiles to hello.js\n",
        "!node MethodOverriding.js  # run compiled JavaScript"
      ],
      "metadata": {
        "colab": {
          "base_uri": "https://localhost:8080/"
        },
        "id": "2zxHJjfLGF5T",
        "outputId": "013b5ffe-4b74-4a7d-c354-9662e332ebfd"
      },
      "execution_count": null,
      "outputs": [
        {
          "output_type": "stream",
          "name": "stdout",
          "text": [
            "\u001b[33m78.53981633974483\u001b[39m\n"
          ]
        }
      ]
    },
    {
      "cell_type": "code",
      "source": [
        "%%writefile AbstractClass.ts\n",
        "\n",
        "abstract class Vehicle {\n",
        "  abstract start(): void;  // must be implemented in child\n",
        "}\n",
        "\n",
        "class Car extends Vehicle {\n",
        "  start(): void {\n",
        "    console.log(\"Car started 🚗\");\n",
        "  }\n",
        "}\n",
        "\n",
        "let v: Vehicle = new Car();\n",
        "v.start(); // Car started 🚗\n"
      ],
      "metadata": {
        "colab": {
          "base_uri": "https://localhost:8080/"
        },
        "id": "5F9KYXp1GOAn",
        "outputId": "37c83a16-282d-44b0-ddb2-d0e1438f0eba"
      },
      "execution_count": null,
      "outputs": [
        {
          "output_type": "stream",
          "name": "stdout",
          "text": [
            "Writing AbstractClass.ts\n"
          ]
        }
      ]
    },
    {
      "cell_type": "code",
      "source": [
        "!tsc AbstractClass.ts   # compiles to hello.js\n",
        "!node AbstractClass.js  # run compiled JavaScript"
      ],
      "metadata": {
        "colab": {
          "base_uri": "https://localhost:8080/"
        },
        "id": "BViUPfhWGUaV",
        "outputId": "d96ef411-68d0-47cb-8f25-515dbd68b8b1"
      },
      "execution_count": null,
      "outputs": [
        {
          "output_type": "stream",
          "name": "stdout",
          "text": [
            "Car started 🚗\n"
          ]
        }
      ]
    },
    {
      "cell_type": "code",
      "source": [
        "%%writefile Interface.ts\n",
        "\n",
        "interface Flyable {\n",
        "  fly(): void;\n",
        "}\n",
        "\n",
        "class Bird implements Flyable {\n",
        "  fly(): void {\n",
        "    console.log(\"Bird is flying 🐦\");\n",
        "  }\n",
        "}\n",
        "\n",
        "let b = new Bird();\n",
        "b.fly(); // Bird is flying 🐦"
      ],
      "metadata": {
        "colab": {
          "base_uri": "https://localhost:8080/"
        },
        "id": "ZO70cde9Ge23",
        "outputId": "b7daf9c3-9dfc-4060-a181-5df0a31216c0"
      },
      "execution_count": null,
      "outputs": [
        {
          "output_type": "stream",
          "name": "stdout",
          "text": [
            "Writing Interface.ts\n"
          ]
        }
      ]
    },
    {
      "cell_type": "code",
      "source": [
        "!tsc Interface.ts   # compiles to hello.js\n",
        "!node Interface.js  # run compiled JavaScript"
      ],
      "metadata": {
        "colab": {
          "base_uri": "https://localhost:8080/"
        },
        "id": "fTj6_eCTGpG2",
        "outputId": "dae7a615-e9df-4e78-f9c8-2b52fc845f91"
      },
      "execution_count": null,
      "outputs": [
        {
          "output_type": "stream",
          "name": "stdout",
          "text": [
            "Bird is flying 🐦\n"
          ]
        }
      ]
    },
    {
      "cell_type": "markdown",
      "source": [
        "**Steps to Run Playwright in Google Colab**"
      ],
      "metadata": {
        "id": "BhpuyjJ-Ko3X"
      }
    },
    {
      "cell_type": "markdown",
      "source": [
        "**Exception Handling**\n",
        "\n",
        "is the process of catching and managing runtime errors (exceptions) in your program so it doesn’t crash unexpectedly.\n",
        "\n",
        "TypeScript uses the same mechanism as JavaScript — try, catch, and finally — but with strong typing support.\n",
        "\n",
        "    throw new Error() → manually creates an exception.\n",
        "\n",
        "    catch → captures that error.\n",
        "\n",
        "    finally → always executes (useful for cleanup, closing browser, etc.).\n",
        "\n",
        "    unknown → recommended type for error instead of any (for better safety).\n",
        "\n",
        "        try {\n",
        "        // Code that may throw an error\n",
        "           } catch (error) {\n",
        "        // Handle the error\n",
        "            } finally {\n",
        "        // Code that always executes (optional)\n",
        "        }"
      ],
      "metadata": {
        "id": "tgVKKlAyLSfd"
      }
    },
    {
      "cell_type": "code",
      "source": [
        "%%writefile trycatch.ts\n",
        "\n",
        "function divide(a: number, b: number): number {\n",
        "  if (b === 0) {\n",
        "    throw new Error(\"Cannot divide by zero!\");\n",
        "  }\n",
        "  return a / b;\n",
        "}\n",
        "\n",
        "try {\n",
        "  const result = divide(10, 0);\n",
        "  console.log(\"Result:\", result);\n",
        "} catch (error: unknown) {\n",
        "  if (error instanceof Error) {\n",
        "    console.error(\"Error occurred:\", error.message);\n",
        "  } else {\n",
        "    console.error(\"Unknown error:\", error);\n",
        "  }\n",
        "} finally {\n",
        "  console.log(\"Execution completed.\");\n",
        "}\n"
      ],
      "metadata": {
        "colab": {
          "base_uri": "https://localhost:8080/"
        },
        "id": "P8qCkuQgMEwb",
        "outputId": "8b0edd55-577f-4a02-a4d0-aad38296a3ec"
      },
      "execution_count": null,
      "outputs": [
        {
          "output_type": "stream",
          "name": "stdout",
          "text": [
            "Overwriting trycatch.ts\n"
          ]
        }
      ]
    },
    {
      "cell_type": "code",
      "source": [
        "!tsc trycatch.ts   # compiles to hello.js\n",
        "!node trycatch.js  # run compiled JavaScript"
      ],
      "metadata": {
        "colab": {
          "base_uri": "https://localhost:8080/"
        },
        "id": "q35p0A4BMQBY",
        "outputId": "688ee34e-a63c-4732-f199-c0c4670ee0ae"
      },
      "execution_count": null,
      "outputs": [
        {
          "output_type": "stream",
          "name": "stdout",
          "text": [
            "Error occurred: Cannot divide by zero!\n",
            "Execution completed.\n"
          ]
        }
      ]
    },
    {
      "cell_type": "markdown",
      "source": [
        "**What is Promise in TypeScript**\n",
        "\n",
        "A Promise in TypeScript represents a value that may be available now, later, or never. It’s commonly used to handle asynchronous operations such as API calls or database requests.\n",
        "A Promise can be in one of three states — pending, fulfilled, or rejected.\n",
        "Instead of using nested callbacks, Promises allow us to use .then() for success and .catch() for errors, which makes the code cleaner and more maintainable.\n",
        "\n",
        "For Example\n",
        "\n",
        "Imagine you order food online 🍕:\n",
        "\n",
        "When you order → the promise is pending.\n",
        "\n",
        "When the food is delivered → it’s fulfilled.\n",
        "\n",
        "When the order fails → it’s rejected.\n",
        "\n",
        "You just wait for the promise to be resolved or rejected, instead of constantly checking.\n",
        "\n",
        "\n",
        "Promises are asynchronous by design (non-blocking).\n",
        "\n",
        "You can chain Promises using .then() and .catch().\n",
        "\n",
        "The async/await syntax is built on top of Promises to make code look synchronous."
      ],
      "metadata": {
        "id": "mIcMDWtGNQh6"
      }
    },
    {
      "cell_type": "code",
      "source": [
        "%%writefile promise.ts\n",
        "function getUser(): Promise<string> {\n",
        "  return new Promise((resolve, reject) => {\n",
        "    let success = true;\n",
        "    setTimeout(() => {\n",
        "      if (success) {\n",
        "        resolve(\"✅ User data fetched successfully\");\n",
        "      } else {\n",
        "        reject(\"❌ Failed to fetch user data\");\n",
        "      }\n",
        "    }, 2000);\n",
        "  });\n",
        "}\n",
        "\n",
        "getUser()\n",
        "  .then((result) => console.log(result))   // Handles success\n",
        "  .catch((error) => console.error(error)); // Handles failure\n"
      ],
      "metadata": {
        "colab": {
          "base_uri": "https://localhost:8080/"
        },
        "id": "fe2ROjFSRo79",
        "outputId": "2bc3c16d-9548-4299-8a5a-dbb8f5d5e9ef"
      },
      "execution_count": null,
      "outputs": [
        {
          "output_type": "stream",
          "name": "stdout",
          "text": [
            "Writing promise.ts\n"
          ]
        }
      ]
    },
    {
      "cell_type": "code",
      "source": [
        "!tsc promise.ts   # compiles to hello.js\n",
        "!node promise.js  # run compiled JavaScript"
      ],
      "metadata": {
        "colab": {
          "base_uri": "https://localhost:8080/"
        },
        "id": "92cEyyjvR8Xw",
        "outputId": "8f3767fb-9a27-4cd9-b442-12b42970fb1c"
      },
      "execution_count": null,
      "outputs": [
        {
          "output_type": "stream",
          "name": "stdout",
          "text": [
            "\u001b[96mpromise.ts\u001b[0m:\u001b[93m2\u001b[0m:\u001b[93m14\u001b[0m - \u001b[91merror\u001b[0m\u001b[90m TS2585: \u001b[0m'Promise' only refers to a type, but is being used as a value here. Do you need to change your target library? Try changing the 'lib' compiler option to es2015 or later.\n",
            "\n",
            "\u001b[7m2\u001b[0m   return new Promise((resolve, reject) => {\n",
            "\u001b[7m \u001b[0m \u001b[91m             ~~~~~~~\u001b[0m\n",
            "\n",
            "\n",
            "Found 1 error in promise.ts\u001b[90m:2\u001b[0m\n",
            "\n",
            "✅ User data fetched successfully\n"
          ]
        }
      ]
    },
    {
      "cell_type": "markdown",
      "source": [
        "**What is play Write**\n",
        "\n",
        "Playwright is a powerful end-to-end testing framework by Microsoft that supports multiple browsers (Chromium, Firefox, WebKit) and languages like TypeScript, JavaScript, Python, C#, and Java."
      ],
      "metadata": {
        "id": "qi11y0sb3c2c"
      }
    },
    {
      "cell_type": "markdown",
      "source": [
        "**What are the advantages of Playwright over Selenium?**\n",
        "\n",
        "Playwright is faster, has auto-waiting, supports multiple browser contexts, handles modern features (Shadow DOM, network mocking), and doesn’t rely on WebDriver."
      ],
      "metadata": {
        "id": "Vl8-SyLqR-Ko"
      }
    },
    {
      "cell_type": "markdown",
      "source": [
        "**How do you launch a browser in Playwright?**\n",
        "\n",
        "        import { chromium } from '@playwright/test';\n",
        "\n",
        "        (async () => {\n",
        "        // Launch browser in headless mode (default)\n",
        "        const browser = await chromium.launch();\n",
        "\n",
        "        // Open a new page\n",
        "        const page = await browser.newPage();\n",
        "\n",
        "        // Navigate to a website\n",
        "        await page.goto('https://example.com');\n",
        "\n",
        "        // Close the browser\n",
        "        await browser.close();\n",
        "        })();\n"
      ],
      "metadata": {
        "id": "jscK2hAGSzDv"
      }
    },
    {
      "cell_type": "markdown",
      "source": [
        "**Launch Other Browser Types**\n",
        "\n",
        "| Browser  | Import Statement                         | Example Launch                                |\n",
        "| -------- | ---------------------------------------- | --------------------------------------------- |\n",
        "| Chromium | `import { chromium } from 'playwright';` | `await chromium.launch({ headless: false });` |\n",
        "| Firefox  | `import { firefox } from 'playwright';`  | `await firefox.launch();`                     |\n",
        "| WebKit   | `import { webkit } from 'playwright';`   | `await webkit.launch({ headless: false });`   |\n"
      ],
      "metadata": {
        "id": "FB14TwV0RR0v"
      }
    },
    {
      "cell_type": "markdown",
      "source": [
        "**Playwright Keywords / Methods with Definitions**\n",
        "\n",
        "test - Defines a test case\n",
        "\n",
        "        import { test, expect } from '@playwright/test';\n",
        "\n",
        "        test('Verify Google title', async ({ page }) => {\n",
        "        await page.goto('https://google.com');\n",
        "        await expect(page).toHaveTitle(/Google/);\n",
        "        });\n",
        "\n",
        " expect - Assertion library to validate results\n",
        "\n",
        "      await expect(page).toHaveTitle(/Google/);\n",
        "\n",
        " page.goto(url) - Navigates to a specified URL.\n",
        "\n",
        "     await page.goto('https://example.com');\n",
        "\n",
        " page.click(selector) - Clicks an element matching the selector.\n",
        "\n",
        "     await page.click('#submit');\n",
        "\n",
        " page.fill(selector, value) - Fills input fields.\n",
        "\n",
        "      await page.fill('#username', 'admin')\n",
        "\n",
        " page.type(selector, value) - Types text into an input field character by character.\n",
        "\n",
        "     await page.type('#search', 'Playwright');\n",
        "\n",
        " page.locator(selector) - Returns a locator object for advanced operations and auto-waiting.\n",
        "\n",
        "    await page.locator('text=Login').click();\n",
        "\n",
        "\n",
        "page.waitForSelector(selector) - Explicit wait until the element appears.\n",
        "\n",
        "    await page.waitForSelector('#loader', { state: 'hidden' });\n",
        "\n",
        "page.hover(selector) - Moves mouse over an element\n",
        "\n",
        "    await page.hover('#menu');\n",
        "\n",
        "page.screenshot(options) - Captures screenshot of the page or element.\n",
        "\n",
        "    await page.screenshot({ path: 'screenshot.png' });\n",
        "\n",
        "page.setInputFiles(selector, filePath) - Uploads a file to an input element\n",
        "\n",
        "   await page.setInputFiles('#file', 'test.pdf');\n",
        "\n",
        "| Keyword / Method                           | Definition / Usage                                                 | Example                                                          |\n",
        "| ------------------------------------------ | ------------------------------------------------------------------ | ---------------------------------------------------------------- |\n",
        "| **test**                                   | Defines a test case.                                               | `test('Open page', async ({ page }) => { ... });`                |\n",
        "| **expect**                                 | Assertion library to validate results.                             | `await expect(page).toHaveTitle(/Google/);`                      |\n",
        "| **page.goto(url)**                         | Navigates to a specified URL.                                      | `await page.goto('https://example.com');`                        |\n",
        "| **page.click(selector)**                   | Clicks an element matching the selector.                           | `await page.click('#submit');`                                   |\n",
        "| **page.fill(selector, value)**             | Fills input fields.                                                | `await page.fill('#username', 'admin');`                         |\n",
        "| **page.type(selector, value)**             | Types text into an input field character by character.             | `await page.type('#search', 'Playwright');`                      |\n",
        "| **page.locator(selector)**                 | Returns a locator object for advanced operations and auto-waiting. | `await page.locator('text=Login').click();`                      |\n",
        "| **page.waitForSelector(selector)**         | Explicit wait until the element appears.                           | `await page.waitForSelector('#loader', { state: 'hidden' });`    |\n",
        "| **page.hover(selector)**                   | Moves mouse over an element.                                       | `await page.hover('#menu');`                                     |\n",
        "| **page.screenshot(options)**               | Captures screenshot of the page or element.                        | `await page.screenshot({ path: 'screenshot.png' });`             |\n",
        "| **page.setInputFiles(selector, filePath)** | Uploads a file to an input element.                                | `await page.setInputFiles('#file', 'test.pdf');`                 |\n",
        "| **page.frame(nameOrSelector)**             | Accesses a frame (iframe) in the page.                             | `const frame = page.frame({ name: 'frame1' });`                  |\n",
        "| **page.on(event, callback)**               | Event listener for network, dialogs, etc.                          | `page.on('dialog', async dialog => { await dialog.accept(); });` |\n",
        "| **page.keyboard.press(key)**               | Simulates a keyboard press.                                        | `await page.keyboard.press('Enter');`                            |\n",
        "| **page.locator(selector).check()**         | Checks a checkbox.                                                 | `await page.locator('#agree').check();`                          |\n",
        "| **page.locator(selector).uncheck()**       | Unchecks a checkbox.                                               | `await page.locator('#agree').uncheck();`                        |\n",
        "| **page.selectOption(selector, value)**     | Selects a dropdown option.                                         | `await page.selectOption('#country', 'India');`                  |\n",
        "| **page.title()**                           | Returns the title of the current page.                             | `const title = await page.title();`                              |\n",
        "| **page.context()**                         | Returns the browser context of the page.                           | `const context = page.context();`                                |\n",
        "| **browser.newContext()**                   | Creates a new isolated browser context.                            | `const context = await browser.newContext();`                    |\n",
        "| **context.newPage()**                      | Opens a new page/tab in a context.                                 | `const page = await context.newPage();`                          |\n",
        "| **browser.launch(options)**                | Launches a new browser instance.                                   | `const browser = await chromium.launch({ headless: false });`    |\n",
        "| **browser.close()**                        | Closes the browser instance.                                       | `await browser.close();`                                         |\n",
        "| **test.describe(name, callback)**          | Groups multiple tests into a suite.                                | `test.describe('Login Tests', () => { ... });`                   |\n",
        "| **test.beforeAll(callback)**               | Runs code before all tests in a suite.                             | `test.beforeAll(async () => { ... });`                           |\n",
        "| **test.afterAll(callback)**                | Runs code after all tests in a suite.                              | `test.afterAll(async () => { ... });`                            |\n",
        "| **test.beforeEach(callback)**              | Runs before each test in a suite.                                  | `test.beforeEach(async ({ page }) => { ... });`                  |\n",
        "| **test.afterEach(callback)**               | Runs after each test in a suite.                                   | `test.afterEach(async ({ page }) => { ... });`                   |\n",
        "| **test.skip(reason, callback)**            | Skips a test case.                                                 | `test.skip('Not ready yet', async () => { ... });`               |\n",
        "| **test.only(callback)**                    | Runs only this test.                                               | `test.only('Run this', async () => { ... });`                    |\n",
        "| **page.waitForTimeout(ms)**                | Waits for a fixed time (ms).                                       | `await page.waitForTimeout(3000);`                               |\n",
        "| **page.locator(selector).nth(index)**      | Accesses a specific element in multiple matches.                   | `await page.locator('button').nth(1).click();`                   |\n",
        "| **page.close()**                           | Closes the current page.                                           | `await page.close();`                                            |\n",
        "| **test.setTimeout(ms)**                    | Sets a custom timeout for a test.                                  | `test.setTimeout(60000);`                                        |\n",
        "\n",
        "\n"
      ],
      "metadata": {
        "id": "FlrYyF16TSOy"
      }
    },
    {
      "cell_type": "markdown",
      "source": [],
      "metadata": {
        "id": "ek9G6OTuMEOm"
      }
    },
    {
      "cell_type": "code",
      "source": [
        "#_________________Install Node.js & Playwright______________\n",
        "\n",
        "!npm install -g playwright typescript ts-node @types/node\n",
        "\n",
        "#_________________Install Browsers for Playwright_____________________\n",
        "\n",
        "!npm install playwright\n",
        "!npx playwright install --with-deps\n",
        "\n",
        "!npx playwright test handleElements.spec.ts --headed\n",
        "\n",
        "!npm install -D @playwright/test\n",
        "\n"
      ],
      "metadata": {
        "collapsed": true,
        "colab": {
          "base_uri": "https://localhost:8080/"
        },
        "id": "EZM64pwQKtjt",
        "outputId": "348e95eb-a1f1-401f-91ca-5283be51a54e"
      },
      "execution_count": 1,
      "outputs": [
        {
          "output_type": "stream",
          "name": "stdout",
          "text": [
            "\u001b[1G\u001b[0K⠙\u001b[1G\u001b[0K⠹\u001b[1G\u001b[0K⠸\u001b[1G\u001b[0K⠼\u001b[1G\u001b[0K⠴\u001b[1G\u001b[0K⠦\u001b[1G\u001b[0K⠧\u001b[1G\u001b[0K⠇\u001b[1G\u001b[0K⠏\u001b[1G\u001b[0K⠋\u001b[1G\u001b[0K⠙\u001b[1G\u001b[0K⠹\u001b[1G\u001b[0K⠸\u001b[1G\u001b[0K⠼\u001b[1G\u001b[0K⠴\u001b[1G\u001b[0K⠦\u001b[1G\u001b[0K⠧\u001b[1G\u001b[0K⠇\u001b[1G\u001b[0K⠏\u001b[1G\u001b[0K⠋\u001b[1G\u001b[0K⠙\u001b[1G\u001b[0K⠹\u001b[1G\u001b[0K⠸\u001b[1G\u001b[0K⠼\u001b[1G\u001b[0K⠴\u001b[1G\u001b[0K⠦\u001b[1G\u001b[0K⠧\u001b[1G\u001b[0K⠇\u001b[1G\u001b[0K⠏\u001b[1G\u001b[0K⠋\u001b[1G\u001b[0K⠙\u001b[1G\u001b[0K⠹\u001b[1G\u001b[0K⠸\u001b[1G\u001b[0K⠼\u001b[1G\u001b[0K⠴\u001b[1G\u001b[0K⠦\u001b[1G\u001b[0K⠧\u001b[1G\u001b[0K⠇\u001b[1G\u001b[0K⠏\u001b[1G\u001b[0K⠋\u001b[1G\u001b[0K⠙\u001b[1G\u001b[0K⠹\u001b[1G\u001b[0K⠸\u001b[1G\u001b[0K⠼\u001b[1G\u001b[0K⠴\u001b[1G\u001b[0K⠦\u001b[1G\u001b[0K⠧\u001b[1G\u001b[0K⠇\u001b[1G\u001b[0K⠏\u001b[1G\u001b[0K\n",
            "added 22 packages in 6s\n",
            "\u001b[1G\u001b[0K⠏\u001b[1G\u001b[0K\u001b[1G\u001b[0K⠙\u001b[1G\u001b[0K⠹\u001b[1G\u001b[0K⠸\u001b[1G\u001b[0K⠼\u001b[1G\u001b[0K⠴\u001b[1G\u001b[0K⠦\u001b[1G\u001b[0K\n",
            "added 2 packages in 1s\n",
            "\u001b[1G\u001b[0K⠦\u001b[1G\u001b[0K\u001b[1G\u001b[0K⠙\u001b[1G\u001b[0KInstalling dependencies...\n",
            "Hit:1 https://cli.github.com/packages stable InRelease\n",
            "Get:2 https://cloud.r-project.org/bin/linux/ubuntu jammy-cran40/ InRelease [3,632 B]\n",
            "Hit:3 https://developer.download.nvidia.com/compute/cuda/repos/ubuntu2204/x86_64  InRelease\n",
            "Hit:4 https://r2u.stat.illinois.edu/ubuntu jammy InRelease\n",
            "Get:5 http://security.ubuntu.com/ubuntu jammy-security InRelease [129 kB]\n",
            "Hit:6 http://archive.ubuntu.com/ubuntu jammy InRelease\n",
            "Get:7 http://archive.ubuntu.com/ubuntu jammy-updates InRelease [128 kB]\n",
            "Get:8 https://ppa.launchpadcontent.net/deadsnakes/ppa/ubuntu jammy InRelease [18.1 kB]\n",
            "Get:9 https://ppa.launchpadcontent.net/graphics-drivers/ppa/ubuntu jammy InRelease [24.3 kB]\n",
            "Get:10 http://archive.ubuntu.com/ubuntu jammy-backports InRelease [127 kB]\n",
            "Hit:11 https://ppa.launchpadcontent.net/ubuntugis/ppa/ubuntu jammy InRelease\n",
            "Get:12 http://security.ubuntu.com/ubuntu jammy-security/restricted amd64 Packages [5,727 kB]\n",
            "Get:13 http://archive.ubuntu.com/ubuntu jammy-updates/universe amd64 Packages [1,582 kB]\n",
            "Get:14 https://ppa.launchpadcontent.net/deadsnakes/ppa/ubuntu jammy/main amd64 Packages [32.8 kB]\n",
            "Get:15 https://ppa.launchpadcontent.net/graphics-drivers/ppa/ubuntu jammy/main amd64 Packages [44.9 kB]\n",
            "Get:16 http://archive.ubuntu.com/ubuntu jammy-updates/main amd64 Packages [3,750 kB]\n",
            "Get:17 http://security.ubuntu.com/ubuntu jammy-security/main amd64 Packages [3,425 kB]\n",
            "Get:18 http://security.ubuntu.com/ubuntu jammy-security/universe amd64 Packages [1,276 kB]\n",
            "Fetched 16.3 MB in 3s (5,897 kB/s)\n",
            "Reading package lists... Done\n",
            "W: Skipping acquire of configured file 'main/source/Sources' as repository 'https://r2u.stat.illinois.edu/ubuntu jammy InRelease' does not seem to provide it (sources.list entry misspelt?)\n",
            "Reading package lists... Done\n",
            "Building dependency tree... Done\n",
            "Reading state information... Done\n",
            "fonts-liberation is already the newest version (1:1.07.4-11).\n",
            "libasound2 is already the newest version (1.2.6.1-1ubuntu1).\n",
            "libasound2 set to manually installed.\n",
            "libatk-bridge2.0-0 is already the newest version (2.38.0-3).\n",
            "libatk-bridge2.0-0 set to manually installed.\n",
            "libatk1.0-0 is already the newest version (2.36.0-3build1).\n",
            "libatk1.0-0 set to manually installed.\n",
            "libatspi2.0-0 is already the newest version (2.44.0-3).\n",
            "libatspi2.0-0 set to manually installed.\n",
            "libcairo-gobject2 is already the newest version (1.16.0-5ubuntu2).\n",
            "libcairo-gobject2 set to manually installed.\n",
            "libcairo2 is already the newest version (1.16.0-5ubuntu2).\n",
            "libcairo2 set to manually installed.\n",
            "libegl1 is already the newest version (1.4.0-1).\n",
            "libepoxy0 is already the newest version (1.5.10-1).\n",
            "libepoxy0 set to manually installed.\n",
            "libevent-2.1-7 is already the newest version (2.1.12-stable-1build3).\n",
            "libevent-2.1-7 set to manually installed.\n",
            "libfontconfig1 is already the newest version (2.13.1-4.2ubuntu5).\n",
            "libgles2 is already the newest version (1.4.0-1).\n",
            "libglx0 is already the newest version (1.4.0-1).\n",
            "libglx0 set to manually installed.\n",
            "libicu70 is already the newest version (70.1-2).\n",
            "libicu70 set to manually installed.\n",
            "libjpeg-turbo8 is already the newest version (2.1.2-0ubuntu1).\n",
            "libjpeg-turbo8 set to manually installed.\n",
            "liblcms2-2 is already the newest version (2.12~rc1-2build2).\n",
            "liblcms2-2 set to manually installed.\n",
            "libopengl0 is already the newest version (1.4.0-1).\n",
            "libopus0 is already the newest version (1.3.1-0.1build2).\n",
            "libopus0 set to manually installed.\n",
            "libpng16-16 is already the newest version (1.6.37-3build5).\n",
            "libpng16-16 set to manually installed.\n",
            "libxcb-shm0 is already the newest version (1.14-3ubuntu3).\n",
            "libxcb-shm0 set to manually installed.\n",
            "libxcb1 is already the newest version (1.14-3ubuntu3).\n",
            "libxcb1 set to manually installed.\n",
            "libxcomposite1 is already the newest version (1:0.4.5-1build2).\n",
            "libxcomposite1 set to manually installed.\n",
            "libxcursor1 is already the newest version (1:1.2.0-2build4).\n",
            "libxcursor1 set to manually installed.\n",
            "libxdamage1 is already the newest version (1:1.1.5-2build2).\n",
            "libxdamage1 set to manually installed.\n",
            "libxext6 is already the newest version (2:1.3.4-1build1).\n",
            "libxfixes3 is already the newest version (1:6.0.0-1).\n",
            "libxfixes3 set to manually installed.\n",
            "libxi6 is already the newest version (2:1.8-1build1).\n",
            "libxi6 set to manually installed.\n",
            "libxkbcommon0 is already the newest version (1.4.0-1).\n",
            "libxkbcommon0 set to manually installed.\n",
            "libxrandr2 is already the newest version (2:1.5.2-1build1).\n",
            "libxrandr2 set to manually installed.\n",
            "libxrender1 is already the newest version (1:0.9.10-1build4).\n",
            "libx264-163 is already the newest version (2:0.163.3060+git5db6aa6-2build1).\n",
            "libx264-163 set to manually installed.\n",
            "libatomic1 is already the newest version (12.3.0-1ubuntu1~22.04.2).\n",
            "libatomic1 set to manually installed.\n",
            "libcups2 is already the newest version (2.4.1op1-1ubuntu4.12).\n",
            "libcups2 set to manually installed.\n",
            "libdbus-1-3 is already the newest version (1.12.20-2ubuntu4.1).\n",
            "libdbus-1-3 set to manually installed.\n",
            "libdrm2 is already the newest version (2.4.113-2~ubuntu0.22.04.1).\n",
            "libdrm2 set to manually installed.\n",
            "libfreetype6 is already the newest version (2.11.1+dfsg-1ubuntu0.3).\n",
            "libfreetype6 set to manually installed.\n",
            "libgbm1 is already the newest version (23.2.1-1ubuntu3.1~22.04.3).\n",
            "libgbm1 set to manually installed.\n",
            "libgdk-pixbuf-2.0-0 is already the newest version (2.42.8+dfsg-1ubuntu0.4).\n",
            "libgdk-pixbuf-2.0-0 set to manually installed.\n",
            "libglib2.0-0 is already the newest version (2.72.4-0ubuntu2.6).\n",
            "libgstreamer-plugins-base1.0-0 is already the newest version (1.20.1-1ubuntu0.5).\n",
            "libgstreamer-plugins-base1.0-0 set to manually installed.\n",
            "libgstreamer1.0-0 is already the newest version (1.20.3-0ubuntu1.1).\n",
            "libgstreamer1.0-0 set to manually installed.\n",
            "libgtk-3-0 is already the newest version (3.24.33-1ubuntu2.2).\n",
            "libgtk-3-0 set to manually installed.\n",
            "libgtk-4-1 is already the newest version (4.6.9+ds-0ubuntu0.22.04.2).\n",
            "libgtk-4-1 set to manually installed.\n",
            "libharfbuzz0b is already the newest version (2.7.4-1ubuntu3.2).\n",
            "libharfbuzz0b set to manually installed.\n",
            "libnspr4 is already the newest version (2:4.35-0ubuntu0.22.04.1).\n",
            "libnspr4 set to manually installed.\n",
            "libnss3 is already the newest version (2:3.98-0ubuntu0.22.04.2).\n",
            "libnss3 set to manually installed.\n",
            "libopenjp2-7 is already the newest version (2.4.0-6ubuntu0.4).\n",
            "libopenjp2-7 set to manually installed.\n",
            "libpango-1.0-0 is already the newest version (1.50.6+ds-2ubuntu1).\n",
            "libpango-1.0-0 set to manually installed.\n",
            "libpangocairo-1.0-0 is already the newest version (1.50.6+ds-2ubuntu1).\n",
            "libpangocairo-1.0-0 set to manually installed.\n",
            "libwayland-client0 is already the newest version (1.20.0-1ubuntu0.1).\n",
            "libwayland-client0 set to manually installed.\n",
            "libwayland-egl1 is already the newest version (1.20.0-1ubuntu0.1).\n",
            "libwayland-egl1 set to manually installed.\n",
            "libwayland-server0 is already the newest version (1.20.0-1ubuntu0.1).\n",
            "libwayland-server0 set to manually installed.\n",
            "libwebpdemux2 is already the newest version (1.2.2-2ubuntu0.22.04.2).\n",
            "libx11-6 is already the newest version (2:1.7.5-1ubuntu0.3).\n",
            "libx11-6 set to manually installed.\n",
            "libx11-xcb1 is already the newest version (2:1.7.5-1ubuntu0.3).\n",
            "libx11-xcb1 set to manually installed.\n",
            "libxml2 is already the newest version (2.9.13+dfsg-1ubuntu0.9).\n",
            "libxml2 set to manually installed.\n",
            "libxslt1.1 is already the newest version (1.1.34-4ubuntu0.22.04.4).\n",
            "ffmpeg is already the newest version (7:4.4.2-0ubuntu0.22.04.1).\n",
            "xvfb is already the newest version (2:21.1.4-2ubuntu1.7~22.04.15).\n",
            "The following additional packages will be installed:\n",
            "  dictionaries-common glib-networking glib-networking-common\n",
            "  glib-networking-services gsettings-desktop-schemas hunspell-en-us libaa1\n",
            "  libabsl20210324 libaspell15 libcdparanoia0 libdca0 libdv4 libdvdnav4\n",
            "  libdvdread8 libfaad2 libfluidsynth3 libfreeaptx0 libgav1-0 libgssdp-1.2-0\n",
            "  libgstreamer-plugins-bad1.0-0 libgstreamer-plugins-good1.0-0 libgupnp-1.2-1\n",
            "  libgupnp-igd-1.0-4 libhunspell-1.7-0 libinstpatch-1.0-2 libjson-glib-1.0-0\n",
            "  libjson-glib-1.0-common libkate1 libldacbt-enc2 libltc11 libmjpegutils-2.1-0\n",
            "  libmodplug1 libmpcdec6 libmpeg2encpp-2.1-0 libmplex2-2.1-0 libnice10\n",
            "  libopenh264-6 libopenni2-0 libqrencode4 libsbc1 libsecret-common libshout3\n",
            "  libsoundtouch1 libsoup-3.0-common libsoup2.4-1 libsoup2.4-common libspandsp2\n",
            "  libsrtp2-1 libtag1v5 libtag1v5-vanilla libtext-iconv-perl libv4l-0\n",
            "  libv4lconvert0 libvisual-0.4-0 libvo-aacenc0 libvo-amrwbenc0 libwavpack1\n",
            "  libwebrtc-audio-processing1 libwildmidi2 libyuv0 libzbar0 libzxingcore1\n",
            "  session-migration timgm6mb-soundfont xfonts-encodings xfonts-utils\n",
            "Suggested packages:\n",
            "  ispell | aspell | hunspell wordlist frei0r-plugins gvfs hunspell\n",
            "  openoffice.org-hunspell | openoffice.org-core aspell libdv-bin oss-compat\n",
            "  libdvdcss2 libenchant-2-voikko gnome-shell | notification-daemon\n",
            "  libvisual-0.4-plugins libwildmidi-config fluid-soundfont-gm\n",
            "Recommended packages:\n",
            "  fonts-ipafont-mincho fonts-tlwg-loma gstreamer1.0-x aspell-en\n",
            "  | aspell-dictionary | aspell6a-dictionary enchant-2 gstreamer1.0-gl\n",
            "  libmagickcore-6.q16-6-extra\n",
            "The following NEW packages will be installed:\n",
            "  dictionaries-common fonts-freefont-ttf fonts-ipafont-gothic\n",
            "  fonts-noto-color-emoji fonts-tlwg-loma-otf fonts-unifont fonts-wqy-zenhei\n",
            "  glib-networking glib-networking-common glib-networking-services\n",
            "  gsettings-desktop-schemas gstreamer1.0-libav gstreamer1.0-plugins-bad\n",
            "  gstreamer1.0-plugins-base gstreamer1.0-plugins-good hunspell-en-us libaa1\n",
            "  libabsl20210324 libaspell15 libavif13 libcdparanoia0 libdbus-glib-1-2\n",
            "  libdca0 libdv4 libdvdnav4 libdvdread8 libenchant-2-2 libevdev2 libfaad2\n",
            "  libffi7 libfluidsynth3 libfreeaptx0 libgav1-0 libgssdp-1.2-0\n",
            "  libgstreamer-gl1.0-0 libgstreamer-plugins-bad1.0-0\n",
            "  libgstreamer-plugins-good1.0-0 libgudev-1.0-0 libgupnp-1.2-1\n",
            "  libgupnp-igd-1.0-4 libharfbuzz-icu0 libhunspell-1.7-0 libhyphen0\n",
            "  libinstpatch-1.0-2 libjson-glib-1.0-0 libjson-glib-1.0-common libkate1\n",
            "  libldacbt-enc2 libltc11 libmanette-0.2-0 libmjpegutils-2.1-0 libmodplug1\n",
            "  libmpcdec6 libmpeg2encpp-2.1-0 libmplex2-2.1-0 libnice10 libnotify4\n",
            "  libopenh264-6 libopenni2-0 libproxy1v5 libqrencode4 libsbc1 libsecret-1-0\n",
            "  libsecret-common libshout3 libsoundtouch1 libsoup-3.0-0 libsoup-3.0-common\n",
            "  libsoup2.4-1 libsoup2.4-common libspandsp2 libsrtp2-1 libtag1v5\n",
            "  libtag1v5-vanilla libtext-iconv-perl libv4l-0 libv4lconvert0 libvisual-0.4-0\n",
            "  libvo-aacenc0 libvo-amrwbenc0 libwavpack1 libwebrtc-audio-processing1\n",
            "  libwildmidi2 libwoff1 libxtst6 libyuv0 libzbar0 libzxingcore1\n",
            "  session-migration timgm6mb-soundfont xfonts-cyrillic xfonts-encodings\n",
            "  xfonts-scalable xfonts-utils\n",
            "0 upgraded, 94 newly installed, 0 to remove and 42 not upgraded.\n",
            "Need to get 48.2 MB of archives.\n",
            "After this operation, 123 MB of additional disk space will be used.\n",
            "Get:1 http://archive.ubuntu.com/ubuntu jammy/universe amd64 fonts-ipafont-gothic all 00303-21ubuntu1 [3,513 kB]\n",
            "Get:2 http://archive.ubuntu.com/ubuntu jammy/main amd64 libtext-iconv-perl amd64 1.7-7build3 [14.3 kB]\n",
            "Get:3 http://archive.ubuntu.com/ubuntu jammy/main amd64 dictionaries-common all 1.28.14 [185 kB]\n",
            "Get:4 http://archive.ubuntu.com/ubuntu jammy/main amd64 fonts-freefont-ttf all 20120503-10build1 [2,388 kB]\n",
            "Get:5 http://archive.ubuntu.com/ubuntu jammy-updates/main amd64 fonts-noto-color-emoji all 2.047-0ubuntu0.22.04.1 [10.0 MB]\n",
            "Get:6 http://archive.ubuntu.com/ubuntu jammy/universe amd64 fonts-tlwg-loma-otf all 1:0.7.3-1 [107 kB]\n",
            "Get:7 http://archive.ubuntu.com/ubuntu jammy/universe amd64 fonts-unifont all 1:14.0.01-1 [3,551 kB]\n",
            "Get:8 http://archive.ubuntu.com/ubuntu jammy/universe amd64 fonts-wqy-zenhei all 0.9.45-8 [7,472 kB]\n",
            "Get:9 http://archive.ubuntu.com/ubuntu jammy/main amd64 libproxy1v5 amd64 0.4.17-2 [51.9 kB]\n",
            "Get:10 http://archive.ubuntu.com/ubuntu jammy/main amd64 glib-networking-common all 2.72.0-1 [3,718 B]\n",
            "Get:11 http://archive.ubuntu.com/ubuntu jammy/main amd64 glib-networking-services amd64 2.72.0-1 [9,982 B]\n",
            "Get:12 http://archive.ubuntu.com/ubuntu jammy/main amd64 session-migration amd64 0.3.6 [9,774 B]\n",
            "Get:13 http://archive.ubuntu.com/ubuntu jammy/main amd64 gsettings-desktop-schemas all 42.0-1ubuntu1 [31.1 kB]\n",
            "Get:14 http://archive.ubuntu.com/ubuntu jammy/main amd64 glib-networking amd64 2.72.0-1 [69.8 kB]\n",
            "Get:15 http://archive.ubuntu.com/ubuntu jammy-updates/universe amd64 gstreamer1.0-libav amd64 1.20.3-0ubuntu1 [103 kB]\n",
            "Get:16 http://archive.ubuntu.com/ubuntu jammy/main amd64 libcdparanoia0 amd64 3.10.2+debian-14build2 [49.3 kB]\n",
            "Get:17 http://archive.ubuntu.com/ubuntu jammy/main amd64 libvisual-0.4-0 amd64 0.4.0-17build2 [108 kB]\n",
            "Get:18 http://archive.ubuntu.com/ubuntu jammy-updates/main amd64 gstreamer1.0-plugins-base amd64 1.20.1-1ubuntu0.5 [712 kB]\n",
            "Get:19 http://archive.ubuntu.com/ubuntu jammy/main amd64 libaa1 amd64 1.4p5-50build1 [51.9 kB]\n",
            "Get:20 http://archive.ubuntu.com/ubuntu jammy/main amd64 libdv4 amd64 1.0.0-14build1 [61.9 kB]\n",
            "Get:21 http://archive.ubuntu.com/ubuntu jammy-updates/main amd64 libgstreamer-plugins-good1.0-0 amd64 1.20.3-0ubuntu1.4 [30.2 kB]\n",
            "Get:22 http://archive.ubuntu.com/ubuntu jammy/main amd64 libgudev-1.0-0 amd64 1:237-2build1 [16.3 kB]\n",
            "Get:23 http://archive.ubuntu.com/ubuntu jammy/main amd64 libshout3 amd64 2.4.5-1build3 [54.5 kB]\n",
            "Get:24 http://archive.ubuntu.com/ubuntu jammy/main amd64 libtag1v5-vanilla amd64 1.11.1+dfsg.1-3ubuntu3 [304 kB]\n",
            "Get:25 http://archive.ubuntu.com/ubuntu jammy/main amd64 libtag1v5 amd64 1.11.1+dfsg.1-3ubuntu3 [11.5 kB]\n",
            "Get:26 http://archive.ubuntu.com/ubuntu jammy/main amd64 libv4lconvert0 amd64 1.22.1-2build1 [82.4 kB]\n",
            "Get:27 http://archive.ubuntu.com/ubuntu jammy/main amd64 libv4l-0 amd64 1.22.1-2build1 [44.9 kB]\n",
            "Get:28 http://archive.ubuntu.com/ubuntu jammy/main amd64 libwavpack1 amd64 5.4.0-1build2 [83.7 kB]\n",
            "Get:29 http://archive.ubuntu.com/ubuntu jammy-updates/main amd64 libsoup2.4-common all 2.74.2-3ubuntu0.6 [4,778 B]\n",
            "Get:30 http://archive.ubuntu.com/ubuntu jammy-updates/main amd64 libsoup2.4-1 amd64 2.74.2-3ubuntu0.6 [288 kB]\n",
            "Get:31 http://archive.ubuntu.com/ubuntu jammy-updates/main amd64 gstreamer1.0-plugins-good amd64 1.20.3-0ubuntu1.4 [2,009 kB]\n",
            "Get:32 http://archive.ubuntu.com/ubuntu jammy/main amd64 hunspell-en-us all 1:2020.12.07-2 [280 kB]\n",
            "Get:33 http://archive.ubuntu.com/ubuntu jammy-updates/main amd64 libabsl20210324 amd64 0~20210324.2-2ubuntu0.2 [386 kB]\n",
            "Get:34 http://archive.ubuntu.com/ubuntu jammy/main amd64 libaspell15 amd64 0.60.8-4build1 [325 kB]\n",
            "Get:35 http://archive.ubuntu.com/ubuntu jammy/universe amd64 libgav1-0 amd64 0.17.0-1build1 [336 kB]\n",
            "Get:36 http://archive.ubuntu.com/ubuntu jammy/universe amd64 libyuv0 amd64 0.0~git20220104.b91df1a-2 [154 kB]\n",
            "Get:37 http://archive.ubuntu.com/ubuntu jammy/universe amd64 libavif13 amd64 0.9.3-3 [69.5 kB]\n",
            "Get:38 http://archive.ubuntu.com/ubuntu jammy/main amd64 libdbus-glib-1-2 amd64 0.112-2build1 [65.4 kB]\n",
            "Get:39 http://archive.ubuntu.com/ubuntu jammy/universe amd64 libdvdread8 amd64 6.1.2-1 [55.7 kB]\n",
            "Get:40 http://archive.ubuntu.com/ubuntu jammy/universe amd64 libdvdnav4 amd64 6.1.1-1 [39.3 kB]\n",
            "Get:41 http://archive.ubuntu.com/ubuntu jammy/main amd64 libhunspell-1.7-0 amd64 1.7.0-4build1 [175 kB]\n",
            "Get:42 http://archive.ubuntu.com/ubuntu jammy/main amd64 libenchant-2-2 amd64 2.3.2-1ubuntu2 [50.9 kB]\n",
            "Get:43 http://archive.ubuntu.com/ubuntu jammy/universe amd64 libfaad2 amd64 2.10.0-2 [197 kB]\n",
            "Get:44 http://archive.ubuntu.com/ubuntu jammy/universe amd64 libffi7 amd64 3.3-5ubuntu1 [19.9 kB]\n",
            "Get:45 http://archive.ubuntu.com/ubuntu jammy/universe amd64 libinstpatch-1.0-2 amd64 1.1.6-1 [240 kB]\n",
            "Get:46 http://archive.ubuntu.com/ubuntu jammy/universe amd64 timgm6mb-soundfont all 1.3-5 [5,427 kB]\n",
            "Get:47 http://archive.ubuntu.com/ubuntu jammy/universe amd64 libfluidsynth3 amd64 2.2.5-1 [246 kB]\n",
            "Get:48 http://archive.ubuntu.com/ubuntu jammy/universe amd64 libfreeaptx0 amd64 0.1.1-1 [12.9 kB]\n",
            "Get:49 http://archive.ubuntu.com/ubuntu jammy/main amd64 libgssdp-1.2-0 amd64 1.4.0.1-2build1 [48.9 kB]\n",
            "Get:50 http://archive.ubuntu.com/ubuntu jammy-updates/main amd64 libgstreamer-gl1.0-0 amd64 1.20.1-1ubuntu0.5 [204 kB]\n",
            "Get:51 http://archive.ubuntu.com/ubuntu jammy/main amd64 libgupnp-1.2-1 amd64 1.4.3-1 [93.3 kB]\n",
            "Get:52 http://archive.ubuntu.com/ubuntu jammy/universe amd64 libgupnp-igd-1.0-4 amd64 1.2.0-1build1 [16.8 kB]\n",
            "Get:53 http://archive.ubuntu.com/ubuntu jammy-updates/main amd64 libharfbuzz-icu0 amd64 2.7.4-1ubuntu3.2 [5,890 B]\n",
            "Get:54 http://archive.ubuntu.com/ubuntu jammy/main amd64 libhyphen0 amd64 2.8.8-7build2 [28.2 kB]\n",
            "Get:55 http://archive.ubuntu.com/ubuntu jammy/main amd64 libjson-glib-1.0-common all 1.6.6-1build1 [4,432 B]\n",
            "Get:56 http://archive.ubuntu.com/ubuntu jammy/main amd64 libjson-glib-1.0-0 amd64 1.6.6-1build1 [69.9 kB]\n",
            "Get:57 http://archive.ubuntu.com/ubuntu jammy/universe amd64 libkate1 amd64 0.4.1-11build1 [39.4 kB]\n",
            "Get:58 http://archive.ubuntu.com/ubuntu jammy/universe amd64 libldacbt-enc2 amd64 2.0.2.3+git20200429+ed310a0-4 [24.6 kB]\n",
            "Get:59 http://archive.ubuntu.com/ubuntu jammy/universe amd64 libltc11 amd64 1.3.1-1 [12.3 kB]\n",
            "Get:60 http://archive.ubuntu.com/ubuntu jammy/main amd64 libevdev2 amd64 1.12.1+dfsg-1 [39.5 kB]\n",
            "Get:61 http://archive.ubuntu.com/ubuntu jammy/main amd64 libmanette-0.2-0 amd64 0.2.6-3build1 [30.4 kB]\n",
            "Get:62 http://archive.ubuntu.com/ubuntu jammy/universe amd64 libmjpegutils-2.1-0 amd64 1:2.1.0+debian-6build1 [24.1 kB]\n",
            "Get:63 http://archive.ubuntu.com/ubuntu jammy/universe amd64 libmodplug1 amd64 1:0.8.9.0-3 [153 kB]\n",
            "Get:64 http://archive.ubuntu.com/ubuntu jammy/universe amd64 libmpcdec6 amd64 2:0.1~r495-2 [32.4 kB]\n",
            "Get:65 http://archive.ubuntu.com/ubuntu jammy/universe amd64 libmpeg2encpp-2.1-0 amd64 1:2.1.0+debian-6build1 [69.4 kB]\n",
            "Get:66 http://archive.ubuntu.com/ubuntu jammy/universe amd64 libmplex2-2.1-0 amd64 1:2.1.0+debian-6build1 [44.4 kB]\n",
            "Get:67 http://archive.ubuntu.com/ubuntu jammy/universe amd64 libnice10 amd64 0.1.18-2 [156 kB]\n",
            "Get:68 http://archive.ubuntu.com/ubuntu jammy-updates/main amd64 libnotify4 amd64 0.7.9-3ubuntu5.22.04.1 [20.3 kB]\n",
            "Get:69 http://archive.ubuntu.com/ubuntu jammy/universe amd64 libopenh264-6 amd64 2.2.0+dfsg-2 [407 kB]\n",
            "Get:70 http://archive.ubuntu.com/ubuntu jammy/universe amd64 libopenni2-0 amd64 2.2.0.33+dfsg-15 [389 kB]\n",
            "Get:71 http://archive.ubuntu.com/ubuntu jammy/universe amd64 libqrencode4 amd64 4.1.1-1 [24.0 kB]\n",
            "Get:72 http://archive.ubuntu.com/ubuntu jammy/main amd64 libsecret-common all 0.20.5-2 [4,278 B]\n",
            "Get:73 http://archive.ubuntu.com/ubuntu jammy/main amd64 libsecret-1-0 amd64 0.20.5-2 [124 kB]\n",
            "Get:74 http://archive.ubuntu.com/ubuntu jammy/universe amd64 libsoundtouch1 amd64 2.3.1+ds1-1 [38.3 kB]\n",
            "Get:75 http://archive.ubuntu.com/ubuntu jammy-updates/universe amd64 libsoup-3.0-common all 3.0.7-0ubuntu1 [62.1 kB]\n",
            "Get:76 http://archive.ubuntu.com/ubuntu jammy-updates/universe amd64 libsoup-3.0-0 amd64 3.0.7-0ubuntu1 [278 kB]\n",
            "Get:77 http://archive.ubuntu.com/ubuntu jammy/universe amd64 libspandsp2 amd64 0.0.6+dfsg-2 [272 kB]\n",
            "Get:78 http://archive.ubuntu.com/ubuntu jammy/universe amd64 libsrtp2-1 amd64 2.4.2-2 [40.7 kB]\n",
            "Get:79 http://archive.ubuntu.com/ubuntu jammy/main amd64 libwebrtc-audio-processing1 amd64 0.3.1-0ubuntu5 [291 kB]\n",
            "Get:80 http://archive.ubuntu.com/ubuntu jammy/universe amd64 libwildmidi2 amd64 0.4.3-1 [59.9 kB]\n",
            "Get:81 http://archive.ubuntu.com/ubuntu jammy/main amd64 libwoff1 amd64 1.0.2-1build4 [45.2 kB]\n",
            "Get:82 http://archive.ubuntu.com/ubuntu jammy/main amd64 libxtst6 amd64 2:1.2.3-1build4 [13.4 kB]\n",
            "Get:83 http://archive.ubuntu.com/ubuntu jammy/universe amd64 libzbar0 amd64 0.23.92-4build2 [121 kB]\n",
            "Get:84 http://archive.ubuntu.com/ubuntu jammy/universe amd64 libzxingcore1 amd64 1.2.0-1 [619 kB]\n",
            "Get:85 http://archive.ubuntu.com/ubuntu jammy/main amd64 xfonts-encodings all 1:1.0.5-0ubuntu2 [578 kB]\n",
            "Get:86 http://archive.ubuntu.com/ubuntu jammy/main amd64 xfonts-utils amd64 1:7.7+6build2 [94.6 kB]\n",
            "Get:87 http://archive.ubuntu.com/ubuntu jammy/universe amd64 xfonts-cyrillic all 1:1.0.5 [386 kB]\n",
            "Get:88 http://archive.ubuntu.com/ubuntu jammy/main amd64 xfonts-scalable all 1:1.0.3-1.2ubuntu1 [306 kB]\n",
            "Get:89 http://archive.ubuntu.com/ubuntu jammy/universe amd64 libdca0 amd64 0.0.7-2 [88.2 kB]\n",
            "Get:90 http://archive.ubuntu.com/ubuntu jammy-updates/universe amd64 libgstreamer-plugins-bad1.0-0 amd64 1.20.3-0ubuntu1.1 [489 kB]\n",
            "Get:91 http://archive.ubuntu.com/ubuntu jammy/main amd64 libsbc1 amd64 1.5-3build2 [34.4 kB]\n",
            "Get:92 http://archive.ubuntu.com/ubuntu jammy/universe amd64 libvo-aacenc0 amd64 0.1.3-2 [69.4 kB]\n",
            "Get:93 http://archive.ubuntu.com/ubuntu jammy/universe amd64 libvo-amrwbenc0 amd64 0.1.3-2 [68.2 kB]\n",
            "Get:94 http://archive.ubuntu.com/ubuntu jammy-updates/universe amd64 gstreamer1.0-plugins-bad amd64 1.20.3-0ubuntu1.1 [2,602 kB]\n",
            "Fetched 48.2 MB in 4s (13.3 MB/s)\n",
            "Extracting templates from packages: 100%\n",
            "Preconfiguring packages ...\n",
            "Selecting previously unselected package fonts-ipafont-gothic.\n",
            "(Reading database ... 126675 files and directories currently installed.)\n",
            "Preparing to unpack .../00-fonts-ipafont-gothic_00303-21ubuntu1_all.deb ...\n",
            "Unpacking fonts-ipafont-gothic (00303-21ubuntu1) ...\n",
            "Selecting previously unselected package libtext-iconv-perl.\n",
            "Preparing to unpack .../01-libtext-iconv-perl_1.7-7build3_amd64.deb ...\n",
            "Unpacking libtext-iconv-perl (1.7-7build3) ...\n",
            "Selecting previously unselected package dictionaries-common.\n",
            "Preparing to unpack .../02-dictionaries-common_1.28.14_all.deb ...\n",
            "Adding 'diversion of /usr/share/dict/words to /usr/share/dict/words.pre-dictionaries-common by dictionaries-common'\n",
            "Unpacking dictionaries-common (1.28.14) ...\n",
            "Selecting previously unselected package fonts-freefont-ttf.\n",
            "Preparing to unpack .../03-fonts-freefont-ttf_20120503-10build1_all.deb ...\n",
            "Unpacking fonts-freefont-ttf (20120503-10build1) ...\n",
            "Selecting previously unselected package fonts-noto-color-emoji.\n",
            "Preparing to unpack .../04-fonts-noto-color-emoji_2.047-0ubuntu0.22.04.1_all.deb ...\n",
            "Unpacking fonts-noto-color-emoji (2.047-0ubuntu0.22.04.1) ...\n",
            "Selecting previously unselected package fonts-tlwg-loma-otf.\n",
            "Preparing to unpack .../05-fonts-tlwg-loma-otf_1%3a0.7.3-1_all.deb ...\n",
            "Unpacking fonts-tlwg-loma-otf (1:0.7.3-1) ...\n",
            "Selecting previously unselected package fonts-unifont.\n",
            "Preparing to unpack .../06-fonts-unifont_1%3a14.0.01-1_all.deb ...\n",
            "Unpacking fonts-unifont (1:14.0.01-1) ...\n",
            "Selecting previously unselected package fonts-wqy-zenhei.\n",
            "Preparing to unpack .../07-fonts-wqy-zenhei_0.9.45-8_all.deb ...\n",
            "Unpacking fonts-wqy-zenhei (0.9.45-8) ...\n",
            "Selecting previously unselected package libproxy1v5:amd64.\n",
            "Preparing to unpack .../08-libproxy1v5_0.4.17-2_amd64.deb ...\n",
            "Unpacking libproxy1v5:amd64 (0.4.17-2) ...\n",
            "Selecting previously unselected package glib-networking-common.\n",
            "Preparing to unpack .../09-glib-networking-common_2.72.0-1_all.deb ...\n",
            "Unpacking glib-networking-common (2.72.0-1) ...\n",
            "Selecting previously unselected package glib-networking-services.\n",
            "Preparing to unpack .../10-glib-networking-services_2.72.0-1_amd64.deb ...\n",
            "Unpacking glib-networking-services (2.72.0-1) ...\n",
            "Selecting previously unselected package session-migration.\n",
            "Preparing to unpack .../11-session-migration_0.3.6_amd64.deb ...\n",
            "Unpacking session-migration (0.3.6) ...\n",
            "Selecting previously unselected package gsettings-desktop-schemas.\n",
            "Preparing to unpack .../12-gsettings-desktop-schemas_42.0-1ubuntu1_all.deb ...\n",
            "Unpacking gsettings-desktop-schemas (42.0-1ubuntu1) ...\n",
            "Selecting previously unselected package glib-networking:amd64.\n",
            "Preparing to unpack .../13-glib-networking_2.72.0-1_amd64.deb ...\n",
            "Unpacking glib-networking:amd64 (2.72.0-1) ...\n",
            "Selecting previously unselected package gstreamer1.0-libav:amd64.\n",
            "Preparing to unpack .../14-gstreamer1.0-libav_1.20.3-0ubuntu1_amd64.deb ...\n",
            "Unpacking gstreamer1.0-libav:amd64 (1.20.3-0ubuntu1) ...\n",
            "Selecting previously unselected package libcdparanoia0:amd64.\n",
            "Preparing to unpack .../15-libcdparanoia0_3.10.2+debian-14build2_amd64.deb ...\n",
            "Unpacking libcdparanoia0:amd64 (3.10.2+debian-14build2) ...\n",
            "Selecting previously unselected package libvisual-0.4-0:amd64.\n",
            "Preparing to unpack .../16-libvisual-0.4-0_0.4.0-17build2_amd64.deb ...\n",
            "Unpacking libvisual-0.4-0:amd64 (0.4.0-17build2) ...\n",
            "Selecting previously unselected package gstreamer1.0-plugins-base:amd64.\n",
            "Preparing to unpack .../17-gstreamer1.0-plugins-base_1.20.1-1ubuntu0.5_amd64.deb ...\n",
            "Unpacking gstreamer1.0-plugins-base:amd64 (1.20.1-1ubuntu0.5) ...\n",
            "Selecting previously unselected package libaa1:amd64.\n",
            "Preparing to unpack .../18-libaa1_1.4p5-50build1_amd64.deb ...\n",
            "Unpacking libaa1:amd64 (1.4p5-50build1) ...\n",
            "Selecting previously unselected package libdv4:amd64.\n",
            "Preparing to unpack .../19-libdv4_1.0.0-14build1_amd64.deb ...\n",
            "Unpacking libdv4:amd64 (1.0.0-14build1) ...\n",
            "Selecting previously unselected package libgstreamer-plugins-good1.0-0:amd64.\n",
            "Preparing to unpack .../20-libgstreamer-plugins-good1.0-0_1.20.3-0ubuntu1.4_amd64.deb ...\n",
            "Unpacking libgstreamer-plugins-good1.0-0:amd64 (1.20.3-0ubuntu1.4) ...\n",
            "Selecting previously unselected package libgudev-1.0-0:amd64.\n",
            "Preparing to unpack .../21-libgudev-1.0-0_1%3a237-2build1_amd64.deb ...\n",
            "Unpacking libgudev-1.0-0:amd64 (1:237-2build1) ...\n",
            "Selecting previously unselected package libshout3:amd64.\n",
            "Preparing to unpack .../22-libshout3_2.4.5-1build3_amd64.deb ...\n",
            "Unpacking libshout3:amd64 (2.4.5-1build3) ...\n",
            "Selecting previously unselected package libtag1v5-vanilla:amd64.\n",
            "Preparing to unpack .../23-libtag1v5-vanilla_1.11.1+dfsg.1-3ubuntu3_amd64.deb ...\n",
            "Unpacking libtag1v5-vanilla:amd64 (1.11.1+dfsg.1-3ubuntu3) ...\n",
            "Selecting previously unselected package libtag1v5:amd64.\n",
            "Preparing to unpack .../24-libtag1v5_1.11.1+dfsg.1-3ubuntu3_amd64.deb ...\n",
            "Unpacking libtag1v5:amd64 (1.11.1+dfsg.1-3ubuntu3) ...\n",
            "Selecting previously unselected package libv4lconvert0:amd64.\n",
            "Preparing to unpack .../25-libv4lconvert0_1.22.1-2build1_amd64.deb ...\n",
            "Unpacking libv4lconvert0:amd64 (1.22.1-2build1) ...\n",
            "Selecting previously unselected package libv4l-0:amd64.\n",
            "Preparing to unpack .../26-libv4l-0_1.22.1-2build1_amd64.deb ...\n",
            "Unpacking libv4l-0:amd64 (1.22.1-2build1) ...\n",
            "Selecting previously unselected package libwavpack1:amd64.\n",
            "Preparing to unpack .../27-libwavpack1_5.4.0-1build2_amd64.deb ...\n",
            "Unpacking libwavpack1:amd64 (5.4.0-1build2) ...\n",
            "Selecting previously unselected package libsoup2.4-common.\n",
            "Preparing to unpack .../28-libsoup2.4-common_2.74.2-3ubuntu0.6_all.deb ...\n",
            "Unpacking libsoup2.4-common (2.74.2-3ubuntu0.6) ...\n",
            "Selecting previously unselected package libsoup2.4-1:amd64.\n",
            "Preparing to unpack .../29-libsoup2.4-1_2.74.2-3ubuntu0.6_amd64.deb ...\n",
            "Unpacking libsoup2.4-1:amd64 (2.74.2-3ubuntu0.6) ...\n",
            "Selecting previously unselected package gstreamer1.0-plugins-good:amd64.\n",
            "Preparing to unpack .../30-gstreamer1.0-plugins-good_1.20.3-0ubuntu1.4_amd64.deb ...\n",
            "Unpacking gstreamer1.0-plugins-good:amd64 (1.20.3-0ubuntu1.4) ...\n",
            "Selecting previously unselected package hunspell-en-us.\n",
            "Preparing to unpack .../31-hunspell-en-us_1%3a2020.12.07-2_all.deb ...\n",
            "Unpacking hunspell-en-us (1:2020.12.07-2) ...\n",
            "Selecting previously unselected package libabsl20210324:amd64.\n",
            "Preparing to unpack .../32-libabsl20210324_0~20210324.2-2ubuntu0.2_amd64.deb ...\n",
            "Unpacking libabsl20210324:amd64 (0~20210324.2-2ubuntu0.2) ...\n",
            "Selecting previously unselected package libaspell15:amd64.\n",
            "Preparing to unpack .../33-libaspell15_0.60.8-4build1_amd64.deb ...\n",
            "Unpacking libaspell15:amd64 (0.60.8-4build1) ...\n",
            "Selecting previously unselected package libgav1-0:amd64.\n",
            "Preparing to unpack .../34-libgav1-0_0.17.0-1build1_amd64.deb ...\n",
            "Unpacking libgav1-0:amd64 (0.17.0-1build1) ...\n",
            "Selecting previously unselected package libyuv0:amd64.\n",
            "Preparing to unpack .../35-libyuv0_0.0~git20220104.b91df1a-2_amd64.deb ...\n",
            "Unpacking libyuv0:amd64 (0.0~git20220104.b91df1a-2) ...\n",
            "Selecting previously unselected package libavif13:amd64.\n",
            "Preparing to unpack .../36-libavif13_0.9.3-3_amd64.deb ...\n",
            "Unpacking libavif13:amd64 (0.9.3-3) ...\n",
            "Selecting previously unselected package libdbus-glib-1-2:amd64.\n",
            "Preparing to unpack .../37-libdbus-glib-1-2_0.112-2build1_amd64.deb ...\n",
            "Unpacking libdbus-glib-1-2:amd64 (0.112-2build1) ...\n",
            "Selecting previously unselected package libdvdread8:amd64.\n",
            "Preparing to unpack .../38-libdvdread8_6.1.2-1_amd64.deb ...\n",
            "Unpacking libdvdread8:amd64 (6.1.2-1) ...\n",
            "Selecting previously unselected package libdvdnav4:amd64.\n",
            "Preparing to unpack .../39-libdvdnav4_6.1.1-1_amd64.deb ...\n",
            "Unpacking libdvdnav4:amd64 (6.1.1-1) ...\n",
            "Selecting previously unselected package libhunspell-1.7-0:amd64.\n",
            "Preparing to unpack .../40-libhunspell-1.7-0_1.7.0-4build1_amd64.deb ...\n",
            "Unpacking libhunspell-1.7-0:amd64 (1.7.0-4build1) ...\n",
            "Selecting previously unselected package libenchant-2-2:amd64.\n",
            "Preparing to unpack .../41-libenchant-2-2_2.3.2-1ubuntu2_amd64.deb ...\n",
            "Unpacking libenchant-2-2:amd64 (2.3.2-1ubuntu2) ...\n",
            "Selecting previously unselected package libfaad2:amd64.\n",
            "Preparing to unpack .../42-libfaad2_2.10.0-2_amd64.deb ...\n",
            "Unpacking libfaad2:amd64 (2.10.0-2) ...\n",
            "Selecting previously unselected package libffi7:amd64.\n",
            "Preparing to unpack .../43-libffi7_3.3-5ubuntu1_amd64.deb ...\n",
            "Unpacking libffi7:amd64 (3.3-5ubuntu1) ...\n",
            "Selecting previously unselected package libinstpatch-1.0-2:amd64.\n",
            "Preparing to unpack .../44-libinstpatch-1.0-2_1.1.6-1_amd64.deb ...\n",
            "Unpacking libinstpatch-1.0-2:amd64 (1.1.6-1) ...\n",
            "Selecting previously unselected package timgm6mb-soundfont.\n",
            "Preparing to unpack .../45-timgm6mb-soundfont_1.3-5_all.deb ...\n",
            "Unpacking timgm6mb-soundfont (1.3-5) ...\n",
            "Selecting previously unselected package libfluidsynth3:amd64.\n",
            "Preparing to unpack .../46-libfluidsynth3_2.2.5-1_amd64.deb ...\n",
            "Unpacking libfluidsynth3:amd64 (2.2.5-1) ...\n",
            "Selecting previously unselected package libfreeaptx0:amd64.\n",
            "Preparing to unpack .../47-libfreeaptx0_0.1.1-1_amd64.deb ...\n",
            "Unpacking libfreeaptx0:amd64 (0.1.1-1) ...\n",
            "Selecting previously unselected package libgssdp-1.2-0:amd64.\n",
            "Preparing to unpack .../48-libgssdp-1.2-0_1.4.0.1-2build1_amd64.deb ...\n",
            "Unpacking libgssdp-1.2-0:amd64 (1.4.0.1-2build1) ...\n",
            "Selecting previously unselected package libgstreamer-gl1.0-0:amd64.\n",
            "Preparing to unpack .../49-libgstreamer-gl1.0-0_1.20.1-1ubuntu0.5_amd64.deb ...\n",
            "Unpacking libgstreamer-gl1.0-0:amd64 (1.20.1-1ubuntu0.5) ...\n",
            "Selecting previously unselected package libgupnp-1.2-1:amd64.\n",
            "Preparing to unpack .../50-libgupnp-1.2-1_1.4.3-1_amd64.deb ...\n",
            "Unpacking libgupnp-1.2-1:amd64 (1.4.3-1) ...\n",
            "Selecting previously unselected package libgupnp-igd-1.0-4:amd64.\n",
            "Preparing to unpack .../51-libgupnp-igd-1.0-4_1.2.0-1build1_amd64.deb ...\n",
            "Unpacking libgupnp-igd-1.0-4:amd64 (1.2.0-1build1) ...\n",
            "Selecting previously unselected package libharfbuzz-icu0:amd64.\n",
            "Preparing to unpack .../52-libharfbuzz-icu0_2.7.4-1ubuntu3.2_amd64.deb ...\n",
            "Unpacking libharfbuzz-icu0:amd64 (2.7.4-1ubuntu3.2) ...\n",
            "Selecting previously unselected package libhyphen0:amd64.\n",
            "Preparing to unpack .../53-libhyphen0_2.8.8-7build2_amd64.deb ...\n",
            "Unpacking libhyphen0:amd64 (2.8.8-7build2) ...\n",
            "Selecting previously unselected package libjson-glib-1.0-common.\n",
            "Preparing to unpack .../54-libjson-glib-1.0-common_1.6.6-1build1_all.deb ...\n",
            "Unpacking libjson-glib-1.0-common (1.6.6-1build1) ...\n",
            "Selecting previously unselected package libjson-glib-1.0-0:amd64.\n",
            "Preparing to unpack .../55-libjson-glib-1.0-0_1.6.6-1build1_amd64.deb ...\n",
            "Unpacking libjson-glib-1.0-0:amd64 (1.6.6-1build1) ...\n",
            "Selecting previously unselected package libkate1:amd64.\n",
            "Preparing to unpack .../56-libkate1_0.4.1-11build1_amd64.deb ...\n",
            "Unpacking libkate1:amd64 (0.4.1-11build1) ...\n",
            "Selecting previously unselected package libldacbt-enc2:amd64.\n",
            "Preparing to unpack .../57-libldacbt-enc2_2.0.2.3+git20200429+ed310a0-4_amd64.deb ...\n",
            "Unpacking libldacbt-enc2:amd64 (2.0.2.3+git20200429+ed310a0-4) ...\n",
            "Selecting previously unselected package libltc11:amd64.\n",
            "Preparing to unpack .../58-libltc11_1.3.1-1_amd64.deb ...\n",
            "Unpacking libltc11:amd64 (1.3.1-1) ...\n",
            "Selecting previously unselected package libevdev2:amd64.\n",
            "Preparing to unpack .../59-libevdev2_1.12.1+dfsg-1_amd64.deb ...\n",
            "Unpacking libevdev2:amd64 (1.12.1+dfsg-1) ...\n",
            "Selecting previously unselected package libmanette-0.2-0:amd64.\n",
            "Preparing to unpack .../60-libmanette-0.2-0_0.2.6-3build1_amd64.deb ...\n",
            "Unpacking libmanette-0.2-0:amd64 (0.2.6-3build1) ...\n",
            "Selecting previously unselected package libmjpegutils-2.1-0:amd64.\n",
            "Preparing to unpack .../61-libmjpegutils-2.1-0_1%3a2.1.0+debian-6build1_amd64.deb ...\n",
            "Unpacking libmjpegutils-2.1-0:amd64 (1:2.1.0+debian-6build1) ...\n",
            "Selecting previously unselected package libmodplug1:amd64.\n",
            "Preparing to unpack .../62-libmodplug1_1%3a0.8.9.0-3_amd64.deb ...\n",
            "Unpacking libmodplug1:amd64 (1:0.8.9.0-3) ...\n",
            "Selecting previously unselected package libmpcdec6:amd64.\n",
            "Preparing to unpack .../63-libmpcdec6_2%3a0.1~r495-2_amd64.deb ...\n",
            "Unpacking libmpcdec6:amd64 (2:0.1~r495-2) ...\n",
            "Selecting previously unselected package libmpeg2encpp-2.1-0:amd64.\n",
            "Preparing to unpack .../64-libmpeg2encpp-2.1-0_1%3a2.1.0+debian-6build1_amd64.deb ...\n",
            "Unpacking libmpeg2encpp-2.1-0:amd64 (1:2.1.0+debian-6build1) ...\n",
            "Selecting previously unselected package libmplex2-2.1-0:amd64.\n",
            "Preparing to unpack .../65-libmplex2-2.1-0_1%3a2.1.0+debian-6build1_amd64.deb ...\n",
            "Unpacking libmplex2-2.1-0:amd64 (1:2.1.0+debian-6build1) ...\n",
            "Selecting previously unselected package libnice10:amd64.\n",
            "Preparing to unpack .../66-libnice10_0.1.18-2_amd64.deb ...\n",
            "Unpacking libnice10:amd64 (0.1.18-2) ...\n",
            "Selecting previously unselected package libnotify4:amd64.\n",
            "Preparing to unpack .../67-libnotify4_0.7.9-3ubuntu5.22.04.1_amd64.deb ...\n",
            "Unpacking libnotify4:amd64 (0.7.9-3ubuntu5.22.04.1) ...\n",
            "Selecting previously unselected package libopenh264-6:amd64.\n",
            "Preparing to unpack .../68-libopenh264-6_2.2.0+dfsg-2_amd64.deb ...\n",
            "Unpacking libopenh264-6:amd64 (2.2.0+dfsg-2) ...\n",
            "Selecting previously unselected package libopenni2-0:amd64.\n",
            "Preparing to unpack .../69-libopenni2-0_2.2.0.33+dfsg-15_amd64.deb ...\n",
            "Unpacking libopenni2-0:amd64 (2.2.0.33+dfsg-15) ...\n",
            "Selecting previously unselected package libqrencode4:amd64.\n",
            "Preparing to unpack .../70-libqrencode4_4.1.1-1_amd64.deb ...\n",
            "Unpacking libqrencode4:amd64 (4.1.1-1) ...\n",
            "Selecting previously unselected package libsecret-common.\n",
            "Preparing to unpack .../71-libsecret-common_0.20.5-2_all.deb ...\n",
            "Unpacking libsecret-common (0.20.5-2) ...\n",
            "Selecting previously unselected package libsecret-1-0:amd64.\n",
            "Preparing to unpack .../72-libsecret-1-0_0.20.5-2_amd64.deb ...\n",
            "Unpacking libsecret-1-0:amd64 (0.20.5-2) ...\n",
            "Selecting previously unselected package libsoundtouch1:amd64.\n",
            "Preparing to unpack .../73-libsoundtouch1_2.3.1+ds1-1_amd64.deb ...\n",
            "Unpacking libsoundtouch1:amd64 (2.3.1+ds1-1) ...\n",
            "Selecting previously unselected package libsoup-3.0-common.\n",
            "Preparing to unpack .../74-libsoup-3.0-common_3.0.7-0ubuntu1_all.deb ...\n",
            "Unpacking libsoup-3.0-common (3.0.7-0ubuntu1) ...\n",
            "Selecting previously unselected package libsoup-3.0-0:amd64.\n",
            "Preparing to unpack .../75-libsoup-3.0-0_3.0.7-0ubuntu1_amd64.deb ...\n",
            "Unpacking libsoup-3.0-0:amd64 (3.0.7-0ubuntu1) ...\n",
            "Selecting previously unselected package libspandsp2:amd64.\n",
            "Preparing to unpack .../76-libspandsp2_0.0.6+dfsg-2_amd64.deb ...\n",
            "Unpacking libspandsp2:amd64 (0.0.6+dfsg-2) ...\n",
            "Selecting previously unselected package libsrtp2-1:amd64.\n",
            "Preparing to unpack .../77-libsrtp2-1_2.4.2-2_amd64.deb ...\n",
            "Unpacking libsrtp2-1:amd64 (2.4.2-2) ...\n",
            "Selecting previously unselected package libwebrtc-audio-processing1:amd64.\n",
            "Preparing to unpack .../78-libwebrtc-audio-processing1_0.3.1-0ubuntu5_amd64.deb ...\n",
            "Unpacking libwebrtc-audio-processing1:amd64 (0.3.1-0ubuntu5) ...\n",
            "Selecting previously unselected package libwildmidi2:amd64.\n",
            "Preparing to unpack .../79-libwildmidi2_0.4.3-1_amd64.deb ...\n",
            "Unpacking libwildmidi2:amd64 (0.4.3-1) ...\n",
            "Selecting previously unselected package libwoff1:amd64.\n",
            "Preparing to unpack .../80-libwoff1_1.0.2-1build4_amd64.deb ...\n",
            "Unpacking libwoff1:amd64 (1.0.2-1build4) ...\n",
            "Selecting previously unselected package libxtst6:amd64.\n",
            "Preparing to unpack .../81-libxtst6_2%3a1.2.3-1build4_amd64.deb ...\n",
            "Unpacking libxtst6:amd64 (2:1.2.3-1build4) ...\n",
            "Selecting previously unselected package libzbar0:amd64.\n",
            "Preparing to unpack .../82-libzbar0_0.23.92-4build2_amd64.deb ...\n",
            "Unpacking libzbar0:amd64 (0.23.92-4build2) ...\n",
            "Selecting previously unselected package libzxingcore1:amd64.\n",
            "Preparing to unpack .../83-libzxingcore1_1.2.0-1_amd64.deb ...\n",
            "Unpacking libzxingcore1:amd64 (1.2.0-1) ...\n",
            "Selecting previously unselected package xfonts-encodings.\n",
            "Preparing to unpack .../84-xfonts-encodings_1%3a1.0.5-0ubuntu2_all.deb ...\n",
            "Unpacking xfonts-encodings (1:1.0.5-0ubuntu2) ...\n",
            "Selecting previously unselected package xfonts-utils.\n",
            "Preparing to unpack .../85-xfonts-utils_1%3a7.7+6build2_amd64.deb ...\n",
            "Unpacking xfonts-utils (1:7.7+6build2) ...\n",
            "Selecting previously unselected package xfonts-cyrillic.\n",
            "Preparing to unpack .../86-xfonts-cyrillic_1%3a1.0.5_all.deb ...\n",
            "Unpacking xfonts-cyrillic (1:1.0.5) ...\n",
            "Selecting previously unselected package xfonts-scalable.\n",
            "Preparing to unpack .../87-xfonts-scalable_1%3a1.0.3-1.2ubuntu1_all.deb ...\n",
            "Unpacking xfonts-scalable (1:1.0.3-1.2ubuntu1) ...\n",
            "Selecting previously unselected package libdca0:amd64.\n",
            "Preparing to unpack .../88-libdca0_0.0.7-2_amd64.deb ...\n",
            "Unpacking libdca0:amd64 (0.0.7-2) ...\n",
            "Selecting previously unselected package libgstreamer-plugins-bad1.0-0:amd64.\n",
            "Preparing to unpack .../89-libgstreamer-plugins-bad1.0-0_1.20.3-0ubuntu1.1_amd64.deb ...\n",
            "Unpacking libgstreamer-plugins-bad1.0-0:amd64 (1.20.3-0ubuntu1.1) ...\n",
            "Selecting previously unselected package libsbc1:amd64.\n",
            "Preparing to unpack .../90-libsbc1_1.5-3build2_amd64.deb ...\n",
            "Unpacking libsbc1:amd64 (1.5-3build2) ...\n",
            "Selecting previously unselected package libvo-aacenc0:amd64.\n",
            "Preparing to unpack .../91-libvo-aacenc0_0.1.3-2_amd64.deb ...\n",
            "Unpacking libvo-aacenc0:amd64 (0.1.3-2) ...\n",
            "Selecting previously unselected package libvo-amrwbenc0:amd64.\n",
            "Preparing to unpack .../92-libvo-amrwbenc0_0.1.3-2_amd64.deb ...\n",
            "Unpacking libvo-amrwbenc0:amd64 (0.1.3-2) ...\n",
            "Selecting previously unselected package gstreamer1.0-plugins-bad:amd64.\n",
            "Preparing to unpack .../93-gstreamer1.0-plugins-bad_1.20.3-0ubuntu1.1_amd64.deb ...\n",
            "Unpacking gstreamer1.0-plugins-bad:amd64 (1.20.3-0ubuntu1.1) ...\n",
            "Setting up libtext-iconv-perl (1.7-7build3) ...\n",
            "Setting up libfreeaptx0:amd64 (0.1.1-1) ...\n",
            "Setting up libmodplug1:amd64 (1:0.8.9.0-3) ...\n",
            "Setting up libcdparanoia0:amd64 (3.10.2+debian-14build2) ...\n",
            "Setting up libvo-amrwbenc0:amd64 (0.1.3-2) ...\n",
            "Setting up session-migration (0.3.6) ...\n",
            "Created symlink /etc/systemd/user/graphical-session-pre.target.wants/session-migration.service → /usr/lib/systemd/user/session-migration.service.\n",
            "Setting up libsbc1:amd64 (1.5-3build2) ...\n",
            "Setting up libproxy1v5:amd64 (0.4.17-2) ...\n",
            "Setting up libtag1v5-vanilla:amd64 (1.11.1+dfsg.1-3ubuntu3) ...\n",
            "Setting up libkate1:amd64 (0.4.1-11build1) ...\n",
            "Setting up libharfbuzz-icu0:amd64 (2.7.4-1ubuntu3.2) ...\n",
            "Setting up libopenni2-0:amd64 (2.2.0.33+dfsg-15) ...\n",
            "Setting up libwoff1:amd64 (1.0.2-1build4) ...\n",
            "Setting up libqrencode4:amd64 (4.1.1-1) ...\n",
            "Setting up libhyphen0:amd64 (2.8.8-7build2) ...\n",
            "Setting up dictionaries-common (1.28.14) ...\n",
            "Setting up fonts-noto-color-emoji (2.047-0ubuntu0.22.04.1) ...\n",
            "Setting up libvisual-0.4-0:amd64 (0.4.0-17build2) ...\n",
            "Setting up libaspell15:amd64 (0.60.8-4build1) ...\n",
            "Setting up libxtst6:amd64 (2:1.2.3-1build4) ...\n",
            "Setting up libsrtp2-1:amd64 (2.4.2-2) ...\n",
            "Setting up libffi7:amd64 (3.3-5ubuntu1) ...\n",
            "Setting up libldacbt-enc2:amd64 (2.0.2.3+git20200429+ed310a0-4) ...\n",
            "Setting up fonts-wqy-zenhei (0.9.45-8) ...\n",
            "Setting up libwebrtc-audio-processing1:amd64 (0.3.1-0ubuntu5) ...\n",
            "Setting up fonts-freefont-ttf (20120503-10build1) ...\n",
            "Setting up libsoup-3.0-common (3.0.7-0ubuntu1) ...\n",
            "Setting up libmpcdec6:amd64 (2:0.1~r495-2) ...\n",
            "Setting up libspandsp2:amd64 (0.0.6+dfsg-2) ...\n",
            "Setting up libvo-aacenc0:amd64 (0.1.3-2) ...\n",
            "Setting up libgstreamer-plugins-bad1.0-0:amd64 (1.20.3-0ubuntu1.1) ...\n",
            "Setting up libgstreamer-plugins-good1.0-0:amd64 (1.20.3-0ubuntu1.4) ...\n",
            "Setting up libsoundtouch1:amd64 (2.3.1+ds1-1) ...\n",
            "Setting up gstreamer1.0-plugins-base:amd64 (1.20.1-1ubuntu0.5) ...\n",
            "Setting up fonts-tlwg-loma-otf (1:0.7.3-1) ...\n",
            "Setting up libdvdread8:amd64 (6.1.2-1) ...\n",
            "Setting up libdbus-glib-1-2:amd64 (0.112-2build1) ...\n",
            "Setting up libnotify4:amd64 (0.7.9-3ubuntu5.22.04.1) ...\n",
            "Setting up xfonts-encodings (1:1.0.5-0ubuntu2) ...\n",
            "Setting up libfaad2:amd64 (2.10.0-2) ...\n",
            "Setting up libshout3:amd64 (2.4.5-1build3) ...\n",
            "Setting up libabsl20210324:amd64 (0~20210324.2-2ubuntu0.2) ...\n",
            "Setting up libltc11:amd64 (1.3.1-1) ...\n",
            "Setting up libsoup2.4-common (2.74.2-3ubuntu0.6) ...\n",
            "Setting up libtag1v5:amd64 (1.11.1+dfsg.1-3ubuntu3) ...\n",
            "Setting up libdv4:amd64 (1.0.0-14build1) ...\n",
            "Setting up fonts-ipafont-gothic (00303-21ubuntu1) ...\n",
            "update-alternatives: using /usr/share/fonts/opentype/ipafont-gothic/ipag.ttf to provide /usr/share/fonts/truetype/fonts-japanese-gothic.ttf (fonts-japanese-gothic.ttf) in auto mode\n",
            "Setting up libwildmidi2:amd64 (0.4.3-1) ...\n",
            "Setting up libopenh264-6:amd64 (2.2.0+dfsg-2) ...\n",
            "Setting up libwavpack1:amd64 (5.4.0-1build2) ...\n",
            "Setting up libzxingcore1:amd64 (1.2.0-1) ...\n",
            "Setting up libv4lconvert0:amd64 (1.22.1-2build1) ...\n",
            "Setting up hunspell-en-us (1:2020.12.07-2) ...\n",
            "Setting up libdca0:amd64 (0.0.7-2) ...\n",
            "Setting up libjson-glib-1.0-common (1.6.6-1build1) ...\n",
            "Setting up libhunspell-1.7-0:amd64 (1.7.0-4build1) ...\n",
            "Setting up glib-networking-common (2.72.0-1) ...\n",
            "Setting up timgm6mb-soundfont (1.3-5) ...\n",
            "update-alternatives: using /usr/share/sounds/sf2/TimGM6mb.sf2 to provide /usr/share/sounds/sf2/default-GM.sf2 (default-GM.sf2) in auto mode\n",
            "update-alternatives: using /usr/share/sounds/sf2/TimGM6mb.sf2 to provide /usr/share/sounds/sf3/default-GM.sf3 (default-GM.sf3) in auto mode\n",
            "Setting up libyuv0:amd64 (0.0~git20220104.b91df1a-2) ...\n",
            "Setting up libevdev2:amd64 (1.12.1+dfsg-1) ...\n",
            "Setting up gstreamer1.0-libav:amd64 (1.20.3-0ubuntu1) ...\n",
            "Setting up libinstpatch-1.0-2:amd64 (1.1.6-1) ...\n",
            "Setting up libmjpegutils-2.1-0:amd64 (1:2.1.0+debian-6build1) ...\n",
            "Setting up libgudev-1.0-0:amd64 (1:237-2build1) ...\n",
            "Setting up libsecret-common (0.20.5-2) ...\n",
            "Setting up libfluidsynth3:amd64 (2.2.5-1) ...\n",
            "Setting up libdvdnav4:amd64 (6.1.1-1) ...\n",
            "Setting up fonts-unifont (1:14.0.01-1) ...\n",
            "Setting up libaa1:amd64 (1.4p5-50build1) ...\n",
            "Setting up gsettings-desktop-schemas (42.0-1ubuntu1) ...\n",
            "Setting up glib-networking-services (2.72.0-1) ...\n",
            "Setting up libenchant-2-2:amd64 (2.3.2-1ubuntu2) ...\n",
            "Setting up libmanette-0.2-0:amd64 (0.2.6-3build1) ...\n",
            "Setting up xfonts-utils (1:7.7+6build2) ...\n",
            "Setting up libjson-glib-1.0-0:amd64 (1.6.6-1build1) ...\n",
            "Setting up libv4l-0:amd64 (1.22.1-2build1) ...\n",
            "Setting up libsecret-1-0:amd64 (0.20.5-2) ...\n",
            "Setting up libgstreamer-gl1.0-0:amd64 (1.20.1-1ubuntu0.5) ...\n",
            "Setting up libgav1-0:amd64 (0.17.0-1build1) ...\n",
            "Setting up libmpeg2encpp-2.1-0:amd64 (1:2.1.0+debian-6build1) ...\n",
            "Setting up libavif13:amd64 (0.9.3-3) ...\n",
            "Setting up xfonts-cyrillic (1:1.0.5) ...\n",
            "Setting up libmplex2-2.1-0:amd64 (1:2.1.0+debian-6build1) ...\n",
            "Setting up xfonts-scalable (1:1.0.3-1.2ubuntu1) ...\n",
            "Setting up libzbar0:amd64 (0.23.92-4build2) ...\n",
            "Processing triggers for man-db (2.10.2-1) ...\n",
            "Processing triggers for fontconfig (2.13.1-4.2ubuntu5) ...\n",
            "Processing triggers for libglib2.0-0:amd64 (2.72.4-0ubuntu2.6) ...\n",
            "Processing triggers for libc-bin (2.35-0ubuntu3.8) ...\n",
            "/sbin/ldconfig.real: /usr/local/lib/libumf.so.0 is not a symbolic link\n",
            "\n",
            "/sbin/ldconfig.real: /usr/local/lib/libur_adapter_opencl.so.0 is not a symbolic link\n",
            "\n",
            "/sbin/ldconfig.real: /usr/local/lib/libtbbbind.so.3 is not a symbolic link\n",
            "\n",
            "/sbin/ldconfig.real: /usr/local/lib/libhwloc.so.15 is not a symbolic link\n",
            "\n",
            "/sbin/ldconfig.real: /usr/local/lib/libur_loader.so.0 is not a symbolic link\n",
            "\n",
            "/sbin/ldconfig.real: /usr/local/lib/libur_adapter_level_zero_v2.so.0 is not a symbolic link\n",
            "\n",
            "/sbin/ldconfig.real: /usr/local/lib/libtbbmalloc_proxy.so.2 is not a symbolic link\n",
            "\n",
            "/sbin/ldconfig.real: /usr/local/lib/libtbbbind_2_5.so.3 is not a symbolic link\n",
            "\n",
            "/sbin/ldconfig.real: /usr/local/lib/libur_adapter_level_zero.so.0 is not a symbolic link\n",
            "\n",
            "/sbin/ldconfig.real: /usr/local/lib/libtcm_debug.so.1 is not a symbolic link\n",
            "\n",
            "/sbin/ldconfig.real: /usr/local/lib/libtbbmalloc.so.2 is not a symbolic link\n",
            "\n",
            "/sbin/ldconfig.real: /usr/local/lib/libtcm.so.1 is not a symbolic link\n",
            "\n",
            "/sbin/ldconfig.real: /usr/local/lib/libtbb.so.12 is not a symbolic link\n",
            "\n",
            "/sbin/ldconfig.real: /usr/local/lib/libtbbbind_2_0.so.3 is not a symbolic link\n",
            "\n",
            "Setting up glib-networking:amd64 (2.72.0-1) ...\n",
            "Setting up libsoup2.4-1:amd64 (2.74.2-3ubuntu0.6) ...\n",
            "Setting up gstreamer1.0-plugins-good:amd64 (1.20.3-0ubuntu1.4) ...\n",
            "Setting up libsoup-3.0-0:amd64 (3.0.7-0ubuntu1) ...\n",
            "Setting up libgssdp-1.2-0:amd64 (1.4.0.1-2build1) ...\n",
            "Setting up libgupnp-1.2-1:amd64 (1.4.3-1) ...\n",
            "Setting up libgupnp-igd-1.0-4:amd64 (1.2.0-1build1) ...\n",
            "Setting up libnice10:amd64 (0.1.18-2) ...\n",
            "Setting up gstreamer1.0-plugins-bad:amd64 (1.20.3-0ubuntu1.1) ...\n",
            "Processing triggers for dictionaries-common (1.28.14) ...\n",
            "Processing triggers for libc-bin (2.35-0ubuntu3.8) ...\n",
            "/sbin/ldconfig.real: /usr/local/lib/libumf.so.0 is not a symbolic link\n",
            "\n",
            "/sbin/ldconfig.real: /usr/local/lib/libur_adapter_opencl.so.0 is not a symbolic link\n",
            "\n",
            "/sbin/ldconfig.real: /usr/local/lib/libtbbbind.so.3 is not a symbolic link\n",
            "\n",
            "/sbin/ldconfig.real: /usr/local/lib/libhwloc.so.15 is not a symbolic link\n",
            "\n",
            "/sbin/ldconfig.real: /usr/local/lib/libur_loader.so.0 is not a symbolic link\n",
            "\n",
            "/sbin/ldconfig.real: /usr/local/lib/libur_adapter_level_zero_v2.so.0 is not a symbolic link\n",
            "\n",
            "/sbin/ldconfig.real: /usr/local/lib/libtbbmalloc_proxy.so.2 is not a symbolic link\n",
            "\n",
            "/sbin/ldconfig.real: /usr/local/lib/libtbbbind_2_5.so.3 is not a symbolic link\n",
            "\n",
            "/sbin/ldconfig.real: /usr/local/lib/libur_adapter_level_zero.so.0 is not a symbolic link\n",
            "\n",
            "/sbin/ldconfig.real: /usr/local/lib/libtcm_debug.so.1 is not a symbolic link\n",
            "\n",
            "/sbin/ldconfig.real: /usr/local/lib/libtbbmalloc.so.2 is not a symbolic link\n",
            "\n",
            "/sbin/ldconfig.real: /usr/local/lib/libtcm.so.1 is not a symbolic link\n",
            "\n",
            "/sbin/ldconfig.real: /usr/local/lib/libtbb.so.12 is not a symbolic link\n",
            "\n",
            "/sbin/ldconfig.real: /usr/local/lib/libtbbbind_2_0.so.3 is not a symbolic link\n",
            "\n",
            "Downloading Chromium 141.0.7390.37 (playwright build v1194)\u001b[2m from https://cdn.playwright.dev/dbazure/download/playwright/builds/chromium/1194/chromium-linux.zip\u001b[22m\n",
            "\u001b[1G173.9 MiB [] 0% 0.0s\u001b[0K\u001b[1G173.9 MiB [] 0% 23.7s\u001b[0K\u001b[1G173.9 MiB [] 0% 14.7s\u001b[0K\u001b[1G173.9 MiB [] 0% 9.5s\u001b[0K\u001b[1G173.9 MiB [] 0% 6.7s\u001b[0K\u001b[1G173.9 MiB [] 1% 5.9s\u001b[0K\u001b[1G173.9 MiB [] 1% 5.4s\u001b[0K\u001b[1G173.9 MiB [] 2% 4.9s\u001b[0K\u001b[1G173.9 MiB [] 2% 5.1s\u001b[0K\u001b[1G173.9 MiB [] 3% 5.1s\u001b[0K\u001b[1G173.9 MiB [] 3% 5.0s\u001b[0K\u001b[1G173.9 MiB [] 4% 4.7s\u001b[0K\u001b[1G173.9 MiB [] 4% 4.6s\u001b[0K\u001b[1G173.9 MiB [] 4% 4.3s\u001b[0K\u001b[1G173.9 MiB [] 5% 4.2s\u001b[0K\u001b[1G173.9 MiB [] 5% 4.3s\u001b[0K\u001b[1G173.9 MiB [] 5% 4.4s\u001b[0K\u001b[1G173.9 MiB [] 6% 4.4s\u001b[0K\u001b[1G173.9 MiB [] 7% 4.2s\u001b[0K\u001b[1G173.9 MiB [] 7% 4.1s\u001b[0K\u001b[1G173.9 MiB [] 8% 4.1s\u001b[0K\u001b[1G173.9 MiB [] 8% 4.0s\u001b[0K\u001b[1G173.9 MiB [] 9% 3.9s\u001b[0K\u001b[1G173.9 MiB [] 9% 3.8s\u001b[0K\u001b[1G173.9 MiB [] 10% 3.7s\u001b[0K\u001b[1G173.9 MiB [] 11% 3.6s\u001b[0K\u001b[1G173.9 MiB [] 12% 3.6s\u001b[0K\u001b[1G173.9 MiB [] 12% 3.7s\u001b[0K\u001b[1G173.9 MiB [] 12% 3.8s\u001b[0K\u001b[1G173.9 MiB [] 13% 3.8s\u001b[0K\u001b[1G173.9 MiB [] 14% 3.7s\u001b[0K\u001b[1G173.9 MiB [] 15% 3.7s\u001b[0K\u001b[1G173.9 MiB [] 16% 3.6s\u001b[0K\u001b[1G173.9 MiB [] 17% 3.5s\u001b[0K\u001b[1G173.9 MiB [] 17% 3.4s\u001b[0K\u001b[1G173.9 MiB [] 18% 3.3s\u001b[0K\u001b[1G173.9 MiB [] 19% 3.3s\u001b[0K\u001b[1G173.9 MiB [] 20% 3.1s\u001b[0K\u001b[1G173.9 MiB [] 21% 3.0s\u001b[0K\u001b[1G173.9 MiB [] 22% 2.9s\u001b[0K\u001b[1G173.9 MiB [] 22% 2.8s\u001b[0K\u001b[1G173.9 MiB [] 23% 2.8s\u001b[0K\u001b[1G173.9 MiB [] 24% 2.7s\u001b[0K\u001b[1G173.9 MiB [] 25% 2.6s\u001b[0K\u001b[1G173.9 MiB [] 26% 2.6s\u001b[0K\u001b[1G173.9 MiB [] 27% 2.5s\u001b[0K\u001b[1G173.9 MiB [] 28% 2.4s\u001b[0K\u001b[1G173.9 MiB [] 29% 2.3s\u001b[0K\u001b[1G173.9 MiB [] 30% 2.2s\u001b[0K\u001b[1G173.9 MiB [] 31% 2.2s\u001b[0K\u001b[1G173.9 MiB [] 32% 2.1s\u001b[0K\u001b[1G173.9 MiB [] 33% 2.1s\u001b[0K\u001b[1G173.9 MiB [] 34% 2.0s\u001b[0K\u001b[1G173.9 MiB [] 35% 1.9s\u001b[0K\u001b[1G173.9 MiB [] 36% 1.9s\u001b[0K\u001b[1G173.9 MiB [] 37% 1.8s\u001b[0K\u001b[1G173.9 MiB [] 39% 1.8s\u001b[0K\u001b[1G173.9 MiB [] 40% 1.7s\u001b[0K\u001b[1G173.9 MiB [] 41% 1.6s\u001b[0K\u001b[1G173.9 MiB [] 42% 1.6s\u001b[0K\u001b[1G173.9 MiB [] 43% 1.6s\u001b[0K\u001b[1G173.9 MiB [] 43% 1.5s\u001b[0K\u001b[1G173.9 MiB [] 45% 1.5s\u001b[0K\u001b[1G173.9 MiB [] 46% 1.4s\u001b[0K\u001b[1G173.9 MiB [] 47% 1.4s\u001b[0K\u001b[1G173.9 MiB [] 49% 1.3s\u001b[0K\u001b[1G173.9 MiB [] 50% 1.3s\u001b[0K\u001b[1G173.9 MiB [] 51% 1.2s\u001b[0K\u001b[1G173.9 MiB [] 52% 1.2s\u001b[0K\u001b[1G173.9 MiB [] 53% 1.2s\u001b[0K\u001b[1G173.9 MiB [] 54% 1.1s\u001b[0K\u001b[1G173.9 MiB [] 55% 1.1s\u001b[0K\u001b[1G173.9 MiB [] 56% 1.1s\u001b[0K\u001b[1G173.9 MiB [] 57% 1.0s\u001b[0K\u001b[1G173.9 MiB [] 58% 1.0s\u001b[0K\u001b[1G173.9 MiB [] 59% 1.0s\u001b[0K\u001b[1G173.9 MiB [] 60% 1.0s\u001b[0K\u001b[1G173.9 MiB [] 61% 0.9s\u001b[0K\u001b[1G173.9 MiB [] 62% 0.9s\u001b[0K\u001b[1G173.9 MiB [] 63% 0.9s\u001b[0K\u001b[1G173.9 MiB [] 64% 0.9s\u001b[0K\u001b[1G173.9 MiB [] 64% 0.8s\u001b[0K\u001b[1G173.9 MiB [] 65% 0.8s\u001b[0K\u001b[1G173.9 MiB [] 67% 0.8s\u001b[0K\u001b[1G173.9 MiB [] 68% 0.7s\u001b[0K\u001b[1G173.9 MiB [] 69% 0.7s\u001b[0K\u001b[1G173.9 MiB [] 70% 0.7s\u001b[0K\u001b[1G173.9 MiB [] 71% 0.7s\u001b[0K\u001b[1G173.9 MiB [] 72% 0.6s\u001b[0K\u001b[1G173.9 MiB [] 73% 0.6s\u001b[0K\u001b[1G173.9 MiB [] 74% 0.6s\u001b[0K\u001b[1G173.9 MiB [] 75% 0.6s\u001b[0K\u001b[1G173.9 MiB [] 76% 0.6s\u001b[0K\u001b[1G173.9 MiB [] 76% 0.5s\u001b[0K\u001b[1G173.9 MiB [] 77% 0.5s\u001b[0K\u001b[1G173.9 MiB [] 78% 0.5s\u001b[0K\u001b[1G173.9 MiB [] 79% 0.5s\u001b[0K\u001b[1G173.9 MiB [] 80% 0.5s\u001b[0K\u001b[1G173.9 MiB [] 81% 0.4s\u001b[0K\u001b[1G173.9 MiB [] 82% 0.4s\u001b[0K\u001b[1G173.9 MiB [] 83% 0.4s\u001b[0K\u001b[1G173.9 MiB [] 84% 0.4s\u001b[0K\u001b[1G173.9 MiB [] 85% 0.4s\u001b[0K\u001b[1G173.9 MiB [] 85% 0.3s\u001b[0K\u001b[1G173.9 MiB [] 86% 0.3s\u001b[0K\u001b[1G173.9 MiB [] 87% 0.3s\u001b[0K\u001b[1G173.9 MiB [] 88% 0.3s\u001b[0K\u001b[1G173.9 MiB [] 89% 0.3s\u001b[0K\u001b[1G173.9 MiB [] 90% 0.2s\u001b[0K\u001b[1G173.9 MiB [] 91% 0.2s\u001b[0K\u001b[1G173.9 MiB [] 92% 0.2s\u001b[0K\u001b[1G173.9 MiB [] 93% 0.2s\u001b[0K\u001b[1G173.9 MiB [] 94% 0.1s\u001b[0K\u001b[1G173.9 MiB [] 95% 0.1s\u001b[0K\u001b[1G173.9 MiB [] 96% 0.1s\u001b[0K\u001b[1G173.9 MiB [] 97% 0.0s\u001b[0K\u001b[1G173.9 MiB [] 98% 0.0s\u001b[0K\u001b[1G173.9 MiB [] 99% 0.0s\u001b[0K\u001b[1G173.9 MiB [] 100% 0.0s\u001b[0K\n",
            "Chromium 141.0.7390.37 (playwright build v1194) downloaded to /root/.cache/ms-playwright/chromium-1194\n",
            "Downloading Chromium Headless Shell 141.0.7390.37 (playwright build v1194)\u001b[2m from https://cdn.playwright.dev/dbazure/download/playwright/builds/chromium/1194/chromium-headless-shell-linux.zip\u001b[22m\n",
            "\u001b[1G104.3 MiB [] 0% 0.0s\u001b[0K\u001b[1G104.3 MiB [] 0% 21.1s\u001b[0K\u001b[1G104.3 MiB [] 0% 8.4s\u001b[0K\u001b[1G104.3 MiB [] 0% 5.6s\u001b[0K\u001b[1G104.3 MiB [] 1% 3.7s\u001b[0K\u001b[1G104.3 MiB [] 2% 3.1s\u001b[0K\u001b[1G104.3 MiB [] 3% 2.8s\u001b[0K\u001b[1G104.3 MiB [] 4% 2.8s\u001b[0K\u001b[1G104.3 MiB [] 4% 2.6s\u001b[0K\u001b[1G104.3 MiB [] 6% 2.3s\u001b[0K\u001b[1G104.3 MiB [] 7% 2.1s\u001b[0K\u001b[1G104.3 MiB [] 8% 2.1s\u001b[0K\u001b[1G104.3 MiB [] 9% 2.0s\u001b[0K\u001b[1G104.3 MiB [] 10% 1.9s\u001b[0K\u001b[1G104.3 MiB [] 11% 1.9s\u001b[0K\u001b[1G104.3 MiB [] 12% 1.9s\u001b[0K\u001b[1G104.3 MiB [] 13% 1.8s\u001b[0K\u001b[1G104.3 MiB [] 14% 1.8s\u001b[0K\u001b[1G104.3 MiB [] 15% 1.7s\u001b[0K\u001b[1G104.3 MiB [] 16% 1.6s\u001b[0K\u001b[1G104.3 MiB [] 17% 1.6s\u001b[0K\u001b[1G104.3 MiB [] 19% 1.5s\u001b[0K\u001b[1G104.3 MiB [] 20% 1.5s\u001b[0K\u001b[1G104.3 MiB [] 22% 1.5s\u001b[0K\u001b[1G104.3 MiB [] 23% 1.4s\u001b[0K\u001b[1G104.3 MiB [] 24% 1.4s\u001b[0K\u001b[1G104.3 MiB [] 26% 1.4s\u001b[0K\u001b[1G104.3 MiB [] 27% 1.3s\u001b[0K\u001b[1G104.3 MiB [] 28% 1.3s\u001b[0K\u001b[1G104.3 MiB [] 29% 1.2s\u001b[0K\u001b[1G104.3 MiB [] 30% 1.2s\u001b[0K\u001b[1G104.3 MiB [] 31% 1.2s\u001b[0K\u001b[1G104.3 MiB [] 32% 1.2s\u001b[0K\u001b[1G104.3 MiB [] 34% 1.1s\u001b[0K\u001b[1G104.3 MiB [] 35% 1.1s\u001b[0K\u001b[1G104.3 MiB [] 36% 1.1s\u001b[0K\u001b[1G104.3 MiB [] 37% 1.1s\u001b[0K\u001b[1G104.3 MiB [] 39% 1.0s\u001b[0K\u001b[1G104.3 MiB [] 41% 1.0s\u001b[0K\u001b[1G104.3 MiB [] 42% 0.9s\u001b[0K\u001b[1G104.3 MiB [] 44% 0.9s\u001b[0K\u001b[1G104.3 MiB [] 45% 0.9s\u001b[0K\u001b[1G104.3 MiB [] 46% 0.8s\u001b[0K\u001b[1G104.3 MiB [] 48% 0.8s\u001b[0K\u001b[1G104.3 MiB [] 49% 0.8s\u001b[0K\u001b[1G104.3 MiB [] 51% 0.7s\u001b[0K\u001b[1G104.3 MiB [] 52% 0.7s\u001b[0K\u001b[1G104.3 MiB [] 54% 0.7s\u001b[0K\u001b[1G104.3 MiB [] 55% 0.7s\u001b[0K\u001b[1G104.3 MiB [] 57% 0.6s\u001b[0K\u001b[1G104.3 MiB [] 59% 0.6s\u001b[0K\u001b[1G104.3 MiB [] 61% 0.5s\u001b[0K\u001b[1G104.3 MiB [] 63% 0.5s\u001b[0K\u001b[1G104.3 MiB [] 65% 0.5s\u001b[0K\u001b[1G104.3 MiB [] 66% 0.5s\u001b[0K\u001b[1G104.3 MiB [] 68% 0.4s\u001b[0K\u001b[1G104.3 MiB [] 69% 0.4s\u001b[0K\u001b[1G104.3 MiB [] 71% 0.4s\u001b[0K\u001b[1G104.3 MiB [] 73% 0.4s\u001b[0K\u001b[1G104.3 MiB [] 75% 0.3s\u001b[0K\u001b[1G104.3 MiB [] 77% 0.3s\u001b[0K\u001b[1G104.3 MiB [] 78% 0.3s\u001b[0K\u001b[1G104.3 MiB [] 80% 0.3s\u001b[0K\u001b[1G104.3 MiB [] 81% 0.2s\u001b[0K\u001b[1G104.3 MiB [] 83% 0.2s\u001b[0K\u001b[1G104.3 MiB [] 85% 0.2s\u001b[0K\u001b[1G104.3 MiB [] 87% 0.2s\u001b[0K\u001b[1G104.3 MiB [] 88% 0.1s\u001b[0K\u001b[1G104.3 MiB [] 90% 0.1s\u001b[0K\u001b[1G104.3 MiB [] 92% 0.1s\u001b[0K\u001b[1G104.3 MiB [] 93% 0.1s\u001b[0K\u001b[1G104.3 MiB [] 95% 0.1s\u001b[0K\u001b[1G104.3 MiB [] 97% 0.0s\u001b[0K\u001b[1G104.3 MiB [] 99% 0.0s\u001b[0K\u001b[1G104.3 MiB [] 100% 0.0s\u001b[0K\n",
            "Chromium Headless Shell 141.0.7390.37 (playwright build v1194) downloaded to /root/.cache/ms-playwright/chromium_headless_shell-1194\n",
            "Downloading Firefox 142.0.1 (playwright build v1495)\u001b[2m from https://cdn.playwright.dev/dbazure/download/playwright/builds/firefox/1495/firefox-ubuntu-22.04.zip\u001b[22m\n",
            "\u001b[1G96.7 MiB [] 0% 0.0s\u001b[0K\u001b[1G96.7 MiB [] 0% 325.4s\u001b[0K\u001b[1G96.7 MiB [] 0% 12.6s\u001b[0K\u001b[1G96.7 MiB [] 1% 5.8s\u001b[0K\u001b[1G96.7 MiB [] 2% 4.7s\u001b[0K\u001b[1G96.7 MiB [] 3% 3.9s\u001b[0K\u001b[1G96.7 MiB [] 3% 3.4s\u001b[0K\u001b[1G96.7 MiB [] 4% 3.4s\u001b[0K\u001b[1G96.7 MiB [] 4% 3.2s\u001b[0K\u001b[1G96.7 MiB [] 5% 3.2s\u001b[0K\u001b[1G96.7 MiB [] 6% 3.0s\u001b[0K\u001b[1G96.7 MiB [] 6% 3.1s\u001b[0K\u001b[1G96.7 MiB [] 7% 3.0s\u001b[0K\u001b[1G96.7 MiB [] 8% 2.8s\u001b[0K\u001b[1G96.7 MiB [] 8% 2.7s\u001b[0K\u001b[1G96.7 MiB [] 9% 2.6s\u001b[0K\u001b[1G96.7 MiB [] 10% 2.4s\u001b[0K\u001b[1G96.7 MiB [] 11% 2.5s\u001b[0K\u001b[1G96.7 MiB [] 11% 2.4s\u001b[0K\u001b[1G96.7 MiB [] 12% 2.3s\u001b[0K\u001b[1G96.7 MiB [] 13% 2.3s\u001b[0K\u001b[1G96.7 MiB [] 14% 2.2s\u001b[0K\u001b[1G96.7 MiB [] 15% 2.2s\u001b[0K\u001b[1G96.7 MiB [] 17% 2.1s\u001b[0K\u001b[1G96.7 MiB [] 18% 2.0s\u001b[0K\u001b[1G96.7 MiB [] 19% 1.9s\u001b[0K\u001b[1G96.7 MiB [] 20% 1.9s\u001b[0K\u001b[1G96.7 MiB [] 21% 1.9s\u001b[0K\u001b[1G96.7 MiB [] 22% 1.8s\u001b[0K\u001b[1G96.7 MiB [] 22% 1.9s\u001b[0K\u001b[1G96.7 MiB [] 23% 1.9s\u001b[0K\u001b[1G96.7 MiB [] 24% 1.9s\u001b[0K\u001b[1G96.7 MiB [] 25% 1.8s\u001b[0K\u001b[1G96.7 MiB [] 26% 1.8s\u001b[0K\u001b[1G96.7 MiB [] 27% 1.8s\u001b[0K\u001b[1G96.7 MiB [] 28% 1.7s\u001b[0K\u001b[1G96.7 MiB [] 29% 1.7s\u001b[0K\u001b[1G96.7 MiB [] 30% 1.6s\u001b[0K\u001b[1G96.7 MiB [] 32% 1.6s\u001b[0K\u001b[1G96.7 MiB [] 33% 1.5s\u001b[0K\u001b[1G96.7 MiB [] 35% 1.4s\u001b[0K\u001b[1G96.7 MiB [] 36% 1.4s\u001b[0K\u001b[1G96.7 MiB [] 37% 1.3s\u001b[0K\u001b[1G96.7 MiB [] 38% 1.3s\u001b[0K\u001b[1G96.7 MiB [] 39% 1.3s\u001b[0K\u001b[1G96.7 MiB [] 40% 1.3s\u001b[0K\u001b[1G96.7 MiB [] 41% 1.2s\u001b[0K\u001b[1G96.7 MiB [] 43% 1.2s\u001b[0K\u001b[1G96.7 MiB [] 44% 1.1s\u001b[0K\u001b[1G96.7 MiB [] 45% 1.1s\u001b[0K\u001b[1G96.7 MiB [] 46% 1.1s\u001b[0K\u001b[1G96.7 MiB [] 48% 1.0s\u001b[0K\u001b[1G96.7 MiB [] 49% 1.0s\u001b[0K\u001b[1G96.7 MiB [] 50% 1.0s\u001b[0K\u001b[1G96.7 MiB [] 51% 0.9s\u001b[0K\u001b[1G96.7 MiB [] 52% 0.9s\u001b[0K\u001b[1G96.7 MiB [] 53% 0.9s\u001b[0K\u001b[1G96.7 MiB [] 55% 0.8s\u001b[0K\u001b[1G96.7 MiB [] 56% 0.8s\u001b[0K\u001b[1G96.7 MiB [] 58% 0.8s\u001b[0K\u001b[1G96.7 MiB [] 60% 0.7s\u001b[0K\u001b[1G96.7 MiB [] 61% 0.7s\u001b[0K\u001b[1G96.7 MiB [] 63% 0.7s\u001b[0K\u001b[1G96.7 MiB [] 64% 0.6s\u001b[0K\u001b[1G96.7 MiB [] 66% 0.6s\u001b[0K\u001b[1G96.7 MiB [] 67% 0.6s\u001b[0K\u001b[1G96.7 MiB [] 69% 0.5s\u001b[0K\u001b[1G96.7 MiB [] 71% 0.5s\u001b[0K\u001b[1G96.7 MiB [] 72% 0.5s\u001b[0K\u001b[1G96.7 MiB [] 73% 0.4s\u001b[0K\u001b[1G96.7 MiB [] 75% 0.4s\u001b[0K\u001b[1G96.7 MiB [] 77% 0.4s\u001b[0K\u001b[1G96.7 MiB [] 78% 0.3s\u001b[0K\u001b[1G96.7 MiB [] 80% 0.3s\u001b[0K\u001b[1G96.7 MiB [] 81% 0.3s\u001b[0K\u001b[1G96.7 MiB [] 83% 0.3s\u001b[0K\u001b[1G96.7 MiB [] 84% 0.2s\u001b[0K\u001b[1G96.7 MiB [] 86% 0.2s\u001b[0K\u001b[1G96.7 MiB [] 88% 0.2s\u001b[0K\u001b[1G96.7 MiB [] 89% 0.2s\u001b[0K\u001b[1G96.7 MiB [] 90% 0.1s\u001b[0K\u001b[1G96.7 MiB [] 92% 0.1s\u001b[0K\u001b[1G96.7 MiB [] 93% 0.1s\u001b[0K\u001b[1G96.7 MiB [] 96% 0.1s\u001b[0K\u001b[1G96.7 MiB [] 98% 0.0s\u001b[0K\u001b[1G96.7 MiB [] 100% 0.0s\u001b[0K\n",
            "Firefox 142.0.1 (playwright build v1495) downloaded to /root/.cache/ms-playwright/firefox-1495\n",
            "Downloading Webkit 26.0 (playwright build v2215)\u001b[2m from https://cdn.playwright.dev/dbazure/download/playwright/builds/webkit/2215/webkit-ubuntu-22.04.zip\u001b[22m\n",
            "\u001b[1G94.7 MiB [] 0% 0.0s\u001b[0K\u001b[1G94.7 MiB [] 0% 17.8s\u001b[0K\u001b[1G94.7 MiB [] 0% 11.2s\u001b[0K\u001b[1G94.7 MiB [] 0% 5.5s\u001b[0K\u001b[1G94.7 MiB [] 1% 3.2s\u001b[0K\u001b[1G94.7 MiB [] 2% 2.8s\u001b[0K\u001b[1G94.7 MiB [] 3% 2.4s\u001b[0K\u001b[1G94.7 MiB [] 4% 2.5s\u001b[0K\u001b[1G94.7 MiB [] 5% 2.2s\u001b[0K\u001b[1G94.7 MiB [] 6% 2.0s\u001b[0K\u001b[1G94.7 MiB [] 7% 1.9s\u001b[0K\u001b[1G94.7 MiB [] 9% 1.8s\u001b[0K\u001b[1G94.7 MiB [] 10% 1.6s\u001b[0K\u001b[1G94.7 MiB [] 11% 1.6s\u001b[0K\u001b[1G94.7 MiB [] 13% 1.5s\u001b[0K\u001b[1G94.7 MiB [] 14% 1.4s\u001b[0K\u001b[1G94.7 MiB [] 16% 1.3s\u001b[0K\u001b[1G94.7 MiB [] 17% 1.3s\u001b[0K\u001b[1G94.7 MiB [] 18% 1.3s\u001b[0K\u001b[1G94.7 MiB [] 20% 1.2s\u001b[0K\u001b[1G94.7 MiB [] 21% 1.2s\u001b[0K\u001b[1G94.7 MiB [] 22% 1.2s\u001b[0K\u001b[1G94.7 MiB [] 23% 1.2s\u001b[0K\u001b[1G94.7 MiB [] 24% 1.1s\u001b[0K\u001b[1G94.7 MiB [] 26% 1.1s\u001b[0K\u001b[1G94.7 MiB [] 28% 1.1s\u001b[0K\u001b[1G94.7 MiB [] 29% 1.0s\u001b[0K\u001b[1G94.7 MiB [] 31% 1.0s\u001b[0K\u001b[1G94.7 MiB [] 33% 0.9s\u001b[0K\u001b[1G94.7 MiB [] 34% 0.9s\u001b[0K\u001b[1G94.7 MiB [] 35% 0.9s\u001b[0K\u001b[1G94.7 MiB [] 38% 0.8s\u001b[0K\u001b[1G94.7 MiB [] 40% 0.8s\u001b[0K\u001b[1G94.7 MiB [] 42% 0.7s\u001b[0K\u001b[1G94.7 MiB [] 44% 0.7s\u001b[0K\u001b[1G94.7 MiB [] 45% 0.7s\u001b[0K\u001b[1G94.7 MiB [] 47% 0.6s\u001b[0K\u001b[1G94.7 MiB [] 49% 0.6s\u001b[0K\u001b[1G94.7 MiB [] 51% 0.6s\u001b[0K\u001b[1G94.7 MiB [] 53% 0.6s\u001b[0K\u001b[1G94.7 MiB [] 55% 0.5s\u001b[0K\u001b[1G94.7 MiB [] 57% 0.5s\u001b[0K\u001b[1G94.7 MiB [] 59% 0.5s\u001b[0K\u001b[1G94.7 MiB [] 60% 0.5s\u001b[0K\u001b[1G94.7 MiB [] 61% 0.4s\u001b[0K\u001b[1G94.7 MiB [] 63% 0.4s\u001b[0K\u001b[1G94.7 MiB [] 65% 0.4s\u001b[0K\u001b[1G94.7 MiB [] 67% 0.4s\u001b[0K\u001b[1G94.7 MiB [] 69% 0.3s\u001b[0K\u001b[1G94.7 MiB [] 71% 0.3s\u001b[0K\u001b[1G94.7 MiB [] 73% 0.3s\u001b[0K\u001b[1G94.7 MiB [] 76% 0.3s\u001b[0K\u001b[1G94.7 MiB [] 78% 0.2s\u001b[0K\u001b[1G94.7 MiB [] 80% 0.2s\u001b[0K\u001b[1G94.7 MiB [] 82% 0.2s\u001b[0K\u001b[1G94.7 MiB [] 84% 0.2s\u001b[0K\u001b[1G94.7 MiB [] 87% 0.1s\u001b[0K\u001b[1G94.7 MiB [] 89% 0.1s\u001b[0K\u001b[1G94.7 MiB [] 91% 0.1s\u001b[0K\u001b[1G94.7 MiB [] 93% 0.1s\u001b[0K\u001b[1G94.7 MiB [] 96% 0.0s\u001b[0K\u001b[1G94.7 MiB [] 98% 0.0s\u001b[0K\u001b[1G94.7 MiB [] 100% 0.0s\u001b[0K\n",
            "Webkit 26.0 (playwright build v2215) downloaded to /root/.cache/ms-playwright/webkit-2215\n",
            "Downloading FFMPEG playwright build v1011\u001b[2m from https://cdn.playwright.dev/dbazure/download/playwright/builds/ffmpeg/1011/ffmpeg-linux.zip\u001b[22m\n",
            "\u001b[1G2.3 MiB [] 0% 0.0s\u001b[0K\u001b[1G2.3 MiB [] 4% 0.4s\u001b[0K\u001b[1G2.3 MiB [] 20% 0.1s\u001b[0K\u001b[1G2.3 MiB [] 51% 0.1s\u001b[0K\u001b[1G2.3 MiB [] 96% 0.0s\u001b[0K\u001b[1G2.3 MiB [] 100% 0.0s\u001b[0K\n",
            "FFMPEG playwright build v1011 downloaded to /root/.cache/ms-playwright/ffmpeg-1011\n",
            "\u001b[1G\u001b[0K⠙\u001b[1G\u001b[0K\u001b[1G\u001b[0K⠙\u001b[1G\u001b[0KError: No tests found.\n",
            "Make sure that arguments are regular expressions matching test files.\n",
            "You may need to escape symbols like \"$\" or \"*\" and quote the arguments.\n",
            "\n",
            "\u001b[1G\u001b[0K⠙\u001b[1G\u001b[0K\u001b[1G\u001b[0K⠙\u001b[1G\u001b[0K⠹\u001b[1G\u001b[0K⠸\u001b[1G\u001b[0K⠼\u001b[1G\u001b[0K⠴\u001b[1G\u001b[0K⠦\u001b[1G\u001b[0K⠧\u001b[1G\u001b[0K⠇\u001b[1G\u001b[0K\n",
            "added 1 package, and audited 4 packages in 1s\n",
            "\u001b[1G\u001b[0K⠇\u001b[1G\u001b[0K\n",
            "found \u001b[32m\u001b[1m0\u001b[22m\u001b[39m vulnerabilities\n",
            "\u001b[1G\u001b[0K⠇\u001b[1G\u001b[0K"
          ]
        }
      ]
    },
    {
      "cell_type": "markdown",
      "source": [
        "**Create a Test Script**"
      ],
      "metadata": {
        "id": "8EEYwKyXLXnY"
      }
    },
    {
      "cell_type": "code",
      "source": [
        "\n",
        "%%writefile tsconfig.json\n",
        "{\n",
        "  \"compilerOptions\": {\n",
        "    \"target\": \"es2021\",\n",
        "    \"module\": \"commonjs\",\n",
        "    \"lib\": [\"es2021\", \"dom\"],\n",
        "    \"esModuleInterop\": true,\n",
        "    \"moduleResolution\": \"node\",\n",
        "    \"strict\": true,\n",
        "    \"skipLibCheck\": true\n",
        "  }\n",
        "}"
      ],
      "metadata": {
        "colab": {
          "base_uri": "https://localhost:8080/"
        },
        "id": "QB823gfRM4Ep",
        "outputId": "d5b0ee04-c710-41b4-8d48-e41970d185e3"
      },
      "execution_count": 2,
      "outputs": [
        {
          "output_type": "stream",
          "name": "stdout",
          "text": [
            "Writing tsconfig.json\n"
          ]
        }
      ]
    },
    {
      "cell_type": "markdown",
      "source": [
        "**Handelling all elments using play Wright**\n",
        "\n",
        "You’ll learn how to handle:\n",
        "✅ Text boxes\n",
        "\n",
        "✅ Buttons\n",
        "\n",
        "✅ Checkboxes\n",
        "\n",
        "✅ Radio buttons\n",
        "\n",
        "✅ Dropdowns\n",
        "\n",
        "✅ Alerts\n",
        "\n",
        "✅ Frames (iFrames)\n",
        "\n",
        "✅ File upload/download\n",
        "\n",
        "✅ Mouse actions (hover, double-click, right-click)\n",
        "\n",
        "✅ Waits\n",
        "\n",
        "✅ Assertions"
      ],
      "metadata": {
        "id": "Dp2H0OtOwVJT"
      }
    },
    {
      "cell_type": "markdown",
      "source": [
        "::"
      ],
      "metadata": {
        "id": "FolKbZZMLxQh"
      }
    },
    {
      "cell_type": "code",
      "source": [
        "%%writefile seleniumscript.ts\n",
        "import { chromium } from 'playwright';\n",
        "\n",
        "(async () => {\n",
        "  const browser = await chromium.launch({ headless: true });\n",
        "  const page = await browser.newPage();\n",
        "  await page.goto('https://letcode.in/test');\n",
        "  console.log(await page.title());\n",
        "  await page.screenshot({ path: '/content/test-results/ScreenShot/page_screenshot_page.title.png', fullPage: true });\n",
        "\n",
        "\n",
        "// Textbox\n",
        "  await page.goto(\"https://letcode.in/edit\");\n",
        "  await page.fill(\"//input[@id='fullName']\", \"Animesh Banik\");\n",
        "  await page.fill(\"//input[@id='join']\", \" Playwright\");\n",
        "  const fullName = await page.inputValue(\"//input[@id='getMe']\");\n",
        "  console.log(\"✅ Full Name Value:\", fullName);\n",
        "  await page.screenshot({ path: 'page_screenshot_Textbox.png', fullPage: true });\n",
        "\n",
        "  // 🔹 3️⃣ Button (XPath)\n",
        "  await page.goto(\"https://letcode.in/button\");\n",
        "  const btnText = await page.textContent(\"//button[@id='home']\");\n",
        "  console.log(\"✅ Button Text:\", btnText);\n",
        "  await page.click(\"//button[@id='home']\");\n",
        "\n",
        "  // 🔹 Go back to buttons page\n",
        "  await page.goBack();\n",
        "\n",
        "// 🔹 4️⃣ Checkbox (XPath)\n",
        "  await page.goto(\"https://letcode.in/radio\");\n",
        "  await page.check(\"(//input[@type='checkbox'])[1]\");\n",
        "  const isChecked = await page.isChecked(\"(//input[@type='checkbox'])[1]\");\n",
        " // expect(isChecked).toBeTruthy();\n",
        "  console.log(\"✅ Checkbox selected:\", isChecked);\n",
        "\n",
        "  // 🔹 5️⃣ Radio Button (XPath)\n",
        "  await page.check(\"//input[@id='yes']\");\n",
        "  //expect(await page.isChecked(\"//input[@id='yes']\")).toBe(true);\n",
        "  await page.screenshot({ path: 'page_screenshot_Radio.png', fullPage: true });\n",
        "\n",
        " // 🔹 6️⃣ Dropdown (XPath)\n",
        "  await page.goto(\"https://letcode.in/dropdowns\");\n",
        "  await page.selectOption(\"//select[@id='fruits']\", { label: \"Apple\" });\n",
        "  const selected = await page.inputValue(\"//select[@id='fruits']\");\n",
        "  console.log(\"✅ Selected dropdown value:\", selected);\n",
        "  await page.screenshot({ path: 'page_screenshot_Dropdown.png', fullPage: true });\n",
        "\n",
        "\n",
        "// Alert\n",
        "  await page.goto('https://letcode.in/alert');\n",
        "  page.on('dialog', async (dialog) => await dialog.accept());\n",
        "  await page.click('#accept');\n",
        "\n",
        "  await page.screenshot({ path: 'page_screenshot_Alert.png', fullPage: true });\n",
        "\n",
        "  // iFrame\n",
        "\n",
        "  // 🔹 8️⃣ Frame (XPath)\n",
        "  await page.goto(\"https://letcode.in/frame\");\n",
        "  const frame = await page.frame({ name: \"firstFr\" });\n",
        "  await frame?.fill(\"//input[@name='fname']\", \"Animesh\");\n",
        "  await frame?.fill(\"//input[@name='lname']\", \"Banik\");\n",
        "\n",
        "  // ✅ Validate title\n",
        "  const title = await page.title();\n",
        " // expect(title).toContain(\"LetCode\");\n",
        "  console.log(\"✅ Page Title:\", title);\n",
        "\n",
        "\n",
        "await browser.close();\n",
        "})();\n",
        "\n",
        "//\n"
      ],
      "metadata": {
        "colab": {
          "base_uri": "https://localhost:8080/"
        },
        "id": "41CCo5E6LVKd",
        "outputId": "998889a7-f35f-4b86-f52e-95cbe42977f4"
      },
      "execution_count": 3,
      "outputs": [
        {
          "output_type": "stream",
          "name": "stdout",
          "text": [
            "Writing seleniumscript.ts\n"
          ]
        }
      ]
    },
    {
      "cell_type": "code",
      "source": [
        "!npx ts-node -P tsconfig.json seleniumscript.ts"
      ],
      "metadata": {
        "colab": {
          "base_uri": "https://localhost:8080/"
        },
        "id": "gR3wM3ZRLifz",
        "outputId": "612a517e-f433-47d8-e363-13b6c7dc82a0"
      },
      "execution_count": 4,
      "outputs": [
        {
          "output_type": "stream",
          "name": "stdout",
          "text": [
            "\u001b[1G\u001b[0K⠙\u001b[1G\u001b[0KWorkspace | LetCode with Koushik\n",
            "✅ Full Name Value: ortonikc\n",
            "✅ Button Text: Goto Home\n",
            "✅ Checkbox selected: \u001b[33mtrue\u001b[39m\n",
            "✅ Selected dropdown value: 0\n",
            "✅ Page Title: Frame | LetCode with Koushik\n",
            "\u001b[1G\u001b[0K⠙\u001b[1G\u001b[0K"
          ]
        }
      ]
    },
    {
      "cell_type": "code",
      "source": [
        "!npm install -D allure-playwright allure-commandline"
      ],
      "metadata": {
        "id": "Nl44hxVgNBeO",
        "outputId": "2d8c602c-c6e1-436d-e48a-2239270a1355",
        "colab": {
          "base_uri": "https://localhost:8080/"
        }
      },
      "execution_count": null,
      "outputs": [
        {
          "output_type": "stream",
          "name": "stdout",
          "text": [
            "\u001b[1G\u001b[0K⠙\u001b[1G\u001b[0K⠹\u001b[1G\u001b[0K⠸\u001b[1G\u001b[0K⠼\u001b[1G\u001b[0K⠴\u001b[1G\u001b[0K⠦\u001b[1G\u001b[0K⠧\u001b[1G\u001b[0K\n",
            "up to date, audited 11 packages in 1s\n",
            "\u001b[1G\u001b[0K⠧\u001b[1G\u001b[0K\n",
            "found \u001b[32m\u001b[1m0\u001b[22m\u001b[39m vulnerabilities\n",
            "\u001b[1G\u001b[0K⠧\u001b[1G\u001b[0K"
          ]
        }
      ]
    },
    {
      "cell_type": "code",
      "source": [
        "!npx playwright show-report"
      ],
      "metadata": {
        "id": "pz7IfyQei2NG",
        "outputId": "92394ba0-2c18-45bb-c0ab-6db139d98f1c",
        "colab": {
          "base_uri": "https://localhost:8080/"
        }
      },
      "execution_count": 5,
      "outputs": [
        {
          "output_type": "stream",
          "name": "stdout",
          "text": [
            "\u001b[1G\u001b[0K⠙\u001b[1G\u001b[0K\u001b[31mNo report found at \"/content/playwright-report\"\u001b[39m\n",
            "\u001b[1G\u001b[0K⠙\u001b[1G\u001b[0K"
          ]
        }
      ]
    },
    {
      "cell_type": "code",
      "source": [
        "!npx allure generate allure-results --clean -o allure-report\n",
        "!zip -r allure-report.zip allure-report\n",
        "from google.colab import files\n",
        "files.download('allure-report.zip')"
      ],
      "metadata": {
        "id": "D3QSFp0wO-GQ",
        "outputId": "9bd2eaff-1da4-4e7e-bdfa-b9caff7e5b06",
        "colab": {
          "base_uri": "https://localhost:8080/",
          "height": 868
        }
      },
      "execution_count": null,
      "outputs": [
        {
          "output_type": "stream",
          "name": "stdout",
          "text": [
            "\u001b[1G\u001b[0K⠙\u001b[1G\u001b[0Kallure-results does not exist\n",
            "Report successfully generated to allure-report\n",
            "\u001b[1G\u001b[0K⠙\u001b[1G\u001b[0Kupdating: allure-report/ (stored 0%)\n",
            "updating: allure-report/app.js (deflated 73%)\n",
            "updating: allure-report/history/ (stored 0%)\n",
            "updating: allure-report/history/history-trend.json (deflated 22%)\n",
            "updating: allure-report/history/duration-trend.json (stored 0%)\n",
            "updating: allure-report/history/history.json (stored 0%)\n",
            "updating: allure-report/history/categories-trend.json (stored 0%)\n",
            "updating: allure-report/history/retry-trend.json (stored 0%)\n",
            "updating: allure-report/export/ (stored 0%)\n",
            "updating: allure-report/export/mail.html (deflated 24%)\n",
            "updating: allure-report/export/prometheusData.txt (deflated 67%)\n",
            "updating: allure-report/export/influxDbData.txt (deflated 79%)\n",
            "updating: allure-report/widgets/ (stored 0%)\n",
            "updating: allure-report/widgets/suites.json (stored 0%)\n",
            "updating: allure-report/widgets/behaviors.json (stored 0%)\n",
            "updating: allure-report/widgets/launch.json (stored 0%)\n",
            "updating: allure-report/widgets/history-trend.json (deflated 22%)\n",
            "updating: allure-report/widgets/environment.json (stored 0%)\n",
            "updating: allure-report/widgets/duration-trend.json (stored 0%)\n",
            "updating: allure-report/widgets/status-chart.json (stored 0%)\n",
            "updating: allure-report/widgets/summary.json (deflated 21%)\n",
            "updating: allure-report/widgets/categories-trend.json (stored 0%)\n",
            "updating: allure-report/widgets/retry-trend.json (stored 0%)\n",
            "updating: allure-report/widgets/categories.json (stored 0%)\n",
            "updating: allure-report/widgets/severity.json (stored 0%)\n",
            "updating: allure-report/widgets/executors.json (stored 0%)\n",
            "updating: allure-report/widgets/duration.json (stored 0%)\n",
            "updating: allure-report/styles.css (deflated 52%)\n",
            "updating: allure-report/index.html (deflated 54%)\n",
            "updating: allure-report/favicon.ico (deflated 62%)\n",
            "updating: allure-report/data/ (stored 0%)\n",
            "updating: allure-report/data/suites.json (deflated 1%)\n",
            "updating: allure-report/data/behaviors.json (deflated 1%)\n",
            "updating: allure-report/data/timeline.json (deflated 1%)\n",
            "updating: allure-report/data/categories.csv (stored 0%)\n",
            "updating: allure-report/data/suites.csv (stored 0%)\n",
            "updating: allure-report/data/categories.json (stored 0%)\n",
            "updating: allure-report/data/behaviors.csv (stored 0%)\n",
            "updating: allure-report/data/packages.json (deflated 3%)\n",
            "updating: allure-report/plugin/ (stored 0%)\n",
            "updating: allure-report/plugin/screen-diff/ (stored 0%)\n",
            "updating: allure-report/plugin/screen-diff/index.js (deflated 77%)\n",
            "updating: allure-report/plugin/screen-diff/styles.css (deflated 49%)\n",
            "updating: allure-report/plugin/behaviors/ (stored 0%)\n",
            "updating: allure-report/plugin/behaviors/index.js (deflated 77%)\n",
            "updating: allure-report/plugin/packages/ (stored 0%)\n",
            "updating: allure-report/plugin/packages/index.js (deflated 80%)\n"
          ]
        },
        {
          "output_type": "display_data",
          "data": {
            "text/plain": [
              "<IPython.core.display.Javascript object>"
            ],
            "application/javascript": [
              "\n",
              "    async function download(id, filename, size) {\n",
              "      if (!google.colab.kernel.accessAllowed) {\n",
              "        return;\n",
              "      }\n",
              "      const div = document.createElement('div');\n",
              "      const label = document.createElement('label');\n",
              "      label.textContent = `Downloading \"${filename}\": `;\n",
              "      div.appendChild(label);\n",
              "      const progress = document.createElement('progress');\n",
              "      progress.max = size;\n",
              "      div.appendChild(progress);\n",
              "      document.body.appendChild(div);\n",
              "\n",
              "      const buffers = [];\n",
              "      let downloaded = 0;\n",
              "\n",
              "      const channel = await google.colab.kernel.comms.open(id);\n",
              "      // Send a message to notify the kernel that we're ready.\n",
              "      channel.send({})\n",
              "\n",
              "      for await (const message of channel.messages) {\n",
              "        // Send a message to notify the kernel that we're ready.\n",
              "        channel.send({})\n",
              "        if (message.buffers) {\n",
              "          for (const buffer of message.buffers) {\n",
              "            buffers.push(buffer);\n",
              "            downloaded += buffer.byteLength;\n",
              "            progress.value = downloaded;\n",
              "          }\n",
              "        }\n",
              "      }\n",
              "      const blob = new Blob(buffers, {type: 'application/binary'});\n",
              "      const a = document.createElement('a');\n",
              "      a.href = window.URL.createObjectURL(blob);\n",
              "      a.download = filename;\n",
              "      div.appendChild(a);\n",
              "      a.click();\n",
              "      div.remove();\n",
              "    }\n",
              "  "
            ]
          },
          "metadata": {}
        },
        {
          "output_type": "display_data",
          "data": {
            "text/plain": [
              "<IPython.core.display.Javascript object>"
            ],
            "application/javascript": [
              "download(\"download_1070c5c9-12f5-43c1-971e-3d602e769ce1\", \"allure-report.zip\", 1016442)"
            ]
          },
          "metadata": {}
        }
      ]
    }
  ]
}