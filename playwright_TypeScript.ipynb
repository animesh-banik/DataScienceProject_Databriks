{
  "nbformat": 4,
  "nbformat_minor": 0,
  "metadata": {
    "colab": {
      "provenance": [],
      "include_colab_link": true
    },
    "kernelspec": {
      "name": "python3",
      "display_name": "Python 3"
    },
    "language_info": {
      "name": "python"
    }
  },
  "cells": [
    {
      "cell_type": "markdown",
      "metadata": {
        "id": "view-in-github",
        "colab_type": "text"
      },
      "source": [
        "<a href=\"https://colab.research.google.com/github/animesh-banik/DataScienceProject_Databriks/blob/Google_Colub/playwright_TypeScript.ipynb\" target=\"_parent\"><img src=\"https://colab.research.google.com/assets/colab-badge.svg\" alt=\"Open In Colab\"/></a>"
      ]
    },
    {
      "cell_type": "markdown",
      "source": [
        "**What is Type Script**\n",
        "\n",
        "TypeScript is a superset of JavaScript developed by Microsoft that adds static typing and object-oriented features to JavaScript.\n",
        "It helps developers catch errors during development rather than at runtime, which improves code quality and maintainability.\n",
        "TypeScript code is compiled (or transpiled) into plain JavaScript, so it can run in any browser or JavaScript environment.\n",
        "\n",
        "It supports features like interfaces, classes, generics, and access modifiers, which make it suitable for large-scale enterprise applications.\n",
        "\n",
        "In short, TypeScript combines the flexibility of JavaScript with the reliability of static typing.\n",
        "\n"
      ],
      "metadata": {
        "id": "rm5qGKjkJnD9"
      }
    },
    {
      "cell_type": "markdown",
      "source": [],
      "metadata": {
        "id": "adLIgP3P4dqw"
      }
    },
    {
      "cell_type": "markdown",
      "source": [
        "**What is the any type?**\n",
        "\n",
        "In TypeScript, the any type is a special type that allows a variable to hold any kind of value, disabling all type checking for that variable.\n",
        "\n",
        "Here, the variable value can store a number, string, boolean, or object — TypeScript won’t enforce any type rules.\n",
        "\n",
        "let value: any = 10;\n",
        "\n",
        "value = \"Hello\";   // ✅ No error\n",
        "\n",
        "value = true;      // ✅ No error\n",
        "\n",
        "value = { a: 1 };  // ✅ No error"
      ],
      "metadata": {
        "id": "AN42h-pgb5qA"
      }
    },
    {
      "cell_type": "markdown",
      "source": [
        "**What are basic types in TypeScript?**\n",
        "\n",
        "    let num: number = 42;\n",
        "    let str: string = \"hello\";\n",
        "    let bool: boolean = true;\n",
        "    let arr: number[] = [1, 2, 3];\n",
        "    let tuple: [string, number] = [\"age\", 30];\n",
        "    let any: any = \"anything\";\n",
        "    let unknown: unknown = 4;\n",
        "    let nullValue: null = null;\n",
        "    let undefinedValue: undefined = undefined;"
      ],
      "metadata": {
        "id": "YSLqCldB4PUP"
      }
    },
    {
      "cell_type": "markdown",
      "source": [
        "**How to install TypeScript?**\n",
        "\n",
        "    npm install -g typescript\n",
        "    # or locally\n",
        "    npm install --save-dev typescript\n",
        "\n"
      ],
      "metadata": {
        "id": "02098JJV4Ln3"
      }
    },
    {
      "cell_type": "markdown",
      "source": [
        "**What is the void type?**\n",
        "\n",
        "    function log(message: string): void {\n",
        "    console.log(message);\n",
        "    }"
      ],
      "metadata": {
        "id": "zarCcDN-cnlR"
      }
    },
    {
      "cell_type": "markdown",
      "source": [
        "**Arrays in TypeScript**\n",
        "\n",
        "    let numbers: number[] = [1, 2, 3];\n",
        "    let strings: Array<string> = [\"a\", \"b\"];"
      ],
      "metadata": {
        "id": "AemOSTF_dCjD"
      }
    },
    {
      "cell_type": "markdown",
      "source": [
        "**What are tuples in Type Script**\n",
        "\n",
        "    let tuple: [string, number, boolean] = [\"test\", 42, true];"
      ],
      "metadata": {
        "id": "Y3mG_rFadKdA"
      }
    },
    {
      "cell_type": "markdown",
      "source": [
        "**What are enums?**\n",
        "\n",
        "    enum Color {\n",
        "    Red,\n",
        "    Green,\n",
        "    Blue\n",
        "    }\n",
        "    let c: Color = Color.Green;"
      ],
      "metadata": {
        "id": "qjIcVlJEd_M1"
      }
    },
    {
      "cell_type": "markdown",
      "source": [
        "**What are string literal types?**\n",
        "\n",
        "    type Direction = \"North\" | \"South\" | \"East\" | \"West\";\n",
        "    let dir: Direction = \"North\";"
      ],
      "metadata": {
        "id": "gibsl7sjeQDB"
      }
    },
    {
      "cell_type": "markdown",
      "source": [
        "**What are union types?**\n",
        "\n",
        "    let value: string | number;\n",
        "    value = \"test\"; // OK\n",
        "    value = 42; // OK"
      ],
      "metadata": {
        "id": "uCYI5vXQeWW_"
      }
    },
    {
      "cell_type": "markdown",
      "source": [
        "**What are intersection types?**\n",
        "\n",
        "    type A = { a: number };\n",
        "    type B = { b: string };\n",
        "    type C = A & B; // { a: number, b: string }"
      ],
      "metadata": {
        "id": "2MgkTWwGehHR"
      }
    },
    {
      "cell_type": "markdown",
      "source": [
        "**What is type alias?**\n",
        "\n",
        "        type User = {\n",
        "        name: string;\n",
        "        age: number;\n",
        "        };"
      ],
      "metadata": {
        "id": "iJXC7zUveokG"
      }
    },
    {
      "cell_type": "markdown",
      "source": [
        "**What is an interface?**\n",
        "\n",
        "        interface User {\n",
        "        name: string;\n",
        "        age: number;\n",
        "        }"
      ],
      "metadata": {
        "id": "SL8uupy9etto"
      }
    },
    {
      "cell_type": "markdown",
      "source": [
        "**How to extend interfaces?**\n",
        "\n",
        "        interface Animal {\n",
        "        name: string;\n",
        "        }\n",
        "        interface Dog extends Animal {\n",
        "        breed: string;\n",
        "        }"
      ],
      "metadata": {
        "id": "vgi5GPtHe-J-"
      }
    },
    {
      "cell_type": "markdown",
      "source": [
        "**What are optional properties?**\n",
        "\n",
        "    interface User {\n",
        "    name: string;\n",
        "    age?: number; // optional\n",
        "    }"
      ],
      "metadata": {
        "id": "wkXpjvEbfDhP"
      }
    },
    {
      "cell_type": "markdown",
      "source": [
        "**Difference between type and interface?**\n",
        "\n",
        "Interface: Can be extended, merged\n",
        "\n",
        "Type: More flexible (unions, intersections), cannot be merged"
      ],
      "metadata": {
        "id": "XPrfaoTGey9w"
      }
    },
    {
      "cell_type": "markdown",
      "source": [
        "**How to extend interfaces?**\n",
        "\n",
        "    interface Animal {\n",
        "    name: string;\n",
        "    }\n",
        "    interface Dog extends Animal {\n",
        "    breed: string;\n",
        "    }"
      ],
      "metadata": {
        "id": "2By1RLfhpfAv"
      }
    },
    {
      "cell_type": "markdown",
      "source": [
        "**What are generic constraints?**\n",
        "\n",
        "    interface HasLength {\n",
        "    length: number;\n",
        "    }\n",
        "    function logLength<T extends HasLength>(arg: T): void {\n",
        "    console.log(arg.length);\n",
        "    }"
      ],
      "metadata": {
        "id": "kf52nWSEq5lJ"
      }
    },
    {
      "cell_type": "markdown",
      "source": [
        "**What are generic classes?**\n",
        "\n",
        "    class GenericNumber<T> {\n",
        "    value: T;\n",
        "    add: (x: T, y: T) => T;\n",
        "    }"
      ],
      "metadata": {
        "id": "Ty-rgd4OrABJ"
      }
    },
    {
      "cell_type": "markdown",
      "source": [
        "**What are generic interfaces?**\n",
        "\n",
        "        interface GenericIdentity<T> {\n",
        "        (arg: T): T;\n",
        "        }"
      ],
      "metadata": {
        "id": "tH_EI5iArE7Q"
      }
    },
    {
      "cell_type": "markdown",
      "source": [
        "**What is typeof operator?**\n",
        "\n",
        "        let x = 10;\n",
        "        let y: typeof x; // type is number"
      ],
      "metadata": {
        "id": "10D9cPr5rKKY"
      }
    },
    {
      "cell_type": "markdown",
      "source": [
        "**What is keyof operator?**\n",
        "\n",
        "        interface User {\n",
        "        name: string;\n",
        "        age: number;\n",
        "        }\n",
        "        type UserKeys = keyof User; // \"name\" | \"age\""
      ],
      "metadata": {
        "id": "8quI-DsfrPR0"
      }
    },
    {
      "cell_type": "markdown",
      "source": [
        "**What are mapped types?**\n",
        "\n",
        "        type Readonly<T> = {\n",
        "        readonly [P in keyof T]: T[P];\n",
        "        };"
      ],
      "metadata": {
        "id": "wC8Bx_yMrUmm"
      }
    },
    {
      "cell_type": "markdown",
      "source": [
        "**What is Partial<T>? Makes all properties optional**\n",
        "\n",
        "    interface User {\n",
        "    name: string;\n",
        "    age: number;\n",
        "    }\n",
        "    type PartialUser = Partial<User>;"
      ],
      "metadata": {
        "id": "ISwNRL7wra7g"
      }
    },
    {
      "cell_type": "markdown",
      "source": [
        "**How to install Selenium with TypeScript?**\n",
        "\n",
        "    npm install selenium-webdriver\n",
        "    npm install --save-dev @types/selenium-webdriver\n",
        "    npm install --save-dev typescript"
      ],
      "metadata": {
        "id": "LBehg8qIsBGY"
      }
    },
    {
      "cell_type": "markdown",
      "source": [
        "**How to create WebDriver instance in TypeScript?**\n",
        "\n",
        "    import { Builder, WebDriver } from 'selenium-webdriver';\n",
        "\n",
        "    async function createDriver(): Promise<WebDriver> {\n",
        "    return await new Builder().forBrowser('chrome').build();\n",
        "    }"
      ],
      "metadata": {
        "id": "OeqMYo_TsNCZ"
      }
    },
    {
      "cell_type": "markdown",
      "source": [
        "**How to type WebElement?**\n",
        "\n",
        "    import { WebElement } from 'selenium-webdriver';\n",
        "\n",
        "    const element: WebElement = await driver.findElement(By.id('test'));"
      ],
      "metadata": {
        "id": "xp9bTGfcsWIp"
      }
    },
    {
      "cell_type": "markdown",
      "source": [
        "**How to create a typed Page Object?**\n",
        "\n",
        "        import { WebDriver, By, WebElement } from 'selenium-webdriver';\n",
        "\n",
        "        export class LoginPage {\n",
        "        constructor(private driver: WebDriver) {}\n",
        "        \n",
        "        private get usernameInput(): Promise<WebElement> {\n",
        "            return this.driver.findElement(By.id('username'));\n",
        "        }\n",
        "        \n",
        "        async login(username: string, password: string): Promise<void> {\n",
        "            await (await this.usernameInput).sendKeys(username);\n",
        "        }\n",
        "        }"
      ],
      "metadata": {
        "id": "9Fj1UZuVsqCb"
      }
    },
    {
      "cell_type": "markdown",
      "source": [
        "**How to create typed locators?**\n",
        "\n",
        "        import { By, Locator } from 'selenium-webdriver';\n",
        "\n",
        "        const locators: Record<string, Locator> = {\n",
        "        username: By.id('username'),\n",
        "        password: By.css('[name=\"password\"]'),\n",
        "        submit: By.xpath('//button[@type=\"submit\"]')\n",
        "        };"
      ],
      "metadata": {
        "id": "Ae9-aRXas-pB"
      }
    },
    {
      "cell_type": "markdown",
      "source": [
        "**How to create base test class?**\n",
        "\n",
        "        export abstract class BaseTest {\n",
        "        protected driver!: WebDriver;\n",
        "        \n",
        "        async setup(): Promise<void> {\n",
        "            this.driver = await new Builder().forBrowser('chrome').build();\n",
        "        }\n",
        "        \n",
        "        async teardown(): Promise<void> {\n",
        "            await this.driver.quit();\n",
        "        }\n",
        "        }"
      ],
      "metadata": {
        "id": "TzmybuG-tilP"
      }
    },
    {
      "cell_type": "markdown",
      "source": [
        "**How to type Chrome options?**\n",
        "\n",
        "        import { Options as ChromeOptions } from 'selenium-webdriver/chrome';\n",
        "\n",
        "        const options: ChromeOptions = new ChromeOptions();\n",
        "        options.addArguments('--headless');\n",
        "        options.addArguments('--disable-gpu');"
      ],
      "metadata": {
        "id": "VVy2UTk6t1iB"
      }
    },
    {
      "cell_type": "markdown",
      "source": [
        "**How to type Firefox options?**\n",
        "\n",
        "    import { Options as FirefoxOptions } from 'selenium-webdriver/firefox';\n",
        "\n",
        "    const options: FirefoxOptions = new FirefoxOptions();\n",
        "    options.addArguments('-headless');"
      ],
      "metadata": {
        "id": "hAcqEx4pt6ya"
      }
    },
    {
      "cell_type": "markdown",
      "source": [
        "**How to create typed wait conditions?**\n",
        "\n",
        "    import { until, WebDriver, WebElement } from 'selenium-webdriver';\n",
        "\n",
        "    async function waitForElement(\n",
        "    driver: WebDriver,\n",
        "    locator: Locator,\n",
        "    timeout: number = 5000\n",
        "    ): Promise<WebElement> {\n",
        "    return await driver.wait(until.elementLocated(locator), timeout);\n",
        "    }"
      ],
      "metadata": {
        "id": "H_s4ANyOuCPd"
      }
    },
    {
      "cell_type": "markdown",
      "source": [
        "**How to type browser capabilities?**\n",
        "\n",
        "    import { Capabilities } from 'selenium-webdriver';\n",
        "\n",
        "    const capabilities: Capabilities = new Capabilities();\n",
        "    capabilities.set('browserName', 'chrome');"
      ],
      "metadata": {
        "id": "rW1hfxZGtD--"
      }
    },
    {
      "cell_type": "markdown",
      "source": [
        "**What is Type Script**\n",
        "\n",
        "TypeScript is a superset of JavaScript developed by Microsoft that adds static typing and object-oriented features to JavaScript.\n",
        "It helps developers catch errors during development rather than at runtime, which improves code quality and maintainability.\n",
        "TypeScript code is compiled (or transpiled) into plain JavaScript, so it can run in any browser or JavaScript environment.\n",
        "\n",
        "It supports features like interfaces, classes, generics, and access modifiers, which make it suitable for large-scale enterprise applications.\n",
        "\n",
        "In short, TypeScript combines the flexibility of JavaScript with the reliability of static typing."
      ],
      "metadata": {
        "id": "Gihak47F4-gT"
      }
    },
    {
      "cell_type": "markdown",
      "source": [
        "**Steps to Run TypeScript in Google Colab**"
      ],
      "metadata": {
        "id": "fWkG5YZr3Thz"
      }
    },
    {
      "cell_type": "code",
      "execution_count": 1,
      "metadata": {
        "colab": {
          "base_uri": "https://localhost:8080/"
        },
        "id": "GoFK3gJDd7wp",
        "outputId": "205f2f0a-1542-4a18-c93f-5658bbb3a309",
        "collapsed": true
      },
      "outputs": [
        {
          "output_type": "stream",
          "name": "stdout",
          "text": [
            "Reading package lists... Done\n",
            "Building dependency tree... Done\n",
            "Reading state information... Done\n",
            "Package 'nodejs' is not installed, so not removed\n",
            "0 upgraded, 0 newly installed, 0 to remove and 38 not upgraded.\n",
            "\u001b[38;5;79m2025-10-07 04:28:38 - Installing pre-requisites\u001b[0m\n",
            "Hit:1 http://archive.ubuntu.com/ubuntu jammy InRelease\n",
            "Get:2 http://security.ubuntu.com/ubuntu jammy-security InRelease [129 kB]\n",
            "Get:3 http://archive.ubuntu.com/ubuntu jammy-updates InRelease [128 kB]\n",
            "Get:4 https://cloud.r-project.org/bin/linux/ubuntu jammy-cran40/ InRelease [3,632 B]\n",
            "Get:5 https://developer.download.nvidia.com/compute/cuda/repos/ubuntu2204/x86_64  InRelease [1,581 B]\n",
            "Hit:6 https://cli.github.com/packages stable InRelease\n",
            "Get:7 http://archive.ubuntu.com/ubuntu jammy-backports InRelease [127 kB]\n",
            "Get:8 https://r2u.stat.illinois.edu/ubuntu jammy InRelease [6,555 B]\n",
            "Hit:9 https://ppa.launchpadcontent.net/deadsnakes/ppa/ubuntu jammy InRelease\n",
            "Get:10 https://developer.download.nvidia.com/compute/cuda/repos/ubuntu2204/x86_64  Packages [2,065 kB]\n",
            "Hit:11 https://ppa.launchpadcontent.net/graphics-drivers/ppa/ubuntu jammy InRelease\n",
            "Get:12 http://security.ubuntu.com/ubuntu jammy-security/universe amd64 Packages [1,275 kB]\n",
            "Hit:13 https://ppa.launchpadcontent.net/ubuntugis/ppa/ubuntu jammy InRelease\n",
            "Get:14 http://security.ubuntu.com/ubuntu jammy-security/main amd64 Packages [3,415 kB]\n",
            "Get:15 http://archive.ubuntu.com/ubuntu jammy-updates/universe amd64 Packages [1,580 kB]\n",
            "Get:16 http://archive.ubuntu.com/ubuntu jammy-updates/restricted amd64 Packages [5,922 kB]\n",
            "Get:17 http://archive.ubuntu.com/ubuntu jammy-updates/main amd64 Packages [3,744 kB]\n",
            "Get:18 https://r2u.stat.illinois.edu/ubuntu jammy/main all Packages [9,323 kB]\n",
            "Get:19 https://r2u.stat.illinois.edu/ubuntu jammy/main amd64 Packages [2,809 kB]\n",
            "Fetched 30.5 MB in 3s (9,291 kB/s)\n",
            "Reading package lists... Done\n",
            "W: Skipping acquire of configured file 'main/source/Sources' as repository 'https://r2u.stat.illinois.edu/ubuntu jammy InRelease' does not seem to provide it (sources.list entry misspelt?)\n",
            "Reading package lists... Done\n",
            "Building dependency tree... Done\n",
            "Reading state information... Done\n",
            "ca-certificates is already the newest version (20240203~22.04.1).\n",
            "curl is already the newest version (7.81.0-1ubuntu1.21).\n",
            "gnupg is already the newest version (2.2.27-3ubuntu2.4).\n",
            "gnupg set to manually installed.\n",
            "The following NEW packages will be installed:\n",
            "  apt-transport-https\n",
            "0 upgraded, 1 newly installed, 0 to remove and 42 not upgraded.\n",
            "Need to get 1,510 B of archives.\n",
            "After this operation, 170 kB of additional disk space will be used.\n",
            "Get:1 http://archive.ubuntu.com/ubuntu jammy-updates/universe amd64 apt-transport-https all 2.4.14 [1,510 B]\n",
            "Fetched 1,510 B in 0s (26.1 kB/s)\n",
            "Selecting previously unselected package apt-transport-https.\n",
            "(Reading database ... 126675 files and directories currently installed.)\n",
            "Preparing to unpack .../apt-transport-https_2.4.14_all.deb ...\n",
            "Unpacking apt-transport-https (2.4.14) ...\n",
            "Setting up apt-transport-https (2.4.14) ...\n",
            "Hit:1 http://security.ubuntu.com/ubuntu jammy-security InRelease\n",
            "Hit:2 http://archive.ubuntu.com/ubuntu jammy InRelease\n",
            "Hit:3 http://archive.ubuntu.com/ubuntu jammy-updates InRelease\n",
            "Hit:4 http://archive.ubuntu.com/ubuntu jammy-backports InRelease\n",
            "Hit:5 https://cloud.r-project.org/bin/linux/ubuntu jammy-cran40/ InRelease\n",
            "Hit:6 https://cli.github.com/packages stable InRelease\n",
            "Hit:7 https://developer.download.nvidia.com/compute/cuda/repos/ubuntu2204/x86_64  InRelease\n",
            "Get:8 https://deb.nodesource.com/node_18.x nodistro InRelease [12.1 kB]\n",
            "Hit:9 https://r2u.stat.illinois.edu/ubuntu jammy InRelease\n",
            "Hit:10 https://ppa.launchpadcontent.net/deadsnakes/ppa/ubuntu jammy InRelease\n",
            "Hit:11 https://ppa.launchpadcontent.net/graphics-drivers/ppa/ubuntu jammy InRelease\n",
            "Hit:12 https://ppa.launchpadcontent.net/ubuntugis/ppa/ubuntu jammy InRelease\n",
            "Get:13 https://deb.nodesource.com/node_18.x nodistro/main amd64 Packages [11.7 kB]\n",
            "Fetched 23.9 kB in 1s (17.9 kB/s)\n",
            "Reading package lists... Done\n",
            "W: Skipping acquire of configured file 'main/source/Sources' as repository 'https://r2u.stat.illinois.edu/ubuntu jammy InRelease' does not seem to provide it (sources.list entry misspelt?)\n",
            "\u001b[1;34m2025-10-07 04:28:54 - Repository configured successfully.\u001b[0m\n",
            "\u001b[38;5;79m2025-10-07 04:28:54 - To install Node.js, run: apt-get install nodejs -y\u001b[0m\n",
            "\u001b[38;5;79m2025-10-07 04:28:54 - You can use N|solid Runtime as a node.js alternative\u001b[0m\n",
            "\u001b[1;32m2025-10-07 04:28:54 - To install N|solid Runtime, run: apt-get install nsolid -y \n",
            "\u001b[0m\n",
            "Reading package lists... Done\n",
            "Building dependency tree... Done\n",
            "Reading state information... Done\n",
            "Some packages could not be installed. This may mean that you have\n",
            "requested an impossible situation or if you are using the unstable\n",
            "distribution that some required packages have not yet been created\n",
            "or been moved out of Incoming.\n",
            "The following information may help to resolve the situation:\n",
            "\n",
            "The following packages have unmet dependencies:\n",
            " nodejs : Conflicts: npm\n",
            " npm : Depends: node-cacache but it is not going to be installed\n",
            "       Depends: node-gyp but it is not going to be installed\n",
            "       Depends: node-mkdirp but it is not going to be installed\n",
            "       Depends: node-nopt but it is not going to be installed\n",
            "       Depends: node-tar but it is not going to be installed\n",
            "       Depends: node-which but it is not going to be installed\n",
            "       Depends: nodejs:any (>= 10)\n",
            "       Recommends: node-tap but it is not going to be installed\n",
            "E: Unable to correct problems, you have held broken packages.\n",
            "\u001b[1G\u001b[0K⠙\u001b[1G\u001b[0K⠹\u001b[1G\u001b[0K⠸\u001b[1G\u001b[0K⠼\u001b[1G\u001b[0K⠴\u001b[1G\u001b[0K⠦\u001b[1G\u001b[0K⠧\u001b[1G\u001b[0K⠇\u001b[1G\u001b[0K⠏\u001b[1G\u001b[0K⠋\u001b[1G\u001b[0K⠙\u001b[1G\u001b[0K⠹\u001b[1G\u001b[0K⠸\u001b[1G\u001b[0K⠼\u001b[1G\u001b[0K⠴\u001b[1G\u001b[0K⠦\u001b[1G\u001b[0K⠧\u001b[1G\u001b[0K⠇\u001b[1G\u001b[0K⠏\u001b[1G\u001b[0K⠋\u001b[1G\u001b[0K⠙\u001b[1G\u001b[0K⠹\u001b[1G\u001b[0K⠸\u001b[1G\u001b[0K⠼\u001b[1G\u001b[0K⠴\u001b[1G\u001b[0K⠦\u001b[1G\u001b[0K⠧\u001b[1G\u001b[0K⠇\u001b[1G\u001b[0K⠏\u001b[1G\u001b[0K⠋\u001b[1G\u001b[0K⠙\u001b[1G\u001b[0K⠹\u001b[1G\u001b[0K⠸\u001b[1G\u001b[0K⠼\u001b[1G\u001b[0K⠴\u001b[1G\u001b[0K⠦\u001b[1G\u001b[0K⠧\u001b[1G\u001b[0K\n",
            "added 20 packages in 4s\n",
            "\u001b[1G\u001b[0K⠧\u001b[1G\u001b[0K"
          ]
        }
      ],
      "source": [
        "#_______________________________Install Node.js and TypeScript________________\n",
        "!apt-get remove -y nodejs\n",
        "!curl -fsSL https://deb.nodesource.com/setup_18.x | bash -\n",
        "!apt-get install -y nodejs npm\n",
        "!npm install -g typescript ts-node"
      ]
    },
    {
      "cell_type": "markdown",
      "source": [
        "**Verify Installation**"
      ],
      "metadata": {
        "id": "VSo8xX_z6Zp0"
      }
    },
    {
      "cell_type": "code",
      "source": [
        "!node -v     # should show v18.x or higher\n",
        "!tsc -v      # should show TypeScript version\n",
        "!ts-node -v  # should work"
      ],
      "metadata": {
        "colab": {
          "base_uri": "https://localhost:8080/"
        },
        "id": "Y3HOt-S66YkM",
        "outputId": "6338797b-7ae3-44ce-9db4-0525a5dba3a6"
      },
      "execution_count": 2,
      "outputs": [
        {
          "output_type": "stream",
          "name": "stdout",
          "text": [
            "v20.19.0\n",
            "Version 5.9.3\n",
            "v10.9.2\n"
          ]
        }
      ]
    },
    {
      "cell_type": "markdown",
      "source": [
        "**Create a TypeScript File**"
      ],
      "metadata": {
        "id": "WD9iJwpB4MEB"
      }
    },
    {
      "cell_type": "code",
      "source": [
        "%%writefile hello.ts\n",
        "let message: string = \"Hello from TypeScript in Colab!\";\n",
        "console.log(message);"
      ],
      "metadata": {
        "colab": {
          "base_uri": "https://localhost:8080/"
        },
        "id": "tP1eJXeI4KlD",
        "outputId": "0e670e31-3a03-433c-8859-75637ab10693"
      },
      "execution_count": 3,
      "outputs": [
        {
          "output_type": "stream",
          "name": "stdout",
          "text": [
            "Writing hello.ts\n"
          ]
        }
      ]
    },
    {
      "cell_type": "markdown",
      "source": [
        "**Run the TypeScript File**"
      ],
      "metadata": {
        "id": "MceRdeH64Uwa"
      }
    },
    {
      "cell_type": "code",
      "source": [
        "!tsc hello.ts   # compiles to hello.js\n",
        "!node hello.js  # run compiled JavaScript"
      ],
      "metadata": {
        "colab": {
          "base_uri": "https://localhost:8080/"
        },
        "id": "JujhxCSx4YLE",
        "outputId": "95ea6fc5-25ba-47a6-b336-834e86252eda"
      },
      "execution_count": 4,
      "outputs": [
        {
          "output_type": "stream",
          "name": "stdout",
          "text": [
            "Hello from TypeScript in Colab!\n"
          ]
        }
      ]
    },
    {
      "cell_type": "markdown",
      "source": [
        "**Variable in Type Script**\n",
        "\n",
        "In TypeScript (and JavaScript), variables are used to store data values.\n",
        "TypeScript supports three main keywords to declare variables:\n",
        "\n",
        "👉 var, let, and const.\n",
        "\n",
        "Diffrence between var Let and const\n",
        "\n",
        "var doesn’t have block scope, only function scope, so message inside if overwrites the outer one.\n",
        "\n",
        "let has block scope, so the inner message doesn’t affect the outer one.\n",
        "\n",
        "const makes the reference immutable, not the object itself.\n",
        "\n"
      ],
      "metadata": {
        "id": "smY3PDG45Pfm"
      }
    },
    {
      "cell_type": "markdown",
      "source": [
        "**TypeScript Variables Overview**\n",
        "\n",
        "| Keyword | Scope           | Can Reassign | Can Redeclare |\n",
        "| ------- | --------------- | ------------ | ------------- |\n",
        "| `var`   | Function/global | ✅            | ✅             |\n",
        "| `let`   | Block           | ✅            | ❌             |\n",
        "| `const` | Block           | ❌            | ❌             |\n",
        "\n",
        "    let age: number = 25;\n",
        "    age = 30; // OK\n",
        "\n",
        "    const PI: number = 3.14159;\n",
        "\n",
        "    var name: string = \"Alice\";\n",
        "    name = \"Bob\"; // OK\n",
        "\n"
      ],
      "metadata": {
        "id": "y0Ts2wm27Emd"
      }
    },
    {
      "cell_type": "markdown",
      "source": [
        "**Example of Variable in scope**\n",
        "\n"
      ],
      "metadata": {
        "id": "g0LlIFRL7UMI"
      }
    },
    {
      "cell_type": "code",
      "source": [
        "#______________________Examples of Scope of var Types __________________________\n",
        "\n",
        "%%writefile VariableScope.ts\n",
        "\n",
        "// Examples of Scope of var Types\n",
        "\n",
        "console.log(\"Examples of Scope of var Types\")\n",
        "function exampleVar() {\n",
        "  var message = \"Hello\";\n",
        "  if (true) {\n",
        "    var message = \"Hi\"; // same variable (no block scope)\n",
        "  }\n",
        "  console.log(message); // Output: Hi\n",
        "}\n",
        "exampleVar();\n",
        "\n",
        "// Examples of Scope of let  Types\n",
        "\n",
        "console.log(\"Examples of Scope of let Types\")\n",
        "function exampleLet() {\n",
        "  let message = \"Hello\";\n",
        "  if (true) {\n",
        "    let message = \"Hi\"; // different variable (block scope)\n",
        "    console.log(message); // Output: Hi\n",
        "  }\n",
        "  console.log(message); // Output: Hello\n",
        "}\n",
        "exampleLet();\n",
        "\n",
        "console.log(\"Examples of Scope of const Types\")\n",
        "const PI = 3.14;\n",
        "PI = 3.14159; // ❌ Error: Cannot reassign a const\n",
        "\n",
        "const person = { name: \"Animesh\", age: 25 };\n",
        "person.age = 26; // ✅ allowed (object properties can be changed)\n",
        "\n"
      ],
      "metadata": {
        "colab": {
          "base_uri": "https://localhost:8080/"
        },
        "id": "SirCfoRO7xBB",
        "outputId": "033666fd-2d65-49c8-bc69-a0a1bec93ec2"
      },
      "execution_count": 15,
      "outputs": [
        {
          "output_type": "stream",
          "name": "stdout",
          "text": [
            "Overwriting VariableScope.ts\n"
          ]
        }
      ]
    },
    {
      "cell_type": "code",
      "source": [
        "!tsc VariableScope.ts   # compiles to hello.js\n",
        "!node VariableScope.js  # run compiled JavaScript"
      ],
      "metadata": {
        "colab": {
          "base_uri": "https://localhost:8080/"
        },
        "id": "qZs3M6St8Agv",
        "outputId": "e00e2c7b-bebe-4ebf-97f6-3e69592d73f3"
      },
      "execution_count": 16,
      "outputs": [
        {
          "output_type": "stream",
          "name": "stdout",
          "text": [
            "\u001b[96mVariableScope.ts\u001b[0m:\u001b[93m29\u001b[0m:\u001b[93m1\u001b[0m - \u001b[91merror\u001b[0m\u001b[90m TS2588: \u001b[0mCannot assign to 'PI' because it is a constant.\n",
            "\n",
            "\u001b[7m29\u001b[0m PI = 3.14159; // ❌ Error: Cannot reassign a const\n",
            "\u001b[7m  \u001b[0m \u001b[91m~~\u001b[0m\n",
            "\n",
            "\n",
            "Found 1 error in VariableScope.ts\u001b[90m:29\u001b[0m\n",
            "\n",
            "Examples of Scope of var Types\n",
            "Hi\n",
            "Examples of Scope of let Types\n",
            "Hi\n",
            "Hello\n",
            "Examples of Scope of const Types\n"
          ]
        }
      ]
    },
    {
      "cell_type": "markdown",
      "source": [
        "** Data Type Annotations**\n",
        "\n",
        "| **Data Type** | **Description**                                       | **Example**                                                     | **Notes**                                            |\n",
        "| ------------- | ----------------------------------------------------- | --------------------------------------------------------------- | ---------------------------------------------------- |\n",
        "| **number**    | Numeric values (integers & floats)                    | `let age: number = 25;`                                         | Supports decimal, hex, binary, octal                 |\n",
        "| **string**    | Textual data                                          | `let name: string = \"Alice\";`                                   | Use single, double, or backticks (template literals) |\n",
        "| **boolean**   | True/False values                                     | `let isActive: boolean = true;`                                 | Only `true` or `false`                               |\n",
        "| **any**       | Any type of value                                     | `let data: any = 10; data = \"Hi\";`                              | Avoid if possible, disables type checking            |\n",
        "| **unknown**   | Unknown type, safer alternative to `any`              | `let val: unknown = 5;`                                         | Must type-check before using                         |\n",
        "| **array**     | List of elements of same type                         | `let nums: number[] = [1,2,3];`                                 | Can also use `Array<number>` syntax                  |\n",
        "| **tuple**     | Fixed-length array with multiple types                | `let person: [string, number] = [\"Bob\",30];`                    | Access elements by index                             |\n",
        "| **enum**      | Named constants                                       | `enum Color {Red, Green, Blue}; let c: Color = Color.Green;`    | Default values start at 0                            |\n",
        "| **object**    | Key-value pairs or objects                            | `let user: {name:string, age:number} = {name:\"Alice\", age:25};` | Can define custom structure                          |\n",
        "| **bigint**    | Large integers beyond `number` limit                  | `let big: bigint = 12345678901234567890n;`                      | Add `n` suffix                                       |\n",
        "| **symbol**    | Unique identifiers                                    | `const sym: symbol = Symbol(\"id\");`                             | Always unique                                        |\n",
        "| **null**      | Represents absence of a value                         | `let n: null = null;`                                           | Often used with union types                          |\n",
        "| **undefined** | Variable declared but not assigned                    | `let u: undefined;`                                             | Default uninitialized state                          |\n",
        "| **void**      | Usually function return type when nothing is returned | `function log(): void { console.log(\"Hi\"); }`                   | Cannot be assigned to variables                      |\n",
        "| **never**     | Represents unreachable code or exceptions             | `function error(): never { throw new Error(\"Fail\"); }`          | Useful for exhaustive checks                         |\n",
        "\n"
      ],
      "metadata": {
        "id": "8GnD6cYl87JS"
      }
    },
    {
      "cell_type": "code",
      "source": [
        "#______________________Examples of Variable Types_____________________________\n",
        "\n",
        "%%writefile Variable.ts\n",
        "\n",
        "// Number\n",
        "let price: number = 100;\n",
        "\n",
        "console.log(price);\n",
        "\n",
        "// String\n",
        "let greeting: string = \"Hello\";\n",
        "\n",
        "console.log(greeting);\n",
        "\n",
        "// Boolean\n",
        "let isActive: boolean = true;\n",
        "\n",
        "console.log(isActive);\n",
        "\n",
        "// Any\n",
        "let data: any = 42;\n",
        "data = \"Hello\"; // OK\n",
        "\n",
        "console.log(data);\n",
        "\n",
        "// Array\n",
        "let numbers: number[] = [1, 2, 3];\n",
        "let fruits: Array<string> = [\"Apple\", \"Banana\"];\n",
        "\n",
        "console.log(numbers);\n",
        "console.log(fruits);\n",
        "\n",
        "// Tuple\n",
        "let person: [string, number] = [\"Alice\", 30];\n",
        "\n",
        "console.log(person);\n",
        "\n",
        "// Enum\n",
        "enum Color {Red, Green, Blue}\n",
        "let c: Color = Color.Green;\n",
        "\n",
        "console.log(Color);\n",
        "\n",
        "// Object\n",
        "let user: {name: string, age: number} = {name: \"Bob\", age: 25};\n",
        "\n",
        "console.log(user);"
      ],
      "metadata": {
        "colab": {
          "base_uri": "https://localhost:8080/"
        },
        "id": "pCbJ5GUF9KtY",
        "outputId": "45f14d22-ba4e-4cc3-d7f2-685ba34005e4"
      },
      "execution_count": null,
      "outputs": [
        {
          "output_type": "stream",
          "name": "stdout",
          "text": [
            "Writing Variable.ts\n"
          ]
        }
      ]
    },
    {
      "cell_type": "code",
      "source": [
        "!tsc Variable.ts   # compiles to hello.js\n",
        "!node Variable.js  # run compiled JavaScript"
      ],
      "metadata": {
        "colab": {
          "base_uri": "https://localhost:8080/"
        },
        "id": "UQviYKE9Cb5K",
        "outputId": "de16f2de-aec6-4ece-91c5-0bcf3d2f33da"
      },
      "execution_count": null,
      "outputs": [
        {
          "output_type": "stream",
          "name": "stdout",
          "text": [
            "\u001b[33m100\u001b[39m\n",
            "Hello\n",
            "\u001b[33mtrue\u001b[39m\n",
            "Hello\n",
            "[ \u001b[33m1\u001b[39m, \u001b[33m2\u001b[39m, \u001b[33m3\u001b[39m ]\n",
            "[ \u001b[32m'Apple'\u001b[39m, \u001b[32m'Banana'\u001b[39m ]\n",
            "[ \u001b[32m'Alice'\u001b[39m, \u001b[33m30\u001b[39m ]\n",
            "{ \u001b[32m'0'\u001b[39m: \u001b[32m'Red'\u001b[39m, \u001b[32m'1'\u001b[39m: \u001b[32m'Green'\u001b[39m, \u001b[32m'2'\u001b[39m: \u001b[32m'Blue'\u001b[39m, Red: \u001b[33m0\u001b[39m, Green: \u001b[33m1\u001b[39m, Blue: \u001b[33m2\u001b[39m }\n",
            "{ name: \u001b[32m'Bob'\u001b[39m, age: \u001b[33m25\u001b[39m }\n"
          ]
        }
      ]
    },
    {
      "cell_type": "markdown",
      "source": [
        "** All Operators in TypeScript**\n",
        "\n",
        "| **Category**              | **Operators**                                                                     | **Example**                                       |\n",
        "| ------------------------- | --------------------------------------------------------------------------------- | ------------------------------------------------- |\n",
        "| **Arithmetic Operators**  | `+`, `-`, `*`, `/`, `%`, `**`                                                     | `10 % 3 // 1`, `2 ** 3 // 8`                      |\n",
        "| **Unary Operators**       | `+`, `-`, `++`, `--`, `~`, `!`                                                    | `let y = -x;`, `!true // false`                   |\n",
        "| **Assignment Operators**  | `=`, `+=`, `-=`, `*=`, `/=`, `%=`, `**=`, `<<=`, `>>=`, `>>>=`, `&=`, `^=`, `\\|=` | `x += 5;`, `a <<= 2;`                             |\n",
        "| **Comparison Operators**  | `==`, `===`, `!=`, `!==`, `>`, `<`, `>=`, `<=`                                    | `5 === \"5\" // false`                              |\n",
        "| **Logical Operators**     | `&&`, `\\|\\|`, `!`                                                                 | `(x > 0 && y > 0)`                                |\n",
        "| **Bitwise Operators**     | `&`, `\\|`, `^`, `~`, `<<`, `>>`, `>>>`                                            | `5 & 1 // 1`, `5 >> 1 // 2`                       |\n",
        "| **Conditional (Ternary)** | `condition ? expr1 : expr2`                                                       | `(age >= 18) ? \"Adult\" : \"Minor\"`                 |\n",
        "| **String Operator**       | `+` (concatenation)                                                               | `\"Hello \" + \"World\"`                              |\n",
        "| **Type Operators**        | `typeof`, `instanceof`                                                            | `typeof \"abc\" // \"string\"`, `obj instanceof Date` |\n",
        "| **Nullish Coalescing**    | `??`                                                                              | `let user = name ?? \"Guest\";`                     |\n",
        "| **Optional Chaining**     | `?.`                                                                              | `user?.address?.city`                             |\n",
        "| **Spread / Rest**         | `...`                                                                             | `let arr = [...nums];`                            |\n",
        "| **Destructuring**         | `=` with `{}` / `[]`                                                              | `const {a, b} = obj;`                             |\n",
        "| **Comma Operator**        | `,`                                                                               | `let x = (1, 2, 3); // 3`                         |\n",
        "| **Delete Operator**       | `delete`                                                                          | `delete obj.key;`                                 |\n",
        "| **In Operator**           | `in`                                                                              | `\"name\" in person // true`                        |\n",
        "| **New Operator**          | `new`                                                                             | `let d = new Date();`                             |\n",
        "| **Void Operator**         | `void`                                                                            | `void 0 // undefined`                             |\n",
        "| **Type Assertions**       | `as`, `<type>`                                                                    | `let val = someVar as string;`                    |\n",
        "| **Non-Null Assertion**    | `!` (postfix)                                                                     | `user!.id` (asserts `user` is not null/undefined) |\n",
        "| **Await Operator**        | `await`                                                                           | `let data = await fetch(url);`                    |\n",
        "| **Yield Operator**        | `yield`, `yield*`                                                                 | Used in generator functions                       |\n"
      ],
      "metadata": {
        "id": "GzuQLBnXPMAC"
      }
    },
    {
      "cell_type": "markdown",
      "source": [
        "**Conditional Statements in TypeScript**\n",
        "\n",
        "| **Statement**                                 | **Syntax**                                                                        | **Example**                                                                                                                                              |                                                                               |\n",
        "| --------------------------------------------- | --------------------------------------------------------------------------------- | -------------------------------------------------------------------------------------------------------------------------------------------------------- | ----------------------------------------------------------------------------- |\n",
        "| **`if` statement**                            | `ts if (condition) { ... } `                                                      | `ts let age = 18; if (age >= 18) { console.log(\"Adult\"); } `                                                                                             |                                                                               |\n",
        "| **`if-else` statement**                       | `ts if (condition) { ... } else { ... } `                                         | `ts let age = 16; if (age >= 18) { console.log(\"Adult\"); } else { console.log(\"Minor\"); } `                                                              |                                                                               |\n",
        "| **`if-else if` ladder**                       | `ts if (cond1) { ... } else if (cond2) { ... } else { ... } `                     | `ts let marks = 75; if (marks >= 90) { console.log(\"A\"); } else if (marks >= 60) { console.log(\"B\"); } else { console.log(\"C\"); } `                      |                                                                               |\n",
        "| **`switch` statement**                        | `ts switch(expr) { case val1: ...; break; case val2: ...; break; default: ... } ` | `ts let color = \"red\"; switch(color) { case \"red\": console.log(\"Stop\"); break; case \"green\": console.log(\"Go\"); break; default: console.log(\"Wait\"); } ` |                                                                               |\n",
        "| **Ternary Operator** (conditional expression) | `ts condition ? expr1 : expr2 `                                                   | `ts let age = 20; let type = (age >= 18) ? \"Adult\" : \"Minor\"; console.log(type); `                                                                       |                                                                               |\n",
        "| **Optional Chaining (`?.`)**                  | `ts obj?.property `                                                               | `ts let user = {name: \"Alice\"}; console.log(user?.name); // \"Alice\" console.log(user?.address?.city); // undefined `                                     |                                                                               |\n",
        "| **Nullish Coalescing (`??`)**                 | `ts value ?? defaultValue `                                                       | \\`\\`\\`ts let name: string                                                                                                                                | null = null; let user = name ?? \"Guest\"; console.log(user); // \"Guest\" \\`\\`\\` |\n"
      ],
      "metadata": {
        "id": "F2fhntsvPo6W"
      }
    },
    {
      "cell_type": "code",
      "source": [
        "#______________________Examples of Conditional Statements in TypeScript_________\n",
        "\n",
        "%%writefile ConditionalStatements.ts\n",
        "\n",
        "//__________if statement_______________-\n",
        "\n",
        "let age1 = 18;\n",
        "if (age1 >= 18) {\n",
        "    console.log(\"Adult\");\n",
        "     }\n",
        "\n",
        "//_______________if-else statement_______________\n",
        "\n",
        "age1 = 16;\n",
        "if (age1 >= 18)\n",
        "{\n",
        "    console.log(\"Adult\");\n",
        "    }\n",
        "else {\n",
        "    console.log(\"Minor\");\n",
        "    }\n",
        "\n",
        "\n",
        "//________________________if-else if_______________\n",
        "\n",
        "let marks = 75;\n",
        "\n",
        "if (marks >= 90) {\n",
        "    console.log(\"A\");\n",
        "     }\n",
        "else if (marks >= 60) {\n",
        "    console.log(\"B\");\n",
        "    }\n",
        "else {\n",
        "     console.log(\"C\");\n",
        "     }\n",
        "\n",
        "//_________________switch statement_______________\n",
        "\n",
        "let color = \"red\";\n",
        "switch(color) {\n",
        "    case \"red\":\n",
        "    console.log(\"Stop\");\n",
        "    break;\n",
        "    case \"green\":\n",
        "    console.log(\"Go\");\n",
        "    break; default:\n",
        "    console.log(\"Wait\"); }\n",
        "\n",
        "//______________________Ternary Operator (conditional expression)_______________________________Install\n",
        "\n",
        "age1 = 20;\n",
        "let type = (age1 >= 18) ? \"Adult\" : \"Minor\";\n",
        "console.log(type);\n",
        "\n",
        "//__________________________Optional Chaining (?.)_______________________________Install\n",
        "\n",
        "type User = {\n",
        "  name: string;\n",
        "  address?: {\n",
        "    city?: string;\n",
        "    zip?: number;\n",
        "  };\n",
        "};\n",
        "\n",
        "let user1: User = { name: \"Alice\", address: { city: \"Delhi\" } };\n",
        "let user2: User = { name: \"Bob\" };\n",
        "\n",
        "console.log(user1.address?.city); // \"Delhi\"\n",
        "console.log(user2.address?.city); // undefined (no error, safe)\n"
      ],
      "metadata": {
        "colab": {
          "base_uri": "https://localhost:8080/"
        },
        "id": "Ic4LUvXqPzGm",
        "outputId": "76500dcb-bb9e-4d13-a465-329baf86bfe3"
      },
      "execution_count": null,
      "outputs": [
        {
          "output_type": "stream",
          "name": "stdout",
          "text": [
            "Overwriting ConditionalStatements.ts\n"
          ]
        }
      ]
    },
    {
      "cell_type": "code",
      "source": [
        "!tsc ConditionalStatements.ts   # compiles to hello.js\n",
        "!node ConditionalStatements.js  # run compiled JavaScript"
      ],
      "metadata": {
        "colab": {
          "base_uri": "https://localhost:8080/"
        },
        "id": "zHTzBqiyRPi6",
        "outputId": "355eaa6e-1a46-4f94-ff24-b016fb4c306e"
      },
      "execution_count": null,
      "outputs": [
        {
          "output_type": "stream",
          "name": "stdout",
          "text": [
            "Adult\n",
            "Minor\n",
            "B\n",
            "Stop\n",
            "Adult\n",
            "Delhi\n",
            "\u001b[90mundefined\u001b[39m\n"
          ]
        }
      ]
    },
    {
      "cell_type": "markdown",
      "source": [
        "**Types of Loops in TypeScript**\n",
        "\n",
        "| Loop Type    | Description                                                  | Example                                                      |\n",
        "| ------------ | ------------------------------------------------------------ | ------------------------------------------------------------ |\n",
        "| **for**      | Runs a block of code a specific number of times.             | `for (let i = 0; i < 5; i++) { console.log(i); }`            |\n",
        "| **for…of**   | Iterates over values of an iterable (arrays, strings, etc.). | `for (let num of [10, 20, 30]) { console.log(num); }`        |\n",
        "| **for…in**   | Iterates over the keys (properties) of an object.            | `for (let key in person) { console.log(key, person[key]); }` |\n",
        "| **while**    | Runs while a condition is true.                              | `let i = 0; while (i < 5) { console.log(i); i++; }`          |\n",
        "| **do…while** | Runs at least once, then continues while condition is true.  | `let i = 0; do { console.log(i); i++; } while (i < 5);`      |\n"
      ],
      "metadata": {
        "id": "HgfJGdrvU4U0"
      }
    },
    {
      "cell_type": "markdown",
      "source": [
        "Use for when you know the number of iterations.\n",
        "\n",
        "Use for…of for arrays and iterable values.\n",
        "\n",
        "Use for…in for object properties.\n",
        "\n",
        "Use while when the number of iterations is unknown.\n",
        "\n",
        "Use do…while when you want the loop to run at least once"
      ],
      "metadata": {
        "id": "bzVxCYhWV8za"
      }
    },
    {
      "cell_type": "code",
      "source": [
        "#______________________Examples of  Loops in TypeScript _________\n",
        "\n",
        "%%writefile LoopsinTypeScript.ts\n",
        "\n",
        "//__________________________________________for__________________\n",
        "\n",
        "console.log(\"For Loop:\\n\");\n",
        "\n",
        "for (let i = 1; i <= 5; i++) {\n",
        "  console.log(\"Number:\", i);\n",
        "}\n",
        "//for…of\n",
        "\n",
        "console.log(\"\\nFor…of Loop:\\n\");\n",
        "\n",
        "let colors: string[] = [\"Red\", \"Green\", \"Blue\"];\n",
        "\n",
        "for (let color of colors) {\n",
        "  console.log(color);\n",
        "}\n",
        "\n",
        "//_______________________________________for…in_______________________\n",
        "\n",
        "console.log(\"\\nFor…in Loop:\\n\");\n",
        "\n",
        "let person = { name: \"Alice\", age: 25, city: \"Delhi\" };\n",
        "\n",
        "for (let key in person) {\n",
        "  console.log(key, \":\", person[key as keyof typeof person]);\n",
        "}\n",
        "\n",
        " //___________________________________while__________________\n",
        "\n",
        " console.log(\"\\nWhile Loop:\\n\");\n",
        "\n",
        " let i: number = 0;\n",
        "\n",
        "while (i < 3) {\n",
        "  console.log(\"Count:\", i);\n",
        "  i++;\n",
        "}\n",
        "\n",
        "//________________________________do…while loop_________________\n",
        "\n",
        "console.log(\"\\nDo…While Loop:\\n\");\n",
        "\n",
        "let j: number = 0;\n",
        "\n",
        "do {\n",
        "  console.log(\"DoWhile Count:\", j);\n",
        "  j++;\n",
        "} while (j < 3);"
      ],
      "metadata": {
        "colab": {
          "base_uri": "https://localhost:8080/"
        },
        "id": "MLT8nvaPVBYu",
        "outputId": "3b80a67d-466c-4340-fbad-5b4b88145485"
      },
      "execution_count": null,
      "outputs": [
        {
          "output_type": "stream",
          "name": "stdout",
          "text": [
            "Overwriting LoopsinTypeScript.ts\n"
          ]
        }
      ]
    },
    {
      "cell_type": "code",
      "source": [
        "!tsc LoopsinTypeScript.ts   # compiles to hello.js\n",
        "!node LoopsinTypeScript.js  # run compiled JavaScript"
      ],
      "metadata": {
        "colab": {
          "base_uri": "https://localhost:8080/"
        },
        "id": "UN7PcNeAWN2F",
        "outputId": "50187b14-4f79-411f-a832-3a30d9e82a9c"
      },
      "execution_count": null,
      "outputs": [
        {
          "output_type": "stream",
          "name": "stdout",
          "text": [
            "For Loop:\n",
            "\n",
            "Number: \u001b[33m1\u001b[39m\n",
            "Number: \u001b[33m2\u001b[39m\n",
            "Number: \u001b[33m3\u001b[39m\n",
            "Number: \u001b[33m4\u001b[39m\n",
            "Number: \u001b[33m5\u001b[39m\n",
            "\n",
            "For…of Loop:\n",
            "\n",
            "Red\n",
            "Green\n",
            "Blue\n",
            "\n",
            "For…in Loop:\n",
            "\n",
            "name : Alice\n",
            "age : \u001b[33m25\u001b[39m\n",
            "city : Delhi\n",
            "\n",
            "While Loop:\n",
            "\n",
            "Count: \u001b[33m0\u001b[39m\n",
            "Count: \u001b[33m1\u001b[39m\n",
            "Count: \u001b[33m2\u001b[39m\n",
            "\n",
            "Do…While Loop:\n",
            "\n",
            "DoWhile Count: \u001b[33m0\u001b[39m\n",
            "DoWhile Count: \u001b[33m1\u001b[39m\n",
            "DoWhile Count: \u001b[33m2\u001b[39m\n"
          ]
        }
      ]
    },
    {
      "cell_type": "markdown",
      "source": [
        "**Functions in TypeScript**\n",
        "\n",
        "**Function Declaration**\n",
        "\n",
        "    function greet(name: string): string {\n",
        "    return `Hello, ${name}`;\n",
        "    }\n",
        "\n",
        "    console.log(greet(\"Alice\")); // Hello, Alice\n",
        "\n",
        "name: string → parameter type\n",
        "\n",
        ": string → return type\n",
        "\n",
        "\n",
        "**Function Expression**\n",
        "\n",
        "    const add = function (a: number, b: number): number {\n",
        "    return a + b;\n",
        "    };\n",
        "\n",
        "    console.log(add(5, 3)); // 8\n",
        "\n",
        "\n",
        "**Arrow Function**\n",
        "\n",
        "    const multiply = (x: number, y: number): number => x * y;\n",
        "\n",
        "    console.log(multiply(4, 2)); // 8\n",
        "\n",
        "**Optional Parameters (?)**\n",
        "\n",
        "    function printMessage(message: string, user?: string): void {\n",
        "    console.log(user ? `${user}: ${message}` : message);\n",
        "    }\n",
        "\n",
        "    printMessage(\"Hello\");           // Hello\n",
        "    printMessage(\"Hello\", \"Alice\");  // Alice: Hello\n",
        "\n",
        "\n",
        "**Default Parameters**\n",
        "\n",
        "    function greetUser(name: string = \"Guest\"): string {\n",
        "    return `Welcome, ${name}`;\n",
        "    }\n",
        "\n",
        "    console.log(greetUser());        // Welcome, Guest\n",
        "    console.log(greetUser(\"Bob\"));   // Welcome, Bob\n",
        "\n",
        "\n",
        "**Function with void (no return value)**\n",
        "\n",
        "    function logMessage(msg: string): void {\n",
        "    console.log(\"Log:\", msg);\n",
        "    }\n",
        "\n",
        "    logMessage(\"System started\"); // Log: System started\n",
        "\n"
      ],
      "metadata": {
        "id": "HZqroZ1ZXmzd"
      }
    },
    {
      "cell_type": "code",
      "source": [
        "#______________________Examples of  Functions TypeScript _________\n",
        "\n",
        "%%writefile functions.ts\n",
        "\n",
        "console.log(\"_______________________Function Declaration__________________\")\n",
        "\n",
        "function greet(name: string): string {\n",
        "  return `Hello, ${name}`;\n",
        "}\n",
        "\n",
        "console.log(greet(\"Alice\")); // Hello, Alice\n",
        "\n",
        "console.log(\"_______________________Function optional parameter______________\")\n",
        "\n",
        "function printMessage(message: string, user?: string): void {\n",
        "  console.log(user ? `${user}: ${message}` : message);\n",
        "}\n",
        "\n",
        "printMessage(\"Hello\");           // Hello\n",
        "printMessage(\"Hello\", \"Alice\");  // Alice: Hello\n",
        "\n",
        "console.log(\"___________Function Default Parameters______________\")\n",
        "\n",
        "function greetUser(name: string = \"Guest\"): string {\n",
        "  return `Welcome, ${name}`;\n",
        "}\n",
        "\n",
        "console.log(greetUser());        // Welcome, Guest\n",
        "console.log(greetUser(\"Bob\"));   // Welcome, Bob\n",
        "\n",
        "console.log(\"_______________________Function with void__________________\")\n",
        "\n",
        "function logMessage(msg: string): void {\n",
        "  console.log(\"Log:\", msg);\n",
        "}\n",
        "\n",
        "logMessage(\"System started\"); // Log: System started\n",
        "\n",
        "\n",
        "console.log(\"_______________________Function Types (type alias)__________________\")\n",
        "\n",
        "type MathOperation = (a: number, b: number) => number;\n",
        "\n",
        "const subtract: MathOperation = (a, b) => a - b;\n",
        "\n",
        "console.log(subtract(10, 5)); // 5\n",
        "\n"
      ],
      "metadata": {
        "colab": {
          "base_uri": "https://localhost:8080/"
        },
        "id": "tKna8nWPsGJb",
        "outputId": "08dbcefc-6357-4708-83fa-722022628e36"
      },
      "execution_count": null,
      "outputs": [
        {
          "output_type": "stream",
          "name": "stdout",
          "text": [
            "Overwriting functions.ts\n"
          ]
        }
      ]
    },
    {
      "cell_type": "code",
      "source": [
        "!tsc functions.ts   # compiles to hello.js\n",
        "!node functions.js  # run compiled JavaScript"
      ],
      "metadata": {
        "colab": {
          "base_uri": "https://localhost:8080/"
        },
        "id": "xgz9330HtGQ5",
        "outputId": "867ea723-124a-4c21-b90a-15618a7a4258"
      },
      "execution_count": null,
      "outputs": [
        {
          "output_type": "stream",
          "name": "stdout",
          "text": [
            "_______________________Function Declaration__________________\n",
            "Hello, Alice\n",
            "_______________________Function optional parameter______________\n",
            "Hello\n",
            "Alice: Hello\n",
            "___________Function Default Parameters______________\n",
            "Welcome, Guest\n",
            "Welcome, Bob\n",
            "_______________________Function with void__________________\n",
            "Log: System started\n",
            "_______________________Function Types (type alias)__________________\n",
            "\u001b[33m5\u001b[39m\n"
          ]
        }
      ]
    },
    {
      "cell_type": "markdown",
      "source": [
        "**Arrays in TypeScript**\n",
        "\n",
        "An array is a collection of elements of the same type.\n",
        "In TypeScript, you can define arrays with type annotations.\n",
        "\n",
        "    let numbers: number[] = [1, 2, 3, 4, 5];\n",
        "    let fruits: string[] = [\"Apple\", \"Banana\", \"Mango\"];"
      ],
      "metadata": {
        "id": "BNnRbmtovZLB"
      }
    },
    {
      "cell_type": "code",
      "source": [
        "#______________________Examples of  Functions TypeScript _________\n",
        "\n",
        "%%writefile array.ts\n",
        "\n",
        "// ____________________________________Array Declaration_________________\n",
        "\n",
        "// ____________________________________Using type[]______________________\n",
        "\n",
        "let numbers: number[] = [1, 2, 3, 4, 5];\n",
        "let fruits: string[] = [\"Apple\", \"Banana\", \"Mango\"];\n",
        "\n",
        "//___________________________________Using Array<type>____________________\n",
        "\n",
        "let ids: Array<number> = [101, 102, 103];\n",
        "let names: Array<string> = [\"Alice\", \"Bob\", \"Charlie\"];\n",
        "\n",
        "//______________________________Mixed-Type Arrays (using any)______________\n",
        "\n",
        "let mixed: any[] = [1, \"Hello\", true, { id: 1 }];\n",
        "\n",
        "//____________________________Iterating Over Arrays_________________\n",
        "\n",
        "let nums: number[] = [10, 20, 30];\n",
        "for (let i = 0; i < nums.length; i++) {\n",
        "  console.log(nums[i]);\n",
        "}\n",
        "\n",
        "\n",
        "//________________________________for…of loop______________________\n",
        "\n",
        "for (let num of nums) {\n",
        "  console.log(num);\n",
        "}\n",
        "\n",
        "//_______________________________forEach method___________________\n",
        "\n",
        "nums.forEach((n) => console.log(n));\n",
        "\n",
        "\n",
        "//____________________________Array of Objects_____________________\n",
        "\n",
        "type Student = { id: number; name: string };\n",
        "\n",
        "let students: Student[] = [\n",
        "  { id: 1, name: \"Alice\" },\n",
        "  { id: 2, name: \"Bob\" }\n",
        "];\n",
        "\n",
        "students.forEach(s => console.log(s.id, s.name));\n",
        "\n",
        "//____________________________-Array Methods (common ones)______________\n",
        "\n",
        "let colors: string[] = [\"Red\", \"Green\", \"Blue\"];\n",
        "\n",
        "colors.push(\"Yellow\");   // Add element\n",
        "console.log(colors);     // [\"Red\", \"Green\", \"Blue\", \"Yellow\"]\n",
        "\n",
        "colors.pop();            // Remove last\n",
        "console.log(colors);     // [\"Red\", \"Green\", \"Blue\"]\n",
        "\n",
        "console.log(colors.length); // 3\n",
        "\n",
        "// console.log(colors.includes(\"Red\")); // true"
      ],
      "metadata": {
        "colab": {
          "base_uri": "https://localhost:8080/"
        },
        "id": "b8VQUZDf0Ao4",
        "outputId": "63693960-9be4-4279-9407-7bd7f5ab12e9"
      },
      "execution_count": null,
      "outputs": [
        {
          "output_type": "stream",
          "name": "stdout",
          "text": [
            "Overwriting array.ts\n"
          ]
        }
      ]
    },
    {
      "cell_type": "code",
      "source": [
        "!tsc array.ts   # compiles to hello.js\n",
        "!node array.js  # run compiled JavaScript"
      ],
      "metadata": {
        "colab": {
          "base_uri": "https://localhost:8080/"
        },
        "id": "A94I1hJJ1qKe",
        "outputId": "b8f4900d-a48a-4b09-e4f5-92541fc6dbd9"
      },
      "execution_count": null,
      "outputs": [
        {
          "output_type": "stream",
          "name": "stdout",
          "text": [
            "\u001b[33m10\u001b[39m\n",
            "\u001b[33m20\u001b[39m\n",
            "\u001b[33m30\u001b[39m\n",
            "\u001b[33m10\u001b[39m\n",
            "\u001b[33m20\u001b[39m\n",
            "\u001b[33m30\u001b[39m\n",
            "\u001b[33m10\u001b[39m\n",
            "\u001b[33m20\u001b[39m\n",
            "\u001b[33m30\u001b[39m\n",
            "\u001b[33m1\u001b[39m Alice\n",
            "\u001b[33m2\u001b[39m Bob\n",
            "[ \u001b[32m'Red'\u001b[39m, \u001b[32m'Green'\u001b[39m, \u001b[32m'Blue'\u001b[39m, \u001b[32m'Yellow'\u001b[39m ]\n",
            "[ \u001b[32m'Red'\u001b[39m, \u001b[32m'Green'\u001b[39m, \u001b[32m'Blue'\u001b[39m ]\n",
            "\u001b[33m3\u001b[39m\n"
          ]
        }
      ]
    },
    {
      "cell_type": "markdown",
      "source": [
        "**All Strings opearations in type scripts**\n",
        "\n",
        "| Operation                | Example                              | Output                   |\n",
        "| ------------------------ | ------------------------------------ | ------------------------ |\n",
        "| **charAt(index)**        | `str.charAt(0)`                      | `\"H\"`                    |\n",
        "| **charCodeAt(index)**    | `str.charCodeAt(0)`                  | `72`                     |\n",
        "| **at(index)**            | `str.at(-1)`                         | `\"t\"`                    |\n",
        "| **concat()**             | `\"Hello\".concat(\" World\")`           | `\"Hello World\"`          |\n",
        "| **includes()**           | `str.includes(\"Type\")`               | `true`                   |\n",
        "| **indexOf()**            | `str.indexOf(\"o\")`                   | `4`                      |\n",
        "| **lastIndexOf()**        | `str.lastIndexOf(\"o\")`               | `7`                      |\n",
        "| **startsWith()**         | `str.startsWith(\"Hello\")`            | `true`                   |\n",
        "| **endsWith()**           | `str.endsWith(\"Script\")`             | `true`                   |\n",
        "| **slice(start,end)**     | `str.slice(0,5)`                     | `\"Hello\"`                |\n",
        "| **substring(start,end)** | `str.substring(6,10)`                | `\"Type\"`                 |\n",
        "| **substr(start,length)** | `str.substr(6,4)`                    | `\"Type\"`                 |\n",
        "| **toUpperCase()**        | `str.toUpperCase()`                  | `\"HELLO TYPESCRIPT\"`     |\n",
        "| **toLowerCase()**        | `str.toLowerCase()`                  | `\"hello typescript\"`     |\n",
        "| **trim()**               | `\"  hi  \".trim()`                    | `\"hi\"`                   |\n",
        "| **trimStart()**          | `\"  hi\".trimStart()`                 | `\"hi\"`                   |\n",
        "| **trimEnd()**            | `\"hi  \".trimEnd()`                   | `\"hi\"`                   |\n",
        "| **repeat(n)**            | `\"Hi\".repeat(3)`                     | `\"HiHiHi\"`               |\n",
        "| **replace()**            | `str.replace(\"TypeScript\",\"TS\")`     | `\"Hello TS\"`             |\n",
        "| **replaceAll()**         | `\"aabb\".replaceAll(\"a\",\"x\")`         | `\"xxbb\"`                 |\n",
        "| **split()**              | `str.split(\" \")`                     | `[\"Hello\",\"TypeScript\"]` |\n",
        "| **match()**              | `\"abc123\".match(/\\d+/)`              | `[\"123\"]`                |\n",
        "| **matchAll()**           | `[... \"test1test2\".matchAll(/\\d/g)]` | `[[\"1\"],[\"2\"]]`          |\n",
        "| **padStart()**           | `\"5\".padStart(3,\"0\")`                | `\"005\"`                  |\n",
        "| **padEnd()**             | `\"5\".padEnd(3,\"0\")`                  | `\"500\"`                  |\n"
      ],
      "metadata": {
        "id": "hHJ4lDIt21mz"
      }
    },
    {
      "cell_type": "code",
      "source": [
        "\n",
        "%%writefile string.ts\n",
        "\n",
        "//______________________All String operation _________\n",
        "\n",
        "let str: string = \"Hello TypeScript\";\n",
        "\n",
        "console.log(str.length);   // 16\n",
        "console.log(str.charAt(0)); // \"H\"\n",
        "\n",
        "console.log(str.at(-1));\n",
        "\n",
        "console.log(\"Hello\".concat(\" World\"));\n",
        "\n",
        "console.log(str.includes(\"Type\"));\n",
        "\n",
        "console.log(str.startsWith(\"Hello\"));\n",
        "\n",
        "console.log(str.endsWith(\"Script\"));\n",
        "\n",
        "console.log(str.slice(0,5))\n",
        "\n",
        "console.log(str.substring(6,10))\n",
        "\n",
        "console.log(str.substr(6,4))\n",
        "\n",
        "console.log(str.toUpperCase())\n",
        "\n",
        "console.log(str.toLowerCase())\n",
        "\n",
        "console.log(\" hi \".trim())\n",
        "\n",
        "console.log(str.replace(\"TypeScript\",\"TS\"))\n",
        "\n",
        "console.log(\"aabb\".replaceAll(\"a\",\"x\"))\n",
        "\n",
        "console.log(str.split(\" \"))\n",
        "\n",
        "console.log(\"abc123\".match(/\\d+/))\n",
        "\n"
      ],
      "metadata": {
        "colab": {
          "base_uri": "https://localhost:8080/"
        },
        "id": "7JV2eq_T3gjN",
        "outputId": "300dada2-14f2-40a1-d684-4715bb570404"
      },
      "execution_count": null,
      "outputs": [
        {
          "output_type": "stream",
          "name": "stdout",
          "text": [
            "Overwriting string.ts\n"
          ]
        }
      ]
    },
    {
      "cell_type": "code",
      "source": [
        "!tsc string.ts   # compiles to hello.js\n",
        "!node string.js  # run compiled JavaScript"
      ],
      "metadata": {
        "colab": {
          "base_uri": "https://localhost:8080/"
        },
        "id": "zQGXtSnG31Dk",
        "outputId": "76f6de5d-f3cf-40d2-dd77-fb6c9a29944e"
      },
      "execution_count": null,
      "outputs": [
        {
          "output_type": "stream",
          "name": "stdout",
          "text": [
            "\u001b[96mstring.ts\u001b[0m:\u001b[93m9\u001b[0m:\u001b[93m17\u001b[0m - \u001b[91merror\u001b[0m\u001b[90m TS2550: \u001b[0mProperty 'at' does not exist on type 'string'. Do you need to change your target library? Try changing the 'lib' compiler option to 'es2022' or later.\n",
            "\n",
            "\u001b[7m9\u001b[0m console.log(str.at(-1));\n",
            "\u001b[7m \u001b[0m \u001b[91m                ~~\u001b[0m\n",
            "\n",
            "\u001b[96mstring.ts\u001b[0m:\u001b[93m13\u001b[0m:\u001b[93m17\u001b[0m - \u001b[91merror\u001b[0m\u001b[90m TS2550: \u001b[0mProperty 'includes' does not exist on type 'string'. Do you need to change your target library? Try changing the 'lib' compiler option to 'es2015' or later.\n",
            "\n",
            "\u001b[7m13\u001b[0m console.log(str.includes(\"Type\"));\n",
            "\u001b[7m  \u001b[0m \u001b[91m                ~~~~~~~~\u001b[0m\n",
            "\n",
            "\u001b[96mstring.ts\u001b[0m:\u001b[93m15\u001b[0m:\u001b[93m17\u001b[0m - \u001b[91merror\u001b[0m\u001b[90m TS2550: \u001b[0mProperty 'startsWith' does not exist on type 'string'. Do you need to change your target library? Try changing the 'lib' compiler option to 'es2015' or later.\n",
            "\n",
            "\u001b[7m15\u001b[0m console.log(str.startsWith(\"Hello\"));\n",
            "\u001b[7m  \u001b[0m \u001b[91m                ~~~~~~~~~~\u001b[0m\n",
            "\n",
            "\u001b[96mstring.ts\u001b[0m:\u001b[93m17\u001b[0m:\u001b[93m17\u001b[0m - \u001b[91merror\u001b[0m\u001b[90m TS2550: \u001b[0mProperty 'endsWith' does not exist on type 'string'. Do you need to change your target library? Try changing the 'lib' compiler option to 'es2015' or later.\n",
            "\n",
            "\u001b[7m17\u001b[0m console.log(str.endsWith(\"Script\"));\n",
            "\u001b[7m  \u001b[0m \u001b[91m                ~~~~~~~~\u001b[0m\n",
            "\n",
            "\u001b[96mstring.ts\u001b[0m:\u001b[93m33\u001b[0m:\u001b[93m20\u001b[0m - \u001b[91merror\u001b[0m\u001b[90m TS2550: \u001b[0mProperty 'replaceAll' does not exist on type '\"aabb\"'. Do you need to change your target library? Try changing the 'lib' compiler option to 'es2021' or later.\n",
            "\n",
            "\u001b[7m33\u001b[0m console.log(\"aabb\".replaceAll(\"a\",\"x\"))\n",
            "\u001b[7m  \u001b[0m \u001b[91m                   ~~~~~~~~~~\u001b[0m\n",
            "\n",
            "\n",
            "Found 5 errors in the same file, starting at: string.ts\u001b[90m:9\u001b[0m\n",
            "\n",
            "\u001b[33m16\u001b[39m\n",
            "H\n",
            "t\n",
            "Hello World\n",
            "\u001b[33mtrue\u001b[39m\n",
            "\u001b[33mtrue\u001b[39m\n",
            "\u001b[33mtrue\u001b[39m\n",
            "Hello\n",
            "Type\n",
            "Type\n",
            "HELLO TYPESCRIPT\n",
            "hello typescript\n",
            "hi\n",
            "Hello TS\n",
            "xxbb\n",
            "[ \u001b[32m'Hello'\u001b[39m, \u001b[32m'TypeScript'\u001b[39m ]\n",
            "[ \u001b[32m'123'\u001b[39m, index: \u001b[33m3\u001b[39m, input: \u001b[32m'abc123'\u001b[39m, groups: \u001b[90mundefined\u001b[39m ]\n"
          ]
        }
      ]
    },
    {
      "cell_type": "markdown",
      "source": [
        "**oops concept in type script**\n",
        "\n",
        "| Concept           | Description                                         | Example                           |\n",
        "| ----------------- | --------------------------------------------------- | --------------------------------- |\n",
        "| **Class**         | Blueprint to create objects.                        | `class Person {}`                 |\n",
        "| **Object**        | Instance of a class.                                | `let p = new Person();`           |\n",
        "| **Constructor**   | Special method to initialize objects.               | `constructor(name: string)`       |\n",
        "| **Encapsulation** | Data hiding using `public`, `private`, `protected`. | `private age: number;`            |\n",
        "| **Inheritance**   | A class can extend another class.                   | `class Student extends Person {}` |\n",
        "| **Polymorphism**  | Ability to redefine methods in child classes.       | `override speak()`                |\n",
        "| **Abstraction**   | Using `abstract` classes or `interfaces`.           | `abstract class Shape {}`         |\n"
      ],
      "metadata": {
        "id": "Z8I7bhBf7cB_"
      }
    },
    {
      "cell_type": "code",
      "source": [
        "%%writefile Object.ts\n",
        "\n",
        "//_____________________________________ Class and Object___________________________\n",
        "\n",
        "class Person {\n",
        "  name: string;\n",
        "  constructor(name: string) {\n",
        "    this.name = name;\n",
        "  }\n",
        "  greet(): void {\n",
        "    console.log(`Hello, my name is ${this.name}`);\n",
        "  }\n",
        "}\n",
        "\n",
        "let p1 = new Person(\"Alice\");\n",
        "p1.greet(); // Hello, my name is Alice"
      ],
      "metadata": {
        "colab": {
          "base_uri": "https://localhost:8080/"
        },
        "id": "483OiNXm78lM",
        "outputId": "60360ad2-737b-40a1-8a15-0d3f4a978892"
      },
      "execution_count": null,
      "outputs": [
        {
          "output_type": "stream",
          "name": "stdout",
          "text": [
            "Writing Object.ts\n"
          ]
        }
      ]
    },
    {
      "cell_type": "code",
      "source": [
        "!tsc Object.ts   # compiles to hello.js\n",
        "!node Object.js  # run compiled JavaScript"
      ],
      "metadata": {
        "colab": {
          "base_uri": "https://localhost:8080/"
        },
        "id": "Vaelr8Hf8F3d",
        "outputId": "e148586d-0fb8-41f9-812c-20b72343cafd"
      },
      "execution_count": null,
      "outputs": [
        {
          "output_type": "stream",
          "name": "stdout",
          "text": [
            "Hello, my name is Alice\n"
          ]
        }
      ]
    },
    {
      "cell_type": "code",
      "source": [
        "%%writefile Encapsulation.ts\n",
        "\n",
        "//_____________________________________\n",
        "\n",
        "class BankAccount {\n",
        "  private balance: number;\n",
        "\n",
        "  constructor(balance: number) {\n",
        "    this.balance = balance;\n",
        "  }\n",
        "\n",
        "  public deposit(amount: number): void {\n",
        "    this.balance += amount;\n",
        "  }\n",
        "\n",
        "  public getBalance(): number {\n",
        "    return this.balance;\n",
        "  }\n",
        "}\n",
        "\n",
        "let account = new BankAccount(1000);\n",
        "account.deposit(500);\n",
        "console.log(account.getBalance()); // 1500"
      ],
      "metadata": {
        "colab": {
          "base_uri": "https://localhost:8080/"
        },
        "id": "ZAj7kBZK8WTK",
        "outputId": "08eb287f-d1e1-4933-90a9-faded9d0e184"
      },
      "execution_count": null,
      "outputs": [
        {
          "output_type": "stream",
          "name": "stdout",
          "text": [
            "Writing Encapsulation.ts\n"
          ]
        }
      ]
    },
    {
      "cell_type": "code",
      "source": [
        "!tsc Encapsulation.ts   # compiles to hello.js\n",
        "!node Encapsulation.js  # run compiled JavaScript"
      ],
      "metadata": {
        "colab": {
          "base_uri": "https://localhost:8080/"
        },
        "id": "o1FAmvF98gqx",
        "outputId": "861a01e4-b493-4135-8cce-ef1b55424a08"
      },
      "execution_count": null,
      "outputs": [
        {
          "output_type": "stream",
          "name": "stdout",
          "text": [
            "\u001b[33m1500\u001b[39m\n"
          ]
        }
      ]
    },
    {
      "cell_type": "code",
      "source": [
        "%%writefile Inheritance.ts\n",
        "\n",
        "class Animal {\n",
        "  move(): void {\n",
        "    console.log(\"Animal is moving\");\n",
        "  }\n",
        "}\n",
        "\n",
        "class Dog extends Animal {\n",
        "  bark(): void {\n",
        "    console.log(\"Woof!\");\n",
        "  }\n",
        "}\n",
        "\n",
        "let d = new Dog();\n",
        "d.move(); // Animal is moving\n",
        "d.bark(); // Woof!\n",
        "\n",
        "\n"
      ],
      "metadata": {
        "colab": {
          "base_uri": "https://localhost:8080/"
        },
        "id": "6J5k6ZPe977u",
        "outputId": "eea47a6a-7ab6-45de-ee18-38c4cd242c9d"
      },
      "execution_count": null,
      "outputs": [
        {
          "output_type": "stream",
          "name": "stdout",
          "text": [
            "Writing Inheritance.ts\n"
          ]
        }
      ]
    },
    {
      "cell_type": "code",
      "source": [
        "!tsc Inheritance.ts   # compiles to hello.js\n",
        "!node Inheritance.js  # run compiled JavaScript"
      ],
      "metadata": {
        "colab": {
          "base_uri": "https://localhost:8080/"
        },
        "id": "ReY_Jq13-F-d",
        "outputId": "4d04ffc8-10c6-47c8-a80a-81bc8d628099"
      },
      "execution_count": null,
      "outputs": [
        {
          "output_type": "stream",
          "name": "stdout",
          "text": [
            "Animal is moving\n",
            "Woof!\n"
          ]
        }
      ]
    },
    {
      "cell_type": "code",
      "source": [
        "%%writefile MethodOverriding.ts\n",
        "\n",
        "class Shape {\n",
        "  area(): number {\n",
        "    return 0;\n",
        "  }\n",
        "}\n",
        "\n",
        "class Circle extends Shape {\n",
        "  radius: number;\n",
        "  constructor(radius: number) {\n",
        "    super();\n",
        "    this.radius = radius;\n",
        "  }\n",
        "  area(): number {\n",
        "    return Math.PI * this.radius * this.radius;\n",
        "  }\n",
        "}\n",
        "\n",
        "let s: Shape = new Circle(5);\n",
        "console.log(s.area()); // 78.54\n"
      ],
      "metadata": {
        "colab": {
          "base_uri": "https://localhost:8080/"
        },
        "id": "HBxGYDRZF4Cz",
        "outputId": "d315fbc3-c516-471d-d09a-852ad3c0c5e6"
      },
      "execution_count": null,
      "outputs": [
        {
          "output_type": "stream",
          "name": "stdout",
          "text": [
            "Writing MethodOverriding.ts\n"
          ]
        }
      ]
    },
    {
      "cell_type": "code",
      "source": [
        "!tsc MethodOverriding.ts   # compiles to hello.js\n",
        "!node MethodOverriding.js  # run compiled JavaScript"
      ],
      "metadata": {
        "colab": {
          "base_uri": "https://localhost:8080/"
        },
        "id": "2zxHJjfLGF5T",
        "outputId": "013b5ffe-4b74-4a7d-c354-9662e332ebfd"
      },
      "execution_count": null,
      "outputs": [
        {
          "output_type": "stream",
          "name": "stdout",
          "text": [
            "\u001b[33m78.53981633974483\u001b[39m\n"
          ]
        }
      ]
    },
    {
      "cell_type": "code",
      "source": [
        "%%writefile AbstractClass.ts\n",
        "\n",
        "abstract class Vehicle {\n",
        "  abstract start(): void;  // must be implemented in child\n",
        "}\n",
        "\n",
        "class Car extends Vehicle {\n",
        "  start(): void {\n",
        "    console.log(\"Car started 🚗\");\n",
        "  }\n",
        "}\n",
        "\n",
        "let v: Vehicle = new Car();\n",
        "v.start(); // Car started 🚗\n"
      ],
      "metadata": {
        "colab": {
          "base_uri": "https://localhost:8080/"
        },
        "id": "5F9KYXp1GOAn",
        "outputId": "37c83a16-282d-44b0-ddb2-d0e1438f0eba"
      },
      "execution_count": null,
      "outputs": [
        {
          "output_type": "stream",
          "name": "stdout",
          "text": [
            "Writing AbstractClass.ts\n"
          ]
        }
      ]
    },
    {
      "cell_type": "code",
      "source": [
        "!tsc AbstractClass.ts   # compiles to hello.js\n",
        "!node AbstractClass.js  # run compiled JavaScript"
      ],
      "metadata": {
        "colab": {
          "base_uri": "https://localhost:8080/"
        },
        "id": "BViUPfhWGUaV",
        "outputId": "d96ef411-68d0-47cb-8f25-515dbd68b8b1"
      },
      "execution_count": null,
      "outputs": [
        {
          "output_type": "stream",
          "name": "stdout",
          "text": [
            "Car started 🚗\n"
          ]
        }
      ]
    },
    {
      "cell_type": "code",
      "source": [
        "%%writefile Interface.ts\n",
        "\n",
        "interface Flyable {\n",
        "  fly(): void;\n",
        "}\n",
        "\n",
        "class Bird implements Flyable {\n",
        "  fly(): void {\n",
        "    console.log(\"Bird is flying 🐦\");\n",
        "  }\n",
        "}\n",
        "\n",
        "let b = new Bird();\n",
        "b.fly(); // Bird is flying 🐦"
      ],
      "metadata": {
        "colab": {
          "base_uri": "https://localhost:8080/"
        },
        "id": "ZO70cde9Ge23",
        "outputId": "b7daf9c3-9dfc-4060-a181-5df0a31216c0"
      },
      "execution_count": null,
      "outputs": [
        {
          "output_type": "stream",
          "name": "stdout",
          "text": [
            "Writing Interface.ts\n"
          ]
        }
      ]
    },
    {
      "cell_type": "code",
      "source": [
        "!tsc Interface.ts   # compiles to hello.js\n",
        "!node Interface.js  # run compiled JavaScript"
      ],
      "metadata": {
        "colab": {
          "base_uri": "https://localhost:8080/"
        },
        "id": "fTj6_eCTGpG2",
        "outputId": "dae7a615-e9df-4e78-f9c8-2b52fc845f91"
      },
      "execution_count": null,
      "outputs": [
        {
          "output_type": "stream",
          "name": "stdout",
          "text": [
            "Bird is flying 🐦\n"
          ]
        }
      ]
    },
    {
      "cell_type": "markdown",
      "source": [
        "**Steps to Run Playwright in Google Colab**"
      ],
      "metadata": {
        "id": "BhpuyjJ-Ko3X"
      }
    },
    {
      "cell_type": "markdown",
      "source": [
        "**Exception Handling**\n",
        "\n",
        "is the process of catching and managing runtime errors (exceptions) in your program so it doesn’t crash unexpectedly.\n",
        "\n",
        "TypeScript uses the same mechanism as JavaScript — try, catch, and finally — but with strong typing support.\n",
        "\n",
        "    throw new Error() → manually creates an exception.\n",
        "\n",
        "    catch → captures that error.\n",
        "\n",
        "    finally → always executes (useful for cleanup, closing browser, etc.).\n",
        "\n",
        "    unknown → recommended type for error instead of any (for better safety).\n",
        "\n",
        "        try {\n",
        "        // Code that may throw an error\n",
        "           } catch (error) {\n",
        "        // Handle the error\n",
        "            } finally {\n",
        "        // Code that always executes (optional)\n",
        "        }"
      ],
      "metadata": {
        "id": "tgVKKlAyLSfd"
      }
    },
    {
      "cell_type": "code",
      "source": [
        "%%writefile trycatch.ts\n",
        "\n",
        "function divide(a: number, b: number): number {\n",
        "  if (b === 0) {\n",
        "    throw new Error(\"Cannot divide by zero!\");\n",
        "  }\n",
        "  return a / b;\n",
        "}\n",
        "\n",
        "try {\n",
        "  const result = divide(10, 0);\n",
        "  console.log(\"Result:\", result);\n",
        "} catch (error: unknown) {\n",
        "  if (error instanceof Error) {\n",
        "    console.error(\"Error occurred:\", error.message);\n",
        "  } else {\n",
        "    console.error(\"Unknown error:\", error);\n",
        "  }\n",
        "} finally {\n",
        "  console.log(\"Execution completed.\");\n",
        "}\n"
      ],
      "metadata": {
        "colab": {
          "base_uri": "https://localhost:8080/"
        },
        "id": "P8qCkuQgMEwb",
        "outputId": "8b0edd55-577f-4a02-a4d0-aad38296a3ec"
      },
      "execution_count": 18,
      "outputs": [
        {
          "output_type": "stream",
          "name": "stdout",
          "text": [
            "Overwriting trycatch.ts\n"
          ]
        }
      ]
    },
    {
      "cell_type": "code",
      "source": [
        "!tsc trycatch.ts   # compiles to hello.js\n",
        "!node trycatch.js  # run compiled JavaScript"
      ],
      "metadata": {
        "colab": {
          "base_uri": "https://localhost:8080/"
        },
        "id": "q35p0A4BMQBY",
        "outputId": "688ee34e-a63c-4732-f199-c0c4670ee0ae"
      },
      "execution_count": 19,
      "outputs": [
        {
          "output_type": "stream",
          "name": "stdout",
          "text": [
            "Error occurred: Cannot divide by zero!\n",
            "Execution completed.\n"
          ]
        }
      ]
    },
    {
      "cell_type": "markdown",
      "source": [
        "**What is Promise in TypeScript**\n",
        "\n",
        "A Promise in TypeScript represents a value that may be available now, later, or never. It’s commonly used to handle asynchronous operations such as API calls or database requests.\n",
        "A Promise can be in one of three states — pending, fulfilled, or rejected.\n",
        "Instead of using nested callbacks, Promises allow us to use .then() for success and .catch() for errors, which makes the code cleaner and more maintainable.\n",
        "\n",
        "For Example\n",
        "\n",
        "Imagine you order food online 🍕:\n",
        "\n",
        "When you order → the promise is pending.\n",
        "\n",
        "When the food is delivered → it’s fulfilled.\n",
        "\n",
        "When the order fails → it’s rejected.\n",
        "\n",
        "You just wait for the promise to be resolved or rejected, instead of constantly checking.\n",
        "\n",
        "\n",
        "Promises are asynchronous by design (non-blocking).\n",
        "\n",
        "You can chain Promises using .then() and .catch().\n",
        "\n",
        "The async/await syntax is built on top of Promises to make code look synchronous."
      ],
      "metadata": {
        "id": "mIcMDWtGNQh6"
      }
    },
    {
      "cell_type": "code",
      "source": [
        "%%writefile promise.ts\n",
        "function getUser(): Promise<string> {\n",
        "  return new Promise((resolve, reject) => {\n",
        "    let success = true;\n",
        "    setTimeout(() => {\n",
        "      if (success) {\n",
        "        resolve(\"✅ User data fetched successfully\");\n",
        "      } else {\n",
        "        reject(\"❌ Failed to fetch user data\");\n",
        "      }\n",
        "    }, 2000);\n",
        "  });\n",
        "}\n",
        "\n",
        "getUser()\n",
        "  .then((result) => console.log(result))   // Handles success\n",
        "  .catch((error) => console.error(error)); // Handles failure\n"
      ],
      "metadata": {
        "colab": {
          "base_uri": "https://localhost:8080/"
        },
        "id": "fe2ROjFSRo79",
        "outputId": "2bc3c16d-9548-4299-8a5a-dbb8f5d5e9ef"
      },
      "execution_count": 20,
      "outputs": [
        {
          "output_type": "stream",
          "name": "stdout",
          "text": [
            "Writing promise.ts\n"
          ]
        }
      ]
    },
    {
      "cell_type": "code",
      "source": [
        "!tsc promise.ts   # compiles to hello.js\n",
        "!node promise.js  # run compiled JavaScript"
      ],
      "metadata": {
        "colab": {
          "base_uri": "https://localhost:8080/"
        },
        "id": "92cEyyjvR8Xw",
        "outputId": "8f3767fb-9a27-4cd9-b442-12b42970fb1c"
      },
      "execution_count": 21,
      "outputs": [
        {
          "output_type": "stream",
          "name": "stdout",
          "text": [
            "\u001b[96mpromise.ts\u001b[0m:\u001b[93m2\u001b[0m:\u001b[93m14\u001b[0m - \u001b[91merror\u001b[0m\u001b[90m TS2585: \u001b[0m'Promise' only refers to a type, but is being used as a value here. Do you need to change your target library? Try changing the 'lib' compiler option to es2015 or later.\n",
            "\n",
            "\u001b[7m2\u001b[0m   return new Promise((resolve, reject) => {\n",
            "\u001b[7m \u001b[0m \u001b[91m             ~~~~~~~\u001b[0m\n",
            "\n",
            "\n",
            "Found 1 error in promise.ts\u001b[90m:2\u001b[0m\n",
            "\n",
            "✅ User data fetched successfully\n"
          ]
        }
      ]
    },
    {
      "cell_type": "markdown",
      "source": [],
      "metadata": {
        "id": "ek9G6OTuMEOm"
      }
    },
    {
      "cell_type": "code",
      "source": [
        "#_________________Install Node.js & Playwright______________\n",
        "\n",
        "!npm install -g playwright typescript ts-node @types/node\n",
        "\n",
        "#_________________Install Browsers for Playwright_____________________\n",
        "\n",
        "!npm install playwright\n",
        "!npx playwright install --with-deps\n",
        "\n"
      ],
      "metadata": {
        "collapsed": true,
        "colab": {
          "base_uri": "https://localhost:8080/"
        },
        "id": "EZM64pwQKtjt",
        "outputId": "f160d6ee-b307-43f1-ee09-1ba7c9d7f4b3"
      },
      "execution_count": null,
      "outputs": [
        {
          "output_type": "stream",
          "name": "stdout",
          "text": [
            "\u001b[1G\u001b[0K⠙\u001b[1G\u001b[0K⠹\u001b[1G\u001b[0K⠸\u001b[1G\u001b[0K⠼\u001b[1G\u001b[0K⠴\u001b[1G\u001b[0K⠦\u001b[1G\u001b[0K⠧\u001b[1G\u001b[0K⠇\u001b[1G\u001b[0K⠏\u001b[1G\u001b[0K⠋\u001b[1G\u001b[0K⠙\u001b[1G\u001b[0K⠹\u001b[1G\u001b[0K⠸\u001b[1G\u001b[0K⠼\u001b[1G\u001b[0K⠴\u001b[1G\u001b[0K⠦\u001b[1G\u001b[0K⠧\u001b[1G\u001b[0K⠇\u001b[1G\u001b[0K⠏\u001b[1G\u001b[0K⠋\u001b[1G\u001b[0K⠙\u001b[1G\u001b[0K⠹\u001b[1G\u001b[0K⠸\u001b[1G\u001b[0K⠼\u001b[1G\u001b[0K⠴\u001b[1G\u001b[0K⠦\u001b[1G\u001b[0K⠧\u001b[1G\u001b[0K⠇\u001b[1G\u001b[0K\n",
            "changed 22 packages in 4s\n",
            "\u001b[1G\u001b[0K⠇\u001b[1G\u001b[0K\u001b[1G\u001b[0K⠙\u001b[1G\u001b[0K⠹\u001b[1G\u001b[0K⠸\u001b[1G\u001b[0K⠼\u001b[1G\u001b[0K\n",
            "up to date, audited 3 packages in 928ms\n",
            "\u001b[1G\u001b[0K⠼\u001b[1G\u001b[0K\n",
            "found \u001b[32m\u001b[1m0\u001b[22m\u001b[39m vulnerabilities\n",
            "\u001b[1G\u001b[0K⠼\u001b[1G\u001b[0K\u001b[1G\u001b[0K⠙\u001b[1G\u001b[0KInstalling dependencies...\n",
            "Hit:1 http://security.ubuntu.com/ubuntu jammy-security InRelease\n",
            "Hit:2 http://archive.ubuntu.com/ubuntu jammy InRelease\n",
            "Hit:3 https://cli.github.com/packages stable InRelease\n",
            "Hit:4 http://archive.ubuntu.com/ubuntu jammy-updates InRelease\n",
            "Hit:5 https://cloud.r-project.org/bin/linux/ubuntu jammy-cran40/ InRelease\n",
            "Hit:6 https://deb.nodesource.com/node_18.x nodistro InRelease\n",
            "Hit:7 http://archive.ubuntu.com/ubuntu jammy-backports InRelease\n",
            "Hit:8 https://developer.download.nvidia.com/compute/cuda/repos/ubuntu2204/x86_64  InRelease\n",
            "Hit:9 https://r2u.stat.illinois.edu/ubuntu jammy InRelease\n",
            "Hit:10 https://ppa.launchpadcontent.net/deadsnakes/ppa/ubuntu jammy InRelease\n",
            "Hit:11 https://ppa.launchpadcontent.net/graphics-drivers/ppa/ubuntu jammy InRelease\n",
            "Hit:12 https://ppa.launchpadcontent.net/ubuntugis/ppa/ubuntu jammy InRelease\n",
            "Reading package lists... Done\n",
            "W: Skipping acquire of configured file 'main/source/Sources' as repository 'https://r2u.stat.illinois.edu/ubuntu jammy InRelease' does not seem to provide it (sources.list entry misspelt?)\n",
            "Reading package lists... Done\n",
            "Building dependency tree... Done\n",
            "Reading state information... Done\n",
            "fonts-freefont-ttf is already the newest version (20120503-10build1).\n",
            "fonts-liberation is already the newest version (1:1.07.4-11).\n",
            "libasound2 is already the newest version (1.2.6.1-1ubuntu1).\n",
            "libatk-bridge2.0-0 is already the newest version (2.38.0-3).\n",
            "libatk1.0-0 is already the newest version (2.36.0-3build1).\n",
            "libatspi2.0-0 is already the newest version (2.44.0-3).\n",
            "libcairo-gobject2 is already the newest version (1.16.0-5ubuntu2).\n",
            "libcairo2 is already the newest version (1.16.0-5ubuntu2).\n",
            "libdbus-glib-1-2 is already the newest version (0.112-2build1).\n",
            "libegl1 is already the newest version (1.4.0-1).\n",
            "libenchant-2-2 is already the newest version (2.3.2-1ubuntu2).\n",
            "libepoxy0 is already the newest version (1.5.10-1).\n",
            "libevdev2 is already the newest version (1.12.1+dfsg-1).\n",
            "libevent-2.1-7 is already the newest version (2.1.12-stable-1build3).\n",
            "libfontconfig1 is already the newest version (2.13.1-4.2ubuntu5).\n",
            "libgles2 is already the newest version (1.4.0-1).\n",
            "libglx0 is already the newest version (1.4.0-1).\n",
            "libgudev-1.0-0 is already the newest version (1:237-2build1).\n",
            "libhyphen0 is already the newest version (2.8.8-7build2).\n",
            "libicu70 is already the newest version (70.1-2).\n",
            "libjpeg-turbo8 is already the newest version (2.1.2-0ubuntu1).\n",
            "liblcms2-2 is already the newest version (2.12~rc1-2build2).\n",
            "libmanette-0.2-0 is already the newest version (0.2.6-3build1).\n",
            "libopengl0 is already the newest version (1.4.0-1).\n",
            "libopus0 is already the newest version (1.3.1-0.1build2).\n",
            "libpng16-16 is already the newest version (1.6.37-3build5).\n",
            "libproxy1v5 is already the newest version (0.4.17-2).\n",
            "libsecret-1-0 is already the newest version (0.20.5-2).\n",
            "libwoff1 is already the newest version (1.0.2-1build4).\n",
            "libxcb-shm0 is already the newest version (1.14-3ubuntu3).\n",
            "libxcb1 is already the newest version (1.14-3ubuntu3).\n",
            "libxcomposite1 is already the newest version (1:0.4.5-1build2).\n",
            "libxcursor1 is already the newest version (1:1.2.0-2build4).\n",
            "libxdamage1 is already the newest version (1:1.1.5-2build2).\n",
            "libxext6 is already the newest version (2:1.3.4-1build1).\n",
            "libxfixes3 is already the newest version (1:6.0.0-1).\n",
            "libxi6 is already the newest version (2:1.8-1build1).\n",
            "libxkbcommon0 is already the newest version (1.4.0-1).\n",
            "libxrandr2 is already the newest version (2:1.5.2-1build1).\n",
            "libxrender1 is already the newest version (1:0.9.10-1build4).\n",
            "libxtst6 is already the newest version (2:1.2.3-1build4).\n",
            "xfonts-scalable is already the newest version (1:1.0.3-1.2ubuntu1).\n",
            "fonts-ipafont-gothic is already the newest version (00303-21ubuntu1).\n",
            "fonts-tlwg-loma-otf is already the newest version (1:0.7.3-1).\n",
            "fonts-unifont is already the newest version (1:14.0.01-1).\n",
            "fonts-wqy-zenhei is already the newest version (0.9.45-8).\n",
            "libavif13 is already the newest version (0.9.3-3).\n",
            "libffi7 is already the newest version (3.3-5ubuntu1).\n",
            "libx264-163 is already the newest version (2:0.163.3060+git5db6aa6-2build1).\n",
            "xfonts-cyrillic is already the newest version (1:1.0.5).\n",
            "fonts-noto-color-emoji is already the newest version (2.047-0ubuntu0.22.04.1).\n",
            "gstreamer1.0-plugins-base is already the newest version (1.20.1-1ubuntu0.5).\n",
            "gstreamer1.0-plugins-good is already the newest version (1.20.3-0ubuntu1.4).\n",
            "libatomic1 is already the newest version (12.3.0-1ubuntu1~22.04.2).\n",
            "libcups2 is already the newest version (2.4.1op1-1ubuntu4.12).\n",
            "libdbus-1-3 is already the newest version (1.12.20-2ubuntu4.1).\n",
            "libdrm2 is already the newest version (2.4.113-2~ubuntu0.22.04.1).\n",
            "libfreetype6 is already the newest version (2.11.1+dfsg-1ubuntu0.3).\n",
            "libgbm1 is already the newest version (23.2.1-1ubuntu3.1~22.04.3).\n",
            "libgdk-pixbuf-2.0-0 is already the newest version (2.42.8+dfsg-1ubuntu0.4).\n",
            "libglib2.0-0 is already the newest version (2.72.4-0ubuntu2.6).\n",
            "libgstreamer-gl1.0-0 is already the newest version (1.20.1-1ubuntu0.5).\n",
            "libgstreamer-plugins-base1.0-0 is already the newest version (1.20.1-1ubuntu0.5).\n",
            "libgstreamer1.0-0 is already the newest version (1.20.3-0ubuntu1.1).\n",
            "libgtk-3-0 is already the newest version (3.24.33-1ubuntu2.2).\n",
            "libgtk-4-1 is already the newest version (4.6.9+ds-0ubuntu0.22.04.2).\n",
            "libharfbuzz-icu0 is already the newest version (2.7.4-1ubuntu3.2).\n",
            "libharfbuzz0b is already the newest version (2.7.4-1ubuntu3.2).\n",
            "libnotify4 is already the newest version (0.7.9-3ubuntu5.22.04.1).\n",
            "libnspr4 is already the newest version (2:4.35-0ubuntu0.22.04.1).\n",
            "libnss3 is already the newest version (2:3.98-0ubuntu0.22.04.2).\n",
            "libopenjp2-7 is already the newest version (2.4.0-6ubuntu0.4).\n",
            "libpango-1.0-0 is already the newest version (1.50.6+ds-2ubuntu1).\n",
            "libpangocairo-1.0-0 is already the newest version (1.50.6+ds-2ubuntu1).\n",
            "libwayland-client0 is already the newest version (1.20.0-1ubuntu0.1).\n",
            "libwayland-egl1 is already the newest version (1.20.0-1ubuntu0.1).\n",
            "libwayland-server0 is already the newest version (1.20.0-1ubuntu0.1).\n",
            "libwebpdemux2 is already the newest version (1.2.2-2ubuntu0.22.04.2).\n",
            "libx11-6 is already the newest version (2:1.7.5-1ubuntu0.3).\n",
            "libx11-xcb1 is already the newest version (2:1.7.5-1ubuntu0.3).\n",
            "libxml2 is already the newest version (2.9.13+dfsg-1ubuntu0.9).\n",
            "libxslt1.1 is already the newest version (1.1.34-4ubuntu0.22.04.4).\n",
            "ffmpeg is already the newest version (7:4.4.2-0ubuntu0.22.04.1).\n",
            "gstreamer1.0-libav is already the newest version (1.20.3-0ubuntu1).\n",
            "gstreamer1.0-plugins-bad is already the newest version (1.20.3-0ubuntu1.1).\n",
            "libsoup-3.0-0 is already the newest version (3.0.7-0ubuntu1).\n",
            "xvfb is already the newest version (2:21.1.4-2ubuntu1.7~22.04.15).\n",
            "0 upgraded, 0 newly installed, 0 to remove and 38 not upgraded.\n",
            "\u001b[1G\u001b[0K⠙\u001b[1G\u001b[0K"
          ]
        }
      ]
    },
    {
      "cell_type": "markdown",
      "source": [
        "**Create a Test Script**"
      ],
      "metadata": {
        "id": "8EEYwKyXLXnY"
      }
    },
    {
      "cell_type": "code",
      "source": [
        "\n",
        "%%writefile tsconfig.json\n",
        "{\n",
        "  \"compilerOptions\": {\n",
        "    \"target\": \"es2021\",\n",
        "    \"module\": \"commonjs\",\n",
        "    \"lib\": [\"es2021\", \"dom\"],\n",
        "    \"esModuleInterop\": true,\n",
        "    \"moduleResolution\": \"node\",\n",
        "    \"strict\": true,\n",
        "    \"skipLibCheck\": true\n",
        "  }\n",
        "}"
      ],
      "metadata": {
        "colab": {
          "base_uri": "https://localhost:8080/"
        },
        "id": "QB823gfRM4Ep",
        "outputId": "e75cf8d9-8ade-4730-b931-5e6d6b5f83d1"
      },
      "execution_count": null,
      "outputs": [
        {
          "output_type": "stream",
          "name": "stdout",
          "text": [
            "Overwriting tsconfig.json\n"
          ]
        }
      ]
    },
    {
      "cell_type": "markdown",
      "source": [],
      "metadata": {
        "id": "FolKbZZMLxQh"
      }
    },
    {
      "cell_type": "code",
      "source": [
        "%%writefile seleniumscript.ts\n",
        "import { chromium } from 'playwright';\n",
        "\n",
        "(async () => {\n",
        "  const browser = await chromium.launch({ headless: true });\n",
        "  const page = await browser.newPage();\n",
        "  await page.goto('https://the-internet.herokuapp.com/');\n",
        "  console.log(await page.title());\n",
        "\n",
        "\n",
        "//______________________locate an element and get attribute_____________________\n",
        "\n",
        "const hedaer = page.locator(\"xpath=//div[contains(@id,'content')]//following::h2\");\n",
        "const text = await hedaer.innerText();\n",
        "console.log(\"Header Value: \", text);\n",
        "await page.screenshot({ path: 'page_screenshot.png', fullPage: true });\n",
        "\n",
        "// _____________________ click on the link_________________________________\n",
        "\n",
        "const link = page.locator(\"//a[text()='Add/Remove Elements']\");\n",
        "await link.click();\n",
        "const hedaer1 = page.locator(\"xpath=//div[contains(@id,'content')]//following::h3\")\n",
        "const text1 = await hedaer1.innerText();\n",
        "console.log(\"Header Value: \", text1);\n",
        "await page.screenshot({ path: 'page_screenshot1.png', fullPage: true });\n",
        "\n",
        "// _____________________Add and Delete Element___________________________\n",
        "\n",
        "const addButton = page.locator(\"//button[text()='Add Element']\");\n",
        "await addButton.click();\n",
        "await page.screenshot({ path: 'page_screenshot2.png', fullPage: true });\n",
        "const deleteButton = page.locator(\"//button[text()='Delete']\");\n",
        "await deleteButton.click();\n",
        "await page.screenshot({ path: 'page_screenshot3.png', fullPage: true });\n",
        "await browser.close();\n",
        "})();\n",
        "\n",
        "//\n"
      ],
      "metadata": {
        "colab": {
          "base_uri": "https://localhost:8080/"
        },
        "id": "41CCo5E6LVKd",
        "outputId": "df721329-db74-4273-f213-1ae189351831"
      },
      "execution_count": null,
      "outputs": [
        {
          "output_type": "stream",
          "name": "stdout",
          "text": [
            "Overwriting seleniumscript.ts\n"
          ]
        }
      ]
    },
    {
      "cell_type": "code",
      "source": [
        "!npx ts-node -P tsconfig.json seleniumscript.ts"
      ],
      "metadata": {
        "colab": {
          "base_uri": "https://localhost:8080/"
        },
        "id": "gR3wM3ZRLifz",
        "outputId": "6feb98b3-8e67-407d-afaa-c5e5a425b7d8"
      },
      "execution_count": null,
      "outputs": [
        {
          "output_type": "stream",
          "name": "stdout",
          "text": [
            "\u001b[1G\u001b[0K⠙\u001b[1G\u001b[0KThe Internet\n",
            "Header Value:  Available Examples\n",
            "Header Value:  Add/Remove Elements\n",
            "\u001b[1G\u001b[0K⠙\u001b[1G\u001b[0K"
          ]
        }
      ]
    }
  ]
}