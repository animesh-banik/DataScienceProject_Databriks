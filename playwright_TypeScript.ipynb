{
  "nbformat": 4,
  "nbformat_minor": 0,
  "metadata": {
    "colab": {
      "provenance": [],
      "authorship_tag": "ABX9TyMbwCjFpnvoZymDkTc7ubmi",
      "include_colab_link": true
    },
    "kernelspec": {
      "name": "python3",
      "display_name": "Python 3"
    },
    "language_info": {
      "name": "python"
    }
  },
  "cells": [
    {
      "cell_type": "markdown",
      "metadata": {
        "id": "view-in-github",
        "colab_type": "text"
      },
      "source": [
        "<a href=\"https://colab.research.google.com/github/animesh-banik/DataScienceProject_Databriks/blob/main/playwright_TypeScript.ipynb\" target=\"_parent\"><img src=\"https://colab.research.google.com/assets/colab-badge.svg\" alt=\"Open In Colab\"/></a>"
      ]
    },
    {
      "cell_type": "markdown",
      "source": [
        "**Steps to Run TypeScript in Google Colab**"
      ],
      "metadata": {
        "id": "fWkG5YZr3Thz"
      }
    },
    {
      "cell_type": "code",
      "execution_count": 7,
      "metadata": {
        "colab": {
          "base_uri": "https://localhost:8080/"
        },
        "collapsed": true,
        "id": "GoFK3gJDd7wp",
        "outputId": "4b69fb34-6fe1-4e5b-f3b9-604fcdf24672"
      },
      "outputs": [
        {
          "output_type": "stream",
          "name": "stdout",
          "text": [
            "Reading package lists... Done\n",
            "Building dependency tree... Done\n",
            "Reading state information... Done\n",
            "The following packages were automatically installed and are no longer required:\n",
            "  gyp libc-ares2 libjs-events libjs-highlight.js libjs-inherits\n",
            "  libjs-is-typedarray libjs-psl libjs-source-map libjs-sprintf-js\n",
            "  libjs-typedarray-to-buffer libnode-dev libnode72 libnotify-bin libnotify4\n",
            "  libuv1-dev node-abbrev node-ansi-regex node-ansi-styles node-ansistyles\n",
            "  node-are-we-there-yet node-arrify node-asap node-asynckit\n",
            "  node-balanced-match node-brace-expansion node-chownr node-clean-yaml-object\n",
            "  node-color-convert node-color-name node-commander node-core-util-is\n",
            "  node-decompress-response node-delayed-stream node-delegates node-depd\n",
            "  node-diff node-encoding node-end-of-stream node-err-code\n",
            "  node-escape-string-regexp node-fancy-log node-foreground-child\n",
            "  node-fs.realpath node-function-bind node-get-stream node-glob node-growl\n",
            "  node-has-flag node-has-unicode node-hosted-git-info node-iconv-lite\n",
            "  node-iferr node-imurmurhash node-indent-string node-inflight node-inherits\n",
            "  node-ini node-ip node-ip-regex node-is-buffer node-is-plain-obj\n",
            "  node-is-typedarray node-isarray node-isexe node-json-parse-better-errors\n",
            "  node-jsonparse node-kind-of node-lodash-packages node-lowercase-keys\n",
            "  node-lru-cache node-mimic-response node-minimatch node-minimist\n",
            "  node-minipass node-mute-stream node-negotiator node-npm-bundled node-once\n",
            "  node-osenv node-p-cancelable node-p-map node-path-is-absolute\n",
            "  node-process-nextick-args node-promise-inflight node-promise-retry\n",
            "  node-promzard node-pump node-quick-lru node-read node-readable-stream\n",
            "  node-resolve node-retry node-safe-buffer node-set-blocking node-signal-exit\n",
            "  node-slash node-slice-ansi node-source-map node-spdx-correct\n",
            "  node-spdx-exceptions node-spdx-expression-parse node-spdx-license-ids\n",
            "  node-sprintf-js node-stealthy-require node-string-decoder\n",
            "  node-supports-color node-text-table node-time-stamp node-tmatch\n",
            "  node-typedarray-to-buffer node-universalify node-util-deprecate\n",
            "  node-validate-npm-package-license node-webidl-conversions node-whatwg-fetch\n",
            "  node-wrappy node-yallist nodejs-doc\n",
            "Use 'apt autoremove' to remove them.\n",
            "The following packages will be REMOVED:\n",
            "  node-abab node-agent-base node-aproba node-archy node-argparse node-builtins\n",
            "  node-cacache node-chalk node-cli-table node-clone node-colors node-columnify\n",
            "  node-combined-stream node-console-control-strings node-copy-concurrently\n",
            "  node-coveralls node-cssom node-cssstyle node-debug node-defaults\n",
            "  node-esprima node-events node-fetch node-form-data\n",
            "  node-fs-write-stream-atomic node-gauge node-got node-graceful-fs node-gyp\n",
            "  node-https-proxy-agent node-js-yaml node-jsdom node-json-buffer\n",
            "  node-lcov-parse node-log-driver node-mime node-mime-types node-mkdirp\n",
            "  node-move-concurrently node-ms node-nopt node-normalize-package-data\n",
            "  node-npm-package-arg node-npmlog node-object-assign node-opener node-psl\n",
            "  node-punycode node-read-package-json node-rimraf node-run-queue node-semver\n",
            "  node-source-map-support node-ssri node-stack-utils node-string-width\n",
            "  node-strip-ansi node-tap node-tap-mocha-reporter node-tap-parser node-tar\n",
            "  node-tough-cookie node-unique-filename node-validate-npm-package-name\n",
            "  node-wcwidth.js node-which node-wide-align node-write-file-atomic node-ws\n",
            "  nodejs npm\n",
            "0 upgraded, 0 newly installed, 71 to remove and 43 not upgraded.\n",
            "After this operation, 14.0 MB disk space will be freed.\n",
            "(Reading database ... 133997 files and directories currently installed.)\n",
            "Removing node-coveralls (3.1.1-1) ...\n",
            "Removing node-fetch (2.6.7+~2.5.12-1) ...\n",
            "Removing node-jsdom (19.0.0+~cs90.11.27-1) ...\n",
            "Removing node-abab (2.0.5-2) ...\n",
            "Removing npm (8.5.1~ds-1) ...\n",
            "Removing node-ws (8.5.0+~cs13.3.3-2) ...\n",
            "Removing node-https-proxy-agent (5.0.0+~cs8.0.0-3) ...\n",
            "Removing node-agent-base (6.0.2+~cs5.4.2-1) ...\n",
            "Removing node-cacache (15.0.5+~cs13.9.21-3) ...\n",
            "Removing node-move-concurrently (1.0.1-4) ...\n",
            "Removing node-copy-concurrently (1.0.5-8) ...\n",
            "Removing node-run-queue (2.0.0-2) ...\n",
            "Removing node-archy (1.0.0-4) ...\n",
            "Removing node-tap (12.0.1+ds-4) ...\n",
            "Removing node-tap-mocha-reporter (3.0.7+ds-2) ...\n",
            "Removing node-tap-parser (7.0.0+ds1-6) ...\n",
            "Removing node-js-yaml (4.1.0+dfsg+~4.0.5-6) ...\n",
            "Removing node-argparse (2.0.1-2) ...\n",
            "Removing node-npm-package-arg (8.1.5-1) ...\n",
            "Removing node-validate-npm-package-name (3.0.0-4) ...\n",
            "Removing node-builtins (4.0.0-1) ...\n",
            "Removing node-chalk (4.1.2-1) ...\n",
            "Removing node-cli-table (0.3.11+~cs0.13.3-1) ...\n",
            "Removing node-columnify (1.5.4+~1.5.1-1) ...\n",
            "Removing node-gyp (8.4.1-1) ...\n",
            "Removing node-npmlog (6.0.1+~4.1.4-1) ...\n",
            "Removing node-gauge (4.0.2-1) ...\n",
            "Removing node-wide-align (1.1.3-4) ...\n",
            "Removing node-string-width (4.2.3+~cs13.2.3-1) ...\n",
            "Removing node-wcwidth.js (1.0.2-1) ...\n",
            "Removing node-defaults (1.0.3+~1.0.3-1) ...\n",
            "Removing node-clone (2.1.2-3) ...\n",
            "Removing node-colors (1.4.0-3) ...\n",
            "Removing node-form-data (3.0.1-1) ...\n",
            "Removing node-combined-stream (1.0.8+~1.0.3-1) ...\n",
            "Removing node-console-control-strings (1.1.0-2) ...\n",
            "Removing node-cssstyle (2.3.0-2) ...\n",
            "Removing node-cssom (0.4.4-3) ...\n",
            "Removing node-debug (4.3.2+~cs4.1.7-1) ...\n",
            "Removing node-esprima (4.0.1+ds+~4.0.3-2) ...\n",
            "Removing node-events (3.3.0+~3.0.0-2) ...\n",
            "Removing node-fs-write-stream-atomic (1.0.10-5) ...\n",
            "Removing node-got (11.8.3+~cs58.7.37-1) ...\n",
            "Removing node-graceful-fs (4.2.4+repack-1) ...\n",
            "Removing node-json-buffer (3.0.1-1) ...\n",
            "Removing node-lcov-parse (1.0.0+20170612git80d039574ed9-5) ...\n",
            "Removing node-log-driver (1.2.7+git+20180219+bba1761737-7) ...\n",
            "Removing node-mime-types (2.1.33-1) ...\n",
            "Removing node-mime (3.0.0+dfsg+~cs3.96.1-1) ...\n",
            "Removing node-tar (6.1.11+ds1+~cs6.0.6-1) ...\n",
            "Removing node-mkdirp (1.0.4+~1.0.2-1) ...\n",
            "Removing node-ms (2.1.3+~cs0.7.31-2) ...\n",
            "Removing node-nopt (5.0.0-2) ...\n",
            "Removing node-read-package-json (4.1.1-1) ...\n",
            "Removing node-normalize-package-data (3.0.3+~2.4.1-1) ...\n",
            "Removing node-object-assign (4.1.1-6) ...\n",
            "Removing node-opener (1.5.2+~1.4.0-1) ...\n",
            "Removing node-tough-cookie (4.0.0-2) ...\n",
            "Removing node-psl (1.8.0+ds-6) ...\n",
            "Removing node-punycode (2.1.1-5) ...\n",
            "Removing node-rimraf (3.0.2-1) ...\n",
            "Removing node-semver (7.3.5+~7.3.8-1) ...\n",
            "Removing node-source-map-support (0.5.21+ds+~0.5.4-1) ...\n",
            "Removing node-ssri (8.0.1-2) ...\n",
            "Removing node-stack-utils (2.0.5+~2.0.1-1) ...\n",
            "Removing node-strip-ansi (6.0.1-1) ...\n",
            "Removing node-unique-filename (1.1.1+ds-1) ...\n",
            "Removing node-which (2.0.2+~cs1.3.2-2) ...\n",
            "Removing node-write-file-atomic (3.0.3+~3.0.2-1) ...\n",
            "Removing node-aproba (2.0.0-2) ...\n",
            "Removing nodejs (12.22.9~dfsg-1ubuntu3.6) ...\n",
            "Processing triggers for man-db (2.10.2-1) ...\n",
            "\u001b[38;5;79m2025-09-24 04:08:02 - Installing pre-requisites\u001b[0m\n",
            "Hit:1 http://security.ubuntu.com/ubuntu jammy-security InRelease\n",
            "Hit:2 http://archive.ubuntu.com/ubuntu jammy InRelease\n",
            "Hit:3 http://archive.ubuntu.com/ubuntu jammy-updates InRelease\n",
            "Hit:4 http://archive.ubuntu.com/ubuntu jammy-backports InRelease\n",
            "Hit:5 https://cli.github.com/packages stable InRelease\n",
            "Hit:6 https://cloud.r-project.org/bin/linux/ubuntu jammy-cran40/ InRelease\n",
            "Hit:7 https://developer.download.nvidia.com/compute/cuda/repos/ubuntu2204/x86_64  InRelease\n",
            "Hit:8 https://deb.nodesource.com/node_18.x nodistro InRelease\n",
            "Hit:9 https://ppa.launchpadcontent.net/deadsnakes/ppa/ubuntu jammy InRelease\n",
            "Hit:10 https://ppa.launchpadcontent.net/graphics-drivers/ppa/ubuntu jammy InRelease\n",
            "Hit:11 https://ppa.launchpadcontent.net/ubuntugis/ppa/ubuntu jammy InRelease\n",
            "Hit:12 https://r2u.stat.illinois.edu/ubuntu jammy InRelease\n",
            "Reading package lists... Done\n",
            "W: Skipping acquire of configured file 'main/source/Sources' as repository 'https://r2u.stat.illinois.edu/ubuntu jammy InRelease' does not seem to provide it (sources.list entry misspelt?)\n",
            "Reading package lists... Done\n",
            "Building dependency tree... Done\n",
            "Reading state information... Done\n",
            "ca-certificates is already the newest version (20240203~22.04.1).\n",
            "curl is already the newest version (7.81.0-1ubuntu1.20).\n",
            "gnupg is already the newest version (2.2.27-3ubuntu2.4).\n",
            "apt-transport-https is already the newest version (2.4.14).\n",
            "The following packages were automatically installed and are no longer required:\n",
            "  gyp libc-ares2 libjs-events libjs-highlight.js libjs-inherits\n",
            "  libjs-is-typedarray libjs-psl libjs-source-map libjs-sprintf-js\n",
            "  libjs-typedarray-to-buffer libnode-dev libnode72 libnotify-bin libnotify4\n",
            "  libuv1-dev node-abbrev node-ansi-regex node-ansi-styles node-ansistyles\n",
            "  node-are-we-there-yet node-arrify node-asap node-asynckit\n",
            "  node-balanced-match node-brace-expansion node-chownr node-clean-yaml-object\n",
            "  node-color-convert node-color-name node-commander node-core-util-is\n",
            "  node-decompress-response node-delayed-stream node-delegates node-depd\n",
            "  node-diff node-encoding node-end-of-stream node-err-code\n",
            "  node-escape-string-regexp node-fancy-log node-foreground-child\n",
            "  node-fs.realpath node-function-bind node-get-stream node-glob node-growl\n",
            "  node-has-flag node-has-unicode node-hosted-git-info node-iconv-lite\n",
            "  node-iferr node-imurmurhash node-indent-string node-inflight node-inherits\n",
            "  node-ini node-ip node-ip-regex node-is-buffer node-is-plain-obj\n",
            "  node-is-typedarray node-isarray node-isexe node-json-parse-better-errors\n",
            "  node-jsonparse node-kind-of node-lodash-packages node-lowercase-keys\n",
            "  node-lru-cache node-mimic-response node-minimatch node-minimist\n",
            "  node-minipass node-mute-stream node-negotiator node-npm-bundled node-once\n",
            "  node-osenv node-p-cancelable node-p-map node-path-is-absolute\n",
            "  node-process-nextick-args node-promise-inflight node-promise-retry\n",
            "  node-promzard node-pump node-quick-lru node-read node-readable-stream\n",
            "  node-resolve node-retry node-safe-buffer node-set-blocking node-signal-exit\n",
            "  node-slash node-slice-ansi node-source-map node-spdx-correct\n",
            "  node-spdx-exceptions node-spdx-expression-parse node-spdx-license-ids\n",
            "  node-sprintf-js node-stealthy-require node-string-decoder\n",
            "  node-supports-color node-text-table node-time-stamp node-tmatch\n",
            "  node-typedarray-to-buffer node-universalify node-util-deprecate\n",
            "  node-validate-npm-package-license node-webidl-conversions node-whatwg-fetch\n",
            "  node-wrappy node-yallist nodejs-doc\n",
            "Use 'apt autoremove' to remove them.\n",
            "0 upgraded, 0 newly installed, 0 to remove and 43 not upgraded.\n",
            "Hit:1 http://archive.ubuntu.com/ubuntu jammy InRelease\n",
            "Hit:2 http://archive.ubuntu.com/ubuntu jammy-updates InRelease\n",
            "Hit:3 http://archive.ubuntu.com/ubuntu jammy-backports InRelease\n",
            "Hit:4 http://security.ubuntu.com/ubuntu jammy-security InRelease\n",
            "Hit:5 https://cloud.r-project.org/bin/linux/ubuntu jammy-cran40/ InRelease\n",
            "Hit:6 https://cli.github.com/packages stable InRelease\n",
            "Hit:7 https://developer.download.nvidia.com/compute/cuda/repos/ubuntu2204/x86_64  InRelease\n",
            "Hit:8 https://deb.nodesource.com/node_18.x nodistro InRelease\n",
            "Hit:9 https://ppa.launchpadcontent.net/deadsnakes/ppa/ubuntu jammy InRelease\n",
            "Hit:10 https://ppa.launchpadcontent.net/graphics-drivers/ppa/ubuntu jammy InRelease\n",
            "Hit:11 https://ppa.launchpadcontent.net/ubuntugis/ppa/ubuntu jammy InRelease\n",
            "Hit:12 https://r2u.stat.illinois.edu/ubuntu jammy InRelease\n",
            "Reading package lists... Done\n",
            "W: Skipping acquire of configured file 'main/source/Sources' as repository 'https://r2u.stat.illinois.edu/ubuntu jammy InRelease' does not seem to provide it (sources.list entry misspelt?)\n",
            "\u001b[1;34m2025-09-24 04:08:14 - Repository configured successfully.\u001b[0m\n",
            "\u001b[38;5;79m2025-09-24 04:08:14 - To install Node.js, run: apt-get install nodejs -y\u001b[0m\n",
            "\u001b[38;5;79m2025-09-24 04:08:14 - You can use N|solid Runtime as a node.js alternative\u001b[0m\n",
            "\u001b[1;32m2025-09-24 04:08:14 - To install N|solid Runtime, run: apt-get install nsolid -y \n",
            "\u001b[0m\n",
            "Reading package lists... Done\n",
            "Building dependency tree... Done\n",
            "Reading state information... Done\n",
            "Some packages could not be installed. This may mean that you have\n",
            "requested an impossible situation or if you are using the unstable\n",
            "distribution that some required packages have not yet been created\n",
            "or been moved out of Incoming.\n",
            "The following information may help to resolve the situation:\n",
            "\n",
            "The following packages have unmet dependencies:\n",
            " nodejs : Conflicts: npm\n",
            " npm : Depends: node-cacache but it is not going to be installed\n",
            "       Depends: node-gyp but it is not going to be installed\n",
            "       Depends: node-mkdirp but it is not going to be installed\n",
            "       Depends: node-nopt but it is not going to be installed\n",
            "       Depends: node-tar but it is not going to be installed\n",
            "       Depends: node-which but it is not going to be installed\n",
            "       Depends: nodejs:any (>= 10)\n",
            "       Recommends: node-tap but it is not going to be installed\n",
            "E: Unable to correct problems, you have held broken packages.\n",
            "\u001b[1G\u001b[0K⠙\u001b[1G\u001b[0K⠹\u001b[1G\u001b[0K⠸\u001b[1G\u001b[0K⠼\u001b[1G\u001b[0K⠴\u001b[1G\u001b[0K⠦\u001b[1G\u001b[0K⠧\u001b[1G\u001b[0K⠇\u001b[1G\u001b[0K⠏\u001b[1G\u001b[0K⠋\u001b[1G\u001b[0K⠙\u001b[1G\u001b[0K⠹\u001b[1G\u001b[0K⠸\u001b[1G\u001b[0K⠼\u001b[1G\u001b[0K⠴\u001b[1G\u001b[0K⠦\u001b[1G\u001b[0K⠧\u001b[1G\u001b[0K⠇\u001b[1G\u001b[0K⠏\u001b[1G\u001b[0K⠋\u001b[1G\u001b[0K⠙\u001b[1G\u001b[0K⠹\u001b[1G\u001b[0K⠸\u001b[1G\u001b[0K⠼\u001b[1G\u001b[0K⠴\u001b[1G\u001b[0K⠦\u001b[1G\u001b[0K⠧\u001b[1G\u001b[0K⠇\u001b[1G\u001b[0K⠏\u001b[1G\u001b[0K⠋\u001b[1G\u001b[0K⠙\u001b[1G\u001b[0K\n",
            "added 20 packages in 4s\n",
            "\u001b[1G\u001b[0K⠙\u001b[1G\u001b[0K"
          ]
        }
      ],
      "source": [
        "#_______________________________Install Node.js and TypeScript________________\n",
        "!apt-get remove -y nodejs\n",
        "!curl -fsSL https://deb.nodesource.com/setup_18.x | bash -\n",
        "!apt-get install -y nodejs npm\n",
        "!npm install -g typescript ts-node"
      ]
    },
    {
      "cell_type": "markdown",
      "source": [
        "**Verify Installation**"
      ],
      "metadata": {
        "id": "VSo8xX_z6Zp0"
      }
    },
    {
      "cell_type": "code",
      "source": [
        "!node -v     # should show v18.x or higher\n",
        "!tsc -v      # should show TypeScript version\n",
        "!ts-node -v  # should work"
      ],
      "metadata": {
        "colab": {
          "base_uri": "https://localhost:8080/"
        },
        "id": "Y3HOt-S66YkM",
        "outputId": "79af236b-3139-4108-803c-7aa2f220ef4c"
      },
      "execution_count": 10,
      "outputs": [
        {
          "output_type": "stream",
          "name": "stdout",
          "text": [
            "v20.19.0\n",
            "Version 5.9.2\n",
            "v10.9.2\n"
          ]
        }
      ]
    },
    {
      "cell_type": "markdown",
      "source": [
        "**Create a TypeScript File**"
      ],
      "metadata": {
        "id": "WD9iJwpB4MEB"
      }
    },
    {
      "cell_type": "code",
      "source": [
        "%%writefile hello.ts\n",
        "let message: string = \"Hello from TypeScript in Colab!\";\n",
        "console.log(message);"
      ],
      "metadata": {
        "colab": {
          "base_uri": "https://localhost:8080/"
        },
        "id": "tP1eJXeI4KlD",
        "outputId": "f95142d7-f0e8-4e3e-b412-fadb2d54570b"
      },
      "execution_count": 8,
      "outputs": [
        {
          "output_type": "stream",
          "name": "stdout",
          "text": [
            "Overwriting hello.ts\n"
          ]
        }
      ]
    },
    {
      "cell_type": "markdown",
      "source": [
        "**Run the TypeScript File**"
      ],
      "metadata": {
        "id": "MceRdeH64Uwa"
      }
    },
    {
      "cell_type": "code",
      "source": [
        "!tsc hello.ts   # compiles to hello.js\n",
        "!node hello.js  # run compiled JavaScript"
      ],
      "metadata": {
        "colab": {
          "base_uri": "https://localhost:8080/"
        },
        "id": "JujhxCSx4YLE",
        "outputId": "319f2bef-555f-4340-f15a-6f78dcb71291"
      },
      "execution_count": 12,
      "outputs": [
        {
          "output_type": "stream",
          "name": "stdout",
          "text": [
            "Hello from TypeScript in Colab!\n"
          ]
        }
      ]
    },
    {
      "cell_type": "markdown",
      "source": [
        "**TypeScript Variables Overview**\n",
        "\n",
        "| Keyword | Scope           | Can Reassign | Can Redeclare |\n",
        "| ------- | --------------- | ------------ | ------------- |\n",
        "| `var`   | Function/global | ✅            | ✅             |\n",
        "| `let`   | Block           | ✅            | ❌             |\n",
        "| `const` | Block           | ❌            | ❌             |\n",
        "\n",
        "    let age: number = 25;\n",
        "    age = 30; // OK\n",
        "\n",
        "    const PI: number = 3.14159;\n",
        "\n",
        "    var name: string = \"Alice\";\n",
        "    name = \"Bob\"; // OK\n",
        "\n"
      ],
      "metadata": {
        "id": "y0Ts2wm27Emd"
      }
    },
    {
      "cell_type": "markdown",
      "source": [
        "** Data Type Annotations**\n",
        "\n",
        "| **Data Type** | **Description**                                       | **Example**                                                     | **Notes**                                            |\n",
        "| ------------- | ----------------------------------------------------- | --------------------------------------------------------------- | ---------------------------------------------------- |\n",
        "| **number**    | Numeric values (integers & floats)                    | `let age: number = 25;`                                         | Supports decimal, hex, binary, octal                 |\n",
        "| **string**    | Textual data                                          | `let name: string = \"Alice\";`                                   | Use single, double, or backticks (template literals) |\n",
        "| **boolean**   | True/False values                                     | `let isActive: boolean = true;`                                 | Only `true` or `false`                               |\n",
        "| **any**       | Any type of value                                     | `let data: any = 10; data = \"Hi\";`                              | Avoid if possible, disables type checking            |\n",
        "| **unknown**   | Unknown type, safer alternative to `any`              | `let val: unknown = 5;`                                         | Must type-check before using                         |\n",
        "| **array**     | List of elements of same type                         | `let nums: number[] = [1,2,3];`                                 | Can also use `Array<number>` syntax                  |\n",
        "| **tuple**     | Fixed-length array with multiple types                | `let person: [string, number] = [\"Bob\",30];`                    | Access elements by index                             |\n",
        "| **enum**      | Named constants                                       | `enum Color {Red, Green, Blue}; let c: Color = Color.Green;`    | Default values start at 0                            |\n",
        "| **object**    | Key-value pairs or objects                            | `let user: {name:string, age:number} = {name:\"Alice\", age:25};` | Can define custom structure                          |\n",
        "| **bigint**    | Large integers beyond `number` limit                  | `let big: bigint = 12345678901234567890n;`                      | Add `n` suffix                                       |\n",
        "| **symbol**    | Unique identifiers                                    | `const sym: symbol = Symbol(\"id\");`                             | Always unique                                        |\n",
        "| **null**      | Represents absence of a value                         | `let n: null = null;`                                           | Often used with union types                          |\n",
        "| **undefined** | Variable declared but not assigned                    | `let u: undefined;`                                             | Default uninitialized state                          |\n",
        "| **void**      | Usually function return type when nothing is returned | `function log(): void { console.log(\"Hi\"); }`                   | Cannot be assigned to variables                      |\n",
        "| **never**     | Represents unreachable code or exceptions             | `function error(): never { throw new Error(\"Fail\"); }`          | Useful for exhaustive checks                         |\n",
        "\n"
      ],
      "metadata": {
        "id": "8GnD6cYl87JS"
      }
    },
    {
      "cell_type": "code",
      "source": [
        "#______________________Examples of Variable Types_____________________________\n",
        "\n",
        "%%writefile Variable.ts\n",
        "\n",
        "// Number\n",
        "let price: number = 100;\n",
        "\n",
        "console.log(price);\n",
        "\n",
        "// String\n",
        "let greeting: string = \"Hello\";\n",
        "\n",
        "console.log(greeting);\n",
        "\n",
        "// Boolean\n",
        "let isActive: boolean = true;\n",
        "\n",
        "console.log(isActive);\n",
        "\n",
        "// Any\n",
        "let data: any = 42;\n",
        "data = \"Hello\"; // OK\n",
        "\n",
        "console.log(data);\n",
        "\n",
        "// Array\n",
        "let numbers: number[] = [1, 2, 3];\n",
        "let fruits: Array<string> = [\"Apple\", \"Banana\"];\n",
        "\n",
        "console.log(numbers);\n",
        "console.log(fruits);\n",
        "\n",
        "// Tuple\n",
        "let person: [string, number] = [\"Alice\", 30];\n",
        "\n",
        "console.log(person);\n",
        "\n",
        "// Enum\n",
        "enum Color {Red, Green, Blue}\n",
        "let c: Color = Color.Green;\n",
        "\n",
        "console.log(Color);\n",
        "\n",
        "// Object\n",
        "let user: {name: string, age: number} = {name: \"Bob\", age: 25};\n",
        "\n",
        "console.log(user);"
      ],
      "metadata": {
        "colab": {
          "base_uri": "https://localhost:8080/"
        },
        "id": "pCbJ5GUF9KtY",
        "outputId": "45f14d22-ba4e-4cc3-d7f2-685ba34005e4"
      },
      "execution_count": 13,
      "outputs": [
        {
          "output_type": "stream",
          "name": "stdout",
          "text": [
            "Writing Variable.ts\n"
          ]
        }
      ]
    },
    {
      "cell_type": "code",
      "source": [
        "!tsc Variable.ts   # compiles to hello.js\n",
        "!node Variable.js  # run compiled JavaScript"
      ],
      "metadata": {
        "colab": {
          "base_uri": "https://localhost:8080/"
        },
        "id": "UQviYKE9Cb5K",
        "outputId": "de16f2de-aec6-4ece-91c5-0bcf3d2f33da"
      },
      "execution_count": 15,
      "outputs": [
        {
          "output_type": "stream",
          "name": "stdout",
          "text": [
            "\u001b[33m100\u001b[39m\n",
            "Hello\n",
            "\u001b[33mtrue\u001b[39m\n",
            "Hello\n",
            "[ \u001b[33m1\u001b[39m, \u001b[33m2\u001b[39m, \u001b[33m3\u001b[39m ]\n",
            "[ \u001b[32m'Apple'\u001b[39m, \u001b[32m'Banana'\u001b[39m ]\n",
            "[ \u001b[32m'Alice'\u001b[39m, \u001b[33m30\u001b[39m ]\n",
            "{ \u001b[32m'0'\u001b[39m: \u001b[32m'Red'\u001b[39m, \u001b[32m'1'\u001b[39m: \u001b[32m'Green'\u001b[39m, \u001b[32m'2'\u001b[39m: \u001b[32m'Blue'\u001b[39m, Red: \u001b[33m0\u001b[39m, Green: \u001b[33m1\u001b[39m, Blue: \u001b[33m2\u001b[39m }\n",
            "{ name: \u001b[32m'Bob'\u001b[39m, age: \u001b[33m25\u001b[39m }\n"
          ]
        }
      ]
    }
  ]
}