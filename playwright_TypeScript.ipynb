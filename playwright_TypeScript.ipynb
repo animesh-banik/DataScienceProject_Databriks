{
  "nbformat": 4,
  "nbformat_minor": 0,
  "metadata": {
    "colab": {
      "provenance": [],

      "authorship_tag": "ABX9TyMbwCjFpnvoZymDkTc7ubmi",

      "include_colab_link": true
    },
    "kernelspec": {
      "name": "python3",
      "display_name": "Python 3"
    },
    "language_info": {
      "name": "python"
    }
  },
  "cells": [
    {
      "cell_type": "markdown",
      "metadata": {
        "id": "view-in-github",
        "colab_type": "text"
      },
      "source": [

        "<a href=\"https://colab.research.google.com/github/animesh-banik/DataScienceProject_Databriks/blob/main/playwright_TypeScript.ipynb\" target=\"_parent\"><img src=\"https://colab.research.google.com/assets/colab-badge.svg\" alt=\"Open In Colab\"/></a>"

      ]
    },
    {
      "cell_type": "markdown",
      "source": [
        "**Steps to Run TypeScript in Google Colab**"
      ],
      "metadata": {
        "id": "fWkG5YZr3Thz"
      }
    },
    {
      "cell_type": "code",

      "execution_count": 7,
      "metadata": {
        "colab": {
          "base_uri": "https://localhost:8080/"
        },
        "collapsed": true,
        "id": "GoFK3gJDd7wp",
        "outputId": "4b69fb34-6fe1-4e5b-f3b9-604fcdf24672"
      },
      "outputs": [
        {
          "output_type": "stream",
          "name": "stdout",
          "text": [
            "Reading package lists... Done\n",
            "Building dependency tree... Done\n",
            "Reading state information... Done\n",
            "The following packages were automatically installed and are no longer required:\n",
            "  gyp libc-ares2 libjs-events libjs-highlight.js libjs-inherits\n",
            "  libjs-is-typedarray libjs-psl libjs-source-map libjs-sprintf-js\n",
            "  libjs-typedarray-to-buffer libnode-dev libnode72 libnotify-bin libnotify4\n",
            "  libuv1-dev node-abbrev node-ansi-regex node-ansi-styles node-ansistyles\n",
            "  node-are-we-there-yet node-arrify node-asap node-asynckit\n",
            "  node-balanced-match node-brace-expansion node-chownr node-clean-yaml-object\n",
            "  node-color-convert node-color-name node-commander node-core-util-is\n",
            "  node-decompress-response node-delayed-stream node-delegates node-depd\n",
            "  node-diff node-encoding node-end-of-stream node-err-code\n",
            "  node-escape-string-regexp node-fancy-log node-foreground-child\n",
            "  node-fs.realpath node-function-bind node-get-stream node-glob node-growl\n",
            "  node-has-flag node-has-unicode node-hosted-git-info node-iconv-lite\n",
            "  node-iferr node-imurmurhash node-indent-string node-inflight node-inherits\n",
            "  node-ini node-ip node-ip-regex node-is-buffer node-is-plain-obj\n",
            "  node-is-typedarray node-isarray node-isexe node-json-parse-better-errors\n",
            "  node-jsonparse node-kind-of node-lodash-packages node-lowercase-keys\n",
            "  node-lru-cache node-mimic-response node-minimatch node-minimist\n",
            "  node-minipass node-mute-stream node-negotiator node-npm-bundled node-once\n",
            "  node-osenv node-p-cancelable node-p-map node-path-is-absolute\n",
            "  node-process-nextick-args node-promise-inflight node-promise-retry\n",
            "  node-promzard node-pump node-quick-lru node-read node-readable-stream\n",
            "  node-resolve node-retry node-safe-buffer node-set-blocking node-signal-exit\n",
            "  node-slash node-slice-ansi node-source-map node-spdx-correct\n",
            "  node-spdx-exceptions node-spdx-expression-parse node-spdx-license-ids\n",
            "  node-sprintf-js node-stealthy-require node-string-decoder\n",
            "  node-supports-color node-text-table node-time-stamp node-tmatch\n",
            "  node-typedarray-to-buffer node-universalify node-util-deprecate\n",
            "  node-validate-npm-package-license node-webidl-conversions node-whatwg-fetch\n",
            "  node-wrappy node-yallist nodejs-doc\n",
            "Use 'apt autoremove' to remove them.\n",
            "The following packages will be REMOVED:\n",
            "  node-abab node-agent-base node-aproba node-archy node-argparse node-builtins\n",
            "  node-cacache node-chalk node-cli-table node-clone node-colors node-columnify\n",
            "  node-combined-stream node-console-control-strings node-copy-concurrently\n",
            "  node-coveralls node-cssom node-cssstyle node-debug node-defaults\n",
            "  node-esprima node-events node-fetch node-form-data\n",
            "  node-fs-write-stream-atomic node-gauge node-got node-graceful-fs node-gyp\n",
            "  node-https-proxy-agent node-js-yaml node-jsdom node-json-buffer\n",
            "  node-lcov-parse node-log-driver node-mime node-mime-types node-mkdirp\n",
            "  node-move-concurrently node-ms node-nopt node-normalize-package-data\n",
            "  node-npm-package-arg node-npmlog node-object-assign node-opener node-psl\n",
            "  node-punycode node-read-package-json node-rimraf node-run-queue node-semver\n",
            "  node-source-map-support node-ssri node-stack-utils node-string-width\n",
            "  node-strip-ansi node-tap node-tap-mocha-reporter node-tap-parser node-tar\n",
            "  node-tough-cookie node-unique-filename node-validate-npm-package-name\n",
            "  node-wcwidth.js node-which node-wide-align node-write-file-atomic node-ws\n",
            "  nodejs npm\n",
            "0 upgraded, 0 newly installed, 71 to remove and 43 not upgraded.\n",
            "After this operation, 14.0 MB disk space will be freed.\n",
            "(Reading database ... 133997 files and directories currently installed.)\n",
            "Removing node-coveralls (3.1.1-1) ...\n",
            "Removing node-fetch (2.6.7+~2.5.12-1) ...\n",
            "Removing node-jsdom (19.0.0+~cs90.11.27-1) ...\n",
            "Removing node-abab (2.0.5-2) ...\n",
            "Removing npm (8.5.1~ds-1) ...\n",
            "Removing node-ws (8.5.0+~cs13.3.3-2) ...\n",
            "Removing node-https-proxy-agent (5.0.0+~cs8.0.0-3) ...\n",
            "Removing node-agent-base (6.0.2+~cs5.4.2-1) ...\n",
            "Removing node-cacache (15.0.5+~cs13.9.21-3) ...\n",
            "Removing node-move-concurrently (1.0.1-4) ...\n",
            "Removing node-copy-concurrently (1.0.5-8) ...\n",
            "Removing node-run-queue (2.0.0-2) ...\n",
            "Removing node-archy (1.0.0-4) ...\n",
            "Removing node-tap (12.0.1+ds-4) ...\n",
            "Removing node-tap-mocha-reporter (3.0.7+ds-2) ...\n",
            "Removing node-tap-parser (7.0.0+ds1-6) ...\n",
            "Removing node-js-yaml (4.1.0+dfsg+~4.0.5-6) ...\n",
            "Removing node-argparse (2.0.1-2) ...\n",
            "Removing node-npm-package-arg (8.1.5-1) ...\n",
            "Removing node-validate-npm-package-name (3.0.0-4) ...\n",
            "Removing node-builtins (4.0.0-1) ...\n",
            "Removing node-chalk (4.1.2-1) ...\n",
            "Removing node-cli-table (0.3.11+~cs0.13.3-1) ...\n",
            "Removing node-columnify (1.5.4+~1.5.1-1) ...\n",
            "Removing node-gyp (8.4.1-1) ...\n",
            "Removing node-npmlog (6.0.1+~4.1.4-1) ...\n",
            "Removing node-gauge (4.0.2-1) ...\n",
            "Removing node-wide-align (1.1.3-4) ...\n",
            "Removing node-string-width (4.2.3+~cs13.2.3-1) ...\n",
            "Removing node-wcwidth.js (1.0.2-1) ...\n",
            "Removing node-defaults (1.0.3+~1.0.3-1) ...\n",
            "Removing node-clone (2.1.2-3) ...\n",
            "Removing node-colors (1.4.0-3) ...\n",
            "Removing node-form-data (3.0.1-1) ...\n",
            "Removing node-combined-stream (1.0.8+~1.0.3-1) ...\n",
            "Removing node-console-control-strings (1.1.0-2) ...\n",
            "Removing node-cssstyle (2.3.0-2) ...\n",
            "Removing node-cssom (0.4.4-3) ...\n",
            "Removing node-debug (4.3.2+~cs4.1.7-1) ...\n",
            "Removing node-esprima (4.0.1+ds+~4.0.3-2) ...\n",
            "Removing node-events (3.3.0+~3.0.0-2) ...\n",
            "Removing node-fs-write-stream-atomic (1.0.10-5) ...\n",
            "Removing node-got (11.8.3+~cs58.7.37-1) ...\n",
            "Removing node-graceful-fs (4.2.4+repack-1) ...\n",
            "Removing node-json-buffer (3.0.1-1) ...\n",
            "Removing node-lcov-parse (1.0.0+20170612git80d039574ed9-5) ...\n",
            "Removing node-log-driver (1.2.7+git+20180219+bba1761737-7) ...\n",
            "Removing node-mime-types (2.1.33-1) ...\n",
            "Removing node-mime (3.0.0+dfsg+~cs3.96.1-1) ...\n",
            "Removing node-tar (6.1.11+ds1+~cs6.0.6-1) ...\n",
            "Removing node-mkdirp (1.0.4+~1.0.2-1) ...\n",
            "Removing node-ms (2.1.3+~cs0.7.31-2) ...\n",
            "Removing node-nopt (5.0.0-2) ...\n",
            "Removing node-read-package-json (4.1.1-1) ...\n",
            "Removing node-normalize-package-data (3.0.3+~2.4.1-1) ...\n",
            "Removing node-object-assign (4.1.1-6) ...\n",
            "Removing node-opener (1.5.2+~1.4.0-1) ...\n",
            "Removing node-tough-cookie (4.0.0-2) ...\n",
            "Removing node-psl (1.8.0+ds-6) ...\n",
            "Removing node-punycode (2.1.1-5) ...\n",
            "Removing node-rimraf (3.0.2-1) ...\n",
            "Removing node-semver (7.3.5+~7.3.8-1) ...\n",
            "Removing node-source-map-support (0.5.21+ds+~0.5.4-1) ...\n",
            "Removing node-ssri (8.0.1-2) ...\n",
            "Removing node-stack-utils (2.0.5+~2.0.1-1) ...\n",
            "Removing node-strip-ansi (6.0.1-1) ...\n",
            "Removing node-unique-filename (1.1.1+ds-1) ...\n",
            "Removing node-which (2.0.2+~cs1.3.2-2) ...\n",
            "Removing node-write-file-atomic (3.0.3+~3.0.2-1) ...\n",
            "Removing node-aproba (2.0.0-2) ...\n",
            "Removing nodejs (12.22.9~dfsg-1ubuntu3.6) ...\n",
            "Processing triggers for man-db (2.10.2-1) ...\n",
            "\u001b[38;5;79m2025-09-24 04:08:02 - Installing pre-requisites\u001b[0m\n",
            "Hit:1 http://security.ubuntu.com/ubuntu jammy-security InRelease\n",
            "Hit:2 http://archive.ubuntu.com/ubuntu jammy InRelease\n",
            "Hit:3 http://archive.ubuntu.com/ubuntu jammy-updates InRelease\n",
            "Hit:4 http://archive.ubuntu.com/ubuntu jammy-backports InRelease\n",
            "Hit:5 https://cli.github.com/packages stable InRelease\n",
            "Hit:6 https://cloud.r-project.org/bin/linux/ubuntu jammy-cran40/ InRelease\n",
            "Hit:7 https://developer.download.nvidia.com/compute/cuda/repos/ubuntu2204/x86_64  InRelease\n",
            "Hit:8 https://deb.nodesource.com/node_18.x nodistro InRelease\n",
            "Hit:9 https://ppa.launchpadcontent.net/deadsnakes/ppa/ubuntu jammy InRelease\n",
            "Hit:10 https://ppa.launchpadcontent.net/graphics-drivers/ppa/ubuntu jammy InRelease\n",
            "Hit:11 https://ppa.launchpadcontent.net/ubuntugis/ppa/ubuntu jammy InRelease\n",
            "Hit:12 https://r2u.stat.illinois.edu/ubuntu jammy InRelease\n",
            "Reading package lists... Done\n",
            "W: Skipping acquire of configured file 'main/source/Sources' as repository 'https://r2u.stat.illinois.edu/ubuntu jammy InRelease' does not seem to provide it (sources.list entry misspelt?)\n",
            "Reading package lists... Done\n",
            "Building dependency tree... Done\n",
            "Reading state information... Done\n",
            "ca-certificates is already the newest version (20240203~22.04.1).\n",
            "curl is already the newest version (7.81.0-1ubuntu1.20).\n",
            "gnupg is already the newest version (2.2.27-3ubuntu2.4).\n",
            "apt-transport-https is already the newest version (2.4.14).\n",
            "The following packages were automatically installed and are no longer required:\n",
            "  gyp libc-ares2 libjs-events libjs-highlight.js libjs-inherits\n",
            "  libjs-is-typedarray libjs-psl libjs-source-map libjs-sprintf-js\n",
            "  libjs-typedarray-to-buffer libnode-dev libnode72 libnotify-bin libnotify4\n",
            "  libuv1-dev node-abbrev node-ansi-regex node-ansi-styles node-ansistyles\n",
            "  node-are-we-there-yet node-arrify node-asap node-asynckit\n",
            "  node-balanced-match node-brace-expansion node-chownr node-clean-yaml-object\n",
            "  node-color-convert node-color-name node-commander node-core-util-is\n",
            "  node-decompress-response node-delayed-stream node-delegates node-depd\n",
            "  node-diff node-encoding node-end-of-stream node-err-code\n",
            "  node-escape-string-regexp node-fancy-log node-foreground-child\n",
            "  node-fs.realpath node-function-bind node-get-stream node-glob node-growl\n",
            "  node-has-flag node-has-unicode node-hosted-git-info node-iconv-lite\n",
            "  node-iferr node-imurmurhash node-indent-string node-inflight node-inherits\n",
            "  node-ini node-ip node-ip-regex node-is-buffer node-is-plain-obj\n",
            "  node-is-typedarray node-isarray node-isexe node-json-parse-better-errors\n",
            "  node-jsonparse node-kind-of node-lodash-packages node-lowercase-keys\n",
            "  node-lru-cache node-mimic-response node-minimatch node-minimist\n",
            "  node-minipass node-mute-stream node-negotiator node-npm-bundled node-once\n",
            "  node-osenv node-p-cancelable node-p-map node-path-is-absolute\n",
            "  node-process-nextick-args node-promise-inflight node-promise-retry\n",
            "  node-promzard node-pump node-quick-lru node-read node-readable-stream\n",
            "  node-resolve node-retry node-safe-buffer node-set-blocking node-signal-exit\n",
            "  node-slash node-slice-ansi node-source-map node-spdx-correct\n",
            "  node-spdx-exceptions node-spdx-expression-parse node-spdx-license-ids\n",
            "  node-sprintf-js node-stealthy-require node-string-decoder\n",
            "  node-supports-color node-text-table node-time-stamp node-tmatch\n",
            "  node-typedarray-to-buffer node-universalify node-util-deprecate\n",
            "  node-validate-npm-package-license node-webidl-conversions node-whatwg-fetch\n",
            "  node-wrappy node-yallist nodejs-doc\n",
            "Use 'apt autoremove' to remove them.\n",
            "0 upgraded, 0 newly installed, 0 to remove and 43 not upgraded.\n",
            "Hit:1 http://archive.ubuntu.com/ubuntu jammy InRelease\n",
            "Hit:2 http://archive.ubuntu.com/ubuntu jammy-updates InRelease\n",
            "Hit:3 http://archive.ubuntu.com/ubuntu jammy-backports InRelease\n",
            "Hit:4 http://security.ubuntu.com/ubuntu jammy-security InRelease\n",
            "Hit:5 https://cloud.r-project.org/bin/linux/ubuntu jammy-cran40/ InRelease\n",
            "Hit:6 https://cli.github.com/packages stable InRelease\n",
            "Hit:7 https://developer.download.nvidia.com/compute/cuda/repos/ubuntu2204/x86_64  InRelease\n",
            "Hit:8 https://deb.nodesource.com/node_18.x nodistro InRelease\n",
            "Hit:9 https://ppa.launchpadcontent.net/deadsnakes/ppa/ubuntu jammy InRelease\n",
            "Hit:10 https://ppa.launchpadcontent.net/graphics-drivers/ppa/ubuntu jammy InRelease\n",
            "Hit:11 https://ppa.launchpadcontent.net/ubuntugis/ppa/ubuntu jammy InRelease\n",
            "Hit:12 https://r2u.stat.illinois.edu/ubuntu jammy InRelease\n",
            "Reading package lists... Done\n",
            "W: Skipping acquire of configured file 'main/source/Sources' as repository 'https://r2u.stat.illinois.edu/ubuntu jammy InRelease' does not seem to provide it (sources.list entry misspelt?)\n",
            "\u001b[1;34m2025-09-24 04:08:14 - Repository configured successfully.\u001b[0m\n",
            "\u001b[38;5;79m2025-09-24 04:08:14 - To install Node.js, run: apt-get install nodejs -y\u001b[0m\n",
            "\u001b[38;5;79m2025-09-24 04:08:14 - You can use N|solid Runtime as a node.js alternative\u001b[0m\n",
            "\u001b[1;32m2025-09-24 04:08:14 - To install N|solid Runtime, run: apt-get install nsolid -y \n",
            "\u001b[0m\n",
            "Reading package lists... Done\n",
            "Building dependency tree... Done\n",
            "Reading state information... Done\n",
            "Some packages could not be installed. This may mean that you have\n",
            "requested an impossible situation or if you are using the unstable\n",
            "distribution that some required packages have not yet been created\n",
            "or been moved out of Incoming.\n",
            "The following information may help to resolve the situation:\n",
            "\n",
            "The following packages have unmet dependencies:\n",
            " nodejs : Conflicts: npm\n",
            " npm : Depends: node-cacache but it is not going to be installed\n",
            "       Depends: node-gyp but it is not going to be installed\n",
            "       Depends: node-mkdirp but it is not going to be installed\n",
            "       Depends: node-nopt but it is not going to be installed\n",
            "       Depends: node-tar but it is not going to be installed\n",
            "       Depends: node-which but it is not going to be installed\n",
            "       Depends: nodejs:any (>= 10)\n",
            "       Recommends: node-tap but it is not going to be installed\n",
            "E: Unable to correct problems, you have held broken packages.\n",
            "\u001b[1G\u001b[0K⠙\u001b[1G\u001b[0K⠹\u001b[1G\u001b[0K⠸\u001b[1G\u001b[0K⠼\u001b[1G\u001b[0K⠴\u001b[1G\u001b[0K⠦\u001b[1G\u001b[0K⠧\u001b[1G\u001b[0K⠇\u001b[1G\u001b[0K⠏\u001b[1G\u001b[0K⠋\u001b[1G\u001b[0K⠙\u001b[1G\u001b[0K⠹\u001b[1G\u001b[0K⠸\u001b[1G\u001b[0K⠼\u001b[1G\u001b[0K⠴\u001b[1G\u001b[0K⠦\u001b[1G\u001b[0K⠧\u001b[1G\u001b[0K⠇\u001b[1G\u001b[0K⠏\u001b[1G\u001b[0K⠋\u001b[1G\u001b[0K⠙\u001b[1G\u001b[0K⠹\u001b[1G\u001b[0K⠸\u001b[1G\u001b[0K⠼\u001b[1G\u001b[0K⠴\u001b[1G\u001b[0K⠦\u001b[1G\u001b[0K⠧\u001b[1G\u001b[0K⠇\u001b[1G\u001b[0K⠏\u001b[1G\u001b[0K⠋\u001b[1G\u001b[0K⠙\u001b[1G\u001b[0K\n",
            "added 20 packages in 4s\n",
            "\u001b[1G\u001b[0K⠙\u001b[1G\u001b[0K"
          ]
        }
      ],

      "source": [
        "#_______________________________Install Node.js and TypeScript________________\n",
        "!apt-get remove -y nodejs\n",
        "!curl -fsSL https://deb.nodesource.com/setup_18.x | bash -\n",
        "!apt-get install -y nodejs npm\n",
        "!npm install -g typescript ts-node"
      ]
    },
    {
      "cell_type": "markdown",
      "source": [
        "**Verify Installation**"
      ],
      "metadata": {
        "id": "VSo8xX_z6Zp0"
      }
    },
    {
      "cell_type": "code",
      "source": [
        "!node -v     # should show v18.x or higher\n",
        "!tsc -v      # should show TypeScript version\n",
        "!ts-node -v  # should work"
      ],
      "metadata": {
        "colab": {
          "base_uri": "https://localhost:8080/"
        },
        "id": "Y3HOt-S66YkM",

        "outputId": "79af236b-3139-4108-803c-7aa2f220ef4c"
      },
      "execution_count": 10,

      "outputs": [
        {
          "output_type": "stream",
          "name": "stdout",
          "text": [
            "v20.19.0\n",
            "Version 5.9.2\n",
            "v10.9.2\n"
          ]
        }
      ]
    },
    {
      "cell_type": "markdown",
      "source": [
        "**Create a TypeScript File**"
      ],
      "metadata": {
        "id": "WD9iJwpB4MEB"
      }
    },
    {
      "cell_type": "code",
      "source": [
        "%%writefile hello.ts\n",
        "let message: string = \"Hello from TypeScript in Colab!\";\n",
        "console.log(message);"
      ],
      "metadata": {
        "colab": {
          "base_uri": "https://localhost:8080/"
        },
        "id": "tP1eJXeI4KlD",
        "outputId": "f95142d7-f0e8-4e3e-b412-fadb2d54570b"
      },
      "execution_count": 8,
      "outputs": [
        {
          "output_type": "stream",
          "name": "stdout",
          "text": [
            "Overwriting hello.ts\n"
          ]
        }
      ]
    },
    {
      "cell_type": "markdown",
      "source": [
        "**Run the TypeScript File**"
      ],
      "metadata": {
        "id": "MceRdeH64Uwa"
      }
    },
    {
      "cell_type": "code",
      "source": [
        "!tsc hello.ts   # compiles to hello.js\n",
        "!node hello.js  # run compiled JavaScript"
      ],
      "metadata": {
        "colab": {
          "base_uri": "https://localhost:8080/"
        },
        "id": "JujhxCSx4YLE",
        "outputId": "319f2bef-555f-4340-f15a-6f78dcb71291"
      },
      "execution_count": 12,
      "outputs": [
        {
          "output_type": "stream",
          "name": "stdout",
          "text": [
            "Hello from TypeScript in Colab!\n"
          ]
        }
      ]
    },
    {
      "cell_type": "markdown",
      "source": [
        "**TypeScript Variables Overview**\n",
        "\n",
        "| Keyword | Scope           | Can Reassign | Can Redeclare |\n",
        "| ------- | --------------- | ------------ | ------------- |\n",
        "| `var`   | Function/global | ✅            | ✅             |\n",
        "| `let`   | Block           | ✅            | ❌             |\n",
        "| `const` | Block           | ❌            | ❌             |\n",
        "\n",
        "    let age: number = 25;\n",
        "    age = 30; // OK\n",
        "\n",
        "    const PI: number = 3.14159;\n",
        "\n",
        "    var name: string = \"Alice\";\n",
        "    name = \"Bob\"; // OK\n",
        "\n"
      ],
      "metadata": {
        "id": "y0Ts2wm27Emd"
      }
    },
    {
      "cell_type": "markdown",
      "source": [
        "** Data Type Annotations**\n",
        "\n",
        "| **Data Type** | **Description**                                       | **Example**                                                     | **Notes**                                            |\n",
        "| ------------- | ----------------------------------------------------- | --------------------------------------------------------------- | ---------------------------------------------------- |\n",
        "| **number**    | Numeric values (integers & floats)                    | `let age: number = 25;`                                         | Supports decimal, hex, binary, octal                 |\n",
        "| **string**    | Textual data                                          | `let name: string = \"Alice\";`                                   | Use single, double, or backticks (template literals) |\n",
        "| **boolean**   | True/False values                                     | `let isActive: boolean = true;`                                 | Only `true` or `false`                               |\n",
        "| **any**       | Any type of value                                     | `let data: any = 10; data = \"Hi\";`                              | Avoid if possible, disables type checking            |\n",
        "| **unknown**   | Unknown type, safer alternative to `any`              | `let val: unknown = 5;`                                         | Must type-check before using                         |\n",
        "| **array**     | List of elements of same type                         | `let nums: number[] = [1,2,3];`                                 | Can also use `Array<number>` syntax                  |\n",
        "| **tuple**     | Fixed-length array with multiple types                | `let person: [string, number] = [\"Bob\",30];`                    | Access elements by index                             |\n",
        "| **enum**      | Named constants                                       | `enum Color {Red, Green, Blue}; let c: Color = Color.Green;`    | Default values start at 0                            |\n",
        "| **object**    | Key-value pairs or objects                            | `let user: {name:string, age:number} = {name:\"Alice\", age:25};` | Can define custom structure                          |\n",
        "| **bigint**    | Large integers beyond `number` limit                  | `let big: bigint = 12345678901234567890n;`                      | Add `n` suffix                                       |\n",
        "| **symbol**    | Unique identifiers                                    | `const sym: symbol = Symbol(\"id\");`                             | Always unique                                        |\n",
        "| **null**      | Represents absence of a value                         | `let n: null = null;`                                           | Often used with union types                          |\n",
        "| **undefined** | Variable declared but not assigned                    | `let u: undefined;`                                             | Default uninitialized state                          |\n",
        "| **void**      | Usually function return type when nothing is returned | `function log(): void { console.log(\"Hi\"); }`                   | Cannot be assigned to variables                      |\n",
        "| **never**     | Represents unreachable code or exceptions             | `function error(): never { throw new Error(\"Fail\"); }`          | Useful for exhaustive checks                         |\n",
        "\n"
      ],
      "metadata": {
        "id": "8GnD6cYl87JS"
      }
    },
    {
      "cell_type": "code",
      "source": [
        "#______________________Examples of Variable Types_____________________________\n",
        "\n",
        "%%writefile Variable.ts\n",
        "\n",
        "// Number\n",
        "let price: number = 100;\n",
        "\n",
        "console.log(price);\n",
        "\n",
        "// String\n",
        "let greeting: string = \"Hello\";\n",
        "\n",
        "console.log(greeting);\n",
        "\n",
        "// Boolean\n",
        "let isActive: boolean = true;\n",
        "\n",
        "console.log(isActive);\n",
        "\n",
        "// Any\n",
        "let data: any = 42;\n",
        "data = \"Hello\"; // OK\n",
        "\n",
        "console.log(data);\n",
        "\n",
        "// Array\n",
        "let numbers: number[] = [1, 2, 3];\n",
        "let fruits: Array<string> = [\"Apple\", \"Banana\"];\n",
        "\n",
        "console.log(numbers);\n",
        "console.log(fruits);\n",
        "\n",
        "// Tuple\n",
        "let person: [string, number] = [\"Alice\", 30];\n",
        "\n",
        "console.log(person);\n",
        "\n",
        "// Enum\n",
        "enum Color {Red, Green, Blue}\n",
        "let c: Color = Color.Green;\n",
        "\n",
        "console.log(Color);\n",
        "\n",
        "// Object\n",
        "let user: {name: string, age: number} = {name: \"Bob\", age: 25};\n",
        "\n",
        "console.log(user);"
      ],
      "metadata": {
        "colab": {
          "base_uri": "https://localhost:8080/"
        },
        "id": "pCbJ5GUF9KtY",
        "outputId": "45f14d22-ba4e-4cc3-d7f2-685ba34005e4"
      },
      "execution_count": 13,
      "outputs": [
        {
          "output_type": "stream",
          "name": "stdout",
          "text": [
            "Writing Variable.ts\n"
          ]
        }
      ]
    },
    {
      "cell_type": "code",
      "source": [
        "!tsc Variable.ts   # compiles to hello.js\n",
        "!node Variable.js  # run compiled JavaScript"
      ],
      "metadata": {
        "colab": {
          "base_uri": "https://localhost:8080/"
        },
        "id": "UQviYKE9Cb5K",
        "outputId": "de16f2de-aec6-4ece-91c5-0bcf3d2f33da"
      },
      "execution_count": 15,
      "outputs": [
        {
          "output_type": "stream",
          "name": "stdout",
          "text": [
            "\u001b[33m100\u001b[39m\n",
            "Hello\n",
            "\u001b[33mtrue\u001b[39m\n",
            "Hello\n",
            "[ \u001b[33m1\u001b[39m, \u001b[33m2\u001b[39m, \u001b[33m3\u001b[39m ]\n",
            "[ \u001b[32m'Apple'\u001b[39m, \u001b[32m'Banana'\u001b[39m ]\n",
            "[ \u001b[32m'Alice'\u001b[39m, \u001b[33m30\u001b[39m ]\n",
            "{ \u001b[32m'0'\u001b[39m: \u001b[32m'Red'\u001b[39m, \u001b[32m'1'\u001b[39m: \u001b[32m'Green'\u001b[39m, \u001b[32m'2'\u001b[39m: \u001b[32m'Blue'\u001b[39m, Red: \u001b[33m0\u001b[39m, Green: \u001b[33m1\u001b[39m, Blue: \u001b[33m2\u001b[39m }\n",
            "{ name: \u001b[32m'Bob'\u001b[39m, age: \u001b[33m25\u001b[39m }\n"
          ]
        }
      ]

    },
    {
      "cell_type": "markdown",
      "source": [
        "** All Operators in TypeScript**\n",
        "\n",
        "| **Category**              | **Operators**                                                                     | **Example**                                       |\n",
        "| ------------------------- | --------------------------------------------------------------------------------- | ------------------------------------------------- |\n",
        "| **Arithmetic Operators**  | `+`, `-`, `*`, `/`, `%`, `**`                                                     | `10 % 3 // 1`, `2 ** 3 // 8`                      |\n",
        "| **Unary Operators**       | `+`, `-`, `++`, `--`, `~`, `!`                                                    | `let y = -x;`, `!true // false`                   |\n",
        "| **Assignment Operators**  | `=`, `+=`, `-=`, `*=`, `/=`, `%=`, `**=`, `<<=`, `>>=`, `>>>=`, `&=`, `^=`, `\\|=` | `x += 5;`, `a <<= 2;`                             |\n",
        "| **Comparison Operators**  | `==`, `===`, `!=`, `!==`, `>`, `<`, `>=`, `<=`                                    | `5 === \"5\" // false`                              |\n",
        "| **Logical Operators**     | `&&`, `\\|\\|`, `!`                                                                 | `(x > 0 && y > 0)`                                |\n",
        "| **Bitwise Operators**     | `&`, `\\|`, `^`, `~`, `<<`, `>>`, `>>>`                                            | `5 & 1 // 1`, `5 >> 1 // 2`                       |\n",
        "| **Conditional (Ternary)** | `condition ? expr1 : expr2`                                                       | `(age >= 18) ? \"Adult\" : \"Minor\"`                 |\n",
        "| **String Operator**       | `+` (concatenation)                                                               | `\"Hello \" + \"World\"`                              |\n",
        "| **Type Operators**        | `typeof`, `instanceof`                                                            | `typeof \"abc\" // \"string\"`, `obj instanceof Date` |\n",
        "| **Nullish Coalescing**    | `??`                                                                              | `let user = name ?? \"Guest\";`                     |\n",
        "| **Optional Chaining**     | `?.`                                                                              | `user?.address?.city`                             |\n",
        "| **Spread / Rest**         | `...`                                                                             | `let arr = [...nums];`                            |\n",
        "| **Destructuring**         | `=` with `{}` / `[]`                                                              | `const {a, b} = obj;`                             |\n",
        "| **Comma Operator**        | `,`                                                                               | `let x = (1, 2, 3); // 3`                         |\n",
        "| **Delete Operator**       | `delete`                                                                          | `delete obj.key;`                                 |\n",
        "| **In Operator**           | `in`                                                                              | `\"name\" in person // true`                        |\n",
        "| **New Operator**          | `new`                                                                             | `let d = new Date();`                             |\n",
        "| **Void Operator**         | `void`                                                                            | `void 0 // undefined`                             |\n",
        "| **Type Assertions**       | `as`, `<type>`                                                                    | `let val = someVar as string;`                    |\n",
        "| **Non-Null Assertion**    | `!` (postfix)                                                                     | `user!.id` (asserts `user` is not null/undefined) |\n",
        "| **Await Operator**        | `await`                                                                           | `let data = await fetch(url);`                    |\n",
        "| **Yield Operator**        | `yield`, `yield*`                                                                 | Used in generator functions                       |\n"
      ],
      "metadata": {
        "id": "GzuQLBnXPMAC"
      }
    },
    {
      "cell_type": "markdown",
      "source": [
        "**Conditional Statements in TypeScript**\n",
        "\n",
        "| **Statement**                                 | **Syntax**                                                                        | **Example**                                                                                                                                              |                                                                               |\n",
        "| --------------------------------------------- | --------------------------------------------------------------------------------- | -------------------------------------------------------------------------------------------------------------------------------------------------------- | ----------------------------------------------------------------------------- |\n",
        "| **`if` statement**                            | `ts if (condition) { ... } `                                                      | `ts let age = 18; if (age >= 18) { console.log(\"Adult\"); } `                                                                                             |                                                                               |\n",
        "| **`if-else` statement**                       | `ts if (condition) { ... } else { ... } `                                         | `ts let age = 16; if (age >= 18) { console.log(\"Adult\"); } else { console.log(\"Minor\"); } `                                                              |                                                                               |\n",
        "| **`if-else if` ladder**                       | `ts if (cond1) { ... } else if (cond2) { ... } else { ... } `                     | `ts let marks = 75; if (marks >= 90) { console.log(\"A\"); } else if (marks >= 60) { console.log(\"B\"); } else { console.log(\"C\"); } `                      |                                                                               |\n",
        "| **`switch` statement**                        | `ts switch(expr) { case val1: ...; break; case val2: ...; break; default: ... } ` | `ts let color = \"red\"; switch(color) { case \"red\": console.log(\"Stop\"); break; case \"green\": console.log(\"Go\"); break; default: console.log(\"Wait\"); } ` |                                                                               |\n",
        "| **Ternary Operator** (conditional expression) | `ts condition ? expr1 : expr2 `                                                   | `ts let age = 20; let type = (age >= 18) ? \"Adult\" : \"Minor\"; console.log(type); `                                                                       |                                                                               |\n",
        "| **Optional Chaining (`?.`)**                  | `ts obj?.property `                                                               | `ts let user = {name: \"Alice\"}; console.log(user?.name); // \"Alice\" console.log(user?.address?.city); // undefined `                                     |                                                                               |\n",
        "| **Nullish Coalescing (`??`)**                 | `ts value ?? defaultValue `                                                       | \\`\\`\\`ts let name: string                                                                                                                                | null = null; let user = name ?? \"Guest\"; console.log(user); // \"Guest\" \\`\\`\\` |\n"
      ],
      "metadata": {
        "id": "F2fhntsvPo6W"
      }
    },
    {
      "cell_type": "code",
      "source": [
        "#______________________Examples of Conditional Statements in TypeScript_________\n",
        "\n",
        "%%writefile ConditionalStatements.ts\n",
        "\n",
        "//__________if statement_______________-\n",
        "\n",
        "let age1 = 18;\n",
        "if (age1 >= 18) {\n",
        "    console.log(\"Adult\");\n",
        "     }\n",
        "\n",
        "//_______________if-else statement_______________\n",
        "\n",
        "age1 = 16;\n",
        "if (age1 >= 18)\n",
        "{\n",
        "    console.log(\"Adult\");\n",
        "    }\n",
        "else {\n",
        "    console.log(\"Minor\");\n",
        "    }\n",
        "\n",
        "\n",
        "//________________________if-else if_______________\n",
        "\n",
        "let marks = 75;\n",
        "\n",
        "if (marks >= 90) {\n",
        "    console.log(\"A\");\n",
        "     }\n",
        "else if (marks >= 60) {\n",
        "    console.log(\"B\");\n",
        "    }\n",
        "else {\n",
        "     console.log(\"C\");\n",
        "     }\n",
        "\n",
        "//_________________switch statement_______________\n",
        "\n",
        "let color = \"red\";\n",
        "switch(color) {\n",
        "    case \"red\":\n",
        "    console.log(\"Stop\");\n",
        "    break;\n",
        "    case \"green\":\n",
        "    console.log(\"Go\");\n",
        "    break; default:\n",
        "    console.log(\"Wait\"); }\n",
        "\n",
        "//______________________Ternary Operator (conditional expression)_______________________________Install\n",
        "\n",
        "age1 = 20;\n",
        "let type = (age1 >= 18) ? \"Adult\" : \"Minor\";\n",
        "console.log(type);\n",
        "\n",
        "//__________________________Optional Chaining (?.)_______________________________Install\n",
        "\n",
        "type User = {\n",
        "  name: string;\n",
        "  address?: {\n",
        "    city?: string;\n",
        "    zip?: number;\n",
        "  };\n",
        "};\n",
        "\n",
        "let user1: User = { name: \"Alice\", address: { city: \"Delhi\" } };\n",
        "let user2: User = { name: \"Bob\" };\n",
        "\n",
        "console.log(user1.address?.city); // \"Delhi\"\n",
        "console.log(user2.address?.city); // undefined (no error, safe)\n"
      ],
      "metadata": {
        "colab": {
          "base_uri": "https://localhost:8080/"
        },
        "id": "Ic4LUvXqPzGm",
        "outputId": "76500dcb-bb9e-4d13-a465-329baf86bfe3"
      },
      "execution_count": 34,
      "outputs": [
        {
          "output_type": "stream",
          "name": "stdout",
          "text": [
            "Overwriting ConditionalStatements.ts\n"
          ]
        }
      ]
    },
    {
      "cell_type": "code",
      "source": [
        "!tsc ConditionalStatements.ts   # compiles to hello.js\n",
        "!node ConditionalStatements.js  # run compiled JavaScript"
      ],
      "metadata": {
        "colab": {
          "base_uri": "https://localhost:8080/"
        },
        "id": "zHTzBqiyRPi6",
        "outputId": "355eaa6e-1a46-4f94-ff24-b016fb4c306e"
      },
      "execution_count": 35,
      "outputs": [
        {
          "output_type": "stream",
          "name": "stdout",
          "text": [
            "Adult\n",
            "Minor\n",
            "B\n",
            "Stop\n",
            "Adult\n",
            "Delhi\n",
            "\u001b[90mundefined\u001b[39m\n"
          ]
        }
      ]
    },
    {
      "cell_type": "markdown",
      "source": [
        "**Types of Loops in TypeScript**\n",
        "\n",
        "| Loop Type    | Description                                                  | Example                                                      |\n",
        "| ------------ | ------------------------------------------------------------ | ------------------------------------------------------------ |\n",
        "| **for**      | Runs a block of code a specific number of times.             | `for (let i = 0; i < 5; i++) { console.log(i); }`            |\n",
        "| **for…of**   | Iterates over values of an iterable (arrays, strings, etc.). | `for (let num of [10, 20, 30]) { console.log(num); }`        |\n",
        "| **for…in**   | Iterates over the keys (properties) of an object.            | `for (let key in person) { console.log(key, person[key]); }` |\n",
        "| **while**    | Runs while a condition is true.                              | `let i = 0; while (i < 5) { console.log(i); i++; }`          |\n",
        "| **do…while** | Runs at least once, then continues while condition is true.  | `let i = 0; do { console.log(i); i++; } while (i < 5);`      |\n"
      ],
      "metadata": {
        "id": "HgfJGdrvU4U0"
      }
    },
    {
      "cell_type": "markdown",
      "source": [
        "Use for when you know the number of iterations.\n",
        "\n",
        "Use for…of for arrays and iterable values.\n",
        "\n",
        "Use for…in for object properties.\n",
        "\n",
        "Use while when the number of iterations is unknown.\n",
        "\n",
        "Use do…while when you want the loop to run at least once"
      ],
      "metadata": {
        "id": "bzVxCYhWV8za"
      }
    },
    {
      "cell_type": "code",
      "source": [
        "#______________________Examples of  Loops in TypeScript _________\n",
        "\n",
        "%%writefile LoopsinTypeScript.ts\n",
        "\n",
        "//__________________________________________for__________________\n",
        "\n",
        "console.log(\"For Loop:\\n\");\n",
        "\n",
        "for (let i = 1; i <= 5; i++) {\n",
        "  console.log(\"Number:\", i);\n",
        "}\n",
        "//for…of\n",
        "\n",
        "console.log(\"\\nFor…of Loop:\\n\");\n",
        "\n",
        "let colors: string[] = [\"Red\", \"Green\", \"Blue\"];\n",
        "\n",
        "for (let color of colors) {\n",
        "  console.log(color);\n",
        "}\n",
        "\n",
        "//_______________________________________for…in_______________________\n",
        "\n",
        "console.log(\"\\nFor…in Loop:\\n\");\n",
        "\n",
        "let person = { name: \"Alice\", age: 25, city: \"Delhi\" };\n",
        "\n",
        "for (let key in person) {\n",
        "  console.log(key, \":\", person[key as keyof typeof person]);\n",
        "}\n",
        "\n",
        " //___________________________________while__________________\n",
        "\n",
        " console.log(\"\\nWhile Loop:\\n\");\n",
        "\n",
        " let i: number = 0;\n",
        "\n",
        "while (i < 3) {\n",
        "  console.log(\"Count:\", i);\n",
        "  i++;\n",
        "}\n",
        "\n",
        "//________________________________do…while loop_________________\n",
        "\n",
        "console.log(\"\\nDo…While Loop:\\n\");\n",
        "\n",
        "let j: number = 0;\n",
        "\n",
        "do {\n",
        "  console.log(\"DoWhile Count:\", j);\n",
        "  j++;\n",
        "} while (j < 3);"
      ],
      "metadata": {
        "colab": {
          "base_uri": "https://localhost:8080/"
        },
        "id": "MLT8nvaPVBYu",
        "outputId": "3b80a67d-466c-4340-fbad-5b4b88145485"
      },
      "execution_count": 43,
      "outputs": [
        {
          "output_type": "stream",
          "name": "stdout",
          "text": [
            "Overwriting LoopsinTypeScript.ts\n"
          ]
        }
      ]
    },
    {
      "cell_type": "code",
      "source": [
        "!tsc LoopsinTypeScript.ts   # compiles to hello.js\n",
        "!node LoopsinTypeScript.js  # run compiled JavaScript"
      ],
      "metadata": {
        "colab": {
          "base_uri": "https://localhost:8080/"
        },
        "id": "UN7PcNeAWN2F",
        "outputId": "50187b14-4f79-411f-a832-3a30d9e82a9c"
      },
      "execution_count": 44,
      "outputs": [
        {
          "output_type": "stream",
          "name": "stdout",
          "text": [
            "For Loop:\n",
            "\n",
            "Number: \u001b[33m1\u001b[39m\n",
            "Number: \u001b[33m2\u001b[39m\n",
            "Number: \u001b[33m3\u001b[39m\n",
            "Number: \u001b[33m4\u001b[39m\n",
            "Number: \u001b[33m5\u001b[39m\n",
            "\n",
            "For…of Loop:\n",
            "\n",
            "Red\n",
            "Green\n",
            "Blue\n",
            "\n",
            "For…in Loop:\n",
            "\n",
            "name : Alice\n",
            "age : \u001b[33m25\u001b[39m\n",
            "city : Delhi\n",
            "\n",
            "While Loop:\n",
            "\n",
            "Count: \u001b[33m0\u001b[39m\n",
            "Count: \u001b[33m1\u001b[39m\n",
            "Count: \u001b[33m2\u001b[39m\n",
            "\n",
            "Do…While Loop:\n",
            "\n",
            "DoWhile Count: \u001b[33m0\u001b[39m\n",
            "DoWhile Count: \u001b[33m1\u001b[39m\n",
            "DoWhile Count: \u001b[33m2\u001b[39m\n"
          ]
        }
      ]
    },
    {
      "cell_type": "markdown",
      "source": [
        "**Functions in TypeScript**\n",
        "\n",
        "**Function Declaration**\n",
        "\n",
        "    function greet(name: string): string {\n",
        "    return `Hello, ${name}`;\n",
        "    }\n",
        "\n",
        "    console.log(greet(\"Alice\")); // Hello, Alice\n",
        "\n",
        "name: string → parameter type\n",
        "\n",
        ": string → return type\n",
        "\n",
        "\n",
        "**Function Expression**\n",
        "\n",
        "    const add = function (a: number, b: number): number {\n",
        "    return a + b;\n",
        "    };\n",
        "\n",
        "    console.log(add(5, 3)); // 8\n",
        "\n",
        "\n",
        "**Arrow Function**\n",
        "\n",
        "    const multiply = (x: number, y: number): number => x * y;\n",
        "\n",
        "    console.log(multiply(4, 2)); // 8\n",
        "\n",
        "**Optional Parameters (?)**\n",
        "\n",
        "    function printMessage(message: string, user?: string): void {\n",
        "    console.log(user ? `${user}: ${message}` : message);\n",
        "    }\n",
        "\n",
        "    printMessage(\"Hello\");           // Hello\n",
        "    printMessage(\"Hello\", \"Alice\");  // Alice: Hello\n",
        "\n",
        "\n",
        "**Default Parameters**\n",
        "\n",
        "    function greetUser(name: string = \"Guest\"): string {\n",
        "    return `Welcome, ${name}`;\n",
        "    }\n",
        "\n",
        "    console.log(greetUser());        // Welcome, Guest\n",
        "    console.log(greetUser(\"Bob\"));   // Welcome, Bob\n",
        "\n",
        "\n",
        "**Function with void (no return value)**\n",
        "\n",
        "    function logMessage(msg: string): void {\n",
        "    console.log(\"Log:\", msg);\n",
        "    }\n",
        "\n",
        "    logMessage(\"System started\"); // Log: System started\n",
        "\n"
      ],
      "metadata": {
        "id": "HZqroZ1ZXmzd"
      }
    },
    {
      "cell_type": "code",
      "source": [
        "#______________________Examples of  Functions TypeScript _________\n",
        "\n",
        "%%writefile functions.ts\n",
        "\n",
        "console.log(\"_______________________Function Declaration__________________\")\n",
        "\n",
        "function greet(name: string): string {\n",
        "  return `Hello, ${name}`;\n",
        "}\n",
        "\n",
        "console.log(greet(\"Alice\")); // Hello, Alice\n",
        "\n",
        "console.log(\"_______________________Function optional parameter______________\")\n",
        "\n",
        "function printMessage(message: string, user?: string): void {\n",
        "  console.log(user ? `${user}: ${message}` : message);\n",
        "}\n",
        "\n",
        "printMessage(\"Hello\");           // Hello\n",
        "printMessage(\"Hello\", \"Alice\");  // Alice: Hello\n",
        "\n",
        "console.log(\"___________Function Default Parameters______________\")\n",
        "\n",
        "function greetUser(name: string = \"Guest\"): string {\n",
        "  return `Welcome, ${name}`;\n",
        "}\n",
        "\n",
        "console.log(greetUser());        // Welcome, Guest\n",
        "console.log(greetUser(\"Bob\"));   // Welcome, Bob\n",
        "\n",
        "console.log(\"_______________________Function with void__________________\")\n",
        "\n",
        "function logMessage(msg: string): void {\n",
        "  console.log(\"Log:\", msg);\n",
        "}\n",
        "\n",
        "logMessage(\"System started\"); // Log: System started\n",
        "\n",
        "\n",
        "console.log(\"_______________________Function Types (type alias)__________________\")\n",
        "\n",
        "type MathOperation = (a: number, b: number) => number;\n",
        "\n",
        "const subtract: MathOperation = (a, b) => a - b;\n",
        "\n",
        "console.log(subtract(10, 5)); // 5\n",
        "\n"
      ],
      "metadata": {
        "colab": {
          "base_uri": "https://localhost:8080/"
        },
        "id": "tKna8nWPsGJb",
        "outputId": "08dbcefc-6357-4708-83fa-722022628e36"
      },
      "execution_count": 13,
      "outputs": [
        {
          "output_type": "stream",
          "name": "stdout",
          "text": [
            "Overwriting functions.ts\n"
          ]
        }
      ]
    },
    {
      "cell_type": "code",
      "source": [
        "!tsc functions.ts   # compiles to hello.js\n",
        "!node functions.js  # run compiled JavaScript"
      ],
      "metadata": {
        "colab": {
          "base_uri": "https://localhost:8080/"
        },
        "id": "xgz9330HtGQ5",
        "outputId": "867ea723-124a-4c21-b90a-15618a7a4258"
      },
      "execution_count": 14,
      "outputs": [
        {
          "output_type": "stream",
          "name": "stdout",
          "text": [
            "_______________________Function Declaration__________________\n",
            "Hello, Alice\n",
            "_______________________Function optional parameter______________\n",
            "Hello\n",
            "Alice: Hello\n",
            "___________Function Default Parameters______________\n",
            "Welcome, Guest\n",
            "Welcome, Bob\n",
            "_______________________Function with void__________________\n",
            "Log: System started\n",
            "_______________________Function Types (type alias)__________________\n",
            "\u001b[33m5\u001b[39m\n"
          ]
        }
      ]
    },
    {
      "cell_type": "markdown",
      "source": [
        "**Arrays in TypeScript**\n",
        "\n",
        "An array is a collection of elements of the same type.\n",
        "In TypeScript, you can define arrays with type annotations.\n",
        "\n",
        "    let numbers: number[] = [1, 2, 3, 4, 5];\n",
        "    let fruits: string[] = [\"Apple\", \"Banana\", \"Mango\"];"
      ],
      "metadata": {
        "id": "BNnRbmtovZLB"
      }
    },
    {
      "cell_type": "code",
      "source": [
        "#______________________Examples of  Functions TypeScript _________\n",
        "\n",
        "%%writefile array.ts\n",
        "\n",
        "// ____________________________________Array Declaration_________________\n",
        "\n",
        "// ____________________________________Using type[]______________________\n",
        "\n",
        "let numbers: number[] = [1, 2, 3, 4, 5];\n",
        "let fruits: string[] = [\"Apple\", \"Banana\", \"Mango\"];\n",
        "\n",
        "//___________________________________Using Array<type>____________________\n",
        "\n",
        "let ids: Array<number> = [101, 102, 103];\n",
        "let names: Array<string> = [\"Alice\", \"Bob\", \"Charlie\"];\n",
        "\n",
        "//______________________________Mixed-Type Arrays (using any)______________\n",
        "\n",
        "let mixed: any[] = [1, \"Hello\", true, { id: 1 }];\n",
        "\n",
        "//____________________________Iterating Over Arrays_________________\n",
        "\n",
        "let nums: number[] = [10, 20, 30];\n",
        "for (let i = 0; i < nums.length; i++) {\n",
        "  console.log(nums[i]);\n",
        "}\n",
        "\n",
        "\n",
        "//________________________________for…of loop______________________\n",
        "\n",
        "for (let num of nums) {\n",
        "  console.log(num);\n",
        "}\n",
        "\n",
        "//_______________________________forEach method___________________\n",
        "\n",
        "nums.forEach((n) => console.log(n));\n",
        "\n",
        "\n",
        "//____________________________Array of Objects_____________________\n",
        "\n",
        "type Student = { id: number; name: string };\n",
        "\n",
        "let students: Student[] = [\n",
        "  { id: 1, name: \"Alice\" },\n",
        "  { id: 2, name: \"Bob\" }\n",
        "];\n",
        "\n",
        "students.forEach(s => console.log(s.id, s.name));\n",
        "\n",
        "//____________________________-Array Methods (common ones)______________\n",
        "\n",
        "let colors: string[] = [\"Red\", \"Green\", \"Blue\"];\n",
        "\n",
        "colors.push(\"Yellow\");   // Add element\n",
        "console.log(colors);     // [\"Red\", \"Green\", \"Blue\", \"Yellow\"]\n",
        "\n",
        "colors.pop();            // Remove last\n",
        "console.log(colors);     // [\"Red\", \"Green\", \"Blue\"]\n",
        "\n",
        "console.log(colors.length); // 3\n",
        "\n",
        "// console.log(colors.includes(\"Red\")); // true"
      ],
      "metadata": {
        "colab": {
          "base_uri": "https://localhost:8080/"
        },
        "id": "b8VQUZDf0Ao4",
        "outputId": "63693960-9be4-4279-9407-7bd7f5ab12e9"
      },
      "execution_count": 19,
      "outputs": [
        {
          "output_type": "stream",
          "name": "stdout",
          "text": [
            "Overwriting array.ts\n"
          ]
        }
      ]
    },
    {
      "cell_type": "code",
      "source": [
        "!tsc array.ts   # compiles to hello.js\n",
        "!node array.js  # run compiled JavaScript"
      ],
      "metadata": {
        "colab": {
          "base_uri": "https://localhost:8080/"
        },
        "id": "A94I1hJJ1qKe",
        "outputId": "b8f4900d-a48a-4b09-e4f5-92541fc6dbd9"
      },
      "execution_count": 20,
      "outputs": [
        {
          "output_type": "stream",
          "name": "stdout",
          "text": [
            "\u001b[33m10\u001b[39m\n",
            "\u001b[33m20\u001b[39m\n",
            "\u001b[33m30\u001b[39m\n",
            "\u001b[33m10\u001b[39m\n",
            "\u001b[33m20\u001b[39m\n",
            "\u001b[33m30\u001b[39m\n",
            "\u001b[33m10\u001b[39m\n",
            "\u001b[33m20\u001b[39m\n",
            "\u001b[33m30\u001b[39m\n",
            "\u001b[33m1\u001b[39m Alice\n",
            "\u001b[33m2\u001b[39m Bob\n",
            "[ \u001b[32m'Red'\u001b[39m, \u001b[32m'Green'\u001b[39m, \u001b[32m'Blue'\u001b[39m, \u001b[32m'Yellow'\u001b[39m ]\n",
            "[ \u001b[32m'Red'\u001b[39m, \u001b[32m'Green'\u001b[39m, \u001b[32m'Blue'\u001b[39m ]\n",
            "\u001b[33m3\u001b[39m\n"
          ]
        }
      ]
    },
    {
      "cell_type": "markdown",
      "source": [
        "**All Strings opearations in type scripts**\n",
        "\n",
        "| Operation                | Example                              | Output                   |\n",
        "| ------------------------ | ------------------------------------ | ------------------------ |\n",
        "| **charAt(index)**        | `str.charAt(0)`                      | `\"H\"`                    |\n",
        "| **charCodeAt(index)**    | `str.charCodeAt(0)`                  | `72`                     |\n",
        "| **at(index)**            | `str.at(-1)`                         | `\"t\"`                    |\n",
        "| **concat()**             | `\"Hello\".concat(\" World\")`           | `\"Hello World\"`          |\n",
        "| **includes()**           | `str.includes(\"Type\")`               | `true`                   |\n",
        "| **indexOf()**            | `str.indexOf(\"o\")`                   | `4`                      |\n",
        "| **lastIndexOf()**        | `str.lastIndexOf(\"o\")`               | `7`                      |\n",
        "| **startsWith()**         | `str.startsWith(\"Hello\")`            | `true`                   |\n",
        "| **endsWith()**           | `str.endsWith(\"Script\")`             | `true`                   |\n",
        "| **slice(start,end)**     | `str.slice(0,5)`                     | `\"Hello\"`                |\n",
        "| **substring(start,end)** | `str.substring(6,10)`                | `\"Type\"`                 |\n",
        "| **substr(start,length)** | `str.substr(6,4)`                    | `\"Type\"`                 |\n",
        "| **toUpperCase()**        | `str.toUpperCase()`                  | `\"HELLO TYPESCRIPT\"`     |\n",
        "| **toLowerCase()**        | `str.toLowerCase()`                  | `\"hello typescript\"`     |\n",
        "| **trim()**               | `\"  hi  \".trim()`                    | `\"hi\"`                   |\n",
        "| **trimStart()**          | `\"  hi\".trimStart()`                 | `\"hi\"`                   |\n",
        "| **trimEnd()**            | `\"hi  \".trimEnd()`                   | `\"hi\"`                   |\n",
        "| **repeat(n)**            | `\"Hi\".repeat(3)`                     | `\"HiHiHi\"`               |\n",
        "| **replace()**            | `str.replace(\"TypeScript\",\"TS\")`     | `\"Hello TS\"`             |\n",
        "| **replaceAll()**         | `\"aabb\".replaceAll(\"a\",\"x\")`         | `\"xxbb\"`                 |\n",
        "| **split()**              | `str.split(\" \")`                     | `[\"Hello\",\"TypeScript\"]` |\n",
        "| **match()**              | `\"abc123\".match(/\\d+/)`              | `[\"123\"]`                |\n",
        "| **matchAll()**           | `[... \"test1test2\".matchAll(/\\d/g)]` | `[[\"1\"],[\"2\"]]`          |\n",
        "| **padStart()**           | `\"5\".padStart(3,\"0\")`                | `\"005\"`                  |\n",
        "| **padEnd()**             | `\"5\".padEnd(3,\"0\")`                  | `\"500\"`                  |\n"
      ],
      "metadata": {
        "id": "hHJ4lDIt21mz"
      }
    },
    {
      "cell_type": "code",
      "source": [
        "\n",
        "%%writefile string.ts\n",
        "\n",
        "//______________________All String operation _________\n",
        "\n",
        "let str: string = \"Hello TypeScript\";\n",
        "\n",
        "console.log(str.length);   // 16\n",
        "console.log(str.charAt(0)); // \"H\"\n",
        "\n",
        "console.log(str.at(-1));\n",
        "\n",
        "console.log(\"Hello\".concat(\" World\"));\n",
        "\n",
        "console.log(str.includes(\"Type\"));\n",
        "\n",
        "console.log(str.startsWith(\"Hello\"));\n",
        "\n",
        "console.log(str.endsWith(\"Script\"));\n",
        "\n",
        "console.log(str.slice(0,5))\n",
        "\n",
        "console.log(str.substring(6,10))\n",
        "\n",
        "console.log(str.substr(6,4))\n",
        "\n",
        "console.log(str.toUpperCase())\n",
        "\n",
        "console.log(str.toLowerCase())\n",
        "\n",
        "console.log(\" hi \".trim())\n",
        "\n",
        "console.log(str.replace(\"TypeScript\",\"TS\"))\n",
        "\n",
        "console.log(\"aabb\".replaceAll(\"a\",\"x\"))\n",
        "\n",
        "console.log(str.split(\" \"))\n",
        "\n",
        "console.log(\"abc123\".match(/\\d+/))\n",
        "\n"
      ],
      "metadata": {
        "colab": {
          "base_uri": "https://localhost:8080/"
        },
        "id": "7JV2eq_T3gjN",
        "outputId": "300dada2-14f2-40a1-d684-4715bb570404"
      },
      "execution_count": 32,
      "outputs": [
        {
          "output_type": "stream",
          "name": "stdout",
          "text": [
            "Overwriting string.ts\n"
          ]
        }
      ]
    },
    {
      "cell_type": "code",
      "source": [
        "!tsc string.ts   # compiles to hello.js\n",
        "!node string.js  # run compiled JavaScript"
      ],
      "metadata": {
        "colab": {
          "base_uri": "https://localhost:8080/"
        },
        "id": "zQGXtSnG31Dk",
        "outputId": "76f6de5d-f3cf-40d2-dd77-fb6c9a29944e"
      },
      "execution_count": 33,
      "outputs": [
        {
          "output_type": "stream",
          "name": "stdout",
          "text": [
            "\u001b[96mstring.ts\u001b[0m:\u001b[93m9\u001b[0m:\u001b[93m17\u001b[0m - \u001b[91merror\u001b[0m\u001b[90m TS2550: \u001b[0mProperty 'at' does not exist on type 'string'. Do you need to change your target library? Try changing the 'lib' compiler option to 'es2022' or later.\n",
            "\n",
            "\u001b[7m9\u001b[0m console.log(str.at(-1));\n",
            "\u001b[7m \u001b[0m \u001b[91m                ~~\u001b[0m\n",
            "\n",
            "\u001b[96mstring.ts\u001b[0m:\u001b[93m13\u001b[0m:\u001b[93m17\u001b[0m - \u001b[91merror\u001b[0m\u001b[90m TS2550: \u001b[0mProperty 'includes' does not exist on type 'string'. Do you need to change your target library? Try changing the 'lib' compiler option to 'es2015' or later.\n",
            "\n",
            "\u001b[7m13\u001b[0m console.log(str.includes(\"Type\"));\n",
            "\u001b[7m  \u001b[0m \u001b[91m                ~~~~~~~~\u001b[0m\n",
            "\n",
            "\u001b[96mstring.ts\u001b[0m:\u001b[93m15\u001b[0m:\u001b[93m17\u001b[0m - \u001b[91merror\u001b[0m\u001b[90m TS2550: \u001b[0mProperty 'startsWith' does not exist on type 'string'. Do you need to change your target library? Try changing the 'lib' compiler option to 'es2015' or later.\n",
            "\n",
            "\u001b[7m15\u001b[0m console.log(str.startsWith(\"Hello\"));\n",
            "\u001b[7m  \u001b[0m \u001b[91m                ~~~~~~~~~~\u001b[0m\n",
            "\n",
            "\u001b[96mstring.ts\u001b[0m:\u001b[93m17\u001b[0m:\u001b[93m17\u001b[0m - \u001b[91merror\u001b[0m\u001b[90m TS2550: \u001b[0mProperty 'endsWith' does not exist on type 'string'. Do you need to change your target library? Try changing the 'lib' compiler option to 'es2015' or later.\n",
            "\n",
            "\u001b[7m17\u001b[0m console.log(str.endsWith(\"Script\"));\n",
            "\u001b[7m  \u001b[0m \u001b[91m                ~~~~~~~~\u001b[0m\n",
            "\n",
            "\u001b[96mstring.ts\u001b[0m:\u001b[93m33\u001b[0m:\u001b[93m20\u001b[0m - \u001b[91merror\u001b[0m\u001b[90m TS2550: \u001b[0mProperty 'replaceAll' does not exist on type '\"aabb\"'. Do you need to change your target library? Try changing the 'lib' compiler option to 'es2021' or later.\n",
            "\n",
            "\u001b[7m33\u001b[0m console.log(\"aabb\".replaceAll(\"a\",\"x\"))\n",
            "\u001b[7m  \u001b[0m \u001b[91m                   ~~~~~~~~~~\u001b[0m\n",
            "\n",
            "\n",
            "Found 5 errors in the same file, starting at: string.ts\u001b[90m:9\u001b[0m\n",
            "\n",
            "\u001b[33m16\u001b[39m\n",
            "H\n",
            "t\n",
            "Hello World\n",
            "\u001b[33mtrue\u001b[39m\n",
            "\u001b[33mtrue\u001b[39m\n",
            "\u001b[33mtrue\u001b[39m\n",
            "Hello\n",
            "Type\n",
            "Type\n",
            "HELLO TYPESCRIPT\n",
            "hello typescript\n",
            "hi\n",
            "Hello TS\n",
            "xxbb\n",
            "[ \u001b[32m'Hello'\u001b[39m, \u001b[32m'TypeScript'\u001b[39m ]\n",
            "[ \u001b[32m'123'\u001b[39m, index: \u001b[33m3\u001b[39m, input: \u001b[32m'abc123'\u001b[39m, groups: \u001b[90mundefined\u001b[39m ]\n"
          ]
        }
      ]
    },
    {
      "cell_type": "markdown",
      "source": [
        "**oops concept in type script**\n",
        "\n",
        "| Concept           | Description                                         | Example                           |\n",
        "| ----------------- | --------------------------------------------------- | --------------------------------- |\n",
        "| **Class**         | Blueprint to create objects.                        | `class Person {}`                 |\n",
        "| **Object**        | Instance of a class.                                | `let p = new Person();`           |\n",
        "| **Constructor**   | Special method to initialize objects.               | `constructor(name: string)`       |\n",
        "| **Encapsulation** | Data hiding using `public`, `private`, `protected`. | `private age: number;`            |\n",
        "| **Inheritance**   | A class can extend another class.                   | `class Student extends Person {}` |\n",
        "| **Polymorphism**  | Ability to redefine methods in child classes.       | `override speak()`                |\n",
        "| **Abstraction**   | Using `abstract` classes or `interfaces`.           | `abstract class Shape {}`         |\n"
      ],
      "metadata": {
        "id": "Z8I7bhBf7cB_"
      }
    },
    {
      "cell_type": "code",
      "source": [
        "%%writefile Object.ts\n",
        "\n",
        "//_____________________________________ Class and Object___________________________\n",
        "\n",
        "class Person {\n",
        "  name: string;\n",
        "  constructor(name: string) {\n",
        "    this.name = name;\n",
        "  }\n",
        "  greet(): void {\n",
        "    console.log(`Hello, my name is ${this.name}`);\n",
        "  }\n",
        "}\n",
        "\n",
        "let p1 = new Person(\"Alice\");\n",
        "p1.greet(); // Hello, my name is Alice"
      ],
      "metadata": {
        "colab": {
          "base_uri": "https://localhost:8080/"
        },
        "id": "483OiNXm78lM",
        "outputId": "60360ad2-737b-40a1-8a15-0d3f4a978892"
      },
      "execution_count": 37,
      "outputs": [
        {
          "output_type": "stream",
          "name": "stdout",
          "text": [
            "Writing Object.ts\n"
          ]
        }
      ]
    },
    {
      "cell_type": "code",
      "source": [
        "!tsc Object.ts   # compiles to hello.js\n",
        "!node Object.js  # run compiled JavaScript"
      ],
      "metadata": {
        "colab": {
          "base_uri": "https://localhost:8080/"
        },
        "id": "Vaelr8Hf8F3d",
        "outputId": "e148586d-0fb8-41f9-812c-20b72343cafd"
      },
      "execution_count": 38,
      "outputs": [
        {
          "output_type": "stream",
          "name": "stdout",
          "text": [
            "Hello, my name is Alice\n"
          ]
        }
      ]
    },
    {
      "cell_type": "code",
      "source": [
        "%%writefile Encapsulation.ts\n",
        "\n",
        "//_____________________________________\n",
        "\n",
        "class BankAccount {\n",
        "  private balance: number;\n",
        "\n",
        "  constructor(balance: number) {\n",
        "    this.balance = balance;\n",
        "  }\n",
        "\n",
        "  public deposit(amount: number): void {\n",
        "    this.balance += amount;\n",
        "  }\n",
        "\n",
        "  public getBalance(): number {\n",
        "    return this.balance;\n",
        "  }\n",
        "}\n",
        "\n",
        "let account = new BankAccount(1000);\n",
        "account.deposit(500);\n",
        "console.log(account.getBalance()); // 1500"
      ],
      "metadata": {
        "colab": {
          "base_uri": "https://localhost:8080/"
        },
        "id": "ZAj7kBZK8WTK",
        "outputId": "08eb287f-d1e1-4933-90a9-faded9d0e184"
      },
      "execution_count": 39,
      "outputs": [
        {
          "output_type": "stream",
          "name": "stdout",
          "text": [
            "Writing Encapsulation.ts\n"
          ]
        }
      ]
    },
    {
      "cell_type": "code",
      "source": [
        "!tsc Encapsulation.ts   # compiles to hello.js\n",
        "!node Encapsulation.js  # run compiled JavaScript"
      ],
      "metadata": {
        "colab": {
          "base_uri": "https://localhost:8080/"
        },
        "id": "o1FAmvF98gqx",
        "outputId": "861a01e4-b493-4135-8cce-ef1b55424a08"
      },
      "execution_count": 41,
      "outputs": [
        {
          "output_type": "stream",
          "name": "stdout",
          "text": [
            "\u001b[33m1500\u001b[39m\n"
          ]
        }
      ]
    },
    {
      "cell_type": "code",
      "source": [
        "%%writefile Inheritance.ts\n",
        "\n",
        "class Animal {\n",
        "  move(): void {\n",
        "    console.log(\"Animal is moving\");\n",
        "  }\n",
        "}\n",
        "\n",
        "class Dog extends Animal {\n",
        "  bark(): void {\n",
        "    console.log(\"Woof!\");\n",
        "  }\n",
        "}\n",
        "\n",
        "let d = new Dog();\n",
        "d.move(); // Animal is moving\n",
        "d.bark(); // Woof!\n",
        "\n",
        "\n"
      ],
      "metadata": {
        "colab": {
          "base_uri": "https://localhost:8080/"
        },
        "id": "6J5k6ZPe977u",
        "outputId": "eea47a6a-7ab6-45de-ee18-38c4cd242c9d"
      },
      "execution_count": 42,
      "outputs": [
        {
          "output_type": "stream",
          "name": "stdout",
          "text": [
            "Writing Inheritance.ts\n"
          ]
        }
      ]
    },
    {
      "cell_type": "code",
      "source": [
        "!tsc Inheritance.ts   # compiles to hello.js\n",
        "!node Inheritance.js  # run compiled JavaScript"
      ],
      "metadata": {
        "colab": {
          "base_uri": "https://localhost:8080/"
        },
        "id": "ReY_Jq13-F-d",
        "outputId": "4d04ffc8-10c6-47c8-a80a-81bc8d628099"
      },
      "execution_count": 44,
      "outputs": [
        {
          "output_type": "stream",
          "name": "stdout",
          "text": [
            "Animal is moving\n",
            "Woof!\n"
          ]
        }
      ]
    },
    {
      "cell_type": "code",
      "source": [
        "%%writefile MethodOverriding.ts\n",
        "\n",
        "class Shape {\n",
        "  area(): number {\n",
        "    return 0;\n",
        "  }\n",
        "}\n",
        "\n",
        "class Circle extends Shape {\n",
        "  radius: number;\n",
        "  constructor(radius: number) {\n",
        "    super();\n",
        "    this.radius = radius;\n",
        "  }\n",
        "  area(): number {\n",
        "    return Math.PI * this.radius * this.radius;\n",
        "  }\n",
        "}\n",
        "\n",
        "let s: Shape = new Circle(5);\n",
        "console.log(s.area()); // 78.54\n"
      ],
      "metadata": {
        "colab": {
          "base_uri": "https://localhost:8080/"
        },
        "id": "HBxGYDRZF4Cz",
        "outputId": "d315fbc3-c516-471d-d09a-852ad3c0c5e6"
      },
      "execution_count": 45,
      "outputs": [
        {
          "output_type": "stream",
          "name": "stdout",
          "text": [
            "Writing MethodOverriding.ts\n"
          ]
        }
      ]
    },
    {
      "cell_type": "code",
      "source": [
        "!tsc MethodOverriding.ts   # compiles to hello.js\n",
        "!node MethodOverriding.js  # run compiled JavaScript"
      ],
      "metadata": {
        "colab": {
          "base_uri": "https://localhost:8080/"
        },
        "id": "2zxHJjfLGF5T",
        "outputId": "013b5ffe-4b74-4a7d-c354-9662e332ebfd"
      },
      "execution_count": 46,
      "outputs": [
        {
          "output_type": "stream",
          "name": "stdout",
          "text": [
            "\u001b[33m78.53981633974483\u001b[39m\n"
          ]
        }
      ]
    },
    {
      "cell_type": "code",
      "source": [
        "%%writefile AbstractClass.ts\n",
        "\n",
        "abstract class Vehicle {\n",
        "  abstract start(): void;  // must be implemented in child\n",
        "}\n",
        "\n",
        "class Car extends Vehicle {\n",
        "  start(): void {\n",
        "    console.log(\"Car started 🚗\");\n",
        "  }\n",
        "}\n",
        "\n",
        "let v: Vehicle = new Car();\n",
        "v.start(); // Car started 🚗\n"
      ],
      "metadata": {
        "colab": {
          "base_uri": "https://localhost:8080/"
        },
        "id": "5F9KYXp1GOAn",
        "outputId": "37c83a16-282d-44b0-ddb2-d0e1438f0eba"
      },
      "execution_count": 47,
      "outputs": [
        {
          "output_type": "stream",
          "name": "stdout",
          "text": [
            "Writing AbstractClass.ts\n"
          ]
        }
      ]
    },
    {
      "cell_type": "code",
      "source": [
        "!tsc AbstractClass.ts   # compiles to hello.js\n",
        "!node AbstractClass.js  # run compiled JavaScript"
      ],
      "metadata": {
        "colab": {
          "base_uri": "https://localhost:8080/"
        },
        "id": "BViUPfhWGUaV",
        "outputId": "d96ef411-68d0-47cb-8f25-515dbd68b8b1"
      },
      "execution_count": 49,
      "outputs": [
        {
          "output_type": "stream",
          "name": "stdout",
          "text": [
            "Car started 🚗\n"
          ]
        }
      ]
    },
    {
      "cell_type": "code",
      "source": [
        "%%writefile Interface.ts\n",
        "\n",
        "interface Flyable {\n",
        "  fly(): void;\n",
        "}\n",
        "\n",
        "class Bird implements Flyable {\n",
        "  fly(): void {\n",
        "    console.log(\"Bird is flying 🐦\");\n",
        "  }\n",
        "}\n",
        "\n",
        "let b = new Bird();\n",
        "b.fly(); // Bird is flying 🐦"
      ],
      "metadata": {
        "colab": {
          "base_uri": "https://localhost:8080/"
        },
        "id": "ZO70cde9Ge23",
        "outputId": "b7daf9c3-9dfc-4060-a181-5df0a31216c0"
      },
      "execution_count": 50,
      "outputs": [
        {
          "output_type": "stream",
          "name": "stdout",
          "text": [
            "Writing Interface.ts\n"
          ]
        }
      ]
    },
    {
      "cell_type": "code",
      "source": [
        "!tsc Interface.ts   # compiles to hello.js\n",
        "!node Interface.js  # run compiled JavaScript"
      ],
      "metadata": {
        "colab": {
          "base_uri": "https://localhost:8080/"
        },
        "id": "fTj6_eCTGpG2",
        "outputId": "dae7a615-e9df-4e78-f9c8-2b52fc845f91"
      },
      "execution_count": 51,
      "outputs": [
        {
          "output_type": "stream",
          "name": "stdout",
          "text": [
            "Bird is flying 🐦\n"
          ]
        }
      ]

    }
  ]
}