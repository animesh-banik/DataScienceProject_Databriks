{
 "cells": [
  {
   "cell_type": "code",
   "execution_count": 0,
   "metadata": {
    "application/vnd.databricks.v1+cell": {
     "cellMetadata": {
      "byteLimit": 2048000,
      "rowLimit": 10000
     },
     "inputWidgets": {},
     "nuid": "d980742d-5f78-4aef-aec0-dd5ba0f586d5",
     "showTitle": false,
     "tableResultSettingsMap": {},
     "title": ""
    }
   },
   "outputs": [],
   "source": [
    "# Hellow World\n",
    "print(\"Hello, World!\")"
   ]
  },
  {
   "cell_type": "code",
   "execution_count": 0,
   "metadata": {
    "application/vnd.databricks.v1+cell": {
     "cellMetadata": {
      "byteLimit": 2048000,
      "rowLimit": 10000
     },
     "collapsed": true,
     "inputWidgets": {},
     "nuid": "3cbf5c3d-d069-4259-89ae-5e5d22e39af9",
     "showTitle": false,
     "tableResultSettingsMap": {},
     "title": ""
    }
   },
   "outputs": [],
   "source": [
    "#User input\n",
    "name = input(\"Enter your name: \")\n",
    "print(\"Hello, \" + name)"
   ]
  },
  {
   "cell_type": "code",
   "execution_count": 0,
   "metadata": {
    "application/vnd.databricks.v1+cell": {
     "cellMetadata": {
      "byteLimit": 2048000,
      "rowLimit": 10000
     },
     "collapsed": true,
     "inputWidgets": {},
     "nuid": "733ede6d-2e39-4238-8be0-dbbcce5916f2",
     "showTitle": false,
     "tableResultSettingsMap": {},
     "title": ""
    }
   },
   "outputs": [],
   "source": [
    "#If condition\n",
    "name = input(\"Enter your name: \")\n",
    "if name==\"is_hot\":\n",
    " print(\"hot day\")\n",
    "elif name==\"is_cold\":\n",
    " print(\"cold day\")\n",
    "else:\n",
    " print(\"beautiful day\") "
   ]
  },
  {
   "cell_type": "code",
   "execution_count": 0,
   "metadata": {
    "application/vnd.databricks.v1+cell": {
     "cellMetadata": {
      "byteLimit": 2048000,
      "rowLimit": 10000
     },
     "collapsed": true,
     "inputWidgets": {},
     "nuid": "dccf9a40-e15e-4792-99f2-41453fbf6b34",
     "showTitle": false,
     "tableResultSettingsMap": {},
     "title": ""
    }
   },
   "outputs": [],
   "source": [
    "# While loop\n",
    "i = 1\n",
    "while i < 5:\n",
    " print(i)\n",
    " i += 1"
   ]
  },
  {
   "cell_type": "code",
   "execution_count": 0,
   "metadata": {
    "application/vnd.databricks.v1+cell": {
     "cellMetadata": {
      "byteLimit": 2048000,
      "rowLimit": 10000
     },
     "collapsed": true,
     "inputWidgets": {},
     "nuid": "a57fbd0b-6876-4acd-bb14-706d7d4c48ea",
     "showTitle": false,
     "tableResultSettingsMap": {},
     "title": ""
    }
   },
   "outputs": [],
   "source": [
    "# Funtion in Python\n",
    "def Squre_number(number):\n",
    "    return number * number \n",
    "    \n",
    "result = Squre_number(int(input(\"Enter your input: \")))\n",
    "print(result)"
   ]
  },
  {
   "cell_type": "code",
   "execution_count": 0,
   "metadata": {
    "application/vnd.databricks.v1+cell": {
     "cellMetadata": {
      "byteLimit": 2048000,
      "rowLimit": 10000
     },
     "collapsed": true,
     "inputWidgets": {},
     "nuid": "d3130a19-4c39-4d6e-8c24-c837d8fd6d6f",
     "showTitle": false,
     "tableResultSettingsMap": {},
     "title": ""
    }
   },
   "outputs": [],
   "source": [
    "try:\n",
    " age = int(input(\"Age: \"))\n",
    " income = 20000\n",
    " risk = income / age\n",
    " print(age)\n",
    "except ValueError:\n",
    " print(\"Not a valid number\")\n",
    "except ZeroDivisionError:\n",
    " print(\"Age cannot be 0\")"
   ]
  },
  {
   "cell_type": "code",
   "execution_count": 0,
   "metadata": {
    "application/vnd.databricks.v1+cell": {
     "cellMetadata": {
      "byteLimit": 2048000,
      "rowLimit": 10000
     },
     "collapsed": true,
     "inputWidgets": {},
     "nuid": "af6fcf24-561d-4720-baa3-d6a2e4447853",
     "showTitle": false,
     "tableResultSettingsMap": {},
     "title": ""
    }
   },
   "outputs": [],
   "source": [
    "# Exception Handeling\n",
    "try:\n",
    "    file = open(\"data.txt\", \"r\")\n",
    "    content = file.read()\n",
    "except FileNotFoundError:\n",
    "    print(\"File not found.\")\n",
    "finally:\n",
    "    print(\"Cleaning up (e.g., closing files).\")"
   ]
  },
  {
   "cell_type": "code",
   "execution_count": 0,
   "metadata": {
    "application/vnd.databricks.v1+cell": {
     "cellMetadata": {},
     "collapsed": true,
     "inputWidgets": {},
     "nuid": "f37f7e02-0902-4265-b8e1-8f5a304ec36b",
     "showTitle": false,
     "tableResultSettingsMap": {},
     "title": ""
    }
   },
   "outputs": [],
   "source": [
    "# List of exception in python\n",
    "Exception - \"Base class for all built-in exceptions (can be caught to handle any error)\".\n",
    "ArithmeticError - \"Base class for numeric errors.\"\n",
    "ZeroDivisionError - \"Division or modulo by zero.\"\n",
    "OverflowError - \"Result of an arithmetic operation is too large to be represented.\" \n",
    "FloatingPointError - \"Floating point calculation failed.\"\n",
    "ValueError - \"Function received an argument of the right type but invalid value.\"\n",
    "TypeError - \"Operation or function applied to an object of inappropriate type.\"\n",
    "FileNotFoundError - \"File or directory does not exist\"\n",
    "TimeoutError - \"Operation times out.\""
   ]
  },
  {
   "cell_type": "code",
   "execution_count": 0,
   "metadata": {
    "application/vnd.databricks.v1+cell": {
     "cellMetadata": {
      "byteLimit": 2048000,
      "rowLimit": 10000
     },
     "collapsed": true,
     "inputWidgets": {},
     "nuid": "c7dc4467-9456-4e2d-9adc-8c1188ce164e",
     "showTitle": false,
     "tableResultSettingsMap": {},
     "title": ""
    }
   },
   "outputs": [],
   "source": [
    "# Class in Python\n",
    "class Person:\n",
    "    def __init__(self, name, age):\n",
    "        self.name = name      # instance variable\n",
    "        self.age = age        # instance variable\n",
    "\n",
    "    def greet(self):\n",
    "        print(f\"Hello, my name is {self.name} and I am {self.age} years old.\")\n",
    "\n",
    "p1 = Person(\"Alice\", 30)\n",
    "p1.greet()     \n"
   ]
  },
  {
   "cell_type": "code",
   "execution_count": 0,
   "metadata": {
    "application/vnd.databricks.v1+cell": {
     "cellMetadata": {
      "byteLimit": 2048000,
      "rowLimit": 10000
     },
     "collapsed": true,
     "inputWidgets": {},
     "nuid": "e353c1da-8012-464b-8bb4-5ae85e8b5bdd",
     "showTitle": false,
     "tableResultSettingsMap": {},
     "title": ""
    }
   },
   "outputs": [],
   "source": [
    "# Inheritance in Python\n",
    "class Mammal:\n",
    " def walk(self):\n",
    "   print(\"walk\")\n",
    "class Dog(Mammal):\n",
    " def bark(self):\n",
    "    print(\"bark\")\n",
    "dog = Dog()\n",
    "dog.walk() # inherited from Mammal\n",
    "dog.bark() # defined in Dog "
   ]
  },
  {
   "cell_type": "code",
   "execution_count": 0,
   "metadata": {
    "application/vnd.databricks.v1+cell": {
     "cellMetadata": {
      "byteLimit": 2048000,
      "rowLimit": 10000
     },
     "collapsed": true,
     "inputWidgets": {},
     "nuid": "ed7cd979-cc31-4d00-aa66-4eca31c9a3aa",
     "showTitle": false,
     "tableResultSettingsMap": {},
     "title": ""
    }
   },
   "outputs": [],
   "source": [
    "# List in Python : A list is a built-in data structure in Python that allows you to store a collection of items\n",
    "# Ordered (items maintain their position) \n",
    "# Mutable (can be changed after creation)\n",
    "# Can contain duplicates\n",
    "# Can contain mixed types\n",
    "\n",
    "mixed_list = [1, \"apple\", 3.14, True]\n",
    "print(mixed_list[0]) \n",
    "print(mixed_list[-1])\n",
    "print(mixed_list[0:2])\n",
    "\n",
    "mixed_list.append(\"orange\") # Add to end\n",
    "print(mixed_list)\n",
    "\n",
    "mixed_list.insert(1, \"grape\")     # Insert at position  \n",
    "print(mixed_list)\n",
    "\n",
    "print(len(mixed_list)) # Length of list\n",
    "mixed_list.remove(\"apple\")\n",
    "\n",
    "#Loop Through List\n",
    "for fruit in mixed_list: \n",
    "    print(fruit)"
   ]
  },
  {
   "cell_type": "code",
   "execution_count": 0,
   "metadata": {
    "application/vnd.databricks.v1+cell": {
     "cellMetadata": {
      "byteLimit": 2048000,
      "rowLimit": 10000
     },
     "collapsed": true,
     "inputWidgets": {},
     "nuid": "d97eec84-3eee-4db3-be1c-ad445878d071",
     "showTitle": false,
     "tableResultSettingsMap": {},
     "title": ""
    }
   },
   "outputs": [],
   "source": [
    "# All list operation\n",
    "my_list = [3, 1, 2]\n",
    "\n",
    "my_list.append(4) \n",
    "print(my_list)            # [3, 1, 2, 4]\n",
    "my_list.extend([5, 6,7 ])  \n",
    "print(my_list)       # [3, 1, 2, 4, 5, 6,7]\n",
    "my_list.insert(2, 10) \n",
    "print(my_list)         # [3, 1, 10, 2, 4, 5, 6]\n",
    "my_list.remove(10)           # [3, 1, 2, 4, 5, 6]\n",
    "item = my_list.pop()         # Returns 6, list is now [3, 1, 2, 4, 5]\n",
    "print(my_list) \n",
    "index = my_list.index(4)     # Returns 3\n",
    "print(my_list) \n",
    "count = my_list.count(1)     # Returns 1\n",
    "print(my_list) \n",
    "my_list.sort()               # [1, 2, 3, 4, 5]\n",
    "print(my_list) \n",
    "my_list.reverse()            # [5, 4, 3, 2, 1]\n",
    "print(my_list) \n",
    "copy_list = my_list.copy()   # copy_list is [5, 4, 3, 2, 1]\n",
    "print(my_list) \n",
    "my_list.clear()              # my_list is now []\n",
    "print(my_list) "
   ]
  },
  {
   "cell_type": "code",
   "execution_count": 0,
   "metadata": {
    "application/vnd.databricks.v1+cell": {
     "cellMetadata": {
      "byteLimit": 2048000,
      "rowLimit": 10000
     },
     "collapsed": true,
     "inputWidgets": {},
     "nuid": "27c601f4-a96e-476a-845e-f0d4854527fc",
     "showTitle": false,
     "tableResultSettingsMap": {},
     "title": ""
    }
   },
   "outputs": [],
   "source": [
    "# Tuple in Python\n",
    "#A tuple is a built-in Python data structure used to store multiple items in a single variable — just like a list — but with one major difference: tuples are immutable, meaning their contents cannot be changed once they are created.\n",
    "\n",
    "\n",
    "mixed_tuple = (1, \"apple\", 3.14, True)\n",
    "print(mixed_tuple[0])\n",
    "print(mixed_tuple)\n",
    "\n",
    "# All operation in tuple"
   ]
  },
  {
   "cell_type": "code",
   "execution_count": 0,
   "metadata": {
    "application/vnd.databricks.v1+cell": {
     "cellMetadata": {
      "byteLimit": 2048000,
      "rowLimit": 10000
     },
     "collapsed": true,
     "inputWidgets": {},
     "nuid": "3308fd61-d045-46a0-bb11-c47177dc231d",
     "showTitle": false,
     "tableResultSettingsMap": {},
     "title": ""
    }
   },
   "outputs": [],
   "source": [
    "# A dictionary is a built-in Python data structure used to store data in key-value pairs.\n",
    "# Dictionaries are mutable, meaning their contents can be changed after creation.\n",
    "# Dictionaries are unordered\n",
    "\n",
    "my_dict = {\n",
    "    \"name\": \"Alice\",\n",
    "    \"age\": 25,\n",
    "    \"city\": \"New York\"\n",
    "}\n",
    "print(my_dict[\"name\"])         # Output: Alice\n",
    "print(my_dict.get(\"age\"))      # Output: 25\n",
    "print(my_dict.get(\"gender\", \"Not found\"))  # Output: Not found\n",
    "\n",
    "# Out put with Key\n",
    "print(\"--------Out put with Key-----\")\n",
    "for key, value in my_dict.items():\n",
    "    print(key, \"->\", value)"
   ]
  }
 ],
 "metadata": {
  "application/vnd.databricks.v1+notebook": {
   "computePreferences": null,
   "dashboards": [],
   "environmentMetadata": {
    "base_environment": "",
    "environment_version": "2"
   },
   "inputWidgetPreferences": null,
   "language": "python",
   "notebookMetadata": {
    "pythonIndentUnit": 4
   },
   "notebookName": "Python Programming",
   "widgets": {}
  },
  "language_info": {
   "name": "python"
  }
 },
 "nbformat": 4,
 "nbformat_minor": 0
}
