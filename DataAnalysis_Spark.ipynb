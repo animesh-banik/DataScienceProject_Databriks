{
  "nbformat": 4,
  "nbformat_minor": 0,
  "metadata": {
    "colab": {
      "provenance": [],
      "authorship_tag": "ABX9TyPTEu98s2xEtqwPGm9S1FZ5",
      "include_colab_link": true
    },
    "kernelspec": {
      "name": "python3",
      "display_name": "Python 3"
    },
    "language_info": {
      "name": "python"
    }
  },
  "cells": [
    {
      "cell_type": "markdown",
      "metadata": {
        "id": "view-in-github",
        "colab_type": "text"
      },
      "source": [
        "<a href=\"https://colab.research.google.com/github/animesh-banik/DataScienceProject_Databriks/blob/Google_Colub/DataAnalysis_Spark.ipynb\" target=\"_parent\"><img src=\"https://colab.research.google.com/assets/colab-badge.svg\" alt=\"Open In Colab\"/></a>"
      ]
    },
    {
      "cell_type": "code",
      "source": [
        "# _______________________________Zomato Data Analysis Using Spark"
      ],
      "metadata": {
        "id": "2pRbqXnpXVJy"
      },
      "execution_count": null,
      "outputs": []
    },
    {
      "cell_type": "code",
      "execution_count": 5,
      "metadata": {
        "id": "a_oXOceURwZ0"
      },
      "outputs": [],
      "source": [
        "from pyspark.sql.types import *\n",
        "import pandas as pd\n",
        "from pyspark.sql import SparkSession"
      ]
    },
    {
      "cell_type": "code",
      "source": [
        "spark = SparkSession.builder.appName(\"DataEngineeringExample\").getOrCreate()\n",
        "\n",
        "# Create DataFrame using Pandas first, then convert to Spark\n",
        "df = pd.read_csv('/content/sample_data/Zomato-data.txt')"
      ],
      "metadata": {
        "id": "ZK5gy3iRXDmg"
      },
      "execution_count": 7,
      "outputs": []
    },
    {
      "cell_type": "code",
      "source": [
        "# _____________________________________Define schema for Spark DataFrame\n",
        "schema = StructType([\n",
        "        StructField(\"name\", StringType(), True),\n",
        "        StructField(\"online_order\", StringType(), True),\n",
        "        StructField(\"book_table\", StringType(), True),\n",
        "        StructField(\"rate\", StringType(), True),\n",
        "        StructField(\"votes\", IntegerType(), True),\n",
        "        StructField(\"approx_cost\", IntegerType(), True),\n",
        "        StructField(\"restaurant_type\", StringType(), True)\n",
        "    ])\n",
        "\n",
        "print(f\"Original Dataset Shape: {df.count()} rows, {len(df.columns)} columns\")"
      ],
      "metadata": {
        "collapsed": true,
        "id": "_Hb4UvOIXQpj",
        "outputId": "6d787590-c3b1-4c76-b286-b17c80059ad1",
        "colab": {
          "base_uri": "https://localhost:8080/"
        }
      },
      "execution_count": 8,
      "outputs": [
        {
          "output_type": "stream",
          "name": "stdout",
          "text": [
            "Original Dataset Shape: name                           22\n",
            "online_order                   22\n",
            "book_table                     22\n",
            "rate                           22\n",
            "votes                          22\n",
            "approx_cost(for two people)    22\n",
            "listed_in(type)                22\n",
            "dtype: int64 rows, 7 columns\n"
          ]
        }
      ]
    },
    {
      "cell_type": "code",
      "source": [
        "\n",
        "# ____________________________________Convert to Spark DataFrame\n",
        "df_spark = spark.createDataFrame(df, schema)\n",
        "print(df_spark.show(10))\n",
        "\n",
        "print(f\"Original Dataset Shape: {df.count()} rows, {len(df.columns)} columns\")"
      ],
      "metadata": {
        "id": "08uOdUN2Xgnf",
        "outputId": "73a40603-0177-4f16-e3be-43a91d76f204",
        "colab": {
          "base_uri": "https://localhost:8080/"
        }
      },
      "execution_count": 9,
      "outputs": [
        {
          "output_type": "stream",
          "name": "stdout",
          "text": [
            "+--------------------+------------+----------+-----+-----+-----------+---------------+\n",
            "|                name|online_order|book_table| rate|votes|approx_cost|restaurant_type|\n",
            "+--------------------+------------+----------+-----+-----+-----------+---------------+\n",
            "|               Jalsa|         Yes|       Yes|4.1/5|  775|        800|         Buffet|\n",
            "|      Spice Elephant|         Yes|        No|4.1/5|  787|        800|         Buffet|\n",
            "|     San Churro Cafe|         Yes|        No|3.8/5|  918|        800|         Buffet|\n",
            "|Addhuri Udupi Bho...|          No|        No|3.7/5|   88|        300|         Buffet|\n",
            "|       Grand Village|          No|        No|3.8/5|  166|        600|         Buffet|\n",
            "|     Timepass Dinner|         Yes|        No|3.8/5|  286|        600|         Buffet|\n",
            "|Rosewood Internat...|          No|        No|3.6/5|    8|        800|         Buffet|\n",
            "|              Onesta|         Yes|       Yes|4.6/5| 2556|        600|          Cafes|\n",
            "|      Penthouse Cafe|         Yes|        No|4.0/5|  324|        700|          other|\n",
            "|           Smacznego|         Yes|        No|4.2/5|  504|        550|          Cafes|\n",
            "+--------------------+------------+----------+-----+-----+-----------+---------------+\n",
            "only showing top 10 rows\n",
            "\n",
            "None\n",
            "Original Dataset Shape: name                           22\n",
            "online_order                   22\n",
            "book_table                     22\n",
            "rate                           22\n",
            "votes                          22\n",
            "approx_cost(for two people)    22\n",
            "listed_in(type)                22\n",
            "dtype: int64 rows, 7 columns\n"
          ]
        }
      ]
    },
    {
      "cell_type": "code",
      "source": [
        "# ____________________________________________Data preprocessing\n",
        "from pyspark.sql.functions import regexp_extract, col, when\n",
        "df_clean = (\n",
        "    df_spark.withColumn(\"rate\", col(\"rate\").cast(\"string\"))\n",
        "      .withColumn(\"rating_numeric\", regexp_extract(col(\"rate\"), r\"(\\d+\\.\\d+)\", 1).cast(\"double\"))\n",
        "      .withColumn(\"online_order_binary\", when(col(\"online_order\") == \"Yes\", 1).otherwise(0))\n",
        "      .withColumn(\"book_table_binary\", when(col(\"book_table\") == \"Yes\", 1).otherwise(0))\n",
        "      .withColumnRenamed(\"approx_cost(for two people)\", \"cost_for_two\")\n",
        "      .withColumnRenamed(\"listed_in(type)\", \"restaurant_type\")\n",
        "      .filter(col(\"rating_numeric\").isNotNull())\n",
        "      .dropDuplicates()\n",
        ")\n",
        "df_clean.select(\"name\",\"online_order_binary\",\n",
        "                \"book_table_binary\",\"rating_numeric\",\n",
        "                \"votes\",\"approx_cost\",\"restaurant_type\").show(10)"
      ],
      "metadata": {
        "id": "ELeaevjpXspx",
        "outputId": "98b82967-365d-42fc-c74f-4312d81f5170",
        "colab": {
          "base_uri": "https://localhost:8080/"
        }
      },
      "execution_count": 12,
      "outputs": [
        {
          "output_type": "stream",
          "name": "stdout",
          "text": [
            "+--------------------+-------------------+-----------------+--------------+-----+-----------+---------------+\n",
            "|                name|online_order_binary|book_table_binary|rating_numeric|votes|approx_cost|restaurant_type|\n",
            "+--------------------+-------------------+-----------------+--------------+-----+-----------+---------------+\n",
            "|     Timepass Dinner|                  1|                0|           3.8|  286|        600|         Buffet|\n",
            "|Rosewood Internat...|                  0|                0|           3.6|    8|        800|         Buffet|\n",
            "|               Jalsa|                  1|                1|           4.1|  775|        800|         Buffet|\n",
            "|     San Churro Cafe|                  1|                0|           3.8|  918|        800|         Buffet|\n",
            "|Addhuri Udupi Bho...|                  0|                0|           3.7|   88|        300|         Buffet|\n",
            "|      Penthouse Cafe|                  1|                0|           4.0|  324|        700|          other|\n",
            "|       Grand Village|                  0|                0|           3.8|  166|        600|         Buffet|\n",
            "|              Onesta|                  1|                1|           4.6| 2556|        600|          Cafes|\n",
            "|           Smacznego|                  1|                0|           4.2|  504|        550|          Cafes|\n",
            "|        Village Café|                  1|                0|           4.1|  402|        500|          Cafes|\n",
            "+--------------------+-------------------+-----------------+--------------+-----+-----------+---------------+\n",
            "only showing top 10 rows\n",
            "\n"
          ]
        }
      ]
    },
    {
      "cell_type": "code",
      "source": [
        "#_______________________________________SPARK SQL ANALYTICS______________________\n",
        "\n",
        "\n",
        "    df_clean.createOrReplaceTempView(\"restaurants\")"
      ],
      "metadata": {
        "id": "FtEaJqWcX834"
      },
      "execution_count": null,
      "outputs": []
    }
  ]
}