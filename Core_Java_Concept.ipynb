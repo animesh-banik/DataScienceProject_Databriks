{
  "nbformat": 4,
  "nbformat_minor": 0,
  "metadata": {
    "colab": {
      "provenance": [],
      "toc_visible": true,
      "authorship_tag": "ABX9TyPDyIPjCay2jbG3rWiZ6oXA",
      "include_colab_link": true
    },
    "kernelspec": {
      "name": "python3",
      "display_name": "Python 3"
    },
    "language_info": {
      "name": "python"
    }
  },
  "cells": [
    {
      "cell_type": "markdown",
      "metadata": {
        "id": "view-in-github",
        "colab_type": "text"
      },
      "source": [
        "<a href=\"https://colab.research.google.com/github/animesh-banik/DataScienceProject_Databriks/blob/Google_Colub/Core_Java_Concept.ipynb\" target=\"_parent\"><img src=\"https://colab.research.google.com/assets/colab-badge.svg\" alt=\"Open In Colab\"/></a>"
      ]
    },
    {
      "cell_type": "markdown",
      "source": [
        "Environment Setup & Basic Syntax"
      ],
      "metadata": {
        "id": "zqXaWkGDIPDZ"
      }
    },
    {
      "cell_type": "code",
      "execution_count": null,
      "metadata": {
        "id": "DlVLYFxWv5Mi"
      },
      "outputs": [],
      "source": [
        "#______________________Setting colob to run ____________________________________\n",
        "\n",
        "!apt-get update -y\n",
        "!apt-get install openjdk-11-jdk -y\n",
        "import os\n",
        "os.environ['JAVA_HOME'] = \"/usr/lib/jvm/java-11-openjdk-amd64\"\n",
        "os.environ['PATH'] = os.environ['JAVA_HOME'] + \"/bin:\" + os.environ['PATH']\n",
        "!java -version\n"
      ]
    },
    {
      "cell_type": "markdown",
      "source": [
        "**What is Java?**\n",
        "\n",
        "Java is a high-level, object-oriented programming language developed by Sun Microsystems (now Oracle). It follows the principle \"Write Once, Run Anywhere\" (WORA) through the Java Virtual Machine (JVM)."
      ],
      "metadata": {
        "id": "HXkeoEoJ8x6U"
      }
    },
    {
      "cell_type": "markdown",
      "source": [
        "Print Hellow World"
      ],
      "metadata": {
        "id": "RX6h0_m-JbUy"
      }
    },
    {
      "cell_type": "markdown",
      "source": [
        "**JAVA Key Features:**\n",
        "\n",
        "- Platform Independent\n",
        "- Object-Oriented\n",
        "- Secure\n",
        "- Multithreaded\n",
        "- Robust"
      ],
      "metadata": {
        "id": "uQzPc97782fr"
      }
    },
    {
      "cell_type": "markdown",
      "source": [
        "**Java Architecture:**\n",
        "\n",
        "- **Source Code (.java)** → **Compiler (javac)** → **Bytecode (.class)** → **JVM** → **Machine Code**"
      ],
      "metadata": {
        "id": "IDSZ3arg8-Ya"
      }
    },
    {
      "cell_type": "code",
      "source": [
        "#_________________________ Creating the Class __________________________________\n",
        "%%writefile HelloWorld.java\n",
        "public class HelloWorld {\n",
        "    public static void main(String[] args) {\n",
        "        System.out.println(\"Hello from Java in Colab!\");\n",
        "    }\n",
        "}\n"
      ],
      "metadata": {
        "colab": {
          "base_uri": "https://localhost:8080/"
        },
        "id": "aTRtUppZw0B-",
        "outputId": "e94c4200-5881-48a8-9d1f-9544c85a29bc"
      },
      "execution_count": null,
      "outputs": [
        {
          "output_type": "stream",
          "name": "stdout",
          "text": [
            "Overwriting HelloWorld.java\n"
          ]
        }
      ]
    },
    {
      "cell_type": "code",
      "source": [
        "#________________________________ Run the Java code ___________________________\n",
        "!javac HelloWorld.java\n",
        "!java HelloWorld"
      ],
      "metadata": {
        "colab": {
          "base_uri": "https://localhost:8080/"
        },
        "id": "23IHKNJFCvCs",
        "outputId": "81d24f7f-880a-4156-f704-d8a46cd19836"
      },
      "execution_count": null,
      "outputs": [
        {
          "output_type": "stream",
          "name": "stdout",
          "text": [
            "Hello from Java in Colab!\n"
          ]
        }
      ]
    },
    {
      "cell_type": "markdown",
      "source": [
        "**All the key word used in java**\n",
        "\n",
        "1. Access Modifiers\n",
        "\n",
        "**public** – accessible from anywhere\n",
        "\n",
        "**private** – accessible only inside the same class\n",
        "\n",
        "**protected** – accessible within package + subclasses\n",
        "\n",
        "**default** (no keyword, package-private)\n",
        "\n",
        "🔹 2. Class, Object, and Inheritance\n",
        "\n",
        "**class** – define a class\n",
        "\n",
        "**interface** – define an interface\n",
        "\n",
        "**extends** – inherit from a class\n",
        "\n",
        "**implements** – implement an interface\n",
        "\n",
        "**this** – reference current object\n",
        "\n",
        "**super** – reference parent class (methods/constructors)\n",
        "\n",
        "**new** – create new object\n",
        "\n",
        "🔹 3. Control Flow\n",
        "\n",
        "**if** – conditional\n",
        "\n",
        "**else** – alternate block\n",
        "\n",
        "**switch** – multiple conditions\n",
        "\n",
        "**case** – branch inside switch\n",
        "\n",
        "**default** – default branch in switch\n",
        "\n",
        "**for** – loop\n",
        "\n",
        "**while** – loop\n",
        "\n",
        "**do** – loop (do-while)\n",
        "\n",
        "**break** – exit loop/switch\n",
        "\n",
        "**continue** – skip current iteration\n",
        "\n",
        "**return** – exit from method with/without value\n",
        "\n",
        "🔹 4. Exception Handling\n",
        "\n",
        "**try** – start exception block\n",
        "\n",
        "**catch** – handle exception\n",
        "\n",
        "**finally** – always executes after try/catch\n",
        "\n",
        "***throw*** – throw exception\n",
        "\n",
        "**throws** – declare exceptions\n",
        "\n",
        "🔹 5. Data Types (Primitive)\n",
        "\n",
        "**byte, short, int, long – integer types**\n",
        "\n",
        "**float, double – decimal numbers**\n",
        "\n",
        "**char** – single character\n",
        "\n",
        "**boolean** – true/false\n",
        "\n",
        "**void** – no return type\n",
        "\n",
        "🔹** 6. Object & Class Related**\n",
        "\n",
        "**static** – class-level variable/method\n",
        "\n",
        "**final** – constant / prevent inheritance / prevent overriding\n",
        "\n",
        "**abstract** – abstract class/method\n",
        "\n",
        "**synchronized** – thread synchronization\n",
        "\n",
        "**volatile** – variable may be modified by multiple threads\n",
        "\n",
        "**transient** – prevent serialization\n",
        "\n",
        "🔹 7. Packages\n",
        "\n",
        "**package** – define package\n",
        "\n",
        "**import** – include package/class\n",
        "\n",
        "🔹 8. Others\n",
        "\n",
        "**instanceof** – test object type\n",
        "\n",
        "**enum** – define constants\n",
        "\n",
        "**assert** – debugging check\n",
        "\n",
        "**native** – method implemented in another language (C/C++)\n",
        "\n",
        "**strictfp** – ensure floating-point precision consistency\n",
        "\n",
        "🔹 9. Reserved for Future Use (not used but reserved)\n",
        "\n",
        "**goto**\n",
        "\n",
        "**const**"
      ],
      "metadata": {
        "id": "DnmAC9pwkGJl"
      }
    },
    {
      "cell_type": "markdown",
      "source": [
        "**Type casting**"
      ],
      "metadata": {
        "id": "cQU9c-mZJn5d"
      }
    },
    {
      "cell_type": "code",
      "source": [
        "%%writefile TestJava.java\n",
        "public class TestJava {\n",
        "    public static void main(String[] args) {\n",
        "       double doubleValue = 9.78;\n",
        "        int intValue = (int) doubleValue; // Explicit casting\n",
        "        System.out.println(\"Double: \" + doubleValue + \", Int: \" + intValue);\n",
        "    }\n",
        "}\n",
        "\n"
      ],
      "metadata": {
        "colab": {
          "base_uri": "https://localhost:8080/"
        },
        "id": "LMyWrcRxJnbT",
        "outputId": "49d1521e-d5c3-49bf-c050-32848e66649f"
      },
      "execution_count": null,
      "outputs": [
        {
          "output_type": "stream",
          "name": "stdout",
          "text": [
            "Writing TestJava.java\n"
          ]
        }
      ]
    },
    {
      "cell_type": "code",
      "source": [
        "!javac TestJava.java\n",
        "!java TestJava"
      ],
      "metadata": {
        "colab": {
          "base_uri": "https://localhost:8080/"
        },
        "id": "E8xZ-y_UJ7OD",
        "outputId": "ea8b0656-e62e-4c2e-ab98-97c8b0fca80e"
      },
      "execution_count": null,
      "outputs": [
        {
          "output_type": "stream",
          "name": "stdout",
          "text": [
            "Double: 9.78, Int: 9\n"
          ]
        }
      ]
    },
    {
      "cell_type": "markdown",
      "source": [
        "String Operations"
      ],
      "metadata": {
        "id": "pL9FttR5KK6r"
      }
    },
    {
      "cell_type": "code",
      "source": [
        "%%writefile TestJava.java\n",
        "public class TestJava {\n",
        "    public static void main(String[] args) {\n",
        "\n",
        "       # Creation & Basic Info\n",
        "\n",
        "        String firstName = \"John\";\n",
        "        String lastName = \"Doe\";\n",
        "        String fullName = firstName + \" \" + lastName;\n",
        "        System.out.println(\"Full name: \" + fullName);\n",
        "        System.out.println(\"Length: \" + fullName.length());\n",
        "        System.out.println(\"Uppercase: \" + fullName.toUpperCase());\n",
        "\n",
        "        # Searching & Matching\n",
        "        System.out.println(\"_______Searching & Matching_______________\");\n",
        "\n",
        "        String s = \"Hello\";\n",
        "        System.out.println(s.length());     // 5\n",
        "        System.out.println(s.isEmpty());    // false\n",
        "        System.out.println(\" \".isBlank());  // true (Java 11+)\n",
        "\n",
        "        s = \"hello world\";\n",
        "        System.out.println(s.charAt(1));            // 'e'\n",
        "        System.out.println(s.indexOf(\"o\"));         // 4\n",
        "        System.out.println(s.contains(\"world\"));    // true\n",
        "        System.out.println(s.startsWith(\"he\"));     // true\n",
        "\n",
        "        System.out.println(\"_______Modifying Strings_______________\");\n",
        "\n",
        "        # Modifying Strings\n",
        "\n",
        "        s = \"Hello World \";\n",
        "        System.out.println(s.trim());               // \"Hello World\"\n",
        "        System.out.println(s.toUpperCase());        // \"  HELLO WORLD  \"\n",
        "        System.out.println(s.replace(\"o\", \"x\"));    // \"  Hellx Wxrld  \"\n",
        "        System.out.println(\"ha\".repeat(3));         // \"hahaha\" (Java 11+)\n",
        "\n",
        "         System.out.println(\"_______Splitting & Substrings_______________\");\n",
        "\n",
        "        # Splitting & Substrings\n",
        "\n",
        "         s = \"one,two,three\";\n",
        "         System.out.println(s.substring(4));           // \"two,three\"\n",
        "         System.out.println(s.split(\",\"));             // [\"one\", \"two\", \"three\"]\n",
        "\n",
        "\n",
        "\n",
        "    }\n",
        "}"
      ],
      "metadata": {
        "colab": {
          "base_uri": "https://localhost:8080/"
        },
        "id": "sZX7MsQYKOBi",
        "outputId": "2453c11b-b2da-441c-b358-80bc4dfae52c"
      },
      "execution_count": null,
      "outputs": [
        {
          "output_type": "stream",
          "name": "stdout",
          "text": [
            "Overwriting TestJava.java\n"
          ]
        }
      ]
    },
    {
      "cell_type": "code",
      "source": [
        "!javac TestJava.java\n",
        "!java TestJava"
      ],
      "metadata": {
        "colab": {
          "base_uri": "https://localhost:8080/"
        },
        "id": "do1Co6BhKc0a",
        "outputId": "4c2a80fa-01a2-48d6-e16e-a901ca0f01a7"
      },
      "execution_count": null,
      "outputs": [
        {
          "output_type": "stream",
          "name": "stdout",
          "text": [
            "Full name: John Doe\n",
            "Length: 8\n",
            "Uppercase: JOHN DOE\n",
            "5\n",
            "false\n",
            "true\n",
            "e\n",
            "4\n",
            "true\n",
            "true\n",
            "Hello World\n",
            "HELLO WORLD \n",
            "Hellx Wxrld \n",
            "hahaha\n",
            "two,three\n",
            "[Ljava.lang.String;@19469ea2\n"
          ]
        }
      ]
    },
    {
      "cell_type": "code",
      "source": [
        "!javac ReverseString.java\n",
        "!java ReverseString"
      ],
      "metadata": {
        "colab": {
          "base_uri": "https://localhost:8080/"
        },
        "id": "Am1P9JKZfslw",
        "outputId": "3c13c1ec-7eb1-4ef8-b107-ee1e01dd1c42"
      },
      "execution_count": null,
      "outputs": [
        {
          "output_type": "stream",
          "name": "stdout",
          "text": [
            "Reversed: revirDbeW\n"
          ]
        }
      ]
    },
    {
      "cell_type": "markdown",
      "source": [
        "Control Structures & Loops"
      ],
      "metadata": {
        "id": "wQT9kLM1s8kJ"
      }
    },
    {
      "cell_type": "code",
      "source": [
        "# _______________________If and Else _________________________\n",
        "%%writefile TestJava.java\n",
        "import java.util.Scanner;\n",
        "public class TestJava {\n",
        "    public static void main(String[] args) {\n",
        "\n",
        "        System.out.println(\"Please add age\");\n",
        "        Scanner scanner = new Scanner(System.in);\n",
        "        int age = scanner.nextInt();\n",
        "        if (age >= 18)\n",
        "        {\n",
        "            System.out.println(\"You are an adult.\");\n",
        "        } else if (age >= 13) {\n",
        "            System.out.println(\"You are a teenager.\");\n",
        "        } else {\n",
        "            System.out.println(\"You are a child.\");\n",
        "        }\n",
        "    }\n",
        "}\n"
      ],
      "metadata": {
        "colab": {
          "base_uri": "https://localhost:8080/"
        },
        "id": "hmIv8fKJtIOw",
        "outputId": "b1b4b33b-5371-45b8-975c-2c7807e1b423"
      },
      "execution_count": null,
      "outputs": [
        {
          "output_type": "stream",
          "name": "stdout",
          "text": [
            "Overwriting TestJava.java\n"
          ]
        }
      ]
    },
    {
      "cell_type": "code",
      "source": [
        "!javac TestJava.java\n",
        "!java TestJava"
      ],
      "metadata": {
        "colab": {
          "base_uri": "https://localhost:8080/"
        },
        "id": "p4Iqwk-cuGSM",
        "outputId": "13f2c2cd-d01b-47ca-b7bc-7bd415f66500"
      },
      "execution_count": null,
      "outputs": [
        {
          "output_type": "stream",
          "name": "stdout",
          "text": [
            "Please add age\n",
            "45\n",
            "You are an adult.\n"
          ]
        }
      ]
    },
    {
      "cell_type": "code",
      "source": [
        "# _______________________Switch case Statement_________________________\n",
        "\n",
        "%%writefile TestJava.java\n",
        "import java.util.Scanner;\n",
        "public class TestJava {\n",
        "    public static void main(String[] args) {\n",
        "\n",
        "        System.out.print(\"Enter a day number (1-7): \");\n",
        "        Scanner scanner = new Scanner(System.in);\n",
        "        int day = scanner.nextInt();\n",
        "        switch (day) {\n",
        "            case 1:\n",
        "                System.out.println(\"Monday\");\n",
        "                break;\n",
        "            case 2:\n",
        "                System.out.println(\"Tuesday\");\n",
        "                break;\n",
        "            case 3:\n",
        "                System.out.println(\"Wednesday\");\n",
        "                break;\n",
        "            default:\n",
        "                System.out.println(\"Other day\");\n",
        "        }\n",
        "    }\n",
        "}"
      ],
      "metadata": {
        "colab": {
          "base_uri": "https://localhost:8080/"
        },
        "id": "FsRAMmpRym_L",
        "outputId": "384a87ca-119d-4550-b8f8-626afa25a3b0"
      },
      "execution_count": null,
      "outputs": [
        {
          "output_type": "stream",
          "name": "stdout",
          "text": [
            "Overwriting TestJava.java\n"
          ]
        }
      ]
    },
    {
      "cell_type": "code",
      "source": [
        "!javac TestJava.java\n",
        "!java TestJava"
      ],
      "metadata": {
        "colab": {
          "base_uri": "https://localhost:8080/"
        },
        "id": "A2H_WqJ9y8Pb",
        "outputId": "f263e3a8-e594-420e-edf1-0aef5a2210cd"
      },
      "execution_count": null,
      "outputs": [
        {
          "output_type": "stream",
          "name": "stdout",
          "text": [
            "Enter a day number (1-7): 1\n",
            "Monday\n"
          ]
        }
      ]
    },
    {
      "cell_type": "code",
      "source": [
        "# _______________________For Loop_________________________\n",
        "\n",
        "%%writefile TestJava.java\n",
        "public class TestJava {\n",
        "    public static void main(String[] args) {\n",
        "        System.out.println(\"Counting from 1 to 10:\");\n",
        "        for (int i = 1; i <= 10; i++) {\n",
        "            System.out.print(i + \" \");\n",
        "           }\n",
        "       }\n",
        "\n",
        "    }"
      ],
      "metadata": {
        "colab": {
          "base_uri": "https://localhost:8080/"
        },
        "id": "Bevca4bfz4tc",
        "outputId": "83274794-4313-4222-c3a8-1a2168e15eb9"
      },
      "execution_count": null,
      "outputs": [
        {
          "output_type": "stream",
          "name": "stdout",
          "text": [
            "Overwriting TestJava.java\n"
          ]
        }
      ]
    },
    {
      "cell_type": "code",
      "source": [
        "!javac TestJava.java\n",
        "!java TestJava"
      ],
      "metadata": {
        "id": "Fm-sqK5J07h9",
        "outputId": "99533714-ae12-4bff-98c2-81cbb071812e",
        "colab": {
          "base_uri": "https://localhost:8080/"
        }
      },
      "execution_count": null,
      "outputs": [
        {
          "output_type": "stream",
          "name": "stdout",
          "text": [
            "Counting from 1 to 10:\n",
            "1 2 3 4 5 6 7 8 9 10 "
          ]
        }
      ]
    },
    {
      "cell_type": "markdown",
      "source": [
        "In Java, the for-each loop (also known as the enhanced for loop) is a control flow statement introduced in Java 5 that iterates over each element in an array or Iterable object, such as a List or Set."
      ],
      "metadata": {
        "id": "HeFncTL11Jn9"
      }
    },
    {
      "cell_type": "code",
      "source": [
        "# _______________________For Each_________________________\n",
        "\n",
        "%%writefile TestJava.java\n",
        "import java.util.List;\n",
        "public class TestJava {\n",
        "    public static void main(String[] args) {\n",
        "\n",
        "        // Using for Loop\n",
        "         int[] numbers = {1, 2, 3, 4, 5};\n",
        "               for (int num : numbers) {\n",
        "                    System.out.println(num);\n",
        "                }\n",
        "\n",
        "        // Using List\n",
        "        List<String> fruits = List.of(\"Apple\", \"Banana\", \"Cherry\");\n",
        "        for (String fruit : fruits) {\n",
        "            System.out.println(fruit);\n",
        "            }\n",
        "         }\n",
        "         // using lamda\n",
        "         List<String> names = List.of(\"Alice\", \"Bob\", \"Charlie\");\n",
        "         names.forEach(name -> System.out.println(name));\n",
        "\n",
        "    }"
      ],
      "metadata": {
        "id": "dj6RM3QT10id",
        "outputId": "303a3e7f-8c9f-4d5d-dd07-bbd3ed9fb9eb",
        "colab": {
          "base_uri": "https://localhost:8080/"
        }
      },
      "execution_count": null,
      "outputs": [
        {
          "output_type": "stream",
          "name": "stdout",
          "text": [
            "Overwriting TestJava.java\n"
          ]
        }
      ]
    },
    {
      "cell_type": "code",
      "source": [
        "!javac TestJava.java\n",
        "!java TestJava"
      ],
      "metadata": {
        "collapsed": true,
        "id": "ljgEiSRd2nGc",
        "outputId": "1a94cdf1-23bc-4b21-ad31-ec1b3a11d91b",
        "colab": {
          "base_uri": "https://localhost:8080/"
        }
      },
      "execution_count": null,
      "outputs": [
        {
          "output_type": "stream",
          "name": "stdout",
          "text": [
            "TestJava.java:19: error: <identifier> expected\n",
            "         names.forEach(name -> System.out.println(name));\n",
            "                      ^\n",
            "TestJava.java:19: error: <identifier> expected\n",
            "         names.forEach(name -> System.out.println(name));\n",
            "                           ^\n",
            "2 errors\n",
            "1\n",
            "2\n",
            "3\n",
            "4\n",
            "5\n",
            "Apple\n",
            "Banana\n",
            "Cherry\n"
          ]
        }
      ]
    },
    {
      "cell_type": "markdown",
      "source": [
        "**Arrays Class in Java**\n",
        "\n",
        "The Arrays class in java.util package is a utility class that provides static methods to perform operations on Java arrays, such as sorting, searching, comparing and converting to strings."
      ],
      "metadata": {
        "id": "2_UPmM2vQBCR"
      }
    },
    {
      "cell_type": "code",
      "source": [
        "%%writefile TestJava.java\n",
        "public class TestJava {\n",
        "    public static void main(String[] args) {\n",
        "        int[] numbers = {10, 20, 30, 40, 50};\n",
        "            System.out.println(numbers[0]);  // prints 10\n",
        "            System.out.println(numbers[4]);  // prints 50\n",
        "            numbers[2] = 100;                // change value at index 2\n",
        "            System.out.println(numbers[2]);  // prints 100\n",
        "\n",
        "\n",
        "           System.out.println(\"Iterate over the for loop\");\n",
        "            // For loop\n",
        "                for (int i = 0; i < numbers.length; i++) {\n",
        "                    System.out.println(numbers[i]);\n",
        "                }\n",
        "           System.out.println(\"Iterate over the for the for each\");\n",
        "                // Enhanced for loop (for-each)\n",
        "                for (int n : numbers) {\n",
        "                    System.out.println(n);\n",
        "}\n",
        "       }\n",
        "\n",
        "    }"
      ],
      "metadata": {
        "colab": {
          "base_uri": "https://localhost:8080/"
        },
        "id": "fUJih_59QlQa",
        "outputId": "c030a6ab-20e1-44a5-bbc5-83cc08cd48fa"
      },
      "execution_count": null,
      "outputs": [
        {
          "output_type": "stream",
          "name": "stdout",
          "text": [
            "Overwriting TestJava.java\n"
          ]
        }
      ]
    },
    {
      "cell_type": "code",
      "source": [
        "!javac TestJava.java\n",
        "!java TestJava"
      ],
      "metadata": {
        "colab": {
          "base_uri": "https://localhost:8080/"
        },
        "id": "YBASLBVCQp76",
        "outputId": "1548e47f-6ce2-42f9-bf2a-7a09fde44912"
      },
      "execution_count": null,
      "outputs": [
        {
          "output_type": "stream",
          "name": "stdout",
          "text": [
            "10\n",
            "50\n",
            "100\n",
            "Iterate over the for loop\n",
            "10\n",
            "20\n",
            "100\n",
            "40\n",
            "50\n",
            "Iterate over the for the for each\n",
            "10\n",
            "20\n",
            "100\n",
            "40\n",
            "50\n"
          ]
        }
      ]
    },
    {
      "cell_type": "markdown",
      "source": [
        "**Chareter Array**"
      ],
      "metadata": {
        "id": "O9tC3YpbWy12"
      }
    },
    {
      "cell_type": "code",
      "source": [
        "%%writefile TestJava.java\n",
        "import java.util.Scanner;\n",
        "public class TestJava {\n",
        "    public static void main(String[] args) {\n",
        "\n",
        "       Scanner sc = new Scanner(System.in);\n",
        "       System.out.print(\"Enter a string: \");\n",
        "        String input = sc.nextLine();\n",
        "\n",
        "        char[] arr = input.toCharArray();\n",
        "        char[] revArr = new char[arr.length];\n",
        "\n",
        "       // First loop: copy elements in reverse order into new array\n",
        "        for (int i = arr.length - 1, j = 0; i >= 0; i--, j++) {\n",
        "            revArr[j] = arr[i];\n",
        "        }\n",
        "\n",
        "        // Second loop: print reversed array\n",
        "            System.out.print(\"Reversed string: \");\n",
        "            for (int i = 0; i < revArr.length; i++) {\n",
        "                System.out.print(revArr[i]);\n",
        "            }\n",
        "\n",
        "       }\n",
        "}"
      ],
      "metadata": {
        "id": "giv_BTnnW6Bc",
        "outputId": "432f0feb-e224-4ab0-ea0c-11bd005f382b",
        "colab": {
          "base_uri": "https://localhost:8080/"
        }
      },
      "execution_count": null,
      "outputs": [
        {
          "output_type": "stream",
          "name": "stdout",
          "text": [
            "Overwriting TestJava.java\n"
          ]
        }
      ]
    },
    {
      "cell_type": "code",
      "source": [
        "!javac TestJava.java\n",
        "!java TestJava"
      ],
      "metadata": {
        "id": "rDiNoRtAXyEX",
        "outputId": "7ca9cb9f-e464-4d2f-efc1-a84da4669267",
        "colab": {
          "base_uri": "https://localhost:8080/"
        }
      },
      "execution_count": null,
      "outputs": [
        {
          "output_type": "stream",
          "name": "stdout",
          "text": [
            "Enter a string: Aniemsh Bnaik\n",
            "Reversed string: kianB hsmeinA"
          ]
        }
      ]
    },
    {
      "cell_type": "markdown",
      "source": [
        "**Object-Oriented Programming**\n",
        "\n",
        "\n",
        "\n",
        "OOP (Object-Oriented Programming) is a programming style that organizes code into objects instead of functions.\n",
        "\n",
        "Objects = real-world entities → Car, Student, Bank Account.\n",
        "\n",
        "Java is a pure OOP language (except for primitive types)."
      ],
      "metadata": {
        "id": "OIj0vhJm9sDB"
      }
    },
    {
      "cell_type": "markdown",
      "source": [
        "**Main Principles of OOP in Java**\n",
        "\n",
        "**Class & Object** – A class is a blueprint or template for creating objects.\n",
        "An object is an instance of a class.\n",
        "\n",
        "**Encapsulation** – Wrapping data (variables) and methods (functions) together.\n",
        "\n",
        "**Inheritance** – One class can acquire properties of another.\n",
        "\n",
        "**Polymorphism** – Same method behaves differently (overloading/overriding).\n",
        "\n",
        "**Method Overloading (Compile-Time Polymorphism)**\n",
        "Same method name, different parameters (type, number, or order).\n",
        "\n",
        "1.  Happens within the same class.\n",
        "2.   Decided at compile time.\n",
        "\n",
        "**Method Overriding (Run-Time Polymorphism)**\n",
        "\n",
        "Child class provides its own implementation of a method already defined in the parent class.\n",
        "\n",
        "1.   Happens between two classes with inheritance.\n",
        "2.   Decided at runtime.\n",
        "3.   Method name, parameters, and return type must be the same.\n",
        "\n",
        "\n",
        "one word\n",
        "\n",
        "Overloading = Same name, different inputs.\n",
        "\n",
        "Overriding = Same name, same inputs, but different behavior in child class.\n",
        "\n",
        "**Abstraction** – Hiding implementation details, showing only essentials.\n",
        "\n",
        "**Constructor** A constructor in Java is a special method that is automatically called when an object is created.\n",
        "\n",
        "* Its purpose is to initialize objects (give initial    values to variables).\n",
        "*  A constructor has the same name as the class.\n",
        "*   It does not have a return type (not even void).\n",
        "\n",
        "**this Keyword** : is a reference variable in Java that refers to the current object.\n",
        "\n",
        "**super Keyword**  is used to refer to the parent class (superclass).\n",
        "\n",
        "**Abstract Class in Java**\n",
        "\n",
        "An abstract class is a class that:\n",
        "\n",
        "Can have abstract methods (methods without body).\n",
        "\n",
        "Can also have concrete (normal) methods.\n",
        "\n",
        "Cannot be instantiated (you cannot create an object directly).\n",
        "\n",
        "Must be extended by another class.\n",
        "\n",
        "\n",
        "**Interfers in java**  \n",
        "\n",
        "\n",
        "An interface in Java is a blueprint of a class that contains only abstract methods (methods without body) and constants.\n",
        "\n",
        "Contains only abstract methods (Java 7).\n",
        "\n",
        "From Java 8 onwards: can also have default and static methods.\n",
        "\n",
        "Variables in interface are by default public, static, final.\n",
        "\n",
        "A class implements an interface.\n",
        "\n",
        "Supports multiple inheritance (unlike classes).\n",
        "\n",
        "\n",
        "\n"
      ],
      "metadata": {
        "id": "Ar9o9tn--G0Q"
      }
    },
    {
      "cell_type": "markdown",
      "source": [
        "**Example of Encapsulation and Inheritace with JAVA selenium**"
      ],
      "metadata": {
        "id": "25pDkk_TcIH9"
      }
    },
    {
      "cell_type": "code",
      "source": [
        "\n",
        "**OPPS example in Selenium**\n",
        "\n",
        "// Encapsulation (Page Object Model)\n",
        "//Encapsulation → Login page details (URL, methods) are hidden inside LoginPage.\n",
        "\n",
        "  class LoginPage {\n",
        "\n",
        "      private WebDriver driver;\n",
        "\n",
        "    // Constructor (OOP concept)\n",
        "  public LoginPage(WebDriver driver) {\n",
        "        this.driver = driver;\n",
        "    }\n",
        "\n",
        "    // Encapsulated methods (instead of exposing locators directly)\n",
        "    public void open() {\n",
        "        driver.get(\"https://example.com/login\");\n",
        "    }\n",
        "}\n",
        "\n",
        "// 2. Inheritance: BaseTest\n",
        "\n",
        "\n",
        "class BaseTest {\n",
        "\n",
        "    WebDriver driver;\n",
        "\n",
        "    public void setUp() {\n",
        "        driver = new ChromeDriver(); // Polymorphism\n",
        "        driver.manage().window().maximize();\n",
        "    }\n",
        "\n",
        "    public void tearDown() {\n",
        "        driver.quit();\n",
        "    }\n",
        "}\n",
        "\n",
        "// 3. Test Class (inherits BaseTest)\n",
        "\n",
        "//Inheritance → LoginTest inherits setup/teardown from BaseTest.\n",
        "\n",
        "public class LoginTest extends BaseTest {\n",
        "    public static void main(String[] args) {\n",
        "        LoginTest test = new LoginTest();\n",
        "        test.setUp();\n",
        "\n",
        "        // Create object of LoginPage (OOP: class & object)\n",
        "        LoginPage login = new LoginPage(test.driver);\n",
        "        login.open();\n",
        "\n",
        "        test.tearDown();"
      ],
      "metadata": {
        "id": "lVgmtVstYNh5"
      },
      "execution_count": null,
      "outputs": []
    },
    {
      "cell_type": "markdown",
      "source": [
        "**Example: Polymorphism in Selenium(Compile Time)**\n",
        "\n",
        "Here, WebDriver is an interface, and ChromeDriver, FirefoxDriver, EdgeDriver are implementations.\n",
        "So, the same reference type (WebDriver) can point to different objects (Chrome, Firefox, Edge)."
      ],
      "metadata": {
        "id": "RwQEETXadQP8"
      }
    },
    {
      "cell_type": "code",
      "source": [
        "import org.openqa.selenium.WebDriver;\n",
        "import org.openqa.selenium.chrome.ChromeDriver;\n",
        "import org.openqa.selenium.firefox.FirefoxDriver;\n",
        "\n",
        "public class PolymorphismExample {\n",
        "    public static void main(String[] args) {\n",
        "        // Using Chrome\n",
        "        WebDriver driver;  // reference of WebDriver interface\n",
        "\n",
        "        driver = new ChromeDriver();  // Chrome implementation\n",
        "        driver.get(\"https://www.google.com\");\n",
        "        System.out.println(\"Title (Chrome): \" + driver.getTitle());\n",
        "        driver.quit();\n",
        "\n",
        "        // Using Firefox\n",
        "        driver = new FirefoxDriver(); // Firefox implementation\n",
        "        driver.get(\"https://www.google.com\");\n",
        "        System.out.println(\"Title (Firefox): \" + driver.getTitle());\n",
        "        driver.quit();\n",
        "    }\n",
        "}"
      ],
      "metadata": {
        "id": "siWwLw6Ld-3K"
      },
      "execution_count": null,
      "outputs": []
    },
    {
      "cell_type": "markdown",
      "source": [
        "**Example: Runtime Polymorphism in Selenium**\n",
        "\n",
        "BrowserTest is the base class.\n",
        "\n",
        "ChromeTest and FirefoxTest override the openApplication() method.\n",
        "\n",
        "At runtime →\n",
        "\n",
        "test = new ChromeTest(); binds to Chrome’s method.\n",
        "\n",
        "test = new FirefoxTest(); binds to Firefox’s method.\n",
        "\n",
        "This is runtime polymorphism (dynamic method dispatch)."
      ],
      "metadata": {
        "id": "po72ghRKe28n"
      }
    },
    {
      "cell_type": "code",
      "source": [
        "import org.openqa.selenium.WebDriver;\n",
        "import org.openqa.selenium.chrome.ChromeDriver;\n",
        "import org.openqa.selenium.firefox.FirefoxDriver;\n",
        "\n",
        "// Base class\n",
        "class BrowserTest {\n",
        "    WebDriver driver;\n",
        "\n",
        "    public void openApplication() {\n",
        "        driver.get(\"https://www.google.com\");\n",
        "        System.out.println(\"Title: \" + driver.getTitle());\n",
        "    }\n",
        "}\n",
        "\n",
        "// Child class for Chrome\n",
        "class ChromeTest extends BrowserTest {\n",
        "    public ChromeTest() {\n",
        "        driver = new ChromeDriver(); // Chrome implementation\n",
        "    }\n",
        "\n",
        "    // overriding method\n",
        "    @Override\n",
        "    public void openApplication() {\n",
        "        super.openApplication();\n",
        "        System.out.println(\"Test executed on Chrome\");\n",
        "        driver.quit();\n",
        "    }\n",
        "}\n",
        "\n",
        "// Child class for Firefox\n",
        "class FirefoxTest extends BrowserTest {\n",
        "    public FirefoxTest() {\n",
        "        driver = new FirefoxDriver(); // Firefox implementation\n",
        "    }\n",
        "\n",
        "    // overriding method\n",
        "    @Override\n",
        "    public void openApplication() {\n",
        "        super.openApplication();\n",
        "        System.out.println(\"Test executed on Firefox\");\n",
        "        driver.quit();\n",
        "    }\n",
        "}\n",
        "\n",
        "// Main class\n",
        "public class RuntimePolymorphismExample {\n",
        "    public static void main(String[] args) {\n",
        "        BrowserTest test;\n",
        "\n",
        "        // Runtime decides which driver is used\n",
        "        test = new ChromeTest();   // Chrome\n",
        "        test.openApplication();\n",
        "\n",
        "        test = new FirefoxTest();  // Firefox\n",
        "        test.openApplication();\n",
        "    }\n",
        "}"
      ],
      "metadata": {
        "id": "YhFNXex-fDlm"
      },
      "execution_count": null,
      "outputs": []
    },
    {
      "cell_type": "markdown",
      "source": [
        "**Abstract Class Example in Selenium**\n",
        "\n",
        "An abstract class can have abstract methods (no body) and concrete methods (with body).\n",
        "\n",
        "In Selenium, we often use abstract classes for BaseTest setup/teardown."
      ],
      "metadata": {
        "id": "FND-vccSgZ8u"
      }
    },
    {
      "cell_type": "code",
      "source": [
        "import org.openqa.selenium.WebDriver;\n",
        "import org.openqa.selenium.chrome.ChromeDriver;\n",
        "import org.openqa.selenium.firefox.FirefoxDriver;\n",
        "\n",
        "// Abstract class\n",
        "abstract class BaseTest {\n",
        "    WebDriver driver;\n",
        "\n",
        "    // Abstract method (must be implemented in child class)\n",
        "    abstract void setUp();\n",
        "\n",
        "    // Concrete method (shared by all child classes)\n",
        "    void tearDown() {\n",
        "        if (driver != null) {\n",
        "            driver.quit();\n",
        "            System.out.println(\"Browser closed.\");\n",
        "        }\n",
        "    }\n",
        "}\n",
        "\n",
        "// Child class for Chrome\n",
        "class ChromeTest extends BaseTest {\n",
        "    @Override\n",
        "    void setUp() {\n",
        "        driver = new ChromeDriver();\n",
        "        driver.get(\"https://www.google.com\");\n",
        "        System.out.println(\"Opened Google in Chrome\");\n",
        "    }\n",
        "}\n",
        "\n",
        "// Child class for Firefox\n",
        "class FirefoxTest extends BaseTest {\n",
        "    @Override\n",
        "    void setUp() {\n",
        "        driver = new FirefoxDriver();\n",
        "        driver.get(\"https://www.google.com\");\n",
        "        System.out.println(\"Opened Google in Firefox\");\n",
        "    }\n",
        "}\n",
        "\n",
        "// Runner class\n",
        "public class AbstractExample {\n",
        "    public static void main(String[] args) {\n",
        "        BaseTest test;\n",
        "\n",
        "        test = new ChromeTest();\n",
        "        test.setUp();\n",
        "        test.tearDown();\n",
        "\n",
        "        test = new FirefoxTest();\n",
        "        test.setUp();\n",
        "        test.tearDown();\n",
        "    }\n",
        "}"
      ],
      "metadata": {
        "id": "h7BOiuk7iK2o"
      },
      "execution_count": null,
      "outputs": []
    },
    {
      "cell_type": "markdown",
      "source": [
        "**Interface Example in Selenium**\n",
        "\n",
        "An interface defines a contract.\n",
        "\n",
        "In Selenium, we use interfaces for Page Object Model (POM) or for defining browser actions."
      ],
      "metadata": {
        "id": "1Dqj5R5ZibGk"
      }
    },
    {
      "cell_type": "code",
      "source": [
        "import org.openqa.selenium.WebDriver;\n",
        "import org.openqa.selenium.chrome.ChromeDriver;\n",
        "\n",
        "// Interface\n",
        "interface BrowserActions {\n",
        "    void openApplication(String url);\n",
        "    void closeApplication();\n",
        "}\n",
        "\n",
        "// Class implementing interface\n",
        "class ChromeBrowser implements BrowserActions {\n",
        "    WebDriver driver = new ChromeDriver();\n",
        "\n",
        "    @Override\n",
        "    public void openApplication(String url) {\n",
        "        driver.get(url);\n",
        "        System.out.println(\"Title: \" + driver.getTitle());\n",
        "    }\n",
        "\n",
        "    @Override\n",
        "    public void closeApplication() {\n",
        "        driver.quit();\n",
        "        System.out.println(\"Browser closed.\");\n",
        "    }\n",
        "}\n",
        "\n",
        "// Runner class\n",
        "public class InterfaceExample {\n",
        "    public static void main(String[] args) {\n",
        "        BrowserActions browser = new ChromeBrowser(); // Polymorphism\n",
        "        browser.openApplication(\"https://www.google.com\");\n",
        "        browser.closeApplication();\n",
        "    }\n",
        "}"
      ],
      "metadata": {
        "id": "g8cUC_IFiq5V"
      },
      "execution_count": null,
      "outputs": []
    },
    {
      "cell_type": "markdown",
      "source": [
        "**Collections Framework**\n",
        "\n",
        "A unified architecture for storing and manipulating groups of objects.\n",
        "\n",
        "Provides interfaces, classes, and algorithms to handle data structures like List, Set, Map, Queue.\n",
        "\n",
        "**Collections Framework Hierarchy**\n",
        "\n",
        "Iterable\n",
        "                   \n",
        "Collection Interface (root interface)\n",
        "\n",
        "Super interface of most collection classes (except Map).\n",
        "\n",
        "**List (Ordered, allows duplicates)**\n",
        "\n",
        "ArrayList\n",
        "\n",
        "LinkedList\n",
        "\n",
        "Vector\n",
        "\n",
        "Stack\n",
        "\n",
        "**Set (Unique elements, no duplicates)**\n",
        "\n",
        "HashSet\n",
        "\n",
        "LinkedHashSet\n",
        "\n",
        "TreeSet (sorted)\n",
        "\n",
        "**Queue (FIFO order, processing elements)**\n",
        "\n",
        "PriorityQueue\n",
        "\n",
        "ArrayDeque\n",
        "\n",
        "**Map (Key-Value pairs, no duplicate keys)**\n",
        "\n",
        "HashMap\n",
        "\n",
        "LinkedHashMap\n",
        "\n",
        "TreeMap\n",
        "\n",
        "Hashtable"
      ],
      "metadata": {
        "id": "5EFZMaLI1DTa"
      }
    },
    {
      "cell_type": "markdown",
      "source": [
        "**List in Java**\n",
        "\n",
        "A List in Java is an ordered collection of elements(part of the Collections Framework).\n",
        "\n",
        "It allows duplicate elements.(you can store repeated values)\n",
        "\n",
        "Elements are indexed (you can access them by position like an array).\n",
        "\n",
        "Defined by the List interface in java.util package.\n",
        "\n",
        "**List Operations**\n",
        "\n",
        "add() → add element\n",
        "\n",
        "add(index, element) → insert at position\n",
        "\n",
        "get(index) → access element\n",
        "\n",
        "set(index, element) → update\n",
        "\n",
        "remove(index) / remove(Object) → delete\n",
        "\n",
        "contains() → check element\n",
        "\n",
        "size() → number of elements\n",
        "\n",
        "clear() → remove all\n",
        "\n",
        "Collections.sort(list) → sort\n",
        "\n",
        "Collections.reverse(list) → reverse\n",
        "\n",
        "Iteration → for, for-each, iterator, forEach()"
      ],
      "metadata": {
        "id": "WvatkYuq2lom"
      }
    },
    {
      "cell_type": "code",
      "source": [
        "# List Operations with Examples\n",
        "\n",
        "%%writefile TestJava.java\n",
        "\n",
        "import java.util.*;\n",
        "public class TestJava {\n",
        "    public static void main(String[] args) {\n",
        "        // Create a List (ArrayList implementation)\n",
        "\n",
        "        List<String> fruits = new ArrayList<>();\n",
        "\n",
        "// 1. Add elements\n",
        "\n",
        "        fruits.add(\"Apple\");\n",
        "        fruits.add(\"Mango\");\n",
        "        fruits.add(\"Banana\");\n",
        "        fruits.add(\"Orange\");\n",
        "        System.out.println(\"Initial List: \" + fruits);\n",
        "\n",
        "// 2. List size\n",
        "\n",
        "        System.out.println(\"List size: \" + fruits.size());\n",
        "\n",
        "// 3 . Using normal for loop (index-based)\n",
        "           System.out.println(\"\\n Iterating with for loop:\");\n",
        "                for (int i = 0; i < fruits.size(); i++) {\n",
        "                    System.out.println(\"Index \" + i + \": \" + fruits.get(i));\n",
        "                }\n",
        "\n",
        "// 4. Using for-each loop\n",
        "        System.out.println(\"\\nIterating with for-each loop:\");\n",
        "                for (String fruit : fruits) {\n",
        "                    System.out.println(fruit + \" \");\n",
        "                }\n",
        "\n",
        " // 4. Add element at specific index\n",
        "        fruits.add(2, \"Grapes\");\n",
        "        System.out.println(\"\\n After adding Grapes at index 2: \" + fruits + \" \");\n",
        "\n",
        "\n",
        "\n",
        "// 5. Iterate using for-each\n",
        "         System.out.println(\"\\n Iterating for-each After Add\");\n",
        "        for (String fruit : fruits) {\n",
        "            System.out.print(\"\\n\" + fruit + \" \");\n",
        "        }\n",
        "\n",
        "\n",
        "// 6. Access element using index\n",
        "        System.out.println(\"\\n\");\n",
        "        System.out.println(\"\\n Access element using index\");\n",
        "        System.out.println(\"Element at index 3: \" + fruits.get(2) + \" \");\n",
        "\n",
        "// 7.Updating an element\n",
        "        System.out.println(\"\\n\");\n",
        "        System.out.println(\"\\n Updating an element\");\n",
        "        fruits.set(1, \"Orange\");\n",
        "        System.out.println(\"Updated List: \" + fruits);\n",
        "\n",
        "\n",
        " // Removing an element\n",
        "        System.out.println(\"\\n\");\n",
        "        System.out.println(\"\\n Removing an element\");\n",
        "        fruits.remove(\"Banana\");\n",
        "        System.out.println(\"After Removing Banana: \" + fruits);\n",
        "\n",
        "// 7. Sort list\n",
        "        Collections.sort(fruits);\n",
        "        System.out.println(\"\\n Sorted list: \" + fruits );\n",
        "\n",
        "\n",
        "\n",
        "    // Iterating\n",
        "\n",
        "        System.out.println(\"\\n Iterating for-each After Add\");\n",
        "        for (String fruit : fruits) {\n",
        "            System.out.print(\"\\n\" + fruit + \" \");\n",
        "        }\n",
        "     }\n",
        "\n",
        "}"
      ],
      "metadata": {
        "id": "v3sjJhdq5LKf",
        "outputId": "ba9206d3-b8ca-4193-9318-aeca13c41ebd",
        "colab": {
          "base_uri": "https://localhost:8080/"
        }
      },
      "execution_count": 70,
      "outputs": [
        {
          "output_type": "stream",
          "name": "stdout",
          "text": [
            "Overwriting TestJava.java\n"
          ]
        }
      ]
    },
    {
      "cell_type": "code",
      "source": [
        "!javac TestJava.java\n",
        "!java TestJava"
      ],
      "metadata": {
        "id": "FBoVh-jm566f",
        "outputId": "a544ee93-c7aa-4489-f842-664dfc903d58",
        "colab": {
          "base_uri": "https://localhost:8080/"
        }
      },
      "execution_count": 71,
      "outputs": [
        {
          "output_type": "stream",
          "name": "stdout",
          "text": [
            "Initial List: [Apple, Mango, Banana, Orange]\n",
            "List size: 4\n",
            "\n",
            " Iterating with for loop:\n",
            "Index 0: Apple\n",
            "Index 1: Mango\n",
            "Index 2: Banana\n",
            "Index 3: Orange\n",
            "\n",
            "Iterating with for-each loop:\n",
            "Apple \n",
            "Mango \n",
            "Banana \n",
            "Orange \n",
            "\n",
            " After adding Grapes at index 2: [Apple, Mango, Grapes, Banana, Orange] \n",
            "\n",
            " Iterating for-each After Add\n",
            "\n",
            "Apple \n",
            "Mango \n",
            "Grapes \n",
            "Banana \n",
            "Orange \n",
            "\n",
            "\n",
            " Access element using index\n",
            "Element at index 3: Grapes \n",
            "\n",
            "\n",
            "\n",
            " Updating an element\n",
            "Updated List: [Apple, Orange, Grapes, Banana, Orange]\n",
            "\n",
            "\n",
            "\n",
            " Removing an element\n",
            "After Removing Banana: [Apple, Orange, Grapes, Orange]\n",
            "\n",
            " Sorted list: [Apple, Grapes, Orange, Orange]\n",
            "\n",
            " Iterating for-each After Add\n",
            "\n",
            "Apple \n",
            "Grapes \n",
            "Orange \n",
            "Orange "
          ]
        }
      ]
    },
    {
      "cell_type": "markdown",
      "source": [
        "**List Operation example in JAVA selenium**"
      ],
      "metadata": {
        "id": "Yknp3WiRWevT"
      }
    },
    {
      "cell_type": "code",
      "source": [
        "import org.openqa.selenium.By;\n",
        "import org.openqa.selenium.WebDriver;\n",
        "import org.openqa.selenium.WebElement;\n",
        "import org.openqa.selenium.chrome.ChromeDriver;\n",
        "import java.util.List;\n",
        "\n",
        "public class ListExample {\n",
        "    public static void main(String[] args) {\n",
        "        // Set path of ChromeDriver\n",
        "        System.setProperty(\"webdriver.chrome.driver\", \"C:\\\\drivers\\\\chromedriver.exe\");\n",
        "\n",
        "        WebDriver driver = new ChromeDriver();\n",
        "        driver.get(\"https://www.wikipedia.org/\");\n",
        "\n",
        "        // Find all links\n",
        "        List<WebElement> links = driver.findElements(By.tagName(\"a\"));\n",
        "\n",
        "        // Print number of links\n",
        "        System.out.println(\"Total links: \" + links.size());\n",
        "\n",
        "        // Iterate using for loop\n",
        "        for (int i = 0; i < links.size(); i++) {\n",
        "            System.out.println(links.get(i).getText());\n",
        "        }\n",
        "\n",
        "        // Get all options from dropdown\n",
        "        List<WebElement> options = driver.findElements(By.tagName(\"option\"));\n",
        "\n",
        "        // Print dropdown options\n",
        "        for (WebElement option : options) {\n",
        "            System.out.println(option.getText());\n",
        "        }\n",
        "\n",
        "        // Find all checkboxes\n",
        "        List<WebElement> checkboxes = driver.findElements(By.xpath(\"//input[@type='checkbox']\"));\n",
        "\n",
        "        System.out.println(\"Total checkboxes: \" + checkboxes.size());\n",
        "\n",
        "        // Click each checkbox\n",
        "        for (WebElement checkbox : checkboxes) {\n",
        "            checkbox.click();\n",
        "        }\n",
        "\n",
        "        driver.quit();\n",
        "    }\n",
        "}\n"
      ],
      "metadata": {
        "id": "EtbcQ3udWi4U"
      },
      "execution_count": null,
      "outputs": []
    },
    {
      "cell_type": "markdown",
      "source": [
        "**Set in Java**\n",
        "\n",
        "A Set is a Collection that stores unique elements (no duplicates).\n",
        "\n",
        "It is part of the Java Collections Framework.\n",
        "\n",
        "Unlike List, Set does not maintain insertion order (except LinkedHashSet).\n",
        "\n",
        "Useful when you want to avoid duplicates (e.g., storing unique email IDs, usernames, etc.).\n",
        "\n",
        "**Types of Set in Java**\n",
        "\n",
        "HashSet → Does not maintain order, fastest for searching.\n",
        "\n",
        "LinkedHashSet → Maintains insertion order.\n",
        "\n",
        "TreeSet → Stores elements in sorted (ascending) order."
      ],
      "metadata": {
        "id": "Ctjl3vSEXUwU"
      }
    },
    {
      "cell_type": "code",
      "source": [
        "%%writefile TestJava.java\n",
        "\n",
        "import java.util.*;\n",
        "public class TestJava {\n",
        "    public static void main(String[] args) {\n",
        "         Set<String> fruits = new HashSet<>();\n",
        "\n",
        "        // Adding elements\n",
        "        fruits.add(\"Apple\");\n",
        "        fruits.add(\"Banana\");\n",
        "        fruits.add(\"Orange\");\n",
        "        fruits.add(\"Apple\");  // duplicate, will not be added\n",
        "        System.out.println(\"Initial Set: \" + fruits);\n",
        "\n",
        "        // Set size\n",
        "        System.out.println(\"Set size: \" + fruits.size());\n",
        "\n",
        "        // Iterate using for-each\n",
        "        for (String fruit : fruits) {\n",
        "            System.out.println(fruit);\n",
        "        }\n",
        "\n",
        "        // Check if element exists\n",
        "        System.out.println(\"Contains Mango? \" + fruits.contains(\"Mango\"));\n",
        "\n",
        "        // Remove element\n",
        "        fruits.remove(\"Banana\");\n",
        "        System.out.println(\"After removing Banana: \" + fruits);\n",
        "    }\n",
        "}"
      ],
      "metadata": {
        "id": "RNVlj-jTXq3A",
        "outputId": "75f835ca-cd0c-4ad2-a5bb-090510afb8b1",
        "colab": {
          "base_uri": "https://localhost:8080/"
        }
      },
      "execution_count": 72,
      "outputs": [
        {
          "output_type": "stream",
          "name": "stdout",
          "text": [
            "Overwriting TestJava.java\n"
          ]
        }
      ]
    },
    {
      "cell_type": "code",
      "source": [
        "!javac TestJava.java\n",
        "!java TestJava"
      ],
      "metadata": {
        "id": "U8lgMpGZYW7F",
        "outputId": "206c574c-09e8-4a4a-9aff-4398d1a23c6d",
        "colab": {
          "base_uri": "https://localhost:8080/"
        }
      },
      "execution_count": 73,
      "outputs": [
        {
          "output_type": "stream",
          "name": "stdout",
          "text": [
            "Initial Set: [Apple, Orange, Banana]\n",
            "Set size: 3\n",
            "Apple\n",
            "Orange\n",
            "Banana\n",
            "Contains Mango? false\n",
            "After removing Banana: [Apple, Orange]\n"
          ]
        }
      ]
    },
    {
      "cell_type": "markdown",
      "source": [
        "**Set Operation example in JAVA selenium**\n",
        "\n",
        "In Selenium, we use Set when we want unique elements (like avoiding duplicate links, dropdown options, etc.).\n",
        "\n",
        "When switching between tabs/windows, Selenium gives a Set<String> because window handles are unique."
      ],
      "metadata": {
        "id": "5Wxqm_0cZee9"
      }
    },
    {
      "cell_type": "code",
      "source": [
        "import org.openqa.selenium.By;\n",
        "import org.openqa.selenium.WebDriver;\n",
        "import org.openqa.selenium.chrome.ChromeDriver;\n",
        "import java.util.Set;\n",
        "\n",
        "public class WindowHandleExample {\n",
        "    public static void main(String[] args) {\n",
        "        System.setProperty(\"webdriver.chrome.driver\", \"C:\\\\drivers\\\\chromedriver.exe\");\n",
        "        WebDriver driver = new ChromeDriver();\n",
        "\n",
        "        driver.get(\"https://www.naukri.com/\");\n",
        "\n",
        "        // Get unique window handles\n",
        "        Set<String> windowHandles = driver.getWindowHandles();\n",
        "\n",
        "        System.out.println(\"Total windows opened: \" + windowHandles.size());\n",
        "\n",
        "        // Iterate using for-each\n",
        "        for (String handle : windowHandles) {\n",
        "            System.out.println(\"Window ID: \" + handle);\n",
        "        }\n",
        "\n",
        "        driver.quit();\n",
        "    }\n",
        "}\n"
      ],
      "metadata": {
        "id": "LOxSs9pRZdmz"
      },
      "execution_count": null,
      "outputs": []
    },
    {
      "cell_type": "markdown",
      "source": [
        "**Map in Java**"
      ],
      "metadata": {
        "id": "z5j-R6xaYuFr"
      }
    },
    {
      "cell_type": "markdown",
      "source": [
        "**A Map is part of the Java Collections Framework.**\n",
        "\n",
        "It stores data in key-value pairs (like a dictionary).\n",
        "\n",
        "Keys are unique → cannot have duplicates.\n",
        "\n",
        "Values can be duplicated.\n",
        "\n",
        "Example use cases: storing user details, configuration properties, test data for Selenium, etc."
      ],
      "metadata": {
        "id": "qbqdrg-vYxtJ"
      }
    },
    {
      "cell_type": "code",
      "source": [
        "%%writefile TestJava.java\n",
        "\n",
        "import java.util.*;\n",
        "public class TestJava {\n",
        "    public static void main(String[] args) {\n",
        "       // Create HashMap\n",
        "           Map<Integer, String> students = new HashMap<>();\n",
        "\n",
        "        // Add key-value pairs\n",
        "            students.put(101, \"John\");\n",
        "            students.put(102, \"Emma\");\n",
        "            students.put(103, \"Alex\");\n",
        "            students.put(101, \"David\"); // Key duplicate → Value replaced\n",
        "\n",
        "        // Print map\n",
        "                System.out.println(\"Students: \" + students);\n",
        "\n",
        "        // Get value by key\n",
        "                System.out.println(\"Student with ID 102: \" + students.get(102));\n",
        "\n",
        "        // Check if key exists\n",
        "                System.out.println(\"Contains key 103? \" + students.containsKey(103));\n",
        "\n",
        "        // Iterate through map (keys and values)\n",
        "            for (Map.Entry<Integer, String> entry : students.entrySet()) {\n",
        "                System.out.println(\"ID: \" + entry.getKey() + \", Name: \" + entry.getValue());\n",
        "            }\n",
        "    }\n",
        "}"
      ],
      "metadata": {
        "id": "g6mgabRoY7tm",
        "outputId": "77343f80-c3a0-469f-a049-a7c1d19ddfe9",
        "colab": {
          "base_uri": "https://localhost:8080/"
        }
      },
      "execution_count": 74,
      "outputs": [
        {
          "output_type": "stream",
          "name": "stdout",
          "text": [
            "Overwriting TestJava.java\n"
          ]
        }
      ]
    },
    {
      "cell_type": "code",
      "source": [
        "!javac TestJava.java\n",
        "!java TestJava"
      ],
      "metadata": {
        "id": "M5VmNP5lZKTJ",
        "outputId": "e857bcbe-b3e0-4db2-e444-258ebde7c3b9",
        "colab": {
          "base_uri": "https://localhost:8080/"
        }
      },
      "execution_count": 75,
      "outputs": [
        {
          "output_type": "stream",
          "name": "stdout",
          "text": [
            "Students: {101=David, 102=Emma, 103=Alex}\n",
            "Student with ID 102: Emma\n",
            "Contains key 103? true\n",
            "ID: 101, Name: David\n",
            "ID: 102, Name: Emma\n",
            "ID: 103, Name: Alex\n"
          ]
        }
      ]
    },
    {
      "cell_type": "markdown",
      "source": [
        "**Map Operation example in JAVA selenium**\n",
        "\n",
        "A Map is very handy in Selenium when you want to store key-value pairs like test data, locators, or element values."
      ],
      "metadata": {
        "id": "Ve1HGpJ9djaL"
      }
    },
    {
      "cell_type": "code",
      "source": [
        "import org.openqa.selenium.By;\n",
        "import org.openqa.selenium.WebDriver;\n",
        "import org.openqa.selenium.chrome.ChromeDriver;\n",
        "import java.util.*;\n",
        "\n",
        "public class MapTestDataExample {\n",
        "    public static void main(String[] args) {\n",
        "        System.setProperty(\"webdriver.chrome.driver\", \"C:\\\\drivers\\\\chromedriver.exe\");\n",
        "        WebDriver driver = new ChromeDriver();\n",
        "        driver.get(\"https://example.com/login\");\n",
        "\n",
        "        // Store credentials in a Map\n",
        "        Map<String, String> credentials = new HashMap<>();\n",
        "        credentials.put(\"admin\", \"admin123\");\n",
        "        credentials.put(\"user\", \"user123\");\n",
        "\n",
        "        // Use 'admin' credentials\n",
        "        driver.findElement(By.id(\"username\")).sendKeys(\"admin\");\n",
        "        driver.findElement(By.id(\"password\")).sendKeys(credentials.get(\"admin\"));\n",
        "        driver.findElement(By.id(\"loginBtn\")).click();\n",
        "\n",
        "        driver.quit();\n",
        "    }\n",
        "}\n"
      ],
      "metadata": {
        "id": "ZspC_a6mexGs"
      },
      "execution_count": null,
      "outputs": []
    }
  ]
}