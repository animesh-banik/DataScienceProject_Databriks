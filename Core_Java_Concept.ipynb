{
  "nbformat": 4,
  "nbformat_minor": 0,
  "metadata": {
    "colab": {
      "provenance": [],
      "authorship_tag": "ABX9TyMAeLSqBQtFWGaokM55NaN4",
      "include_colab_link": true
    },
    "kernelspec": {
      "name": "python3",
      "display_name": "Python 3"
    },
    "language_info": {
      "name": "python"
    }
  },
  "cells": [
    {
      "cell_type": "markdown",
      "metadata": {
        "id": "view-in-github",
        "colab_type": "text"
      },
      "source": [
        "<a href=\"https://colab.research.google.com/github/animesh-banik/DataScienceProject_Databriks/blob/Google_Colub/Core_Java_Concept.ipynb\" target=\"_parent\"><img src=\"https://colab.research.google.com/assets/colab-badge.svg\" alt=\"Open In Colab\"/></a>"
      ]
    },
    {
      "cell_type": "markdown",
      "source": [
        "Environment Setup & Basic Syntax"
      ],
      "metadata": {
        "id": "zqXaWkGDIPDZ"
      }
    },
    {
      "cell_type": "code",
      "execution_count": null,
      "metadata": {
        "id": "DlVLYFxWv5Mi"
      },
      "outputs": [],
      "source": [
        "#______________________Setting colob to run ____________________________________\n",
        "\n",
        "!apt-get update -y\n",
        "!apt-get install openjdk-11-jdk -y\n",
        "import os\n",
        "os.environ['JAVA_HOME'] = \"/usr/lib/jvm/java-11-openjdk-amd64\"\n",
        "os.environ['PATH'] = os.environ['JAVA_HOME'] + \"/bin:\" + os.environ['PATH']\n",
        "!java -version\n"
      ]
    },
    {
      "cell_type": "markdown",
      "source": [
        "Print Hellow World"
      ],
      "metadata": {
        "id": "RX6h0_m-JbUy"
      }
    },
    {
      "cell_type": "code",
      "source": [
        "#_________________________ Creating the Class __________________________________\n",
        "%%writefile HelloWorld.java\n",
        "public class HelloWorld {\n",
        "    public static void main(String[] args) {\n",
        "        System.out.println(\"Hello from Java in Colab!\");\n",
        "    }\n",
        "}\n"
      ],
      "metadata": {
        "colab": {
          "base_uri": "https://localhost:8080/"
        },
        "id": "aTRtUppZw0B-",
        "outputId": "e94c4200-5881-48a8-9d1f-9544c85a29bc"
      },
      "execution_count": 7,
      "outputs": [
        {
          "output_type": "stream",
          "name": "stdout",
          "text": [
            "Overwriting HelloWorld.java\n"
          ]
        }
      ]
    },
    {
      "cell_type": "code",
      "source": [
        "#________________________________ Run the Java code ___________________________\n",
        "!javac HelloWorld.java\n",
        "!java HelloWorld"
      ],
      "metadata": {
        "colab": {
          "base_uri": "https://localhost:8080/"
        },
        "id": "23IHKNJFCvCs",
        "outputId": "81d24f7f-880a-4156-f704-d8a46cd19836"
      },
      "execution_count": 9,
      "outputs": [
        {
          "output_type": "stream",
          "name": "stdout",
          "text": [
            "Hello from Java in Colab!\n"
          ]
        }
      ]
    },
    {
      "cell_type": "markdown",
      "source": [
        "Type casting"
      ],
      "metadata": {
        "id": "cQU9c-mZJn5d"
      }
    },
    {
      "cell_type": "code",
      "source": [
        "%%writefile TestJava.java\n",
        "public class TestJava {\n",
        "    public static void main(String[] args) {\n",
        "       double doubleValue = 9.78;\n",
        "        int intValue = (int) doubleValue; // Explicit casting\n",
        "        System.out.println(\"Double: \" + doubleValue + \", Int: \" + intValue);\n",
        "    }\n",
        "}\n",
        "\n"
      ],
      "metadata": {
        "colab": {
          "base_uri": "https://localhost:8080/"
        },
        "id": "LMyWrcRxJnbT",
        "outputId": "49d1521e-d5c3-49bf-c050-32848e66649f"
      },
      "execution_count": 10,
      "outputs": [
        {
          "output_type": "stream",
          "name": "stdout",
          "text": [
            "Writing TestJava.java\n"
          ]
        }
      ]
    },
    {
      "cell_type": "code",
      "source": [
        "!javac TestJava.java\n",
        "!java TestJava"
      ],
      "metadata": {
        "colab": {
          "base_uri": "https://localhost:8080/"
        },
        "id": "E8xZ-y_UJ7OD",
        "outputId": "ea8b0656-e62e-4c2e-ab98-97c8b0fca80e"
      },
      "execution_count": 11,
      "outputs": [
        {
          "output_type": "stream",
          "name": "stdout",
          "text": [
            "Double: 9.78, Int: 9\n"
          ]
        }
      ]
    },
    {
      "cell_type": "markdown",
      "source": [
        "String Operations"
      ],
      "metadata": {
        "id": "pL9FttR5KK6r"
      }
    },
    {
      "cell_type": "code",
      "source": [
        "%%writefile TestJava.java\n",
        "public class TestJava {\n",
        "    public static void main(String[] args) {\n",
        "\n",
        "       # Creation & Basic Info\n",
        "\n",
        "        String firstName = \"John\";\n",
        "        String lastName = \"Doe\";\n",
        "        String fullName = firstName + \" \" + lastName;\n",
        "        System.out.println(\"Full name: \" + fullName);\n",
        "        System.out.println(\"Length: \" + fullName.length());\n",
        "        System.out.println(\"Uppercase: \" + fullName.toUpperCase());\n",
        "\n",
        "        # Searching & Matching\n",
        "\n",
        "        String s = \"Hello\";\n",
        "        System.out.println(s.length());     // 5\n",
        "        System.out.println(s.isEmpty());    // false\n",
        "        System.out.println(\" \".isBlank());  // true (Java 11+)\n",
        "\n",
        "        s = \"hello world\";\n",
        "        System.out.println(s.charAt(1));            // 'e'\n",
        "        System.out.println(s.indexOf(\"o\"));         // 4\n",
        "        System.out.println(s.contains(\"world\"));    // true\n",
        "        System.out.println(s.startsWith(\"he\"));     // true\n",
        "\n",
        "        # Modifying Strings\n",
        "\n",
        "        s = \"Hello World \";\n",
        "        System.out.println(s.trim());               // \"Hello World\"\n",
        "        System.out.println(s.toUpperCase());        // \"  HELLO WORLD  \"\n",
        "        System.out.println(s.replace(\"o\", \"x\"));    // \"  Hellx Wxrld  \"\n",
        "        System.out.println(\"ha\".repeat(3));         // \"hahaha\" (Java 11+)\n",
        "\n",
        "        # Splitting & Substrings\n",
        "\n",
        "        s = \"one,two,three\";\n",
        "         System.out.println(s.substring(4));           // \"two,three\"\n",
        "         System.out.println(s.split(\",\"));             // [\"one\", \"two\", \"three\"]\n",
        "\n",
        "\n",
        "\n",
        "    }\n",
        "}"
      ],
      "metadata": {
        "colab": {
          "base_uri": "https://localhost:8080/"
        },
        "id": "sZX7MsQYKOBi",
        "outputId": "2453c11b-b2da-441c-b358-80bc4dfae52c"
      },
      "execution_count": 28,
      "outputs": [
        {
          "output_type": "stream",
          "name": "stdout",
          "text": [
            "Overwriting TestJava.java\n"
          ]
        }
      ]
    },
    {
      "cell_type": "code",
      "source": [
        "!javac TestJava.java\n",
        "!java TestJava"
      ],
      "metadata": {
        "colab": {
          "base_uri": "https://localhost:8080/"
        },
        "id": "do1Co6BhKc0a",
        "outputId": "4c2a80fa-01a2-48d6-e16e-a901ca0f01a7"
      },
      "execution_count": 29,
      "outputs": [
        {
          "output_type": "stream",
          "name": "stdout",
          "text": [
            "Full name: John Doe\n",
            "Length: 8\n",
            "Uppercase: JOHN DOE\n",
            "5\n",
            "false\n",
            "true\n",
            "e\n",
            "4\n",
            "true\n",
            "true\n",
            "Hello World\n",
            "HELLO WORLD \n",
            "Hellx Wxrld \n",
            "hahaha\n",
            "two,three\n",
            "[Ljava.lang.String;@19469ea2\n"
          ]
        }
      ]
    },
    {
      "cell_type": "code",
      "source": [
        "# @title\n",
        "#_________________________ Reverse a String__________________________________\n",
        "%%writefile ReverseString.java\n",
        "public class ReverseString {\n",
        "    public static void main(String[] args) {\n",
        "        String str = \"WebDriver\";\n",
        "        String rev = \"\";\n",
        "        for (int i = str.length()-1; i >= 0; i--) {\n",
        "            rev += str.charAt(i);\n",
        "        }\n",
        "        System.out.println(\"Reversed: \" + rev);\n",
        "\n",
        "    }\n",
        "}\n",
        "\n"
      ],
      "metadata": {
        "colab": {
          "base_uri": "https://localhost:8080/"
        },
        "collapsed": true,
        "id": "KAQunbdyeyRX",
        "outputId": "6a19ceba-8ea6-4db3-98fb-cd9e19918f4b"
      },
      "execution_count": 3,
      "outputs": [
        {
          "output_type": "stream",
          "name": "stdout",
          "text": [
            "Overwriting ReverseString.java\n"
          ]
        }
      ]
    },
    {
      "cell_type": "code",
      "source": [
        "!javac ReverseString.java\n",
        "!java ReverseString"
      ],
      "metadata": {
        "colab": {
          "base_uri": "https://localhost:8080/"
        },
        "id": "Am1P9JKZfslw",
        "outputId": "3c13c1ec-7eb1-4ef8-b107-ee1e01dd1c42"
      },
      "execution_count": null,
      "outputs": [
        {
          "output_type": "stream",
          "name": "stdout",
          "text": [
            "Reversed: revirDbeW\n"
          ]
        }
      ]
    },
    {
      "cell_type": "code",
      "source": [
        "from google.colab import files\n",
        "files.download(\"/content/HTML Report\")"
      ],
      "metadata": {
        "id": "jNai8RdQtctD",
        "outputId": "31409ec8-fe3f-40fe-f27e-6cfcb1b2435b",
        "colab": {
          "base_uri": "https://localhost:8080/",
          "height": 34
        }
      },
      "execution_count": null,
      "outputs": [
        {
          "output_type": "display_data",
          "data": {
            "text/plain": [
              "<IPython.core.display.Javascript object>"
            ],
            "application/javascript": [
              "\n",
              "    async function download(id, filename, size) {\n",
              "      if (!google.colab.kernel.accessAllowed) {\n",
              "        return;\n",
              "      }\n",
              "      const div = document.createElement('div');\n",
              "      const label = document.createElement('label');\n",
              "      label.textContent = `Downloading \"${filename}\": `;\n",
              "      div.appendChild(label);\n",
              "      const progress = document.createElement('progress');\n",
              "      progress.max = size;\n",
              "      div.appendChild(progress);\n",
              "      document.body.appendChild(div);\n",
              "\n",
              "      const buffers = [];\n",
              "      let downloaded = 0;\n",
              "\n",
              "      const channel = await google.colab.kernel.comms.open(id);\n",
              "      // Send a message to notify the kernel that we're ready.\n",
              "      channel.send({})\n",
              "\n",
              "      for await (const message of channel.messages) {\n",
              "        // Send a message to notify the kernel that we're ready.\n",
              "        channel.send({})\n",
              "        if (message.buffers) {\n",
              "          for (const buffer of message.buffers) {\n",
              "            buffers.push(buffer);\n",
              "            downloaded += buffer.byteLength;\n",
              "            progress.value = downloaded;\n",
              "          }\n",
              "        }\n",
              "      }\n",
              "      const blob = new Blob(buffers, {type: 'application/binary'});\n",
              "      const a = document.createElement('a');\n",
              "      a.href = window.URL.createObjectURL(blob);\n",
              "      a.download = filename;\n",
              "      div.appendChild(a);\n",
              "      a.click();\n",
              "      div.remove();\n",
              "    }\n",
              "  "
            ]
          },
          "metadata": {}
        },
        {
          "output_type": "display_data",
          "data": {
            "text/plain": [
              "<IPython.core.display.Javascript object>"
            ],
            "application/javascript": [
              "download(\"download_442733f8-6d10-429b-bbe7-2de7a695ed08\", \"HTML Report\", 4096)"
            ]
          },
          "metadata": {}
        }
      ]
    }
  ]
}