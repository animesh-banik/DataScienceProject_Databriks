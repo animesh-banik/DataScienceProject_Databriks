{
  "nbformat": 4,
  "nbformat_minor": 0,
  "metadata": {
    "colab": {
      "provenance": [],
      "toc_visible": true,
      "authorship_tag": "ABX9TyNdV9Z9sszKyYVqtQIcHelR",
      "include_colab_link": true
    },
    "kernelspec": {
      "name": "python3",
      "display_name": "Python 3"
    },
    "language_info": {
      "name": "python"
    }
  },
  "cells": [
    {
      "cell_type": "markdown",
      "metadata": {
        "id": "view-in-github",
        "colab_type": "text"
      },
      "source": [
        "<a href=\"https://colab.research.google.com/github/animesh-banik/DataScienceProject_Databriks/blob/Google_Colub/Core_Java_Concept.ipynb\" target=\"_parent\"><img src=\"https://colab.research.google.com/assets/colab-badge.svg\" alt=\"Open In Colab\"/></a>"
      ]
    },
    {
      "cell_type": "markdown",
      "source": [
        "Environment Setup & Basic Syntax"
      ],
      "metadata": {
        "id": "zqXaWkGDIPDZ"
      }
    },
    {
      "cell_type": "code",
      "execution_count": null,
      "metadata": {
        "id": "DlVLYFxWv5Mi"
      },
      "outputs": [],
      "source": [
        "#______________________Setting colob to run ____________________________________\n",
        "\n",
        "!apt-get update -y\n",
        "!apt-get install openjdk-11-jdk -y\n",
        "import os\n",
        "os.environ['JAVA_HOME'] = \"/usr/lib/jvm/java-11-openjdk-amd64\"\n",
        "os.environ['PATH'] = os.environ['JAVA_HOME'] + \"/bin:\" + os.environ['PATH']\n",
        "!java -version\n"
      ]
    },
    {
      "cell_type": "markdown",
      "source": [
        "**What is Java?**\n",
        "\n",
        "Java is a high-level, object-oriented programming language developed by Sun Microsystems (now Oracle). It follows the principle \"Write Once, Run Anywhere\" (WORA) through the Java Virtual Machine (JVM)."
      ],
      "metadata": {
        "id": "HXkeoEoJ8x6U"
      }
    },
    {
      "cell_type": "markdown",
      "source": [
        "Print Hellow World"
      ],
      "metadata": {
        "id": "RX6h0_m-JbUy"
      }
    },
    {
      "cell_type": "markdown",
      "source": [
        "**JAVA Key Features:**\n",
        "\n",
        "- Platform Independent\n",
        "- Object-Oriented\n",
        "- Secure\n",
        "- Multithreaded\n",
        "- Robust"
      ],
      "metadata": {
        "id": "uQzPc97782fr"
      }
    },
    {
      "cell_type": "markdown",
      "source": [
        "**Java Architecture:**\n",
        "\n",
        "- **Source Code (.java)** → **Compiler (javac)** → **Bytecode (.class)** → **JVM** → **Machine Code**"
      ],
      "metadata": {
        "id": "IDSZ3arg8-Ya"
      }
    },
    {
      "cell_type": "code",
      "source": [
        "#_________________________ Creating the Class __________________________________\n",
        "%%writefile HelloWorld.java\n",
        "public class HelloWorld {\n",
        "    public static void main(String[] args) {\n",
        "        System.out.println(\"Hello from Java in Colab!\");\n",
        "    }\n",
        "}\n"
      ],
      "metadata": {
        "colab": {
          "base_uri": "https://localhost:8080/"
        },
        "id": "aTRtUppZw0B-",
        "outputId": "e94c4200-5881-48a8-9d1f-9544c85a29bc"
      },
      "execution_count": null,
      "outputs": [
        {
          "output_type": "stream",
          "name": "stdout",
          "text": [
            "Overwriting HelloWorld.java\n"
          ]
        }
      ]
    },
    {
      "cell_type": "code",
      "source": [
        "#________________________________ Run the Java code ___________________________\n",
        "!javac HelloWorld.java\n",
        "!java HelloWorld"
      ],
      "metadata": {
        "colab": {
          "base_uri": "https://localhost:8080/"
        },
        "id": "23IHKNJFCvCs",
        "outputId": "81d24f7f-880a-4156-f704-d8a46cd19836"
      },
      "execution_count": null,
      "outputs": [
        {
          "output_type": "stream",
          "name": "stdout",
          "text": [
            "Hello from Java in Colab!\n"
          ]
        }
      ]
    },
    {
      "cell_type": "markdown",
      "source": [
        "Type casting"
      ],
      "metadata": {
        "id": "cQU9c-mZJn5d"
      }
    },
    {
      "cell_type": "code",
      "source": [
        "%%writefile TestJava.java\n",
        "public class TestJava {\n",
        "    public static void main(String[] args) {\n",
        "       double doubleValue = 9.78;\n",
        "        int intValue = (int) doubleValue; // Explicit casting\n",
        "        System.out.println(\"Double: \" + doubleValue + \", Int: \" + intValue);\n",
        "    }\n",
        "}\n",
        "\n"
      ],
      "metadata": {
        "colab": {
          "base_uri": "https://localhost:8080/"
        },
        "id": "LMyWrcRxJnbT",
        "outputId": "49d1521e-d5c3-49bf-c050-32848e66649f"
      },
      "execution_count": null,
      "outputs": [
        {
          "output_type": "stream",
          "name": "stdout",
          "text": [
            "Writing TestJava.java\n"
          ]
        }
      ]
    },
    {
      "cell_type": "code",
      "source": [
        "!javac TestJava.java\n",
        "!java TestJava"
      ],
      "metadata": {
        "colab": {
          "base_uri": "https://localhost:8080/"
        },
        "id": "E8xZ-y_UJ7OD",
        "outputId": "ea8b0656-e62e-4c2e-ab98-97c8b0fca80e"
      },
      "execution_count": null,
      "outputs": [
        {
          "output_type": "stream",
          "name": "stdout",
          "text": [
            "Double: 9.78, Int: 9\n"
          ]
        }
      ]
    },
    {
      "cell_type": "markdown",
      "source": [
        "String Operations"
      ],
      "metadata": {
        "id": "pL9FttR5KK6r"
      }
    },
    {
      "cell_type": "code",
      "source": [
        "%%writefile TestJava.java\n",
        "public class TestJava {\n",
        "    public static void main(String[] args) {\n",
        "\n",
        "       # Creation & Basic Info\n",
        "\n",
        "        String firstName = \"John\";\n",
        "        String lastName = \"Doe\";\n",
        "        String fullName = firstName + \" \" + lastName;\n",
        "        System.out.println(\"Full name: \" + fullName);\n",
        "        System.out.println(\"Length: \" + fullName.length());\n",
        "        System.out.println(\"Uppercase: \" + fullName.toUpperCase());\n",
        "\n",
        "        # Searching & Matching\n",
        "        System.out.println(\"_______Searching & Matching_______________\");\n",
        "\n",
        "        String s = \"Hello\";\n",
        "        System.out.println(s.length());     // 5\n",
        "        System.out.println(s.isEmpty());    // false\n",
        "        System.out.println(\" \".isBlank());  // true (Java 11+)\n",
        "\n",
        "        s = \"hello world\";\n",
        "        System.out.println(s.charAt(1));            // 'e'\n",
        "        System.out.println(s.indexOf(\"o\"));         // 4\n",
        "        System.out.println(s.contains(\"world\"));    // true\n",
        "        System.out.println(s.startsWith(\"he\"));     // true\n",
        "\n",
        "        System.out.println(\"_______Modifying Strings_______________\");\n",
        "\n",
        "        # Modifying Strings\n",
        "\n",
        "        s = \"Hello World \";\n",
        "        System.out.println(s.trim());               // \"Hello World\"\n",
        "        System.out.println(s.toUpperCase());        // \"  HELLO WORLD  \"\n",
        "        System.out.println(s.replace(\"o\", \"x\"));    // \"  Hellx Wxrld  \"\n",
        "        System.out.println(\"ha\".repeat(3));         // \"hahaha\" (Java 11+)\n",
        "\n",
        "         System.out.println(\"_______Splitting & Substrings_______________\");\n",
        "\n",
        "        # Splitting & Substrings\n",
        "\n",
        "         s = \"one,two,three\";\n",
        "         System.out.println(s.substring(4));           // \"two,three\"\n",
        "         System.out.println(s.split(\",\"));             // [\"one\", \"two\", \"three\"]\n",
        "\n",
        "\n",
        "\n",
        "    }\n",
        "}"
      ],
      "metadata": {
        "colab": {
          "base_uri": "https://localhost:8080/"
        },
        "id": "sZX7MsQYKOBi",
        "outputId": "2453c11b-b2da-441c-b358-80bc4dfae52c"
      },
      "execution_count": null,
      "outputs": [
        {
          "output_type": "stream",
          "name": "stdout",
          "text": [
            "Overwriting TestJava.java\n"
          ]
        }
      ]
    },
    {
      "cell_type": "code",
      "source": [
        "!javac TestJava.java\n",
        "!java TestJava"
      ],
      "metadata": {
        "colab": {
          "base_uri": "https://localhost:8080/"
        },
        "id": "do1Co6BhKc0a",
        "outputId": "4c2a80fa-01a2-48d6-e16e-a901ca0f01a7"
      },
      "execution_count": null,
      "outputs": [
        {
          "output_type": "stream",
          "name": "stdout",
          "text": [
            "Full name: John Doe\n",
            "Length: 8\n",
            "Uppercase: JOHN DOE\n",
            "5\n",
            "false\n",
            "true\n",
            "e\n",
            "4\n",
            "true\n",
            "true\n",
            "Hello World\n",
            "HELLO WORLD \n",
            "Hellx Wxrld \n",
            "hahaha\n",
            "two,three\n",
            "[Ljava.lang.String;@19469ea2\n"
          ]
        }
      ]
    },
    {
      "cell_type": "code",
      "source": [
        "!javac ReverseString.java\n",
        "!java ReverseString"
      ],
      "metadata": {
        "colab": {
          "base_uri": "https://localhost:8080/"
        },
        "id": "Am1P9JKZfslw",
        "outputId": "3c13c1ec-7eb1-4ef8-b107-ee1e01dd1c42"
      },
      "execution_count": null,
      "outputs": [
        {
          "output_type": "stream",
          "name": "stdout",
          "text": [
            "Reversed: revirDbeW\n"
          ]
        }
      ]
    },
    {
      "cell_type": "markdown",
      "source": [
        "Control Structures & Loops"
      ],
      "metadata": {
        "id": "wQT9kLM1s8kJ"
      }
    },
    {
      "cell_type": "code",
      "source": [
        "# _______________________If and Else _________________________\n",
        "%%writefile TestJava.java\n",
        "import java.util.Scanner;\n",
        "public class TestJava {\n",
        "    public static void main(String[] args) {\n",
        "\n",
        "        System.out.println(\"Please add age\");\n",
        "        Scanner scanner = new Scanner(System.in);\n",
        "        int age = scanner.nextInt();\n",
        "        if (age >= 18)\n",
        "        {\n",
        "            System.out.println(\"You are an adult.\");\n",
        "        } else if (age >= 13) {\n",
        "            System.out.println(\"You are a teenager.\");\n",
        "        } else {\n",
        "            System.out.println(\"You are a child.\");\n",
        "        }\n",
        "    }\n",
        "}\n"
      ],
      "metadata": {
        "colab": {
          "base_uri": "https://localhost:8080/"
        },
        "id": "hmIv8fKJtIOw",
        "outputId": "b1b4b33b-5371-45b8-975c-2c7807e1b423"
      },
      "execution_count": null,
      "outputs": [
        {
          "output_type": "stream",
          "name": "stdout",
          "text": [
            "Overwriting TestJava.java\n"
          ]
        }
      ]
    },
    {
      "cell_type": "code",
      "source": [
        "!javac TestJava.java\n",
        "!java TestJava"
      ],
      "metadata": {
        "colab": {
          "base_uri": "https://localhost:8080/"
        },
        "id": "p4Iqwk-cuGSM",
        "outputId": "13f2c2cd-d01b-47ca-b7bc-7bd415f66500"
      },
      "execution_count": null,
      "outputs": [
        {
          "output_type": "stream",
          "name": "stdout",
          "text": [
            "Please add age\n",
            "45\n",
            "You are an adult.\n"
          ]
        }
      ]
    },
    {
      "cell_type": "code",
      "source": [
        "# _______________________Switch case Statement_________________________\n",
        "%%writefile TestJava.java\n",
        "import java.util.Scanner;\n",
        "public class TestJava {\n",
        "    public static void main(String[] args) {\n",
        "\n",
        "        System.out.print(\"Enter a day number (1-7): \");\n",
        "        Scanner scanner = new Scanner(System.in);\n",
        "        int day = scanner.nextInt();\n",
        "        switch (day) {\n",
        "            case 1:\n",
        "                System.out.println(\"Monday\");\n",
        "                break;\n",
        "            case 2:\n",
        "                System.out.println(\"Tuesday\");\n",
        "                break;\n",
        "            case 3:\n",
        "                System.out.println(\"Wednesday\");\n",
        "                break;\n",
        "            default:\n",
        "                System.out.println(\"Other day\");\n",
        "        }\n",
        "    }\n",
        "}"
      ],
      "metadata": {
        "colab": {
          "base_uri": "https://localhost:8080/"
        },
        "id": "FsRAMmpRym_L",
        "outputId": "384a87ca-119d-4550-b8f8-626afa25a3b0"
      },
      "execution_count": null,
      "outputs": [
        {
          "output_type": "stream",
          "name": "stdout",
          "text": [
            "Overwriting TestJava.java\n"
          ]
        }
      ]
    },
    {
      "cell_type": "code",
      "source": [
        "!javac TestJava.java\n",
        "!java TestJava"
      ],
      "metadata": {
        "colab": {
          "base_uri": "https://localhost:8080/"
        },
        "id": "A2H_WqJ9y8Pb",
        "outputId": "f263e3a8-e594-420e-edf1-0aef5a2210cd"
      },
      "execution_count": null,
      "outputs": [
        {
          "output_type": "stream",
          "name": "stdout",
          "text": [
            "Enter a day number (1-7): 1\n",
            "Monday\n"
          ]
        }
      ]
    },
    {
      "cell_type": "code",
      "source": [
        "# _______________________For Loop_________________________\n",
        "%%writefile TestJava.java\n",
        "public class TestJava {\n",
        "    public static void main(String[] args) {\n",
        "        System.out.println(\"Counting from 1 to 10:\");\n",
        "        for (int i = 1; i <= 10; i++) {\n",
        "            System.out.print(i + \" \");\n",
        "           }\n",
        "       }\n",
        "\n",
        "    }"
      ],
      "metadata": {
        "colab": {
          "base_uri": "https://localhost:8080/"
        },
        "id": "Bevca4bfz4tc",
        "outputId": "83274794-4313-4222-c3a8-1a2168e15eb9"
      },
      "execution_count": null,
      "outputs": [
        {
          "output_type": "stream",
          "name": "stdout",
          "text": [
            "Overwriting TestJava.java\n"
          ]
        }
      ]
    },
    {
      "cell_type": "code",
      "source": [
        "!javac TestJava.java\n",
        "!java TestJava"
      ],
      "metadata": {
        "id": "Fm-sqK5J07h9",
        "outputId": "99533714-ae12-4bff-98c2-81cbb071812e",
        "colab": {
          "base_uri": "https://localhost:8080/"
        }
      },
      "execution_count": null,
      "outputs": [
        {
          "output_type": "stream",
          "name": "stdout",
          "text": [
            "Counting from 1 to 10:\n",
            "1 2 3 4 5 6 7 8 9 10 "
          ]
        }
      ]
    },
    {
      "cell_type": "markdown",
      "source": [
        "In Java, the for-each loop (also known as the enhanced for loop) is a control flow statement introduced in Java 5 that iterates over each element in an array or Iterable object, such as a List or Set."
      ],
      "metadata": {
        "id": "HeFncTL11Jn9"
      }
    },
    {
      "cell_type": "code",
      "source": [
        "# _______________________For Each_________________________\n",
        "%%writefile TestJava.java\n",
        "import java.util.List;\n",
        "public class TestJava {\n",
        "    public static void main(String[] args) {\n",
        "\n",
        "        // Using for Loop\n",
        "         int[] numbers = {1, 2, 3, 4, 5};\n",
        "               for (int num : numbers) {\n",
        "                    System.out.println(num);\n",
        "                }\n",
        "\n",
        "        // Using List\n",
        "        List<String> fruits = List.of(\"Apple\", \"Banana\", \"Cherry\");\n",
        "        for (String fruit : fruits) {\n",
        "            System.out.println(fruit);\n",
        "            }\n",
        "         }\n",
        "         // using lamda\n",
        "         List<String> names = List.of(\"Alice\", \"Bob\", \"Charlie\");\n",
        "         names.forEach(name -> System.out.println(name));\n",
        "\n",
        "    }"
      ],
      "metadata": {
        "id": "dj6RM3QT10id",
        "outputId": "303a3e7f-8c9f-4d5d-dd07-bbd3ed9fb9eb",
        "colab": {
          "base_uri": "https://localhost:8080/"
        }
      },
      "execution_count": null,
      "outputs": [
        {
          "output_type": "stream",
          "name": "stdout",
          "text": [
            "Overwriting TestJava.java\n"
          ]
        }
      ]
    },
    {
      "cell_type": "code",
      "source": [
        "!javac TestJava.java\n",
        "!java TestJava"
      ],
      "metadata": {
        "collapsed": true,
        "id": "ljgEiSRd2nGc",
        "outputId": "1a94cdf1-23bc-4b21-ad31-ec1b3a11d91b",
        "colab": {
          "base_uri": "https://localhost:8080/"
        }
      },
      "execution_count": null,
      "outputs": [
        {
          "output_type": "stream",
          "name": "stdout",
          "text": [
            "TestJava.java:19: error: <identifier> expected\n",
            "         names.forEach(name -> System.out.println(name));\n",
            "                      ^\n",
            "TestJava.java:19: error: <identifier> expected\n",
            "         names.forEach(name -> System.out.println(name));\n",
            "                           ^\n",
            "2 errors\n",
            "1\n",
            "2\n",
            "3\n",
            "4\n",
            "5\n",
            "Apple\n",
            "Banana\n",
            "Cherry\n"
          ]
        }
      ]
    },
    {
      "cell_type": "markdown",
      "source": [
        "**Arrays Class in Java**\n",
        "\n",
        "The Arrays class in java.util package is a utility class that provides static methods to perform operations on Java arrays, such as sorting, searching, comparing and converting to strings."
      ],
      "metadata": {
        "id": "2_UPmM2vQBCR"
      }
    },
    {
      "cell_type": "code",
      "source": [
        "%%writefile TestJava.java\n",
        "public class TestJava {\n",
        "    public static void main(String[] args) {\n",
        "        int[] numbers = {10, 20, 30, 40, 50};\n",
        "            System.out.println(numbers[0]);  // prints 10\n",
        "            System.out.println(numbers[4]);  // prints 50\n",
        "            numbers[2] = 100;                // change value at index 2\n",
        "            System.out.println(numbers[2]);  // prints 100\n",
        "\n",
        "\n",
        "           System.out.println(\"Iterate over the for loop\");\n",
        "            // For loop\n",
        "                for (int i = 0; i < numbers.length; i++) {\n",
        "                    System.out.println(numbers[i]);\n",
        "                }\n",
        "           System.out.println(\"Iterate over the for the for each\");\n",
        "                // Enhanced for loop (for-each)\n",
        "                for (int n : numbers) {\n",
        "                    System.out.println(n);\n",
        "}\n",
        "       }\n",
        "\n",
        "    }"
      ],
      "metadata": {
        "colab": {
          "base_uri": "https://localhost:8080/"
        },
        "id": "fUJih_59QlQa",
        "outputId": "c030a6ab-20e1-44a5-bbc5-83cc08cd48fa"
      },
      "execution_count": null,
      "outputs": [
        {
          "output_type": "stream",
          "name": "stdout",
          "text": [
            "Overwriting TestJava.java\n"
          ]
        }
      ]
    },
    {
      "cell_type": "code",
      "source": [
        "!javac TestJava.java\n",
        "!java TestJava"
      ],
      "metadata": {
        "colab": {
          "base_uri": "https://localhost:8080/"
        },
        "id": "YBASLBVCQp76",
        "outputId": "1548e47f-6ce2-42f9-bf2a-7a09fde44912"
      },
      "execution_count": null,
      "outputs": [
        {
          "output_type": "stream",
          "name": "stdout",
          "text": [
            "10\n",
            "50\n",
            "100\n",
            "Iterate over the for loop\n",
            "10\n",
            "20\n",
            "100\n",
            "40\n",
            "50\n",
            "Iterate over the for the for each\n",
            "10\n",
            "20\n",
            "100\n",
            "40\n",
            "50\n"
          ]
        }
      ]
    },
    {
      "cell_type": "markdown",
      "source": [
        "**Chareter Array**"
      ],
      "metadata": {
        "id": "O9tC3YpbWy12"
      }
    },
    {
      "cell_type": "code",
      "source": [
        "%%writefile TestJava.java\n",
        "import java.util.Scanner;\n",
        "public class TestJava {\n",
        "    public static void main(String[] args) {\n",
        "\n",
        "       Scanner sc = new Scanner(System.in);\n",
        "       System.out.print(\"Enter a string: \");\n",
        "        String input = sc.nextLine();\n",
        "\n",
        "        char[] arr = input.toCharArray();\n",
        "        char[] revArr = new char[arr.length];\n",
        "\n",
        "       // First loop: copy elements in reverse order into new array\n",
        "        for (int i = arr.length - 1, j = 0; i >= 0; i--, j++) {\n",
        "            revArr[j] = arr[i];\n",
        "        }\n",
        "\n",
        "        // Second loop: print reversed array\n",
        "            System.out.print(\"Reversed string: \");\n",
        "            for (int i = 0; i < revArr.length; i++) {\n",
        "                System.out.print(revArr[i]);\n",
        "            }\n",
        "\n",
        "       }\n",
        "}"
      ],
      "metadata": {
        "id": "giv_BTnnW6Bc",
        "outputId": "432f0feb-e224-4ab0-ea0c-11bd005f382b",
        "colab": {
          "base_uri": "https://localhost:8080/"
        }
      },
      "execution_count": null,
      "outputs": [
        {
          "output_type": "stream",
          "name": "stdout",
          "text": [
            "Overwriting TestJava.java\n"
          ]
        }
      ]
    },
    {
      "cell_type": "code",
      "source": [
        "!javac TestJava.java\n",
        "!java TestJava"
      ],
      "metadata": {
        "id": "rDiNoRtAXyEX",
        "outputId": "7ca9cb9f-e464-4d2f-efc1-a84da4669267",
        "colab": {
          "base_uri": "https://localhost:8080/"
        }
      },
      "execution_count": null,
      "outputs": [
        {
          "output_type": "stream",
          "name": "stdout",
          "text": [
            "Enter a string: Aniemsh Bnaik\n",
            "Reversed string: kianB hsmeinA"
          ]
        }
      ]
    },
    {
      "cell_type": "markdown",
      "source": [
        "**Object-Oriented Programming** *italicized text*\n",
        "\n",
        "\n",
        "\n",
        "OOP (Object-Oriented Programming) is a programming style that organizes code into objects instead of functions.\n",
        "\n",
        "Objects = real-world entities → Car, Student, Bank Account.\n",
        "\n",
        "Java is a pure OOP language (except for primitive types)."
      ],
      "metadata": {
        "id": "OIj0vhJm9sDB"
      }
    },
    {
      "cell_type": "markdown",
      "source": [],
      "metadata": {
        "id": "auf1RAgb-VFK"
      }
    },
    {
      "cell_type": "code",
      "source": [],
      "metadata": {
        "id": "4kslteig_fYM"
      },
      "execution_count": null,
      "outputs": []
    },
    {
      "cell_type": "markdown",
      "source": [
        "**Main Principles of OOP in Java**\n",
        "\n",
        "**Class & Object** – A class is a blueprint or template for creating objects.\n",
        "An object is an instance of a class.\n",
        "\n",
        "**Encapsulation** – Wrapping data (variables) and methods (functions) together.\n",
        "\n",
        "**Inheritance** – One class can acquire properties of another.\n",
        "\n",
        "**Polymorphism** – Same method behaves differently (overloading/overriding).\n",
        "\n",
        "**Method Overloading (Compile-Time Polymorphism)**\n",
        "Same method name, different parameters (type, number, or order).\n",
        "\n",
        "1.  Happens within the same class.\n",
        "2.   Decided at compile time.\n",
        "\n",
        "**Method Overriding (Run-Time Polymorphism)**\n",
        "\n",
        "Child class provides its own implementation of a method already defined in the parent class.\n",
        "\n",
        "1.   Happens between two classes with inheritance.\n",
        "2.   Decided at runtime.\n",
        "3.   Method name, parameters, and return type must be the same.\n",
        "\n",
        "\n",
        "one word\n",
        "\n",
        "Overloading = Same name, different inputs.\n",
        "\n",
        "Overriding = Same name, same inputs, but different behavior in child class.\n",
        "\n",
        "**Abstraction** – Hiding implementation details, showing only essentials.\n",
        "\n",
        "**Constructor** A constructor in Java is a special method that is automatically called when an object is created.\n",
        "\n",
        "* Its purpose is to initialize objects (give initial    values to variables).\n",
        "*  A constructor has the same name as the class.\n",
        "*   It does not have a return type (not even void).\n",
        "\n",
        "**this Keyword** : is a reference variable in Java that refers to the current object.\n",
        "\n",
        "**super Keyword**  is used to refer to the parent class (superclass).\n",
        "\n",
        "**Abstract Class in Java**\n",
        "\n",
        "An abstract class is a class that:\n",
        "\n",
        "Can have abstract methods (methods without body).\n",
        "\n",
        "Can also have concrete (normal) methods.\n",
        "\n",
        "Cannot be instantiated (you cannot create an object directly).\n",
        "\n",
        "Must be extended by another class.\n",
        "\n",
        "\n",
        "**Interfers in java**  \n",
        "\n",
        "\n",
        "An interface in Java is a blueprint of a class that contains only abstract methods (methods without body) and constants.\n",
        "\n",
        "Contains only abstract methods (Java 7).\n",
        "\n",
        "From Java 8 onwards: can also have default and static methods.\n",
        "\n",
        "Variables in interface are by default public, static, final.\n",
        "\n",
        "A class implements an interface.\n",
        "\n",
        "Supports multiple inheritance (unlike classes).\n",
        "\n",
        "\n",
        "\n"
      ],
      "metadata": {
        "id": "Ar9o9tn--G0Q"
      }
    },
    {
      "cell_type": "code",
      "source": [
        "%%writefile TestJava.java\n",
        "\n",
        "**OPPS example in Selenium**\n",
        "\n",
        "// Encapsulation (Page Object Model)\n",
        "//Encapsulation → Login page details (URL, methods) are hidden inside LoginPage.\n",
        "\n",
        "  class LoginPage {\n",
        "\n",
        "      private WebDriver driver;\n",
        "\n",
        "    // Constructor (OOP concept)\n",
        "    public LoginPage(WebDriver driver) {\n",
        "        this.driver = driver;\n",
        "    }\n",
        "\n",
        "    // Encapsulated methods (instead of exposing locators directly)\n",
        "    public void open() {\n",
        "        driver.get(\"https://example.com/login\");\n",
        "    }\n",
        "}\n",
        "\n",
        "// 2. Inheritance: BaseTest\n",
        "\n",
        "\n",
        "class BaseTest {\n",
        "\n",
        "    WebDriver driver;\n",
        "\n",
        "    public void setUp() {\n",
        "        driver = new ChromeDriver(); // Polymorphism\n",
        "        driver.manage().window().maximize();\n",
        "    }\n",
        "\n",
        "    public void tearDown() {\n",
        "        driver.quit();\n",
        "    }\n",
        "}\n",
        "\n",
        "// 3. Test Class (inherits BaseTest)\n",
        "\n",
        "//Inheritance → LoginTest inherits setup/teardown from BaseTest.\n",
        "\n",
        "public class LoginTest extends BaseTest {\n",
        "    public static void main(String[] args) {\n",
        "        LoginTest test = new LoginTest();\n",
        "        test.setUp();\n",
        "\n",
        "        // Create object of LoginPage (OOP: class & object)\n",
        "        LoginPage login = new LoginPage(test.driver);\n",
        "        login.open();\n",
        "\n",
        "        test.tearDown();"
      ],
      "metadata": {
        "id": "lVgmtVstYNh5"
      },
      "execution_count": null,
      "outputs": []
    }
  ]
}