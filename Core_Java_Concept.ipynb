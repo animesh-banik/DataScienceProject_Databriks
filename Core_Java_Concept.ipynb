{
  "nbformat": 4,
  "nbformat_minor": 0,
  "metadata": {
    "colab": {
      "provenance": [],
      "toc_visible": true,
      "authorship_tag": "ABX9TyO9NLqR5hO88FerwDPnAbwx",
      "include_colab_link": true
    },
    "kernelspec": {
      "name": "python3",
      "display_name": "Python 3"
    },
    "language_info": {
      "name": "python"
    }
  },
  "cells": [
    {
      "cell_type": "markdown",
      "metadata": {
        "id": "view-in-github",
        "colab_type": "text"
      },
      "source": [
        "<a href=\"https://colab.research.google.com/github/animesh-banik/DataScienceProject_Databriks/blob/Google_Colub/Core_Java_Concept.ipynb\" target=\"_parent\"><img src=\"https://colab.research.google.com/assets/colab-badge.svg\" alt=\"Open In Colab\"/></a>"
      ]
    },
    {
      "cell_type": "markdown",
      "source": [
        "Environment Setup & Basic Syntax"
      ],
      "metadata": {
        "id": "zqXaWkGDIPDZ"
      }
    },
    {
      "cell_type": "code",
      "execution_count": null,
      "metadata": {
        "id": "DlVLYFxWv5Mi"
      },
      "outputs": [],
      "source": [
        "#______________________Setting colob to run ____________________________________\n",
        "\n",
        "!apt-get update -y\n",
        "!apt-get install openjdk-11-jdk -y\n",
        "import os\n",
        "os.environ['JAVA_HOME'] = \"/usr/lib/jvm/java-11-openjdk-amd64\"\n",
        "os.environ['PATH'] = os.environ['JAVA_HOME'] + \"/bin:\" + os.environ['PATH']\n",
        "!java -version\n"
      ]
    },
    {
      "cell_type": "markdown",
      "source": [
        "Print Hellow World"
      ],
      "metadata": {
        "id": "RX6h0_m-JbUy"
      }
    },
    {
      "cell_type": "code",
      "source": [
        "#_________________________ Creating the Class __________________________________\n",
        "%%writefile HelloWorld.java\n",
        "public class HelloWorld {\n",
        "    public static void main(String[] args) {\n",
        "        System.out.println(\"Hello from Java in Colab!\");\n",
        "    }\n",
        "}\n"
      ],
      "metadata": {
        "colab": {
          "base_uri": "https://localhost:8080/"
        },
        "id": "aTRtUppZw0B-",
        "outputId": "e94c4200-5881-48a8-9d1f-9544c85a29bc"
      },
      "execution_count": 7,
      "outputs": [
        {
          "output_type": "stream",
          "name": "stdout",
          "text": [
            "Overwriting HelloWorld.java\n"
          ]
        }
      ]
    },
    {
      "cell_type": "code",
      "source": [
        "#________________________________ Run the Java code ___________________________\n",
        "!javac HelloWorld.java\n",
        "!java HelloWorld"
      ],
      "metadata": {
        "colab": {
          "base_uri": "https://localhost:8080/"
        },
        "id": "23IHKNJFCvCs",
        "outputId": "81d24f7f-880a-4156-f704-d8a46cd19836"
      },
      "execution_count": 9,
      "outputs": [
        {
          "output_type": "stream",
          "name": "stdout",
          "text": [
            "Hello from Java in Colab!\n"
          ]
        }
      ]
    },
    {
      "cell_type": "markdown",
      "source": [
        "Type casting"
      ],
      "metadata": {
        "id": "cQU9c-mZJn5d"
      }
    },
    {
      "cell_type": "code",
      "source": [
        "%%writefile TestJava.java\n",
        "public class TestJava {\n",
        "    public static void main(String[] args) {\n",
        "       double doubleValue = 9.78;\n",
        "        int intValue = (int) doubleValue; // Explicit casting\n",
        "        System.out.println(\"Double: \" + doubleValue + \", Int: \" + intValue);\n",
        "    }\n",
        "}\n",
        "\n"
      ],
      "metadata": {
        "colab": {
          "base_uri": "https://localhost:8080/"
        },
        "id": "LMyWrcRxJnbT",
        "outputId": "49d1521e-d5c3-49bf-c050-32848e66649f"
      },
      "execution_count": 10,
      "outputs": [
        {
          "output_type": "stream",
          "name": "stdout",
          "text": [
            "Writing TestJava.java\n"
          ]
        }
      ]
    },
    {
      "cell_type": "code",
      "source": [
        "!javac TestJava.java\n",
        "!java TestJava"
      ],
      "metadata": {
        "colab": {
          "base_uri": "https://localhost:8080/"
        },
        "id": "E8xZ-y_UJ7OD",
        "outputId": "ea8b0656-e62e-4c2e-ab98-97c8b0fca80e"
      },
      "execution_count": 11,
      "outputs": [
        {
          "output_type": "stream",
          "name": "stdout",
          "text": [
            "Double: 9.78, Int: 9\n"
          ]
        }
      ]
    },
    {
      "cell_type": "markdown",
      "source": [
        "String Operations"
      ],
      "metadata": {
        "id": "pL9FttR5KK6r"
      }
    },
    {
      "cell_type": "code",
      "source": [
        "%%writefile TestJava.java\n",
        "public class TestJava {\n",
        "    public static void main(String[] args) {\n",
        "\n",
        "       # Creation & Basic Info\n",
        "\n",
        "        String firstName = \"John\";\n",
        "        String lastName = \"Doe\";\n",
        "        String fullName = firstName + \" \" + lastName;\n",
        "        System.out.println(\"Full name: \" + fullName);\n",
        "        System.out.println(\"Length: \" + fullName.length());\n",
        "        System.out.println(\"Uppercase: \" + fullName.toUpperCase());\n",
        "\n",
        "        # Searching & Matching\n",
        "        System.out.println(\"_______Searching & Matching_______________\");\n",
        "\n",
        "        String s = \"Hello\";\n",
        "        System.out.println(s.length());     // 5\n",
        "        System.out.println(s.isEmpty());    // false\n",
        "        System.out.println(\" \".isBlank());  // true (Java 11+)\n",
        "\n",
        "        s = \"hello world\";\n",
        "        System.out.println(s.charAt(1));            // 'e'\n",
        "        System.out.println(s.indexOf(\"o\"));         // 4\n",
        "        System.out.println(s.contains(\"world\"));    // true\n",
        "        System.out.println(s.startsWith(\"he\"));     // true\n",
        "\n",
        "        System.out.println(\"_______Modifying Strings_______________\");\n",
        "\n",
        "        # Modifying Strings\n",
        "\n",
        "        s = \"Hello World \";\n",
        "        System.out.println(s.trim());               // \"Hello World\"\n",
        "        System.out.println(s.toUpperCase());        // \"  HELLO WORLD  \"\n",
        "        System.out.println(s.replace(\"o\", \"x\"));    // \"  Hellx Wxrld  \"\n",
        "        System.out.println(\"ha\".repeat(3));         // \"hahaha\" (Java 11+)\n",
        "\n",
        "         System.out.println(\"_______Splitting & Substrings_______________\");\n",
        "\n",
        "        # Splitting & Substrings\n",
        "\n",
        "         s = \"one,two,three\";\n",
        "         System.out.println(s.substring(4));           // \"two,three\"\n",
        "         System.out.println(s.split(\",\"));             // [\"one\", \"two\", \"three\"]\n",
        "\n",
        "\n",
        "\n",
        "    }\n",
        "}"
      ],
      "metadata": {
        "colab": {
          "base_uri": "https://localhost:8080/"
        },
        "id": "sZX7MsQYKOBi",
        "outputId": "2453c11b-b2da-441c-b358-80bc4dfae52c"
      },
      "execution_count": 28,
      "outputs": [
        {
          "output_type": "stream",
          "name": "stdout",
          "text": [
            "Overwriting TestJava.java\n"
          ]
        }
      ]
    },
    {
      "cell_type": "code",
      "source": [
        "!javac TestJava.java\n",
        "!java TestJava"
      ],
      "metadata": {
        "colab": {
          "base_uri": "https://localhost:8080/"
        },
        "id": "do1Co6BhKc0a",
        "outputId": "4c2a80fa-01a2-48d6-e16e-a901ca0f01a7"
      },
      "execution_count": 29,
      "outputs": [
        {
          "output_type": "stream",
          "name": "stdout",
          "text": [
            "Full name: John Doe\n",
            "Length: 8\n",
            "Uppercase: JOHN DOE\n",
            "5\n",
            "false\n",
            "true\n",
            "e\n",
            "4\n",
            "true\n",
            "true\n",
            "Hello World\n",
            "HELLO WORLD \n",
            "Hellx Wxrld \n",
            "hahaha\n",
            "two,three\n",
            "[Ljava.lang.String;@19469ea2\n"
          ]
        }
      ]
    },
    {
      "cell_type": "code",
      "source": [
        "!javac ReverseString.java\n",
        "!java ReverseString"
      ],
      "metadata": {
        "colab": {
          "base_uri": "https://localhost:8080/"
        },
        "id": "Am1P9JKZfslw",
        "outputId": "3c13c1ec-7eb1-4ef8-b107-ee1e01dd1c42"
      },
      "execution_count": null,
      "outputs": [
        {
          "output_type": "stream",
          "name": "stdout",
          "text": [
            "Reversed: revirDbeW\n"
          ]
        }
      ]
    },
    {
      "cell_type": "markdown",
      "source": [
        "Control Structures & Loops"
      ],
      "metadata": {
        "id": "wQT9kLM1s8kJ"
      }
    },
    {
      "cell_type": "code",
      "source": [
        "# _______________________If and Else _________________________\n",
        "%%writefile TestJava.java\n",
        "import java.util.Scanner;\n",
        "public class TestJava {\n",
        "    public static void main(String[] args) {\n",
        "\n",
        "        System.out.println(\"Please add age\");\n",
        "        Scanner scanner = new Scanner(System.in);\n",
        "        int age = scanner.nextInt();\n",
        "        if (age >= 18)\n",
        "        {\n",
        "            System.out.println(\"You are an adult.\");\n",
        "        } else if (age >= 13) {\n",
        "            System.out.println(\"You are a teenager.\");\n",
        "        } else {\n",
        "            System.out.println(\"You are a child.\");\n",
        "        }\n",
        "    }\n",
        "}\n"
      ],
      "metadata": {
        "colab": {
          "base_uri": "https://localhost:8080/"
        },
        "id": "hmIv8fKJtIOw",
        "outputId": "b1b4b33b-5371-45b8-975c-2c7807e1b423"
      },
      "execution_count": 19,
      "outputs": [
        {
          "output_type": "stream",
          "name": "stdout",
          "text": [
            "Overwriting TestJava.java\n"
          ]
        }
      ]
    },
    {
      "cell_type": "code",
      "source": [
        "!javac TestJava.java\n",
        "!java TestJava"
      ],
      "metadata": {
        "id": "p4Iqwk-cuGSM",
        "outputId": "13f2c2cd-d01b-47ca-b7bc-7bd415f66500",
        "colab": {
          "base_uri": "https://localhost:8080/"
        }
      },
      "execution_count": 21,
      "outputs": [
        {
          "output_type": "stream",
          "name": "stdout",
          "text": [
            "Please add age\n",
            "45\n",
            "You are an adult.\n"
          ]
        }
      ]
    },
    {
      "cell_type": "code",
      "source": [
        "# _______________________Switch case Statement_________________________\n",
        "%%writefile TestJava.java\n",
        "import java.util.Scanner;\n",
        "public class TestJava {\n",
        "    public static void main(String[] args) {\n",
        "\n",
        "        System.out.print(\"Enter a day number (1-7): \");\n",
        "        Scanner scanner = new Scanner(System.in);\n",
        "        int day = scanner.nextInt();\n",
        "        switch (day) {\n",
        "            case 1:\n",
        "                System.out.println(\"Monday\");\n",
        "                break;\n",
        "            case 2:\n",
        "                System.out.println(\"Tuesday\");\n",
        "                break;\n",
        "            case 3:\n",
        "                System.out.println(\"Wednesday\");\n",
        "                break;\n",
        "            default:\n",
        "                System.out.println(\"Other day\");\n",
        "        }\n",
        "    }\n",
        "}"
      ],
      "metadata": {
        "id": "FsRAMmpRym_L",
        "outputId": "384a87ca-119d-4550-b8f8-626afa25a3b0",
        "colab": {
          "base_uri": "https://localhost:8080/"
        }
      },
      "execution_count": 29,
      "outputs": [
        {
          "output_type": "stream",
          "name": "stdout",
          "text": [
            "Overwriting TestJava.java\n"
          ]
        }
      ]
    },
    {
      "cell_type": "code",
      "source": [
        "!javac TestJava.java\n",
        "!java TestJava"
      ],
      "metadata": {
        "id": "A2H_WqJ9y8Pb",
        "outputId": "f263e3a8-e594-420e-edf1-0aef5a2210cd",
        "colab": {
          "base_uri": "https://localhost:8080/"
        }
      },
      "execution_count": 30,
      "outputs": [
        {
          "output_type": "stream",
          "name": "stdout",
          "text": [
            "Enter a day number (1-7): 1\n",
            "Monday\n"
          ]
        }
      ]
    },
    {
      "cell_type": "code",
      "source": [
        "# _______________________For Loop_________________________\n",
        "%%writefile TestJava.java\n",
        "public class TestJava {\n",
        "    public static void main(String[] args) {\n",
        "        System.out.println(\"\\nCounting from 1 to 10:\");\n",
        "        for (int i = 1; i <= 10; i++) {\n",
        "            System.out.print(i + \" \");\n",
        "        }\n",
        "\n",
        "    }"
      ],
      "metadata": {
        "id": "Bevca4bfz4tc"
      },
      "execution_count": null,
      "outputs": []
    }
  ]
}