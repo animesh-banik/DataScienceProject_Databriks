{
  "nbformat": 4,
  "nbformat_minor": 0,
  "metadata": {
    "colab": {
      "provenance": [],
      "authorship_tag": "ABX9TyPqOA239J3G2QSeIyCcWp57",
      "include_colab_link": true
    },
    "kernelspec": {
      "name": "python3",
      "display_name": "Python 3"
    },
    "language_info": {
      "name": "python"
    }
  },
  "cells": [
    {
      "cell_type": "markdown",
      "metadata": {
        "id": "view-in-github",
        "colab_type": "text"
      },
      "source": [
        "<a href=\"https://colab.research.google.com/github/animesh-banik/DataScienceProject_Databriks/blob/Google_Colub/Core_Java_Concept.ipynb\" target=\"_parent\"><img src=\"https://colab.research.google.com/assets/colab-badge.svg\" alt=\"Open In Colab\"/></a>"
      ]
    },
    {
      "cell_type": "code",
      "execution_count": null,
      "metadata": {
        "id": "DlVLYFxWv5Mi"
      },
      "outputs": [],
      "source": [
        "#______________________Setting colob to run ____________________________________\n",
        "\n",
        "!apt-get update -y\n",
        "!apt-get install openjdk-11-jdk -y\n",
        "import os\n",
        "os.environ['JAVA_HOME'] = \"/usr/lib/jvm/java-11-openjdk-amd64\"\n",
        "os.environ['PATH'] = os.environ['JAVA_HOME'] + \"/bin:\" + os.environ['PATH']\n",
        "!java -version\n"
      ]
    },
    {
      "cell_type": "code",
      "source": [
        "#_________________________ Creating the Class __________________________________\n",
        "%%writefile HelloWorld.java\n",
        "public class HelloWorld {\n",
        "    public static void main(String[] args) {\n",
        "        System.out.println(\"Hello from Java in Colab!\");\n",
        "    }\n",
        "}\n"
      ],
      "metadata": {
        "colab": {
          "base_uri": "https://localhost:8080/"
        },
        "id": "aTRtUppZw0B-",
        "outputId": "04b439e6-794c-4471-fee3-d81a7b88e8b9"
      },
      "execution_count": null,
      "outputs": [
        {
          "output_type": "stream",
          "name": "stdout",
          "text": [
            "Overwriting HelloWorld.java\n"
          ]
        }
      ]
    },
    {
      "cell_type": "markdown",
      "source": [],
      "metadata": {
        "id": "Ev_vn1pcDNeP"
      }
    },
    {
      "cell_type": "code",
      "source": [
        "#________________________________ Run the Java code ___________________________\n",
        "!javac HelloWorld.java\n",
        "!java HelloWorld"
      ],
      "metadata": {
        "colab": {
          "base_uri": "https://localhost:8080/"
        },
        "id": "23IHKNJFCvCs",
        "outputId": "30ea06f8-bc25-4167-d6d4-48071fd4f5af"
      },
      "execution_count": null,
      "outputs": [
        {
          "output_type": "stream",
          "name": "stdout",
          "text": [
            "Hello from Java in Colab!\n"
          ]
        }
      ]
    },
    {
      "cell_type": "code",
      "source": [
        "#_________________________ Reverse a String__________________________________\n",
        "%%writefile HelloWorld.java\n",
        "public class HelloWorld {\n",
        "    public static void main(String[] args) {\n",
        "        System.out.println(\"Hello from Java in Colab!\");\n",
        "    }\n",
        "}\n",
        "\n"
      ],
      "metadata": {
        "id": "KAQunbdyeyRX"
      },
      "execution_count": null,
      "outputs": []
    }
  ]
}