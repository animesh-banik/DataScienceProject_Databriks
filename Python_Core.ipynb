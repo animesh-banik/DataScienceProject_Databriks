{
  "nbformat": 4,
  "nbformat_minor": 0,
  "metadata": {
    "colab": {
      "provenance": [],
      "authorship_tag": "ABX9TyNqzD63zMiEcI4yIjsfo4as",
      "include_colab_link": true
    },
    "kernelspec": {
      "name": "python3",
      "display_name": "Python 3"
    },
    "language_info": {
      "name": "python"
    }
  },
  "cells": [
    {
      "cell_type": "markdown",
      "metadata": {
        "id": "view-in-github",
        "colab_type": "text"
      },
      "source": [
        "<a href=\"https://colab.research.google.com/github/animesh-banik/DataScienceProject_Databriks/blob/Google_Colub/Python_Core.ipynb\" target=\"_parent\"><img src=\"https://colab.research.google.com/assets/colab-badge.svg\" alt=\"Open In Colab\"/></a>"
      ]
    },
    {
      "cell_type": "markdown",
      "source": [
        "**What is Python?**\n",
        "\n",
        "Python is a high-level, interpreted, object-oriented programming language created by Guido van Rossum in 1991. It emphasizes code readability and simplicity with its clean syntax.\n"
      ],
      "metadata": {
        "id": "SHq7CJSEPCZt"
      }
    },
    {
      "cell_type": "markdown",
      "source": [
        "**Key Features of Python:**\n",
        "\n",
        "- **Interpreted Language**: No compilation needed\n",
        "- **Dynamic Typing**: Variables don't need explicit type declaration\n",
        "- **Cross-Platform**: Runs on Windows, Mac, Linux\n",
        "- **Extensive Libraries**: Rich standard library and third-party packages\n",
        "- **Readable Syntax**: English-like syntax\n"
      ],
      "metadata": {
        "id": "87WgRUgpPNTQ"
      }
    },
    {
      "cell_type": "markdown",
      "source": [
        "**Hello World Example:**"
      ],
      "metadata": {
        "id": "hMIxa71hPXHv"
      }
    },
    {
      "cell_type": "code",
      "execution_count": null,
      "metadata": {
        "colab": {
          "base_uri": "https://localhost:8080/"
        },
        "id": "u0yUIuIWMpVl",
        "outputId": "45e7fb9e-8146-412e-a1c2-f1fd19b24b4a"
      },
      "outputs": [
        {
          "output_type": "stream",
          "name": "stdout",
          "text": [
            "Hello, World\n"
          ]
        }
      ],
      "source": [
        "print(\"Hello, World\")"
      ]
    },
    {
      "cell_type": "markdown",
      "source": [
        "**User input**"
      ],
      "metadata": {
        "id": "BYb8G6AKPilg"
      }
    },
    {
      "cell_type": "code",
      "source": [
        "name = input(\"Enter your name: \")\n",
        "print(f\"Hello, {name}!\")\n"
      ],
      "metadata": {
        "colab": {
          "base_uri": "https://localhost:8080/"
        },
        "id": "YBJHr1nzPlgw",
        "outputId": "6b93fd51-9926-4b2e-f424-b6b483850f94"
      },
      "execution_count": null,
      "outputs": [
        {
          "output_type": "stream",
          "name": "stdout",
          "text": [
            "Enter your name: Animesh\n",
            "Hello, Animesh!\n"
          ]
        }
      ]
    },
    {
      "cell_type": "markdown",
      "source": [
        "**Check Python version**"
      ],
      "metadata": {
        "id": "F-U-5gRuP20Q"
      }
    },
    {
      "cell_type": "code",
      "source": [
        "import sys\n",
        "print(f\"Python version: {sys.version}\")"
      ],
      "metadata": {
        "colab": {
          "base_uri": "https://localhost:8080/"
        },
        "id": "jPs756qlP7j4",
        "outputId": "5d1c7036-4a2e-487f-aab0-9064920695e8"
      },
      "execution_count": null,
      "outputs": [
        {
          "output_type": "stream",
          "name": "stdout",
          "text": [
            "Python version: 3.12.11 (main, Jun  4 2025, 08:56:18) [GCC 11.4.0]\n"
          ]
        }
      ]
    },
    {
      "cell_type": "markdown",
      "source": [
        "**Check current working directory**"
      ],
      "metadata": {
        "id": "qsZjWzQeQCCS"
      }
    },
    {
      "cell_type": "code",
      "source": [
        "import os\n",
        "print(f\"Current directory: {os.getcwd()}\")\n"
      ],
      "metadata": {
        "colab": {
          "base_uri": "https://localhost:8080/"
        },
        "id": "rPT263NdQErR",
        "outputId": "50efef83-354b-475c-9c8a-f7651ce91f5e"
      },
      "execution_count": null,
      "outputs": [
        {
          "output_type": "stream",
          "name": "stdout",
          "text": [
            "Current directory: /content\n"
          ]
        }
      ]
    },
    {
      "cell_type": "markdown",
      "source": [
        "**Data Types and Variables**"
      ],
      "metadata": {
        "id": "4R5sY7HLRE6i"
      }
    },
    {
      "cell_type": "code",
      "source": [
        "### Basic Data Types:```python\n",
        "\n",
        "\n",
        "# Numeric Types\n",
        "integer_num = 42                    # int\n",
        "float_num = 3.14159                 # float\n",
        "complex_num = 2 + 3j                # complex\n",
        "\n",
        "# String Type\n",
        "single_quote = 'Hello'              # str\n",
        "double_quote = \"World\"              # str\n",
        "multiline_string = \"\"\"This is a\n",
        "multiline string\n",
        "in Python\"\"\"\n",
        "\n",
        "# Boolean Type\n",
        "is_python_fun = True                # bool\n",
        "is_difficult = False                # bool\n",
        "\n",
        "# None Type\n",
        "nothing = None                      # NoneType\n",
        "\n",
        "# Display types and values\n",
        "print(f\"Integer: {integer_num}, Type: {type(integer_num)}\")\n",
        "print(f\"Float: {float_num}, Type: {type(float_num)}\")\n",
        "print(f\"Complex: {complex_num}, Type: {type(complex_num)}\")\n",
        "print(f\"String: {single_quote}, Type: {type(single_quote)}\")\n",
        "print(f\"Boolean: {is_python_fun}, Type: {type(is_python_fun)}\")\n",
        "print(f\"None: {nothing}, Type: {type(nothing)}\")\n"
      ],
      "metadata": {
        "colab": {
          "base_uri": "https://localhost:8080/"
        },
        "id": "BplIsjOzRKOg",
        "outputId": "af16b00a-fec9-4287-ccfe-6b7b91885d78"
      },
      "execution_count": null,
      "outputs": [
        {
          "output_type": "stream",
          "name": "stdout",
          "text": [
            "Integer: 42, Type: <class 'int'>\n",
            "Float: 3.14159, Type: <class 'float'>\n",
            "Complex: (2+3j), Type: <class 'complex'>\n",
            "String: Hello, Type: <class 'str'>\n",
            "Boolean: True, Type: <class 'bool'>\n",
            "None: None, Type: <class 'NoneType'>\n"
          ]
        }
      ]
    },
    {
      "cell_type": "markdown",
      "source": [
        "**Variable Operations:```python**\n"
      ],
      "metadata": {
        "id": "zeSuFGc8Rvln"
      }
    },
    {
      "cell_type": "code",
      "source": [
        "\n",
        "# Variable Assignment\n",
        "x = 10\n",
        "y = 20\n",
        "name = \"Python\"\n",
        "\n",
        "# Multiple Assignment\n",
        "a, b, c = 1, 2, 3\n",
        "print(f\"a={a}, b={b}, c={c}\")\n",
        "\n",
        "# Same value to multiple variables\n",
        "x = y = z = 100\n",
        "print(f\"x={x}, y={y}, z={z}\")\n",
        "\n",
        "# Swapping variables\n",
        "x, y = 20, 10\n",
        "print(f\"Before swap: x={x}, y={y}\")\n",
        "x, y = y, x\n",
        "print(f\"After swap: x={x}, y={y}\")\n",
        "\n",
        "# Dynamic typing\n",
        "var = 42        # int\n",
        "print(f\"var is {type(var)}: {var}\")\n",
        "var = \"Hello\"   # str\n",
        "print(f\"var is {type(var)}: {var}\")\n",
        "var = [1, 2, 3] # list\n",
        "print(f\"var is {type(var)}: {var}\")\n",
        "\n",
        "\n"
      ],
      "metadata": {
        "colab": {
          "base_uri": "https://localhost:8080/"
        },
        "id": "nNAw5n_zReAo",
        "outputId": "9d48885a-e58b-436c-d9c8-d2214ecd20b3"
      },
      "execution_count": null,
      "outputs": [
        {
          "output_type": "stream",
          "name": "stdout",
          "text": [
            "a=1, b=2, c=3\n",
            "x=100, y=100, z=100\n",
            "Before swap: x=20, y=10\n",
            "After swap: x=10, y=20\n",
            "var is <class 'int'>: 42\n",
            "var is <class 'str'>: Hello\n",
            "var is <class 'list'>: [1, 2, 3]\n"
          ]
        }
      ]
    },
    {
      "cell_type": "markdown",
      "source": [
        "**String Operations:**"
      ],
      "metadata": {
        "id": "CfoDdhQaSNwg"
      }
    },
    {
      "cell_type": "code",
      "source": [
        "# String creation and manipulation\n",
        "first_name = \"John\"\n",
        "last_name = \"Doe\"\n",
        "\n",
        "# String concatenation\n",
        "full_name = first_name + \" \" + last_name\n",
        "print(f\"Full name: {full_name}\")\n",
        "\n",
        "# String formatting methods\n",
        "age = 25\n",
        "\n",
        "# f-strings (Python 3.6+) - Recommended\n",
        "message1 = f\"My name is {full_name} and I am {age} years old\"\n",
        "\n",
        "# .format() method\n",
        "message2 = \"My name is {} and I am {} years old\".format(full_name, age)\n",
        "\n",
        "# % formatting (older method)\n",
        "message3 = \"My name is %s and I am %d years old\" % (full_name, age)\n",
        "\n",
        "print(message1)\n",
        "print(message2)\n",
        "print(message3)\n",
        "\n",
        "# String methods\n",
        "text = \"  Python Programming  \"\n",
        "print(f\"Original: '{text}'\")\n",
        "print(f\"Strip: '{text.strip()}'\")\n",
        "print(f\"Upper: '{text.upper()}'\")\n",
        "print(f\"Lower: '{text.lower()}'\")\n",
        "print(f\"Title: '{text.title()}'\")\n",
        "print(f\"Replace: '{text.replace('Python', 'Java')}'\")\n",
        "\n",
        "# String indexing and slicing\n",
        "word = \"Python\"\n",
        "print(f\"First character: {word[0]}\")\n",
        "print(f\"Last character: {word[-1]}\")\n",
        "print(f\"Slice [1:4]: {word[1:4]}\")\n",
        "print(f\"Reverse: {word[::-1]}\")\n"
      ],
      "metadata": {
        "colab": {
          "base_uri": "https://localhost:8080/"
        },
        "id": "FouaJW-KST_A",
        "outputId": "75716b3d-448d-4c66-d167-d6e2b8ce90da"
      },
      "execution_count": null,
      "outputs": [
        {
          "output_type": "stream",
          "name": "stdout",
          "text": [
            "Full name: John Doe\n",
            "My name is John Doe and I am 25 years old\n",
            "My name is John Doe and I am 25 years old\n",
            "My name is John Doe and I am 25 years old\n",
            "Original: '  Python Programming  '\n",
            "Strip: 'Python Programming'\n",
            "Upper: '  PYTHON PROGRAMMING  '\n",
            "Lower: '  python programming  '\n",
            "Title: '  Python Programming  '\n",
            "Replace: '  Java Programming  '\n",
            "First character: P\n",
            "Last character: n\n",
            "Slice [1:4]: yth\n",
            "Reverse: nohtyP\n"
          ]
        }
      ]
    },
    {
      "cell_type": "code",
      "source": [
        "# _____________All String Operation in Python(String manupulation)___________________\n",
        "\n",
        "s = \"Hello, World!\"\n",
        "print(s[0],\n",
        "s[-1],\n",
        "s[1:4])\n",
        "\n",
        "# Searching & Checking\n",
        "print(\"Searching & Checking\")\n",
        "print(s.find(\"lo\"));\n",
        "print(s.replace(\"Hello\", \"Hi\"));\n",
        "print(s.upper());\n",
        "print(s.lower());\n",
        "print(s.split(\",\"))\n",
        "print(s.capitalize());\n",
        "print(s.swapcase());\n",
        "print(s.title())\n",
        "\n",
        "# Cleaning & Formatting\n",
        "s.strip()             # Remove spaces\n",
        "s.lstrip(), s.rstrip()\n",
        "s.lower()             # 'python'\n",
        "s.upper()             # 'PYTHON'\n",
        "s.capitalize()        # 'Python'\n",
        "s.title()             # 'Python Is Fun'\n",
        "s.replace(\"World\", \"Python\")  # 'Hello, Python!\n",
        "\n",
        "#Testing Strings\n",
        "s.isalpha()      # Only letters?\n",
        "s.isdigit()      # Only digits?\n",
        "s.isalnum()      # Letters and digits?\n",
        "s.isspace()      # Only whitespace?\n",
        "s.isupper()\n",
        "s.islower()"
      ],
      "metadata": {
        "id": "drCO63m2V2zZ"
      },
      "execution_count": null,
      "outputs": []
    },
    {
      "cell_type": "code",
      "source": [
        "# ___________________________All String Operation in Python(String manupulation)___________________\n",
        "s = \"Hello, World!\"\n",
        "print(s[0],\n",
        "s[-1],\n",
        "s[1:4])\n",
        "\n",
        "# Searching & Checking\n",
        "print(\"Searching & Checking\")\n",
        "print(s.find(\"lo\"));\n",
        "print(s.replace(\"Hello\", \"Hi\"));\n",
        "print(s.upper());\n",
        "print(s.lower());\n",
        "print(s.split(\",\"))\n",
        "print(s.capitalize());\n",
        "print(s.swapcase());\n",
        "print(s.title())\n",
        "\n",
        "# Cleaning & Formatting\n",
        "s.strip()             # Remove spaces\n",
        "s.lstrip(), s.rstrip()\n",
        "s.lower()             # 'python'\n",
        "s.upper()             # 'PYTHON'\n",
        "s.capitalize()        # 'Python'\n",
        "s.title()             # 'Python Is Fun'\n",
        "s.replace(\"World\", \"Python\")  # 'Hello, Python!\n",
        "\n",
        "#Testing Strings\n",
        "s.isalpha()      # Only letters?\n",
        "s.isdigit()      # Only digits?\n",
        "s.isalnum()      # Letters and digits?\n",
        "s.isspace()      # Only whitespace?\n",
        "s.isupper()\n",
        "s.islower()"
      ],
      "metadata": {
        "id": "q2UDltx_BVDa",
        "outputId": "f09261b2-86d6-4c14-b7c7-4596678327e6",
        "colab": {
          "base_uri": "https://localhost:8080/"
        }
      },
      "execution_count": 1,
      "outputs": [
        {
          "output_type": "stream",
          "name": "stdout",
          "text": [
            "H ! ell\n",
            "Searching & Checking\n",
            "3\n",
            "Hi, World!\n",
            "HELLO, WORLD!\n",
            "hello, world!\n",
            "['Hello', ' World!']\n",
            "Hello, world!\n",
            "hELLO, wORLD!\n",
            "Hello, World!\n"
          ]
        },
        {
          "output_type": "execute_result",
          "data": {
            "text/plain": [
              "False"
            ]
          },
          "metadata": {},
          "execution_count": 1
        }
      ]
    },
    {
      "cell_type": "markdown",
      "source": [
        "**Control Structures**"
      ],
      "metadata": {
        "id": "3DBZZ2M-SbIY"
      }
    },
    {
      "cell_type": "markdown",
      "source": [
        "**If-elif-else statement**"
      ],
      "metadata": {
        "id": "E9AXEt-SSqy_"
      }
    },
    {
      "cell_type": "code",
      "source": [
        "\n",
        "\n",
        "\n",
        "#____________________________ if-statement _________________\n",
        "x = 10\n",
        "if x > 5:\n",
        "    print(\"x is greater than 5\")\n",
        "#___________________________________________________________\n",
        "\n",
        "#____________________________ if-else statement _________________\n",
        "x = 3\n",
        "if x > 5:\n",
        "    print(\"x is greater than 5\")\n",
        "else:\n",
        "    print(\"x is not greater than 5\")\n",
        "#_________________________________________________________________\n",
        "\n",
        "\n",
        "#____________________________if-elif-else chain ___________\n",
        "x = 0\n",
        "if x > 0:\n",
        "    print(\"Positive number\")\n",
        "elif x == 0:\n",
        "    print(\"Zero\")\n",
        "else:\n",
        "    print(\"Negative number\")\n",
        "#_____________________________________________________________________\n",
        "#______________________________________Nested if_______________________\n",
        "x = 15\n",
        "if x > 10:\n",
        "    print(\"x is greater than 10\")\n",
        "    if x < 20:\n",
        "        print(\"x is less than 20\")\n",
        "#________________________________________________________________________\n",
        "\n",
        "#_________________________Funtion with Nested if_______________________\n",
        "\n",
        "def grade_calculator(score):\n",
        "    if score >= 90:\n",
        "        grade = \"A\"\n",
        "    elif score >= 80:\n",
        "        grade = \"B\"\n",
        "    elif score >= 70:\n",
        "        grade = \"C\"\n",
        "    elif score >= 60:\n",
        "        grade = \"D\"\n",
        "    else:\n",
        "        grade = \"F\"\n",
        "\n",
        "    return grade\n",
        "\n",
        "# Test the function\n",
        "test_scores = [95, 87, 76, 65, 45]\n",
        "for score in test_scores:\n",
        "    print(f\"Score: {score}, Grade: {grade_calculator(score)}\")\n"
      ],
      "metadata": {
        "colab": {
          "base_uri": "https://localhost:8080/"
        },
        "id": "22hZ3AJPSxZp",
        "outputId": "4c98069c-8ec5-4449-8d38-1bc1f34239c0"
      },
      "execution_count": null,
      "outputs": [
        {
          "output_type": "stream",
          "name": "stdout",
          "text": [
            "x is greater than 5\n",
            "x is not greater than 5\n",
            "Zero\n",
            "x is greater than 10\n",
            "x is less than 20\n",
            "Score: 95, Grade: A\n",
            "Score: 87, Grade: B\n",
            "Score: 76, Grade: C\n",
            "Score: 65, Grade: D\n",
            "Score: 45, Grade: F\n"
          ]
        }
      ]
    },
    {
      "cell_type": "markdown",
      "source": [
        "**For loops**"
      ],
      "metadata": {
        "id": "DjsCnRP3S_Fx"
      }
    },
    {
      "cell_type": "code",
      "source": [
        "print(\"=== For Loops ===\")\n",
        "\n",
        "#____________________Range with for loop___________________________\n",
        "\n",
        "print(\"Counting 1 to 5:\")\n",
        "for i in range(1, 6):\n",
        "    print(f\"Count: {i}\")\n",
        "\n",
        "#_____________________Iterating over a list________________________\n",
        "\n",
        "colors = [\"red\", \"green\", \"blue\", \"yellow\"]\n",
        "print(\"\\nColors:\")\n",
        "for color in colors:\n",
        "    print(f\"Color: {color}\")\n",
        "\n",
        "# ___________________________________Enumerate for index and value\n",
        "print(\"\\nColors with index:\")\n",
        "for index, color in enumerate(colors):\n",
        "    print(f\"Index {index}: {color}\")\n"
      ],
      "metadata": {
        "colab": {
          "base_uri": "https://localhost:8080/"
        },
        "id": "FOoleMGrS993",
        "outputId": "0fce7edb-e185-4306-9dcc-5fc9a27ef85c",
        "collapsed": true
      },
      "execution_count": null,
      "outputs": [
        {
          "output_type": "stream",
          "name": "stdout",
          "text": [
            "=== For Loops ===\n",
            "Counting 1 to 5:\n",
            "Count: 1\n",
            "Count: 2\n",
            "Count: 3\n",
            "Count: 4\n",
            "Count: 5\n",
            "\n",
            "Colors:\n",
            "Color: red\n",
            "Color: green\n",
            "Color: blue\n",
            "Color: yellow\n",
            "\n",
            "Colors with index:\n",
            "Index 0: red\n",
            "Index 1: green\n",
            "Index 2: blue\n",
            "Index 3: yellow\n"
          ]
        }
      ]
    },
    {
      "cell_type": "markdown",
      "source": [
        "**While loops**"
      ],
      "metadata": {
        "id": "32YE1Zc_TfGY"
      }
    },
    {
      "cell_type": "code",
      "source": [
        "#_________________While loop with user input____________\n",
        "\n",
        "print(\"\\nGuess the number (1-10):\")\n",
        "secret_number = 7\n",
        "guess = 0\n",
        "\n",
        "while guess != secret_number:\n",
        "    try:\n",
        "        guess = int(input(\"Enter your guess: \"))\n",
        "        if guess < secret_number:\n",
        "            print(\"Too low!\")\n",
        "        elif guess > secret_number:\n",
        "            print(\"Too high!\")\n",
        "        else:\n",
        "            print(\"Congratulations! You guessed it!\")\n",
        "    except ValueError:\n",
        "        print(\"Please enter a valid number\")\n"
      ],
      "metadata": {
        "colab": {
          "base_uri": "https://localhost:8080/"
        },
        "id": "fQPmXRNTT2FB",
        "outputId": "c2ae884d-73dd-4b76-a1ca-e6ab697f9d07"
      },
      "execution_count": null,
      "outputs": [
        {
          "output_type": "stream",
          "name": "stdout",
          "text": [
            "\n",
            "Guess the number (1-10):\n",
            "Enter your guess: 7\n",
            "Congratulations! You guessed it!\n"
          ]
        }
      ]
    },
    {
      "cell_type": "markdown",
      "source": [
        "**Loop control statements**"
      ],
      "metadata": {
        "id": "-mkyCSSiUPeT"
      }
    },
    {
      "cell_type": "code",
      "source": [
        "print(\"\\n=== Loop Control ===\")\n",
        "\n",
        "#_______________________________________Break statement\n",
        "\n",
        "print(\"Finding first even number:\")\n",
        "numbers = [1, 3, 7, 8, 9, 10]\n",
        "for num in numbers:\n",
        "    if num % 2 == 0:\n",
        "        print(f\"First even number: {num}\")\n",
        "        break\n",
        "    print(f\"Odd number: {num}\")\n"
      ],
      "metadata": {
        "colab": {
          "base_uri": "https://localhost:8080/"
        },
        "id": "k0Ij9s3dUXva",
        "outputId": "cbeb9360-3437-47ac-846f-946cb3d58e58",
        "collapsed": true
      },
      "execution_count": null,
      "outputs": [
        {
          "output_type": "stream",
          "name": "stdout",
          "text": [
            "\n",
            "=== Loop Control ===\n",
            "Finding first even number:\n",
            "Odd number: 1\n",
            "Odd number: 3\n",
            "Odd number: 7\n",
            "First even number: 8\n"
          ]
        }
      ]
    },
    {
      "cell_type": "code",
      "source": [
        "#____________________________________Continue statement________________________\n",
        "\n",
        "\n",
        "print(\"\\nPrinting only odd numbers:\")\n",
        "for num in range(1, 11):\n",
        "    if num % 2 == 0:\n",
        "        continue  # Skip even numbers\n",
        "    print(f\"Odd: {num}\")\n"
      ],
      "metadata": {
        "colab": {
          "base_uri": "https://localhost:8080/"
        },
        "id": "77TTc_lnU6RK",
        "outputId": "73ebfcf2-0403-472b-ffa0-46390339ca92"
      },
      "execution_count": null,
      "outputs": [
        {
          "output_type": "stream",
          "name": "stdout",
          "text": [
            "\n",
            "Printing only odd numbers:\n",
            "Odd: 1\n",
            "Odd: 3\n",
            "Odd: 5\n",
            "Odd: 7\n",
            "Odd: 9\n"
          ]
        }
      ]
    },
    {
      "cell_type": "code",
      "source": [
        "# _____________________________________Nested loops___________________________\n",
        "\n",
        "\n",
        "print(\"\\nMultiplication table:\")\n",
        "for i in range(1, 4):\n",
        "    for j in range(1, 4):\n",
        "        print(f\"{i} × {j} = {i * j}\", end=\"\\t\")\n",
        "    print()  # New line after each row\n"
      ],
      "metadata": {
        "colab": {
          "base_uri": "https://localhost:8080/"
        },
        "id": "mXEtfgOGVD3O",
        "outputId": "0b9e1bca-1e82-4e0f-9950-ff5f4b34f94a"
      },
      "execution_count": null,
      "outputs": [
        {
          "output_type": "stream",
          "name": "stdout",
          "text": [
            "\n",
            "Multiplication table:\n",
            "1 × 1 = 1\t1 × 2 = 2\t1 × 3 = 3\t\n",
            "2 × 1 = 2\t2 × 2 = 4\t2 × 3 = 6\t\n",
            "3 × 1 = 3\t3 × 2 = 6\t3 × 3 = 9\t\n"
          ]
        }
      ]
    },
    {
      "cell_type": "markdown",
      "source": [
        "***Break statement***\n"
      ],
      "metadata": {
        "id": "8SdPyWvd09jn"
      }
    },
    {
      "cell_type": "markdown",
      "source": [
        "***Function Basics in Python***"
      ],
      "metadata": {
        "id": "bmp0d8pMVL_p"
      }
    },
    {
      "cell_type": "code",
      "source": [
        "# __________________________________Funtion in Python _______________\n",
        "\n",
        "def Squre_number(number):\n",
        "    return number * number\n",
        "\n",
        "result = Squre_number(int(input(\"Enter your input: \")))\n",
        "print(result)\n",
        "\n",
        "# Return type of funtion\n",
        "def add_numbers(a, b):\n",
        "    return a + b\n",
        "result = add_numbers( 5, 3)\n",
        "print(result)"
      ],
      "metadata": {
        "colab": {
          "base_uri": "https://localhost:8080/"
        },
        "id": "QsQD9YcM5UFF",
        "outputId": "1f4ab113-b1b5-455d-d43a-c1ad4135d468"
      },
      "execution_count": null,
      "outputs": [
        {
          "output_type": "stream",
          "name": "stdout",
          "text": [
            "Enter your input: 12\n",
            "144\n",
            "8\n"
          ]
        }
      ]
    },
    {
      "cell_type": "markdown",
      "source": [
        "**List in Python**\n",
        "\n",
        "        A list is a built-in data structure in Python that allows you to store a collection of items\n",
        "        Ordered (items maintain their position)\n",
        "        Mutable (can be changed after creation)\n",
        "        Can contain duplicates\n",
        "        Can contain mixed types\n",
        "\n",
        "        Example :\n",
        "        mixed_list = [1, \"apple\", 3.14, True]\n",
        "\n",
        "        #_________Loop Through List______________\n",
        "        \n",
        "            for fruit in mixed_list:\n",
        "                print(fruit)"
      ],
      "metadata": {
        "id": "8ASAQocE5oG2"
      }
    },
    {
      "cell_type": "markdown",
      "source": [
        "**Python List Functions and Methods**\n",
        "\n",
        "    | **Function / Method** | **Description**                          | **Example**            | **Result / Note**             |\n",
        "    | --------------------- | ---------------------------------------- | ---------------------- | ----------------------------- |\n",
        "    | `append(x)`           | Adds an item to the end of the list      | `lst.append(4)`        | `[1, 2, 3, 4]`                |\n",
        "    | `extend(iterable)`    | Adds all elements from another iterable  | `lst.extend([5, 6])`   | `[1, 2, 3, 4, 5, 6]`          |\n",
        "    | `insert(i, x)`        | Inserts an item at index `i`             | `lst.insert(1, 10)`    | `[1, 10, 2, 3, 4]`            |\n",
        "    | `remove(x)`           | Removes first occurrence of `x`          | `lst.remove(3)`        | `[1, 2, 4]`                   |\n",
        "    | `pop([i])`            | Removes & returns item at index `i`      | `lst.pop(2)`           | Returns item, list is updated |\n",
        "    | `clear()`             | Removes all items                        | `lst.clear()`          | `[]`                          |\n",
        "    | `index(x)`            | Returns index of first occurrence of `x` | `lst.index(2)`         | `1`                           |\n",
        "    | `count(x)`            | Counts occurrences of `x`                | `lst.count(2)`         | `1`                           |\n",
        "    | `sort()`              | Sorts list in-place                      | `lst.sort()`           | `lst` is sorted               |\n",
        "    | `sorted(lst)`         | Returns new sorted list                  | `sorted(lst)`          | Doesn’t change original list  |\n",
        "    | `reverse()`           | Reverses list in-place                   | `lst.reverse()`        | `lst` is reversed             |\n",
        "    | `reversed(lst)`       | Returns reversed iterator                | `list(reversed(lst))`  | Returns a new reversed list   |\n",
        "    | `copy()`              | Returns a shallow copy                   | `new_lst = lst.copy()` | `new_lst` is a copy           |\n",
        "    | `len(lst)`            | Returns number of items in list          | `len(lst)`             | `5` (example)                 |\n",
        "    | `sum(lst)`            | Returns sum of all elements              | `sum([1, 2, 3])`       | `6`                           |\n",
        "    | `min(lst)`            | Returns smallest item                    | `min([3, 1, 2])`       | `1`                           |\n",
        "    | `max(lst)`            | Returns largest item                     | `max([3, 1, 2])`       | `3`                           |\n",
        "    | `in`                  | Checks if item exists                    | `3 in lst`             | `True` / `False`              |\n",
        "    | `not in`              | Checks if item does not exist            | `10 not in lst`        | `True` / `False`              |\n",
        "    | `list()`              | Converts iterable to list                | `list(\"abc\")`          | `['a', 'b', 'c']`             |\n",
        "\n",
        "\n",
        "    **Useful Built-in Functions with Lists**\n",
        "\n",
        "    | **Function**        | **Description**                  | **Example**                    |\n",
        "    | ------------------- | -------------------------------- | ------------------------------ |\n",
        "    | `enumerate(lst)`    | Returns index & value as tuple   | `for i, val in enumerate(lst)` |\n",
        "    | `zip(lst1, lst2)`   | Combines multiple lists          | `zip([1,2], ['a','b'])`        |\n",
        "    | `map(func, lst)`    | Applies function to each element | `map(str.upper, ['a','b'])`    |\n",
        "    | `filter(func, lst)` | Filters items                    | `filter(lambda x: x>2, lst)`   |\n"
      ],
      "metadata": {
        "id": "y8Id64GcEZas"
      }
    },
    {
      "cell_type": "code",
      "source": [
        "# ______________________Get all the element using for loop in python____________\n",
        "\n",
        "#_________________________Define a list\n",
        "\n",
        "fruits = [\"apple\", \"banana\", \"cherry\", \"orange\"]\n",
        "\n",
        "# _______________________Loop through the list__________________________________\n",
        "\n",
        "for fruit in fruits:\n",
        "    print(fruit)\n",
        "\n",
        "#______________________Example with Index____________________\n",
        "\n",
        "fruits = [\"apple\", \"banana\", \"cherry\", \"orange\"]\n",
        "for index in range(len(fruits)):\n",
        "    print(f\"Index {index}: {fruits[index]}\")\n",
        "\n",
        "#______________________Using enumerate()\n",
        "\n",
        "fruits = [\"apple\", \"banana\", \"cherry\", \"orange\"]\n",
        "\n",
        "for i, fruit in enumerate(fruits):\n",
        "    print(f\"{i}: {fruit}\")"
      ],
      "metadata": {
        "colab": {
          "base_uri": "https://localhost:8080/"
        },
        "id": "5b5ONjFPFaug",
        "outputId": "7b3cf199-4944-4747-eacb-d1d88de5524b"
      },
      "execution_count": null,
      "outputs": [
        {
          "output_type": "stream",
          "name": "stdout",
          "text": [
            "apple\n",
            "banana\n",
            "cherry\n",
            "orange\n",
            "Index 0: apple\n",
            "Index 1: banana\n",
            "Index 2: cherry\n",
            "Index 3: orange\n",
            "0: apple\n",
            "1: banana\n",
            "2: cherry\n",
            "3: orange\n"
          ]
        }
      ]
    },
    {
      "cell_type": "code",
      "source": [
        "#_____________________________All List Operations___________-\n",
        "\n",
        "print(\"___________Define____________\")\n",
        "empty_list = []\n",
        "print(empty_list)\n",
        "numbers = [1, 2, 3]\n",
        "print(numbers)\n",
        "mixeds = [1, \"hello\", 3.14, True]\n",
        "print(mixeds)\n",
        "nested = [1, [2, 3], [4, 5]]\n",
        "\n",
        "print(\"_________________________Iterate _________________\")\n",
        "\n",
        "for mixed in mixeds:\n",
        "    print(mixed)\n",
        "\n",
        "\n",
        "print(\"________________________Iterate with index____________________\")\n",
        "\n",
        "fruits = [\"apple\", \"banana\", \"cherry\", \"orange\"]\n",
        "for index in range(len(fruits)):\n",
        "    print(f\"Index {index}: {fruits[index]}\")\n",
        "\n",
        "\n",
        "print(\"_______________________Accessing Elements__________\")\n",
        "\n",
        "my_list = ['a', 'b', 'c', 'd']\n",
        "\n",
        "print(my_list[0])      # 'a'\n",
        "print(my_list[-1])     # 'd'\n",
        "print(my_list[1:3])    # ['b', 'c']\n",
        "\n",
        "\n",
        "print(\"______________________Modifying Elements__________\")\n",
        "\n",
        "my_list[1] = 'z'\n",
        "print(my_list[1])\n",
        "\n",
        "print(\"_____________________ Adding Elements_____________\")\n",
        "\n",
        "my_list.append('e')             # Add to end\n",
        "my_list.insert(2, 'x')          # Insert at position\n",
        "my_list.extend(['f', 'g'])      # Add multiple elements\n",
        "print(my_list)\n",
        "\n",
        "print(\"__________________Removing Elements__________________\")\n",
        "\n",
        "my_list.insert(1, 'b')\n",
        "my_list.remove('b')        # Remove by value\n",
        "item = my_list.pop()       # Remove last element\n",
        "item = my_list.pop(1)\n",
        "my_list.insert(1, 'b')       # Remove by index\n",
        "print(my_list)\n",
        "\n",
        "\n",
        "print(\"________________-Searching / Checking________\")\n",
        "\n",
        "'x' in my_list              # Check existence\n",
        "my_list.index('b')          # Find index of element\n",
        "my_list.count('a')          # Count occurrences\n",
        "print(my_list)\n",
        "\n",
        "print(\"_____________________Looping Through a List ___________________\")\n",
        "\n",
        "for item in my_list:\n",
        "    print(item)\n",
        "\n",
        "# With index\n",
        "for i, val in enumerate(my_list):\n",
        "    print(i, val)\n",
        "\n",
        "\n",
        "print(\"___________________Sorting and Reversing_____________\")\n",
        "\n",
        "numbers = [3, 1, 4, 2]\n",
        "\n",
        "numbers.sort()              # Ascending\n",
        "print(numbers)\n",
        "numbers.sort(reverse=True)  # Descending\n",
        "print(numbers)\n",
        "numbers.reverse()           # Reverse order\n",
        "print(numbers)\n",
        "\n",
        "sorted_list = sorted(numbers)\n",
        "\n",
        "print(\"___________________Copying a List______________________________\")\n",
        "\n",
        "copy1 = my_list.copy()\n",
        "copy2 = my_list[:]\n",
        "import copy\n",
        "copy3 = copy.deepcopy(my_list)  # For nested lists\n",
        "\n",
        "print(\" ____________List Comprehension_______________\")\n",
        "\n",
        "squares = [x**2 for x in range(5)]\n",
        "evens = [x for x in range(10) if x % 2 == 0]\n",
        "\n",
        "print(squares)\n",
        "print(evens)\n",
        "\n",
        "print(\"_____________Basic Functions_____________________\")\n",
        "\n",
        "len(my_list)          # Length\n",
        "print(len(my_list))\n",
        "min(numbers)          # Minimum\n",
        "print(min(numbers))\n",
        "max(numbers)          # Maximum\n",
        "print(max(numbers))\n",
        "sum(numbers)          # Sum of elements\n",
        "print(sum(numbers))\n",
        "\n",
        "print(\"_________________________________Joining and Splitting____________\")\n",
        "\n",
        "print(\"___________________________Joining list into string_______________\")\n",
        "\n",
        "words = ['Hello', 'World']\n",
        "sentence = ' '.join(words)\n",
        "\n",
        "# Splitting string into list\n",
        "text = \"a,b,c\"\n",
        "letters = text.split(\",\")\n",
        "\n",
        "print(words)\n",
        "print(sentence)\n",
        "print(letters)\n",
        "\n",
        "\n",
        "print(\"________________________________Nested Lists (2D Lists)______________\")\n",
        "\n",
        "matrix = [[1, 2], [3, 4]]\n",
        "print(matrix[0][1])  # 2\n",
        "\n",
        "# Loop through 2D list\n",
        "for row in matrix:\n",
        "    for item in row:\n",
        "        print(item)\n",
        "\n",
        "\n",
        "print(\"___________________Delete all the elements _________________\")\n",
        "\n",
        "del my_list[0]             # Delete by index\n",
        "print(my_list)\n",
        "my_list.clear()            # Remove all elements\n",
        "print(my_list)\n",
        "\n"
      ],
      "metadata": {
        "collapsed": true,
        "colab": {
          "base_uri": "https://localhost:8080/"
        },
        "id": "L8nJFyFoNOls",
        "outputId": "1c22ba35-77a3-42a6-f55a-ba5c833bbfda"
      },
      "execution_count": null,
      "outputs": [
        {
          "output_type": "stream",
          "name": "stdout",
          "text": [
            "___________Define____________\n",
            "[]\n",
            "[1, 2, 3]\n",
            "[1, 'hello', 3.14, True]\n",
            "_________________________Iterate _________________\n",
            "1\n",
            "hello\n",
            "3.14\n",
            "True\n",
            "________________________Iterate with index____________________\n",
            "Index 0: apple\n",
            "Index 1: banana\n",
            "Index 2: cherry\n",
            "Index 3: orange\n",
            "_______________________Accessing Elements__________\n",
            "a\n",
            "d\n",
            "['b', 'c']\n",
            "______________________Modifying Elements__________\n",
            "z\n",
            "_____________________ Adding Elements_____________\n",
            "['a', 'z', 'x', 'c', 'd', 'e', 'f', 'g']\n",
            "__________________Removing Elements__________________\n",
            "['a', 'b', 'x', 'c', 'd', 'e', 'f']\n",
            "________________-Searching / Checking________\n",
            "['a', 'b', 'x', 'c', 'd', 'e', 'f']\n",
            "_____________________Looping Through a List ___________________\n",
            "a\n",
            "b\n",
            "x\n",
            "c\n",
            "d\n",
            "e\n",
            "f\n",
            "0 a\n",
            "1 b\n",
            "2 x\n",
            "3 c\n",
            "4 d\n",
            "5 e\n",
            "6 f\n",
            "___________________Sorting and Reversing_____________\n",
            "[1, 2, 3, 4]\n",
            "[4, 3, 2, 1]\n",
            "[1, 2, 3, 4]\n",
            "___________________Copying a List______________________________\n",
            " ______________________________List Comprehension_______________\n",
            "[0, 1, 4, 9, 16]\n",
            "[0, 2, 4, 6, 8]\n",
            "___________________________________Basic Functions_____________________\n",
            "7\n",
            "1\n",
            "4\n",
            "10\n",
            "_________________________________Joining and Splitting____________\n",
            "___________________________Joining list into string_______________\n",
            "['Hello', 'World']\n",
            "Hello World\n",
            "['a', 'b', 'c']\n",
            "________________________________Nested Lists (2D Lists)______________\n",
            "2\n",
            "1\n",
            "2\n",
            "3\n",
            "4\n",
            "___________________Delete all the elements _________________\n",
            "['b', 'x', 'c', 'd', 'e', 'f']\n",
            "[]\n"
          ]
        }
      ]
    },
    {
      "cell_type": "code",
      "source": [
        "# _________________________Example of List Operation___________________________\n",
        "\n",
        "list1 = [ 'Python', 'Java', 123, 45.6]\n",
        "list2 = [ 'Intellipaat', False, 34.6, 78]\n",
        "# Prints a complete list\n",
        "print (list1)\n",
        "# Prints the first element of the list\n",
        "print (list1[0])\n",
        "# Prints elements starting from the 2nd till the 3rd\n",
        "print (list1[1:3])\n",
        "# Prints elements starting from the 3rd element\n",
        "print (list2[2:])\n",
        "# Prints list twice\n",
        "print (list2 * 2)\n",
        "# Prints concatenated lists\n",
        "print (list1 + list2)"
      ],
      "metadata": {
        "collapsed": true,
        "id": "iIcK6_K1SI8w",
        "outputId": "4b0791f3-b1fc-4a2d-b1f5-06d9ae73558d",
        "colab": {
          "base_uri": "https://localhost:8080/"
        }
      },
      "execution_count": null,
      "outputs": [
        {
          "output_type": "stream",
          "name": "stdout",
          "text": [
            "['Python', 'Java', 123, 45.6]\n",
            "Python\n",
            "['Java', 123]\n",
            "[34.6, 78]\n",
            "['Intellipaat', False, 34.6, 78, 'Intellipaat', False, 34.6, 78]\n",
            "['Python', 'Java', 123, 45.6, 'Intellipaat', False, 34.6, 78]\n"
          ]
        }
      ]
    },
    {
      "cell_type": "code",
      "source": [
        "# ________________________ List operation _____________________________\n",
        "my_list = [3, 1, 2]\n",
        "\n",
        "my_list.append(4)\n",
        "print(my_list)            # [3, 1, 2, 4]\n",
        "my_list.extend([5, 6,7 ])\n",
        "print(my_list)       # [3, 1, 2, 4, 5, 6,7]\n",
        "my_list.insert(2, 10)\n",
        "print(my_list)         # [3, 1, 10, 2, 4, 5, 6]\n",
        "my_list.remove(10)           # [3, 1, 2, 4, 5, 6]\n",
        "item = my_list.pop()         # Returns 6, list is now [3, 1, 2, 4, 5]\n",
        "print(my_list)\n",
        "index = my_list.index(4)     # Returns 3\n",
        "print(my_list)\n",
        "count = my_list.count(1)     # Returns 1\n",
        "print(my_list)\n",
        "my_list.sort()               # [1, 2, 3, 4, 5]\n",
        "print(my_list)\n",
        "my_list.reverse()            # [5, 4, 3, 2, 1]\n",
        "print(my_list)\n",
        "copy_list = my_list.copy()   # copy_list is [5, 4, 3, 2, 1]\n",
        "print(my_list)\n",
        "my_list.clear()              # my_list is now []\n",
        "print(my_list)"
      ],
      "metadata": {
        "id": "0avbwzrRSRET",
        "outputId": "717978d1-bfcf-4c2a-ccc1-4e12c9137746",
        "colab": {
          "base_uri": "https://localhost:8080/"
        }
      },
      "execution_count": null,
      "outputs": [
        {
          "output_type": "stream",
          "name": "stdout",
          "text": [
            "[3, 1, 2, 4]\n",
            "[3, 1, 2, 4, 5, 6, 7]\n",
            "[3, 1, 10, 2, 4, 5, 6, 7]\n",
            "[3, 1, 2, 4, 5, 6]\n",
            "[3, 1, 2, 4, 5, 6]\n",
            "[3, 1, 2, 4, 5, 6]\n",
            "[1, 2, 3, 4, 5, 6]\n",
            "[6, 5, 4, 3, 2, 1]\n",
            "[6, 5, 4, 3, 2, 1]\n",
            "[]\n"
          ]
        }
      ]
    },
    {
      "cell_type": "markdown",
      "source": [
        "**Tuple in Python**\n",
        "\n",
        "    A tuple is a built-in Python data structure used to store multiple items in a single variable —\n",
        "    just like a list — but with one major difference:\n",
        "    tuples are immutable, meaning their\n",
        "    contents cannot be changed once they are created.\n",
        "\n",
        "        mixed_tuple = (1, \"apple\", 3.14, True)\n",
        "        print(mixed_tuple[0])\n",
        "        print(mixed_tuple)"
      ],
      "metadata": {
        "id": "V9sBNFSSToZu"
      }
    },
    {
      "cell_type": "code",
      "source": [
        "# __________________________Tuple operation_____________________\n",
        "tuple = ( 'abcd', 34 , 4.56, )\n",
        "tuple2 = (45.5, 'intellipaat', 234)\n",
        "\n",
        "# Prints the complete tuple\n",
        "print (tuple)\n",
        "\n",
        "# Prints the first element of the tuple\n",
        "print (tuple[0])\n",
        "\n",
        "# Prints elements of the tuple starting from 2nd till 3rd\n",
        "print (tuple[1:3])\n",
        "\n",
        "# Prints elements of the tuple starting from 3rd element\n",
        "print (tuple[2:])\n",
        "\n",
        "# Prints the contents of the tuple twice\n",
        "print (tuple2 * 2)\n",
        "\n",
        "# Prints concatenated tuples\n",
        "print (tuple + tuple2)"
      ],
      "metadata": {
        "id": "2tzu7FvgUY1C",
        "outputId": "1c566cd5-a65e-4675-f56e-7cfb55445287",
        "colab": {
          "base_uri": "https://localhost:8080/"
        }
      },
      "execution_count": null,
      "outputs": [
        {
          "output_type": "stream",
          "name": "stdout",
          "text": [
            "('abcd', 34, 4.56)\n",
            "abcd\n",
            "(34, 4.56)\n",
            "(4.56,)\n",
            "(45.5, 'intellipaat', 234, 45.5, 'intellipaat', 234)\n",
            "('abcd', 34, 4.56, 45.5, 'intellipaat', 234)\n"
          ]
        }
      ]
    },
    {
      "cell_type": "markdown",
      "source": [
        "**Python dictionary**\n",
        "\n",
        "        A dictionary is a built-in Python data structure used to store data in key-value pairs.\n",
        "        Dictionaries are mutable, meaning their contents can be changed after creation.\n",
        "        Dictionaries are unordered"
      ],
      "metadata": {
        "id": "FRQNPT3eUoiO"
      }
    },
    {
      "cell_type": "code",
      "source": [
        "my_dict = {\n",
        "    \"name\": \"Alice\",\n",
        "    \"age\": 25,\n",
        "    \"city\": \"New York\"\n",
        "}\n",
        "print(my_dict[\"name\"])         # Output: Alice\n",
        "print(my_dict.get(\"age\"))      # Output: 25\n",
        "print(my_dict.get(\"gender\", \"Not found\"))  # Output: Not found\n",
        "\n",
        "# Out put with Key\n",
        "print(\"--------Out put with Key-----\")\n",
        "for key, value in my_dict.items():\n",
        "    print(key, \"->\", value)\n",
        "\n",
        "\n",
        "# _____________Creating a dictionary with nested data structures_____________\n",
        "# print(\"--------Creating a dictionary with nested data structures-----\")\n",
        "platform = {\n",
        "\"name\": \"Intellipaat\", # Platform name (string)\n",
        "\"category\": \"Education\", # Category of the platform\n",
        "\"courses\": [\"Data Science\", \"Cloud Computing\", \"Python\"],\n",
        "\"ratings\": {\n",
        "\"students\": 4.8,\n",
        "\"professionals\": 4.7\n",
        "},\n",
        "\"reviews\": [\"Excellent for upskilling\", \"Very informative\", \"Great mentors\"],\n",
        "}\n",
        "# Printing the entire complex data structure\n",
        "print(platform)\n",
        "\n",
        "\n",
        "#_______________________Initialize an empty dictionary\n",
        "d = {}\n",
        "d = {1: 'Python', 2: 'C++', 3: 'Java'}\n",
        "print(d)\n",
        "# creating dictionary using dict() constructor\n",
        "d1 = dict({1: 'Python', 2: 'C++', 3: 'Java'})\n",
        "print(d1)"
      ],
      "metadata": {
        "id": "oPqG1O4TVd-C",
        "outputId": "a0288e3b-9716-4988-c286-587a60bf66bf",
        "colab": {
          "base_uri": "https://localhost:8080/"
        }
      },
      "execution_count": null,
      "outputs": [
        {
          "output_type": "stream",
          "name": "stdout",
          "text": [
            "Alice\n",
            "25\n",
            "Not found\n",
            "--------Out put with Key-----\n",
            "name -> Alice\n",
            "age -> 25\n",
            "city -> New York\n",
            "{'name': 'Intellipaat', 'category': 'Education', 'courses': ['Data Science', 'Cloud Computing', 'Python'], 'ratings': {'students': 4.8, 'professionals': 4.7}, 'reviews': ['Excellent for upskilling', 'Very informative', 'Great mentors']}\n",
            "{1: 'Python', 2: 'C++', 3: 'Java'}\n",
            "{1: 'Python', 2: 'C++', 3: 'Java'}\n"
          ]
        }
      ]
    },
    {
      "cell_type": "markdown",
      "source": [
        "**Math Funtions in Python**"
      ],
      "metadata": {
        "id": "btFYTaaLBfq3"
      }
    },
    {
      "cell_type": "code",
      "source": [
        "# __________________________________ Math Funtion in Python _________\n",
        "import math\n",
        "print(math.sqrt(16))       # 4.0\n",
        "print(math.factorial(5))   # 120\n",
        "print(math.pow(2, 3))       # 8.0\n",
        "print(math.pi)             # 3.141592653589793\n",
        "print(math.ceil(4.2))      # 5\n",
        "print(math.floor(4.9))     # 4"
      ],
      "metadata": {
        "id": "buLzkYOgBjZo",
        "outputId": "5b36cb38-f659-47d0-ce05-98a50b71e10f",
        "colab": {
          "base_uri": "https://localhost:8080/"
        }
      },
      "execution_count": 2,
      "outputs": [
        {
          "output_type": "stream",
          "name": "stdout",
          "text": [
            "4.0\n",
            "120\n",
            "8.0\n",
            "3.141592653589793\n",
            "5\n",
            "4\n"
          ]
        }
      ]
    },
    {
      "cell_type": "markdown",
      "source": [
        "**Randam Number in Python**"
      ],
      "metadata": {
        "id": "QuL_r_AfBnYn"
      }
    },
    {
      "cell_type": "code",
      "source": [
        "#____________________  Randam Number in Python_______________________\n",
        "import random\n",
        "print(random.randint(1, 10))  # Prints a random integer between 1 and 10\n",
        "print(random.randint(1, 10))      # Random integer between 1 and 10\n",
        "print(random.random())            # Random float between 0.0 and 1.0\n",
        "print(random.choice(['a', 'b', 'c']))  # Randomly pick from list"
      ],
      "metadata": {
        "id": "gsCpPULTBqOm",
        "outputId": "1265ad75-aff0-46af-ba57-690825cea296",
        "colab": {
          "base_uri": "https://localhost:8080/"
        }
      },
      "execution_count": 3,
      "outputs": [
        {
          "output_type": "stream",
          "name": "stdout",
          "text": [
            "8\n",
            "10\n",
            "0.6792991990596672\n",
            "b\n"
          ]
        }
      ]
    },
    {
      "cell_type": "markdown",
      "source": [
        "**Date and Time Handling**"
      ],
      "metadata": {
        "id": "e0_WbbCkBuDu"
      }
    },
    {
      "cell_type": "code",
      "source": [
        "#_______________________Date and Time Handling_____________________\n",
        "\n",
        "import datetime\n",
        "now = datetime.datetime.now()\n",
        "print(\"Current date & time:\", now)\n",
        "\n",
        "today = datetime.date.today()\n",
        "print(\"Today's date:\", today)\n",
        "\n",
        "# Creating and formatting dates:\n",
        "dt = datetime.datetime(2025, 8, 23, 14, 30)\n",
        "print(dt.strftime(\"%Y-%m-%d %H:%M\"))  # Output: 2025-08-23 14:30\n",
        "\n",
        "# Date difference:\n",
        "d1 = datetime.date(2025, 8, 23)\n",
        "d2 = datetime.date(2025, 9, 1)\n",
        "diff = d2 - d1\n",
        "print(diff.days)"
      ],
      "metadata": {
        "id": "5CztnvOEBtp-",
        "outputId": "18a1bb99-715b-470d-b5ea-39df154de377",
        "colab": {
          "base_uri": "https://localhost:8080/"
        }
      },
      "execution_count": 4,
      "outputs": [
        {
          "output_type": "stream",
          "name": "stdout",
          "text": [
            "Current date & time: 2025-09-22 01:26:07.115087\n",
            "Today's date: 2025-09-22\n",
            "2025-08-23 14:30\n",
            "9\n"
          ]
        }
      ]
    },
    {
      "cell_type": "markdown",
      "source": [
        "**File handling (open(), read/write file**"
      ],
      "metadata": {
        "id": "uTNo4Xn_B1qB"
      }
    },
    {
      "cell_type": "code",
      "source": [
        "#________________________________________ File handling (open(), read/write files) __\n",
        "\n",
        "# Create and save a new file\n",
        "file = open(\"myfile.txt\", \"w\")  # \"w\" = write mode (creates file if it doesn't exist)\n",
        "file.write(\"This is a new file created using Python.\")\n",
        "file.close()  # Saves and closes the file\n",
        "\n",
        "print(\"File 'myfile.txt' has been created and saved.\")\n",
        "\n",
        "\n",
        "file = open(\"/content/myfile.txt\", \"r\")\n",
        "# Read entire file\n",
        "print(file.read())\n",
        "\n",
        "# Or read line by line\n",
        "file = open(\"/content/myfile.txt\", \"r\")\n",
        "print(file.readline())      # Read first line\n",
        "print(file.readline())      # Read second line\n",
        "file.close()"
      ],
      "metadata": {
        "id": "esZhxtllBvhf",
        "outputId": "f6b38672-e8da-4b59-aa5f-c219a8276ced",
        "colab": {
          "base_uri": "https://localhost:8080/"
        }
      },
      "execution_count": 12,
      "outputs": [
        {
          "output_type": "stream",
          "name": "stdout",
          "text": [
            "File 'myfile.txt' has been created and saved.\n",
            "This is a new file created using Python.\n",
            "This is a new file created using Python.\n",
            "\n"
          ]
        }
      ]
    },
    {
      "cell_type": "markdown",
      "source": [
        "**OOPs Concepts in Python**\n",
        "\n",
        "OOP (Object-Oriented Programming) is a paradigm where software is organized around objects, # which combine data (attributes) and behavior (methods).\n",
        "\n",
        " 1 .**Class and Object** - A blueprint for creating objects\n",
        "\n",
        "**Constrcture**- pecial method called when an object is created\n",
        "Destructors-Called when an object is deleted (not often used in modern Python)\n",
        "\n",
        "2 .**Encapsulation** -Hiding internal details and exposing only necessary information.\n",
        "\n",
        "Keeps data safe from unauthorized access by using private/protected attributes.\n",
        "\n",
        "3 .**Inheritance** -One class (child) can inherit attributes and methods from another class (parent).\n",
        "\n",
        "4.**Polymorphism** -# Same method name but behaves differently depending on the object.\n",
        "Method overloading refers to defining multiple methods with the same name but different     # arguments (types or number of parameters).\n",
        "Python does not support Method overloading\n",
        "\n",
        "5.Abstraction"
      ],
      "metadata": {
        "id": "QfI7woVWEQhV"
      }
    },
    {
      "cell_type": "code",
      "source": [
        "# __________________________________________Class in Python_____________________\n",
        "#  Class: A blueprint for creating objects.\n",
        "class Person:\n",
        "    def __init__(self, name, age):\n",
        "        self.name = name      # instance variable\n",
        "        self.age = age        # instance variable\n",
        "\n",
        "    def greet(self):\n",
        "        print(f\"Hello, my name is {self.name} and I am {self.age} years old.\")\n",
        "\n",
        "p1 = Person(\"Alice\", 30)\n",
        "p1.greet()"
      ],
      "metadata": {
        "id": "DUGLVe0LGbRO",
        "outputId": "02028927-e227-4e15-ab14-d2928439aaee",
        "colab": {
          "base_uri": "https://localhost:8080/"
        }
      },
      "execution_count": 13,
      "outputs": [
        {
          "output_type": "stream",
          "name": "stdout",
          "text": [
            "Hello, my name is Alice and I am 30 years old.\n"
          ]
        }
      ]
    },
    {
      "cell_type": "code",
      "source": [
        "# _________________________ Constrcture____________________________\n",
        "#Special method called when an object is created.\n",
        "class User:\n",
        "    def __init__(self, name):\n",
        "        self.name = name\n",
        "\n",
        "u = User(\"Alice\")\n",
        "print(u.name)"
      ],
      "metadata": {
        "id": "dMvFsdEYGekU",
        "outputId": "b88ea8c1-546a-464b-b2e8-1ce3007fbaa4",
        "colab": {
          "base_uri": "https://localhost:8080/"
        }
      },
      "execution_count": 14,
      "outputs": [
        {
          "output_type": "stream",
          "name": "stdout",
          "text": [
            "Alice\n"
          ]
        }
      ]
    },
    {
      "cell_type": "code",
      "source": [
        "# ____________________________Destructors (__del__ method)\n",
        "# Called when an object is deleted (not often used in modern Python).\n",
        "class MyClass:\n",
        "    def __init__(self):\n",
        "        print(\"Object created\")\n",
        "    def __del__(self):\n",
        "        print(\"Object destroyed\")\n",
        "my_obj = MyClass()\n",
        "del my_obj"
      ],
      "metadata": {
        "id": "nnI0HfMsGgwj",
        "outputId": "22ab4faf-1465-40b8-dbe0-ac04cfd2ac98",
        "colab": {
          "base_uri": "https://localhost:8080/"
        }
      },
      "execution_count": 15,
      "outputs": [
        {
          "output_type": "stream",
          "name": "stdout",
          "text": [
            "Object created\n",
            "Object destroyed\n"
          ]
        }
      ]
    },
    {
      "cell_type": "code",
      "source": [
        "# ____________________________Inheritance______________________________\n",
        "# One class (child) can inherit attributes and methods from another class (parent).\n",
        "class Animal:\n",
        "    def speak(self):\n",
        "        print(\"Animal speaks\")\n",
        "\n",
        "class Dog(Animal):\n",
        "    def bark(self):\n",
        "        print(\"Dog barks\")\n",
        "\n",
        "d = Dog()\n",
        "d.speak()  # Inherited\n",
        "d.bark()   # Child class method"
      ],
      "metadata": {
        "id": "HAyBUb6OGi9f",
        "outputId": "6e86750f-c03c-477c-f234-07907ff6e8ca",
        "colab": {
          "base_uri": "https://localhost:8080/"
        }
      },
      "execution_count": 16,
      "outputs": [
        {
          "output_type": "stream",
          "name": "stdout",
          "text": [
            "Animal speaks\n",
            "Dog barks\n"
          ]
        }
      ]
    },
    {
      "cell_type": "code",
      "source": [
        "#______________________________Encapsulation _______________________________\n",
        "# Hiding internal details and exposing only necessary information.\n",
        "# Keeps data safe from unauthorized access by using private/protected attributes.\n",
        "\n",
        "class BankAccount:\n",
        "    def __init__(self, balance):\n",
        "        self.balance = balance\n",
        "\n",
        "    def deposit(self, amount):\n",
        "        self.balance += amount\n",
        "\n",
        "    def withdraw(self, amount):\n",
        "        self.balance -= amount\n",
        "\n",
        "account = BankAccount(1000)\n",
        "account.deposit(500)\n",
        "account.withdraw(200)\n",
        "print(account.balance)  # Output: 1300"
      ],
      "metadata": {
        "id": "8iX3vjVQGlnG",
        "outputId": "017f08f9-4c00-4af8-dd01-9dc9b5f5aa6c",
        "colab": {
          "base_uri": "https://localhost:8080/"
        }
      },
      "execution_count": 17,
      "outputs": [
        {
          "output_type": "stream",
          "name": "stdout",
          "text": [
            "1300\n"
          ]
        }
      ]
    },
    {
      "cell_type": "code",
      "source": [
        "# _________________________Polymorphism(Method overloading)_____________________\n",
        "\n",
        "# Same method name but behaves differently depending on the object.\n",
        "# Method overloading refers to defining multiple methods with the same name\n",
        "# but different     # arguments (types or number of parameters).\n",
        "# Python does not support Method overloading\n",
        "# The code is wriiten the way\n",
        "\n",
        "\n",
        "class Example:\n",
        "    def show(self, x, y, z=None):\n",
        "        if z is not None:\n",
        "            print(\"Three arguments:\", x, y, z)\n",
        "        else:\n",
        "            print(\"Two arguments:\", x, y)\n",
        "\n",
        "obj = Example()\n",
        "obj.show(1, 2,3)"
      ],
      "metadata": {
        "id": "pGBJSYFDGqtM",
        "outputId": "7cc20a6d-8d4d-48d8-af5e-b063bc4c448f",
        "colab": {
          "base_uri": "https://localhost:8080/"
        }
      },
      "execution_count": 19,
      "outputs": [
        {
          "output_type": "stream",
          "name": "stdout",
          "text": [
            "Three arguments: 1 2 3\n"
          ]
        }
      ]
    },
    {
      "cell_type": "code",
      "source": [
        "# ____________________ Polymorphism(Method Overriding)________________\n",
        "\n",
        "# \"many forms\". In Python -  Same method name but behaves differently depending on the object.\n",
        "\n",
        "# Method Overriding (Runtime Polymorphism)\n",
        "# Function Overloading (Simulated, not built-in)\n",
        "# Operator Overloading\n",
        "\n",
        "class Bird:\n",
        "    def sound(self):\n",
        "        print(\"Bird sound\")\n",
        "\n",
        "class Parrot(Bird):\n",
        "    def sound(self):\n",
        "        print(\"Parrot talks\")\n",
        "\n",
        "b = Bird()\n",
        "p = Parrot()\n",
        "b.sound()  # Bird sound\n",
        "p.sound()  # Parrot talks"
      ],
      "metadata": {
        "id": "D3CtNtrdG_nm",
        "outputId": "7e106f4b-0e41-4c11-d33c-ec32ed9cf446",
        "colab": {
          "base_uri": "https://localhost:8080/"
        }
      },
      "execution_count": 20,
      "outputs": [
        {
          "output_type": "stream",
          "name": "stdout",
          "text": [
            "Bird sound\n",
            "Parrot talks\n"
          ]
        }
      ]
    },
    {
      "cell_type": "code",
      "source": [
        "#________________________________Super Keyword______________________\n",
        "\n",
        "class Animal:\n",
        "    def speak(self):\n",
        "        print(\"Animal sound\")\n",
        "\n",
        "class Dog(Animal):\n",
        "    def speak(self):\n",
        "        super().speak()  # Call parent class method\n",
        "        print(\"Dog barks\")\n",
        "\n",
        "d = Dog()\n",
        "d.speak()"
      ],
      "metadata": {
        "id": "vCNfvfiIHC0m",
        "outputId": "a3192b16-bc6c-4e74-b192-642516c673d6",
        "colab": {
          "base_uri": "https://localhost:8080/"
        }
      },
      "execution_count": 21,
      "outputs": [
        {
          "output_type": "stream",
          "name": "stdout",
          "text": [
            "Animal sound\n",
            "Dog barks\n"
          ]
        }
      ]
    },
    {
      "cell_type": "code",
      "source": [
        "#_______________Class vs Instance Attributes__________________\n",
        "\n",
        "class Example:\n",
        "    class_var = 10          # shared by all instances\n",
        "\n",
        "    def __init__(self):\n",
        "        self.instance_var = 20  # unique to each instance"
      ],
      "metadata": {
        "id": "V9a0cQybHGRv"
      },
      "execution_count": 22,
      "outputs": []
    },
    {
      "cell_type": "code",
      "source": [
        "# __________________________________Static and Class Methods_________________\n",
        "# Static method: Doesn't access instance or class data.\n",
        "# Class method: Has access to class data.\n",
        "\n",
        "class Demo:\n",
        "    @staticmethod\n",
        "    def greet():\n",
        "        print(\"Hello\")\n",
        "\n",
        "    @classmethod\n",
        "    def show_class(cls):\n",
        "        print(\"Class:\", cls)"
      ],
      "metadata": {
        "id": "txsyHzDoHKAV"
      },
      "execution_count": 23,
      "outputs": []
    },
    {
      "cell_type": "markdown",
      "source": [
        "**Python exception handeling**\n",
        "\n",
        "Python exception handling is the process of managing errors that occur during program execution, so your program doesn’t crash unexpectedly.\n",
        "\n",
        "Instead of stopping execution when an error happens (like dividing by zero or accessing a missing file), Python lets you catch and handle those errors gracefully.\n",
        "\n",
        "**Error vs Exception**\n",
        "\n",
        "**Error**: A problem that occurs in the code (e.g., syntax error).\n",
        "\n",
        "**Exception**: A runtime error that can be handled (e.g., ZeroDivisionError, FileNotFoundError).\n",
        "\n",
        "**Main Keywords in Python Exception Handling**\n",
        "\n",
        "**try** → Code that may cause an exception.\n",
        "\n",
        "**except** → Handles the exception.\n",
        "\n",
        "**else** → Runs if no exception occurs.\n",
        "\n",
        "**finally** → Always runs (cleanup code).\n",
        "\n",
        "**raise** → Manually trigger an exception.\n",
        "\n",
        "**Exception** - Base class for all exceptions. Catching Exception handles most errors.\n",
        "\n",
        "**Multiple except** -You can handle different exception types separately.\n",
        "\n",
        "**Catch multiple in one** - Handle multiple exceptions in one except.\n",
        "\n",
        "**Custom Exception**- Define your own exception by inheriting Exception."
      ],
      "metadata": {
        "id": "902yiFB_H1Kc"
      }
    },
    {
      "cell_type": "code",
      "source": [],
      "metadata": {
        "id": "etj13C53HzWH"
      },
      "execution_count": null,
      "outputs": []
    }
  ]
}