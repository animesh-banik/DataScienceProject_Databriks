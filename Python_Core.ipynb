{
  "nbformat": 4,
  "nbformat_minor": 0,
  "metadata": {
    "colab": {
      "provenance": [],
      "authorship_tag": "ABX9TyM3C4TJ1xnj75Imsa7sNGPh",
      "include_colab_link": true
    },
    "kernelspec": {
      "name": "python3",
      "display_name": "Python 3"
    },
    "language_info": {
      "name": "python"
    }
  },
  "cells": [
    {
      "cell_type": "markdown",
      "metadata": {
        "id": "view-in-github",
        "colab_type": "text"
      },
      "source": [
        "<a href=\"https://colab.research.google.com/github/animesh-banik/DataScienceProject_Databriks/blob/Google_Colub/Python_Core.ipynb\" target=\"_parent\"><img src=\"https://colab.research.google.com/assets/colab-badge.svg\" alt=\"Open In Colab\"/></a>"
      ]
    },
    {
      "cell_type": "markdown",
      "source": [
        "**What is Python?**\n",
        "\n",
        "Python is a high-level, interpreted, object-oriented programming language created by Guido van Rossum in 1991. It emphasizes code readability and simplicity with its clean syntax.\n"
      ],
      "metadata": {
        "id": "SHq7CJSEPCZt"
      }
    },
    {
      "cell_type": "markdown",
      "source": [
        "**Key Features of Python:**\n",
        "\n",
        "- **Interpreted Language**: No compilation needed\n",
        "- **Dynamic Typing**: Variables don't need explicit type declaration\n",
        "- **Cross-Platform**: Runs on Windows, Mac, Linux\n",
        "- **Extensive Libraries**: Rich standard library and third-party packages\n",
        "- **Readable Syntax**: English-like syntax\n"
      ],
      "metadata": {
        "id": "87WgRUgpPNTQ"
      }
    },
    {
      "cell_type": "markdown",
      "source": [
        "**Hello World Example:**"
      ],
      "metadata": {
        "id": "hMIxa71hPXHv"
      }
    },
    {
      "cell_type": "code",
      "execution_count": 1,
      "metadata": {
        "colab": {
          "base_uri": "https://localhost:8080/"
        },
        "id": "u0yUIuIWMpVl",
        "outputId": "45e7fb9e-8146-412e-a1c2-f1fd19b24b4a"
      },
      "outputs": [
        {
          "output_type": "stream",
          "name": "stdout",
          "text": [
            "Hello, World\n"
          ]
        }
      ],
      "source": [
        "print(\"Hello, World\")"
      ]
    },
    {
      "cell_type": "markdown",
      "source": [
        "**User input**"
      ],
      "metadata": {
        "id": "BYb8G6AKPilg"
      }
    },
    {
      "cell_type": "code",
      "source": [
        "name = input(\"Enter your name: \")\n",
        "print(f\"Hello, {name}!\")\n"
      ],
      "metadata": {
        "colab": {
          "base_uri": "https://localhost:8080/"
        },
        "id": "YBJHr1nzPlgw",
        "outputId": "6b93fd51-9926-4b2e-f424-b6b483850f94"
      },
      "execution_count": 2,
      "outputs": [
        {
          "output_type": "stream",
          "name": "stdout",
          "text": [
            "Enter your name: Animesh\n",
            "Hello, Animesh!\n"
          ]
        }
      ]
    },
    {
      "cell_type": "markdown",
      "source": [
        "**Check Python version**"
      ],
      "metadata": {
        "id": "F-U-5gRuP20Q"
      }
    },
    {
      "cell_type": "code",
      "source": [
        "import sys\n",
        "print(f\"Python version: {sys.version}\")"
      ],
      "metadata": {
        "colab": {
          "base_uri": "https://localhost:8080/"
        },
        "id": "jPs756qlP7j4",
        "outputId": "5d1c7036-4a2e-487f-aab0-9064920695e8"
      },
      "execution_count": 4,
      "outputs": [
        {
          "output_type": "stream",
          "name": "stdout",
          "text": [
            "Python version: 3.12.11 (main, Jun  4 2025, 08:56:18) [GCC 11.4.0]\n"
          ]
        }
      ]
    },
    {
      "cell_type": "markdown",
      "source": [
        "**Check current working directory**"
      ],
      "metadata": {
        "id": "qsZjWzQeQCCS"
      }
    },
    {
      "cell_type": "code",
      "source": [
        "import os\n",
        "print(f\"Current directory: {os.getcwd()}\")\n"
      ],
      "metadata": {
        "colab": {
          "base_uri": "https://localhost:8080/"
        },
        "id": "rPT263NdQErR",
        "outputId": "50efef83-354b-475c-9c8a-f7651ce91f5e"
      },
      "execution_count": 5,
      "outputs": [
        {
          "output_type": "stream",
          "name": "stdout",
          "text": [
            "Current directory: /content\n"
          ]
        }
      ]
    },
    {
      "cell_type": "markdown",
      "source": [
        "**Data Types and Variables**"
      ],
      "metadata": {
        "id": "4R5sY7HLRE6i"
      }
    },
    {
      "cell_type": "code",
      "source": [
        "### Basic Data Types:```python\n",
        "\n",
        "\n",
        "# Numeric Types\n",
        "integer_num = 42                    # int\n",
        "float_num = 3.14159                 # float\n",
        "complex_num = 2 + 3j                # complex\n",
        "\n",
        "# String Type\n",
        "single_quote = 'Hello'              # str\n",
        "double_quote = \"World\"              # str\n",
        "multiline_string = \"\"\"This is a\n",
        "multiline string\n",
        "in Python\"\"\"\n",
        "\n",
        "# Boolean Type\n",
        "is_python_fun = True                # bool\n",
        "is_difficult = False                # bool\n",
        "\n",
        "# None Type\n",
        "nothing = None                      # NoneType\n",
        "\n",
        "# Display types and values\n",
        "print(f\"Integer: {integer_num}, Type: {type(integer_num)}\")\n",
        "print(f\"Float: {float_num}, Type: {type(float_num)}\")\n",
        "print(f\"Complex: {complex_num}, Type: {type(complex_num)}\")\n",
        "print(f\"String: {single_quote}, Type: {type(single_quote)}\")\n",
        "print(f\"Boolean: {is_python_fun}, Type: {type(is_python_fun)}\")\n",
        "print(f\"None: {nothing}, Type: {type(nothing)}\")\n"
      ],
      "metadata": {
        "colab": {
          "base_uri": "https://localhost:8080/"
        },
        "id": "BplIsjOzRKOg",
        "outputId": "af16b00a-fec9-4287-ccfe-6b7b91885d78"
      },
      "execution_count": 6,
      "outputs": [
        {
          "output_type": "stream",
          "name": "stdout",
          "text": [
            "Integer: 42, Type: <class 'int'>\n",
            "Float: 3.14159, Type: <class 'float'>\n",
            "Complex: (2+3j), Type: <class 'complex'>\n",
            "String: Hello, Type: <class 'str'>\n",
            "Boolean: True, Type: <class 'bool'>\n",
            "None: None, Type: <class 'NoneType'>\n"
          ]
        }
      ]
    },
    {
      "cell_type": "markdown",
      "source": [
        "**Variable Operations:```python**\n"
      ],
      "metadata": {
        "id": "zeSuFGc8Rvln"
      }
    },
    {
      "cell_type": "code",
      "source": [
        "\n",
        "# Variable Assignment\n",
        "x = 10\n",
        "y = 20\n",
        "name = \"Python\"\n",
        "\n",
        "# Multiple Assignment\n",
        "a, b, c = 1, 2, 3\n",
        "print(f\"a={a}, b={b}, c={c}\")\n",
        "\n",
        "# Same value to multiple variables\n",
        "x = y = z = 100\n",
        "print(f\"x={x}, y={y}, z={z}\")\n",
        "\n",
        "# Swapping variables\n",
        "x, y = 20, 10\n",
        "print(f\"Before swap: x={x}, y={y}\")\n",
        "x, y = y, x\n",
        "print(f\"After swap: x={x}, y={y}\")\n",
        "\n",
        "# Dynamic typing\n",
        "var = 42        # int\n",
        "print(f\"var is {type(var)}: {var}\")\n",
        "var = \"Hello\"   # str\n",
        "print(f\"var is {type(var)}: {var}\")\n",
        "var = [1, 2, 3] # list\n",
        "print(f\"var is {type(var)}: {var}\")\n",
        "\n",
        "\n"
      ],
      "metadata": {
        "colab": {
          "base_uri": "https://localhost:8080/"
        },
        "id": "nNAw5n_zReAo",
        "outputId": "9d48885a-e58b-436c-d9c8-d2214ecd20b3"
      },
      "execution_count": 8,
      "outputs": [
        {
          "output_type": "stream",
          "name": "stdout",
          "text": [
            "a=1, b=2, c=3\n",
            "x=100, y=100, z=100\n",
            "Before swap: x=20, y=10\n",
            "After swap: x=10, y=20\n",
            "var is <class 'int'>: 42\n",
            "var is <class 'str'>: Hello\n",
            "var is <class 'list'>: [1, 2, 3]\n"
          ]
        }
      ]
    },
    {
      "cell_type": "markdown",
      "source": [
        "**String Operations:**"
      ],
      "metadata": {
        "id": "CfoDdhQaSNwg"
      }
    },
    {
      "cell_type": "code",
      "source": [
        "# String creation and manipulation\n",
        "first_name = \"John\"\n",
        "last_name = \"Doe\"\n",
        "\n",
        "# String concatenation\n",
        "full_name = first_name + \" \" + last_name\n",
        "print(f\"Full name: {full_name}\")\n",
        "\n",
        "# String formatting methods\n",
        "age = 25\n",
        "\n",
        "# f-strings (Python 3.6+) - Recommended\n",
        "message1 = f\"My name is {full_name} and I am {age} years old\"\n",
        "\n",
        "# .format() method\n",
        "message2 = \"My name is {} and I am {} years old\".format(full_name, age)\n",
        "\n",
        "# % formatting (older method)\n",
        "message3 = \"My name is %s and I am %d years old\" % (full_name, age)\n",
        "\n",
        "print(message1)\n",
        "print(message2)\n",
        "print(message3)\n",
        "\n",
        "# String methods\n",
        "text = \"  Python Programming  \"\n",
        "print(f\"Original: '{text}'\")\n",
        "print(f\"Strip: '{text.strip()}'\")\n",
        "print(f\"Upper: '{text.upper()}'\")\n",
        "print(f\"Lower: '{text.lower()}'\")\n",
        "print(f\"Title: '{text.title()}'\")\n",
        "print(f\"Replace: '{text.replace('Python', 'Java')}'\")\n",
        "\n",
        "# String indexing and slicing\n",
        "word = \"Python\"\n",
        "print(f\"First character: {word[0]}\")\n",
        "print(f\"Last character: {word[-1]}\")\n",
        "print(f\"Slice [1:4]: {word[1:4]}\")\n",
        "print(f\"Reverse: {word[::-1]}\")\n"
      ],
      "metadata": {
        "colab": {
          "base_uri": "https://localhost:8080/"
        },
        "id": "FouaJW-KST_A",
        "outputId": "75716b3d-448d-4c66-d167-d6e2b8ce90da"
      },
      "execution_count": 9,
      "outputs": [
        {
          "output_type": "stream",
          "name": "stdout",
          "text": [
            "Full name: John Doe\n",
            "My name is John Doe and I am 25 years old\n",
            "My name is John Doe and I am 25 years old\n",
            "My name is John Doe and I am 25 years old\n",
            "Original: '  Python Programming  '\n",
            "Strip: 'Python Programming'\n",
            "Upper: '  PYTHON PROGRAMMING  '\n",
            "Lower: '  python programming  '\n",
            "Title: '  Python Programming  '\n",
            "Replace: '  Java Programming  '\n",
            "First character: P\n",
            "Last character: n\n",
            "Slice [1:4]: yth\n",
            "Reverse: nohtyP\n"
          ]
        }
      ]
    },
    {
      "cell_type": "markdown",
      "source": [
        "**Control Structures**"
      ],
      "metadata": {
        "id": "3DBZZ2M-SbIY"
      }
    },
    {
      "cell_type": "markdown",
      "source": [
        "**if-elif-else statement**"
      ],
      "metadata": {
        "id": "E9AXEt-SSqy_"
      }
    },
    {
      "cell_type": "code",
      "source": [
        "def grade_calculator(score):\n",
        "    if score >= 90:\n",
        "        grade = \"A\"\n",
        "    elif score >= 80:\n",
        "        grade = \"B\"\n",
        "    elif score >= 70:\n",
        "        grade = \"C\"\n",
        "    elif score >= 60:\n",
        "        grade = \"D\"\n",
        "    else:\n",
        "        grade = \"F\"\n",
        "\n",
        "    return grade\n",
        "\n",
        "# Test the function\n",
        "test_scores = [95, 87, 76, 65, 45]\n",
        "for score in test_scores:\n",
        "    print(f\"Score: {score}, Grade: {grade_calculator(score)}\")\n"
      ],
      "metadata": {
        "colab": {
          "base_uri": "https://localhost:8080/"
        },
        "id": "22hZ3AJPSxZp",
        "outputId": "ba3b4a43-5928-47b6-f6ba-0fef55e6c5c3"
      },
      "execution_count": 10,
      "outputs": [
        {
          "output_type": "stream",
          "name": "stdout",
          "text": [
            "Score: 95, Grade: A\n",
            "Score: 87, Grade: B\n",
            "Score: 76, Grade: C\n",
            "Score: 65, Grade: D\n",
            "Score: 45, Grade: F\n"
          ]
        }
      ]
    },
    {
      "cell_type": "markdown",
      "source": [
        "**For loops**"
      ],
      "metadata": {
        "id": "DjsCnRP3S_Fx"
      }
    },
    {
      "cell_type": "code",
      "source": [
        "print(\"=== For Loops ===\")\n",
        "\n",
        "# Range with for loop\n",
        "print(\"Counting 1 to 5:\")\n",
        "for i in range(1, 6):\n",
        "    print(f\"Count: {i}\")\n",
        "\n",
        "# Iterating over a list\n",
        "colors = [\"red\", \"green\", \"blue\", \"yellow\"]\n",
        "print(\"\\nColors:\")\n",
        "for color in colors:\n",
        "    print(f\"Color: {color}\")\n",
        "\n",
        "# Enumerate for index and value\n",
        "print(\"\\nColors with index:\")\n",
        "for index, color in enumerate(colors):\n",
        "    print(f\"Index {index}: {color}\")\n"
      ],
      "metadata": {
        "colab": {
          "base_uri": "https://localhost:8080/"
        },
        "id": "FOoleMGrS993",
        "outputId": "0fce7edb-e185-4306-9dcc-5fc9a27ef85c"
      },
      "execution_count": 11,
      "outputs": [
        {
          "output_type": "stream",
          "name": "stdout",
          "text": [
            "=== For Loops ===\n",
            "Counting 1 to 5:\n",
            "Count: 1\n",
            "Count: 2\n",
            "Count: 3\n",
            "Count: 4\n",
            "Count: 5\n",
            "\n",
            "Colors:\n",
            "Color: red\n",
            "Color: green\n",
            "Color: blue\n",
            "Color: yellow\n",
            "\n",
            "Colors with index:\n",
            "Index 0: red\n",
            "Index 1: green\n",
            "Index 2: blue\n",
            "Index 3: yellow\n"
          ]
        }
      ]
    },
    {
      "cell_type": "markdown",
      "source": [
        "**While loops**"
      ],
      "metadata": {
        "id": "32YE1Zc_TfGY"
      }
    },
    {
      "cell_type": "code",
      "source": [
        "# While loop with user input\n",
        "print(\"\\nGuess the number (1-10):\")\n",
        "secret_number = 7\n",
        "guess = 0\n",
        "\n",
        "while guess != secret_number:\n",
        "    try:\n",
        "        guess = int(input(\"Enter your guess: \"))\n",
        "        if guess < secret_number:\n",
        "            print(\"Too low!\")\n",
        "        elif guess > secret_number:\n",
        "            print(\"Too high!\")\n",
        "        else:\n",
        "            print(\"Congratulations! You guessed it!\")\n",
        "    except ValueError:\n",
        "        print(\"Please enter a valid number\")\n"
      ],
      "metadata": {
        "colab": {
          "base_uri": "https://localhost:8080/"
        },
        "id": "fQPmXRNTT2FB",
        "outputId": "c2ae884d-73dd-4b76-a1ca-e6ab697f9d07"
      },
      "execution_count": 13,
      "outputs": [
        {
          "output_type": "stream",
          "name": "stdout",
          "text": [
            "\n",
            "Guess the number (1-10):\n",
            "Enter your guess: 7\n",
            "Congratulations! You guessed it!\n"
          ]
        }
      ]
    },
    {
      "cell_type": "markdown",
      "source": [
        "**Loop control statements**"
      ],
      "metadata": {
        "id": "-mkyCSSiUPeT"
      }
    },
    {
      "cell_type": "code",
      "source": [
        "print(\"\\n=== Loop Control ===\")\n",
        "\n",
        "# Break statement\n",
        "print(\"Finding first even number:\")\n",
        "numbers = [1, 3, 7, 8, 9, 10]\n",
        "for num in numbers:\n",
        "    if num % 2 == 0:\n",
        "        print(f\"First even number: {num}\")\n",
        "        break\n",
        "    print(f\"Odd number: {num}\")\n"
      ],
      "metadata": {
        "colab": {
          "base_uri": "https://localhost:8080/"
        },
        "id": "k0Ij9s3dUXva",
        "outputId": "cbeb9360-3437-47ac-846f-946cb3d58e58"
      },
      "execution_count": 14,
      "outputs": [
        {
          "output_type": "stream",
          "name": "stdout",
          "text": [
            "\n",
            "=== Loop Control ===\n",
            "Finding first even number:\n",
            "Odd number: 1\n",
            "Odd number: 3\n",
            "Odd number: 7\n",
            "First even number: 8\n"
          ]
        }
      ]
    },
    {
      "cell_type": "code",
      "source": [
        "# Continue statement\n",
        "\n",
        "\n",
        "print(\"\\nPrinting only odd numbers:\")\n",
        "for num in range(1, 11):\n",
        "    if num % 2 == 0:\n",
        "        continue  # Skip even numbers\n",
        "    print(f\"Odd: {num}\")\n"
      ],
      "metadata": {
        "colab": {
          "base_uri": "https://localhost:8080/"
        },
        "id": "77TTc_lnU6RK",
        "outputId": "73ebfcf2-0403-472b-ffa0-46390339ca92"
      },
      "execution_count": 15,
      "outputs": [
        {
          "output_type": "stream",
          "name": "stdout",
          "text": [
            "\n",
            "Printing only odd numbers:\n",
            "Odd: 1\n",
            "Odd: 3\n",
            "Odd: 5\n",
            "Odd: 7\n",
            "Odd: 9\n"
          ]
        }
      ]
    },
    {
      "cell_type": "code",
      "source": [
        "#  Nested loops\n",
        "\n",
        "\n",
        "print(\"\\nMultiplication table:\")\n",
        "for i in range(1, 4):\n",
        "    for j in range(1, 4):\n",
        "        print(f\"{i} × {j} = {i * j}\", end=\"\\t\")\n",
        "    print()  # New line after each row\n"
      ],
      "metadata": {
        "colab": {
          "base_uri": "https://localhost:8080/"
        },
        "id": "mXEtfgOGVD3O",
        "outputId": "0b9e1bca-1e82-4e0f-9950-ff5f4b34f94a"
      },
      "execution_count": 16,
      "outputs": [
        {
          "output_type": "stream",
          "name": "stdout",
          "text": [
            "\n",
            "Multiplication table:\n",
            "1 × 1 = 1\t1 × 2 = 2\t1 × 3 = 3\t\n",
            "2 × 1 = 2\t2 × 2 = 4\t2 × 3 = 6\t\n",
            "3 × 1 = 3\t3 × 2 = 6\t3 × 3 = 9\t\n"
          ]
        }
      ]
    },
    {
      "cell_type": "markdown",
      "source": [
        "**Function Basics in Python**"
      ],
      "metadata": {
        "id": "bmp0d8pMVL_p"
      }
    }
  ]
}