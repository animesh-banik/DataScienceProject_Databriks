{
  "nbformat": 4,
  "nbformat_minor": 0,
  "metadata": {
    "colab": {
      "provenance": [],
      "authorship_tag": "ABX9TyNk7yjOKZveEVCVTHK/nOr3",
      "include_colab_link": true
    },
    "kernelspec": {
      "name": "python3",
      "display_name": "Python 3"
    },
    "language_info": {
      "name": "python"
    }
  },
  "cells": [
    {
      "cell_type": "markdown",
      "metadata": {
        "id": "view-in-github",
        "colab_type": "text"
      },
      "source": [
        "<a href=\"https://colab.research.google.com/github/animesh-banik/DataScienceProject_Databriks/blob/main/Python_Core.ipynb\" target=\"_parent\"><img src=\"https://colab.research.google.com/assets/colab-badge.svg\" alt=\"Open In Colab\"/></a>"
      ]
    },
    {
      "cell_type": "markdown",
      "source": [
        "**What is Python?**\n",
        "\n",
        "Python is a high-level, interpreted, object-oriented programming language created by Guido van Rossum in 1991. It emphasizes code readability and simplicity with its clean syntax.\n"
      ],
      "metadata": {
        "id": "SHq7CJSEPCZt"
      }
    },
    {
      "cell_type": "markdown",
      "source": [
        "**Key Features of Python:**\n",
        "\n",
        "- **Interpreted Language**: No compilation needed\n",
        "- **Dynamic Typing**: Variables don't need explicit type declaration\n",
        "- **Cross-Platform**: Runs on Windows, Mac, Linux\n",
        "- **Extensive Libraries**: Rich standard library and third-party packages\n",
        "- **Readable Syntax**: English-like syntax\n"
      ],
      "metadata": {
        "id": "87WgRUgpPNTQ"
      }
    },
    {
      "cell_type": "markdown",
      "source": [
        "**Hello World Example:**"
      ],
      "metadata": {
        "id": "hMIxa71hPXHv"
      }
    },
    {
      "cell_type": "code",
      "execution_count": null,
      "metadata": {
        "colab": {
          "base_uri": "https://localhost:8080/"
        },
        "id": "u0yUIuIWMpVl",
        "outputId": "45e7fb9e-8146-412e-a1c2-f1fd19b24b4a"
      },
      "outputs": [
        {
          "output_type": "stream",
          "name": "stdout",
          "text": [
            "Hello, World\n"
          ]
        }
      ],
      "source": [
        "print(\"Hello, World\")"
      ]
    },
    {
      "cell_type": "markdown",
      "source": [
        "**User input**"
      ],
      "metadata": {
        "id": "BYb8G6AKPilg"
      }
    },
    {
      "cell_type": "code",
      "source": [
        "name = input(\"Enter your name: \")\n",
        "print(f\"Hello, {name}!\")\n"
      ],
      "metadata": {
        "colab": {
          "base_uri": "https://localhost:8080/"
        },
        "id": "YBJHr1nzPlgw",
        "outputId": "6b93fd51-9926-4b2e-f424-b6b483850f94"
      },
      "execution_count": null,
      "outputs": [
        {
          "output_type": "stream",
          "name": "stdout",
          "text": [
            "Enter your name: Animesh\n",
            "Hello, Animesh!\n"
          ]
        }
      ]
    },
    {
      "cell_type": "markdown",
      "source": [
        "**Check Python version**"
      ],
      "metadata": {
        "id": "F-U-5gRuP20Q"
      }
    },
    {
      "cell_type": "code",
      "source": [
        "import sys\n",
        "print(f\"Python version: {sys.version}\")"
      ],
      "metadata": {
        "colab": {
          "base_uri": "https://localhost:8080/"
        },
        "id": "jPs756qlP7j4",
        "outputId": "5d1c7036-4a2e-487f-aab0-9064920695e8"
      },
      "execution_count": null,
      "outputs": [
        {
          "output_type": "stream",
          "name": "stdout",
          "text": [
            "Python version: 3.12.11 (main, Jun  4 2025, 08:56:18) [GCC 11.4.0]\n"
          ]
        }
      ]
    },
    {
      "cell_type": "markdown",
      "source": [
        "**Check current working directory**"
      ],
      "metadata": {
        "id": "qsZjWzQeQCCS"
      }
    },
    {
      "cell_type": "code",
      "source": [
        "import os\n",
        "print(f\"Current directory: {os.getcwd()}\")\n"
      ],
      "metadata": {
        "colab": {
          "base_uri": "https://localhost:8080/"
        },
        "id": "rPT263NdQErR",
        "outputId": "50efef83-354b-475c-9c8a-f7651ce91f5e"
      },
      "execution_count": null,
      "outputs": [
        {
          "output_type": "stream",
          "name": "stdout",
          "text": [
            "Current directory: /content\n"
          ]
        }
      ]
    },
    {
      "cell_type": "markdown",
      "source": [
        "**Data Types and Variables**\n",
        "\n",
        "| **Data Type**           | **Description**                               | **Example**                         | **Output / type()**                      |\n",
        "| ----------------------- | --------------------------------------------- | ----------------------------------- | ---------------------------------------- |\n",
        "| **Integer (`int`)**     | Whole numbers                                 | `age = 25`                          | `25 <class 'int'>`                       |\n",
        "| **Float (`float`)**     | Decimal numbers                               | `price = 99.99`                     | `99.99 <class 'float'>`                  |\n",
        "| **Complex (`complex`)** | Complex numbers with real and imaginary parts | `z = 2 + 3j`                        | `(2+3j) <class 'complex'>`               |\n",
        "| **String (`str`)**      | Sequence of characters                        | `name = \"Alice\"`                    | `'Alice' <class 'str'>`                  |\n",
        "| **List (`list`)**       | Ordered, mutable collection                   | `fruits = [\"apple\",\"banana\"]`       | `['apple','banana'] <class 'list'>`      |\n",
        "| **Tuple (`tuple`)**     | Ordered, immutable collection                 | `coordinates = (10,20)`             | `(10,20) <class 'tuple'>`                |\n",
        "| **Set (`set`)**         | Unordered, unique collection                  | `unique_nums = {1,2,3,3}`           | `{1,2,3} <class 'set'>`                  |\n",
        "| **Frozenset**           | Immutable set                                 | `frozen = frozenset([1,2,3])`       | `frozenset({1,2,3}) <class 'frozenset'>` |\n",
        "| **Dictionary (`dict`)** | Key-value pairs                               | `student = {\"name\":\"Bob\",\"age\":21}` | `{'name':'Bob','age':21} <class 'dict'>` |\n",
        "| **Boolean (`bool`)**    | True/False                                    | `is_active = True`                  | `True <class 'bool'>`                    |\n",
        "| **Bytes (`bytes`)**     | Immutable byte sequence                       | `data = b\"Hello\"`                   | `b'Hello' <class 'bytes'>`               |\n",
        "| **Bytearray**           | Mutable byte sequence                         | `arr = bytearray([65,66,67])`       | `bytearray(b'ABC') <class 'bytearray'>`  |\n",
        "| **Memoryview**          | View of memory of bytes                       | `mv = memoryview(b\"Hello\")`         | `<memory at ...> <class 'memoryview'>`   |\n",
        "| **NoneType**            | Represents absence of value                   | `x = None`                          | `None <class 'NoneType'>`                |\n"
      ],
      "metadata": {
        "id": "4R5sY7HLRE6i"
      }
    },
    {
      "cell_type": "markdown",
      "source": [
        "**Python Operators with Examples**\n",
        "\n",
        "| **Operator Type** | **Operator** | **Description**              | **Example**          | **Output**   |     |     |\n",
        "| ----------------- | ------------ | ---------------------------- | -------------------- | ------------ | --- | --- |\n",
        "| **Arithmetic**    | `+`          | Addition                     | `5 + 3`              | `8`          |     |     |\n",
        "|                   | `-`          | Subtraction                  | `5 - 3`              | `2`          |     |     |\n",
        "|                   | `*`          | Multiplication               | `5 * 3`              | `15`         |     |     |\n",
        "|                   | `/`          | Division (float)             | `5 / 2`              | `2.5`        |     |     |\n",
        "|                   | `//`         | Floor Division               | `5 // 2`             | `2`          |     |     |\n",
        "|                   | `%`          | Modulus (remainder)          | `5 % 2`              | `1`          |     |     |\n",
        "|                   | `**`         | Exponentiation               | `5 ** 2`             | `25`         |     |     |\n",
        "| **Comparison**    | `==`         | Equal to                     | `5 == 3`             | `False`      |     |     |\n",
        "|                   | `!=`         | Not equal                    | `5 != 3`             | `True`       |     |     |\n",
        "|                   | `>`          | Greater than                 | `5 > 3`              | `True`       |     |     |\n",
        "|                   | `<`          | Less than                    | `5 < 3`              | `False`      |     |     |\n",
        "|                   | `>=`         | Greater or equal             | `5 >= 5`             | `True`       |     |     |\n",
        "|                   | `<=`         | Less or equal                | `5 <= 3`             | `False`      |     |     |\n",
        "| **Logical**       | `and`        | True if both True            | `True and False`     | `False`      |     |     |\n",
        "|                   | `or`         | True if any True             | `True or False`      | `True`       |     |     |\n",
        "|                   | `not`        | Inverts True/False           | `not True`           | `False`      |     |     |\n",
        "| **Assignment**    | `=`          | Assign value                 | `x = 5`              | `x = 5`      |     |     |\n",
        "|                   | `+=`         | Add and assign               | `x += 3`             | `x = x + 3`  |     |     |\n",
        "|                   | `-=`         | Subtract and assign          | `x -= 3`             | `x = x - 3`  |     |     |\n",
        "|                   | `*=`         | Multiply and assign          | `x *= 3`             | `x = x * 3`  |     |     |\n",
        "|                   | `/=`         | Divide and assign            | `x /= 3`             | `x = x / 3`  |     |     |\n",
        "|                   | `//=`        | Floor divide and assign      | `x //= 3`            | `x = x // 3` |     |     |\n",
        "|                   | `%=`         | Modulus and assign           | `x %= 3`             | `x = x % 3`  |     |     |\n",
        "|                   | `**=`        | Exponent and assign          | `x **= 3`            | `x = x ** 3` |     |     |\n",
        "| **Bitwise**       | `&`          | AND                          | `5 & 3`              | `1`          |     |     |\n",
        "|                   | \\`           | \\`                           | OR                   | \\`5          | 3\\` | `7` |\n",
        "|                   | `^`          | XOR                          | `5 ^ 3`              | `6`          |     |     |\n",
        "|                   | `~`          | NOT                          | `~5`                 | `-6`         |     |     |\n",
        "|                   | `<<`         | Left shift                   | `5 << 1`             | `10`         |     |     |\n",
        "|                   | `>>`         | Right shift                  | `5 >> 1`             | `2`          |     |     |\n",
        "| **Identity**      | `is`         | True if same object          | `a is b`             | `True/False` |     |     |\n",
        "|                   | `is not`     | True if not same object      | `a is not b`         | `True/False` |     |     |\n",
        "| **Membership**    | `in`         | True if value exists         | `'a' in 'apple'`     | `True`       |     |     |\n",
        "|                   | `not in`     | True if value does not exist | `'b' not in 'apple'` | `True`       |     |     |\n"
      ],
      "metadata": {
        "id": "oCqjfKgY3lwE"
      }
    },
    {
      "cell_type": "code",
      "source": [
        "#_______________________Example of Comparision Operator______________________\n",
        "\n",
        "\n",
        "#__________________________________Numeric_____________________\n",
        "\n",
        "print(\"_____________________numeric Comparision______________\")\n",
        "a = 10\n",
        "b = 20\n",
        "\n",
        "print(a == b)   # False\n",
        "print(a != b)   # True\n",
        "print(a > b)    # False\n",
        "print(a < b)    # True\n",
        "print(a >= 10)  # True\n",
        "print(b <= 15)  # False\n",
        "\n",
        "#_________________________________String________________________\n",
        "\n",
        "print(\"_____________________String Comparision______________\")\n",
        "\n",
        "print(\"apple\" == \"apple\")  # True\n",
        "print(\"apple\" < \"banana\")  # True (lexicographical order)\n",
        "\n",
        "print(\"______________________Chained Comparision____________\")\n",
        "\n",
        "x = 5\n",
        "print(1 < x < 10)   # True\n",
        "print(10 < x < 20)  # False\n",
        "\n"
      ],
      "metadata": {
        "id": "uNFjPBv-XG2J",
        "outputId": "61db0574-c947-4204-fa83-59c177db4627",
        "colab": {
          "base_uri": "https://localhost:8080/"
        }
      },
      "execution_count": 9,
      "outputs": [
        {
          "output_type": "stream",
          "name": "stdout",
          "text": [
            "_____________________numeric Comparision______________\n",
            "False\n",
            "True\n",
            "False\n",
            "True\n",
            "True\n",
            "False\n",
            "_____________________String Comparision______________\n",
            "True\n",
            "True\n",
            "______________________Chained Comparision____________\n",
            "True\n",
            "False\n"
          ]
        }
      ]
    },
    {
      "cell_type": "code",
      "source": [
        "### Basic Data Types:```python\n",
        "\n",
        "\n",
        "# Numeric Types\n",
        "integer_num = 42                    # int\n",
        "float_num = 3.14159                 # float\n",
        "complex_num = 2 + 3j                # complex\n",
        "\n",
        "# String Type\n",
        "single_quote = 'Hello'              # str\n",
        "double_quote = \"World\"              # str\n",
        "multiline_string = \"\"\"This is a\n",
        "multiline string\n",
        "in Python\"\"\"\n",
        "\n",
        "# Boolean Type\n",
        "is_python_fun = True                # bool\n",
        "is_difficult = False                # bool\n",
        "\n",
        "# None Type\n",
        "nothing = None                      # NoneType\n",
        "\n",
        "# Display types and values\n",
        "print(f\"Integer: {integer_num}, Type: {type(integer_num)}\")\n",
        "print(f\"Float: {float_num}, Type: {type(float_num)}\")\n",
        "print(f\"Complex: {complex_num}, Type: {type(complex_num)}\")\n",
        "print(f\"String: {single_quote}, Type: {type(single_quote)}\")\n",
        "print(f\"Boolean: {is_python_fun}, Type: {type(is_python_fun)}\")\n",
        "print(f\"None: {nothing}, Type: {type(nothing)}\")\n"
      ],
      "metadata": {
        "colab": {
          "base_uri": "https://localhost:8080/"
        },
        "id": "BplIsjOzRKOg",
        "outputId": "af16b00a-fec9-4287-ccfe-6b7b91885d78"
      },
      "execution_count": null,
      "outputs": [
        {
          "output_type": "stream",
          "name": "stdout",
          "text": [
            "Integer: 42, Type: <class 'int'>\n",
            "Float: 3.14159, Type: <class 'float'>\n",
            "Complex: (2+3j), Type: <class 'complex'>\n",
            "String: Hello, Type: <class 'str'>\n",
            "Boolean: True, Type: <class 'bool'>\n",
            "None: None, Type: <class 'NoneType'>\n"
          ]
        }
      ]
    },
    {
      "cell_type": "markdown",
      "source": [
        "**Variable Operations:```python**\n"
      ],
      "metadata": {
        "id": "zeSuFGc8Rvln"
      }
    },
    {
      "cell_type": "code",
      "source": [
        "\n",
        "# Variable Assignment\n",
        "x = 10\n",
        "y = 20\n",
        "name = \"Python\"\n",
        "\n",
        "# Multiple Assignment\n",
        "a, b, c = 1, 2, 3\n",
        "print(f\"a={a}, b={b}, c={c}\")\n",
        "\n",
        "# Same value to multiple variables\n",
        "x = y = z = 100\n",
        "print(f\"x={x}, y={y}, z={z}\")\n",
        "\n",
        "# Swapping variables\n",
        "x, y = 20, 10\n",
        "print(f\"Before swap: x={x}, y={y}\")\n",
        "x, y = y, x\n",
        "print(f\"After swap: x={x}, y={y}\")\n",
        "\n",
        "# Dynamic typing\n",
        "var = 42        # int\n",
        "print(f\"var is {type(var)}: {var}\")\n",
        "var = \"Hello\"   # str\n",
        "print(f\"var is {type(var)}: {var}\")\n",
        "var = [1, 2, 3] # list\n",
        "print(f\"var is {type(var)}: {var}\")\n",
        "\n",
        "\n"
      ],
      "metadata": {
        "colab": {
          "base_uri": "https://localhost:8080/"
        },
        "id": "nNAw5n_zReAo",
        "outputId": "9d48885a-e58b-436c-d9c8-d2214ecd20b3"
      },
      "execution_count": null,
      "outputs": [
        {
          "output_type": "stream",
          "name": "stdout",
          "text": [
            "a=1, b=2, c=3\n",
            "x=100, y=100, z=100\n",
            "Before swap: x=20, y=10\n",
            "After swap: x=10, y=20\n",
            "var is <class 'int'>: 42\n",
            "var is <class 'str'>: Hello\n",
            "var is <class 'list'>: [1, 2, 3]\n"
          ]
        }
      ]
    },
    {
      "cell_type": "code",
      "source": [
        "#_____________________________Numeric Types_______________________\n",
        "\n",
        "# Integer (int)\n",
        "age = 25\n",
        "print(age, type(age))  # 25 <class 'int'>\n",
        "\n",
        "# Float\n",
        "price = 99.99\n",
        "print(price, type(price))  # 99.99 <class 'float'>\n",
        "\n",
        "# Complex\n",
        "z = 2 + 3j\n",
        "print(z, type(z))  # (2+3j) <class 'complex'>\n",
        "\n",
        "#_____________________________Sequence Types____________________________\n",
        "\n",
        "# String (str)\n",
        "greeting = \"Hello Python\"\n",
        "print(greeting, type(greeting))  # Hello Python <class 'str'>\n",
        "\n",
        "# List\n",
        "fruits = [\"apple\", \"banana\", \"cherry\"]\n",
        "print(fruits, type(fruits))  # ['apple', 'banana', 'cherry'] <class 'list'>\n",
        "\n",
        "# Tuple\n",
        "coordinates = (10, 20)\n",
        "print(coordinates, type(coordinates))  # (10, 20) <class 'tuple'>\n",
        "\n",
        "\n",
        "#_____________________________Set Types______________________________\n",
        "\n",
        "# Set (unordered, unique values)\n",
        "unique_nums = {1, 2, 3, 3}\n",
        "print(unique_nums, type(unique_nums))  # {1, 2, 3} <class 'set'>\n",
        "\n",
        "# Frozenset (immutable set)\n",
        "frozen = frozenset([1, 2, 3, 2])\n",
        "print(frozen, type(frozen))  # frozenset({1, 2, 3}) <class 'frozenset'>\n",
        "\n",
        "#_____________________Mapping Type________________________________-\n",
        "\n",
        "# Dictionary\n",
        "student = {\"name\": \"Bob\", \"age\": 21, \"grade\": \"A\"}\n",
        "print(student, type(student))  # {'name': 'Bob', 'age': 21, 'grade': 'A'} <class 'dict'>\n",
        "\n",
        "\n",
        "#________________________Boolean Type_________________________\n",
        "\n",
        "# Bytes\n",
        "data = b\"Hello\"\n",
        "print(data, type(data))  # b'Hello' <class 'bytes'>\n",
        "\n",
        "# Bytearray (mutable bytes)\n",
        "arr = bytearray([65, 66, 67])\n",
        "print(arr, type(arr))  # bytearray(b'ABC') <class 'bytearray'>\n",
        "\n",
        "# Memoryview (view of bytes in memory)\n",
        "mv = memoryview(b\"Hello\")\n",
        "print(mv, type(mv))  # <memory at ...> <class 'memoryview'>\n",
        "\n",
        "\n"
      ],
      "metadata": {
        "colab": {
          "base_uri": "https://localhost:8080/"
        },
        "id": "gghFm4BYy4aF",
        "outputId": "5a1d302d-5587-422c-c410-cd47b6831c79"
      },
      "execution_count": 32,
      "outputs": [
        {
          "output_type": "stream",
          "name": "stdout",
          "text": [
            "25 <class 'int'>\n",
            "99.99 <class 'float'>\n",
            "(2+3j) <class 'complex'>\n",
            "Hello Python <class 'str'>\n",
            "['apple', 'banana', 'cherry'] <class 'list'>\n",
            "(10, 20) <class 'tuple'>\n",
            "{1, 2, 3} <class 'set'>\n",
            "frozenset({1, 2, 3}) <class 'frozenset'>\n",
            "{'name': 'Bob', 'age': 21, 'grade': 'A'} <class 'dict'>\n",
            "b'Hello' <class 'bytes'>\n",
            "bytearray(b'ABC') <class 'bytearray'>\n",
            "<memory at 0x786e80b0a080> <class 'memoryview'>\n"
          ]
        }
      ]
    },
    {
      "cell_type": "markdown",
      "source": [
        "**String Operations:**"
      ],
      "metadata": {
        "id": "CfoDdhQaSNwg"
      }
    },
    {
      "cell_type": "code",
      "source": [
        "# String creation and manipulation\n",
        "first_name = \"John\"\n",
        "last_name = \"Doe\"\n",
        "\n",
        "# String concatenation\n",
        "full_name = first_name + \" \" + last_name\n",
        "print(f\"Full name: {full_name}\")\n",
        "\n",
        "# String formatting methods\n",
        "age = 25\n",
        "\n",
        "# f-strings (Python 3.6+) - Recommended\n",
        "message1 = f\"My name is {full_name} and I am {age} years old\"\n",
        "\n",
        "# .format() method\n",
        "message2 = \"My name is {} and I am {} years old\".format(full_name, age)\n",
        "\n",
        "# % formatting (older method)\n",
        "message3 = \"My name is %s and I am %d years old\" % (full_name, age)\n",
        "\n",
        "print(message1)\n",
        "print(message2)\n",
        "print(message3)\n",
        "\n",
        "# String methods\n",
        "text = \"  Python Programming  \"\n",
        "print(f\"Original: '{text}'\")\n",
        "print(f\"Strip: '{text.strip()}'\")\n",
        "print(f\"Upper: '{text.upper()}'\")\n",
        "print(f\"Lower: '{text.lower()}'\")\n",
        "print(f\"Title: '{text.title()}'\")\n",
        "print(f\"Replace: '{text.replace('Python', 'Java')}'\")\n",
        "\n",
        "# String indexing and slicing\n",
        "word = \"Python\"\n",
        "print(f\"First character: {word[0]}\")\n",
        "print(f\"Last character: {word[-1]}\")\n",
        "print(f\"Slice [1:4]: {word[1:4]}\")\n",
        "print(f\"Reverse: {word[::-1]}\")\n"
      ],
      "metadata": {
        "colab": {
          "base_uri": "https://localhost:8080/"
        },
        "id": "FouaJW-KST_A",
        "outputId": "75716b3d-448d-4c66-d167-d6e2b8ce90da"
      },
      "execution_count": null,
      "outputs": [
        {
          "output_type": "stream",
          "name": "stdout",
          "text": [
            "Full name: John Doe\n",
            "My name is John Doe and I am 25 years old\n",
            "My name is John Doe and I am 25 years old\n",
            "My name is John Doe and I am 25 years old\n",
            "Original: '  Python Programming  '\n",
            "Strip: 'Python Programming'\n",
            "Upper: '  PYTHON PROGRAMMING  '\n",
            "Lower: '  python programming  '\n",
            "Title: '  Python Programming  '\n",
            "Replace: '  Java Programming  '\n",
            "First character: P\n",
            "Last character: n\n",
            "Slice [1:4]: yth\n",
            "Reverse: nohtyP\n"
          ]
        }
      ]
    },
    {
      "cell_type": "code",
      "source": [
        "# _____________All String Operation in Python(String manupulation)___________________\n",
        "\n",
        "s = \"Hello, World!\"\n",
        "print(s[0],\n",
        "s[-1],\n",
        "s[1:4])\n",
        "\n",
        "# Searching & Checking\n",
        "print(\"Searching & Checking\")\n",
        "print(s.find(\"lo\"));\n",
        "print(s.replace(\"Hello\", \"Hi\"));\n",
        "print(s.upper());\n",
        "print(s.lower());\n",
        "print(s.split(\",\"))\n",
        "print(s.capitalize());\n",
        "print(s.swapcase());\n",
        "print(s.title())\n",
        "\n",
        "# Cleaning & Formatting\n",
        "s.strip()             # Remove spaces\n",
        "s.lstrip(), s.rstrip()\n",
        "s.lower()             # 'python'\n",
        "s.upper()             # 'PYTHON'\n",
        "s.capitalize()        # 'Python'\n",
        "s.title()             # 'Python Is Fun'\n",
        "s.replace(\"World\", \"Python\")  # 'Hello, Python!\n",
        "\n",
        "#Testing Strings\n",
        "s.isalpha()      # Only letters?\n",
        "s.isdigit()      # Only digits?\n",
        "s.isalnum()      # Letters and digits?\n",
        "s.isspace()      # Only whitespace?\n",
        "s.isupper()\n",
        "s.islower()"
      ],
      "metadata": {
        "id": "drCO63m2V2zZ"
      },
      "execution_count": null,
      "outputs": []
    },
    {
      "cell_type": "code",
      "source": [
        "# ___________________________All String Operation in Python(String manupulation)___________________\n",
        "s = \"Hello, World!\"\n",
        "print(s[0],\n",
        "s[-1],\n",
        "s[1:4])\n",
        "\n",
        "# Searching & Checking\n",
        "print(\"Searching & Checking\")\n",
        "print(s.find(\"lo\"));\n",
        "print(s.replace(\"Hello\", \"Hi\"));\n",
        "print(s.upper());\n",
        "print(s.lower());\n",
        "print(s.split(\",\"))\n",
        "print(s.capitalize());\n",
        "print(s.swapcase());\n",
        "print(s.title())\n",
        "\n",
        "# Cleaning & Formatting\n",
        "s.strip()             # Remove spaces\n",
        "s.lstrip(), s.rstrip()\n",
        "s.lower()             # 'python'\n",
        "s.upper()             # 'PYTHON'\n",
        "s.capitalize()        # 'Python'\n",
        "s.title()             # 'Python Is Fun'\n",
        "s.replace(\"World\", \"Python\")  # 'Hello, Python!\n",
        "\n",
        "#Testing Strings\n",
        "s.isalpha()      # Only letters?\n",
        "s.isdigit()      # Only digits?\n",
        "s.isalnum()      # Letters and digits?\n",
        "s.isspace()      # Only whitespace?\n",
        "s.isupper()\n",
        "s.islower()"
      ],
      "metadata": {
        "colab": {
          "base_uri": "https://localhost:8080/"
        },
        "id": "q2UDltx_BVDa",
        "outputId": "f09261b2-86d6-4c14-b7c7-4596678327e6"
      },
      "execution_count": 1,
      "outputs": [
        {
          "output_type": "stream",
          "name": "stdout",
          "text": [
            "H ! ell\n",
            "Searching & Checking\n",
            "3\n",
            "Hi, World!\n",
            "HELLO, WORLD!\n",
            "hello, world!\n",
            "['Hello', ' World!']\n",
            "Hello, world!\n",
            "hELLO, wORLD!\n",
            "Hello, World!\n"
          ]
        },
        {
          "output_type": "execute_result",
          "data": {
            "text/plain": [
              "False"
            ]
          },
          "metadata": {},
          "execution_count": 1
        }
      ]
    },
    {
      "cell_type": "markdown",
      "source": [
        "**Control Structures**"
      ],
      "metadata": {
        "id": "3DBZZ2M-SbIY"
      }
    },
    {
      "cell_type": "markdown",
      "source": [
        "**If-elif-else statement**"
      ],
      "metadata": {
        "id": "E9AXEt-SSqy_"
      }
    },
    {
      "cell_type": "code",
      "source": [
        "\n",
        "\n",
        "\n",
        "#____________________________ if-statement _________________\n",
        "x = 10\n",
        "if x > 5:\n",
        "    print(\"x is greater than 5\")\n",
        "#___________________________________________________________\n",
        "\n",
        "#____________________________ if-else statement _________________\n",
        "x = 3\n",
        "if x > 5:\n",
        "    print(\"x is greater than 5\")\n",
        "else:\n",
        "    print(\"x is not greater than 5\")\n",
        "#_________________________________________________________________\n",
        "\n",
        "\n",
        "#____________________________if-elif-else chain ___________\n",
        "x = 0\n",
        "if x > 0:\n",
        "    print(\"Positive number\")\n",
        "elif x == 0:\n",
        "    print(\"Zero\")\n",
        "else:\n",
        "    print(\"Negative number\")\n",
        "#_____________________________________________________________________\n",
        "#______________________________________Nested if_______________________\n",
        "x = 15\n",
        "if x > 10:\n",
        "    print(\"x is greater than 10\")\n",
        "    if x < 20:\n",
        "        print(\"x is less than 20\")\n",
        "#________________________________________________________________________\n",
        "\n",
        "#_________________________Funtion with Nested if_______________________\n",
        "\n",
        "def grade_calculator(score):\n",
        "    if score >= 90:\n",
        "        grade = \"A\"\n",
        "    elif score >= 80:\n",
        "        grade = \"B\"\n",
        "    elif score >= 70:\n",
        "        grade = \"C\"\n",
        "    elif score >= 60:\n",
        "        grade = \"D\"\n",
        "    else:\n",
        "        grade = \"F\"\n",
        "\n",
        "    return grade\n",
        "\n",
        "# Test the function\n",
        "test_scores = [95, 87, 76, 65, 45]\n",
        "for score in test_scores:\n",
        "    print(f\"Score: {score}, Grade: {grade_calculator(score)}\")\n"
      ],
      "metadata": {
        "colab": {
          "base_uri": "https://localhost:8080/"
        },
        "id": "22hZ3AJPSxZp",
        "outputId": "4c98069c-8ec5-4449-8d38-1bc1f34239c0"
      },
      "execution_count": null,
      "outputs": [
        {
          "output_type": "stream",
          "name": "stdout",
          "text": [
            "x is greater than 5\n",
            "x is not greater than 5\n",
            "Zero\n",
            "x is greater than 10\n",
            "x is less than 20\n",
            "Score: 95, Grade: A\n",
            "Score: 87, Grade: B\n",
            "Score: 76, Grade: C\n",
            "Score: 65, Grade: D\n",
            "Score: 45, Grade: F\n"
          ]
        }
      ]
    },
    {
      "cell_type": "markdown",
      "source": [
        "**For loops**"
      ],
      "metadata": {
        "id": "DjsCnRP3S_Fx"
      }
    },
    {
      "cell_type": "code",
      "source": [
        "print(\"=== For Loops ===\")\n",
        "\n",
        "#____________________Range with for loop___________________________\n",
        "\n",
        "print(\"Counting 1 to 5:\")\n",
        "for i in range(1, 6):\n",
        "    print(f\"Count: {i}\")\n",
        "\n",
        "#_____________________Iterating over a list________________________\n",
        "\n",
        "colors = [\"red\", \"green\", \"blue\", \"yellow\"]\n",
        "print(\"\\nColors:\")\n",
        "for color in colors:\n",
        "    print(f\"Color: {color}\")\n",
        "\n",
        "# ___________________________________Enumerate for index and value\n",
        "print(\"\\nColors with index:\")\n",
        "for index, color in enumerate(colors):\n",
        "    print(f\"Index {index}: {color}\")\n"
      ],
      "metadata": {
        "colab": {
          "base_uri": "https://localhost:8080/"
        },
        "id": "FOoleMGrS993",
        "outputId": "0fce7edb-e185-4306-9dcc-5fc9a27ef85c",
        "collapsed": true
      },
      "execution_count": null,
      "outputs": [
        {
          "output_type": "stream",
          "name": "stdout",
          "text": [
            "=== For Loops ===\n",
            "Counting 1 to 5:\n",
            "Count: 1\n",
            "Count: 2\n",
            "Count: 3\n",
            "Count: 4\n",
            "Count: 5\n",
            "\n",
            "Colors:\n",
            "Color: red\n",
            "Color: green\n",
            "Color: blue\n",
            "Color: yellow\n",
            "\n",
            "Colors with index:\n",
            "Index 0: red\n",
            "Index 1: green\n",
            "Index 2: blue\n",
            "Index 3: yellow\n"
          ]
        }
      ]
    },
    {
      "cell_type": "markdown",
      "source": [
        "**While loops**"
      ],
      "metadata": {
        "id": "32YE1Zc_TfGY"
      }
    },
    {
      "cell_type": "code",
      "source": [
        "#_________________While loop with user input____________\n",
        "\n",
        "print(\"\\nGuess the number (1-10):\")\n",
        "secret_number = 7\n",
        "guess = 0\n",
        "\n",
        "while guess != secret_number:\n",
        "    try:\n",
        "        guess = int(input(\"Enter your guess: \"))\n",
        "        if guess < secret_number:\n",
        "            print(\"Too low!\")\n",
        "        elif guess > secret_number:\n",
        "            print(\"Too high!\")\n",
        "        else:\n",
        "            print(\"Congratulations! You guessed it!\")\n",
        "    except ValueError:\n",
        "        print(\"Please enter a valid number\")\n"
      ],
      "metadata": {
        "colab": {
          "base_uri": "https://localhost:8080/"
        },
        "id": "fQPmXRNTT2FB",
        "outputId": "c2ae884d-73dd-4b76-a1ca-e6ab697f9d07"
      },
      "execution_count": null,
      "outputs": [
        {
          "output_type": "stream",
          "name": "stdout",
          "text": [
            "\n",
            "Guess the number (1-10):\n",
            "Enter your guess: 7\n",
            "Congratulations! You guessed it!\n"
          ]
        }
      ]
    },
    {
      "cell_type": "markdown",
      "source": [
        "**Loop control statements**"
      ],
      "metadata": {
        "id": "-mkyCSSiUPeT"
      }
    },
    {
      "cell_type": "code",
      "source": [
        "print(\"\\n=== Loop Control ===\")\n",
        "\n",
        "#_______________________________________Break statement\n",
        "\n",
        "print(\"Finding first even number:\")\n",
        "numbers = [1, 3, 7, 8, 9, 10]\n",
        "for num in numbers:\n",
        "    if num % 2 == 0:\n",
        "        print(f\"First even number: {num}\")\n",
        "        break\n",
        "    print(f\"Odd number: {num}\")\n"
      ],
      "metadata": {
        "colab": {
          "base_uri": "https://localhost:8080/"
        },
        "id": "k0Ij9s3dUXva",
        "outputId": "cbeb9360-3437-47ac-846f-946cb3d58e58",
        "collapsed": true
      },
      "execution_count": null,
      "outputs": [
        {
          "output_type": "stream",
          "name": "stdout",
          "text": [
            "\n",
            "=== Loop Control ===\n",
            "Finding first even number:\n",
            "Odd number: 1\n",
            "Odd number: 3\n",
            "Odd number: 7\n",
            "First even number: 8\n"
          ]
        }
      ]
    },
    {
      "cell_type": "code",
      "source": [
        "#____________________________________Continue statement________________________\n",
        "\n",
        "\n",
        "print(\"\\nPrinting only odd numbers:\")\n",
        "for num in range(1, 11):\n",
        "    if num % 2 == 0:\n",
        "        continue  # Skip even numbers\n",
        "    print(f\"Odd: {num}\")\n"
      ],
      "metadata": {
        "colab": {
          "base_uri": "https://localhost:8080/"
        },
        "id": "77TTc_lnU6RK",
        "outputId": "73ebfcf2-0403-472b-ffa0-46390339ca92"
      },
      "execution_count": null,
      "outputs": [
        {
          "output_type": "stream",
          "name": "stdout",
          "text": [
            "\n",
            "Printing only odd numbers:\n",
            "Odd: 1\n",
            "Odd: 3\n",
            "Odd: 5\n",
            "Odd: 7\n",
            "Odd: 9\n"
          ]
        }
      ]
    },
    {
      "cell_type": "code",
      "source": [
        "# _____________________________________Nested loops___________________________\n",
        "\n",
        "\n",
        "print(\"\\nMultiplication table:\")\n",
        "for i in range(1, 4):\n",
        "    for j in range(1, 4):\n",
        "        print(f\"{i} × {j} = {i * j}\", end=\"\\t\")\n",
        "    print()  # New line after each row\n"
      ],
      "metadata": {
        "colab": {
          "base_uri": "https://localhost:8080/"
        },
        "id": "mXEtfgOGVD3O",
        "outputId": "0b9e1bca-1e82-4e0f-9950-ff5f4b34f94a"
      },
      "execution_count": null,
      "outputs": [
        {
          "output_type": "stream",
          "name": "stdout",
          "text": [
            "\n",
            "Multiplication table:\n",
            "1 × 1 = 1\t1 × 2 = 2\t1 × 3 = 3\t\n",
            "2 × 1 = 2\t2 × 2 = 4\t2 × 3 = 6\t\n",
            "3 × 1 = 3\t3 × 2 = 6\t3 × 3 = 9\t\n"
          ]
        }
      ]
    },
    {
      "cell_type": "markdown",
      "source": [
        "***Break statement***\n"
      ],
      "metadata": {
        "id": "8SdPyWvd09jn"
      }
    },
    {
      "cell_type": "markdown",
      "source": [
        "***Function Basics in Python***"
      ],
      "metadata": {
        "id": "bmp0d8pMVL_p"
      }
    },
    {
      "cell_type": "code",
      "source": [
        "# __________________________________Funtion in Python _______________\n",
        "\n",
        "def Squre_number(number):\n",
        "    return number * number\n",
        "\n",
        "result = Squre_number(int(input(\"Enter your input: \")))\n",
        "print(result)\n",
        "\n",
        "# Return type of funtion\n",
        "def add_numbers(a, b):\n",
        "    return a + b\n",
        "result = add_numbers( 5, 3)\n",
        "print(result)"
      ],
      "metadata": {
        "colab": {
          "base_uri": "https://localhost:8080/"
        },
        "id": "QsQD9YcM5UFF",
        "outputId": "1f4ab113-b1b5-455d-d43a-c1ad4135d468"
      },
      "execution_count": null,
      "outputs": [
        {
          "output_type": "stream",
          "name": "stdout",
          "text": [
            "Enter your input: 12\n",
            "144\n",
            "8\n"
          ]
        }
      ]
    },
    {
      "cell_type": "markdown",
      "source": [
        "**List in Python**\n",
        "\n",
        "        A list is a built-in data structure in Python that allows you to store a collection of items\n",
        "        Ordered (items maintain their position)\n",
        "        Mutable (can be changed after creation)\n",
        "        Can contain duplicates\n",
        "        Can contain mixed types\n",
        "\n",
        "        Example :\n",
        "        mixed_list = [1, \"apple\", 3.14, True]\n",
        "\n",
        "        #_________Loop Through List______________\n",
        "        \n",
        "            for fruit in mixed_list:\n",
        "                print(fruit)"
      ],
      "metadata": {
        "id": "8ASAQocE5oG2"
      }
    },
    {
      "cell_type": "markdown",
      "source": [
        "**Python List Functions and Methods**\n",
        "\n",
        "    | **Function / Method** | **Description**                          | **Example**            | **Result / Note**             |\n",
        "    | --------------------- | ---------------------------------------- | ---------------------- | ----------------------------- |\n",
        "    | `append(x)`           | Adds an item to the end of the list      | `lst.append(4)`        | `[1, 2, 3, 4]`                |\n",
        "    | `extend(iterable)`    | Adds all elements from another iterable  | `lst.extend([5, 6])`   | `[1, 2, 3, 4, 5, 6]`          |\n",
        "    | `insert(i, x)`        | Inserts an item at index `i`             | `lst.insert(1, 10)`    | `[1, 10, 2, 3, 4]`            |\n",
        "    | `remove(x)`           | Removes first occurrence of `x`          | `lst.remove(3)`        | `[1, 2, 4]`                   |\n",
        "    | `pop([i])`            | Removes & returns item at index `i`      | `lst.pop(2)`           | Returns item, list is updated |\n",
        "    | `clear()`             | Removes all items                        | `lst.clear()`          | `[]`                          |\n",
        "    | `index(x)`            | Returns index of first occurrence of `x` | `lst.index(2)`         | `1`                           |\n",
        "    | `count(x)`            | Counts occurrences of `x`                | `lst.count(2)`         | `1`                           |\n",
        "    | `sort()`              | Sorts list in-place                      | `lst.sort()`           | `lst` is sorted               |\n",
        "    | `sorted(lst)`         | Returns new sorted list                  | `sorted(lst)`          | Doesn’t change original list  |\n",
        "    | `reverse()`           | Reverses list in-place                   | `lst.reverse()`        | `lst` is reversed             |\n",
        "    | `reversed(lst)`       | Returns reversed iterator                | `list(reversed(lst))`  | Returns a new reversed list   |\n",
        "    | `copy()`              | Returns a shallow copy                   | `new_lst = lst.copy()` | `new_lst` is a copy           |\n",
        "    | `len(lst)`            | Returns number of items in list          | `len(lst)`             | `5` (example)                 |\n",
        "    | `sum(lst)`            | Returns sum of all elements              | `sum([1, 2, 3])`       | `6`                           |\n",
        "    | `min(lst)`            | Returns smallest item                    | `min([3, 1, 2])`       | `1`                           |\n",
        "    | `max(lst)`            | Returns largest item                     | `max([3, 1, 2])`       | `3`                           |\n",
        "    | `in`                  | Checks if item exists                    | `3 in lst`             | `True` / `False`              |\n",
        "    | `not in`              | Checks if item does not exist            | `10 not in lst`        | `True` / `False`              |\n",
        "    | `list()`              | Converts iterable to list                | `list(\"abc\")`          | `['a', 'b', 'c']`             |\n",
        "\n",
        "\n",
        "    **Useful Built-in Functions with Lists**\n",
        "\n",
        "    | **Function**        | **Description**                  | **Example**                    |\n",
        "    | ------------------- | -------------------------------- | ------------------------------ |\n",
        "    | `enumerate(lst)`    | Returns index & value as tuple   | `for i, val in enumerate(lst)` |\n",
        "    | `zip(lst1, lst2)`   | Combines multiple lists          | `zip([1,2], ['a','b'])`        |\n",
        "    | `map(func, lst)`    | Applies function to each element | `map(str.upper, ['a','b'])`    |\n",
        "    | `filter(func, lst)` | Filters items                    | `filter(lambda x: x>2, lst)`   |\n"
      ],
      "metadata": {
        "id": "y8Id64GcEZas"
      }
    },
    {
      "cell_type": "code",
      "source": [
        "# ______________________Get all the element using for loop in python____________\n",
        "\n",
        "#_________________________Define a list\n",
        "\n",
        "fruits = [\"apple\", \"banana\", \"cherry\", \"orange\"]\n",
        "\n",
        "# _______________________Loop through the list__________________________________\n",
        "\n",
        "for fruit in fruits:\n",
        "    print(fruit)\n",
        "\n",
        "#______________________Example with Index____________________\n",
        "\n",
        "fruits = [\"apple\", \"banana\", \"cherry\", \"orange\"]\n",
        "for index in range(len(fruits)):\n",
        "    print(f\"Index {index}: {fruits[index]}\")\n",
        "\n",
        "#______________________Using enumerate()\n",
        "\n",
        "fruits = [\"apple\", \"banana\", \"cherry\", \"orange\"]\n",
        "\n",
        "for i, fruit in enumerate(fruits):\n",
        "    print(f\"{i}: {fruit}\")"
      ],
      "metadata": {
        "colab": {
          "base_uri": "https://localhost:8080/"
        },
        "id": "5b5ONjFPFaug",
        "outputId": "7b3cf199-4944-4747-eacb-d1d88de5524b"
      },
      "execution_count": null,
      "outputs": [
        {
          "output_type": "stream",
          "name": "stdout",
          "text": [
            "apple\n",
            "banana\n",
            "cherry\n",
            "orange\n",
            "Index 0: apple\n",
            "Index 1: banana\n",
            "Index 2: cherry\n",
            "Index 3: orange\n",
            "0: apple\n",
            "1: banana\n",
            "2: cherry\n",
            "3: orange\n"
          ]
        }
      ]
    },
    {
      "cell_type": "code",
      "source": [
        "#_____________________________All List Operations___________-\n",
        "\n",
        "print(\"___________Define____________\")\n",
        "empty_list = []\n",
        "print(empty_list)\n",
        "numbers = [1, 2, 3]\n",
        "print(numbers)\n",
        "mixeds = [1, \"hello\", 3.14, True]\n",
        "print(mixeds)\n",
        "nested = [1, [2, 3], [4, 5]]\n",
        "\n",
        "print(\"_________________________Iterate _________________\")\n",
        "\n",
        "for mixed in mixeds:\n",
        "    print(mixed)\n",
        "\n",
        "\n",
        "print(\"________________________Iterate with index____________________\")\n",
        "\n",
        "fruits = [\"apple\", \"banana\", \"cherry\", \"orange\"]\n",
        "for index in range(len(fruits)):\n",
        "    print(f\"Index {index}: {fruits[index]}\")\n",
        "\n",
        "\n",
        "print(\"_______________________Accessing Elements__________\")\n",
        "\n",
        "my_list = ['a', 'b', 'c', 'd']\n",
        "\n",
        "print(my_list[0])      # 'a'\n",
        "print(my_list[-1])     # 'd'\n",
        "print(my_list[1:3])    # ['b', 'c']\n",
        "\n",
        "\n",
        "print(\"______________________Modifying Elements__________\")\n",
        "\n",
        "my_list[1] = 'z'\n",
        "print(my_list[1])\n",
        "\n",
        "print(\"_____________________ Adding Elements_____________\")\n",
        "\n",
        "my_list.append('e')             # Add to end\n",
        "my_list.insert(2, 'x')          # Insert at position\n",
        "my_list.extend(['f', 'g'])      # Add multiple elements\n",
        "print(my_list)\n",
        "\n",
        "print(\"__________________Removing Elements__________________\")\n",
        "\n",
        "my_list.insert(1, 'b')\n",
        "my_list.remove('b')        # Remove by value\n",
        "item = my_list.pop()       # Remove last element\n",
        "item = my_list.pop(1)\n",
        "my_list.insert(1, 'b')       # Remove by index\n",
        "print(my_list)\n",
        "\n",
        "\n",
        "print(\"________________-Searching / Checking________\")\n",
        "\n",
        "'x' in my_list              # Check existence\n",
        "my_list.index('b')          # Find index of element\n",
        "my_list.count('a')          # Count occurrences\n",
        "print(my_list)\n",
        "\n",
        "print(\"_____________________Looping Through a List ___________________\")\n",
        "\n",
        "for item in my_list:\n",
        "    print(item)\n",
        "\n",
        "# With index\n",
        "for i, val in enumerate(my_list):\n",
        "    print(i, val)\n",
        "\n",
        "\n",
        "print(\"___________________Sorting and Reversing_____________\")\n",
        "\n",
        "numbers = [3, 1, 4, 2]\n",
        "\n",
        "numbers.sort()              # Ascending\n",
        "print(numbers)\n",
        "numbers.sort(reverse=True)  # Descending\n",
        "print(numbers)\n",
        "numbers.reverse()           # Reverse order\n",
        "print(numbers)\n",
        "\n",
        "sorted_list = sorted(numbers)\n",
        "\n",
        "print(\"___________________Copying a List______________________________\")\n",
        "\n",
        "copy1 = my_list.copy()\n",
        "copy2 = my_list[:]\n",
        "import copy\n",
        "copy3 = copy.deepcopy(my_list)  # For nested lists\n",
        "\n",
        "print(\" ____________List Comprehension_______________\")\n",
        "\n",
        "squares = [x**2 for x in range(5)]\n",
        "evens = [x for x in range(10) if x % 2 == 0]\n",
        "\n",
        "print(squares)\n",
        "print(evens)\n",
        "\n",
        "print(\"_____________Basic Functions_____________________\")\n",
        "\n",
        "len(my_list)          # Length\n",
        "print(len(my_list))\n",
        "min(numbers)          # Minimum\n",
        "print(min(numbers))\n",
        "max(numbers)          # Maximum\n",
        "print(max(numbers))\n",
        "sum(numbers)          # Sum of elements\n",
        "print(sum(numbers))\n",
        "\n",
        "print(\"_________________________________Joining and Splitting____________\")\n",
        "\n",
        "print(\"___________________________Joining list into string_______________\")\n",
        "\n",
        "words = ['Hello', 'World']\n",
        "sentence = ' '.join(words)\n",
        "\n",
        "# Splitting string into list\n",
        "text = \"a,b,c\"\n",
        "letters = text.split(\",\")\n",
        "\n",
        "print(words)\n",
        "print(sentence)\n",
        "print(letters)\n",
        "\n",
        "\n",
        "print(\"________________________________Nested Lists (2D Lists)______________\")\n",
        "\n",
        "matrix = [[1, 2], [3, 4]]\n",
        "print(matrix[0][1])  # 2\n",
        "\n",
        "# Loop through 2D list\n",
        "for row in matrix:\n",
        "    for item in row:\n",
        "        print(item)\n",
        "\n",
        "\n",
        "print(\"___________________Delete all the elements _________________\")\n",
        "\n",
        "del my_list[0]             # Delete by index\n",
        "print(my_list)\n",
        "my_list.clear()            # Remove all elements\n",
        "print(my_list)\n",
        "\n"
      ],
      "metadata": {
        "collapsed": true,
        "colab": {
          "base_uri": "https://localhost:8080/"
        },
        "id": "L8nJFyFoNOls",
        "outputId": "1c22ba35-77a3-42a6-f55a-ba5c833bbfda"
      },
      "execution_count": null,
      "outputs": [
        {
          "output_type": "stream",
          "name": "stdout",
          "text": [
            "___________Define____________\n",
            "[]\n",
            "[1, 2, 3]\n",
            "[1, 'hello', 3.14, True]\n",
            "_________________________Iterate _________________\n",
            "1\n",
            "hello\n",
            "3.14\n",
            "True\n",
            "________________________Iterate with index____________________\n",
            "Index 0: apple\n",
            "Index 1: banana\n",
            "Index 2: cherry\n",
            "Index 3: orange\n",
            "_______________________Accessing Elements__________\n",
            "a\n",
            "d\n",
            "['b', 'c']\n",
            "______________________Modifying Elements__________\n",
            "z\n",
            "_____________________ Adding Elements_____________\n",
            "['a', 'z', 'x', 'c', 'd', 'e', 'f', 'g']\n",
            "__________________Removing Elements__________________\n",
            "['a', 'b', 'x', 'c', 'd', 'e', 'f']\n",
            "________________-Searching / Checking________\n",
            "['a', 'b', 'x', 'c', 'd', 'e', 'f']\n",
            "_____________________Looping Through a List ___________________\n",
            "a\n",
            "b\n",
            "x\n",
            "c\n",
            "d\n",
            "e\n",
            "f\n",
            "0 a\n",
            "1 b\n",
            "2 x\n",
            "3 c\n",
            "4 d\n",
            "5 e\n",
            "6 f\n",
            "___________________Sorting and Reversing_____________\n",
            "[1, 2, 3, 4]\n",
            "[4, 3, 2, 1]\n",
            "[1, 2, 3, 4]\n",
            "___________________Copying a List______________________________\n",
            " ______________________________List Comprehension_______________\n",
            "[0, 1, 4, 9, 16]\n",
            "[0, 2, 4, 6, 8]\n",
            "___________________________________Basic Functions_____________________\n",
            "7\n",
            "1\n",
            "4\n",
            "10\n",
            "_________________________________Joining and Splitting____________\n",
            "___________________________Joining list into string_______________\n",
            "['Hello', 'World']\n",
            "Hello World\n",
            "['a', 'b', 'c']\n",
            "________________________________Nested Lists (2D Lists)______________\n",
            "2\n",
            "1\n",
            "2\n",
            "3\n",
            "4\n",
            "___________________Delete all the elements _________________\n",
            "['b', 'x', 'c', 'd', 'e', 'f']\n",
            "[]\n"
          ]
        }
      ]
    },
    {
      "cell_type": "code",
      "source": [
        "# _________________________Example of List Operation___________________________\n",
        "\n",
        "list1 = [ 'Python', 'Java', 123, 45.6]\n",
        "list2 = [ 'Intellipaat', False, 34.6, 78]\n",
        "# Prints a complete list\n",
        "print (list1)\n",
        "# Prints the first element of the list\n",
        "print (list1[0])\n",
        "# Prints elements starting from the 2nd till the 3rd\n",
        "print (list1[1:3])\n",
        "# Prints elements starting from the 3rd element\n",
        "print (list2[2:])\n",
        "# Prints list twice\n",
        "print (list2 * 2)\n",
        "# Prints concatenated lists\n",
        "print (list1 + list2)"
      ],
      "metadata": {
        "collapsed": true,
        "id": "iIcK6_K1SI8w",
        "outputId": "4b0791f3-b1fc-4a2d-b1f5-06d9ae73558d",
        "colab": {
          "base_uri": "https://localhost:8080/"
        }
      },
      "execution_count": null,
      "outputs": [
        {
          "output_type": "stream",
          "name": "stdout",
          "text": [
            "['Python', 'Java', 123, 45.6]\n",
            "Python\n",
            "['Java', 123]\n",
            "[34.6, 78]\n",
            "['Intellipaat', False, 34.6, 78, 'Intellipaat', False, 34.6, 78]\n",
            "['Python', 'Java', 123, 45.6, 'Intellipaat', False, 34.6, 78]\n"
          ]
        }
      ]
    },
    {
      "cell_type": "code",
      "source": [
        "# ________________________ List operation _____________________________\n",
        "my_list = [3, 1, 2]\n",
        "\n",
        "my_list.append(4)\n",
        "print(my_list)            # [3, 1, 2, 4]\n",
        "my_list.extend([5, 6,7 ])\n",
        "print(my_list)       # [3, 1, 2, 4, 5, 6,7]\n",
        "my_list.insert(2, 10)\n",
        "print(my_list)         # [3, 1, 10, 2, 4, 5, 6]\n",
        "my_list.remove(10)           # [3, 1, 2, 4, 5, 6]\n",
        "item = my_list.pop()         # Returns 6, list is now [3, 1, 2, 4, 5]\n",
        "print(my_list)\n",
        "index = my_list.index(4)     # Returns 3\n",
        "print(my_list)\n",
        "count = my_list.count(1)     # Returns 1\n",
        "print(my_list)\n",
        "my_list.sort()               # [1, 2, 3, 4, 5]\n",
        "print(my_list)\n",
        "my_list.reverse()            # [5, 4, 3, 2, 1]\n",
        "print(my_list)\n",
        "copy_list = my_list.copy()   # copy_list is [5, 4, 3, 2, 1]\n",
        "print(my_list)\n",
        "my_list.clear()              # my_list is now []\n",
        "print(my_list)"
      ],
      "metadata": {
        "id": "0avbwzrRSRET",
        "outputId": "717978d1-bfcf-4c2a-ccc1-4e12c9137746",
        "colab": {
          "base_uri": "https://localhost:8080/"
        }
      },
      "execution_count": null,
      "outputs": [
        {
          "output_type": "stream",
          "name": "stdout",
          "text": [
            "[3, 1, 2, 4]\n",
            "[3, 1, 2, 4, 5, 6, 7]\n",
            "[3, 1, 10, 2, 4, 5, 6, 7]\n",
            "[3, 1, 2, 4, 5, 6]\n",
            "[3, 1, 2, 4, 5, 6]\n",
            "[3, 1, 2, 4, 5, 6]\n",
            "[1, 2, 3, 4, 5, 6]\n",
            "[6, 5, 4, 3, 2, 1]\n",
            "[6, 5, 4, 3, 2, 1]\n",
            "[]\n"
          ]
        }
      ]
    },
    {
      "cell_type": "code",
      "source": [
        "#________________________________List Comprehensions in Python_______________\n",
        "\n",
        "#_______________________________Simple Transformation_______________________\n",
        "\n",
        "nums = [1, 2, 3, 4, 5]\n",
        "squares = [x**2 for x in nums]\n",
        "print(squares)  # [1, 4, 9, 16, 25]\n",
        "\n",
        "#____________________________With Condition (Filtering)____________________\n",
        "\n",
        "even_nums = [x for x in nums if x % 2 == 0]\n",
        "print(even_nums)  # [2, 4]\n",
        "\n",
        "#_____________________________Using Strings____________________\n",
        "\n",
        "word = \"python\"\n",
        "letters = [char.upper() for char in word]\n",
        "print(letters)  # ['P', 'Y', 'T', 'H', 'O', 'N']\n",
        "\n",
        "#____________________________Nested Loops_________________\n",
        "\n",
        "pairs = [(x, y) for x in [1, 2] for y in [3, 4]]\n",
        "print(pairs)  # [(1, 3), (1, 4), (2, 3), (2, 4)]"
      ],
      "metadata": {
        "id": "g-gcpqTOVaG8",
        "outputId": "295bbad8-f30a-475c-ddfb-aef703838eb5",
        "colab": {
          "base_uri": "https://localhost:8080/"
        }
      },
      "execution_count": 5,
      "outputs": [
        {
          "output_type": "stream",
          "name": "stdout",
          "text": [
            "[1, 4, 9, 16, 25]\n",
            "[2, 4]\n",
            "['P', 'Y', 'T', 'H', 'O', 'N']\n",
            "[(1, 3), (1, 4), (2, 3), (2, 4)]\n"
          ]
        }
      ]
    },
    {
      "cell_type": "markdown",
      "source": [
        "**Tuple in Python**\n",
        "\n",
        "    A tuple is a built-in Python data structure used to store multiple items in a single variable —\n",
        "    just like a list — but with one major difference:\n",
        "    tuples are immutable, meaning their\n",
        "    contents cannot be changed once they are created.\n",
        "\n",
        "        mixed_tuple = (1, \"apple\", 3.14, True)\n",
        "        print(mixed_tuple[0])\n",
        "        print(mixed_tuple)"
      ],
      "metadata": {
        "id": "V9sBNFSSToZu"
      }
    },
    {
      "cell_type": "code",
      "source": [
        "# __________________________Tuple operation_____________________\n",
        "tuple = ( 'abcd', 34 , 4.56, )\n",
        "tuple2 = (45.5, 'intellipaat', 234)\n",
        "\n",
        "# Prints the complete tuple\n",
        "print (tuple)\n",
        "\n",
        "# Prints the first element of the tuple\n",
        "print (tuple[0])\n",
        "\n",
        "# Prints elements of the tuple starting from 2nd till 3rd\n",
        "print (tuple[1:3])\n",
        "\n",
        "# Prints elements of the tuple starting from 3rd element\n",
        "print (tuple[2:])\n",
        "\n",
        "# Prints the contents of the tuple twice\n",
        "print (tuple2 * 2)\n",
        "\n",
        "# Prints concatenated tuples\n",
        "print (tuple + tuple2)"
      ],
      "metadata": {
        "id": "2tzu7FvgUY1C",
        "outputId": "1c566cd5-a65e-4675-f56e-7cfb55445287",
        "colab": {
          "base_uri": "https://localhost:8080/"
        }
      },
      "execution_count": null,
      "outputs": [
        {
          "output_type": "stream",
          "name": "stdout",
          "text": [
            "('abcd', 34, 4.56)\n",
            "abcd\n",
            "(34, 4.56)\n",
            "(4.56,)\n",
            "(45.5, 'intellipaat', 234, 45.5, 'intellipaat', 234)\n",
            "('abcd', 34, 4.56, 45.5, 'intellipaat', 234)\n"
          ]
        }
      ]
    },
    {
      "cell_type": "markdown",
      "source": [
        "**Python dictionary**\n",
        "\n",
        "        A dictionary is a built-in Python data structure used to store data in key-value pairs.\n",
        "        Dictionaries are mutable, meaning their contents can be changed after creation.\n",
        "        Dictionaries are unordered"
      ],
      "metadata": {
        "id": "FRQNPT3eUoiO"
      }
    },
    {
      "cell_type": "code",
      "source": [
        "my_dict = {\n",
        "    \"name\": \"Alice\",\n",
        "    \"age\": 25,\n",
        "    \"city\": \"New York\"\n",
        "}\n",
        "print(my_dict[\"name\"])         # Output: Alice\n",
        "print(my_dict.get(\"age\"))      # Output: 25\n",
        "print(my_dict.get(\"gender\", \"Not found\"))  # Output: Not found\n",
        "\n",
        "# Out put with Key\n",
        "print(\"--------Out put with Key-----\")\n",
        "for key, value in my_dict.items():\n",
        "    print(key, \"->\", value)\n",
        "\n",
        "\n",
        "# _____________Creating a dictionary with nested data structures_____________\n",
        "# print(\"--------Creating a dictionary with nested data structures-----\")\n",
        "platform = {\n",
        "\"name\": \"Intellipaat\", # Platform name (string)\n",
        "\"category\": \"Education\", # Category of the platform\n",
        "\"courses\": [\"Data Science\", \"Cloud Computing\", \"Python\"],\n",
        "\"ratings\": {\n",
        "\"students\": 4.8,\n",
        "\"professionals\": 4.7\n",
        "},\n",
        "\"reviews\": [\"Excellent for upskilling\", \"Very informative\", \"Great mentors\"],\n",
        "}\n",
        "# Printing the entire complex data structure\n",
        "print(platform)\n",
        "\n",
        "\n",
        "#_______________________Initialize an empty dictionary\n",
        "d = {}\n",
        "d = {1: 'Python', 2: 'C++', 3: 'Java'}\n",
        "print(d)\n",
        "# creating dictionary using dict() constructor\n",
        "d1 = dict({1: 'Python', 2: 'C++', 3: 'Java'})\n",
        "print(d1)"
      ],
      "metadata": {
        "id": "oPqG1O4TVd-C",
        "outputId": "a0288e3b-9716-4988-c286-587a60bf66bf",
        "colab": {
          "base_uri": "https://localhost:8080/"
        }
      },
      "execution_count": null,
      "outputs": [
        {
          "output_type": "stream",
          "name": "stdout",
          "text": [
            "Alice\n",
            "25\n",
            "Not found\n",
            "--------Out put with Key-----\n",
            "name -> Alice\n",
            "age -> 25\n",
            "city -> New York\n",
            "{'name': 'Intellipaat', 'category': 'Education', 'courses': ['Data Science', 'Cloud Computing', 'Python'], 'ratings': {'students': 4.8, 'professionals': 4.7}, 'reviews': ['Excellent for upskilling', 'Very informative', 'Great mentors']}\n",
            "{1: 'Python', 2: 'C++', 3: 'Java'}\n",
            "{1: 'Python', 2: 'C++', 3: 'Java'}\n"
          ]
        }
      ]
    },
    {
      "cell_type": "markdown",
      "source": [
        "**Math Funtions in Python**"
      ],
      "metadata": {
        "id": "btFYTaaLBfq3"
      }
    },
    {
      "cell_type": "code",
      "source": [
        "# __________________________________ Math Funtion in Python _________\n",
        "import math\n",
        "print(math.sqrt(16))       # 4.0\n",
        "print(math.factorial(5))   # 120\n",
        "print(math.pow(2, 3))       # 8.0\n",
        "print(math.pi)             # 3.141592653589793\n",
        "print(math.ceil(4.2))      # 5\n",
        "print(math.floor(4.9))     # 4"
      ],
      "metadata": {
        "colab": {
          "base_uri": "https://localhost:8080/"
        },
        "id": "buLzkYOgBjZo",
        "outputId": "5b36cb38-f659-47d0-ce05-98a50b71e10f"
      },
      "execution_count": 2,
      "outputs": [
        {
          "output_type": "stream",
          "name": "stdout",
          "text": [
            "4.0\n",
            "120\n",
            "8.0\n",
            "3.141592653589793\n",
            "5\n",
            "4\n"
          ]
        }
      ]
    },
    {
      "cell_type": "markdown",
      "source": [
        "**Randam Number in Python**"
      ],
      "metadata": {
        "id": "QuL_r_AfBnYn"
      }
    },
    {
      "cell_type": "code",
      "source": [
        "#____________________  Randam Number in Python_______________________\n",
        "import random\n",
        "print(random.randint(1, 10))  # Prints a random integer between 1 and 10\n",
        "print(random.randint(1, 10))      # Random integer between 1 and 10\n",
        "print(random.random())            # Random float between 0.0 and 1.0\n",
        "print(random.choice(['a', 'b', 'c']))  # Randomly pick from list"
      ],
      "metadata": {
        "colab": {
          "base_uri": "https://localhost:8080/"
        },
        "id": "gsCpPULTBqOm",
        "outputId": "1265ad75-aff0-46af-ba57-690825cea296"
      },
      "execution_count": 3,
      "outputs": [
        {
          "output_type": "stream",
          "name": "stdout",
          "text": [
            "8\n",
            "10\n",
            "0.6792991990596672\n",
            "b\n"
          ]
        }
      ]
    },
    {
      "cell_type": "markdown",
      "source": [
        "**Date and Time Handling**"
      ],
      "metadata": {
        "id": "e0_WbbCkBuDu"
      }
    },
    {
      "cell_type": "code",
      "source": [
        "#_______________________Date and Time Handling_____________________\n",
        "\n",
        "import datetime\n",
        "now = datetime.datetime.now()\n",
        "print(\"Current date & time:\", now)\n",
        "\n",
        "today = datetime.date.today()\n",
        "print(\"Today's date:\", today)\n",
        "\n",
        "# Creating and formatting dates:\n",
        "dt = datetime.datetime(2025, 8, 23, 14, 30)\n",
        "print(dt.strftime(\"%Y-%m-%d %H:%M\"))  # Output: 2025-08-23 14:30\n",
        "\n",
        "# Date difference:\n",
        "d1 = datetime.date(2025, 8, 23)\n",
        "d2 = datetime.date(2025, 9, 1)\n",
        "diff = d2 - d1\n",
        "print(diff.days)"
      ],
      "metadata": {
        "colab": {
          "base_uri": "https://localhost:8080/"
        },
        "id": "5CztnvOEBtp-",
        "outputId": "18a1bb99-715b-470d-b5ea-39df154de377"
      },
      "execution_count": 4,
      "outputs": [
        {
          "output_type": "stream",
          "name": "stdout",
          "text": [
            "Current date & time: 2025-09-22 01:26:07.115087\n",
            "Today's date: 2025-09-22\n",
            "2025-08-23 14:30\n",
            "9\n"
          ]
        }
      ]
    },
    {
      "cell_type": "markdown",
      "source": [
        "**Functions in Python**\n",
        "\n",
        "A function is a block of reusable code that performs a specific task.\n",
        "\n",
        "Functions help avoid code repetition.\n",
        "\n",
        "You can pass arguments to functions and get a return value\n",
        "\n",
        "            def function_name(parameters):\n",
        "                \"\"\"docstring (optional)\"\"\"\n",
        "                # code block\n",
        "                return value  # optional"
      ],
      "metadata": {
        "id": "lLNyOH6x4EzZ"
      }
    },
    {
      "cell_type": "code",
      "source": [
        "print(\"________________________Normal Funtions________________\")\n",
        "\n",
        "def greet():\n",
        "    print(\"Hello, Python!\")\n",
        "\n",
        "greet()  # Hello, Python!\n",
        "\n",
        "\n",
        "print(\"\\n_____________________Funtion with parameter_____________\")\n",
        "\n",
        "def greet_person(name):\n",
        "    print(f\"Hello, {name}!\")\n",
        "\n",
        "greet_person(\"Alice\")  # Hello, Alice!\n",
        "greet_person(\"Bob\")    # Hello, Bob!\n",
        "\n",
        "print(\"\\n_____________________Function with Return Value_____________\")\n",
        "\n",
        "def add(x, y):\n",
        "    return x + y\n",
        "\n",
        "result = add(5, 3)\n",
        "print(result)  # 8\n",
        "\n",
        "print(\"\\n_____________________Function with Default Parameters_____________\")\n",
        "\n",
        "def greet(name=\"Guest\"):\n",
        "    print(f\"Hello, {name}!\")\n",
        "\n",
        "greet()         # Hello, Guest!\n",
        "greet(\"Alice\")  # Hello, Alice!\n",
        "\n",
        "print(\"\\n______________Function with Multiple Parameters_____________\")\n",
        "\n",
        "def multiply(a, b, c):\n",
        "    return a * b * c\n",
        "\n",
        "print(multiply(2, 3, 4))  # 24\n",
        "\n",
        "print(\"\\n______________Function with Arbitrary Arguments (*args)_____________\")\n",
        "\n",
        "def add_numbers(*args):\n",
        "    return sum(args)\n",
        "\n",
        "print(add_numbers(1, 2, 3, 4))  # 10\n",
        "\n",
        "print(\"\\n______________Function with Keyword Arguments(**kwargs)_____________\")\n",
        "\n",
        "def display_info(**kwargs):\n",
        "    for key, value in kwargs.items():\n",
        "        print(f\"{key}: {value}\")\n",
        "\n",
        "display_info(name=\"Alice\", age=25, city=\"Delhi\")\n",
        "\n",
        "\n",
        "print(\"\\n______________Function with Function with Docstring_____________\")\n",
        "\n",
        "def greet(name):\n",
        "    \"\"\"This function greets a person with their name.\"\"\"\n",
        "    print(f\"Hello, {name}!\")\n",
        "\n",
        "help(greet)\n"
      ],
      "metadata": {
        "colab": {
          "base_uri": "https://localhost:8080/"
        },
        "id": "o-2gTrEH4jcD",
        "outputId": "96c4c065-bda6-4929-dbb2-2995cf20e8b3"
      },
      "execution_count": 47,
      "outputs": [
        {
          "output_type": "stream",
          "name": "stdout",
          "text": [
            "________________________Normal Funtions________________\n",
            "Hello, Python!\n",
            "\n",
            "_____________________Funtion with parameter_____________\n",
            "Hello, Alice!\n",
            "Hello, Bob!\n",
            "\n",
            "_____________________Function with Return Value_____________\n",
            "8\n",
            "\n",
            "_____________________Function with Default Parameters_____________\n",
            "Hello, Guest!\n",
            "Hello, Alice!\n",
            "\n",
            "______________Function with Multiple Parameters_____________\n",
            "24\n",
            "\n",
            "______________Function with Arbitrary Arguments (*args)_____________\n",
            "10\n",
            "\n",
            "______________Function with Keyword Arguments(**kwargs)_____________\n",
            "name: Alice\n",
            "age: 25\n",
            "city: Delhi\n",
            "\n",
            "______________Function with Function with Docstring_____________\n",
            "Help on function greet in module __main__:\n",
            "\n",
            "greet(name)\n",
            "    This function greets a person with their name.\n",
            "\n"
          ]
        }
      ]
    },
    {
      "cell_type": "markdown",
      "source": [
        "**What is a Decorator?**\n",
        "\n",
        "A decorator in Python is a function that takes another function as input, adds extra functionality, and returns it—without modifying the original function’s code.\n",
        "\n",
        "**Why Use Decorators?**\n",
        "\n",
        "Add extra features (logging, authentication, performance measurement, etc.)\n",
        "\n",
        "Reuse functionality without rewriting code.\n",
        "\n",
        "Keep code clean and readable.\n",
        "\n",
        "How It Works (Step by Step)\n",
        "\n",
        "**Define a decorator function.**\n",
        "\n",
        "Inside it, define a wrapper function (extra logic + call to the original).\n",
        "\n",
        "Return the wrapper.\n",
        "\n",
        "Use @decorator_name above a function → automatically applies the decorator."
      ],
      "metadata": {
        "id": "4xPFMeOnZHrb"
      }
    },
    {
      "cell_type": "code",
      "source": [
        "#_________________________Simple Decorators_____________________________\n",
        "\n",
        "def decorator_function(original_function):\n",
        "    def wrapper():\n",
        "        print(\"Before the function runs...\")\n",
        "        original_function()\n",
        "        print(\"After the function runs...\")\n",
        "    return wrapper\n",
        "\n",
        "@decorator_function\n",
        "def say_hello():\n",
        "    print(\"Hello, World!\")\n",
        "\n",
        "say_hello()\n",
        "\n",
        "\n",
        "\n",
        "#______________________________Decorators with Arguments______________\n",
        "\n",
        "print(\"______________________________Decorators with Arguments______________\")\n",
        "\n",
        "def smart_divide(func):\n",
        "    def wrapper(a, b):\n",
        "        print(f\"Dividing {a} by {b}\")\n",
        "        if b == 0:\n",
        "            print(\"Error: Division by zero!\")\n",
        "            return\n",
        "        return func(a, b)\n",
        "    return wrapper\n",
        "\n",
        "@smart_divide\n",
        "def divide(a, b):\n",
        "    return a / b\n",
        "\n",
        "print(divide(10, 2))   # Works\n",
        "print(divide(5, 0))    # Prevents error\n",
        "\n",
        "print(\"_____________________Multiple Decorators______________\")\n",
        "\n",
        "def uppercase(func):\n",
        "    def wrapper():\n",
        "        return func().upper()\n",
        "    return wrapper\n",
        "\n",
        "def exclaim(func):\n",
        "    def wrapper():\n",
        "        return func() + \"!!!\"\n",
        "    return wrapper\n",
        "\n",
        "@exclaim\n",
        "@uppercase\n",
        "def greet():\n",
        "    return \"hello\"\n",
        "\n",
        "print(greet())  # HELLO!!!"
      ],
      "metadata": {
        "id": "5rDoBGslZGz5",
        "outputId": "b35081f8-5220-45a1-bc9c-fcb403933418",
        "colab": {
          "base_uri": "https://localhost:8080/"
        }
      },
      "execution_count": 12,
      "outputs": [
        {
          "output_type": "stream",
          "name": "stdout",
          "text": [
            "Before the function runs...\n",
            "Hello, World!\n",
            "After the function runs...\n",
            "______________________________Decorators with Arguments______________\n",
            "Dividing 10 by 2\n",
            "5.0\n",
            "Dividing 5 by 0\n",
            "Error: Division by zero!\n",
            "None\n",
            "_____________________Multiple Decorators______________\n",
            "HELLO!!!\n"
          ]
        }
      ]
    },
    {
      "cell_type": "markdown",
      "source": [
        "**Generators in Python**\n",
        "\n",
        "**What is a Generator**?\n",
        "\n",
        "A generator is a special type of function in Python that allows you to generate values one at a time using the yield keyword, instead of returning them all at once."
      ],
      "metadata": {
        "id": "d8v2Iln3bDsm"
      }
    },
    {
      "cell_type": "code",
      "source": [
        "#__________________________Simple Generator__________________\n",
        "\n",
        "def my_gen():\n",
        "    yield 1\n",
        "    yield 2\n",
        "    yield 3\n",
        "\n",
        "gen = my_gen()\n",
        "\n",
        "print(next(gen))  # 1\n",
        "print(next(gen))  # 2\n",
        "print(next(gen))  # 3\n",
        "\n",
        "\n",
        "#__________________________Example 2 ______________________\n",
        "\n",
        "print(\"_______________Example 2\")\n",
        "\n",
        "def get_numbers():\n",
        "    for i in range(1, 6):\n",
        "        yield i\n",
        "\n",
        "for num in get_numbers():\n",
        "    print(num)"
      ],
      "metadata": {
        "id": "iTDzBJ4CbJ6R",
        "outputId": "e57e1b1a-8f7b-4539-839e-438ff2bdb26b",
        "colab": {
          "base_uri": "https://localhost:8080/"
        }
      },
      "execution_count": 15,
      "outputs": [
        {
          "output_type": "stream",
          "name": "stdout",
          "text": [
            "1\n",
            "2\n",
            "3\n",
            "_______________Example 2\n",
            "1\n",
            "2\n",
            "3\n",
            "4\n",
            "5\n"
          ]
        }
      ]
    },
    {
      "cell_type": "markdown",
      "source": [
        "**Lambda Functions in Python**\n",
        "\n",
        "A lambda function is an anonymous function (a function without a name) defined using the lambda keyword.\n",
        "\n",
        "Can take any number of arguments.\n",
        "\n",
        "Can have only one expression.\n",
        "\n",
        "Automatically returns the result of that expression.\n",
        "\n",
        "        lambda arguments: expression"
      ],
      "metadata": {
        "id": "FCKv4ozh7Km3"
      }
    },
    {
      "cell_type": "code",
      "source": [
        "print(\"________________________Basic Lambda Function________________\")\n",
        "\n",
        "# Normal function\n",
        "def add(x, y):\n",
        "    return x + y\n",
        "\n",
        "# Lambda equivalent\n",
        "add_lambda = lambda x, y: x + y\n",
        "\n",
        "print(add_lambda(5, 3))  # 8\n",
        "\n",
        "print(\"________________________Lambda with One Argument________________\")\n",
        "\n",
        "square = lambda x: x ** 2\n",
        "print(square(5))  # 25\n",
        "\n",
        "print(\"________________________Lambda with Multiple Arguments________________\")\n",
        "\n",
        "multiply = lambda x, y, z: x * y * z\n",
        "print(multiply(2, 3, 4))  # 24\n",
        "\n",
        "print(\"________________________Using Lambda with map()________________\")\n",
        "\n",
        "nums = [1, 2, 3, 4, 5]\n",
        "squared = list(map(lambda x: x ** 2, nums))\n",
        "print(squared)  # [1, 4, 9, 16, 25]\n",
        "\n",
        "\n",
        "print(\"________________________Using Lambda with filter()________________\")\n",
        "\n",
        "nums = [1, 2, 3, 4, 5, 6]\n",
        "even_nums = list(filter(lambda x: x % 2 == 0, nums))\n",
        "print(even_nums)  # [2, 4, 6]\n",
        "\n",
        "print(\"________________________Using Lambda with reduce()_______________\")\n",
        "\n",
        "from functools import reduce\n",
        "\n",
        "nums = [1, 2, 3, 4, 5]\n",
        "sum_all = reduce(lambda x, y: x + y, nums)\n",
        "print(sum_all)  # 15\n",
        "\n",
        "print(\"________________________Lambda with sorted()_______________\")\n",
        "\n",
        "# Sort a list of tuples by second element\n",
        "points = [(2, 3), (1, 2), (4, 1)]\n",
        "sorted_points = sorted(points, key=lambda x: x[1])\n",
        "print(sorted_points)  # [(4, 1), (1, 2), (2, 3)]\n",
        "\n",
        "print(\"________________________Lambda in Conditional Expressions_______________\")\n",
        "\n",
        "max_num = lambda a, b: a if a > b else b\n",
        "print(max_num(5, 10))  # 10\n",
        "\n",
        "print(\"________________________Lambda Inside a Function_______________\")\n",
        "\n",
        "def increment(n):\n",
        "    return lambda x: x + n\n",
        "\n",
        "add5 = increment(5)\n",
        "print(add5(10))  # 15\n"
      ],
      "metadata": {
        "colab": {
          "base_uri": "https://localhost:8080/"
        },
        "id": "7Sa_vEY17Wlf",
        "outputId": "c82bf407-b4d0-4bc2-e726-7cb55e7bd100"
      },
      "execution_count": 58,
      "outputs": [
        {
          "output_type": "stream",
          "name": "stdout",
          "text": [
            "________________________Basic Lambda Function________________\n",
            "8\n",
            "________________________Lambda with One Argument________________\n",
            "25\n",
            "________________________Lambda with Multiple Arguments________________\n",
            "24\n",
            "________________________Using Lambda with map()________________\n",
            "[1, 4, 9, 16, 25]\n",
            "________________________Using Lambda with filter()________________\n",
            "[2, 4, 6]\n",
            "________________________Using Lambda with reduce()_______________\n",
            "15\n",
            "________________________Lambda with sorted()_______________\n",
            "[(4, 1), (1, 2), (2, 3)]\n",
            "________________________Lambda in Conditional Expressions_______________\n",
            "10\n",
            "________________________Lambda Inside a Function_______________\n",
            "15\n"
          ]
        }
      ]
    },
    {
      "cell_type": "code",
      "source": [
        "# _______________________________Lambda Functions in Python_________________\n",
        "#  A lambda function in Python is a small anonymous function defined using the lambda keyword. It’s used for short, throwaway functions that you don’t want to formally define with def.\n",
        "#You can have any number of arguments\n",
        "#The expression is automatically returned\n",
        "#No return or def keyword needed\n",
        "\n",
        "# Syntax : lambda arguments: expression\n",
        "\n",
        "#Example 1 (With single variable)\n",
        "square = lambda x: x ** 2\n",
        "print(square(5))  # Output: 25\n",
        "\n",
        "#Example 2 (With double variable)\n",
        "add = lambda x, y: x + y\n",
        "print(add(3, 4))\n",
        "\n",
        "#Example 3 (with triple variable)\n",
        "multiply = lambda x, y, z: x * y * z\n",
        "print(multiply(2, 3, 4))    # Output: 24\n",
        "\n",
        "#Example 4 (Maximum of Two Numbers)\n",
        "max_val = lambda a, b: a if a > b else b\n",
        "print(max_val(10, 20))  # Output: 20\n",
        "\n",
        "#Example 5 (Filter Even Numbers)\n",
        "nums = [1, 2, 3, 4, 5, 6]\n",
        "evens = list(filter(lambda x: x % 2 == 0, nums))\n",
        "print(evens)  # Output: [2, 4, 6]\n",
        "\n",
        "#Example 6 (Sort by Length)\n",
        "words = [\"apple\", \"banana\", \"orange\", \"grape\"]\n",
        "sorted_words = sorted(words , key=lambda x: len(x))\n",
        "print(sorted_words)  # Output: ['apple', 'grape', 'orange', 'banana']"
      ],
      "metadata": {
        "id": "NdcxO_x9UH74",
        "outputId": "81ff84d9-e567-43fa-9abd-c809412ae131",
        "colab": {
          "base_uri": "https://localhost:8080/"
        }
      },
      "execution_count": 1,
      "outputs": [
        {
          "output_type": "stream",
          "name": "stdout",
          "text": [
            "25\n",
            "7\n",
            "24\n",
            "20\n",
            "[2, 4, 6]\n",
            "['apple', 'grape', 'banana', 'orange']\n"
          ]
        }
      ]
    },
    {
      "cell_type": "markdown",
      "source": [
        "**File handling (open(), read/write file**"
      ],
      "metadata": {
        "id": "uTNo4Xn_B1qB"
      }
    },
    {
      "cell_type": "code",
      "source": [
        "#________________________________________ File handling (open(), read/write files) __\n",
        "\n",
        "# Create and save a new file\n",
        "file = open(\"myfile.txt\", \"w\")  # \"w\" = write mode (creates file if it doesn't exist)\n",
        "file.write(\"This is a new file created using Python.\")\n",
        "file.close()  # Saves and closes the file\n",
        "\n",
        "print(\"File 'myfile.txt' has been created and saved.\")\n",
        "\n",
        "\n",
        "file = open(\"/content/myfile.txt\", \"r\")\n",
        "# Read entire file\n",
        "print(file.read())\n",
        "\n",
        "# Or read line by line\n",
        "file = open(\"/content/myfile.txt\", \"r\")\n",
        "print(file.readline())      # Read first line\n",
        "print(file.readline())      # Read second line\n",
        "file.close()"
      ],
      "metadata": {
        "colab": {
          "base_uri": "https://localhost:8080/"
        },
        "id": "esZhxtllBvhf",
        "outputId": "f6b38672-e8da-4b59-aa5f-c219a8276ced"
      },
      "execution_count": 12,
      "outputs": [
        {
          "output_type": "stream",
          "name": "stdout",
          "text": [
            "File 'myfile.txt' has been created and saved.\n",
            "This is a new file created using Python.\n",
            "This is a new file created using Python.\n",
            "\n"
          ]
        }
      ]
    },
    {
      "cell_type": "markdown",
      "source": [
        "**OOPs Concepts in Python**\n",
        "\n",
        "OOP (Object-Oriented Programming) is a paradigm where software is organized around objects, # which combine data (attributes) and behavior (methods).\n",
        "\n",
        " 1 .**Class and Object** - A blueprint for creating objects\n",
        "\n",
        "**Constrcture**- pecial method called when an object is created\n",
        "Destructors-Called when an object is deleted (not often used in modern Python)\n",
        "\n",
        "2 .**Encapsulation** -Hiding internal details and exposing only necessary information.\n",
        "\n",
        "Keeps data safe from unauthorized access by using private/protected attributes.\n",
        "\n",
        "3 .**Inheritance** -One class (child) can inherit attributes and methods from another class (parent).\n",
        "\n",
        "4.**Polymorphism** -# Same method name but behaves differently depending on the object.\n",
        "Method overloading refers to defining multiple methods with the same name but different     # arguments (types or number of parameters).\n",
        "Python does not support Method overloading\n",
        "\n",
        "5.Abstraction"
      ],
      "metadata": {
        "id": "QfI7woVWEQhV"
      }
    },
    {
      "cell_type": "code",
      "source": [
        "# __________________________________________Class in Python_____________________\n",
        "#  Class: A blueprint for creating objects.\n",
        "class Person:\n",
        "    def __init__(self, name, age):\n",
        "        self.name = name      # instance variable\n",
        "        self.age = age        # instance variable\n",
        "\n",
        "    def greet(self):\n",
        "        print(f\"Hello, my name is {self.name} and I am {self.age} years old.\")\n",
        "\n",
        "p1 = Person(\"Alice\", 30)\n",
        "p1.greet()"
      ],
      "metadata": {
        "colab": {
          "base_uri": "https://localhost:8080/"
        },
        "id": "DUGLVe0LGbRO",
        "outputId": "02028927-e227-4e15-ab14-d2928439aaee"
      },
      "execution_count": 13,
      "outputs": [
        {
          "output_type": "stream",
          "name": "stdout",
          "text": [
            "Hello, my name is Alice and I am 30 years old.\n"
          ]
        }
      ]
    },
    {
      "cell_type": "code",
      "source": [
        "# _________________________ Constrcture____________________________\n",
        "#Special method called when an object is created.\n",
        "class User:\n",
        "    def __init__(self, name):\n",
        "        self.name = name\n",
        "\n",
        "u = User(\"Alice\")\n",
        "print(u.name)"
      ],
      "metadata": {
        "colab": {
          "base_uri": "https://localhost:8080/"
        },
        "id": "dMvFsdEYGekU",
        "outputId": "b88ea8c1-546a-464b-b2e8-1ce3007fbaa4"
      },
      "execution_count": 14,
      "outputs": [
        {
          "output_type": "stream",
          "name": "stdout",
          "text": [
            "Alice\n"
          ]
        }
      ]
    },
    {
      "cell_type": "code",
      "source": [
        "# ____________________________Destructors (__del__ method)\n",
        "# Called when an object is deleted (not often used in modern Python).\n",
        "class MyClass:\n",
        "    def __init__(self):\n",
        "        print(\"Object created\")\n",
        "    def __del__(self):\n",
        "        print(\"Object destroyed\")\n",
        "my_obj = MyClass()\n",
        "del my_obj"
      ],
      "metadata": {
        "colab": {
          "base_uri": "https://localhost:8080/"
        },
        "id": "nnI0HfMsGgwj",
        "outputId": "22ab4faf-1465-40b8-dbe0-ac04cfd2ac98"
      },
      "execution_count": 15,
      "outputs": [
        {
          "output_type": "stream",
          "name": "stdout",
          "text": [
            "Object created\n",
            "Object destroyed\n"
          ]
        }
      ]
    },
    {
      "cell_type": "code",
      "source": [
        "# ____________________________Inheritance______________________________\n",
        "# One class (child) can inherit attributes and methods from another class (parent).\n",
        "class Animal:\n",
        "    def speak(self):\n",
        "        print(\"Animal speaks\")\n",
        "\n",
        "class Dog(Animal):\n",
        "    def bark(self):\n",
        "        print(\"Dog barks\")\n",
        "\n",
        "d = Dog()\n",
        "d.speak()  # Inherited\n",
        "d.bark()   # Child class method"
      ],
      "metadata": {
        "colab": {
          "base_uri": "https://localhost:8080/"
        },
        "id": "HAyBUb6OGi9f",
        "outputId": "6e86750f-c03c-477c-f234-07907ff6e8ca"
      },
      "execution_count": 16,
      "outputs": [
        {
          "output_type": "stream",
          "name": "stdout",
          "text": [
            "Animal speaks\n",
            "Dog barks\n"
          ]
        }
      ]
    },
    {
      "cell_type": "code",
      "source": [
        "#______________________________Encapsulation _______________________________\n",
        "# Hiding internal details and exposing only necessary information.\n",
        "# Keeps data safe from unauthorized access by using private/protected attributes.\n",
        "\n",
        "class BankAccount:\n",
        "    def __init__(self, balance):\n",
        "        self.balance = balance\n",
        "\n",
        "    def deposit(self, amount):\n",
        "        self.balance += amount\n",
        "\n",
        "    def withdraw(self, amount):\n",
        "        self.balance -= amount\n",
        "\n",
        "account = BankAccount(1000)\n",
        "account.deposit(500)\n",
        "account.withdraw(200)\n",
        "print(account.balance)  # Output: 1300"
      ],
      "metadata": {
        "colab": {
          "base_uri": "https://localhost:8080/"
        },
        "id": "8iX3vjVQGlnG",
        "outputId": "017f08f9-4c00-4af8-dd01-9dc9b5f5aa6c"
      },
      "execution_count": 17,
      "outputs": [
        {
          "output_type": "stream",
          "name": "stdout",
          "text": [
            "1300\n"
          ]
        }
      ]
    },
    {
      "cell_type": "code",
      "source": [
        "# _________________________Polymorphism(Method overloading)_____________________\n",
        "\n",
        "# Same method name but behaves differently depending on the object.\n",
        "# Method overloading refers to defining multiple methods with the same name\n",
        "# but different     # arguments (types or number of parameters).\n",
        "# Python does not support Method overloading\n",
        "# The code is wriiten the way\n",
        "\n",
        "\n",
        "class Example:\n",
        "    def show(self, x, y, z=None):\n",
        "        if z is not None:\n",
        "            print(\"Three arguments:\", x, y, z)\n",
        "        else:\n",
        "            print(\"Two arguments:\", x, y)\n",
        "\n",
        "obj = Example()\n",
        "obj.show(1, 2,3)"
      ],
      "metadata": {
        "colab": {
          "base_uri": "https://localhost:8080/"
        },
        "id": "pGBJSYFDGqtM",
        "outputId": "7cc20a6d-8d4d-48d8-af5e-b063bc4c448f"
      },
      "execution_count": 19,
      "outputs": [
        {
          "output_type": "stream",
          "name": "stdout",
          "text": [
            "Three arguments: 1 2 3\n"
          ]
        }
      ]
    },
    {
      "cell_type": "code",
      "source": [
        "# ____________________ Polymorphism(Method Overriding)________________\n",
        "\n",
        "# \"many forms\". In Python -  Same method name but behaves differently depending on the object.\n",
        "\n",
        "# Method Overriding (Runtime Polymorphism)\n",
        "# Function Overloading (Simulated, not built-in)\n",
        "# Operator Overloading\n",
        "\n",
        "class Bird:\n",
        "    def sound(self):\n",
        "        print(\"Bird sound\")\n",
        "\n",
        "class Parrot(Bird):\n",
        "    def sound(self):\n",
        "        print(\"Parrot talks\")\n",
        "\n",
        "b = Bird()\n",
        "p = Parrot()\n",
        "b.sound()  # Bird sound\n",
        "p.sound()  # Parrot talks"
      ],
      "metadata": {
        "colab": {
          "base_uri": "https://localhost:8080/"
        },
        "id": "D3CtNtrdG_nm",
        "outputId": "7e106f4b-0e41-4c11-d33c-ec32ed9cf446"
      },
      "execution_count": 20,
      "outputs": [
        {
          "output_type": "stream",
          "name": "stdout",
          "text": [
            "Bird sound\n",
            "Parrot talks\n"
          ]
        }
      ]
    },
    {
      "cell_type": "code",
      "source": [
        "#________________________________Super Keyword______________________\n",
        "\n",
        "class Animal:\n",
        "    def speak(self):\n",
        "        print(\"Animal sound\")\n",
        "\n",
        "class Dog(Animal):\n",
        "    def speak(self):\n",
        "        super().speak()  # Call parent class method\n",
        "        print(\"Dog barks\")\n",
        "\n",
        "d = Dog()\n",
        "d.speak()"
      ],
      "metadata": {
        "colab": {
          "base_uri": "https://localhost:8080/"
        },
        "id": "vCNfvfiIHC0m",
        "outputId": "a3192b16-bc6c-4e74-b192-642516c673d6"
      },
      "execution_count": 21,
      "outputs": [
        {
          "output_type": "stream",
          "name": "stdout",
          "text": [
            "Animal sound\n",
            "Dog barks\n"
          ]
        }
      ]
    },
    {
      "cell_type": "code",
      "source": [
        "#_______________Class vs Instance Attributes__________________\n",
        "\n",
        "class Example:\n",
        "    class_var = 10          # shared by all instances\n",
        "\n",
        "    def __init__(self):\n",
        "        self.instance_var = 20  # unique to each instance"
      ],
      "metadata": {
        "id": "V9a0cQybHGRv"
      },
      "execution_count": 22,
      "outputs": []
    },
    {
      "cell_type": "code",
      "source": [
        "# __________________________________Static and Class Methods_________________\n",
        "# Static method: Doesn't access instance or class data.\n",
        "# Class method: Has access to class data.\n",
        "\n",
        "class Demo:\n",
        "    @staticmethod\n",
        "    def greet():\n",
        "        print(\"Hello\")\n",
        "\n",
        "    @classmethod\n",
        "    def show_class(cls):\n",
        "        print(\"Class:\", cls)"
      ],
      "metadata": {
        "id": "txsyHzDoHKAV"
      },
      "execution_count": 23,
      "outputs": []
    },
    {
      "cell_type": "markdown",
      "source": [
        "**Python exception handeling**\n",
        "\n",
        "Python exception handling is the process of managing errors that occur during program execution, so your program doesn’t crash unexpectedly.\n",
        "\n",
        "Instead of stopping execution when an error happens (like dividing by zero or accessing a missing file), Python lets you catch and handle those errors gracefully.\n",
        "\n",
        "**Error vs Exception**\n",
        "\n",
        "**Error**: A problem that occurs in the code (e.g., syntax error).\n",
        "\n",
        "**Exception**: A runtime error that can be handled (e.g., ZeroDivisionError, FileNotFoundError).\n",
        "\n",
        "**Main Keywords in Python Exception Handling**\n",
        "\n",
        "**try** → Code that may cause an exception.\n",
        "\n",
        "**except** → Handles the exception.\n",
        "\n",
        "**else** → Runs if no exception occurs.\n",
        "\n",
        "**finally** → Always runs (cleanup code).\n",
        "\n",
        "**raise** → Manually trigger an exception.\n",
        "\n",
        "**Exception** - Base class for all exceptions. Catching Exception handles most errors.\n",
        "\n",
        "**Multiple except** -You can handle different exception types separately.\n",
        "\n",
        "**Catch multiple in one** - Handle multiple exceptions in one except.\n",
        "\n",
        "**Custom Exception**- Define your own exception by inheriting Exception."
      ],
      "metadata": {
        "id": "902yiFB_H1Kc"
      }
    },
    {
      "cell_type": "code",
      "source": [
        "# Exception handeling\n",
        "\n",
        "try:\n",
        "    num = int(input(\"Enter a number: \"))\n",
        "    result = 10 / num\n",
        "except ValueError:\n",
        "    print(\"You must enter a valid number!\")\n",
        "except ZeroDivisionError:\n",
        "    print(\"You cannot divide by zero!\")\n",
        "else:\n",
        "    print(\"Result is:\", result)\n",
        "finally:\n",
        "    print(\"Program execution finished.\")\n",
        "\n"
      ],
      "metadata": {
        "colab": {
          "base_uri": "https://localhost:8080/"
        },
        "id": "etj13C53HzWH",
        "outputId": "979c6e63-aac1-4e25-9138-b000c8088423"
      },
      "execution_count": 27,
      "outputs": [
        {
          "output_type": "stream",
          "name": "stdout",
          "text": [
            "Enter a number: 0\n",
            "You cannot divide by zero!\n",
            "Program execution finished.\n"
          ]
        }
      ]
    },
    {
      "cell_type": "markdown",
      "source": [
        "**Python Exceptions**\n",
        "\n",
        "**ValueError** – Invalid value for a valid type\n",
        "\n",
        "**TypeError** – Wrong data type used in operation\n",
        "\n",
        "**KeyError** – Dictionary key not found\n",
        "\n",
        "**IndexError** – List/tuple index out of range\n",
        "\n",
        "**ZeroDivisionError** – Division by zero\n",
        "\n",
        "**NameError** – Variable not defined\n",
        "\n",
        "**FileNotFoundError** – File not found\n",
        "\n",
        "**PermissionError** – No access rights to a file/folder\n",
        "\n",
        "**AttributeError** – Attribute/method not found for an object\n",
        "\n",
        "**ImportError** – Import failed\n",
        "\n",
        "**ModuleNotFoundError** – Module not found\n",
        "\n",
        "**RuntimeError** – General runtime error\n",
        "\n",
        "**AssertionError** – Assertion (assert) failed\n",
        "\n",
        "**EOFError** – input() reached end of file\n",
        "\n",
        "**MemoryError** – Out of memory\n",
        "\n",
        "**KeyboardInterrupt** – Program interrupted with Ctrl+C\n",
        "\n",
        "**OSError** – Generic OS-related error\n",
        "\n",
        "**StopIteration** – Raised when iterators are exhausted\n",
        "\n",
        "**IndentationError** – Wrong indentation in code\n",
        "\n",
        "**SyntaxError** – Invalid Python syntax\n",
        "\n"
      ],
      "metadata": {
        "id": "12kXLXIWKGCA"
      }
    },
    {
      "cell_type": "markdown",
      "source": [
        "**Python collections Module**\n",
        "\n",
        "The collections module provides specialized container datatypes that extend Python’s built-in data structures (like lists, tuples, dicts, sets).\n",
        "They are optimized for performance and specific use cases."
      ],
      "metadata": {
        "id": "gwcaPs09cU8Z"
      }
    },
    {
      "cell_type": "code",
      "source": [],
      "metadata": {
        "id": "gJMI4GYZKXLS"
      },
      "execution_count": null,
      "outputs": []
    }
  ]
}