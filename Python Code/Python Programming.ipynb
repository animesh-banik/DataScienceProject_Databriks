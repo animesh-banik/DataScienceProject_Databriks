{
 "cells": [
  {
   "cell_type": "code",
   "execution_count": 0,
   "metadata": {
    "application/vnd.databricks.v1+cell": {
     "cellMetadata": {
      "byteLimit": 2048000,
      "rowLimit": 10000
     },
     "collapsed": true,
     "inputWidgets": {},
     "nuid": "d980742d-5f78-4aef-aec0-dd5ba0f586d5",
     "showTitle": false,
     "tableResultSettingsMap": {},
     "title": ""
    }
   },
   "outputs": [],
   "source": [
    "# _________________________________Hellow World_____________________\n",
    "print(\"Hello, World!\")"
   ]
  },
  {
   "cell_type": "code",
   "execution_count": 0,
   "metadata": {
    "application/vnd.databricks.v1+cell": {
     "cellMetadata": {
      "byteLimit": 2048000,
      "rowLimit": 10000
     },
     "collapsed": true,
     "inputWidgets": {},
     "nuid": "3cbf5c3d-d069-4259-89ae-5e5d22e39af9",
     "showTitle": false,
     "tableResultSettingsMap": {},
     "title": ""
    }
   },
   "outputs": [],
   "source": [
    "#  ________________________________________User input ___________________________________\n",
    "name = input(\"Enter your name: \")\n",
    "print(\"Hello, \" + name)"
   ]
  },
  {
   "cell_type": "code",
   "execution_count": 0,
   "metadata": {
    "application/vnd.databricks.v1+cell": {
     "cellMetadata": {
      "byteLimit": 2048000,
      "rowLimit": 10000
     },
     "collapsed": true,
     "inputWidgets": {},
     "nuid": "0007b545-0841-4790-b9b4-e22a49f03142",
     "showTitle": false,
     "tableResultSettingsMap": {},
     "title": ""
    }
   },
   "outputs": [],
   "source": [
    "# __________________________________________ Python Data Type ____________________________\n",
    "# integer variable.\n",
    "a=5192436\n",
    "print(\"a = \", a, \" is \", type(a))\n",
    "# float variable.\n",
    "b=120.86\n",
    "print(\"b = \", b, \" is \", type(b))\n",
    "# complex variable.\n",
    "c=1+5j\n",
    "print(\"c = \", c, \" is \", type(c))\n",
    "\n",
    "\n",
    "\n"
   ]
  },
  {
   "cell_type": "code",
   "execution_count": 0,
   "metadata": {
    "application/vnd.databricks.v1+cell": {
     "cellMetadata": {
      "byteLimit": 2048000,
      "rowLimit": 10000
     },
     "collapsed": true,
     "inputWidgets": {},
     "nuid": "c80eb1b6-1ad4-49d5-b457-a2a902ce5064",
     "showTitle": false,
     "tableResultSettingsMap": {},
     "title": ""
    }
   },
   "outputs": [],
   "source": [
    "# ___________________________________Operators(arithmetic, comparison, logical)____________\n",
    "a = 10\n",
    "b = 3\n",
    "\n",
    "# Arithmetic Operators\n",
    "print(\"Arithmetic Operators\")\n",
    "print(a + b)   # 13\n",
    "print(a - b)   # 7\n",
    "print(a * b)   # 30\n",
    "print(a / b)   # 3.333...\n",
    "print(a // b)  # 3\n",
    "print(a % b)   # 1\n",
    "print(a ** b)  # 1000 \n",
    "\n",
    "\n",
    "# Comparison (Relational) Operators\n",
    "x = 10\n",
    "y = 20\n",
    "print(\"Comparison (Relational) Operators\")\n",
    "print(x == y)  # False\n",
    "print(x != y)  # True\n",
    "print(x > y)   # False\n",
    "print(x < y)   # True\n",
    "print(x >= y)  # False\n",
    "print(x <= y)  # True\n",
    "\n",
    "# Logical Operators\n",
    "a = 10\n",
    "b = 5\n",
    "\n",
    "print(a > 5 and b < 10)   # True\n",
    "print(a < 5 or b < 10)    # True\n",
    "print(not (a == 10))      # False"
   ]
  },
  {
   "cell_type": "code",
   "execution_count": 0,
   "metadata": {
    "application/vnd.databricks.v1+cell": {
     "cellMetadata": {
      "byteLimit": 2048000,
      "rowLimit": 10000
     },
     "collapsed": true,
     "inputWidgets": {},
     "nuid": "f730cae9-ce68-4185-8af5-0af1f9cee7dd",
     "showTitle": false,
     "tableResultSettingsMap": {},
     "title": ""
    }
   },
   "outputs": [],
   "source": [
    "# __________________________________Python conditional operator______________________\n",
    "\n",
    "#____________________________ if statement _________________\n",
    "x = 10\n",
    "if x > 5:\n",
    "    print(\"x is greater than 5\")\n",
    "#___________________________________________________________\n",
    "\n",
    "#____________________________ if-else statement _________________ \n",
    "x = 3\n",
    "if x > 5:\n",
    "    print(\"x is greater than 5\")\n",
    "else:\n",
    "    print(\"x is not greater than 5\")\n",
    "#_________________________________________________________________\n",
    "\n",
    "\n",
    "#_______________________________________ if-elif-else chain ___________\n",
    "x = 0\n",
    "if x > 0:\n",
    "    print(\"Positive number\")\n",
    "elif x == 0:\n",
    "    print(\"Zero\")\n",
    "else:\n",
    "    print(\"Negative number\")\n",
    "#________________________________________________________________________\n",
    "#______________________________________Nested if_______________________\n",
    "x = 15\n",
    "if x > 10:\n",
    "    print(\"x is greater than 10\")\n",
    "    if x < 20:\n",
    "        print(\"x is less than 20\")\n",
    "#________________________________________________________________________"
   ]
  },
  {
   "cell_type": "code",
   "execution_count": 0,
   "metadata": {
    "application/vnd.databricks.v1+cell": {
     "cellMetadata": {
      "byteLimit": 2048000,
      "rowLimit": 10000
     },
     "collapsed": true,
     "inputWidgets": {},
     "nuid": "00261822-ee0d-4648-85df-334b03c6117f",
     "showTitle": false,
     "tableResultSettingsMap": {},
     "title": ""
    }
   },
   "outputs": [],
   "source": [
    "# __________________________________Opearation with String______________________\n",
    "\n",
    "# Creating a string\n",
    "s = 'Intellipaat is an Edtech Organization'\n",
    "print(s) # Prints the whole string\n",
    "\n",
    "# String opearation\n",
    "s = 'Intellipaat is an Edtech Organization'\n",
    "# Check data type using print(type(s))\n",
    "print(s)\n",
    "# Access the string with the index\n",
    "print(s[1])\n",
    "# Prints characters starting from 3rd to 5th\n",
    "print(s[2:5])\n",
    "#Prints characters from last(Reverse indexing)\n",
    "print(s[-1])\n"
   ]
  },
  {
   "cell_type": "code",
   "execution_count": 0,
   "metadata": {
    "application/vnd.databricks.v1+cell": {
     "cellMetadata": {
      "byteLimit": 2048000,
      "rowLimit": 10000
     },
     "collapsed": true,
     "inputWidgets": {},
     "nuid": "74651b1b-d539-42cb-a587-a724481801de",
     "showTitle": false,
     "tableResultSettingsMap": {},
     "title": ""
    }
   },
   "outputs": [],
   "source": [
    "#____________________________________Loops in python____________________________\n",
    "# For Loop, Breake condition, Nasted loop, While Loop,\n",
    "\n",
    "#_________________________ For Loop ______________________\n",
    "\n",
    "fruits = [\"apple\", \"banana\", \"cherry\"]\n",
    "for fruit in fruits:\n",
    "    print(fruit)\n",
    "\n",
    "# ____________________ Breake condition _____________\n",
    "for i in range(10):\n",
    "    if i == 5:\n",
    "        break    # Stop loop when i is 5\n",
    "    print(i)\n",
    "\n",
    "#____________________________ Nasted loop _____________\n",
    "for i in range(3):\n",
    "    for j in range(2):\n",
    "        print(f\"i={i}, j={j}\")     \n",
    "\n",
    "#_________________________ While Loop ______________\n",
    "\n",
    "i = 0\n",
    "while i < 5:\n",
    "    print(i)\n",
    "    i += 1                \n",
    "\n"
   ]
  },
  {
   "cell_type": "code",
   "execution_count": 0,
   "metadata": {
    "application/vnd.databricks.v1+cell": {
     "cellMetadata": {
      "byteLimit": 2048000,
      "rowLimit": 10000
     },
     "collapsed": true,
     "inputWidgets": {},
     "nuid": "a57fbd0b-6876-4acd-bb14-706d7d4c48ea",
     "showTitle": false,
     "tableResultSettingsMap": {},
     "title": ""
    }
   },
   "outputs": [],
   "source": [
    "# __________________________________Funtion in Python _______________\n",
    "\n",
    "def Squre_number(number):\n",
    "    return number * number \n",
    "    \n",
    "result = Squre_number(int(input(\"Enter your input: \")))\n",
    "print(result) \n",
    "\n",
    "# Return type of funtion \n",
    "def add_numbers(a, b):\n",
    "    return a + b\n",
    "result = add_numbers( 5, 3)\n",
    "print(result) \n"
   ]
  },
  {
   "cell_type": "code",
   "execution_count": 0,
   "metadata": {
    "application/vnd.databricks.v1+cell": {
     "cellMetadata": {
      "byteLimit": 2048000,
      "rowLimit": 10000
     },
     "collapsed": true,
     "inputWidgets": {},
     "nuid": "ed7cd979-cc31-4d00-aa66-4eca31c9a3aa",
     "showTitle": false,
     "tableResultSettingsMap": {},
     "title": ""
    }
   },
   "outputs": [],
   "source": [
    "# __________________________________List in Python__________________________________ : \n",
    "# A list is a built-in data structure in Python that allows you to store a collection of items\n",
    "# Ordered (items maintain their position) \n",
    "# Mutable (can be changed after creation)\n",
    "# Can contain duplicates\n",
    "# Can contain mixed types\n",
    "\n",
    "mixed_list = [1, \"apple\", 3.14, True]\n",
    "print(mixed_list[0]) \n",
    "print(mixed_list[-1])\n",
    "print(mixed_list[0:2])\n",
    "\n",
    "mixed_list.append(\"orange\") # Add to end\n",
    "print(mixed_list)\n",
    "\n",
    "mixed_list.insert(1, \"grape\")     # Insert at position  \n",
    "print(mixed_list)\n",
    "\n",
    "print(len(mixed_list)) # Length of list\n",
    "mixed_list.remove(\"apple\")\n",
    "\n",
    "#Loop Through List\n",
    "for fruit in mixed_list: \n",
    "    print(fruit)"
   ]
  },
  {
   "cell_type": "code",
   "execution_count": 0,
   "metadata": {
    "application/vnd.databricks.v1+cell": {
     "cellMetadata": {
      "byteLimit": 2048000,
      "rowLimit": 10000
     },
     "collapsed": true,
     "inputWidgets": {},
     "nuid": "9aafc7ca-c3b1-4493-83ac-6e221c08e3e5",
     "showTitle": false,
     "tableResultSettingsMap": {},
     "title": ""
    }
   },
   "outputs": [],
   "source": [
    "# ___________________________________List Operation___________________________\n",
    "list1 = [ 'Python', 'Java', 123, 45.6]\n",
    "list2 = [ 'Intellipaat', False, 34.6, 78]\n",
    "# Prints a complete list\n",
    "print (list1)\n",
    "# Prints the first element of the list\n",
    "print (list1[0])\n",
    "# Prints elements starting from the 2nd till the 3rd\n",
    "print (list1[1:3])\n",
    "# Prints elements starting from the 3rd element\n",
    "print (list2[2:])\n",
    "# Prints list twice\n",
    "print (list2 * 2)\n",
    "# Prints concatenated lists\n",
    "print (list1 + list2)"
   ]
  },
  {
   "cell_type": "code",
   "execution_count": 0,
   "metadata": {
    "application/vnd.databricks.v1+cell": {
     "cellMetadata": {
      "byteLimit": 2048000,
      "rowLimit": 10000
     },
     "collapsed": true,
     "inputWidgets": {},
     "nuid": "d97eec84-3eee-4db3-be1c-ad445878d071",
     "showTitle": false,
     "tableResultSettingsMap": {},
     "title": ""
    }
   },
   "outputs": [],
   "source": [
    "# ________________________ List operation _____________________________\n",
    "my_list = [3, 1, 2]\n",
    "\n",
    "my_list.append(4) \n",
    "print(my_list)            # [3, 1, 2, 4]\n",
    "my_list.extend([5, 6,7 ])  \n",
    "print(my_list)       # [3, 1, 2, 4, 5, 6,7]\n",
    "my_list.insert(2, 10) \n",
    "print(my_list)         # [3, 1, 10, 2, 4, 5, 6]\n",
    "my_list.remove(10)           # [3, 1, 2, 4, 5, 6]\n",
    "item = my_list.pop()         # Returns 6, list is now [3, 1, 2, 4, 5]\n",
    "print(my_list) \n",
    "index = my_list.index(4)     # Returns 3\n",
    "print(my_list) \n",
    "count = my_list.count(1)     # Returns 1\n",
    "print(my_list) \n",
    "my_list.sort()               # [1, 2, 3, 4, 5]\n",
    "print(my_list) \n",
    "my_list.reverse()            # [5, 4, 3, 2, 1]\n",
    "print(my_list) \n",
    "copy_list = my_list.copy()   # copy_list is [5, 4, 3, 2, 1]\n",
    "print(my_list) \n",
    "my_list.clear()              # my_list is now []\n",
    "print(my_list) "
   ]
  },
  {
   "cell_type": "code",
   "execution_count": 0,
   "metadata": {
    "application/vnd.databricks.v1+cell": {
     "cellMetadata": {
      "byteLimit": 2048000,
      "rowLimit": 10000
     },
     "collapsed": true,
     "inputWidgets": {},
     "nuid": "27c601f4-a96e-476a-845e-f0d4854527fc",
     "showTitle": false,
     "tableResultSettingsMap": {},
     "title": ""
    }
   },
   "outputs": [],
   "source": [
    "# __________________________Tuple in Python_______________________\n",
    "#A tuple is a built-in Python data structure used to store multiple items in a single variable — just like a list — but with one major difference: tuples are immutable, meaning their contents cannot be changed once they are created.\n",
    "\n",
    "\n",
    "mixed_tuple = (1, \"apple\", 3.14, True)\n",
    "print(mixed_tuple[0])\n",
    "print(mixed_tuple)\n",
    "\n",
    "# All operation in tuple"
   ]
  },
  {
   "cell_type": "code",
   "execution_count": 0,
   "metadata": {
    "application/vnd.databricks.v1+cell": {
     "cellMetadata": {},
     "collapsed": true,
     "inputWidgets": {},
     "nuid": "1c1a88ed-52fc-4194-a6b2-3bc5a63038ac",
     "showTitle": false,
     "tableResultSettingsMap": {},
     "title": ""
    }
   },
   "outputs": [],
   "source": [
    "# __________________________Tuple operation_____________________\n",
    "tuple = ( 'abcd', 34 , 4.56, )\n",
    "tuple2 = (45.5, 'intellipaat', 234)\n",
    "# Prints the complete tuple\n",
    "print (tuple)\n",
    "# Prints the first element of the tuple\n",
    "print (tuple[0])\n",
    "# Prints elements of the tuple starting from 2nd till 3rd\n",
    "print (tuple[1:3])\n",
    "# Prints elements of the tuple starting from 3rd element\n",
    "print (tuple[2:])\n",
    "# Prints the contents of the tuple twice\n",
    "print (tuple2 * 2)\n",
    "# Prints concatenated tuples\n",
    "print (tuple + tuple2)"
   ]
  },
  {
   "cell_type": "code",
   "execution_count": 0,
   "metadata": {
    "application/vnd.databricks.v1+cell": {
     "cellMetadata": {
      "byteLimit": 2048000,
      "rowLimit": 10000
     },
     "collapsed": true,
     "inputWidgets": {},
     "nuid": "dc9f0009-e613-4177-94ee-3784c3a3b56d",
     "showTitle": false,
     "tableResultSettingsMap": {},
     "title": ""
    }
   },
   "outputs": [],
   "source": [
    "# __________________________Python Set_______________________________   \n",
    "# A set is a built-in Python data structure used to store a collection of unique elements.\n",
    "# Sets are mutable, meaning their contents can be changed after creation.\n",
    "# Sets are unordered, meaning the order of elements is not guaranteed.\n",
    "# Sets are useful for tasks such as removing duplicates from a list or performing set operations such as union, intersection, and difference.\n",
    "\n",
    "my_set = {1, 2, 3, 4, 5}\n",
    "my_set.add(6)\n",
    "my_set.remove(3)\n",
    "my_set.discard(4)\n",
    "my_set  # Output: {1, 2, 5, 6}\n",
    "my_set.add(7)\n",
    "my_set.add(6) # not allowed duplicate\n",
    "#my_set.clear()\n",
    "my_set  # Output: set() \n",
    "print (my_set)    \n",
    "\n",
    "my_set.clear()\n",
    "print (my_set)\n",
    "\n",
    " \n"
   ]
  },
  {
   "cell_type": "code",
   "execution_count": 0,
   "metadata": {
    "application/vnd.databricks.v1+cell": {
     "cellMetadata": {
      "byteLimit": 2048000,
      "rowLimit": 10000
     },
     "collapsed": true,
     "inputWidgets": {},
     "nuid": "3308fd61-d045-46a0-bb11-c47177dc231d",
     "showTitle": false,
     "tableResultSettingsMap": {},
     "title": ""
    }
   },
   "outputs": [],
   "source": [
    "# __________________________Python dictionary__________________________\n",
    "# A dictionary is a built-in Python data structure used to store data in key-value pairs.\n",
    "# Dictionaries are mutable, meaning their contents can be changed after creation.\n",
    "# Dictionaries are unordered\n",
    "\n",
    "my_dict = {\n",
    "    \"name\": \"Alice\",\n",
    "    \"age\": 25,\n",
    "    \"city\": \"New York\"\n",
    "}\n",
    "print(my_dict[\"name\"])         # Output: Alice\n",
    "print(my_dict.get(\"age\"))      # Output: 25\n",
    "print(my_dict.get(\"gender\", \"Not found\"))  # Output: Not found\n",
    "\n",
    "# Out put with Key\n",
    "print(\"--------Out put with Key-----\")\n",
    "for key, value in my_dict.items():\n",
    "    print(key, \"->\", value)"
   ]
  },
  {
   "cell_type": "code",
   "execution_count": 0,
   "metadata": {
    "application/vnd.databricks.v1+cell": {
     "cellMetadata": {
      "byteLimit": 2048000,
      "rowLimit": 10000
     },
     "collapsed": true,
     "inputWidgets": {},
     "nuid": "cc4cf83b-88ed-4bdb-a626-2487bc96d039",
     "showTitle": false,
     "tableResultSettingsMap": {},
     "title": ""
    }
   },
   "outputs": [],
   "source": [
    "# ___________________________All String Operation in Python(String manupulation)___________________\n",
    "s = \"Hello, World!\"\n",
    "print(s[0],\n",
    "s[-1],\n",
    "s[1:4])\n",
    "\n",
    "# Searching & Checking\n",
    "print(\"Searching & Checking\")\n",
    "print(s.find(\"lo\"));\n",
    "print(s.replace(\"Hello\", \"Hi\"));\n",
    "print(s.upper());\n",
    "print(s.lower());\n",
    "print(s.split(\",\"))\n",
    "print(s.capitalize());\n",
    "print(s.swapcase());\n",
    "print(s.title())\n",
    "\n",
    "# Cleaning & Formatting\n",
    "s.strip()             # Remove spaces\n",
    "s.lstrip(), s.rstrip()\n",
    "s.lower()             # 'python'\n",
    "s.upper()             # 'PYTHON'\n",
    "s.capitalize()        # 'Python'\n",
    "s.title()             # 'Python Is Fun'\n",
    "s.replace(\"World\", \"Python\")  # 'Hello, Python!\n",
    "\n",
    "#Testing Strings\n",
    "s.isalpha()      # Only letters?\n",
    "s.isdigit()      # Only digits?\n",
    "s.isalnum()      # Letters and digits?\n",
    "s.isspace()      # Only whitespace?\n",
    "s.isupper()\n",
    "s.islower()"
   ]
  },
  {
   "cell_type": "code",
   "execution_count": 0,
   "metadata": {
    "application/vnd.databricks.v1+cell": {
     "cellMetadata": {
      "byteLimit": 2048000,
      "rowLimit": 10000
     },
     "inputWidgets": {},
     "nuid": "af6fcf24-561d-4720-baa3-d6a2e4447853",
     "showTitle": false,
     "tableResultSettingsMap": {},
     "title": ""
    }
   },
   "outputs": [],
   "source": [
    "# ______________________________Exception Handeling _________________________________\n",
    "# Example 1\n",
    "try:\n",
    "    file = open(\"data.txt\", \"r\")\n",
    "    content = file.read()\n",
    "except FileNotFoundError:\n",
    "    print(\"File not found.\")\n",
    "finally:\n",
    "    print(\"Cleaning up (e.g., closing files).\")\n",
    "\n",
    "# Example 2\n",
    "try:\n",
    "    age = int(input(\"Age: \"))\n",
    "    income = 20000\n",
    "    risk = income / age\n",
    "    print(age)\n",
    "except ValueError:\n",
    "    print(\"Not a valid number\")\n",
    "except ZeroDivisionError:\n",
    "    print(\"Age cannot be 0\")"
   ]
  },
  {
   "cell_type": "code",
   "execution_count": 0,
   "metadata": {
    "application/vnd.databricks.v1+cell": {
     "cellMetadata": {
      "byteLimit": 2048000,
      "rowLimit": 10000
     },
     "inputWidgets": {},
     "nuid": "c48abb04-1e70-43aa-a13e-e60ae36c42ee",
     "showTitle": false,
     "tableResultSettingsMap": {},
     "title": ""
    }
   },
   "outputs": [],
   "source": [
    "# __________________________________ Math Funtion in Python _________\n",
    "import math\n",
    "print(math.sqrt(16))       # 4.0\n",
    "print(math.factorial(5))   # 120\n",
    "print(math.pow(2, 3))       # 8.0\n",
    "print(math.pi)             # 3.141592653589793\n",
    "print(math.ceil(4.2))      # 5\n",
    "print(math.floor(4.9))     # 4  "
   ]
  },
  {
   "cell_type": "code",
   "execution_count": 0,
   "metadata": {
    "application/vnd.databricks.v1+cell": {
     "cellMetadata": {
      "byteLimit": 2048000,
      "rowLimit": 10000
     },
     "inputWidgets": {},
     "nuid": "7c37d94b-8aef-4b44-96c8-0c85c9cac904",
     "showTitle": false,
     "tableResultSettingsMap": {},
     "title": ""
    }
   },
   "outputs": [],
   "source": [
    "#____________________  Randam Number in Python_______________________\n",
    "import random\n",
    "print(random.randint(1, 10))  # Prints a random integer between 1 and 10\n",
    "print(random.randint(1, 10))      # Random integer between 1 and 10\n",
    "print(random.random())            # Random float between 0.0 and 1.0\n",
    "print(random.choice(['a', 'b', 'c']))  # Randomly pick from list"
   ]
  },
  {
   "cell_type": "code",
   "execution_count": 0,
   "metadata": {
    "application/vnd.databricks.v1+cell": {
     "cellMetadata": {},
     "collapsed": true,
     "inputWidgets": {},
     "nuid": "f37f7e02-0902-4265-b8e1-8f5a304ec36b",
     "showTitle": false,
     "tableResultSettingsMap": {},
     "title": ""
    }
   },
   "outputs": [],
   "source": [
    "# ______________________________________List of exception in python\n",
    "Exception - \"Base class for all built-in exceptions (can be caught to handle any error)\".\n",
    "ArithmeticError - \"Base class for numeric errors.\"\n",
    "ZeroDivisionError - \"Division or modulo by zero.\"\n",
    "OverflowError - \"Result of an arithmetic operation is too large to be represented.\" \n",
    "FloatingPointError - \"Floating point calculation failed.\"\n",
    "ValueError - \"Function received an argument of the right type but invalid value.\"\n",
    "TypeError - \"Operation or function applied to an object of inappropriate type.\"\n",
    "FileNotFoundError - \"File or directory does not exist\"\n",
    "TimeoutError - \"Operation times out.\""
   ]
  },
  {
   "cell_type": "code",
   "execution_count": 0,
   "metadata": {
    "application/vnd.databricks.v1+cell": {
     "cellMetadata": {
      "byteLimit": 2048000,
      "rowLimit": 10000
     },
     "collapsed": true,
     "inputWidgets": {},
     "nuid": "c7dc4467-9456-4e2d-9adc-8c1188ce164e",
     "showTitle": false,
     "tableResultSettingsMap": {},
     "title": ""
    }
   },
   "outputs": [],
   "source": [
    "# Class in Python\n",
    "class Person:\n",
    "    def __init__(self, name, age):\n",
    "        self.name = name      # instance variable\n",
    "        self.age = age        # instance variable\n",
    "\n",
    "    def greet(self):\n",
    "        print(f\"Hello, my name is {self.name} and I am {self.age} years old.\")\n",
    "\n",
    "p1 = Person(\"Alice\", 30)\n",
    "p1.greet()     \n"
   ]
  },
  {
   "cell_type": "code",
   "execution_count": 0,
   "metadata": {
    "application/vnd.databricks.v1+cell": {
     "cellMetadata": {
      "byteLimit": 2048000,
      "rowLimit": 10000
     },
     "collapsed": true,
     "inputWidgets": {},
     "nuid": "e353c1da-8012-464b-8bb4-5ae85e8b5bdd",
     "showTitle": false,
     "tableResultSettingsMap": {},
     "title": ""
    }
   },
   "outputs": [],
   "source": [
    "# Inheritance in Python\n",
    "class Mammal:\n",
    " def walk(self):\n",
    "   print(\"walk\")\n",
    "class Dog(Mammal):\n",
    " def bark(self):\n",
    "    print(\"bark\")\n",
    "dog = Dog()\n",
    "dog.walk() # inherited from Mammal\n",
    "dog.bark() # defined in Dog "
   ]
  },
  {
   "cell_type": "code",
   "execution_count": 0,
   "metadata": {
    "application/vnd.databricks.v1+cell": {
     "cellMetadata": {
      "byteLimit": 2048000,
      "rowLimit": 10000
     },
     "inputWidgets": {},
     "nuid": "1bb51f6a-31c0-40f5-860a-d6b9ddfb4ccf",
     "showTitle": false,
     "tableResultSettingsMap": {},
     "title": ""
    }
   },
   "outputs": [],
   "source": [
    "# Creating a dictionary with nested data structures\n",
    "platform = {\n",
    "\"name\": \"Intellipaat\", # Platform name (string)\n",
    "\"category\": \"Education\", # Category of the platform\n",
    "\"courses\": [\"Data Science\", \"Cloud Computing\", \"Python\"],\n",
    "\"ratings\": {\n",
    "\"students\": 4.8,\n",
    "\"professionals\": 4.7\n",
    "},\n",
    "\"reviews\": [\"Excellent for upskilling\", \"Very informative\", \"Great mentors\"],\n",
    "}\n",
    "# Printing the entire complex data structure\n",
    "print(platform)"
   ]
  },
  {
   "cell_type": "code",
   "execution_count": 0,
   "metadata": {
    "application/vnd.databricks.v1+cell": {
     "cellMetadata": {
      "byteLimit": 2048000,
      "rowLimit": 10000
     },
     "inputWidgets": {},
     "nuid": "40fe9fe3-1872-4201-a7a1-57eff029d4d6",
     "showTitle": false,
     "tableResultSettingsMap": {},
     "title": ""
    }
   },
   "outputs": [],
   "source": [
    "# Initialize an empty dictionary\n",
    "d = {}\n",
    "d = {1: 'Python', 2: 'C++', 3: 'Java'}\n",
    "print(d)\n",
    "# creating dictionary using dict() constructor\n",
    "d1 = dict({1: 'Python', 2: 'C++', 3: 'Java'})\n",
    "print(d1)"
   ]
  },
  {
   "cell_type": "code",
   "execution_count": 0,
   "metadata": {
    "application/vnd.databricks.v1+cell": {
     "cellMetadata": {
      "byteLimit": 2048000,
      "rowLimit": 10000
     },
     "inputWidgets": {},
     "nuid": "fc9d1d92-100c-48d4-a4da-76e89f669326",
     "showTitle": false,
     "tableResultSettingsMap": {},
     "title": ""
    }
   },
   "outputs": [],
   "source": [
    "# Example of Class in Python\n",
    "class Person:\n",
    "    def __init__(self, name, age)   :\n",
    "        self.name = name\n",
    "        self.age = age\n",
    "\n",
    "    def greet(self):\n",
    "        print(f\"Hello, my name is {self.name} and I am {self.age} years old.\")    \n",
    "\n",
    "person1 = Person(\"Alice\", 30)   \n",
    "person1.greet()\n",
    "person2 = Person(\"Bob\", 25)\n",
    "person2.greet()\n"
   ]
  },
  {
   "cell_type": "code",
   "execution_count": 0,
   "metadata": {
    "application/vnd.databricks.v1+cell": {
     "cellMetadata": {
      "byteLimit": 2048000,
      "rowLimit": 10000
     },
     "inputWidgets": {},
     "nuid": "19c7953a-5608-4fb6-99c4-adfe4039bc42",
     "showTitle": false,
     "tableResultSettingsMap": {},
     "title": ""
    }
   },
   "outputs": [],
   "source": [
    "class Duck:\n",
    "    def __init__(self, height, weight, sex):\n",
    "        self.height = height\n",
    "        self.weight = weight\n",
    "        self.sex = sex\n",
    "\n",
    "    def walk(self):\n",
    "        pass\n",
    "\n",
    "    def quack(self):\n",
    "        return print('Quack')\n",
    "\n",
    "duckling = Duck(height=10, weight=3.4, sex=\"male\")\n",
    "drake = Duck(height=25, weight=3.7, sex=\"male\")\n",
    "hen = Duck(height=20, weight=3.4, sex=\"female\")\n",
    "\n",
    "print(Duck.__class__)\n",
    "print(duckling.__class__)\n",
    "print(duckling.sex.__class__)\n",
    "print(duckling.quack.__class__)"
   ]
  }
 ],
 "metadata": {
  "application/vnd.databricks.v1+notebook": {
   "computePreferences": null,
   "dashboards": [],
   "environmentMetadata": {
    "base_environment": "",
    "environment_version": "2"
   },
   "inputWidgetPreferences": null,
   "language": "python",
   "notebookMetadata": {
    "pythonIndentUnit": 4
   },
   "notebookName": "Python Programming",
   "widgets": {}
  },
  "language_info": {
   "name": "python"
  }
 },
 "nbformat": 4,
 "nbformat_minor": 0
}
