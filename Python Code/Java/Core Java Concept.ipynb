{
 "cells": [
  {
   "cell_type": "code",
   "execution_count": 0,
   "metadata": {
    "application/vnd.databricks.v1+cell": {
     "cellMetadata": {
      "byteLimit": 2048000,
      "rowLimit": 10000
     },
     "inputWidgets": {},
     "nuid": "e85aca00-51d1-4cc4-bfc0-c3e5185feca0",
     "showTitle": false,
     "tableResultSettingsMap": {},
     "title": ""
    }
   },
   "outputs": [],
   "source": [
    "import os\n",
    "!apt-get update -y\n",
    "!apt-get install openjdk-11-jdk -y\n",
    "import os\n",
    "os.environ['JAVA_HOME'] = \"/usr/lib/jvm/java-11-openjdk-amd64\"\n",
    "os.environ['PATH'] = os.environ['JAVA_HOME'] + \"/bin:\" + os.environ['PATH']\n",
    "!java -version\n"
   ]
  },
  {
   "cell_type": "code",
   "execution_count": 0,
   "metadata": {
    "application/vnd.databricks.v1+cell": {
     "cellMetadata": {
      "byteLimit": 2048000,
      "rowLimit": 10000
     },
     "inputWidgets": {},
     "nuid": "47d06eea-725f-43b5-86e3-3b8330d4d6e6",
     "showTitle": false,
     "tableResultSettingsMap": {},
     "title": ""
    }
   },
   "outputs": [],
   "source": [
    "\n",
    "%%writefile HelloWorld.java\n",
    "java_code = \"\"\"\n",
    "public class HelloWorld {\n",
    "    public static void main(String[] args) {\n",
    "        System.out.println(\"Hello from Java in Colab!\");\n",
    "    }\n",
    "}\n",
    "\"\"\"\n",
    "\n",
    "# Save the Java code to a file\n",
    "with open(\"CommonClass.java\", \"w\") as file:\n",
    "    file.write(java_code)"
   ]
  },
  {
   "cell_type": "code",
   "execution_count": 0,
   "metadata": {
    "application/vnd.databricks.v1+cell": {
     "cellMetadata": {
      "byteLimit": 2048000,
      "rowLimit": 10000
     },
     "inputWidgets": {},
     "nuid": "4e0a9eb0-abd7-43e3-b313-66bc93a508b9",
     "showTitle": false,
     "tableResultSettingsMap": {},
     "title": ""
    }
   },
   "outputs": [],
   "source": [
    "# Compile and run Java code\n",
    "!javac CommonClass.java\n",
    "!java -cp . HelloWorld"
   ]
  },
  {
   "cell_type": "code",
   "execution_count": 0,
   "metadata": {
    "application/vnd.databricks.v1+cell": {
     "cellMetadata": {
      "byteLimit": 2048000,
      "rowLimit": 10000
     },
     "inputWidgets": {},
     "nuid": "420b496b-aa68-41ad-a239-9607700a32c1",
     "showTitle": false,
     "tableResultSettingsMap": {},
     "title": ""
    }
   },
   "outputs": [],
   "source": [
    "# __________________________________Inheritance______________________________\n",
    "\n",
    "# Inheritance is a mechanism in Java that allows one class to inherit the fields and methods of another class.
     # Charecteritices 
     # promotes code reusability and establishes a relationship between parent and child classes.
    "\n",
    "\n",
    "# Write Java code to a file\n",
    "java_code = \"\"\"\n",
    "class Animal {\n",
    "    public void makeSound() {\n",
    "        System.out.println(\"Animal makes a sound\");\n",
    "    }\n",
    "}\n",
    "\n",
    "class Dog extends Animal {\n",
    "    // Overriding the parent class method\n",
    "    @Override\n",
    "    public void makeSound() {\n",
    "        System.out.println(\"Dog barks\");\n",
    "    }\n",
    "\n",
    "    public void fetch() {\n",
    "        System.out.println(\"Dog is fetching the ball\");\n",
    "    }\n",
    "}\n",
    "\n",
    "public class CommonClass {\n",
    "    public static void main(String[] args) {\n",
    "        Dog dog = new Dog();\n",
    "        dog.makeSound();  // Calls overridden method\n",
    "        dog.fetch();      // Calls child class method\n",
    "    }\n",
    "}\n",
    "\"\"\"\n",
    "\n",
    "# Save the Java code to a file\n",
    "with open(\"CommonClass.java\", \"w\") as file:\n",
    "    file.write(java_code)\n",
    "\n"
   ]
  },
  {
   "cell_type": "code",
   "execution_count": 0,
   "metadata": {
    "application/vnd.databricks.v1+cell": {
     "cellMetadata": {
      "byteLimit": 2048000,
      "rowLimit": 10000
     },
     "inputWidgets": {},
     "nuid": "788b740e-c7bc-48f3-aa7e-6f90ddd9b902",
     "showTitle": false,
     "tableResultSettingsMap": {},
     "title": ""
    }
   },
   "outputs": [],
   "source": [
    "# Compile and run Java code\n",
    "!javac CommonClass.java\n",
    "!java -cp . CommonClass"
   ]
  },
  {
   "cell_type": "code",
   "execution_count": 0,
   "metadata": {
    "application/vnd.databricks.v1+cell": {
     "cellMetadata": {
      "byteLimit": 2048000,
      "rowLimit": 10000
     },
     "inputWidgets": {},
     "nuid": "e24c1299-3e66-4532-ac79-05bc71766ea9",
     "showTitle": false,
     "tableResultSettingsMap": {},
     "title": ""
    }
   },
   "outputs": [],
   "source": [
    "# ________________________ Reverse a number ________________\n",
    "\n",
    "java_code = \"\"\"\n",
    "import java.util.Scanner;\n",
    "\n",
    "class ReverseNumber {\n",
    "    public static void main(String[] args) {\n",
    "        Scanner scanner = new Scanner(System.in);\n",
    "        //int number = scanner.nextInt();\n",
    "        int number = 23;\n",
    "        int reversed = 0;\n",
    "            while (number != 0) {\n",
    "                int digit = number % 10;       // Get last digit\n",
    "                reversed = reversed * 10 + digit;  // Append to reversed\n",
    "                number /= 10;                 // Remove last digit\n",
    "            }\n",
    "        System.out.println(\"Reversed number: \" + reversed);\n",
    "    }\n",
    "}\n",
    "\n",
    "\"\"\"\n",
    "\n",
    "# Save the Java code to a file\n",
    "with open(\"CommonClass.java\", \"w\") as file:\n",
    "    file.write(java_code)"
   ]
  },
  {
   "cell_type": "code",
   "execution_count": 0,
   "metadata": {
    "application/vnd.databricks.v1+cell": {
     "cellMetadata": {
      "byteLimit": 2048000,
      "rowLimit": 10000
     },
     "inputWidgets": {},
     "nuid": "88e72022-6b57-416e-9e5d-16307ff5db96",
     "showTitle": false,
     "tableResultSettingsMap": {},
     "title": ""
    }
   },
   "outputs": [],
   "source": [
    "# Compile and run Java code\n",
    "!javac CommonClass.java\n",
    "!java -cp . ReverseNumber"
   ]
  }
 ],
 "metadata": {
  "application/vnd.databricks.v1+notebook": {
   "computePreferences": null,
   "dashboards": [],
   "environmentMetadata": {
    "base_environment": "",
    "environment_version": "3"
   },
   "inputWidgetPreferences": null,
   "language": "python",
   "notebookMetadata": {
    "pythonIndentUnit": 4
   },
   "notebookName": "Core Java Concept",
   "widgets": {}
  },
  "language_info": {
   "name": "python"
  }
 },
 "nbformat": 4,
 "nbformat_minor": 0
}
