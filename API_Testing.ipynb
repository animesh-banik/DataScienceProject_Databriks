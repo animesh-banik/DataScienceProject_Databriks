{
  "nbformat": 4,
  "nbformat_minor": 0,
  "metadata": {
    "colab": {
      "provenance": [],
      "authorship_tag": "ABX9TyOCRI0YL4K39ix31Psf35v3",
      "include_colab_link": true
    },
    "kernelspec": {
      "name": "python3",
      "display_name": "Python 3"
    },
    "language_info": {
      "name": "python"
    }
  },
  "cells": [
    {
      "cell_type": "markdown",
      "metadata": {
        "id": "view-in-github",
        "colab_type": "text"
      },
      "source": [
        "<a href=\"https://colab.research.google.com/github/animesh-banik/DataScienceProject_Databriks/blob/Google_Colub/API_Testing.ipynb\" target=\"_parent\"><img src=\"https://colab.research.google.com/assets/colab-badge.svg\" alt=\"Open In Colab\"/></a>"
      ]
    },
    {
      "cell_type": "code",
      "source": [],
      "metadata": {
        "id": "ctLXKneYZUdM"
      },
      "execution_count": null,
      "outputs": []
    },
    {
      "cell_type": "markdown",
      "source": [
        "**What is an API?**\n",
        "\n",
        "API (Application Programming Interface) is a set of rules and protocols that allows different software applications to communicate with each other. It defines the methods and data formats that applications can use to request and exchange information."
      ],
      "metadata": {
        "id": "sSO-lsYRaD0l"
      }
    },
    {
      "cell_type": "markdown",
      "source": [
        "**What is the difference between API and Web Service?**\n",
        "**Answer:**\n",
        "- **API:** Broader concept, any interface for communication between software components\n",
        "- **Web Service:** Specific type of API that uses web protocols (HTTP/HTTPS) and is accessible over the internet"
      ],
      "metadata": {
        "id": "YVotoR5yaIKn"
      }
    },
    {
      "cell_type": "markdown",
      "source": [
        "**What is API Testing ?**\n",
        "\n",
        "API Testing is a type of software testing that focuses on verifying whether Application Programming Interfaces (APIs) are functioning as expected."
      ],
      "metadata": {
        "id": "eSRVKiIuWGf9"
      }
    },
    {
      "cell_type": "markdown",
      "source": [
        "**Why Use API Testing**\n",
        "\n",
        "Verify correctness of API responses (status codes, data returned)\n",
        "\n",
        "Check functionality – whether the API does what it is supposed to do\n",
        "\n",
        "Validate data integrity – ensures correct data is sent and received\n",
        "\n",
        "Assess security – authentication, authorization, data protection\n",
        "\n",
        "Evaluate performance – response time, load handling\n",
        "\n",
        "Ensure reliability and robustness under various conditions"
      ],
      "metadata": {
        "id": "HFsMvLweWfYl"
      }
    },
    {
      "cell_type": "markdown",
      "source": [
        "**What Do You Test in API Testing?**\n",
        "\n",
        "HTTP Methods: GET, POST, PUT, DELETE, PATCH\n",
        "\n",
        "Response Codes: 200 (OK), 201 (Created), 400 (Bad Request), 401 (Unauthorized), 404 (Not Found), 500 (Server Error), etc.\n",
        "\n",
        "Data Formats: JSON, XML\n",
        "\n",
        "Authentication: Token-based, OAuth, API keys\n",
        "\n",
        "Headers and Parameters: Proper handling of input values\n",
        "\n",
        "Error handling: Graceful failure and informative error messages"
      ],
      "metadata": {
        "id": "Zt71V281Wq5W"
      }
    },
    {
      "cell_type": "markdown",
      "source": [],
      "metadata": {
        "id": "2NOyn0-gZn1D"
      }
    },
    {
      "cell_type": "markdown",
      "source": [
        "Common Tools Used in API Testing\n",
        "\n",
        "\n",
        "Postman – GUI tool for manual API testing\n",
        "\n",
        "SoapUI – Good for SOAP and REST APIs\n",
        "\n",
        "REST Assured – Java library for automated REST testing\n",
        "\n",
        "JMeter – Can be used for load testing APIs\n",
        "\n",
        "Swagger / OpenAPI – API documentation and testing\n",
        "\n",
        "Karate, Newman, Cypress, Katalon – Other automated solutions"
      ],
      "metadata": {
        "id": "a3p_u1THWydh"
      }
    },
    {
      "cell_type": "markdown",
      "source": [
        "**What is diiffents Typs of API**\n",
        "\n",
        "REST API (Representational State Transfer)\n",
        "\n",
        "      Most common for web services\n",
        "      Uses HTTP methods (GET, POST, PUT, DELETE)\n",
        "      Data in JSON or XML\n",
        "      Stateless (no session between calls)\n",
        "\n",
        "SOAP API (Simple Object Access Protocol)\n",
        "\n",
        "    Protocol-based (strict rules)\n",
        "    Uses XML only\n",
        "    Requires more setup (envelope, headers, etc.)\n",
        "\n",
        "GraphQL API\n",
        "\n",
        "    Developed by Facebook\n",
        "    Lets the client request specific data\n",
        "    All data is fetched through a single endpoint"
      ],
      "metadata": {
        "id": "XjC3SjkmX4ta"
      }
    },
    {
      "cell_type": "markdown",
      "source": [
        "**What is REST?**\n",
        "\n",
        "REST (Representational State Transfer) is an architectural style for designing networked applications. It uses standard HTTP methods and is stateless, cacheable, and has a uniform interface.\n"
      ],
      "metadata": {
        "id": "qGlRaM78dQOr"
      }
    },
    {
      "cell_type": "markdown",
      "source": [
        "**What are the principles of REST?**\n",
        "**Answer:**\n",
        "- **Stateless:** Each request contains all information needed\n",
        "- **Client-Server:** Separation of concerns\n",
        "- **Cacheable:** Responses can be cached\n",
        "- **Uniform Interface:** Standard HTTP methods\n",
        "- **Layered System:** Architecture can have multiple layers\n",
        "- **Code on Demand:** Optional, server can send executable code\n"
      ],
      "metadata": {
        "id": "wA_jSHi8dwCb"
      }
    },
    {
      "cell_type": "markdown",
      "source": [
        "**In REST (Representational State Transfer), being stateless means:**\n",
        "\n",
        "Every HTTP request from a client to the server must contain all the information the server needs to understand and process it.\n",
        "\n",
        "The server does not remember any “session state” about the client between requests.\n",
        "\n",
        "Each request is independent, and the server treats it like a new interaction.\n",
        "\n",
        "Key Points about Statelessness\n",
        "\n",
        "**No server-side session**\n",
        "\n",
        "The server does not store client-specific info (like login sessions or shopping carts).\n",
        "\n",
        "Instead, the client must send credentials (e.g., token) or context data with each request.\n",
        "\n",
        "**Client responsibility**\n",
        "\n",
        "If state needs to be tracked (like “user logged in” or “current cart”), the client holds it and passes it back in the request (often via JWT tokens, cookies, or query params).\n",
        "\n",
        "**Scalability**\n",
        "\n",
        "Because servers don’t store client sessions, you can add/remove servers easily (load balancing).\n",
        "\n",
        "Any request can go to any server.\n",
        "\n",
        "**Reliability**\n",
        "\n",
        "If a server crashes, no session info is lost, since state is not stored there.\n",
        "\n",
        "For Example :\n",
        "**for soap **\n",
        "\n",
        "Client: POST /checkout\n",
        "\n",
        "Server: \"Okay, I know from your previous requests you’re user123 with cart ABC. Proceeding.\"\n",
        "➡️ Server remembers session data.\n",
        "\n",
        "**but for rest**\n",
        "\n",
        "in REST:\n",
        "Stateless = server doesn’t keep client session. Each request is self-contained and independent."
      ],
      "metadata": {
        "id": "PiyVI16AewrW"
      }
    },
    {
      "cell_type": "markdown",
      "source": [
        "**What are the principles of REST?**\n",
        "**Answer:**\n",
        "- **Stateless:** Each request contains all information needed\n",
        "- **Client-Server:** Separation of concerns\n",
        "- **Cacheable:** Responses can be cached\n",
        "- **Uniform Interface:** Standard HTTP methods\n",
        "- **Layered System:** Architecture can have multiple layers\n",
        "- **Code on Demand:** Optional, server can send executable code\n"
      ],
      "metadata": {
        "id": "rUPRjaipdsF9"
      }
    },
    {
      "cell_type": "markdown",
      "source": [
        "**What are the principles of REST?**\n",
        "\n",
        "- **Stateless:** Each request contains all information needed\n",
        "- **Client-Server:** Separation of concerns\n",
        "- **Cacheable:** Responses can be cached\n",
        "- **Uniform Interface:** Standard HTTP methods\n",
        "- **Layered System:** Architecture can have multiple layers\n",
        "- **Code on Demand:** Optional, server can send executable code\n"
      ],
      "metadata": {
        "id": "XTvhmKMfdo-b"
      }
    },
    {
      "cell_type": "markdown",
      "source": [
        "**What is SOAP?**\n",
        "\n",
        "SOAP (Simple Object Access Protocol) is a protocol for exchanging structured information in web services. It uses XML for message format and typically runs over HTTP or HTTPS.\n"
      ],
      "metadata": {
        "id": "YxdUfJ77g1y0"
      }
    },
    {
      "cell_type": "markdown",
      "source": [
        "Install dependencies"
      ],
      "metadata": {
        "id": "_AB9qAkXlS_5"
      }
    },
    {
      "cell_type": "markdown",
      "source": [
        "**What is the difference between REST and SOAP?**\n",
        "**Answer:**\n",
        "- **REST:** Lightweight, uses JSON/XML, stateless, uses HTTP methods\n",
        "- **SOAP:** Heavy protocol, uses XML only, has built-in error handling, supports transactions\n"
      ],
      "metadata": {
        "id": "2O-dCULShHFE"
      }
    },
    {
      "cell_type": "code",
      "source": [
        "\n",
        "!pip install requests pytest pyhamcrest"
      ],
      "metadata": {
        "colab": {
          "base_uri": "https://localhost:8080/"
        },
        "collapsed": true,
        "id": "NAiSHGsllP9w",
        "outputId": "f1ec9ab1-24bf-4c5f-c598-08e41529f6a3"
      },
      "execution_count": null,
      "outputs": [
        {
          "output_type": "stream",
          "name": "stdout",
          "text": [
            "Requirement already satisfied: requests in /usr/local/lib/python3.12/dist-packages (2.32.4)\n",
            "Requirement already satisfied: pytest in /usr/local/lib/python3.12/dist-packages (8.4.1)\n",
            "Collecting pyhamcrest\n",
            "  Downloading pyhamcrest-2.1.0-py3-none-any.whl.metadata (15 kB)\n",
            "Requirement already satisfied: charset_normalizer<4,>=2 in /usr/local/lib/python3.12/dist-packages (from requests) (3.4.3)\n",
            "Requirement already satisfied: idna<4,>=2.5 in /usr/local/lib/python3.12/dist-packages (from requests) (3.10)\n",
            "Requirement already satisfied: urllib3<3,>=1.21.1 in /usr/local/lib/python3.12/dist-packages (from requests) (2.5.0)\n",
            "Requirement already satisfied: certifi>=2017.4.17 in /usr/local/lib/python3.12/dist-packages (from requests) (2025.8.3)\n",
            "Requirement already satisfied: iniconfig>=1 in /usr/local/lib/python3.12/dist-packages (from pytest) (2.1.0)\n",
            "Requirement already satisfied: packaging>=20 in /usr/local/lib/python3.12/dist-packages (from pytest) (25.0)\n",
            "Requirement already satisfied: pluggy<2,>=1.5 in /usr/local/lib/python3.12/dist-packages (from pytest) (1.6.0)\n",
            "Requirement already satisfied: pygments>=2.7.2 in /usr/local/lib/python3.12/dist-packages (from pytest) (2.19.2)\n",
            "Downloading pyhamcrest-2.1.0-py3-none-any.whl (54 kB)\n",
            "\u001b[2K   \u001b[90m━━━━━━━━━━━━━━━━━━━━━━━━━━━━━━━━━━━━━━━━\u001b[0m \u001b[32m54.6/54.6 kB\u001b[0m \u001b[31m2.0 MB/s\u001b[0m eta \u001b[36m0:00:00\u001b[0m\n",
            "\u001b[?25hInstalling collected packages: pyhamcrest\n",
            "Successfully installed pyhamcrest-2.1.0\n"
          ]
        }
      ]
    },
    {
      "cell_type": "code",
      "source": [],
      "metadata": {
        "id": "xuOMWWqdCnhs"
      },
      "execution_count": null,
      "outputs": []
    },
    {
      "cell_type": "markdown",
      "source": [
        "Create Class for Rest Assured"
      ],
      "metadata": {
        "id": "-YuYV90VCjqV"
      }
    },
    {
      "cell_type": "code",
      "source": [
        "import requests\n",
        "from hamcrest import assert_that\n",
        "\n",
        "class RestAssured:\n",
        "    def __init__(self, base_uri):\n",
        "        self.base_uri = base_uri\n",
        "        self.response = None\n",
        "        self.params = {}\n",
        "        self.headers = {}\n",
        "        self.json_body = None\n",
        "\n",
        "    def given(self, params=None, headers=None, body=None):\n",
        "        self.params = params or {}\n",
        "        self.headers = headers or {\"Content-Type\": \"application/json\"}\n",
        "        self.json_body = body\n",
        "        return self\n",
        "\n",
        "    def when(self, method, path):\n",
        "        url = self.base_uri + path\n",
        "        self.response = requests.request(\n",
        "            method.upper(),\n",
        "            url,\n",
        "            params=self.params,\n",
        "            headers=self.headers,\n",
        "            json=self.json_body\n",
        "        )\n",
        "\n",
        "        return self\n",
        "\n",
        "    def then(self):\n",
        "        return ResponseValidator(self.response)\n",
        "\n",
        "\n",
        "class ResponseValidator:\n",
        "    def __init__(self, response):\n",
        "        self.response = response\n",
        "\n",
        "\n",
        "    def statusCode(self, code):\n",
        "        print(self.response.json())\n",
        "        print(self.response.status_code)\n",
        "        assert self.response.status_code == code, \\\n",
        "            f\"Expected {code}, got {self.response.status_code}\"\n",
        "        return self\n",
        "\n",
        "    def body(self, key, matcher):\n",
        "        data = self.response.json()\n",
        "        assert_that(data.get(key), matcher)\n",
        "        return self\n"
      ],
      "metadata": {
        "id": "HQlwiXpBCYHL"
      },
      "execution_count": null,
      "outputs": []
    },
    {
      "cell_type": "markdown",
      "source": [
        "Get Oeration"
      ],
      "metadata": {
        "id": "w0TsUUxumGhA"
      }
    },
    {
      "cell_type": "code",
      "source": [
        "# Usage\n",
        "\n",
        "api = RestAssured(\"https://jsonplaceholder.typicode.com\")\n",
        "\n",
        "res =   api.given() \\\n",
        "          .when(\"GET\", \"/posts/1\")   \\\n",
        "          .then() \\\n",
        "          .statusCode(200) \\\n",
        "          .body(\"title\", \"sunt aut facere repellat provident occaecati excepturi optio reprehenderit\")  \\\n",
        "          .body(\"userId\", 1)\n",
        "\n",
        "print(\"✅ Get passed\")"
      ],
      "metadata": {
        "colab": {
          "base_uri": "https://localhost:8080/"
        },
        "id": "gx4-yesUp8JS",
        "outputId": "966f92e8-0b58-4b77-b314-82ddbc7753b1"
      },
      "execution_count": null,
      "outputs": [
        {
          "output_type": "stream",
          "name": "stdout",
          "text": [
            "{'userId': 1, 'id': 1, 'title': 'sunt aut facere repellat provident occaecati excepturi optio reprehenderit', 'body': 'quia et suscipit\\nsuscipit recusandae consequuntur expedita et cum\\nreprehenderit molestiae ut ut quas totam\\nnostrum rerum est autem sunt rem eveniet architecto'}\n",
            "200\n",
            "✅ Get passed\n"
          ]
        }
      ]
    },
    {
      "cell_type": "markdown",
      "source": [
        "POST Operation"
      ],
      "metadata": {
        "id": "jK_vFXUxICoh"
      }
    },
    {
      "cell_type": "code",
      "source": [
        "api = RestAssured(\"https://jsonplaceholder.typicode.com\")\n",
        "\n",
        "api.given(\n",
        "    body={\"title\": \"foo\", \"body\": \"bar\", \"userId\": 1}\n",
        ").when(\"POST\", \"/posts\") \\\n",
        " .then() \\\n",
        " .statusCode(201) \\\n",
        " .body(\"title\", \"foo\") \\\n",
        " .body(\"userId\", 1)\n",
        "print(\"✅ POST passed\")"
      ],
      "metadata": {
        "colab": {
          "base_uri": "https://localhost:8080/"
        },
        "id": "Q0ZoTdW9H_bc",
        "outputId": "afe4de03-ee00-4674-8180-125053932ba7"
      },
      "execution_count": null,
      "outputs": [
        {
          "output_type": "stream",
          "name": "stdout",
          "text": [
            "{'title': 'foo', 'body': 'bar', 'userId': 1, 'id': 101}\n",
            "201\n",
            "✅ POST passed\n"
          ]
        }
      ]
    },
    {
      "cell_type": "markdown",
      "source": [
        "Put Operation"
      ],
      "metadata": {
        "id": "caBVHK13S_dU"
      }
    },
    {
      "cell_type": "code",
      "source": [
        "api.given(\n",
        "    body={\"id\": 1, \"title\": \"updated\", \"body\": \"bar\", \"userId\": 1}\n",
        ").when(\"PUT\", \"/posts/1\") \\\n",
        " .then() \\\n",
        " .statusCode(200) \\\n",
        " .body(\"title\", \"updated\")\n",
        "\n",
        "print(\"✅ Put passed\")"
      ],
      "metadata": {
        "colab": {
          "base_uri": "https://localhost:8080/"
        },
        "id": "A3-PPN8oTDAT",
        "outputId": "510f875e-e3bd-4365-f2e2-2d7fa038e264"
      },
      "execution_count": null,
      "outputs": [
        {
          "output_type": "stream",
          "name": "stdout",
          "text": [
            "{'id': 1, 'title': 'updated', 'body': 'bar', 'userId': 1}\n",
            "200\n",
            "✅ Put passed\n"
          ]
        }
      ]
    },
    {
      "cell_type": "markdown",
      "source": [
        "Delete Operations"
      ],
      "metadata": {
        "id": "6FrzfKNeTR9r"
      }
    },
    {
      "cell_type": "code",
      "source": [
        "api.given().when(\"DELETE\", \"/posts/1\") \\\n",
        " .then() \\\n",
        " .statusCode(200)\n",
        "\n",
        "print(\"✅ DELETE passed\")"
      ],
      "metadata": {
        "colab": {
          "base_uri": "https://localhost:8080/"
        },
        "id": "wDzBymtTTO-a",
        "outputId": "8e5e35d8-7c57-4f1b-e6ee-33cff11f03d3"
      },
      "execution_count": null,
      "outputs": [
        {
          "output_type": "stream",
          "name": "stdout",
          "text": [
            "{}\n",
            "200\n",
            "✅ DELETE passed\n"
          ]
        }
      ]
    }
  ]
}