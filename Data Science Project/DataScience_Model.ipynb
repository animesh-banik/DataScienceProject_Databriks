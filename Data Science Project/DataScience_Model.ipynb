{
 "cells": [
  {
   "cell_type": "code",
   "execution_count": 0,
   "metadata": {
    "application/vnd.databricks.v1+cell": {
     "cellMetadata": {
      "byteLimit": 2048000,
      "rowLimit": 10000
     },
     "inputWidgets": {},
     "nuid": "e13505ab-6186-498d-9fe1-3bc0d1e8fd54",
     "showTitle": false,
     "tableResultSettingsMap": {},
     "title": ""
    }
   },
   "outputs": [],
   "source": [
    "# What is machine learning\n",
    "Machine Learning (ML) is a branch of artificial intelligence (AI) that focuses on building systems that can learn from data, identify patterns, and make decisions with minimal human intervention.\n",
    "Exmaple : Email spam filter -  Identify spam based on email content\n",
    "\n",
    "Types of Machine Learning\n",
    "    Supervised Learning\n",
    "    Unsupervised Learning\n",
    "    Reinforcement Learning\n",
    "\n",
    "How Machine Learning Works (Simplified)\n",
    "    Collect Data\n",
    "    Gather relevant data for the problem.\n",
    "\n",
    "    Train a Model\n",
    "    Feed the data into an algorithm to learn patterns.\n",
    "\n",
    "    Test and Validate\n",
    "    Evaluate the model's performance on new (unseen) data.\n",
    "\n",
    "    Make Predictions\n",
    "    Use the trained model to make decisions or predictions.\n",
    "\n",
    "What is Supervised Learning Models\n",
    "Supervised learning models are a type of machine learning where the algorithm is trained on labeled data—meaning each training example includes both the input data and the correct output (label). The model learns to map inputs to outputs so it can make accurate predictions on new, unseen data.\n"
   ]
  },
  {
   "cell_type": "code",
   "execution_count": 0,
   "metadata": {
    "application/vnd.databricks.v1+cell": {
     "cellMetadata": {},
     "inputWidgets": {},
     "nuid": "398147c0-a9dc-4f98-af98-b0ff81b4fc7e",
     "showTitle": false,
     "tableResultSettingsMap": {},
     "title": ""
    }
   },
   "outputs": [],
   "source": []
  }
 ],
 "metadata": {
  "application/vnd.databricks.v1+notebook": {
   "computePreferences": null,
   "dashboards": [],
   "environmentMetadata": {
    "base_environment": "",
    "environment_version": "3"
   },
   "inputWidgetPreferences": null,
   "language": "python",
   "notebookMetadata": {
    "pythonIndentUnit": 4
   },
   "notebookName": "DataScience_Model",
   "widgets": {}
  },
  "language_info": {
   "name": "python"
  }
 },
 "nbformat": 4,
 "nbformat_minor": 0
}
