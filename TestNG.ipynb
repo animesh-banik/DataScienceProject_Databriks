{
  "nbformat": 4,
  "nbformat_minor": 0,
  "metadata": {
    "colab": {
      "provenance": [],
      "authorship_tag": "ABX9TyMi3K/HtXm8he7vUj0tyfRn",
      "include_colab_link": true
    },
    "kernelspec": {
      "name": "python3",
      "display_name": "Python 3"
    },
    "language_info": {
      "name": "python"
    }
  },
  "cells": [
    {
      "cell_type": "markdown",
      "metadata": {
        "id": "view-in-github",
        "colab_type": "text"
      },
      "source": [
        "<a href=\"https://colab.research.google.com/github/animesh-banik/DataScienceProject_Databriks/blob/Google_Colub/TestNG.ipynb\" target=\"_parent\"><img src=\"https://colab.research.google.com/assets/colab-badge.svg\" alt=\"Open In Colab\"/></a>"
      ]
    },
    {
      "cell_type": "markdown",
      "source": [
        "**Install JAVA**"
      ],
      "metadata": {
        "id": "TZeU4sSRa5GA"
      }
    },
    {
      "cell_type": "code",
      "execution_count": 5,
      "metadata": {
        "id": "_gc16eM7TN2O"
      },
      "outputs": [],
      "source": [
        "#Install Java\n",
        "!apt-get install openjdk-11-jdk-headless -qq > /dev/null"
      ]
    },
    {
      "cell_type": "markdown",
      "source": [
        "**Install Maven**"
      ],
      "metadata": {
        "id": "R6c-pHdJauSw"
      }
    },
    {
      "cell_type": "code",
      "source": [
        "!apt-get install maven -qq > /dev/null"
      ],
      "metadata": {
        "colab": {
          "base_uri": "https://localhost:8080/"
        },
        "id": "VK1ttDNJUWJ3",
        "outputId": "bdfc2f5a-ad76-430e-f82d-0cfb263be2de"
      },
      "execution_count": 6,
      "outputs": [
        {
          "output_type": "stream",
          "name": "stdout",
          "text": [
            "Extracting templates from packages: 100%\n"
          ]
        }
      ]
    },
    {
      "cell_type": "markdown",
      "source": [
        "**Verify Java & Maven Installation**"
      ],
      "metadata": {
        "id": "hH_JqgiEay-P"
      }
    },
    {
      "cell_type": "code",
      "source": [
        "\n",
        "!java -version\n",
        "!mvn -version"
      ],
      "metadata": {
        "colab": {
          "base_uri": "https://localhost:8080/"
        },
        "id": "Z7qUiUkyUhk_",
        "outputId": "3de59dd5-a877-4757-bc80-56b69a0c4246"
      },
      "execution_count": 7,
      "outputs": [
        {
          "output_type": "stream",
          "name": "stdout",
          "text": [
            "openjdk version \"11.0.28\" 2025-07-15\n",
            "OpenJDK Runtime Environment (build 11.0.28+6-post-Ubuntu-1ubuntu122.04.1)\n",
            "OpenJDK 64-Bit Server VM (build 11.0.28+6-post-Ubuntu-1ubuntu122.04.1, mixed mode, sharing)\n",
            "\u001b[1mApache Maven 3.6.3\u001b[m\n",
            "Maven home: /usr/share/maven\n",
            "Java version: 11.0.28, vendor: Ubuntu, runtime: /usr/lib/jvm/java-11-openjdk-amd64\n",
            "Default locale: en_US, platform encoding: UTF-8\n",
            "OS name: \"linux\", version: \"6.1.123+\", arch: \"amd64\", family: \"unix\"\n"
          ]
        }
      ]
    },
    {
      "cell_type": "markdown",
      "source": [
        "**Create a Maven Project**"
      ],
      "metadata": {
        "id": "bdrYfpx2bEiu"
      }
    },
    {
      "cell_type": "code",
      "source": [
        "\n",
        "!mvn archetype:generate -DgroupId=com.example \\\n",
        "    -DartifactId=testng-demo \\\n",
        "    -DarchetypeArtifactId=maven-archetype-quickstart \\\n",
        "    -DinteractiveMode=false\n"
      ],
      "metadata": {
        "colab": {
          "base_uri": "https://localhost:8080/"
        },
        "collapsed": true,
        "id": "JsIGrXBLUpJ_",
        "outputId": "b730e462-d8c3-437e-df16-835604244439"
      },
      "execution_count": 8,
      "outputs": [
        {
          "output_type": "stream",
          "name": "stdout",
          "text": [
            "[\u001b[1;34mINFO\u001b[m] Scanning for projects...\n",
            "Downloading from central: https://repo.maven.apache.org/maven2/org/apache/maven/plugins/maven-clean-plugin/2.5/maven-clean-plugin-2.5.pom\n",
            "Downloaded from central: https://repo.maven.apache.org/maven2/org/apache/maven/plugins/maven-clean-plugin/2.5/maven-clean-plugin-2.5.pom (3.9 kB at 8.8 kB/s)\n",
            "Downloading from central: https://repo.maven.apache.org/maven2/org/apache/maven/plugins/maven-plugins/22/maven-plugins-22.pom\n",
            "Downloaded from central: https://repo.maven.apache.org/maven2/org/apache/maven/plugins/maven-plugins/22/maven-plugins-22.pom (13 kB at 246 kB/s)\n",
            "Downloading from central: https://repo.maven.apache.org/maven2/org/apache/maven/maven-parent/21/maven-parent-21.pom\n",
            "Downloaded from central: https://repo.maven.apache.org/maven2/org/apache/maven/maven-parent/21/maven-parent-21.pom (26 kB at 613 kB/s)\n",
            "Downloading from central: https://repo.maven.apache.org/maven2/org/apache/apache/10/apache-10.pom\n",
            "Downloaded from central: https://repo.maven.apache.org/maven2/org/apache/apache/10/apache-10.pom (15 kB at 352 kB/s)\n",
            "Downloading from central: https://repo.maven.apache.org/maven2/org/apache/maven/plugins/maven-clean-plugin/2.5/maven-clean-plugin-2.5.jar\n",
            "Downloaded from central: https://repo.maven.apache.org/maven2/org/apache/maven/plugins/maven-clean-plugin/2.5/maven-clean-plugin-2.5.jar (25 kB at 821 kB/s)\n",
            "Downloading from central: https://repo.maven.apache.org/maven2/org/apache/maven/plugins/maven-install-plugin/2.4/maven-install-plugin-2.4.pom\n",
            "Downloaded from central: https://repo.maven.apache.org/maven2/org/apache/maven/plugins/maven-install-plugin/2.4/maven-install-plugin-2.4.pom (6.4 kB at 236 kB/s)\n",
            "Downloading from central: https://repo.maven.apache.org/maven2/org/apache/maven/plugins/maven-plugins/23/maven-plugins-23.pom\n",
            "Downloaded from central: https://repo.maven.apache.org/maven2/org/apache/maven/plugins/maven-plugins/23/maven-plugins-23.pom (9.2 kB at 341 kB/s)\n",
            "Downloading from central: https://repo.maven.apache.org/maven2/org/apache/maven/maven-parent/22/maven-parent-22.pom\n",
            "Downloaded from central: https://repo.maven.apache.org/maven2/org/apache/maven/maven-parent/22/maven-parent-22.pom (30 kB at 620 kB/s)\n",
            "Downloading from central: https://repo.maven.apache.org/maven2/org/apache/apache/11/apache-11.pom\n",
            "Downloaded from central: https://repo.maven.apache.org/maven2/org/apache/apache/11/apache-11.pom (15 kB at 400 kB/s)\n",
            "Downloading from central: https://repo.maven.apache.org/maven2/org/apache/maven/plugins/maven-install-plugin/2.4/maven-install-plugin-2.4.jar\n",
            "Downloaded from central: https://repo.maven.apache.org/maven2/org/apache/maven/plugins/maven-install-plugin/2.4/maven-install-plugin-2.4.jar (27 kB at 963 kB/s)\n",
            "Downloading from central: https://repo.maven.apache.org/maven2/org/apache/maven/plugins/maven-deploy-plugin/2.7/maven-deploy-plugin-2.7.pom\n",
            "Downloaded from central: https://repo.maven.apache.org/maven2/org/apache/maven/plugins/maven-deploy-plugin/2.7/maven-deploy-plugin-2.7.pom (5.6 kB at 156 kB/s)\n",
            "Downloading from central: https://repo.maven.apache.org/maven2/org/apache/maven/plugins/maven-deploy-plugin/2.7/maven-deploy-plugin-2.7.jar\n",
            "Downloaded from central: https://repo.maven.apache.org/maven2/org/apache/maven/plugins/maven-deploy-plugin/2.7/maven-deploy-plugin-2.7.jar (27 kB at 866 kB/s)\n",
            "Downloading from central: https://repo.maven.apache.org/maven2/org/apache/maven/plugins/maven-site-plugin/3.3/maven-site-plugin-3.3.pom\n",
            "Downloaded from central: https://repo.maven.apache.org/maven2/org/apache/maven/plugins/maven-site-plugin/3.3/maven-site-plugin-3.3.pom (21 kB at 452 kB/s)\n",
            "Downloading from central: https://repo.maven.apache.org/maven2/org/apache/maven/plugins/maven-plugins/24/maven-plugins-24.pom\n",
            "Downloaded from central: https://repo.maven.apache.org/maven2/org/apache/maven/plugins/maven-plugins/24/maven-plugins-24.pom (11 kB at 338 kB/s)\n",
            "Downloading from central: https://repo.maven.apache.org/maven2/org/apache/maven/maven-parent/23/maven-parent-23.pom\n",
            "Downloaded from central: https://repo.maven.apache.org/maven2/org/apache/maven/maven-parent/23/maven-parent-23.pom (33 kB at 987 kB/s)\n",
            "Downloading from central: https://repo.maven.apache.org/maven2/org/apache/apache/13/apache-13.pom\n",
            "Downloaded from central: https://repo.maven.apache.org/maven2/org/apache/apache/13/apache-13.pom (14 kB at 482 kB/s)\n",
            "Downloading from central: https://repo.maven.apache.org/maven2/org/apache/maven/plugins/maven-site-plugin/3.3/maven-site-plugin-3.3.jar\n",
            "Downloaded from central: https://repo.maven.apache.org/maven2/org/apache/maven/plugins/maven-site-plugin/3.3/maven-site-plugin-3.3.jar (124 kB at 2.6 MB/s)\n",
            "Downloading from central: https://repo.maven.apache.org/maven2/org/apache/maven/plugins/maven-antrun-plugin/1.3/maven-antrun-plugin-1.3.pom\n",
            "Downloaded from central: https://repo.maven.apache.org/maven2/org/apache/maven/plugins/maven-antrun-plugin/1.3/maven-antrun-plugin-1.3.pom (4.7 kB at 139 kB/s)\n",
            "Downloading from central: https://repo.maven.apache.org/maven2/org/apache/maven/plugins/maven-plugins/12/maven-plugins-12.pom\n",
            "Downloaded from central: https://repo.maven.apache.org/maven2/org/apache/maven/plugins/maven-plugins/12/maven-plugins-12.pom (12 kB at 452 kB/s)\n",
            "Downloading from central: https://repo.maven.apache.org/maven2/org/apache/maven/maven-parent/9/maven-parent-9.pom\n",
            "Downloaded from central: https://repo.maven.apache.org/maven2/org/apache/maven/maven-parent/9/maven-parent-9.pom (33 kB at 547 kB/s)\n",
            "Downloading from central: https://repo.maven.apache.org/maven2/org/apache/apache/4/apache-4.pom\n",
            "Downloaded from central: https://repo.maven.apache.org/maven2/org/apache/apache/4/apache-4.pom (4.5 kB at 121 kB/s)\n",
            "Downloading from central: https://repo.maven.apache.org/maven2/org/apache/maven/plugins/maven-antrun-plugin/1.3/maven-antrun-plugin-1.3.jar\n",
            "Downloaded from central: https://repo.maven.apache.org/maven2/org/apache/maven/plugins/maven-antrun-plugin/1.3/maven-antrun-plugin-1.3.jar (24 kB at 873 kB/s)\n",
            "Downloading from central: https://repo.maven.apache.org/maven2/org/apache/maven/plugins/maven-assembly-plugin/2.2-beta-5/maven-assembly-plugin-2.2-beta-5.pom\n",
            "Downloaded from central: https://repo.maven.apache.org/maven2/org/apache/maven/plugins/maven-assembly-plugin/2.2-beta-5/maven-assembly-plugin-2.2-beta-5.pom (15 kB at 606 kB/s)\n",
            "Downloading from central: https://repo.maven.apache.org/maven2/org/apache/maven/plugins/maven-plugins/16/maven-plugins-16.pom\n",
            "Downloaded from central: https://repo.maven.apache.org/maven2/org/apache/maven/plugins/maven-plugins/16/maven-plugins-16.pom (13 kB at 540 kB/s)\n",
            "Downloading from central: https://repo.maven.apache.org/maven2/org/apache/maven/maven-parent/15/maven-parent-15.pom\n",
            "Downloaded from central: https://repo.maven.apache.org/maven2/org/apache/maven/maven-parent/15/maven-parent-15.pom (24 kB at 828 kB/s)\n",
            "Downloading from central: https://repo.maven.apache.org/maven2/org/apache/apache/6/apache-6.pom\n",
            "Downloaded from central: https://repo.maven.apache.org/maven2/org/apache/apache/6/apache-6.pom (13 kB at 492 kB/s)\n",
            "Downloading from central: https://repo.maven.apache.org/maven2/org/apache/maven/plugins/maven-assembly-plugin/2.2-beta-5/maven-assembly-plugin-2.2-beta-5.jar\n",
            "Downloaded from central: https://repo.maven.apache.org/maven2/org/apache/maven/plugins/maven-assembly-plugin/2.2-beta-5/maven-assembly-plugin-2.2-beta-5.jar (209 kB at 3.1 MB/s)\n",
            "Downloading from central: https://repo.maven.apache.org/maven2/org/apache/maven/plugins/maven-dependency-plugin/2.8/maven-dependency-plugin-2.8.pom\n",
            "Downloaded from central: https://repo.maven.apache.org/maven2/org/apache/maven/plugins/maven-dependency-plugin/2.8/maven-dependency-plugin-2.8.pom (11 kB at 477 kB/s)\n",
            "Downloading from central: https://repo.maven.apache.org/maven2/org/apache/maven/plugins/maven-dependency-plugin/2.8/maven-dependency-plugin-2.8.jar\n",
            "Downloaded from central: https://repo.maven.apache.org/maven2/org/apache/maven/plugins/maven-dependency-plugin/2.8/maven-dependency-plugin-2.8.jar (153 kB at 3.7 MB/s)\n",
            "Downloading from central: https://repo.maven.apache.org/maven2/org/apache/maven/plugins/maven-release-plugin/2.5.3/maven-release-plugin-2.5.3.pom\n",
            "Downloaded from central: https://repo.maven.apache.org/maven2/org/apache/maven/plugins/maven-release-plugin/2.5.3/maven-release-plugin-2.5.3.pom (11 kB at 299 kB/s)\n",
            "Downloading from central: https://repo.maven.apache.org/maven2/org/apache/maven/release/maven-release/2.5.3/maven-release-2.5.3.pom\n",
            "Downloaded from central: https://repo.maven.apache.org/maven2/org/apache/maven/release/maven-release/2.5.3/maven-release-2.5.3.pom (5.0 kB at 228 kB/s)\n",
            "Downloading from central: https://repo.maven.apache.org/maven2/org/apache/maven/maven-parent/27/maven-parent-27.pom\n",
            "Downloaded from central: https://repo.maven.apache.org/maven2/org/apache/maven/maven-parent/27/maven-parent-27.pom (41 kB at 1.2 MB/s)\n",
            "Downloading from central: https://repo.maven.apache.org/maven2/org/apache/apache/17/apache-17.pom\n",
            "Downloaded from central: https://repo.maven.apache.org/maven2/org/apache/apache/17/apache-17.pom (16 kB at 618 kB/s)\n",
            "Downloading from central: https://repo.maven.apache.org/maven2/org/apache/maven/plugins/maven-release-plugin/2.5.3/maven-release-plugin-2.5.3.jar\n",
            "Downloaded from central: https://repo.maven.apache.org/maven2/org/apache/maven/plugins/maven-release-plugin/2.5.3/maven-release-plugin-2.5.3.jar (53 kB at 1.5 MB/s)\n",
            "Downloading from central: https://repo.maven.apache.org/maven2/org/apache/maven/plugins/maven-metadata.xml\n",
            "Downloading from central: https://repo.maven.apache.org/maven2/org/codehaus/mojo/maven-metadata.xml\n",
            "Downloaded from central: https://repo.maven.apache.org/maven2/org/apache/maven/plugins/maven-metadata.xml (14 kB at 357 kB/s)\n",
            "Downloaded from central: https://repo.maven.apache.org/maven2/org/codehaus/mojo/maven-metadata.xml (21 kB at 290 kB/s)\n",
            "Downloading from central: https://repo.maven.apache.org/maven2/org/apache/maven/plugins/maven-archetype-plugin/maven-metadata.xml\n",
            "Downloaded from central: https://repo.maven.apache.org/maven2/org/apache/maven/plugins/maven-archetype-plugin/maven-metadata.xml (1.1 kB at 41 kB/s)\n",
            "Downloading from central: https://repo.maven.apache.org/maven2/org/apache/maven/plugins/maven-archetype-plugin/3.4.0/maven-archetype-plugin-3.4.0.pom\n",
            "Downloaded from central: https://repo.maven.apache.org/maven2/org/apache/maven/plugins/maven-archetype-plugin/3.4.0/maven-archetype-plugin-3.4.0.pom (11 kB at 333 kB/s)\n",
            "Downloading from central: https://repo.maven.apache.org/maven2/org/apache/maven/archetype/maven-archetype/3.4.0/maven-archetype-3.4.0.pom\n",
            "Downloaded from central: https://repo.maven.apache.org/maven2/org/apache/maven/archetype/maven-archetype/3.4.0/maven-archetype-3.4.0.pom (10 kB at 251 kB/s)\n",
            "Downloading from central: https://repo.maven.apache.org/maven2/org/apache/maven/maven-parent/44/maven-parent-44.pom\n",
            "Downloaded from central: https://repo.maven.apache.org/maven2/org/apache/maven/maven-parent/44/maven-parent-44.pom (52 kB at 1.5 MB/s)\n",
            "Downloading from central: https://repo.maven.apache.org/maven2/org/apache/apache/34/apache-34.pom\n",
            "Downloaded from central: https://repo.maven.apache.org/maven2/org/apache/apache/34/apache-34.pom (24 kB at 1.2 MB/s)\n",
            "Downloading from central: https://repo.maven.apache.org/maven2/org/apache/groovy/groovy-bom/4.0.26/groovy-bom-4.0.26.pom\n",
            "Downloaded from central: https://repo.maven.apache.org/maven2/org/apache/groovy/groovy-bom/4.0.26/groovy-bom-4.0.26.pom (27 kB at 1.2 MB/s)\n",
            "Downloading from central: https://repo.maven.apache.org/maven2/org/junit/junit-bom/5.12.1/junit-bom-5.12.1.pom\n",
            "Downloaded from central: https://repo.maven.apache.org/maven2/org/junit/junit-bom/5.12.1/junit-bom-5.12.1.pom (5.6 kB at 246 kB/s)\n",
            "Downloading from central: https://repo.maven.apache.org/maven2/org/apache/maven/plugins/maven-archetype-plugin/3.4.0/maven-archetype-plugin-3.4.0.jar\n",
            "Downloaded from central: https://repo.maven.apache.org/maven2/org/apache/maven/plugins/maven-archetype-plugin/3.4.0/maven-archetype-plugin-3.4.0.jar (100 kB at 2.3 MB/s)\n",
            "[\u001b[1;34mINFO\u001b[m] \n",
            "[\u001b[1;34mINFO\u001b[m] \u001b[1m------------------< \u001b[0;36morg.apache.maven:standalone-pom\u001b[0;1m >-------------------\u001b[m\n",
            "[\u001b[1;34mINFO\u001b[m] \u001b[1mBuilding Maven Stub Project (No POM) 1\u001b[m\n",
            "[\u001b[1;34mINFO\u001b[m] \u001b[1m--------------------------------[ pom ]---------------------------------\u001b[m\n",
            "[\u001b[1;34mINFO\u001b[m] \n",
            "[\u001b[1;34mINFO\u001b[m] \u001b[1m>>> \u001b[0;32mmaven-archetype-plugin:3.4.0:generate\u001b[m \u001b[1m(default-cli)\u001b[0;1m > \u001b[0;1mgenerate-sources\u001b[m @ \u001b[36mstandalone-pom\u001b[0;1m >>>\u001b[m\n",
            "[\u001b[1;34mINFO\u001b[m] \n",
            "[\u001b[1;34mINFO\u001b[m] \u001b[1m<<< \u001b[0;32mmaven-archetype-plugin:3.4.0:generate\u001b[m \u001b[1m(default-cli)\u001b[0;1m < \u001b[0;1mgenerate-sources\u001b[m @ \u001b[36mstandalone-pom\u001b[0;1m <<<\u001b[m\n",
            "[\u001b[1;34mINFO\u001b[m] \n",
            "[\u001b[1;34mINFO\u001b[m] \n",
            "[\u001b[1;34mINFO\u001b[m] \u001b[1m--- \u001b[0;32mmaven-archetype-plugin:3.4.0:generate\u001b[m \u001b[1m(default-cli)\u001b[m @ \u001b[36mstandalone-pom\u001b[0;1m ---\u001b[m\n",
            "Downloading from central: https://repo.maven.apache.org/maven2/org/apache/maven/archetype/archetype-catalog/3.4.0/archetype-catalog-3.4.0.pom\n",
            "Downloaded from central: https://repo.maven.apache.org/maven2/org/apache/maven/archetype/archetype-catalog/3.4.0/archetype-catalog-3.4.0.pom (1.7 kB at 58 kB/s)\n",
            "Downloading from central: https://repo.maven.apache.org/maven2/org/apache/maven/archetype/archetype-models/3.4.0/archetype-models-3.4.0.pom\n",
            "Downloaded from central: https://repo.maven.apache.org/maven2/org/apache/maven/archetype/archetype-models/3.4.0/archetype-models-3.4.0.pom (3.0 kB at 130 kB/s)\n",
            "Downloading from central: https://repo.maven.apache.org/maven2/org/codehaus/plexus/plexus-xml/3.0.1/plexus-xml-3.0.1.pom\n",
            "Downloaded from central: https://repo.maven.apache.org/maven2/org/codehaus/plexus/plexus-xml/3.0.1/plexus-xml-3.0.1.pom (3.7 kB at 185 kB/s)\n",
            "Downloading from central: https://repo.maven.apache.org/maven2/org/codehaus/plexus/plexus/18/plexus-18.pom\n",
            "Downloaded from central: https://repo.maven.apache.org/maven2/org/codehaus/plexus/plexus/18/plexus-18.pom (29 kB at 1.0 MB/s)\n",
            "Downloading from central: https://repo.maven.apache.org/maven2/org/junit/junit-bom/5.10.2/junit-bom-5.10.2.pom\n",
            "Downloaded from central: https://repo.maven.apache.org/maven2/org/junit/junit-bom/5.10.2/junit-bom-5.10.2.pom (5.6 kB at 269 kB/s)\n",
            "Downloading from central: https://repo.maven.apache.org/maven2/org/codehaus/plexus/plexus-utils/4.0.2/plexus-utils-4.0.2.pom\n",
            "Downloaded from central: https://repo.maven.apache.org/maven2/org/codehaus/plexus/plexus-utils/4.0.2/plexus-utils-4.0.2.pom (13 kB at 493 kB/s)\n",
            "Downloading from central: https://repo.maven.apache.org/maven2/org/apache/maven/archetype/archetype-descriptor/3.4.0/archetype-descriptor-3.4.0.pom\n",
            "Downloaded from central: https://repo.maven.apache.org/maven2/org/apache/maven/archetype/archetype-descriptor/3.4.0/archetype-descriptor-3.4.0.pom (1.9 kB at 72 kB/s)\n",
            "Downloading from central: https://repo.maven.apache.org/maven2/org/apache/maven/archetype/archetype-common/3.4.0/archetype-common-3.4.0.pom\n",
            "Downloaded from central: https://repo.maven.apache.org/maven2/org/apache/maven/archetype/archetype-common/3.4.0/archetype-common-3.4.0.pom (18 kB at 761 kB/s)\n",
            "Downloading from central: https://repo.maven.apache.org/maven2/org/apache/groovy/groovy/4.0.26/groovy-4.0.26.pom\n",
            "Downloaded from central: https://repo.maven.apache.org/maven2/org/apache/groovy/groovy/4.0.26/groovy-4.0.26.pom (24 kB at 893 kB/s)\n",
            "Downloading from central: https://repo.maven.apache.org/maven2/org/apache/groovy/groovy-json/4.0.26/groovy-json-4.0.26.pom\n",
            "Downloaded from central: https://repo.maven.apache.org/maven2/org/apache/groovy/groovy-json/4.0.26/groovy-json-4.0.26.pom (23 kB at 564 kB/s)\n",
            "Downloading from central: https://repo.maven.apache.org/maven2/org/apache/groovy/groovy-templates/4.0.26/groovy-templates-4.0.26.pom\n",
            "Downloaded from central: https://repo.maven.apache.org/maven2/org/apache/groovy/groovy-templates/4.0.26/groovy-templates-4.0.26.pom (23 kB at 321 kB/s)\n",
            "Downloading from central: https://repo.maven.apache.org/maven2/org/apache/groovy/groovy-xml/4.0.26/groovy-xml-4.0.26.pom\n",
            "Downloaded from central: https://repo.maven.apache.org/maven2/org/apache/groovy/groovy-xml/4.0.26/groovy-xml-4.0.26.pom (23 kB at 806 kB/s)\n",
            "Downloading from central: https://repo.maven.apache.org/maven2/org/apache/groovy/groovy-yaml/4.0.26/groovy-yaml-4.0.26.pom\n",
            "Downloaded from central: https://repo.maven.apache.org/maven2/org/apache/groovy/groovy-yaml/4.0.26/groovy-yaml-4.0.26.pom (23 kB at 858 kB/s)\n",
            "Downloading from central: https://repo.maven.apache.org/maven2/com/fasterxml/jackson/dataformat/jackson-dataformat-yaml/2.18.2/jackson-dataformat-yaml-2.18.2.pom\n",
            "Downloaded from central: https://repo.maven.apache.org/maven2/com/fasterxml/jackson/dataformat/jackson-dataformat-yaml/2.18.2/jackson-dataformat-yaml-2.18.2.pom (2.6 kB at 105 kB/s)\n",
            "Downloading from central: https://repo.maven.apache.org/maven2/com/fasterxml/jackson/dataformat/jackson-dataformats-text/2.18.2/jackson-dataformats-text-2.18.2.pom\n",
            "Downloaded from central: https://repo.maven.apache.org/maven2/com/fasterxml/jackson/dataformat/jackson-dataformats-text/2.18.2/jackson-dataformats-text-2.18.2.pom (3.7 kB at 142 kB/s)\n",
            "Downloading from central: https://repo.maven.apache.org/maven2/com/fasterxml/jackson/jackson-base/2.18.2/jackson-base-2.18.2.pom\n",
            "Downloaded from central: https://repo.maven.apache.org/maven2/com/fasterxml/jackson/jackson-base/2.18.2/jackson-base-2.18.2.pom (12 kB at 512 kB/s)\n",
            "Downloading from central: https://repo.maven.apache.org/maven2/com/fasterxml/jackson/jackson-bom/2.18.2/jackson-bom-2.18.2.pom\n",
            "Downloaded from central: https://repo.maven.apache.org/maven2/com/fasterxml/jackson/jackson-bom/2.18.2/jackson-bom-2.18.2.pom (19 kB at 890 kB/s)\n",
            "Downloading from central: https://repo.maven.apache.org/maven2/com/fasterxml/jackson/jackson-parent/2.18.1/jackson-parent-2.18.1.pom\n",
            "Downloaded from central: https://repo.maven.apache.org/maven2/com/fasterxml/jackson/jackson-parent/2.18.1/jackson-parent-2.18.1.pom (6.7 kB at 291 kB/s)\n",
            "Downloading from central: https://repo.maven.apache.org/maven2/com/fasterxml/oss-parent/61/oss-parent-61.pom\n",
            "Downloaded from central: https://repo.maven.apache.org/maven2/com/fasterxml/oss-parent/61/oss-parent-61.pom (23 kB at 982 kB/s)\n",
            "Downloading from central: https://repo.maven.apache.org/maven2/com/fasterxml/jackson/core/jackson-databind/2.18.2/jackson-databind-2.18.2.pom\n",
            "Downloaded from central: https://repo.maven.apache.org/maven2/com/fasterxml/jackson/core/jackson-databind/2.18.2/jackson-databind-2.18.2.pom (21 kB at 966 kB/s)\n",
            "Downloading from central: https://repo.maven.apache.org/maven2/com/fasterxml/jackson/core/jackson-annotations/2.18.2/jackson-annotations-2.18.2.pom\n",
            "Downloaded from central: https://repo.maven.apache.org/maven2/com/fasterxml/jackson/core/jackson-annotations/2.18.2/jackson-annotations-2.18.2.pom (7.1 kB at 338 kB/s)\n",
            "Downloading from central: https://repo.maven.apache.org/maven2/com/fasterxml/jackson/core/jackson-core/2.18.2/jackson-core-2.18.2.pom\n",
            "Downloaded from central: https://repo.maven.apache.org/maven2/com/fasterxml/jackson/core/jackson-core/2.18.2/jackson-core-2.18.2.pom (10 kB at 477 kB/s)\n",
            "Downloading from central: https://repo.maven.apache.org/maven2/org/yaml/snakeyaml/2.3/snakeyaml-2.3.pom\n",
            "Downloaded from central: https://repo.maven.apache.org/maven2/org/yaml/snakeyaml/2.3/snakeyaml-2.3.pom (22 kB at 868 kB/s)\n",
            "Downloading from central: https://repo.maven.apache.org/maven2/org/apache/ivy/ivy/2.5.3/ivy-2.5.3.pom\n",
            "Downloaded from central: https://repo.maven.apache.org/maven2/org/apache/ivy/ivy/2.5.3/ivy-2.5.3.pom (7.0 kB at 279 kB/s)\n",
            "Downloading from central: https://repo.maven.apache.org/maven2/org/apache/apache/7/apache-7.pom\n",
            "Downloaded from central: https://repo.maven.apache.org/maven2/org/apache/apache/7/apache-7.pom (14 kB at 687 kB/s)\n",
            "Downloading from central: https://repo.maven.apache.org/maven2/org/jdom/jdom2/2.0.6.1/jdom2-2.0.6.1.pom\n",
            "Downloaded from central: https://repo.maven.apache.org/maven2/org/jdom/jdom2/2.0.6.1/jdom2-2.0.6.1.pom (4.6 kB at 192 kB/s)\n",
            "Downloading from central: https://repo.maven.apache.org/maven2/org/apache/maven/shared/maven-invoker/3.3.0/maven-invoker-3.3.0.pom\n",
            "Downloaded from central: https://repo.maven.apache.org/maven2/org/apache/maven/shared/maven-invoker/3.3.0/maven-invoker-3.3.0.pom (4.2 kB at 202 kB/s)\n",
            "Downloading from central: https://repo.maven.apache.org/maven2/org/apache/maven/shared/maven-shared-components/42/maven-shared-components-42.pom\n",
            "Downloaded from central: https://repo.maven.apache.org/maven2/org/apache/maven/shared/maven-shared-components/42/maven-shared-components-42.pom (3.8 kB at 199 kB/s)\n",
            "Downloading from central: https://repo.maven.apache.org/maven2/org/apache/maven/maven-parent/42/maven-parent-42.pom\n",
            "Downloaded from central: https://repo.maven.apache.org/maven2/org/apache/maven/maven-parent/42/maven-parent-42.pom (50 kB at 2.2 MB/s)\n",
            "Downloading from central: https://repo.maven.apache.org/maven2/org/apache/apache/32/apache-32.pom\n",
            "Downloaded from central: https://repo.maven.apache.org/maven2/org/apache/apache/32/apache-32.pom (24 kB at 1.1 MB/s)\n",
            "Downloading from central: https://repo.maven.apache.org/maven2/org/apache/maven/shared/maven-shared-utils/3.4.2/maven-shared-utils-3.4.2.pom\n",
            "Downloaded from central: https://repo.maven.apache.org/maven2/org/apache/maven/shared/maven-shared-utils/3.4.2/maven-shared-utils-3.4.2.pom (5.9 kB at 218 kB/s)\n",
            "Downloading from central: https://repo.maven.apache.org/maven2/org/apache/maven/shared/maven-shared-components/39/maven-shared-components-39.pom\n",
            "Downloaded from central: https://repo.maven.apache.org/maven2/org/apache/maven/shared/maven-shared-components/39/maven-shared-components-39.pom (3.2 kB at 169 kB/s)\n",
            "Downloading from central: https://repo.maven.apache.org/maven2/org/apache/maven/maven-parent/39/maven-parent-39.pom\n",
            "Downloaded from central: https://repo.maven.apache.org/maven2/org/apache/maven/maven-parent/39/maven-parent-39.pom (48 kB at 1.8 MB/s)\n",
            "Downloading from central: https://repo.maven.apache.org/maven2/org/apache/apache/29/apache-29.pom\n",
            "Downloaded from central: https://repo.maven.apache.org/maven2/org/apache/apache/29/apache-29.pom (21 kB at 1.1 MB/s)\n",
            "Downloading from central: https://repo.maven.apache.org/maven2/org/slf4j/slf4j-api/1.7.36/slf4j-api-1.7.36.pom\n",
            "Downloaded from central: https://repo.maven.apache.org/maven2/org/slf4j/slf4j-api/1.7.36/slf4j-api-1.7.36.pom (2.7 kB at 144 kB/s)\n",
            "Downloading from central: https://repo.maven.apache.org/maven2/org/slf4j/slf4j-parent/1.7.36/slf4j-parent-1.7.36.pom\n",
            "Downloaded from central: https://repo.maven.apache.org/maven2/org/slf4j/slf4j-parent/1.7.36/slf4j-parent-1.7.36.pom (14 kB at 705 kB/s)\n",
            "Downloading from central: https://repo.maven.apache.org/maven2/commons-io/commons-io/2.19.0/commons-io-2.19.0.pom\n",
            "Downloaded from central: https://repo.maven.apache.org/maven2/commons-io/commons-io/2.19.0/commons-io-2.19.0.pom (21 kB at 1.0 MB/s)\n",
            "Downloading from central: https://repo.maven.apache.org/maven2/org/apache/commons/commons-parent/81/commons-parent-81.pom\n",
            "Downloaded from central: https://repo.maven.apache.org/maven2/org/apache/commons/commons-parent/81/commons-parent-81.pom (78 kB at 3.1 MB/s)\n",
            "Downloading from central: https://repo.maven.apache.org/maven2/org/apache/apache/33/apache-33.pom\n",
            "Downloaded from central: https://repo.maven.apache.org/maven2/org/apache/apache/33/apache-33.pom (24 kB at 1.2 MB/s)\n",
            "Downloading from central: https://repo.maven.apache.org/maven2/org/junit/junit-bom/5.11.4/junit-bom-5.11.4.pom\n",
            "Downloaded from central: https://repo.maven.apache.org/maven2/org/junit/junit-bom/5.11.4/junit-bom-5.11.4.pom (5.6 kB at 282 kB/s)\n",
            "Downloading from central: https://repo.maven.apache.org/maven2/javax/inject/javax.inject/1/javax.inject-1.pom\n",
            "Downloaded from central: https://repo.maven.apache.org/maven2/javax/inject/javax.inject/1/javax.inject-1.pom (612 B at 26 kB/s)\n",
            "Downloading from central: https://repo.maven.apache.org/maven2/commons-collections/commons-collections/3.2.2/commons-collections-3.2.2.pom\n",
            "Downloaded from central: https://repo.maven.apache.org/maven2/commons-collections/commons-collections/3.2.2/commons-collections-3.2.2.pom (12 kB at 388 kB/s)\n",
            "Downloading from central: https://repo.maven.apache.org/maven2/org/apache/commons/commons-parent/39/commons-parent-39.pom\n",
            "Downloaded from central: https://repo.maven.apache.org/maven2/org/apache/commons/commons-parent/39/commons-parent-39.pom (62 kB at 2.0 MB/s)\n",
            "Downloading from central: https://repo.maven.apache.org/maven2/org/apache/apache/16/apache-16.pom\n",
            "Downloaded from central: https://repo.maven.apache.org/maven2/org/apache/apache/16/apache-16.pom (15 kB at 855 kB/s)\n",
            "Downloading from central: https://repo.maven.apache.org/maven2/org/codehaus/plexus/plexus-velocity/2.2.1/plexus-velocity-2.2.1.pom\n",
            "Downloaded from central: https://repo.maven.apache.org/maven2/org/codehaus/plexus/plexus-velocity/2.2.1/plexus-velocity-2.2.1.pom (4.1 kB at 169 kB/s)\n",
            "Downloading from central: https://repo.maven.apache.org/maven2/org/codehaus/plexus/plexus/20/plexus-20.pom\n",
            "Downloaded from central: https://repo.maven.apache.org/maven2/org/codehaus/plexus/plexus/20/plexus-20.pom (29 kB at 1.4 MB/s)\n",
            "Downloading from central: https://repo.maven.apache.org/maven2/org/apache/velocity/velocity-engine-core/2.4.1/velocity-engine-core-2.4.1.pom\n",
            "Downloaded from central: https://repo.maven.apache.org/maven2/org/apache/velocity/velocity-engine-core/2.4.1/velocity-engine-core-2.4.1.pom (12 kB at 599 kB/s)\n",
            "Downloading from central: https://repo.maven.apache.org/maven2/org/apache/velocity/velocity-engine-parent/2.4.1/velocity-engine-parent-2.4.1.pom\n",
            "Downloaded from central: https://repo.maven.apache.org/maven2/org/apache/velocity/velocity-engine-parent/2.4.1/velocity-engine-parent-2.4.1.pom (9.5 kB at 432 kB/s)\n",
            "Downloading from central: https://repo.maven.apache.org/maven2/org/apache/velocity/velocity-master/7/velocity-master-7.pom\n",
            "Downloaded from central: https://repo.maven.apache.org/maven2/org/apache/velocity/velocity-master/7/velocity-master-7.pom (7.9 kB at 396 kB/s)\n",
            "Downloading from central: https://repo.maven.apache.org/maven2/org/apache/commons/commons-lang3/3.17.0/commons-lang3-3.17.0.pom\n",
            "Downloaded from central: https://repo.maven.apache.org/maven2/org/apache/commons/commons-lang3/3.17.0/commons-lang3-3.17.0.pom (31 kB at 1.1 MB/s)\n",
            "Downloading from central: https://repo.maven.apache.org/maven2/org/apache/commons/commons-parent/73/commons-parent-73.pom\n",
            "Downloaded from central: https://repo.maven.apache.org/maven2/org/apache/commons/commons-parent/73/commons-parent-73.pom (78 kB at 3.0 MB/s)\n",
            "Downloading from central: https://repo.maven.apache.org/maven2/org/junit/junit-bom/5.11.0/junit-bom-5.11.0.pom\n",
            "Downloaded from central: https://repo.maven.apache.org/maven2/org/junit/junit-bom/5.11.0/junit-bom-5.11.0.pom (5.6 kB at 226 kB/s)\n",
            "Downloading from central: https://repo.maven.apache.org/maven2/com/ibm/icu/icu4j/77.1/icu4j-77.1.pom\n",
            "Downloaded from central: https://repo.maven.apache.org/maven2/com/ibm/icu/icu4j/77.1/icu4j-77.1.pom (1.5 kB at 74 kB/s)\n",
            "Downloading from central: https://repo.maven.apache.org/maven2/org/apache/maven/maven-archiver/3.6.3/maven-archiver-3.6.3.pom\n",
            "Downloaded from central: https://repo.maven.apache.org/maven2/org/apache/maven/maven-archiver/3.6.3/maven-archiver-3.6.3.pom (4.2 kB at 175 kB/s)\n",
            "Downloading from central: https://repo.maven.apache.org/maven2/org/apache/maven/shared/maven-shared-components/43/maven-shared-components-43.pom\n",
            "Downloaded from central: https://repo.maven.apache.org/maven2/org/apache/maven/shared/maven-shared-components/43/maven-shared-components-43.pom (3.8 kB at 199 kB/s)\n",
            "Downloading from central: https://repo.maven.apache.org/maven2/org/apache/maven/maven-parent/43/maven-parent-43.pom\n",
            "Downloaded from central: https://repo.maven.apache.org/maven2/org/apache/maven/maven-parent/43/maven-parent-43.pom (50 kB at 2.4 MB/s)\n",
            "Downloading from central: https://repo.maven.apache.org/maven2/org/junit/junit-bom/5.10.3/junit-bom-5.10.3.pom\n",
            "Downloaded from central: https://repo.maven.apache.org/maven2/org/junit/junit-bom/5.10.3/junit-bom-5.10.3.pom (5.6 kB at 257 kB/s)\n",
            "Downloading from central: https://repo.maven.apache.org/maven2/org/codehaus/plexus/plexus-archiver/4.10.0/plexus-archiver-4.10.0.pom\n",
            "Downloaded from central: https://repo.maven.apache.org/maven2/org/codehaus/plexus/plexus-archiver/4.10.0/plexus-archiver-4.10.0.pom (5.8 kB at 253 kB/s)\n",
            "Downloading from central: https://repo.maven.apache.org/maven2/org/codehaus/plexus/plexus-io/3.5.0/plexus-io-3.5.0.pom\n",
            "Downloaded from central: https://repo.maven.apache.org/maven2/org/codehaus/plexus/plexus-io/3.5.0/plexus-io-3.5.0.pom (4.3 kB at 207 kB/s)\n",
            "Downloading from central: https://repo.maven.apache.org/maven2/org/apache/commons/commons-compress/1.26.2/commons-compress-1.26.2.pom\n",
            "Downloaded from central: https://repo.maven.apache.org/maven2/org/apache/commons/commons-compress/1.26.2/commons-compress-1.26.2.pom (23 kB at 1.1 MB/s)\n",
            "Downloading from central: https://repo.maven.apache.org/maven2/org/apache/commons/commons-parent/69/commons-parent-69.pom\n",
            "Downloaded from central: https://repo.maven.apache.org/maven2/org/apache/commons/commons-parent/69/commons-parent-69.pom (77 kB at 3.5 MB/s)\n",
            "Downloading from central: https://repo.maven.apache.org/maven2/org/apache/apache/31/apache-31.pom\n",
            "Downloaded from central: https://repo.maven.apache.org/maven2/org/apache/apache/31/apache-31.pom (24 kB at 1.1 MB/s)\n",
            "Downloading from central: https://repo.maven.apache.org/maven2/commons-codec/commons-codec/1.17.0/commons-codec-1.17.0.pom\n",
            "Downloaded from central: https://repo.maven.apache.org/maven2/commons-codec/commons-codec/1.17.0/commons-codec-1.17.0.pom (18 kB at 894 kB/s)\n",
            "Downloading from central: https://repo.maven.apache.org/maven2/io/airlift/aircompressor/0.27/aircompressor-0.27.pom\n",
            "Downloaded from central: https://repo.maven.apache.org/maven2/io/airlift/aircompressor/0.27/aircompressor-0.27.pom (5.8 kB at 288 kB/s)\n",
            "Downloading from central: https://repo.maven.apache.org/maven2/io/airlift/airbase/112/airbase-112.pom\n",
            "Downloaded from central: https://repo.maven.apache.org/maven2/io/airlift/airbase/112/airbase-112.pom (69 kB at 2.9 MB/s)\n",
            "Downloading from central: https://repo.maven.apache.org/maven2/org/junit/junit-bom/5.8.0-M1/junit-bom-5.8.0-M1.pom\n",
            "Downloaded from central: https://repo.maven.apache.org/maven2/org/junit/junit-bom/5.8.0-M1/junit-bom-5.8.0-M1.pom (5.7 kB at 211 kB/s)\n",
            "Downloading from central: https://repo.maven.apache.org/maven2/org/tukaani/xz/1.9/xz-1.9.pom\n",
            "Downloaded from central: https://repo.maven.apache.org/maven2/org/tukaani/xz/1.9/xz-1.9.pom (2.0 kB at 114 kB/s)\n",
            "Downloading from central: https://repo.maven.apache.org/maven2/com/github/luben/zstd-jni/1.5.6-3/zstd-jni-1.5.6-3.pom\n",
            "Downloaded from central: https://repo.maven.apache.org/maven2/com/github/luben/zstd-jni/1.5.6-3/zstd-jni-1.5.6-3.pom (2.0 kB at 87 kB/s)\n",
            "Downloading from central: https://repo.maven.apache.org/maven2/org/codehaus/plexus/plexus-interpolation/1.27/plexus-interpolation-1.27.pom\n",
            "Downloaded from central: https://repo.maven.apache.org/maven2/org/codehaus/plexus/plexus-interpolation/1.27/plexus-interpolation-1.27.pom (3.0 kB at 137 kB/s)\n",
            "Downloading from central: https://repo.maven.apache.org/maven2/org/codehaus/plexus/plexus/16/plexus-16.pom\n",
            "Downloaded from central: https://repo.maven.apache.org/maven2/org/codehaus/plexus/plexus/16/plexus-16.pom (28 kB at 1.4 MB/s)\n",
            "Downloading from central: https://repo.maven.apache.org/maven2/org/junit/junit-bom/5.10.1/junit-bom-5.10.1.pom\n",
            "Downloaded from central: https://repo.maven.apache.org/maven2/org/junit/junit-bom/5.10.1/junit-bom-5.10.1.pom (5.6 kB at 269 kB/s)\n",
            "Downloading from central: https://repo.maven.apache.org/maven2/org/codehaus/plexus/plexus-interactivity-api/1.4/plexus-interactivity-api-1.4.pom\n",
            "Downloaded from central: https://repo.maven.apache.org/maven2/org/codehaus/plexus/plexus-interactivity-api/1.4/plexus-interactivity-api-1.4.pom (1.7 kB at 84 kB/s)\n",
            "Downloading from central: https://repo.maven.apache.org/maven2/org/codehaus/plexus/plexus-interactivity/1.4/plexus-interactivity-1.4.pom\n",
            "Downloaded from central: https://repo.maven.apache.org/maven2/org/codehaus/plexus/plexus-interactivity/1.4/plexus-interactivity-1.4.pom (1.7 kB at 83 kB/s)\n",
            "Downloading from central: https://repo.maven.apache.org/maven2/org/apache/maven/plugin-tools/maven-plugin-annotations/3.15.1/maven-plugin-annotations-3.15.1.pom\n",
            "Downloaded from central: https://repo.maven.apache.org/maven2/org/apache/maven/plugin-tools/maven-plugin-annotations/3.15.1/maven-plugin-annotations-3.15.1.pom (1.5 kB at 70 kB/s)\n",
            "Downloading from central: https://repo.maven.apache.org/maven2/org/apache/maven/plugin-tools/maven-plugin-tools/3.15.1/maven-plugin-tools-3.15.1.pom\n",
            "Downloaded from central: https://repo.maven.apache.org/maven2/org/apache/maven/plugin-tools/maven-plugin-tools/3.15.1/maven-plugin-tools-3.15.1.pom (18 kB at 882 kB/s)\n",
            "Downloading from central: https://repo.maven.apache.org/maven2/org/junit/junit-bom/5.11.3/junit-bom-5.11.3.pom\n",
            "Downloaded from central: https://repo.maven.apache.org/maven2/org/junit/junit-bom/5.11.3/junit-bom-5.11.3.pom (5.6 kB at 282 kB/s)\n",
            "Downloading from central: https://repo.maven.apache.org/maven2/org/apache/maven/shared/maven-script-interpreter/1.5/maven-script-interpreter-1.5.pom\n",
            "Downloaded from central: https://repo.maven.apache.org/maven2/org/apache/maven/shared/maven-script-interpreter/1.5/maven-script-interpreter-1.5.pom (4.6 kB at 211 kB/s)\n",
            "Downloading from central: https://repo.maven.apache.org/maven2/org/apache/maven/shared/maven-shared-components/41/maven-shared-components-41.pom\n",
            "Downloaded from central: https://repo.maven.apache.org/maven2/org/apache/maven/shared/maven-shared-components/41/maven-shared-components-41.pom (3.2 kB at 167 kB/s)\n",
            "Downloading from central: https://repo.maven.apache.org/maven2/org/apache/maven/maven-parent/41/maven-parent-41.pom\n",
            "Downloaded from central: https://repo.maven.apache.org/maven2/org/apache/maven/maven-parent/41/maven-parent-41.pom (50 kB at 2.3 MB/s)\n",
            "Downloading from central: https://repo.maven.apache.org/maven2/org/apache-extras/beanshell/bsh/2.0b6/bsh-2.0b6.pom\n",
            "Downloaded from central: https://repo.maven.apache.org/maven2/org/apache-extras/beanshell/bsh/2.0b6/bsh-2.0b6.pom (5.0 kB at 185 kB/s)\n",
            "Downloading from central: https://repo.maven.apache.org/maven2/org/apache/maven/archetype/archetype-catalog/3.4.0/archetype-catalog-3.4.0.jar\n",
            "Downloading from central: https://repo.maven.apache.org/maven2/org/codehaus/plexus/plexus-xml/3.0.1/plexus-xml-3.0.1.jar\n",
            "Downloading from central: https://repo.maven.apache.org/maven2/org/apache/maven/archetype/archetype-common/3.4.0/archetype-common-3.4.0.jar\n",
            "Downloading from central: https://repo.maven.apache.org/maven2/org/apache/maven/archetype/archetype-descriptor/3.4.0/archetype-descriptor-3.4.0.jar\n",
            "Downloading from central: https://repo.maven.apache.org/maven2/org/apache/groovy/groovy/4.0.26/groovy-4.0.26.jar\n",
            "Downloaded from central: https://repo.maven.apache.org/maven2/org/apache/maven/archetype/archetype-descriptor/3.4.0/archetype-descriptor-3.4.0.jar (24 kB at 667 kB/s)\n",
            "Downloading from central: https://repo.maven.apache.org/maven2/org/apache/groovy/groovy-json/4.0.26/groovy-json-4.0.26.jar\n",
            "Downloaded from central: https://repo.maven.apache.org/maven2/org/apache/maven/archetype/archetype-catalog/3.4.0/archetype-catalog-3.4.0.jar (19 kB at 345 kB/s)\n",
            "Downloading from central: https://repo.maven.apache.org/maven2/org/apache/groovy/groovy-templates/4.0.26/groovy-templates-4.0.26.jar\n",
            "Downloaded from central: https://repo.maven.apache.org/maven2/org/codehaus/plexus/plexus-xml/3.0.1/plexus-xml-3.0.1.jar (94 kB at 1.2 MB/s)\n",
            "Downloading from central: https://repo.maven.apache.org/maven2/org/apache/groovy/groovy-xml/4.0.26/groovy-xml-4.0.26.jar\n",
            "Downloaded from central: https://repo.maven.apache.org/maven2/org/apache/groovy/groovy-templates/4.0.26/groovy-templates-4.0.26.jar (93 kB at 610 kB/s)\n",
            "Downloaded from central: https://repo.maven.apache.org/maven2/org/apache/groovy/groovy-json/4.0.26/groovy-json-4.0.26.jar (130 kB at 853 kB/s)\n",
            "Downloading from central: https://repo.maven.apache.org/maven2/com/fasterxml/jackson/dataformat/jackson-dataformat-yaml/2.18.2/jackson-dataformat-yaml-2.18.2.jar\n",
            "Downloading from central: https://repo.maven.apache.org/maven2/org/apache/groovy/groovy-yaml/4.0.26/groovy-yaml-4.0.26.jar\n",
            "Downloaded from central: https://repo.maven.apache.org/maven2/org/apache/maven/archetype/archetype-common/3.4.0/archetype-common-3.4.0.jar (175 kB at 943 kB/s)\n",
            "Downloading from central: https://repo.maven.apache.org/maven2/org/yaml/snakeyaml/2.3/snakeyaml-2.3.jar\n",
            "Downloaded from central: https://repo.maven.apache.org/maven2/com/fasterxml/jackson/dataformat/jackson-dataformat-yaml/2.18.2/jackson-dataformat-yaml-2.18.2.jar (56 kB at 272 kB/s)\n",
            "Downloading from central: https://repo.maven.apache.org/maven2/com/fasterxml/jackson/core/jackson-core/2.18.2/jackson-core-2.18.2.jar\n",
            "Downloaded from central: https://repo.maven.apache.org/maven2/org/apache/groovy/groovy-yaml/4.0.26/groovy-yaml-4.0.26.jar (6.2 kB at 30 kB/s)\n",
            "Downloading from central: https://repo.maven.apache.org/maven2/com/fasterxml/jackson/core/jackson-databind/2.18.2/jackson-databind-2.18.2.jar\n",
            "Downloaded from central: https://repo.maven.apache.org/maven2/org/apache/groovy/groovy-xml/4.0.26/groovy-xml-4.0.26.jar (214 kB at 844 kB/s)\n",
            "Downloading from central: https://repo.maven.apache.org/maven2/com/fasterxml/jackson/core/jackson-annotations/2.18.2/jackson-annotations-2.18.2.jar\n",
            "Downloaded from central: https://repo.maven.apache.org/maven2/com/fasterxml/jackson/core/jackson-annotations/2.18.2/jackson-annotations-2.18.2.jar (78 kB at 228 kB/s)\n",
            "Downloading from central: https://repo.maven.apache.org/maven2/org/apache/ivy/ivy/2.5.3/ivy-2.5.3.jar\n",
            "Downloaded from central: https://repo.maven.apache.org/maven2/org/yaml/snakeyaml/2.3/snakeyaml-2.3.jar (342 kB at 871 kB/s)\n",
            "Downloading from central: https://repo.maven.apache.org/maven2/org/jdom/jdom2/2.0.6.1/jdom2-2.0.6.1.jar\n",
            "Downloaded from central: https://repo.maven.apache.org/maven2/org/jdom/jdom2/2.0.6.1/jdom2-2.0.6.1.jar (328 kB at 466 kB/s)\n",
            "Downloading from central: https://repo.maven.apache.org/maven2/commons-io/commons-io/2.19.0/commons-io-2.19.0.jar\n",
            "Downloaded from central: https://repo.maven.apache.org/maven2/com/fasterxml/jackson/core/jackson-core/2.18.2/jackson-core-2.18.2.jar (598 kB at 836 kB/s)\n",
            "Downloading from central: https://repo.maven.apache.org/maven2/org/codehaus/plexus/plexus-velocity/2.2.1/plexus-velocity-2.2.1.jar\n",
            "Downloaded from central: https://repo.maven.apache.org/maven2/org/codehaus/plexus/plexus-velocity/2.2.1/plexus-velocity-2.2.1.jar (5.7 kB at 7.6 kB/s)\n",
            "Downloading from central: https://repo.maven.apache.org/maven2/com/ibm/icu/icu4j/77.1/icu4j-77.1.jar\n",
            "Downloaded from central: https://repo.maven.apache.org/maven2/com/fasterxml/jackson/core/jackson-databind/2.18.2/jackson-databind-2.18.2.jar (1.7 MB at 2.0 MB/s)\n",
            "Downloading from central: https://repo.maven.apache.org/maven2/org/apache/maven/maven-archiver/3.6.3/maven-archiver-3.6.3.jar\n",
            "Downloaded from central: https://repo.maven.apache.org/maven2/org/apache/maven/maven-archiver/3.6.3/maven-archiver-3.6.3.jar (27 kB at 29 kB/s)\n",
            "Downloading from central: https://repo.maven.apache.org/maven2/org/codehaus/plexus/plexus-interpolation/1.27/plexus-interpolation-1.27.jar\n",
            "Downloaded from central: https://repo.maven.apache.org/maven2/org/apache/ivy/ivy/2.5.3/ivy-2.5.3.jar (1.4 MB at 1.4 MB/s)\n",
            "Downloading from central: https://repo.maven.apache.org/maven2/org/codehaus/plexus/plexus-archiver/4.10.0/plexus-archiver-4.10.0.jar\n",
            "Downloaded from central: https://repo.maven.apache.org/maven2/org/codehaus/plexus/plexus-interpolation/1.27/plexus-interpolation-1.27.jar (86 kB at 86 kB/s)\n",
            "Downloading from central: https://repo.maven.apache.org/maven2/javax/inject/javax.inject/1/javax.inject-1.jar\n",
            "Downloaded from central: https://repo.maven.apache.org/maven2/commons-io/commons-io/2.19.0/commons-io-2.19.0.jar (556 kB at 535 kB/s)\n",
            "Downloaded from central: https://repo.maven.apache.org/maven2/javax/inject/javax.inject/1/javax.inject-1.jar (2.5 kB at 2.4 kB/s)\n",
            "Downloading from central: https://repo.maven.apache.org/maven2/org/codehaus/plexus/plexus-io/3.5.0/plexus-io-3.5.0.jar\n",
            "Downloading from central: https://repo.maven.apache.org/maven2/org/apache/commons/commons-compress/1.26.2/commons-compress-1.26.2.jar\n",
            "Downloaded from central: https://repo.maven.apache.org/maven2/org/codehaus/plexus/plexus-io/3.5.0/plexus-io-3.5.0.jar (79 kB at 70 kB/s)\n",
            "Downloading from central: https://repo.maven.apache.org/maven2/commons-codec/commons-codec/1.17.0/commons-codec-1.17.0.jar\n",
            "Downloaded from central: https://repo.maven.apache.org/maven2/org/codehaus/plexus/plexus-archiver/4.10.0/plexus-archiver-4.10.0.jar (225 kB at 197 kB/s)\n",
            "Downloading from central: https://repo.maven.apache.org/maven2/io/airlift/aircompressor/0.27/aircompressor-0.27.jar\n",
            "Downloaded from central: https://repo.maven.apache.org/maven2/org/apache/groovy/groovy/4.0.26/groovy-4.0.26.jar (7.6 MB at 5.8 MB/s)\n",
            "Downloading from central: https://repo.maven.apache.org/maven2/org/tukaani/xz/1.9/xz-1.9.jar\n",
            "Downloaded from central: https://repo.maven.apache.org/maven2/io/airlift/aircompressor/0.27/aircompressor-0.27.jar (255 kB at 185 kB/s)\n",
            "Downloading from central: https://repo.maven.apache.org/maven2/com/github/luben/zstd-jni/1.5.6-3/zstd-jni-1.5.6-3.jar\n",
            "Downloaded from central: https://repo.maven.apache.org/maven2/org/tukaani/xz/1.9/xz-1.9.jar (116 kB at 84 kB/s)\n",
            "Downloading from central: https://repo.maven.apache.org/maven2/org/codehaus/plexus/plexus-utils/4.0.2/plexus-utils-4.0.2.jar\n",
            "Downloaded from central: https://repo.maven.apache.org/maven2/commons-codec/commons-codec/1.17.0/commons-codec-1.17.0.jar (373 kB at 268 kB/s)\n",
            "Downloading from central: https://repo.maven.apache.org/maven2/org/codehaus/plexus/plexus-interactivity-api/1.4/plexus-interactivity-api-1.4.jar\n",
            "Downloaded from central: https://repo.maven.apache.org/maven2/org/codehaus/plexus/plexus-interactivity-api/1.4/plexus-interactivity-api-1.4.jar (10 kB at 7.3 kB/s)\n",
            "Downloading from central: https://repo.maven.apache.org/maven2/org/apache/maven/plugin-tools/maven-plugin-annotations/3.15.1/maven-plugin-annotations-3.15.1.jar\n",
            "Downloaded from central: https://repo.maven.apache.org/maven2/org/apache/maven/plugin-tools/maven-plugin-annotations/3.15.1/maven-plugin-annotations-3.15.1.jar (14 kB at 9.5 kB/s)\n",
            "Downloading from central: https://repo.maven.apache.org/maven2/org/apache/maven/shared/maven-shared-utils/3.4.2/maven-shared-utils-3.4.2.jar\n",
            "Downloaded from central: https://repo.maven.apache.org/maven2/org/apache/commons/commons-compress/1.26.2/commons-compress-1.26.2.jar (1.1 MB at 734 kB/s)\n",
            "Downloading from central: https://repo.maven.apache.org/maven2/org/apache/maven/shared/maven-invoker/3.3.0/maven-invoker-3.3.0.jar\n",
            "Downloaded from central: https://repo.maven.apache.org/maven2/org/codehaus/plexus/plexus-utils/4.0.2/plexus-utils-4.0.2.jar (193 kB at 129 kB/s)\n",
            "Downloading from central: https://repo.maven.apache.org/maven2/org/apache/commons/commons-lang3/3.17.0/commons-lang3-3.17.0.jar\n",
            "Downloaded from central: https://repo.maven.apache.org/maven2/org/apache/maven/shared/maven-invoker/3.3.0/maven-invoker-3.3.0.jar (34 kB at 22 kB/s)\n",
            "Downloading from central: https://repo.maven.apache.org/maven2/org/apache/velocity/velocity-engine-core/2.4.1/velocity-engine-core-2.4.1.jar\n",
            "Downloaded from central: https://repo.maven.apache.org/maven2/org/apache/maven/shared/maven-shared-utils/3.4.2/maven-shared-utils-3.4.2.jar (151 kB at 96 kB/s)\n",
            "Downloading from central: https://repo.maven.apache.org/maven2/commons-collections/commons-collections/3.2.2/commons-collections-3.2.2.jar\n",
            "Downloaded from central: https://repo.maven.apache.org/maven2/org/apache/commons/commons-lang3/3.17.0/commons-lang3-3.17.0.jar (674 kB at 345 kB/s)\n",
            "Downloading from central: https://repo.maven.apache.org/maven2/org/apache/maven/shared/maven-script-interpreter/1.5/maven-script-interpreter-1.5.jar\n",
            "Downloaded from central: https://repo.maven.apache.org/maven2/org/apache/velocity/velocity-engine-core/2.4.1/velocity-engine-core-2.4.1.jar (516 kB at 263 kB/s)\n",
            "Downloading from central: https://repo.maven.apache.org/maven2/org/apache-extras/beanshell/bsh/2.0b6/bsh-2.0b6.jar\n",
            "Downloaded from central: https://repo.maven.apache.org/maven2/org/apache/maven/shared/maven-script-interpreter/1.5/maven-script-interpreter-1.5.jar (25 kB at 12 kB/s)\n",
            "Downloading from central: https://repo.maven.apache.org/maven2/org/slf4j/slf4j-api/1.7.36/slf4j-api-1.7.36.jar\n",
            "Downloaded from central: https://repo.maven.apache.org/maven2/commons-collections/commons-collections/3.2.2/commons-collections-3.2.2.jar (588 kB at 284 kB/s)\n",
            "Downloaded from central: https://repo.maven.apache.org/maven2/org/slf4j/slf4j-api/1.7.36/slf4j-api-1.7.36.jar (41 kB at 19 kB/s)\n",
            "Downloaded from central: https://repo.maven.apache.org/maven2/org/apache-extras/beanshell/bsh/2.0b6/bsh-2.0b6.jar (389 kB at 176 kB/s)\n",
            "Downloaded from central: https://repo.maven.apache.org/maven2/com/github/luben/zstd-jni/1.5.6-3/zstd-jni-1.5.6-3.jar (6.7 MB at 2.7 MB/s)\n",
            "Downloaded from central: https://repo.maven.apache.org/maven2/com/ibm/icu/icu4j/77.1/icu4j-77.1.jar (15 MB at 5.6 MB/s)\n",
            "[\u001b[1;34mINFO\u001b[m] Generating project in Batch mode\n",
            "Downloading from central: https://repo.maven.apache.org/maven2/archetype-catalog.xml\n",
            "Downloaded from central: https://repo.maven.apache.org/maven2/archetype-catalog.xml (17 MB at 23 MB/s)\n",
            "Downloading from central: https://repo.maven.apache.org/maven2/org/apache/maven/archetypes/maven-archetype-quickstart/1.0/maven-archetype-quickstart-1.0.jar\n",
            "Downloaded from central: https://repo.maven.apache.org/maven2/org/apache/maven/archetypes/maven-archetype-quickstart/1.0/maven-archetype-quickstart-1.0.jar (4.3 kB at 187 kB/s)\n",
            "[\u001b[1;34mINFO\u001b[m] ----------------------------------------------------------------------------\n",
            "[\u001b[1;34mINFO\u001b[m] Using following parameters for creating project from Old (1.x) Archetype: maven-archetype-quickstart:1.0\n",
            "[\u001b[1;34mINFO\u001b[m] ----------------------------------------------------------------------------\n",
            "[\u001b[1;34mINFO\u001b[m] Parameter: basedir, Value: /content\n",
            "[\u001b[1;34mINFO\u001b[m] Parameter: package, Value: com.example\n",
            "[\u001b[1;34mINFO\u001b[m] Parameter: groupId, Value: com.example\n",
            "[\u001b[1;34mINFO\u001b[m] Parameter: artifactId, Value: testng-demo\n",
            "[\u001b[1;34mINFO\u001b[m] Parameter: packageName, Value: com.example\n",
            "[\u001b[1;34mINFO\u001b[m] Parameter: version, Value: 1.0-SNAPSHOT\n",
            "[\u001b[1;34mINFO\u001b[m] project created from Old (1.x) Archetype in dir: /content/testng-demo\n",
            "[\u001b[1;34mINFO\u001b[m] \u001b[1m------------------------------------------------------------------------\u001b[m\n",
            "[\u001b[1;34mINFO\u001b[m] \u001b[1;32mBUILD SUCCESS\u001b[m\n",
            "[\u001b[1;34mINFO\u001b[m] \u001b[1m------------------------------------------------------------------------\u001b[m\n",
            "[\u001b[1;34mINFO\u001b[m] Total time:  11.356 s\n",
            "[\u001b[1;34mINFO\u001b[m] Finished at: 2025-09-14T17:39:23Z\n",
            "[\u001b[1;34mINFO\u001b[m] \u001b[1m------------------------------------------------------------------------\u001b[m\n"
          ]
        }
      ]
    },
    {
      "cell_type": "markdown",
      "source": [
        "**Add TestNG Dependency in pom.xml**"
      ],
      "metadata": {
        "id": "s7fhO9IVbNbu"
      }
    },
    {
      "cell_type": "code",
      "source": [
        "%%writefile testng-demo/pom.xml\n",
        "<project xmlns=\"http://maven.apache.org/POM/4.0.0\"\n",
        "         xmlns:xsi=\"http://www.w3.org/2001/XMLSchema-instance\"\n",
        "         xsi:schemaLocation=\"http://maven.apache.org/POM/4.0.0\n",
        "                             http://maven.apache.org/xsd/maven-4.0.0.xsd\">\n",
        "\n",
        "  <modelVersion>4.0.0</modelVersion>\n",
        "  <groupId>com.example</groupId>\n",
        "  <artifactId>testng-demo</artifactId>\n",
        "  <version>1.0-SNAPSHOT</version>\n",
        "\n",
        "  <properties>\n",
        "    <maven.compiler.source>11</maven.compiler.source>\n",
        "    <maven.compiler.target>11</maven.compiler.target>\n",
        "  </properties>\n",
        "\n",
        "  <dependencies>\n",
        "    <!-- ✅ TestNG Dependency -->\n",
        "    <dependency>\n",
        "      <groupId>org.testng</groupId>\n",
        "      <artifactId>testng</artifactId>\n",
        "      <version>7.9.0</version>\n",
        "      <scope>test</scope>\n",
        "    </dependency>\n",
        "  </dependencies>\n",
        "\n",
        "  <build>\n",
        "    <plugins>\n",
        "      <!-- Compiler Plugin -->\n",
        "      <plugin>\n",
        "        <groupId>org.apache.maven.plugins</groupId>\n",
        "        <artifactId>maven-compiler-plugin</artifactId>\n",
        "        <version>3.8.1</version>\n",
        "        <configuration>\n",
        "          <source>11</source>\n",
        "          <target>11</target>\n",
        "        </configuration>\n",
        "      </plugin>\n",
        "\n",
        "      <!-- Surefire Plugin for running TestNG -->\n",
        "      <plugin>\n",
        "        <groupId>org.apache.maven.plugins</groupId>\n",
        "        <artifactId>maven-surefire-plugin</artifactId>\n",
        "        <version>3.0.0</version>\n",
        "      </plugin>\n",
        "    </plugins>\n",
        "  </build>\n",
        "</project>\n"
      ],
      "metadata": {
        "colab": {
          "base_uri": "https://localhost:8080/"
        },
        "id": "_PBV42VoU0CX",
        "outputId": "5e04f32b-7aae-4281-d9c0-bea2220d47f1"
      },
      "execution_count": 52,
      "outputs": [
        {
          "output_type": "stream",
          "name": "stdout",
          "text": [
            "Overwriting testng-demo/pom.xml\n"
          ]
        }
      ]
    },
    {
      "cell_type": "code",
      "source": [
        "!rm testng-demo/src/test/java/com/example/AppTest.java"
      ],
      "metadata": {
        "id": "UMuMiZU4Z-4Y"
      },
      "execution_count": 53,
      "outputs": []
    },
    {
      "cell_type": "markdown",
      "source": [
        "**Create a Sample TestNG Test**"
      ],
      "metadata": {
        "id": "BATt7JrQbTkf"
      }
    },
    {
      "cell_type": "code",
      "source": [
        "%%writefile testng-demo/src/test/java/com/example/AppTest.java\n",
        "import org.testng.Assert;\n",
        "import org.testng.annotations.Test;\n",
        "\n",
        "public class AppTest {\n",
        "\n",
        "    @Test\n",
        "    public void testHelloWorld() {\n",
        "        String message = \"Hello\";\n",
        "        Assert.assertEquals(message, \"Hello\");\n",
        "    }\n",
        "}\n"
      ],
      "metadata": {
        "colab": {
          "base_uri": "https://localhost:8080/"
        },
        "id": "ApK6g0p9V9tf",
        "outputId": "70cae0f8-063f-43b9-ccea-94548ab9f6f4"
      },
      "execution_count": 57,
      "outputs": [
        {
          "output_type": "stream",
          "name": "stdout",
          "text": [
            "Overwriting testng-demo/src/test/java/com/example/AppTest.java\n"
          ]
        }
      ]
    },
    {
      "cell_type": "markdown",
      "source": [
        "**Clean and Compile**"
      ],
      "metadata": {
        "id": "vy-4Afe4baYv"
      }
    },
    {
      "cell_type": "code",
      "source": [
        "!cd testng-demo && mvn clean compile"
      ],
      "metadata": {
        "colab": {
          "base_uri": "https://localhost:8080/"
        },
        "collapsed": true,
        "id": "qFwueIfVXFhp",
        "outputId": "272450d9-2671-478d-ea24-25554de7061a"
      },
      "execution_count": 58,
      "outputs": [
        {
          "output_type": "stream",
          "name": "stdout",
          "text": [
            "[\u001b[1;34mINFO\u001b[m] Scanning for projects...\n",
            "[\u001b[1;34mINFO\u001b[m] \n",
            "[\u001b[1;34mINFO\u001b[m] \u001b[1m----------------------< \u001b[0;36mcom.example:testng-demo\u001b[0;1m >-----------------------\u001b[m\n",
            "[\u001b[1;34mINFO\u001b[m] \u001b[1mBuilding testng-demo 1.0-SNAPSHOT\u001b[m\n",
            "[\u001b[1;34mINFO\u001b[m] \u001b[1m--------------------------------[ jar ]---------------------------------\u001b[m\n",
            "[\u001b[1;34mINFO\u001b[m] \n",
            "[\u001b[1;34mINFO\u001b[m] \u001b[1m--- \u001b[0;32mmaven-clean-plugin:2.5:clean\u001b[m \u001b[1m(default-clean)\u001b[m @ \u001b[36mtestng-demo\u001b[0;1m ---\u001b[m\n",
            "[\u001b[1;34mINFO\u001b[m] Deleting /content/testng-demo/target\n",
            "[\u001b[1;34mINFO\u001b[m] \n",
            "[\u001b[1;34mINFO\u001b[m] \u001b[1m--- \u001b[0;32mmaven-resources-plugin:2.6:resources\u001b[m \u001b[1m(default-resources)\u001b[m @ \u001b[36mtestng-demo\u001b[0;1m ---\u001b[m\n",
            "[\u001b[1;33mWARNING\u001b[m] Using platform encoding (UTF-8 actually) to copy filtered resources, i.e. build is platform dependent!\n",
            "[\u001b[1;34mINFO\u001b[m] skip non existing resourceDirectory /content/testng-demo/src/main/resources\n",
            "[\u001b[1;34mINFO\u001b[m] \n",
            "[\u001b[1;34mINFO\u001b[m] \u001b[1m--- \u001b[0;32mmaven-compiler-plugin:3.8.1:compile\u001b[m \u001b[1m(default-compile)\u001b[m @ \u001b[36mtestng-demo\u001b[0;1m ---\u001b[m\n",
            "[\u001b[1;34mINFO\u001b[m] Changes detected - recompiling the module!\n",
            "[\u001b[1;33mWARNING\u001b[m] File encoding has not been set, using platform encoding UTF-8, i.e. build is platform dependent!\n",
            "[\u001b[1;34mINFO\u001b[m] Compiling 1 source file to /content/testng-demo/target/classes\n",
            "[\u001b[1;34mINFO\u001b[m] \u001b[1m------------------------------------------------------------------------\u001b[m\n",
            "[\u001b[1;34mINFO\u001b[m] \u001b[1;32mBUILD SUCCESS\u001b[m\n",
            "[\u001b[1;34mINFO\u001b[m] \u001b[1m------------------------------------------------------------------------\u001b[m\n",
            "[\u001b[1;34mINFO\u001b[m] Total time:  2.288 s\n",
            "[\u001b[1;34mINFO\u001b[m] Finished at: 2025-09-14T18:09:04Z\n",
            "[\u001b[1;34mINFO\u001b[m] \u001b[1m------------------------------------------------------------------------\u001b[m\n"
          ]
        }
      ]
    },
    {
      "cell_type": "markdown",
      "source": [
        "**Run The Testcases from Maven**"
      ],
      "metadata": {
        "id": "T219ZJmsbhxO"
      }
    },
    {
      "cell_type": "code",
      "source": [
        "# Run TestNG Tests\n",
        "!cd testng-demo && mvn clean test"
      ],
      "metadata": {
        "colab": {
          "base_uri": "https://localhost:8080/"
        },
        "collapsed": true,
        "id": "MoD0uFCvWEPf",
        "outputId": "dbc18636-de16-4e32-8c17-3d8ea1a55d35"
      },
      "execution_count": 59,
      "outputs": [
        {
          "output_type": "stream",
          "name": "stdout",
          "text": [
            "[\u001b[1;34mINFO\u001b[m] Scanning for projects...\n",
            "[\u001b[1;34mINFO\u001b[m] \n",
            "[\u001b[1;34mINFO\u001b[m] \u001b[1m----------------------< \u001b[0;36mcom.example:testng-demo\u001b[0;1m >-----------------------\u001b[m\n",
            "[\u001b[1;34mINFO\u001b[m] \u001b[1mBuilding testng-demo 1.0-SNAPSHOT\u001b[m\n",
            "[\u001b[1;34mINFO\u001b[m] \u001b[1m--------------------------------[ jar ]---------------------------------\u001b[m\n",
            "[\u001b[1;34mINFO\u001b[m] \n",
            "[\u001b[1;34mINFO\u001b[m] \u001b[1m--- \u001b[0;32mmaven-clean-plugin:2.5:clean\u001b[m \u001b[1m(default-clean)\u001b[m @ \u001b[36mtestng-demo\u001b[0;1m ---\u001b[m\n",
            "[\u001b[1;34mINFO\u001b[m] Deleting /content/testng-demo/target\n",
            "[\u001b[1;34mINFO\u001b[m] \n",
            "[\u001b[1;34mINFO\u001b[m] \u001b[1m--- \u001b[0;32mmaven-resources-plugin:2.6:resources\u001b[m \u001b[1m(default-resources)\u001b[m @ \u001b[36mtestng-demo\u001b[0;1m ---\u001b[m\n",
            "[\u001b[1;33mWARNING\u001b[m] Using platform encoding (UTF-8 actually) to copy filtered resources, i.e. build is platform dependent!\n",
            "[\u001b[1;34mINFO\u001b[m] skip non existing resourceDirectory /content/testng-demo/src/main/resources\n",
            "[\u001b[1;34mINFO\u001b[m] \n",
            "[\u001b[1;34mINFO\u001b[m] \u001b[1m--- \u001b[0;32mmaven-compiler-plugin:3.8.1:compile\u001b[m \u001b[1m(default-compile)\u001b[m @ \u001b[36mtestng-demo\u001b[0;1m ---\u001b[m\n",
            "[\u001b[1;34mINFO\u001b[m] Changes detected - recompiling the module!\n",
            "[\u001b[1;33mWARNING\u001b[m] File encoding has not been set, using platform encoding UTF-8, i.e. build is platform dependent!\n",
            "[\u001b[1;34mINFO\u001b[m] Compiling 1 source file to /content/testng-demo/target/classes\n",
            "[\u001b[1;34mINFO\u001b[m] \n",
            "[\u001b[1;34mINFO\u001b[m] \u001b[1m--- \u001b[0;32mmaven-resources-plugin:2.6:testResources\u001b[m \u001b[1m(default-testResources)\u001b[m @ \u001b[36mtestng-demo\u001b[0;1m ---\u001b[m\n",
            "[\u001b[1;33mWARNING\u001b[m] Using platform encoding (UTF-8 actually) to copy filtered resources, i.e. build is platform dependent!\n",
            "[\u001b[1;34mINFO\u001b[m] skip non existing resourceDirectory /content/testng-demo/src/test/resources\n",
            "[\u001b[1;34mINFO\u001b[m] \n",
            "[\u001b[1;34mINFO\u001b[m] \u001b[1m--- \u001b[0;32mmaven-compiler-plugin:3.8.1:testCompile\u001b[m \u001b[1m(default-testCompile)\u001b[m @ \u001b[36mtestng-demo\u001b[0;1m ---\u001b[m\n",
            "[\u001b[1;34mINFO\u001b[m] Changes detected - recompiling the module!\n",
            "[\u001b[1;33mWARNING\u001b[m] File encoding has not been set, using platform encoding UTF-8, i.e. build is platform dependent!\n",
            "[\u001b[1;34mINFO\u001b[m] Compiling 1 source file to /content/testng-demo/target/test-classes\n",
            "[\u001b[1;34mINFO\u001b[m] \n",
            "[\u001b[1;34mINFO\u001b[m] \u001b[1m--- \u001b[0;32mmaven-surefire-plugin:3.0.0:test\u001b[m \u001b[1m(default-test)\u001b[m @ \u001b[36mtestng-demo\u001b[0;1m ---\u001b[m\n",
            "[\u001b[1;34mINFO\u001b[m] Using auto detected provider org.apache.maven.surefire.testng.TestNGProvider\n",
            "[\u001b[1;34mINFO\u001b[m] \n",
            "[\u001b[1;34mINFO\u001b[m] -------------------------------------------------------\n",
            "[\u001b[1;34mINFO\u001b[m]  T E S T S\n",
            "[\u001b[1;34mINFO\u001b[m] -------------------------------------------------------\n",
            "[\u001b[1;34mINFO\u001b[m] Running \u001b[1mAppTest\u001b[m\n",
            "SLF4J: Failed to load class \"org.slf4j.impl.StaticLoggerBinder\".\n",
            "SLF4J: Defaulting to no-operation (NOP) logger implementation\n",
            "SLF4J: See http://www.slf4j.org/codes.html#StaticLoggerBinder for further details.\n",
            "[\u001b[1;34mINFO\u001b[m] \u001b[1;32mTests run: \u001b[0;1;32m1\u001b[m, Failures: 0, Errors: 0, Skipped: 0, Time elapsed: 1.093 s - in \u001b[1mAppTest\u001b[m\n",
            "[\u001b[1;34mINFO\u001b[m] \n",
            "[\u001b[1;34mINFO\u001b[m] Results:\n",
            "[\u001b[1;34mINFO\u001b[m] \n",
            "[\u001b[1;34mINFO\u001b[m] \u001b[1;32mTests run: 1, Failures: 0, Errors: 0, Skipped: 0\u001b[m\n",
            "[\u001b[1;34mINFO\u001b[m] \n",
            "[\u001b[1;34mINFO\u001b[m] \u001b[1m------------------------------------------------------------------------\u001b[m\n",
            "[\u001b[1;34mINFO\u001b[m] \u001b[1;32mBUILD SUCCESS\u001b[m\n",
            "[\u001b[1;34mINFO\u001b[m] \u001b[1m------------------------------------------------------------------------\u001b[m\n",
            "[\u001b[1;34mINFO\u001b[m] Total time:  4.716 s\n",
            "[\u001b[1;34mINFO\u001b[m] Finished at: 2025-09-14T18:09:15Z\n",
            "[\u001b[1;34mINFO\u001b[m] \u001b[1m------------------------------------------------------------------------\u001b[m\n"
          ]
        }
      ]
    },
    {
      "cell_type": "markdown",
      "source": [
        "**All The annotation Example in Test NG**"
      ],
      "metadata": {
        "id": "1V8sTCk0U276"
      }
    },
    {
      "cell_type": "code",
      "source": [
        "%%writefile testng-demo/src/test/java/com/example/AppTest.java\n",
        "import org.testng.Assert;\n",
        "import org.testng.annotations.Test;\n",
        "import org.testng.annotations.*;\n",
        "\n",
        "public class AppTest {\n",
        "\n",
        "    @BeforeSuite\n",
        "    public void beforeSuite() { System.out.println(\"Before Suite\"); }\n",
        "\n",
        "    @BeforeClass\n",
        "    public void beforeClass() { System.out.println(\"Before Class\"); }\n",
        "\n",
        "    @BeforeMethod\n",
        "    public void beforeMethod() { System.out.println(\"Before Method\"); }\n",
        "\n",
        "    @Test\n",
        "    public void test1() {\n",
        "        System.out.println(\"Test 1\");\n",
        "        }\n",
        "\n",
        "    @Test\n",
        "    public void test2() {\n",
        "        System.out.println(\"Test 2\");\n",
        "        }\n",
        "\n",
        "    @AfterMethod\n",
        "    public void afterMethod() {\n",
        "        System.out.println(\"After Method\");\n",
        "        }\n",
        "\n",
        "    @AfterClass\n",
        "    public void afterClass() {\n",
        "        System.out.println(\"After Class\");\n",
        "         }\n",
        "\n",
        "    @AfterSuite\n",
        "    public void afterSuite() {\n",
        "        System.out.println(\"After Suite\");\n",
        "    }\n",
        "}\n"
      ],
      "metadata": {
        "colab": {
          "base_uri": "https://localhost:8080/"
        },
        "id": "yi7gfX93VAG2",
        "outputId": "01c8165f-729d-48fb-dbe4-9788315b659f"
      },
      "execution_count": 60,
      "outputs": [
        {
          "output_type": "stream",
          "name": "stdout",
          "text": [
            "Overwriting testng-demo/src/test/java/com/example/AppTest.java\n"
          ]
        }
      ]
    },
    {
      "cell_type": "code",
      "source": [
        "# Run TestNG Tests\n",
        "!cd testng-demo && mvn clean compile\n"
      ],
      "metadata": {
        "colab": {
          "base_uri": "https://localhost:8080/"
        },
        "collapsed": true,
        "id": "0TncWQwpVOBw",
        "outputId": "00afb086-07e5-4331-c8bb-fb2dab58896d"
      },
      "execution_count": 61,
      "outputs": [
        {
          "output_type": "stream",
          "name": "stdout",
          "text": [
            "[\u001b[1;34mINFO\u001b[m] Scanning for projects...\n",
            "[\u001b[1;34mINFO\u001b[m] \n",
            "[\u001b[1;34mINFO\u001b[m] \u001b[1m----------------------< \u001b[0;36mcom.example:testng-demo\u001b[0;1m >-----------------------\u001b[m\n",
            "[\u001b[1;34mINFO\u001b[m] \u001b[1mBuilding testng-demo 1.0-SNAPSHOT\u001b[m\n",
            "[\u001b[1;34mINFO\u001b[m] \u001b[1m--------------------------------[ jar ]---------------------------------\u001b[m\n",
            "[\u001b[1;34mINFO\u001b[m] \n",
            "[\u001b[1;34mINFO\u001b[m] \u001b[1m--- \u001b[0;32mmaven-clean-plugin:2.5:clean\u001b[m \u001b[1m(default-clean)\u001b[m @ \u001b[36mtestng-demo\u001b[0;1m ---\u001b[m\n",
            "[\u001b[1;34mINFO\u001b[m] Deleting /content/testng-demo/target\n",
            "[\u001b[1;34mINFO\u001b[m] \n",
            "[\u001b[1;34mINFO\u001b[m] \u001b[1m--- \u001b[0;32mmaven-resources-plugin:2.6:resources\u001b[m \u001b[1m(default-resources)\u001b[m @ \u001b[36mtestng-demo\u001b[0;1m ---\u001b[m\n",
            "[\u001b[1;33mWARNING\u001b[m] Using platform encoding (UTF-8 actually) to copy filtered resources, i.e. build is platform dependent!\n",
            "[\u001b[1;34mINFO\u001b[m] skip non existing resourceDirectory /content/testng-demo/src/main/resources\n",
            "[\u001b[1;34mINFO\u001b[m] \n",
            "[\u001b[1;34mINFO\u001b[m] \u001b[1m--- \u001b[0;32mmaven-compiler-plugin:3.8.1:compile\u001b[m \u001b[1m(default-compile)\u001b[m @ \u001b[36mtestng-demo\u001b[0;1m ---\u001b[m\n",
            "[\u001b[1;34mINFO\u001b[m] Changes detected - recompiling the module!\n",
            "[\u001b[1;33mWARNING\u001b[m] File encoding has not been set, using platform encoding UTF-8, i.e. build is platform dependent!\n",
            "[\u001b[1;34mINFO\u001b[m] Compiling 1 source file to /content/testng-demo/target/classes\n",
            "[\u001b[1;34mINFO\u001b[m] \u001b[1m------------------------------------------------------------------------\u001b[m\n",
            "[\u001b[1;34mINFO\u001b[m] \u001b[1;32mBUILD SUCCESS\u001b[m\n",
            "[\u001b[1;34mINFO\u001b[m] \u001b[1m------------------------------------------------------------------------\u001b[m\n",
            "[\u001b[1;34mINFO\u001b[m] Total time:  2.213 s\n",
            "[\u001b[1;34mINFO\u001b[m] Finished at: 2025-09-14T18:09:28Z\n",
            "[\u001b[1;34mINFO\u001b[m] \u001b[1m------------------------------------------------------------------------\u001b[m\n"
          ]
        }
      ]
    },
    {
      "cell_type": "code",
      "source": [
        "!cd testng-demo && mvn clean test\n"
      ],
      "metadata": {
        "colab": {
          "base_uri": "https://localhost:8080/"
        },
        "collapsed": true,
        "id": "CQFcoVAbVj2P",
        "outputId": "e2d07969-2e83-4465-aaa7-b9e816d02631"
      },
      "execution_count": 62,
      "outputs": [
        {
          "output_type": "stream",
          "name": "stdout",
          "text": [
            "[\u001b[1;34mINFO\u001b[m] Scanning for projects...\n",
            "[\u001b[1;34mINFO\u001b[m] \n",
            "[\u001b[1;34mINFO\u001b[m] \u001b[1m----------------------< \u001b[0;36mcom.example:testng-demo\u001b[0;1m >-----------------------\u001b[m\n",
            "[\u001b[1;34mINFO\u001b[m] \u001b[1mBuilding testng-demo 1.0-SNAPSHOT\u001b[m\n",
            "[\u001b[1;34mINFO\u001b[m] \u001b[1m--------------------------------[ jar ]---------------------------------\u001b[m\n",
            "[\u001b[1;34mINFO\u001b[m] \n",
            "[\u001b[1;34mINFO\u001b[m] \u001b[1m--- \u001b[0;32mmaven-clean-plugin:2.5:clean\u001b[m \u001b[1m(default-clean)\u001b[m @ \u001b[36mtestng-demo\u001b[0;1m ---\u001b[m\n",
            "[\u001b[1;34mINFO\u001b[m] Deleting /content/testng-demo/target\n",
            "[\u001b[1;34mINFO\u001b[m] \n",
            "[\u001b[1;34mINFO\u001b[m] \u001b[1m--- \u001b[0;32mmaven-resources-plugin:2.6:resources\u001b[m \u001b[1m(default-resources)\u001b[m @ \u001b[36mtestng-demo\u001b[0;1m ---\u001b[m\n",
            "[\u001b[1;33mWARNING\u001b[m] Using platform encoding (UTF-8 actually) to copy filtered resources, i.e. build is platform dependent!\n",
            "[\u001b[1;34mINFO\u001b[m] skip non existing resourceDirectory /content/testng-demo/src/main/resources\n",
            "[\u001b[1;34mINFO\u001b[m] \n",
            "[\u001b[1;34mINFO\u001b[m] \u001b[1m--- \u001b[0;32mmaven-compiler-plugin:3.8.1:compile\u001b[m \u001b[1m(default-compile)\u001b[m @ \u001b[36mtestng-demo\u001b[0;1m ---\u001b[m\n",
            "[\u001b[1;34mINFO\u001b[m] Changes detected - recompiling the module!\n",
            "[\u001b[1;33mWARNING\u001b[m] File encoding has not been set, using platform encoding UTF-8, i.e. build is platform dependent!\n",
            "[\u001b[1;34mINFO\u001b[m] Compiling 1 source file to /content/testng-demo/target/classes\n",
            "[\u001b[1;34mINFO\u001b[m] \n",
            "[\u001b[1;34mINFO\u001b[m] \u001b[1m--- \u001b[0;32mmaven-resources-plugin:2.6:testResources\u001b[m \u001b[1m(default-testResources)\u001b[m @ \u001b[36mtestng-demo\u001b[0;1m ---\u001b[m\n",
            "[\u001b[1;33mWARNING\u001b[m] Using platform encoding (UTF-8 actually) to copy filtered resources, i.e. build is platform dependent!\n",
            "[\u001b[1;34mINFO\u001b[m] skip non existing resourceDirectory /content/testng-demo/src/test/resources\n",
            "[\u001b[1;34mINFO\u001b[m] \n",
            "[\u001b[1;34mINFO\u001b[m] \u001b[1m--- \u001b[0;32mmaven-compiler-plugin:3.8.1:testCompile\u001b[m \u001b[1m(default-testCompile)\u001b[m @ \u001b[36mtestng-demo\u001b[0;1m ---\u001b[m\n",
            "[\u001b[1;34mINFO\u001b[m] Changes detected - recompiling the module!\n",
            "[\u001b[1;33mWARNING\u001b[m] File encoding has not been set, using platform encoding UTF-8, i.e. build is platform dependent!\n",
            "[\u001b[1;34mINFO\u001b[m] Compiling 1 source file to /content/testng-demo/target/test-classes\n",
            "[\u001b[1;34mINFO\u001b[m] \n",
            "[\u001b[1;34mINFO\u001b[m] \u001b[1m--- \u001b[0;32mmaven-surefire-plugin:3.0.0:test\u001b[m \u001b[1m(default-test)\u001b[m @ \u001b[36mtestng-demo\u001b[0;1m ---\u001b[m\n",
            "[\u001b[1;34mINFO\u001b[m] Using auto detected provider org.apache.maven.surefire.testng.TestNGProvider\n",
            "[\u001b[1;34mINFO\u001b[m] \n",
            "[\u001b[1;34mINFO\u001b[m] -------------------------------------------------------\n",
            "[\u001b[1;34mINFO\u001b[m]  T E S T S\n",
            "[\u001b[1;34mINFO\u001b[m] -------------------------------------------------------\n",
            "[\u001b[1;34mINFO\u001b[m] Running \u001b[1mAppTest\u001b[m\n",
            "SLF4J: Failed to load class \"org.slf4j.impl.StaticLoggerBinder\".\n",
            "SLF4J: Defaulting to no-operation (NOP) logger implementation\n",
            "SLF4J: See http://www.slf4j.org/codes.html#StaticLoggerBinder for further details.\n",
            "Before Suite\n",
            "Before Class\n",
            "Before Method\n",
            "Test 1\n",
            "After Method\n",
            "Before Method\n",
            "Test 2\n",
            "After Method\n",
            "After Class\n",
            "After Suite\n",
            "[\u001b[1;34mINFO\u001b[m] \u001b[1;32mTests run: \u001b[0;1;32m2\u001b[m, Failures: 0, Errors: 0, Skipped: 0, Time elapsed: 1.26 s - in \u001b[1mAppTest\u001b[m\n",
            "[\u001b[1;34mINFO\u001b[m] \n",
            "[\u001b[1;34mINFO\u001b[m] Results:\n",
            "[\u001b[1;34mINFO\u001b[m] \n",
            "[\u001b[1;34mINFO\u001b[m] \u001b[1;32mTests run: 2, Failures: 0, Errors: 0, Skipped: 0\u001b[m\n",
            "[\u001b[1;34mINFO\u001b[m] \n",
            "[\u001b[1;34mINFO\u001b[m] \u001b[1m------------------------------------------------------------------------\u001b[m\n",
            "[\u001b[1;34mINFO\u001b[m] \u001b[1;32mBUILD SUCCESS\u001b[m\n",
            "[\u001b[1;34mINFO\u001b[m] \u001b[1m------------------------------------------------------------------------\u001b[m\n",
            "[\u001b[1;34mINFO\u001b[m] Total time:  5.042 s\n",
            "[\u001b[1;34mINFO\u001b[m] Finished at: 2025-09-14T18:09:40Z\n",
            "[\u001b[1;34mINFO\u001b[m] \u001b[1m------------------------------------------------------------------------\u001b[m\n"
          ]
        }
      ]
    },
    {
      "cell_type": "markdown",
      "source": [
        "**Running Group Test Cases in TestNG with Maven**"
      ],
      "metadata": {
        "id": "ApSggZmdXYoY"
      }
    },
    {
      "cell_type": "code",
      "source": [
        "%%writefile testng-demo/src/test/java/com/example/AppTest.java\n",
        "import org.testng.Assert;\n",
        "import org.testng.annotations.Test;\n",
        "import org.testng.annotations.*;\n",
        "\n",
        "public class AppTest {\n",
        "\n",
        "    @Test(groups = {\"smoke\"})\n",
        "    public void testLogin() {\n",
        "        int a=10 ;\n",
        "        int b=12 ;\n",
        "        int c= a + b ;\n",
        "        System.out.println(\"\\nSmoke Test\");\n",
        "        System.out.println(\"Smoke Test - Result-\" + c);\n",
        "\n",
        "    }\n",
        "\n",
        "    @Test(groups = {\"regression\"})\n",
        "    public void testCheckout() {\n",
        "        int a=10 ;\n",
        "        int b=12 ;\n",
        "        int c= a + b ;\n",
        "        System.out.println(\"\\nRegression Test\");\n",
        "        System.out.println(\"Regression Test - Result-\" + c);\n",
        "\n",
        "    }\n",
        "\n",
        "    @Test(groups = {\"smoke\", \"regression\"})\n",
        "    public void testSearch() {\n",
        "        int a=10 ;\n",
        "        int b=12 ;\n",
        "        int c= a + b ;\n",
        "        System.out.println(\"Both Regression and Smoke Test - Result-\" + c);\n",
        "        System.out.println(\"Both Smoke & Regression Test -Result\");\n",
        "    }\n",
        "}"
      ],
      "metadata": {
        "colab": {
          "base_uri": "https://localhost:8080/"
        },
        "id": "VW9n3Kj4Xd-v",
        "outputId": "3332f1b3-52f9-499c-87e2-fbf0da48e34c"
      },
      "execution_count": 63,
      "outputs": [
        {
          "output_type": "stream",
          "name": "stdout",
          "text": [
            "Overwriting testng-demo/src/test/java/com/example/AppTest.java\n"
          ]
        }
      ]
    },
    {
      "cell_type": "code",
      "source": [
        "# Run TestNG Tests\n",
        "!cd testng-demo && mvn clean compile"
      ],
      "metadata": {
        "colab": {
          "base_uri": "https://localhost:8080/"
        },
        "collapsed": true,
        "id": "7FQnE7UBXxGg",
        "outputId": "665ec430-03ae-429f-fe86-5f92632ed781"
      },
      "execution_count": 64,
      "outputs": [
        {
          "output_type": "stream",
          "name": "stdout",
          "text": [
            "[\u001b[1;34mINFO\u001b[m] Scanning for projects...\n",
            "[\u001b[1;34mINFO\u001b[m] \n",
            "[\u001b[1;34mINFO\u001b[m] \u001b[1m----------------------< \u001b[0;36mcom.example:testng-demo\u001b[0;1m >-----------------------\u001b[m\n",
            "[\u001b[1;34mINFO\u001b[m] \u001b[1mBuilding testng-demo 1.0-SNAPSHOT\u001b[m\n",
            "[\u001b[1;34mINFO\u001b[m] \u001b[1m--------------------------------[ jar ]---------------------------------\u001b[m\n",
            "[\u001b[1;34mINFO\u001b[m] \n",
            "[\u001b[1;34mINFO\u001b[m] \u001b[1m--- \u001b[0;32mmaven-clean-plugin:2.5:clean\u001b[m \u001b[1m(default-clean)\u001b[m @ \u001b[36mtestng-demo\u001b[0;1m ---\u001b[m\n",
            "[\u001b[1;34mINFO\u001b[m] Deleting /content/testng-demo/target\n",
            "[\u001b[1;34mINFO\u001b[m] \n",
            "[\u001b[1;34mINFO\u001b[m] \u001b[1m--- \u001b[0;32mmaven-resources-plugin:2.6:resources\u001b[m \u001b[1m(default-resources)\u001b[m @ \u001b[36mtestng-demo\u001b[0;1m ---\u001b[m\n",
            "[\u001b[1;33mWARNING\u001b[m] Using platform encoding (UTF-8 actually) to copy filtered resources, i.e. build is platform dependent!\n",
            "[\u001b[1;34mINFO\u001b[m] skip non existing resourceDirectory /content/testng-demo/src/main/resources\n",
            "[\u001b[1;34mINFO\u001b[m] \n",
            "[\u001b[1;34mINFO\u001b[m] \u001b[1m--- \u001b[0;32mmaven-compiler-plugin:3.8.1:compile\u001b[m \u001b[1m(default-compile)\u001b[m @ \u001b[36mtestng-demo\u001b[0;1m ---\u001b[m\n",
            "[\u001b[1;34mINFO\u001b[m] Changes detected - recompiling the module!\n",
            "[\u001b[1;33mWARNING\u001b[m] File encoding has not been set, using platform encoding UTF-8, i.e. build is platform dependent!\n",
            "[\u001b[1;34mINFO\u001b[m] Compiling 1 source file to /content/testng-demo/target/classes\n",
            "[\u001b[1;34mINFO\u001b[m] \u001b[1m------------------------------------------------------------------------\u001b[m\n",
            "[\u001b[1;34mINFO\u001b[m] \u001b[1;32mBUILD SUCCESS\u001b[m\n",
            "[\u001b[1;34mINFO\u001b[m] \u001b[1m------------------------------------------------------------------------\u001b[m\n",
            "[\u001b[1;34mINFO\u001b[m] Total time:  2.232 s\n",
            "[\u001b[1;34mINFO\u001b[m] Finished at: 2025-09-14T18:09:54Z\n",
            "[\u001b[1;34mINFO\u001b[m] \u001b[1m------------------------------------------------------------------------\u001b[m\n"
          ]
        }
      ]
    },
    {
      "cell_type": "code",
      "source": [
        "!cd testng-demo && mvn clean test -Dgroups=regression"
      ],
      "metadata": {
        "colab": {
          "base_uri": "https://localhost:8080/"
        },
        "collapsed": true,
        "id": "9jp6dVPfX1Gg",
        "outputId": "b5f3c06a-32d1-4e28-d373-09af89e72c26"
      },
      "execution_count": 65,
      "outputs": [
        {
          "output_type": "stream",
          "name": "stdout",
          "text": [
            "[\u001b[1;34mINFO\u001b[m] Scanning for projects...\n",
            "[\u001b[1;34mINFO\u001b[m] \n",
            "[\u001b[1;34mINFO\u001b[m] \u001b[1m----------------------< \u001b[0;36mcom.example:testng-demo\u001b[0;1m >-----------------------\u001b[m\n",
            "[\u001b[1;34mINFO\u001b[m] \u001b[1mBuilding testng-demo 1.0-SNAPSHOT\u001b[m\n",
            "[\u001b[1;34mINFO\u001b[m] \u001b[1m--------------------------------[ jar ]---------------------------------\u001b[m\n",
            "[\u001b[1;34mINFO\u001b[m] \n",
            "[\u001b[1;34mINFO\u001b[m] \u001b[1m--- \u001b[0;32mmaven-clean-plugin:2.5:clean\u001b[m \u001b[1m(default-clean)\u001b[m @ \u001b[36mtestng-demo\u001b[0;1m ---\u001b[m\n",
            "[\u001b[1;34mINFO\u001b[m] Deleting /content/testng-demo/target\n",
            "[\u001b[1;34mINFO\u001b[m] \n",
            "[\u001b[1;34mINFO\u001b[m] \u001b[1m--- \u001b[0;32mmaven-resources-plugin:2.6:resources\u001b[m \u001b[1m(default-resources)\u001b[m @ \u001b[36mtestng-demo\u001b[0;1m ---\u001b[m\n",
            "[\u001b[1;33mWARNING\u001b[m] Using platform encoding (UTF-8 actually) to copy filtered resources, i.e. build is platform dependent!\n",
            "[\u001b[1;34mINFO\u001b[m] skip non existing resourceDirectory /content/testng-demo/src/main/resources\n",
            "[\u001b[1;34mINFO\u001b[m] \n",
            "[\u001b[1;34mINFO\u001b[m] \u001b[1m--- \u001b[0;32mmaven-compiler-plugin:3.8.1:compile\u001b[m \u001b[1m(default-compile)\u001b[m @ \u001b[36mtestng-demo\u001b[0;1m ---\u001b[m\n",
            "[\u001b[1;34mINFO\u001b[m] Changes detected - recompiling the module!\n",
            "[\u001b[1;33mWARNING\u001b[m] File encoding has not been set, using platform encoding UTF-8, i.e. build is platform dependent!\n",
            "[\u001b[1;34mINFO\u001b[m] Compiling 1 source file to /content/testng-demo/target/classes\n",
            "[\u001b[1;34mINFO\u001b[m] \n",
            "[\u001b[1;34mINFO\u001b[m] \u001b[1m--- \u001b[0;32mmaven-resources-plugin:2.6:testResources\u001b[m \u001b[1m(default-testResources)\u001b[m @ \u001b[36mtestng-demo\u001b[0;1m ---\u001b[m\n",
            "[\u001b[1;33mWARNING\u001b[m] Using platform encoding (UTF-8 actually) to copy filtered resources, i.e. build is platform dependent!\n",
            "[\u001b[1;34mINFO\u001b[m] skip non existing resourceDirectory /content/testng-demo/src/test/resources\n",
            "[\u001b[1;34mINFO\u001b[m] \n",
            "[\u001b[1;34mINFO\u001b[m] \u001b[1m--- \u001b[0;32mmaven-compiler-plugin:3.8.1:testCompile\u001b[m \u001b[1m(default-testCompile)\u001b[m @ \u001b[36mtestng-demo\u001b[0;1m ---\u001b[m\n",
            "[\u001b[1;34mINFO\u001b[m] Changes detected - recompiling the module!\n",
            "[\u001b[1;33mWARNING\u001b[m] File encoding has not been set, using platform encoding UTF-8, i.e. build is platform dependent!\n",
            "[\u001b[1;34mINFO\u001b[m] Compiling 1 source file to /content/testng-demo/target/test-classes\n",
            "[\u001b[1;34mINFO\u001b[m] \n",
            "[\u001b[1;34mINFO\u001b[m] \u001b[1m--- \u001b[0;32mmaven-surefire-plugin:3.0.0:test\u001b[m \u001b[1m(default-test)\u001b[m @ \u001b[36mtestng-demo\u001b[0;1m ---\u001b[m\n",
            "[\u001b[1;34mINFO\u001b[m] Using auto detected provider org.apache.maven.surefire.testng.TestNGProvider\n",
            "[\u001b[1;34mINFO\u001b[m] \n",
            "[\u001b[1;34mINFO\u001b[m] -------------------------------------------------------\n",
            "[\u001b[1;34mINFO\u001b[m]  T E S T S\n",
            "[\u001b[1;34mINFO\u001b[m] -------------------------------------------------------\n",
            "[\u001b[1;34mINFO\u001b[m] Running \u001b[1mAppTest\u001b[m\n",
            "SLF4J: Failed to load class \"org.slf4j.impl.StaticLoggerBinder\".\n",
            "SLF4J: Defaulting to no-operation (NOP) logger implementation\n",
            "SLF4J: See http://www.slf4j.org/codes.html#StaticLoggerBinder for further details.\n",
            "\n",
            "Regression Test\n",
            "Regression Test - Result-22\n",
            "Both Regression and Smoke Test - Result-22\n",
            "Both Smoke & Regression Test -Result\n",
            "[\u001b[1;34mINFO\u001b[m] \u001b[1;32mTests run: \u001b[0;1;32m2\u001b[m, Failures: 0, Errors: 0, Skipped: 0, Time elapsed: 1.182 s - in \u001b[1mAppTest\u001b[m\n",
            "[\u001b[1;34mINFO\u001b[m] \n",
            "[\u001b[1;34mINFO\u001b[m] Results:\n",
            "[\u001b[1;34mINFO\u001b[m] \n",
            "[\u001b[1;34mINFO\u001b[m] \u001b[1;32mTests run: 2, Failures: 0, Errors: 0, Skipped: 0\u001b[m\n",
            "[\u001b[1;34mINFO\u001b[m] \n",
            "[\u001b[1;34mINFO\u001b[m] \u001b[1m------------------------------------------------------------------------\u001b[m\n",
            "[\u001b[1;34mINFO\u001b[m] \u001b[1;32mBUILD SUCCESS\u001b[m\n",
            "[\u001b[1;34mINFO\u001b[m] \u001b[1m------------------------------------------------------------------------\u001b[m\n",
            "[\u001b[1;34mINFO\u001b[m] Total time:  4.671 s\n",
            "[\u001b[1;34mINFO\u001b[m] Finished at: 2025-09-14T18:10:05Z\n",
            "[\u001b[1;34mINFO\u001b[m] \u001b[1m------------------------------------------------------------------------\u001b[m\n"
          ]
        }
      ]
    },
    {
      "cell_type": "code",
      "source": [
        "# Check Data Provider in TestNG\n",
        "\n",
        "\n"
      ],
      "metadata": {
        "id": "m-NN_xLPbDxx"
      },
      "execution_count": null,
      "outputs": []
    }
  ]
}