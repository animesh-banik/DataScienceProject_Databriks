{
  "nbformat": 4,
  "nbformat_minor": 0,
  "metadata": {
    "colab": {
      "provenance": [],
      "authorship_tag": "ABX9TyM5inGFoTIqFSybFUfAp3pR",
      "include_colab_link": true
    },
    "kernelspec": {
      "name": "python3",
      "display_name": "Python 3"
    },
    "language_info": {
      "name": "python"
    }
  },
  "cells": [
    {
      "cell_type": "markdown",
      "metadata": {
        "id": "view-in-github",
        "colab_type": "text"
      },
      "source": [
        "<a href=\"https://colab.research.google.com/github/animesh-banik/DataScienceProject_Databriks/blob/Google_Colub/TestNG.ipynb\" target=\"_parent\"><img src=\"https://colab.research.google.com/assets/colab-badge.svg\" alt=\"Open In Colab\"/></a>"
      ]
    },
    {
      "cell_type": "markdown",
      "source": [
        "**Install JAVA**"
      ],
      "metadata": {
        "id": "TZeU4sSRa5GA"
      }
    },
    {
      "cell_type": "code",
      "execution_count": 3,
      "metadata": {
        "id": "_gc16eM7TN2O"
      },
      "outputs": [],
      "source": [
        "#Install Java\n",
        "!apt-get install openjdk-11-jdk-headless -qq > /dev/null"
      ]
    },
    {
      "cell_type": "markdown",
      "source": [
        "**Install Maven**"
      ],
      "metadata": {
        "id": "R6c-pHdJauSw"
      }
    },
    {
      "cell_type": "code",
      "source": [
        "!apt-get install maven -qq > /dev/null"
      ],
      "metadata": {
        "colab": {
          "base_uri": "https://localhost:8080/"
        },
        "id": "VK1ttDNJUWJ3",
        "outputId": "95622adf-f58b-4e1e-e1ac-37a16bc81d9d"
      },
      "execution_count": 4,
      "outputs": [
        {
          "output_type": "stream",
          "name": "stdout",
          "text": [
            "Extracting templates from packages: 100%\n"
          ]
        }
      ]
    },
    {
      "cell_type": "markdown",
      "source": [
        "**Verify Java & Maven Installation**"
      ],
      "metadata": {
        "id": "hH_JqgiEay-P"
      }
    },
    {
      "cell_type": "code",
      "source": [
        "\n",
        "!java -version\n",
        "!mvn -version"
      ],
      "metadata": {
        "colab": {
          "base_uri": "https://localhost:8080/"
        },
        "id": "Z7qUiUkyUhk_",
        "outputId": "29321cd6-15ac-45c1-ebab-22e92524f6b2"
      },
      "execution_count": 5,
      "outputs": [
        {
          "output_type": "stream",
          "name": "stdout",
          "text": [
            "openjdk version \"11.0.28\" 2025-07-15\n",
            "OpenJDK Runtime Environment (build 11.0.28+6-post-Ubuntu-1ubuntu122.04.1)\n",
            "OpenJDK 64-Bit Server VM (build 11.0.28+6-post-Ubuntu-1ubuntu122.04.1, mixed mode, sharing)\n",
            "\u001b[1mApache Maven 3.6.3\u001b[m\n",
            "Maven home: /usr/share/maven\n",
            "Java version: 11.0.28, vendor: Ubuntu, runtime: /usr/lib/jvm/java-11-openjdk-amd64\n",
            "Default locale: en_US, platform encoding: UTF-8\n",
            "OS name: \"linux\", version: \"6.1.123+\", arch: \"amd64\", family: \"unix\"\n"
          ]
        }
      ]
    },
    {
      "cell_type": "markdown",
      "source": [
        "**Create a Maven Project**"
      ],
      "metadata": {
        "id": "bdrYfpx2bEiu"
      }
    },
    {
      "cell_type": "code",
      "source": [
        "\n",
        "!mvn archetype:generate -DgroupId=com.example \\\n",
        "    -DartifactId=testng-demo \\\n",
        "    -DarchetypeArtifactId=maven-archetype-quickstart \\\n",
        "    -DinteractiveMode=false\n"
      ],
      "metadata": {
        "colab": {
          "base_uri": "https://localhost:8080/"
        },
        "collapsed": true,
        "id": "JsIGrXBLUpJ_",
        "outputId": "4c4529cf-fd25-45e7-9ef6-5fa0e00d96bd"
      },
      "execution_count": 6,
      "outputs": [
        {
          "output_type": "stream",
          "name": "stdout",
          "text": [
            "[\u001b[1;34mINFO\u001b[m] Scanning for projects...\n",
            "Downloading from central: https://repo.maven.apache.org/maven2/org/apache/maven/plugins/maven-clean-plugin/2.5/maven-clean-plugin-2.5.pom\n",
            "Downloaded from central: https://repo.maven.apache.org/maven2/org/apache/maven/plugins/maven-clean-plugin/2.5/maven-clean-plugin-2.5.pom (3.9 kB at 8.1 kB/s)\n",
            "Downloading from central: https://repo.maven.apache.org/maven2/org/apache/maven/plugins/maven-plugins/22/maven-plugins-22.pom\n",
            "Downloaded from central: https://repo.maven.apache.org/maven2/org/apache/maven/plugins/maven-plugins/22/maven-plugins-22.pom (13 kB at 214 kB/s)\n",
            "Downloading from central: https://repo.maven.apache.org/maven2/org/apache/maven/maven-parent/21/maven-parent-21.pom\n",
            "Downloaded from central: https://repo.maven.apache.org/maven2/org/apache/maven/maven-parent/21/maven-parent-21.pom (26 kB at 599 kB/s)\n",
            "Downloading from central: https://repo.maven.apache.org/maven2/org/apache/apache/10/apache-10.pom\n",
            "Downloaded from central: https://repo.maven.apache.org/maven2/org/apache/apache/10/apache-10.pom (15 kB at 389 kB/s)\n",
            "Downloading from central: https://repo.maven.apache.org/maven2/org/apache/maven/plugins/maven-clean-plugin/2.5/maven-clean-plugin-2.5.jar\n",
            "Downloaded from central: https://repo.maven.apache.org/maven2/org/apache/maven/plugins/maven-clean-plugin/2.5/maven-clean-plugin-2.5.jar (25 kB at 632 kB/s)\n",
            "Downloading from central: https://repo.maven.apache.org/maven2/org/apache/maven/plugins/maven-install-plugin/2.4/maven-install-plugin-2.4.pom\n",
            "Downloaded from central: https://repo.maven.apache.org/maven2/org/apache/maven/plugins/maven-install-plugin/2.4/maven-install-plugin-2.4.pom (6.4 kB at 177 kB/s)\n",
            "Downloading from central: https://repo.maven.apache.org/maven2/org/apache/maven/plugins/maven-plugins/23/maven-plugins-23.pom\n",
            "Downloaded from central: https://repo.maven.apache.org/maven2/org/apache/maven/plugins/maven-plugins/23/maven-plugins-23.pom (9.2 kB at 224 kB/s)\n",
            "Downloading from central: https://repo.maven.apache.org/maven2/org/apache/maven/maven-parent/22/maven-parent-22.pom\n",
            "Downloaded from central: https://repo.maven.apache.org/maven2/org/apache/maven/maven-parent/22/maven-parent-22.pom (30 kB at 541 kB/s)\n",
            "Downloading from central: https://repo.maven.apache.org/maven2/org/apache/apache/11/apache-11.pom\n",
            "Downloaded from central: https://repo.maven.apache.org/maven2/org/apache/apache/11/apache-11.pom (15 kB at 344 kB/s)\n",
            "Downloading from central: https://repo.maven.apache.org/maven2/org/apache/maven/plugins/maven-install-plugin/2.4/maven-install-plugin-2.4.jar\n",
            "Downloaded from central: https://repo.maven.apache.org/maven2/org/apache/maven/plugins/maven-install-plugin/2.4/maven-install-plugin-2.4.jar (27 kB at 473 kB/s)\n",
            "Downloading from central: https://repo.maven.apache.org/maven2/org/apache/maven/plugins/maven-deploy-plugin/2.7/maven-deploy-plugin-2.7.pom\n",
            "Downloaded from central: https://repo.maven.apache.org/maven2/org/apache/maven/plugins/maven-deploy-plugin/2.7/maven-deploy-plugin-2.7.pom (5.6 kB at 144 kB/s)\n",
            "Downloading from central: https://repo.maven.apache.org/maven2/org/apache/maven/plugins/maven-deploy-plugin/2.7/maven-deploy-plugin-2.7.jar\n",
            "Downloaded from central: https://repo.maven.apache.org/maven2/org/apache/maven/plugins/maven-deploy-plugin/2.7/maven-deploy-plugin-2.7.jar (27 kB at 419 kB/s)\n",
            "Downloading from central: https://repo.maven.apache.org/maven2/org/apache/maven/plugins/maven-site-plugin/3.3/maven-site-plugin-3.3.pom\n",
            "Downloaded from central: https://repo.maven.apache.org/maven2/org/apache/maven/plugins/maven-site-plugin/3.3/maven-site-plugin-3.3.pom (21 kB at 336 kB/s)\n",
            "Downloading from central: https://repo.maven.apache.org/maven2/org/apache/maven/plugins/maven-plugins/24/maven-plugins-24.pom\n",
            "Downloaded from central: https://repo.maven.apache.org/maven2/org/apache/maven/plugins/maven-plugins/24/maven-plugins-24.pom (11 kB at 208 kB/s)\n",
            "Downloading from central: https://repo.maven.apache.org/maven2/org/apache/maven/maven-parent/23/maven-parent-23.pom\n",
            "Downloaded from central: https://repo.maven.apache.org/maven2/org/apache/maven/maven-parent/23/maven-parent-23.pom (33 kB at 370 kB/s)\n",
            "Downloading from central: https://repo.maven.apache.org/maven2/org/apache/apache/13/apache-13.pom\n",
            "Downloaded from central: https://repo.maven.apache.org/maven2/org/apache/apache/13/apache-13.pom (14 kB at 291 kB/s)\n",
            "Downloading from central: https://repo.maven.apache.org/maven2/org/apache/maven/plugins/maven-site-plugin/3.3/maven-site-plugin-3.3.jar\n",
            "Downloaded from central: https://repo.maven.apache.org/maven2/org/apache/maven/plugins/maven-site-plugin/3.3/maven-site-plugin-3.3.jar (124 kB at 1.5 MB/s)\n",
            "Downloading from central: https://repo.maven.apache.org/maven2/org/apache/maven/plugins/maven-antrun-plugin/1.3/maven-antrun-plugin-1.3.pom\n",
            "Downloaded from central: https://repo.maven.apache.org/maven2/org/apache/maven/plugins/maven-antrun-plugin/1.3/maven-antrun-plugin-1.3.pom (4.7 kB at 115 kB/s)\n",
            "Downloading from central: https://repo.maven.apache.org/maven2/org/apache/maven/plugins/maven-plugins/12/maven-plugins-12.pom\n",
            "Downloaded from central: https://repo.maven.apache.org/maven2/org/apache/maven/plugins/maven-plugins/12/maven-plugins-12.pom (12 kB at 318 kB/s)\n",
            "Downloading from central: https://repo.maven.apache.org/maven2/org/apache/maven/maven-parent/9/maven-parent-9.pom\n",
            "Downloaded from central: https://repo.maven.apache.org/maven2/org/apache/maven/maven-parent/9/maven-parent-9.pom (33 kB at 730 kB/s)\n",
            "Downloading from central: https://repo.maven.apache.org/maven2/org/apache/apache/4/apache-4.pom\n",
            "Downloaded from central: https://repo.maven.apache.org/maven2/org/apache/apache/4/apache-4.pom (4.5 kB at 136 kB/s)\n",
            "Downloading from central: https://repo.maven.apache.org/maven2/org/apache/maven/plugins/maven-antrun-plugin/1.3/maven-antrun-plugin-1.3.jar\n",
            "Downloaded from central: https://repo.maven.apache.org/maven2/org/apache/maven/plugins/maven-antrun-plugin/1.3/maven-antrun-plugin-1.3.jar (24 kB at 524 kB/s)\n",
            "Downloading from central: https://repo.maven.apache.org/maven2/org/apache/maven/plugins/maven-assembly-plugin/2.2-beta-5/maven-assembly-plugin-2.2-beta-5.pom\n",
            "Downloaded from central: https://repo.maven.apache.org/maven2/org/apache/maven/plugins/maven-assembly-plugin/2.2-beta-5/maven-assembly-plugin-2.2-beta-5.pom (15 kB at 330 kB/s)\n",
            "Downloading from central: https://repo.maven.apache.org/maven2/org/apache/maven/plugins/maven-plugins/16/maven-plugins-16.pom\n",
            "Downloaded from central: https://repo.maven.apache.org/maven2/org/apache/maven/plugins/maven-plugins/16/maven-plugins-16.pom (13 kB at 341 kB/s)\n",
            "Downloading from central: https://repo.maven.apache.org/maven2/org/apache/maven/maven-parent/15/maven-parent-15.pom\n",
            "Downloaded from central: https://repo.maven.apache.org/maven2/org/apache/maven/maven-parent/15/maven-parent-15.pom (24 kB at 480 kB/s)\n",
            "Downloading from central: https://repo.maven.apache.org/maven2/org/apache/apache/6/apache-6.pom\n",
            "Downloaded from central: https://repo.maven.apache.org/maven2/org/apache/apache/6/apache-6.pom (13 kB at 312 kB/s)\n",
            "Downloading from central: https://repo.maven.apache.org/maven2/org/apache/maven/plugins/maven-assembly-plugin/2.2-beta-5/maven-assembly-plugin-2.2-beta-5.jar\n",
            "Downloaded from central: https://repo.maven.apache.org/maven2/org/apache/maven/plugins/maven-assembly-plugin/2.2-beta-5/maven-assembly-plugin-2.2-beta-5.jar (209 kB at 2.5 MB/s)\n",
            "Downloading from central: https://repo.maven.apache.org/maven2/org/apache/maven/plugins/maven-dependency-plugin/2.8/maven-dependency-plugin-2.8.pom\n",
            "Downloaded from central: https://repo.maven.apache.org/maven2/org/apache/maven/plugins/maven-dependency-plugin/2.8/maven-dependency-plugin-2.8.pom (11 kB at 266 kB/s)\n",
            "Downloading from central: https://repo.maven.apache.org/maven2/org/apache/maven/plugins/maven-dependency-plugin/2.8/maven-dependency-plugin-2.8.jar\n",
            "Downloaded from central: https://repo.maven.apache.org/maven2/org/apache/maven/plugins/maven-dependency-plugin/2.8/maven-dependency-plugin-2.8.jar (153 kB at 2.2 MB/s)\n",
            "Downloading from central: https://repo.maven.apache.org/maven2/org/apache/maven/plugins/maven-release-plugin/2.5.3/maven-release-plugin-2.5.3.pom\n",
            "Downloaded from central: https://repo.maven.apache.org/maven2/org/apache/maven/plugins/maven-release-plugin/2.5.3/maven-release-plugin-2.5.3.pom (11 kB at 292 kB/s)\n",
            "Downloading from central: https://repo.maven.apache.org/maven2/org/apache/maven/release/maven-release/2.5.3/maven-release-2.5.3.pom\n",
            "Downloaded from central: https://repo.maven.apache.org/maven2/org/apache/maven/release/maven-release/2.5.3/maven-release-2.5.3.pom (5.0 kB at 136 kB/s)\n",
            "Downloading from central: https://repo.maven.apache.org/maven2/org/apache/maven/maven-parent/27/maven-parent-27.pom\n",
            "Downloaded from central: https://repo.maven.apache.org/maven2/org/apache/maven/maven-parent/27/maven-parent-27.pom (41 kB at 947 kB/s)\n",
            "Downloading from central: https://repo.maven.apache.org/maven2/org/apache/apache/17/apache-17.pom\n",
            "Downloaded from central: https://repo.maven.apache.org/maven2/org/apache/apache/17/apache-17.pom (16 kB at 446 kB/s)\n",
            "Downloading from central: https://repo.maven.apache.org/maven2/org/apache/maven/plugins/maven-release-plugin/2.5.3/maven-release-plugin-2.5.3.jar\n",
            "Downloaded from central: https://repo.maven.apache.org/maven2/org/apache/maven/plugins/maven-release-plugin/2.5.3/maven-release-plugin-2.5.3.jar (53 kB at 1.0 MB/s)\n",
            "Downloading from central: https://repo.maven.apache.org/maven2/org/codehaus/mojo/maven-metadata.xml\n",
            "Downloading from central: https://repo.maven.apache.org/maven2/org/apache/maven/plugins/maven-metadata.xml\n",
            "Downloaded from central: https://repo.maven.apache.org/maven2/org/codehaus/mojo/maven-metadata.xml (21 kB at 543 kB/s)\n",
            "Downloaded from central: https://repo.maven.apache.org/maven2/org/apache/maven/plugins/maven-metadata.xml (14 kB at 128 kB/s)\n",
            "Downloading from central: https://repo.maven.apache.org/maven2/org/apache/maven/plugins/maven-archetype-plugin/maven-metadata.xml\n",
            "Downloaded from central: https://repo.maven.apache.org/maven2/org/apache/maven/plugins/maven-archetype-plugin/maven-metadata.xml (1.1 kB at 30 kB/s)\n",
            "Downloading from central: https://repo.maven.apache.org/maven2/org/apache/maven/plugins/maven-archetype-plugin/3.4.0/maven-archetype-plugin-3.4.0.pom\n",
            "Downloaded from central: https://repo.maven.apache.org/maven2/org/apache/maven/plugins/maven-archetype-plugin/3.4.0/maven-archetype-plugin-3.4.0.pom (11 kB at 297 kB/s)\n",
            "Downloading from central: https://repo.maven.apache.org/maven2/org/apache/maven/archetype/maven-archetype/3.4.0/maven-archetype-3.4.0.pom\n",
            "Downloaded from central: https://repo.maven.apache.org/maven2/org/apache/maven/archetype/maven-archetype/3.4.0/maven-archetype-3.4.0.pom (10 kB at 278 kB/s)\n",
            "Downloading from central: https://repo.maven.apache.org/maven2/org/apache/maven/maven-parent/44/maven-parent-44.pom\n",
            "Downloaded from central: https://repo.maven.apache.org/maven2/org/apache/maven/maven-parent/44/maven-parent-44.pom (52 kB at 1.2 MB/s)\n",
            "Downloading from central: https://repo.maven.apache.org/maven2/org/apache/apache/34/apache-34.pom\n",
            "Downloaded from central: https://repo.maven.apache.org/maven2/org/apache/apache/34/apache-34.pom (24 kB at 713 kB/s)\n",
            "Downloading from central: https://repo.maven.apache.org/maven2/org/apache/groovy/groovy-bom/4.0.26/groovy-bom-4.0.26.pom\n",
            "Downloaded from central: https://repo.maven.apache.org/maven2/org/apache/groovy/groovy-bom/4.0.26/groovy-bom-4.0.26.pom (27 kB at 758 kB/s)\n",
            "Downloading from central: https://repo.maven.apache.org/maven2/org/junit/junit-bom/5.12.1/junit-bom-5.12.1.pom\n",
            "Downloaded from central: https://repo.maven.apache.org/maven2/org/junit/junit-bom/5.12.1/junit-bom-5.12.1.pom (5.6 kB at 171 kB/s)\n",
            "Downloading from central: https://repo.maven.apache.org/maven2/org/apache/maven/plugins/maven-archetype-plugin/3.4.0/maven-archetype-plugin-3.4.0.jar\n",
            "Downloaded from central: https://repo.maven.apache.org/maven2/org/apache/maven/plugins/maven-archetype-plugin/3.4.0/maven-archetype-plugin-3.4.0.jar (100 kB at 1.9 MB/s)\n",
            "[\u001b[1;34mINFO\u001b[m] \n",
            "[\u001b[1;34mINFO\u001b[m] \u001b[1m------------------< \u001b[0;36morg.apache.maven:standalone-pom\u001b[0;1m >-------------------\u001b[m\n",
            "[\u001b[1;34mINFO\u001b[m] \u001b[1mBuilding Maven Stub Project (No POM) 1\u001b[m\n",
            "[\u001b[1;34mINFO\u001b[m] \u001b[1m--------------------------------[ pom ]---------------------------------\u001b[m\n",
            "[\u001b[1;34mINFO\u001b[m] \n",
            "[\u001b[1;34mINFO\u001b[m] \u001b[1m>>> \u001b[0;32mmaven-archetype-plugin:3.4.0:generate\u001b[m \u001b[1m(default-cli)\u001b[0;1m > \u001b[0;1mgenerate-sources\u001b[m @ \u001b[36mstandalone-pom\u001b[0;1m >>>\u001b[m\n",
            "[\u001b[1;34mINFO\u001b[m] \n",
            "[\u001b[1;34mINFO\u001b[m] \u001b[1m<<< \u001b[0;32mmaven-archetype-plugin:3.4.0:generate\u001b[m \u001b[1m(default-cli)\u001b[0;1m < \u001b[0;1mgenerate-sources\u001b[m @ \u001b[36mstandalone-pom\u001b[0;1m <<<\u001b[m\n",
            "[\u001b[1;34mINFO\u001b[m] \n",
            "[\u001b[1;34mINFO\u001b[m] \n",
            "[\u001b[1;34mINFO\u001b[m] \u001b[1m--- \u001b[0;32mmaven-archetype-plugin:3.4.0:generate\u001b[m \u001b[1m(default-cli)\u001b[m @ \u001b[36mstandalone-pom\u001b[0;1m ---\u001b[m\n",
            "Downloading from central: https://repo.maven.apache.org/maven2/org/apache/maven/archetype/archetype-catalog/3.4.0/archetype-catalog-3.4.0.pom\n",
            "Downloaded from central: https://repo.maven.apache.org/maven2/org/apache/maven/archetype/archetype-catalog/3.4.0/archetype-catalog-3.4.0.pom (1.7 kB at 50 kB/s)\n",
            "Downloading from central: https://repo.maven.apache.org/maven2/org/apache/maven/archetype/archetype-models/3.4.0/archetype-models-3.4.0.pom\n",
            "Downloaded from central: https://repo.maven.apache.org/maven2/org/apache/maven/archetype/archetype-models/3.4.0/archetype-models-3.4.0.pom (3.0 kB at 73 kB/s)\n",
            "Downloading from central: https://repo.maven.apache.org/maven2/org/codehaus/plexus/plexus-xml/3.0.1/plexus-xml-3.0.1.pom\n",
            "Downloaded from central: https://repo.maven.apache.org/maven2/org/codehaus/plexus/plexus-xml/3.0.1/plexus-xml-3.0.1.pom (3.7 kB at 109 kB/s)\n",
            "Downloading from central: https://repo.maven.apache.org/maven2/org/codehaus/plexus/plexus/18/plexus-18.pom\n",
            "Downloaded from central: https://repo.maven.apache.org/maven2/org/codehaus/plexus/plexus/18/plexus-18.pom (29 kB at 696 kB/s)\n",
            "Downloading from central: https://repo.maven.apache.org/maven2/org/junit/junit-bom/5.10.2/junit-bom-5.10.2.pom\n",
            "Downloaded from central: https://repo.maven.apache.org/maven2/org/junit/junit-bom/5.10.2/junit-bom-5.10.2.pom (5.6 kB at 166 kB/s)\n",
            "Downloading from central: https://repo.maven.apache.org/maven2/org/codehaus/plexus/plexus-utils/4.0.2/plexus-utils-4.0.2.pom\n",
            "Downloaded from central: https://repo.maven.apache.org/maven2/org/codehaus/plexus/plexus-utils/4.0.2/plexus-utils-4.0.2.pom (13 kB at 356 kB/s)\n",
            "Downloading from central: https://repo.maven.apache.org/maven2/org/apache/maven/archetype/archetype-descriptor/3.4.0/archetype-descriptor-3.4.0.pom\n",
            "Downloaded from central: https://repo.maven.apache.org/maven2/org/apache/maven/archetype/archetype-descriptor/3.4.0/archetype-descriptor-3.4.0.pom (1.9 kB at 55 kB/s)\n",
            "Downloading from central: https://repo.maven.apache.org/maven2/org/apache/maven/archetype/archetype-common/3.4.0/archetype-common-3.4.0.pom\n",
            "Downloaded from central: https://repo.maven.apache.org/maven2/org/apache/maven/archetype/archetype-common/3.4.0/archetype-common-3.4.0.pom (18 kB at 398 kB/s)\n",
            "Downloading from central: https://repo.maven.apache.org/maven2/org/apache/groovy/groovy/4.0.26/groovy-4.0.26.pom\n",
            "Downloaded from central: https://repo.maven.apache.org/maven2/org/apache/groovy/groovy/4.0.26/groovy-4.0.26.pom (24 kB at 652 kB/s)\n",
            "Downloading from central: https://repo.maven.apache.org/maven2/org/apache/groovy/groovy-json/4.0.26/groovy-json-4.0.26.pom\n",
            "Downloaded from central: https://repo.maven.apache.org/maven2/org/apache/groovy/groovy-json/4.0.26/groovy-json-4.0.26.pom (23 kB at 564 kB/s)\n",
            "Downloading from central: https://repo.maven.apache.org/maven2/org/apache/groovy/groovy-templates/4.0.26/groovy-templates-4.0.26.pom\n",
            "Downloaded from central: https://repo.maven.apache.org/maven2/org/apache/groovy/groovy-templates/4.0.26/groovy-templates-4.0.26.pom (23 kB at 650 kB/s)\n",
            "Downloading from central: https://repo.maven.apache.org/maven2/org/apache/groovy/groovy-xml/4.0.26/groovy-xml-4.0.26.pom\n",
            "Downloaded from central: https://repo.maven.apache.org/maven2/org/apache/groovy/groovy-xml/4.0.26/groovy-xml-4.0.26.pom (23 kB at 684 kB/s)\n",
            "Downloading from central: https://repo.maven.apache.org/maven2/org/apache/groovy/groovy-yaml/4.0.26/groovy-yaml-4.0.26.pom\n",
            "Downloaded from central: https://repo.maven.apache.org/maven2/org/apache/groovy/groovy-yaml/4.0.26/groovy-yaml-4.0.26.pom (23 kB at 702 kB/s)\n",
            "Downloading from central: https://repo.maven.apache.org/maven2/com/fasterxml/jackson/dataformat/jackson-dataformat-yaml/2.18.2/jackson-dataformat-yaml-2.18.2.pom\n",
            "Downloaded from central: https://repo.maven.apache.org/maven2/com/fasterxml/jackson/dataformat/jackson-dataformat-yaml/2.18.2/jackson-dataformat-yaml-2.18.2.pom (2.6 kB at 61 kB/s)\n",
            "Downloading from central: https://repo.maven.apache.org/maven2/com/fasterxml/jackson/dataformat/jackson-dataformats-text/2.18.2/jackson-dataformats-text-2.18.2.pom\n",
            "Downloaded from central: https://repo.maven.apache.org/maven2/com/fasterxml/jackson/dataformat/jackson-dataformats-text/2.18.2/jackson-dataformats-text-2.18.2.pom (3.7 kB at 115 kB/s)\n",
            "Downloading from central: https://repo.maven.apache.org/maven2/com/fasterxml/jackson/jackson-base/2.18.2/jackson-base-2.18.2.pom\n",
            "Downloaded from central: https://repo.maven.apache.org/maven2/com/fasterxml/jackson/jackson-base/2.18.2/jackson-base-2.18.2.pom (12 kB at 351 kB/s)\n",
            "Downloading from central: https://repo.maven.apache.org/maven2/com/fasterxml/jackson/jackson-bom/2.18.2/jackson-bom-2.18.2.pom\n",
            "Downloaded from central: https://repo.maven.apache.org/maven2/com/fasterxml/jackson/jackson-bom/2.18.2/jackson-bom-2.18.2.pom (19 kB at 505 kB/s)\n",
            "Downloading from central: https://repo.maven.apache.org/maven2/com/fasterxml/jackson/jackson-parent/2.18.1/jackson-parent-2.18.1.pom\n",
            "Downloaded from central: https://repo.maven.apache.org/maven2/com/fasterxml/jackson/jackson-parent/2.18.1/jackson-parent-2.18.1.pom (6.7 kB at 209 kB/s)\n",
            "Downloading from central: https://repo.maven.apache.org/maven2/com/fasterxml/oss-parent/61/oss-parent-61.pom\n",
            "Downloaded from central: https://repo.maven.apache.org/maven2/com/fasterxml/oss-parent/61/oss-parent-61.pom (23 kB at 645 kB/s)\n",
            "Downloading from central: https://repo.maven.apache.org/maven2/com/fasterxml/jackson/core/jackson-databind/2.18.2/jackson-databind-2.18.2.pom\n",
            "Downloaded from central: https://repo.maven.apache.org/maven2/com/fasterxml/jackson/core/jackson-databind/2.18.2/jackson-databind-2.18.2.pom (21 kB at 559 kB/s)\n",
            "Downloading from central: https://repo.maven.apache.org/maven2/com/fasterxml/jackson/core/jackson-annotations/2.18.2/jackson-annotations-2.18.2.pom\n",
            "Downloaded from central: https://repo.maven.apache.org/maven2/com/fasterxml/jackson/core/jackson-annotations/2.18.2/jackson-annotations-2.18.2.pom (7.1 kB at 169 kB/s)\n",
            "Downloading from central: https://repo.maven.apache.org/maven2/com/fasterxml/jackson/core/jackson-core/2.18.2/jackson-core-2.18.2.pom\n",
            "Downloaded from central: https://repo.maven.apache.org/maven2/com/fasterxml/jackson/core/jackson-core/2.18.2/jackson-core-2.18.2.pom (10 kB at 323 kB/s)\n",
            "Downloading from central: https://repo.maven.apache.org/maven2/org/yaml/snakeyaml/2.3/snakeyaml-2.3.pom\n",
            "Downloaded from central: https://repo.maven.apache.org/maven2/org/yaml/snakeyaml/2.3/snakeyaml-2.3.pom (22 kB at 658 kB/s)\n",
            "Downloading from central: https://repo.maven.apache.org/maven2/org/apache/ivy/ivy/2.5.3/ivy-2.5.3.pom\n",
            "Downloaded from central: https://repo.maven.apache.org/maven2/org/apache/ivy/ivy/2.5.3/ivy-2.5.3.pom (7.0 kB at 211 kB/s)\n",
            "Downloading from central: https://repo.maven.apache.org/maven2/org/apache/apache/7/apache-7.pom\n",
            "Downloaded from central: https://repo.maven.apache.org/maven2/org/apache/apache/7/apache-7.pom (14 kB at 437 kB/s)\n",
            "Downloading from central: https://repo.maven.apache.org/maven2/org/jdom/jdom2/2.0.6.1/jdom2-2.0.6.1.pom\n",
            "Downloaded from central: https://repo.maven.apache.org/maven2/org/jdom/jdom2/2.0.6.1/jdom2-2.0.6.1.pom (4.6 kB at 148 kB/s)\n",
            "Downloading from central: https://repo.maven.apache.org/maven2/org/apache/maven/shared/maven-invoker/3.3.0/maven-invoker-3.3.0.pom\n",
            "Downloaded from central: https://repo.maven.apache.org/maven2/org/apache/maven/shared/maven-invoker/3.3.0/maven-invoker-3.3.0.pom (4.2 kB at 133 kB/s)\n",
            "Downloading from central: https://repo.maven.apache.org/maven2/org/apache/maven/shared/maven-shared-components/42/maven-shared-components-42.pom\n",
            "Downloaded from central: https://repo.maven.apache.org/maven2/org/apache/maven/shared/maven-shared-components/42/maven-shared-components-42.pom (3.8 kB at 130 kB/s)\n",
            "Downloading from central: https://repo.maven.apache.org/maven2/org/apache/maven/maven-parent/42/maven-parent-42.pom\n",
            "Downloaded from central: https://repo.maven.apache.org/maven2/org/apache/maven/maven-parent/42/maven-parent-42.pom (50 kB at 1.6 MB/s)\n",
            "Downloading from central: https://repo.maven.apache.org/maven2/org/apache/apache/32/apache-32.pom\n",
            "Downloaded from central: https://repo.maven.apache.org/maven2/org/apache/apache/32/apache-32.pom (24 kB at 691 kB/s)\n",
            "Downloading from central: https://repo.maven.apache.org/maven2/org/apache/maven/shared/maven-shared-utils/3.4.2/maven-shared-utils-3.4.2.pom\n",
            "Downloaded from central: https://repo.maven.apache.org/maven2/org/apache/maven/shared/maven-shared-utils/3.4.2/maven-shared-utils-3.4.2.pom (5.9 kB at 190 kB/s)\n",
            "Downloading from central: https://repo.maven.apache.org/maven2/org/apache/maven/shared/maven-shared-components/39/maven-shared-components-39.pom\n",
            "Downloaded from central: https://repo.maven.apache.org/maven2/org/apache/maven/shared/maven-shared-components/39/maven-shared-components-39.pom (3.2 kB at 89 kB/s)\n",
            "Downloading from central: https://repo.maven.apache.org/maven2/org/apache/maven/maven-parent/39/maven-parent-39.pom\n",
            "Downloaded from central: https://repo.maven.apache.org/maven2/org/apache/maven/maven-parent/39/maven-parent-39.pom (48 kB at 1.5 MB/s)\n",
            "Downloading from central: https://repo.maven.apache.org/maven2/org/apache/apache/29/apache-29.pom\n",
            "Downloaded from central: https://repo.maven.apache.org/maven2/org/apache/apache/29/apache-29.pom (21 kB at 668 kB/s)\n",
            "Downloading from central: https://repo.maven.apache.org/maven2/org/slf4j/slf4j-api/1.7.36/slf4j-api-1.7.36.pom\n",
            "Downloaded from central: https://repo.maven.apache.org/maven2/org/slf4j/slf4j-api/1.7.36/slf4j-api-1.7.36.pom (2.7 kB at 86 kB/s)\n",
            "Downloading from central: https://repo.maven.apache.org/maven2/org/slf4j/slf4j-parent/1.7.36/slf4j-parent-1.7.36.pom\n",
            "Downloaded from central: https://repo.maven.apache.org/maven2/org/slf4j/slf4j-parent/1.7.36/slf4j-parent-1.7.36.pom (14 kB at 440 kB/s)\n",
            "Downloading from central: https://repo.maven.apache.org/maven2/commons-io/commons-io/2.19.0/commons-io-2.19.0.pom\n",
            "Downloaded from central: https://repo.maven.apache.org/maven2/commons-io/commons-io/2.19.0/commons-io-2.19.0.pom (21 kB at 645 kB/s)\n",
            "Downloading from central: https://repo.maven.apache.org/maven2/org/apache/commons/commons-parent/81/commons-parent-81.pom\n",
            "Downloaded from central: https://repo.maven.apache.org/maven2/org/apache/commons/commons-parent/81/commons-parent-81.pom (78 kB at 2.1 MB/s)\n",
            "Downloading from central: https://repo.maven.apache.org/maven2/org/apache/apache/33/apache-33.pom\n",
            "Downloaded from central: https://repo.maven.apache.org/maven2/org/apache/apache/33/apache-33.pom (24 kB at 672 kB/s)\n",
            "Downloading from central: https://repo.maven.apache.org/maven2/org/junit/junit-bom/5.11.4/junit-bom-5.11.4.pom\n",
            "Downloaded from central: https://repo.maven.apache.org/maven2/org/junit/junit-bom/5.11.4/junit-bom-5.11.4.pom (5.6 kB at 166 kB/s)\n",
            "Downloading from central: https://repo.maven.apache.org/maven2/javax/inject/javax.inject/1/javax.inject-1.pom\n",
            "Downloaded from central: https://repo.maven.apache.org/maven2/javax/inject/javax.inject/1/javax.inject-1.pom (612 B at 16 kB/s)\n",
            "Downloading from central: https://repo.maven.apache.org/maven2/commons-collections/commons-collections/3.2.2/commons-collections-3.2.2.pom\n",
            "Downloaded from central: https://repo.maven.apache.org/maven2/commons-collections/commons-collections/3.2.2/commons-collections-3.2.2.pom (12 kB at 354 kB/s)\n",
            "Downloading from central: https://repo.maven.apache.org/maven2/org/apache/commons/commons-parent/39/commons-parent-39.pom\n",
            "Downloaded from central: https://repo.maven.apache.org/maven2/org/apache/commons/commons-parent/39/commons-parent-39.pom (62 kB at 1.9 MB/s)\n",
            "Downloading from central: https://repo.maven.apache.org/maven2/org/apache/apache/16/apache-16.pom\n",
            "Downloaded from central: https://repo.maven.apache.org/maven2/org/apache/apache/16/apache-16.pom (15 kB at 467 kB/s)\n",
            "Downloading from central: https://repo.maven.apache.org/maven2/org/codehaus/plexus/plexus-velocity/2.2.1/plexus-velocity-2.2.1.pom\n",
            "Downloaded from central: https://repo.maven.apache.org/maven2/org/codehaus/plexus/plexus-velocity/2.2.1/plexus-velocity-2.2.1.pom (4.1 kB at 127 kB/s)\n",
            "Downloading from central: https://repo.maven.apache.org/maven2/org/codehaus/plexus/plexus/20/plexus-20.pom\n",
            "Downloaded from central: https://repo.maven.apache.org/maven2/org/codehaus/plexus/plexus/20/plexus-20.pom (29 kB at 941 kB/s)\n",
            "Downloading from central: https://repo.maven.apache.org/maven2/org/apache/velocity/velocity-engine-core/2.4.1/velocity-engine-core-2.4.1.pom\n",
            "Downloaded from central: https://repo.maven.apache.org/maven2/org/apache/velocity/velocity-engine-core/2.4.1/velocity-engine-core-2.4.1.pom (12 kB at 387 kB/s)\n",
            "Downloading from central: https://repo.maven.apache.org/maven2/org/apache/velocity/velocity-engine-parent/2.4.1/velocity-engine-parent-2.4.1.pom\n",
            "Downloaded from central: https://repo.maven.apache.org/maven2/org/apache/velocity/velocity-engine-parent/2.4.1/velocity-engine-parent-2.4.1.pom (9.5 kB at 317 kB/s)\n",
            "Downloading from central: https://repo.maven.apache.org/maven2/org/apache/velocity/velocity-master/7/velocity-master-7.pom\n",
            "Downloaded from central: https://repo.maven.apache.org/maven2/org/apache/velocity/velocity-master/7/velocity-master-7.pom (7.9 kB at 256 kB/s)\n",
            "Downloading from central: https://repo.maven.apache.org/maven2/org/apache/commons/commons-lang3/3.17.0/commons-lang3-3.17.0.pom\n",
            "Downloaded from central: https://repo.maven.apache.org/maven2/org/apache/commons/commons-lang3/3.17.0/commons-lang3-3.17.0.pom (31 kB at 947 kB/s)\n",
            "Downloading from central: https://repo.maven.apache.org/maven2/org/apache/commons/commons-parent/73/commons-parent-73.pom\n",
            "Downloaded from central: https://repo.maven.apache.org/maven2/org/apache/commons/commons-parent/73/commons-parent-73.pom (78 kB at 2.2 MB/s)\n",
            "Downloading from central: https://repo.maven.apache.org/maven2/org/junit/junit-bom/5.11.0/junit-bom-5.11.0.pom\n",
            "Downloaded from central: https://repo.maven.apache.org/maven2/org/junit/junit-bom/5.11.0/junit-bom-5.11.0.pom (5.6 kB at 177 kB/s)\n",
            "Downloading from central: https://repo.maven.apache.org/maven2/com/ibm/icu/icu4j/77.1/icu4j-77.1.pom\n",
            "Downloaded from central: https://repo.maven.apache.org/maven2/com/ibm/icu/icu4j/77.1/icu4j-77.1.pom (1.5 kB at 46 kB/s)\n",
            "Downloading from central: https://repo.maven.apache.org/maven2/org/apache/maven/maven-archiver/3.6.3/maven-archiver-3.6.3.pom\n",
            "Downloaded from central: https://repo.maven.apache.org/maven2/org/apache/maven/maven-archiver/3.6.3/maven-archiver-3.6.3.pom (4.2 kB at 136 kB/s)\n",
            "Downloading from central: https://repo.maven.apache.org/maven2/org/apache/maven/shared/maven-shared-components/43/maven-shared-components-43.pom\n",
            "Downloaded from central: https://repo.maven.apache.org/maven2/org/apache/maven/shared/maven-shared-components/43/maven-shared-components-43.pom (3.8 kB at 118 kB/s)\n",
            "Downloading from central: https://repo.maven.apache.org/maven2/org/apache/maven/maven-parent/43/maven-parent-43.pom\n",
            "Downloaded from central: https://repo.maven.apache.org/maven2/org/apache/maven/maven-parent/43/maven-parent-43.pom (50 kB at 1.5 MB/s)\n",
            "Downloading from central: https://repo.maven.apache.org/maven2/org/junit/junit-bom/5.10.3/junit-bom-5.10.3.pom\n",
            "Downloaded from central: https://repo.maven.apache.org/maven2/org/junit/junit-bom/5.10.3/junit-bom-5.10.3.pom (5.6 kB at 182 kB/s)\n",
            "Downloading from central: https://repo.maven.apache.org/maven2/org/codehaus/plexus/plexus-archiver/4.10.0/plexus-archiver-4.10.0.pom\n",
            "Downloaded from central: https://repo.maven.apache.org/maven2/org/codehaus/plexus/plexus-archiver/4.10.0/plexus-archiver-4.10.0.pom (5.8 kB at 182 kB/s)\n",
            "Downloading from central: https://repo.maven.apache.org/maven2/org/codehaus/plexus/plexus-io/3.5.0/plexus-io-3.5.0.pom\n",
            "Downloaded from central: https://repo.maven.apache.org/maven2/org/codehaus/plexus/plexus-io/3.5.0/plexus-io-3.5.0.pom (4.3 kB at 128 kB/s)\n",
            "Downloading from central: https://repo.maven.apache.org/maven2/org/apache/commons/commons-compress/1.26.2/commons-compress-1.26.2.pom\n",
            "Downloaded from central: https://repo.maven.apache.org/maven2/org/apache/commons/commons-compress/1.26.2/commons-compress-1.26.2.pom (23 kB at 717 kB/s)\n",
            "Downloading from central: https://repo.maven.apache.org/maven2/org/apache/commons/commons-parent/69/commons-parent-69.pom\n",
            "Downloaded from central: https://repo.maven.apache.org/maven2/org/apache/commons/commons-parent/69/commons-parent-69.pom (77 kB at 2.2 MB/s)\n",
            "Downloading from central: https://repo.maven.apache.org/maven2/org/apache/apache/31/apache-31.pom\n",
            "Downloaded from central: https://repo.maven.apache.org/maven2/org/apache/apache/31/apache-31.pom (24 kB at 672 kB/s)\n",
            "Downloading from central: https://repo.maven.apache.org/maven2/commons-codec/commons-codec/1.17.0/commons-codec-1.17.0.pom\n",
            "Downloaded from central: https://repo.maven.apache.org/maven2/commons-codec/commons-codec/1.17.0/commons-codec-1.17.0.pom (18 kB at 458 kB/s)\n",
            "Downloading from central: https://repo.maven.apache.org/maven2/io/airlift/aircompressor/0.27/aircompressor-0.27.pom\n",
            "Downloaded from central: https://repo.maven.apache.org/maven2/io/airlift/aircompressor/0.27/aircompressor-0.27.pom (5.8 kB at 180 kB/s)\n",
            "Downloading from central: https://repo.maven.apache.org/maven2/io/airlift/airbase/112/airbase-112.pom\n",
            "Downloaded from central: https://repo.maven.apache.org/maven2/io/airlift/airbase/112/airbase-112.pom (69 kB at 2.0 MB/s)\n",
            "Downloading from central: https://repo.maven.apache.org/maven2/org/junit/junit-bom/5.8.0-M1/junit-bom-5.8.0-M1.pom\n",
            "Downloaded from central: https://repo.maven.apache.org/maven2/org/junit/junit-bom/5.8.0-M1/junit-bom-5.8.0-M1.pom (5.7 kB at 172 kB/s)\n",
            "Downloading from central: https://repo.maven.apache.org/maven2/org/tukaani/xz/1.9/xz-1.9.pom\n",
            "Downloaded from central: https://repo.maven.apache.org/maven2/org/tukaani/xz/1.9/xz-1.9.pom (2.0 kB at 68 kB/s)\n",
            "Downloading from central: https://repo.maven.apache.org/maven2/com/github/luben/zstd-jni/1.5.6-3/zstd-jni-1.5.6-3.pom\n",
            "Downloaded from central: https://repo.maven.apache.org/maven2/com/github/luben/zstd-jni/1.5.6-3/zstd-jni-1.5.6-3.pom (2.0 kB at 48 kB/s)\n",
            "Downloading from central: https://repo.maven.apache.org/maven2/org/codehaus/plexus/plexus-interpolation/1.27/plexus-interpolation-1.27.pom\n",
            "Downloaded from central: https://repo.maven.apache.org/maven2/org/codehaus/plexus/plexus-interpolation/1.27/plexus-interpolation-1.27.pom (3.0 kB at 94 kB/s)\n",
            "Downloading from central: https://repo.maven.apache.org/maven2/org/codehaus/plexus/plexus/16/plexus-16.pom\n",
            "Downloaded from central: https://repo.maven.apache.org/maven2/org/codehaus/plexus/plexus/16/plexus-16.pom (28 kB at 921 kB/s)\n",
            "Downloading from central: https://repo.maven.apache.org/maven2/org/junit/junit-bom/5.10.1/junit-bom-5.10.1.pom\n",
            "Downloaded from central: https://repo.maven.apache.org/maven2/org/junit/junit-bom/5.10.1/junit-bom-5.10.1.pom (5.6 kB at 182 kB/s)\n",
            "Downloading from central: https://repo.maven.apache.org/maven2/org/codehaus/plexus/plexus-interactivity-api/1.4/plexus-interactivity-api-1.4.pom\n",
            "Downloaded from central: https://repo.maven.apache.org/maven2/org/codehaus/plexus/plexus-interactivity-api/1.4/plexus-interactivity-api-1.4.pom (1.7 kB at 51 kB/s)\n",
            "Downloading from central: https://repo.maven.apache.org/maven2/org/codehaus/plexus/plexus-interactivity/1.4/plexus-interactivity-1.4.pom\n",
            "Downloaded from central: https://repo.maven.apache.org/maven2/org/codehaus/plexus/plexus-interactivity/1.4/plexus-interactivity-1.4.pom (1.7 kB at 49 kB/s)\n",
            "Downloading from central: https://repo.maven.apache.org/maven2/org/apache/maven/plugin-tools/maven-plugin-annotations/3.15.1/maven-plugin-annotations-3.15.1.pom\n",
            "Downloaded from central: https://repo.maven.apache.org/maven2/org/apache/maven/plugin-tools/maven-plugin-annotations/3.15.1/maven-plugin-annotations-3.15.1.pom (1.5 kB at 45 kB/s)\n",
            "Downloading from central: https://repo.maven.apache.org/maven2/org/apache/maven/plugin-tools/maven-plugin-tools/3.15.1/maven-plugin-tools-3.15.1.pom\n",
            "Downloaded from central: https://repo.maven.apache.org/maven2/org/apache/maven/plugin-tools/maven-plugin-tools/3.15.1/maven-plugin-tools-3.15.1.pom (18 kB at 534 kB/s)\n",
            "Downloading from central: https://repo.maven.apache.org/maven2/org/junit/junit-bom/5.11.3/junit-bom-5.11.3.pom\n",
            "Downloaded from central: https://repo.maven.apache.org/maven2/org/junit/junit-bom/5.11.3/junit-bom-5.11.3.pom (5.6 kB at 182 kB/s)\n",
            "Downloading from central: https://repo.maven.apache.org/maven2/org/apache/maven/shared/maven-script-interpreter/1.5/maven-script-interpreter-1.5.pom\n",
            "Downloaded from central: https://repo.maven.apache.org/maven2/org/apache/maven/shared/maven-script-interpreter/1.5/maven-script-interpreter-1.5.pom (4.6 kB at 145 kB/s)\n",
            "Downloading from central: https://repo.maven.apache.org/maven2/org/apache/maven/shared/maven-shared-components/41/maven-shared-components-41.pom\n",
            "Downloaded from central: https://repo.maven.apache.org/maven2/org/apache/maven/shared/maven-shared-components/41/maven-shared-components-41.pom (3.2 kB at 110 kB/s)\n",
            "Downloading from central: https://repo.maven.apache.org/maven2/org/apache/maven/maven-parent/41/maven-parent-41.pom\n",
            "Downloaded from central: https://repo.maven.apache.org/maven2/org/apache/maven/maven-parent/41/maven-parent-41.pom (50 kB at 1.5 MB/s)\n",
            "Downloading from central: https://repo.maven.apache.org/maven2/org/apache-extras/beanshell/bsh/2.0b6/bsh-2.0b6.pom\n",
            "Downloaded from central: https://repo.maven.apache.org/maven2/org/apache-extras/beanshell/bsh/2.0b6/bsh-2.0b6.pom (5.0 kB at 166 kB/s)\n",
            "Downloading from central: https://repo.maven.apache.org/maven2/org/apache/maven/archetype/archetype-catalog/3.4.0/archetype-catalog-3.4.0.jar\n",
            "Downloading from central: https://repo.maven.apache.org/maven2/org/codehaus/plexus/plexus-xml/3.0.1/plexus-xml-3.0.1.jar\n",
            "Downloading from central: https://repo.maven.apache.org/maven2/org/apache/maven/archetype/archetype-common/3.4.0/archetype-common-3.4.0.jar\n",
            "Downloading from central: https://repo.maven.apache.org/maven2/org/apache/maven/archetype/archetype-descriptor/3.4.0/archetype-descriptor-3.4.0.jar\n",
            "Downloading from central: https://repo.maven.apache.org/maven2/org/apache/groovy/groovy/4.0.26/groovy-4.0.26.jar\n",
            "Downloaded from central: https://repo.maven.apache.org/maven2/org/apache/maven/archetype/archetype-catalog/3.4.0/archetype-catalog-3.4.0.jar (19 kB at 542 kB/s)\n",
            "Downloading from central: https://repo.maven.apache.org/maven2/org/apache/groovy/groovy-json/4.0.26/groovy-json-4.0.26.jar\n",
            "Downloaded from central: https://repo.maven.apache.org/maven2/org/codehaus/plexus/plexus-xml/3.0.1/plexus-xml-3.0.1.jar (94 kB at 1.9 MB/s)\n",
            "Downloading from central: https://repo.maven.apache.org/maven2/org/apache/groovy/groovy-templates/4.0.26/groovy-templates-4.0.26.jar\n",
            "Downloaded from central: https://repo.maven.apache.org/maven2/org/apache/maven/archetype/archetype-descriptor/3.4.0/archetype-descriptor-3.4.0.jar (24 kB at 283 kB/s)\n",
            "Downloading from central: https://repo.maven.apache.org/maven2/org/apache/groovy/groovy-xml/4.0.26/groovy-xml-4.0.26.jar\n",
            "Downloaded from central: https://repo.maven.apache.org/maven2/org/apache/groovy/groovy-json/4.0.26/groovy-json-4.0.26.jar (130 kB at 1.8 MB/s)\n",
            "Downloading from central: https://repo.maven.apache.org/maven2/org/apache/groovy/groovy-yaml/4.0.26/groovy-yaml-4.0.26.jar\n",
            "Downloaded from central: https://repo.maven.apache.org/maven2/org/apache/groovy/groovy-yaml/4.0.26/groovy-yaml-4.0.26.jar (6.2 kB at 56 kB/s)\n",
            "Downloaded from central: https://repo.maven.apache.org/maven2/org/apache/groovy/groovy-templates/4.0.26/groovy-templates-4.0.26.jar (93 kB at 821 kB/s)\n",
            "Downloading from central: https://repo.maven.apache.org/maven2/org/yaml/snakeyaml/2.3/snakeyaml-2.3.jar\n",
            "Downloading from central: https://repo.maven.apache.org/maven2/com/fasterxml/jackson/dataformat/jackson-dataformat-yaml/2.18.2/jackson-dataformat-yaml-2.18.2.jar\n",
            "Downloaded from central: https://repo.maven.apache.org/maven2/org/apache/maven/archetype/archetype-common/3.4.0/archetype-common-3.4.0.jar (175 kB at 1.2 MB/s)\n",
            "Downloading from central: https://repo.maven.apache.org/maven2/com/fasterxml/jackson/core/jackson-core/2.18.2/jackson-core-2.18.2.jar\n",
            "Downloaded from central: https://repo.maven.apache.org/maven2/com/fasterxml/jackson/dataformat/jackson-dataformat-yaml/2.18.2/jackson-dataformat-yaml-2.18.2.jar (56 kB at 314 kB/s)\n",
            "Downloading from central: https://repo.maven.apache.org/maven2/com/fasterxml/jackson/core/jackson-databind/2.18.2/jackson-databind-2.18.2.jar\n",
            "Downloaded from central: https://repo.maven.apache.org/maven2/org/apache/groovy/groovy-xml/4.0.26/groovy-xml-4.0.26.jar (214 kB at 916 kB/s)\n",
            "Downloading from central: https://repo.maven.apache.org/maven2/com/fasterxml/jackson/core/jackson-annotations/2.18.2/jackson-annotations-2.18.2.jar\n",
            "Downloaded from central: https://repo.maven.apache.org/maven2/com/fasterxml/jackson/core/jackson-annotations/2.18.2/jackson-annotations-2.18.2.jar (78 kB at 246 kB/s)\n",
            "Downloading from central: https://repo.maven.apache.org/maven2/org/apache/ivy/ivy/2.5.3/ivy-2.5.3.jar\n",
            "Downloaded from central: https://repo.maven.apache.org/maven2/org/yaml/snakeyaml/2.3/snakeyaml-2.3.jar (342 kB at 1.0 MB/s)\n",
            "Downloading from central: https://repo.maven.apache.org/maven2/org/jdom/jdom2/2.0.6.1/jdom2-2.0.6.1.jar\n",
            "Downloaded from central: https://repo.maven.apache.org/maven2/com/fasterxml/jackson/core/jackson-core/2.18.2/jackson-core-2.18.2.jar (598 kB at 1.1 MB/s)\n",
            "Downloading from central: https://repo.maven.apache.org/maven2/commons-io/commons-io/2.19.0/commons-io-2.19.0.jar\n",
            "Downloaded from central: https://repo.maven.apache.org/maven2/org/jdom/jdom2/2.0.6.1/jdom2-2.0.6.1.jar (328 kB at 586 kB/s)\n",
            "Downloading from central: https://repo.maven.apache.org/maven2/org/codehaus/plexus/plexus-velocity/2.2.1/plexus-velocity-2.2.1.jar\n",
            "Downloaded from central: https://repo.maven.apache.org/maven2/org/codehaus/plexus/plexus-velocity/2.2.1/plexus-velocity-2.2.1.jar (5.7 kB at 9.4 kB/s)\n",
            "Downloading from central: https://repo.maven.apache.org/maven2/com/ibm/icu/icu4j/77.1/icu4j-77.1.jar\n",
            "Downloaded from central: https://repo.maven.apache.org/maven2/org/apache/ivy/ivy/2.5.3/ivy-2.5.3.jar (1.4 MB at 1.9 MB/s)\n",
            "Downloading from central: https://repo.maven.apache.org/maven2/org/apache/maven/maven-archiver/3.6.3/maven-archiver-3.6.3.jar\n",
            "Downloaded from central: https://repo.maven.apache.org/maven2/org/apache/maven/maven-archiver/3.6.3/maven-archiver-3.6.3.jar (27 kB at 33 kB/s)\n",
            "Downloading from central: https://repo.maven.apache.org/maven2/org/codehaus/plexus/plexus-interpolation/1.27/plexus-interpolation-1.27.jar\n",
            "Downloaded from central: https://repo.maven.apache.org/maven2/commons-io/commons-io/2.19.0/commons-io-2.19.0.jar (556 kB at 656 kB/s)\n",
            "Downloading from central: https://repo.maven.apache.org/maven2/org/codehaus/plexus/plexus-archiver/4.10.0/plexus-archiver-4.10.0.jar\n",
            "Downloaded from central: https://repo.maven.apache.org/maven2/org/codehaus/plexus/plexus-interpolation/1.27/plexus-interpolation-1.27.jar (86 kB at 99 kB/s)\n",
            "Downloading from central: https://repo.maven.apache.org/maven2/javax/inject/javax.inject/1/javax.inject-1.jar\n",
            "Downloaded from central: https://repo.maven.apache.org/maven2/com/fasterxml/jackson/core/jackson-databind/2.18.2/jackson-databind-2.18.2.jar (1.7 MB at 1.8 MB/s)\n",
            "Downloading from central: https://repo.maven.apache.org/maven2/org/codehaus/plexus/plexus-io/3.5.0/plexus-io-3.5.0.jar\n",
            "Downloaded from central: https://repo.maven.apache.org/maven2/javax/inject/javax.inject/1/javax.inject-1.jar (2.5 kB at 2.7 kB/s)\n",
            "Downloading from central: https://repo.maven.apache.org/maven2/org/apache/commons/commons-compress/1.26.2/commons-compress-1.26.2.jar\n",
            "Downloaded from central: https://repo.maven.apache.org/maven2/org/codehaus/plexus/plexus-io/3.5.0/plexus-io-3.5.0.jar (79 kB at 80 kB/s)\n",
            "Downloading from central: https://repo.maven.apache.org/maven2/commons-codec/commons-codec/1.17.0/commons-codec-1.17.0.jar\n",
            "Downloaded from central: https://repo.maven.apache.org/maven2/org/codehaus/plexus/plexus-archiver/4.10.0/plexus-archiver-4.10.0.jar (225 kB at 216 kB/s)\n",
            "Downloading from central: https://repo.maven.apache.org/maven2/io/airlift/aircompressor/0.27/aircompressor-0.27.jar\n",
            "Downloaded from central: https://repo.maven.apache.org/maven2/io/airlift/aircompressor/0.27/aircompressor-0.27.jar (255 kB at 198 kB/s)\n",
            "Downloading from central: https://repo.maven.apache.org/maven2/org/tukaani/xz/1.9/xz-1.9.jar\n",
            "Downloaded from central: https://repo.maven.apache.org/maven2/commons-codec/commons-codec/1.17.0/commons-codec-1.17.0.jar (373 kB at 284 kB/s)\n",
            "Downloading from central: https://repo.maven.apache.org/maven2/com/github/luben/zstd-jni/1.5.6-3/zstd-jni-1.5.6-3.jar\n",
            "Downloaded from central: https://repo.maven.apache.org/maven2/org/tukaani/xz/1.9/xz-1.9.jar (116 kB at 85 kB/s)\n",
            "Downloading from central: https://repo.maven.apache.org/maven2/org/codehaus/plexus/plexus-utils/4.0.2/plexus-utils-4.0.2.jar\n",
            "Downloaded from central: https://repo.maven.apache.org/maven2/org/apache/groovy/groovy/4.0.26/groovy-4.0.26.jar (7.6 MB at 5.3 MB/s)\n",
            "Downloading from central: https://repo.maven.apache.org/maven2/org/codehaus/plexus/plexus-interactivity-api/1.4/plexus-interactivity-api-1.4.jar\n",
            "Downloaded from central: https://repo.maven.apache.org/maven2/org/apache/commons/commons-compress/1.26.2/commons-compress-1.26.2.jar (1.1 MB at 754 kB/s)\n",
            "Downloading from central: https://repo.maven.apache.org/maven2/org/apache/maven/plugin-tools/maven-plugin-annotations/3.15.1/maven-plugin-annotations-3.15.1.jar\n",
            "Downloaded from central: https://repo.maven.apache.org/maven2/org/codehaus/plexus/plexus-interactivity-api/1.4/plexus-interactivity-api-1.4.jar (10 kB at 6.9 kB/s)\n",
            "Downloaded from central: https://repo.maven.apache.org/maven2/org/apache/maven/plugin-tools/maven-plugin-annotations/3.15.1/maven-plugin-annotations-3.15.1.jar (14 kB at 9.2 kB/s)\n",
            "Downloading from central: https://repo.maven.apache.org/maven2/org/apache/maven/shared/maven-shared-utils/3.4.2/maven-shared-utils-3.4.2.jar\n",
            "Downloading from central: https://repo.maven.apache.org/maven2/org/apache/maven/shared/maven-invoker/3.3.0/maven-invoker-3.3.0.jar\n",
            "Downloaded from central: https://repo.maven.apache.org/maven2/org/codehaus/plexus/plexus-utils/4.0.2/plexus-utils-4.0.2.jar (193 kB at 124 kB/s)\n",
            "Downloaded from central: https://repo.maven.apache.org/maven2/org/apache/maven/shared/maven-invoker/3.3.0/maven-invoker-3.3.0.jar (34 kB at 22 kB/s)\n",
            "Downloading from central: https://repo.maven.apache.org/maven2/org/apache/commons/commons-lang3/3.17.0/commons-lang3-3.17.0.jar\n",
            "Downloading from central: https://repo.maven.apache.org/maven2/org/apache/velocity/velocity-engine-core/2.4.1/velocity-engine-core-2.4.1.jar\n",
            "Downloaded from central: https://repo.maven.apache.org/maven2/org/apache/maven/shared/maven-shared-utils/3.4.2/maven-shared-utils-3.4.2.jar (151 kB at 93 kB/s)\n",
            "Downloading from central: https://repo.maven.apache.org/maven2/commons-collections/commons-collections/3.2.2/commons-collections-3.2.2.jar\n",
            "Downloaded from central: https://repo.maven.apache.org/maven2/org/apache/velocity/velocity-engine-core/2.4.1/velocity-engine-core-2.4.1.jar (516 kB at 275 kB/s)\n",
            "Downloading from central: https://repo.maven.apache.org/maven2/org/apache/maven/shared/maven-script-interpreter/1.5/maven-script-interpreter-1.5.jar\n",
            "Downloaded from central: https://repo.maven.apache.org/maven2/org/apache/maven/shared/maven-script-interpreter/1.5/maven-script-interpreter-1.5.jar (25 kB at 13 kB/s)\n",
            "Downloading from central: https://repo.maven.apache.org/maven2/org/apache-extras/beanshell/bsh/2.0b6/bsh-2.0b6.jar\n",
            "Downloaded from central: https://repo.maven.apache.org/maven2/org/apache/commons/commons-lang3/3.17.0/commons-lang3-3.17.0.jar (674 kB at 351 kB/s)\n",
            "Downloading from central: https://repo.maven.apache.org/maven2/org/slf4j/slf4j-api/1.7.36/slf4j-api-1.7.36.jar\n",
            "Downloaded from central: https://repo.maven.apache.org/maven2/commons-collections/commons-collections/3.2.2/commons-collections-3.2.2.jar (588 kB at 299 kB/s)\n",
            "Downloaded from central: https://repo.maven.apache.org/maven2/org/slf4j/slf4j-api/1.7.36/slf4j-api-1.7.36.jar (41 kB at 21 kB/s)\n",
            "Downloaded from central: https://repo.maven.apache.org/maven2/org/apache-extras/beanshell/bsh/2.0b6/bsh-2.0b6.jar (389 kB at 191 kB/s)\n",
            "Downloaded from central: https://repo.maven.apache.org/maven2/com/github/luben/zstd-jni/1.5.6-3/zstd-jni-1.5.6-3.jar (6.7 MB at 3.0 MB/s)\n",
            "Downloaded from central: https://repo.maven.apache.org/maven2/com/ibm/icu/icu4j/77.1/icu4j-77.1.jar (15 MB at 6.4 MB/s)\n",
            "[\u001b[1;34mINFO\u001b[m] Generating project in Batch mode\n",
            "Downloading from central: https://repo.maven.apache.org/maven2/archetype-catalog.xml\n",
            "Downloaded from central: https://repo.maven.apache.org/maven2/archetype-catalog.xml (17 MB at 38 MB/s)\n",
            "Downloading from central: https://repo.maven.apache.org/maven2/org/apache/maven/archetypes/maven-archetype-quickstart/1.0/maven-archetype-quickstart-1.0.jar\n",
            "Downloaded from central: https://repo.maven.apache.org/maven2/org/apache/maven/archetypes/maven-archetype-quickstart/1.0/maven-archetype-quickstart-1.0.jar (4.3 kB at 139 kB/s)\n",
            "[\u001b[1;34mINFO\u001b[m] ----------------------------------------------------------------------------\n",
            "[\u001b[1;34mINFO\u001b[m] Using following parameters for creating project from Old (1.x) Archetype: maven-archetype-quickstart:1.0\n",
            "[\u001b[1;34mINFO\u001b[m] ----------------------------------------------------------------------------\n",
            "[\u001b[1;34mINFO\u001b[m] Parameter: basedir, Value: /content\n",
            "[\u001b[1;34mINFO\u001b[m] Parameter: package, Value: com.example\n",
            "[\u001b[1;34mINFO\u001b[m] Parameter: groupId, Value: com.example\n",
            "[\u001b[1;34mINFO\u001b[m] Parameter: artifactId, Value: testng-demo\n",
            "[\u001b[1;34mINFO\u001b[m] Parameter: packageName, Value: com.example\n",
            "[\u001b[1;34mINFO\u001b[m] Parameter: version, Value: 1.0-SNAPSHOT\n",
            "[\u001b[1;34mINFO\u001b[m] project created from Old (1.x) Archetype in dir: /content/testng-demo\n",
            "[\u001b[1;34mINFO\u001b[m] \u001b[1m------------------------------------------------------------------------\u001b[m\n",
            "[\u001b[1;34mINFO\u001b[m] \u001b[1;32mBUILD SUCCESS\u001b[m\n",
            "[\u001b[1;34mINFO\u001b[m] \u001b[1m------------------------------------------------------------------------\u001b[m\n",
            "[\u001b[1;34mINFO\u001b[m] Total time:  11.570 s\n",
            "[\u001b[1;34mINFO\u001b[m] Finished at: 2025-09-14T13:03:39Z\n",
            "[\u001b[1;34mINFO\u001b[m] \u001b[1m------------------------------------------------------------------------\u001b[m\n"
          ]
        }
      ]
    },
    {
      "cell_type": "markdown",
      "source": [
        "**Add TestNG Dependency in pom.xml**"
      ],
      "metadata": {
        "id": "s7fhO9IVbNbu"
      }
    },
    {
      "cell_type": "code",
      "source": [
        "%%writefile testng-demo/pom.xml\n",
        "<project xmlns=\"http://maven.apache.org/POM/4.0.0\"\n",
        "         xmlns:xsi=\"http://www.w3.org/2001/XMLSchema-instance\"\n",
        "         xsi:schemaLocation=\"http://maven.apache.org/POM/4.0.0\n",
        "                             http://maven.apache.org/xsd/maven-4.0.0.xsd\">\n",
        "\n",
        "  <modelVersion>4.0.0</modelVersion>\n",
        "  <groupId>com.example</groupId>\n",
        "  <artifactId>testng-demo</artifactId>\n",
        "  <version>1.0-SNAPSHOT</version>\n",
        "\n",
        "  <properties>\n",
        "    <maven.compiler.source>11</maven.compiler.source>\n",
        "    <maven.compiler.target>11</maven.compiler.target>\n",
        "  </properties>\n",
        "\n",
        "  <dependencies>\n",
        "    <!-- ✅ TestNG Dependency -->\n",
        "    <dependency>\n",
        "      <groupId>org.testng</groupId>\n",
        "      <artifactId>testng</artifactId>\n",
        "      <version>7.9.0</version>\n",
        "      <scope>test</scope>\n",
        "    </dependency>\n",
        "  </dependencies>\n",
        "\n",
        "  <build>\n",
        "    <plugins>\n",
        "      <!-- Compiler Plugin -->\n",
        "      <plugin>\n",
        "        <groupId>org.apache.maven.plugins</groupId>\n",
        "        <artifactId>maven-compiler-plugin</artifactId>\n",
        "        <version>3.8.1</version>\n",
        "        <configuration>\n",
        "          <source>11</source>\n",
        "          <target>11</target>\n",
        "        </configuration>\n",
        "      </plugin>\n",
        "\n",
        "      <!-- Surefire Plugin for running TestNG -->\n",
        "      <plugin>\n",
        "        <groupId>org.apache.maven.plugins</groupId>\n",
        "        <artifactId>maven-surefire-plugin</artifactId>\n",
        "        <version>3.0.0</version>\n",
        "      </plugin>\n",
        "    </plugins>\n",
        "  </build>\n",
        "</project>\n"
      ],
      "metadata": {
        "colab": {
          "base_uri": "https://localhost:8080/"
        },
        "id": "_PBV42VoU0CX",
        "outputId": "fefa1691-7681-4a17-e94b-7f5afe6a3377"
      },
      "execution_count": 28,
      "outputs": [
        {
          "output_type": "stream",
          "name": "stdout",
          "text": [
            "Overwriting testng-demo/pom.xml\n"
          ]
        }
      ]
    },
    {
      "cell_type": "code",
      "source": [
        "!rm testng-demo/src/test/java/com/example/AppTest.java"
      ],
      "metadata": {
        "id": "UMuMiZU4Z-4Y"
      },
      "execution_count": 39,
      "outputs": []
    },
    {
      "cell_type": "markdown",
      "source": [
        "**Create a Sample TestNG Test**"
      ],
      "metadata": {
        "id": "BATt7JrQbTkf"
      }
    },
    {
      "cell_type": "code",
      "source": [
        "%%writefile testng-demo/src/test/java/com/example/AppTest.java\n",
        "import org.testng.Assert;\n",
        "import org.testng.annotations.Test;\n",
        "\n",
        "public class AppTest {\n",
        "\n",
        "    @Test\n",
        "    public void testHelloWorld() {\n",
        "        String message = \"Hello\";\n",
        "        Assert.assertEquals(message, \"Hello1\");\n",
        "    }\n",
        "}\n"
      ],
      "metadata": {
        "colab": {
          "base_uri": "https://localhost:8080/"
        },
        "id": "ApK6g0p9V9tf",
        "outputId": "4c4a5953-e4e4-45db-fa54-ae7e3976357c"
      },
      "execution_count": 43,
      "outputs": [
        {
          "output_type": "stream",
          "name": "stdout",
          "text": [
            "Overwriting testng-demo/src/test/java/com/example/AppTest.java\n"
          ]
        }
      ]
    },
    {
      "cell_type": "markdown",
      "source": [
        "**Clean and Compile**"
      ],
      "metadata": {
        "id": "vy-4Afe4baYv"
      }
    },
    {
      "cell_type": "code",
      "source": [
        "!cd testng-demo && mvn clean compile"
      ],
      "metadata": {
        "colab": {
          "base_uri": "https://localhost:8080/"
        },
        "collapsed": true,
        "id": "qFwueIfVXFhp",
        "outputId": "d7061cd6-00df-4cf1-d7be-5016474bbe77"
      },
      "execution_count": 37,
      "outputs": [
        {
          "output_type": "stream",
          "name": "stdout",
          "text": [
            "[\u001b[1;34mINFO\u001b[m] Scanning for projects...\n",
            "[\u001b[1;34mINFO\u001b[m] \n",
            "[\u001b[1;34mINFO\u001b[m] \u001b[1m----------------------< \u001b[0;36mcom.example:testng-demo\u001b[0;1m >-----------------------\u001b[m\n",
            "[\u001b[1;34mINFO\u001b[m] \u001b[1mBuilding testng-demo 1.0-SNAPSHOT\u001b[m\n",
            "[\u001b[1;34mINFO\u001b[m] \u001b[1m--------------------------------[ jar ]---------------------------------\u001b[m\n",
            "[\u001b[1;34mINFO\u001b[m] \n",
            "[\u001b[1;34mINFO\u001b[m] \u001b[1m--- \u001b[0;32mmaven-clean-plugin:2.5:clean\u001b[m \u001b[1m(default-clean)\u001b[m @ \u001b[36mtestng-demo\u001b[0;1m ---\u001b[m\n",
            "[\u001b[1;34mINFO\u001b[m] Deleting /content/testng-demo/target\n",
            "[\u001b[1;34mINFO\u001b[m] \n",
            "[\u001b[1;34mINFO\u001b[m] \u001b[1m--- \u001b[0;32mmaven-resources-plugin:2.6:resources\u001b[m \u001b[1m(default-resources)\u001b[m @ \u001b[36mtestng-demo\u001b[0;1m ---\u001b[m\n",
            "[\u001b[1;33mWARNING\u001b[m] Using platform encoding (UTF-8 actually) to copy filtered resources, i.e. build is platform dependent!\n",
            "[\u001b[1;34mINFO\u001b[m] skip non existing resourceDirectory /content/testng-demo/src/main/resources\n",
            "[\u001b[1;34mINFO\u001b[m] \n",
            "[\u001b[1;34mINFO\u001b[m] \u001b[1m--- \u001b[0;32mmaven-compiler-plugin:3.8.1:compile\u001b[m \u001b[1m(default-compile)\u001b[m @ \u001b[36mtestng-demo\u001b[0;1m ---\u001b[m\n",
            "[\u001b[1;34mINFO\u001b[m] Changes detected - recompiling the module!\n",
            "[\u001b[1;33mWARNING\u001b[m] File encoding has not been set, using platform encoding UTF-8, i.e. build is platform dependent!\n",
            "[\u001b[1;34mINFO\u001b[m] Compiling 1 source file to /content/testng-demo/target/classes\n",
            "[\u001b[1;34mINFO\u001b[m] \u001b[1m------------------------------------------------------------------------\u001b[m\n",
            "[\u001b[1;34mINFO\u001b[m] \u001b[1;32mBUILD SUCCESS\u001b[m\n",
            "[\u001b[1;34mINFO\u001b[m] \u001b[1m------------------------------------------------------------------------\u001b[m\n",
            "[\u001b[1;34mINFO\u001b[m] Total time:  2.184 s\n",
            "[\u001b[1;34mINFO\u001b[m] Finished at: 2025-09-14T13:23:46Z\n",
            "[\u001b[1;34mINFO\u001b[m] \u001b[1m------------------------------------------------------------------------\u001b[m\n"
          ]
        }
      ]
    },
    {
      "cell_type": "markdown",
      "source": [
        "**Run The Testcases from Maven**"
      ],
      "metadata": {
        "id": "T219ZJmsbhxO"
      }
    },
    {
      "cell_type": "code",
      "source": [
        "# Run TestNG Tests\n",
        "!cd testng-demo && mvn clean test"
      ],
      "metadata": {
        "colab": {
          "base_uri": "https://localhost:8080/"
        },
        "id": "MoD0uFCvWEPf",
        "outputId": "e455569b-354a-4120-fced-0d68e52da5d6"
      },
      "execution_count": 44,
      "outputs": [
        {
          "output_type": "stream",
          "name": "stdout",
          "text": [
            "[\u001b[1;34mINFO\u001b[m] Scanning for projects...\n",
            "[\u001b[1;34mINFO\u001b[m] \n",
            "[\u001b[1;34mINFO\u001b[m] \u001b[1m----------------------< \u001b[0;36mcom.example:testng-demo\u001b[0;1m >-----------------------\u001b[m\n",
            "[\u001b[1;34mINFO\u001b[m] \u001b[1mBuilding testng-demo 1.0-SNAPSHOT\u001b[m\n",
            "[\u001b[1;34mINFO\u001b[m] \u001b[1m--------------------------------[ jar ]---------------------------------\u001b[m\n",
            "[\u001b[1;34mINFO\u001b[m] \n",
            "[\u001b[1;34mINFO\u001b[m] \u001b[1m--- \u001b[0;32mmaven-clean-plugin:2.5:clean\u001b[m \u001b[1m(default-clean)\u001b[m @ \u001b[36mtestng-demo\u001b[0;1m ---\u001b[m\n",
            "[\u001b[1;34mINFO\u001b[m] Deleting /content/testng-demo/target\n",
            "[\u001b[1;34mINFO\u001b[m] \n",
            "[\u001b[1;34mINFO\u001b[m] \u001b[1m--- \u001b[0;32mmaven-resources-plugin:2.6:resources\u001b[m \u001b[1m(default-resources)\u001b[m @ \u001b[36mtestng-demo\u001b[0;1m ---\u001b[m\n",
            "[\u001b[1;33mWARNING\u001b[m] Using platform encoding (UTF-8 actually) to copy filtered resources, i.e. build is platform dependent!\n",
            "[\u001b[1;34mINFO\u001b[m] skip non existing resourceDirectory /content/testng-demo/src/main/resources\n",
            "[\u001b[1;34mINFO\u001b[m] \n",
            "[\u001b[1;34mINFO\u001b[m] \u001b[1m--- \u001b[0;32mmaven-compiler-plugin:3.8.1:compile\u001b[m \u001b[1m(default-compile)\u001b[m @ \u001b[36mtestng-demo\u001b[0;1m ---\u001b[m\n",
            "[\u001b[1;34mINFO\u001b[m] Changes detected - recompiling the module!\n",
            "[\u001b[1;33mWARNING\u001b[m] File encoding has not been set, using platform encoding UTF-8, i.e. build is platform dependent!\n",
            "[\u001b[1;34mINFO\u001b[m] Compiling 1 source file to /content/testng-demo/target/classes\n",
            "[\u001b[1;34mINFO\u001b[m] \n",
            "[\u001b[1;34mINFO\u001b[m] \u001b[1m--- \u001b[0;32mmaven-resources-plugin:2.6:testResources\u001b[m \u001b[1m(default-testResources)\u001b[m @ \u001b[36mtestng-demo\u001b[0;1m ---\u001b[m\n",
            "[\u001b[1;33mWARNING\u001b[m] Using platform encoding (UTF-8 actually) to copy filtered resources, i.e. build is platform dependent!\n",
            "[\u001b[1;34mINFO\u001b[m] skip non existing resourceDirectory /content/testng-demo/src/test/resources\n",
            "[\u001b[1;34mINFO\u001b[m] \n",
            "[\u001b[1;34mINFO\u001b[m] \u001b[1m--- \u001b[0;32mmaven-compiler-plugin:3.8.1:testCompile\u001b[m \u001b[1m(default-testCompile)\u001b[m @ \u001b[36mtestng-demo\u001b[0;1m ---\u001b[m\n",
            "[\u001b[1;34mINFO\u001b[m] Changes detected - recompiling the module!\n",
            "[\u001b[1;33mWARNING\u001b[m] File encoding has not been set, using platform encoding UTF-8, i.e. build is platform dependent!\n",
            "[\u001b[1;34mINFO\u001b[m] Compiling 3 source files to /content/testng-demo/target/test-classes\n",
            "[\u001b[1;34mINFO\u001b[m] \n",
            "[\u001b[1;34mINFO\u001b[m] \u001b[1m--- \u001b[0;32mmaven-surefire-plugin:3.0.0:test\u001b[m \u001b[1m(default-test)\u001b[m @ \u001b[36mtestng-demo\u001b[0;1m ---\u001b[m\n",
            "[\u001b[1;34mINFO\u001b[m] Using auto detected provider org.apache.maven.surefire.testng.TestNGProvider\n",
            "[\u001b[1;34mINFO\u001b[m] \n",
            "[\u001b[1;34mINFO\u001b[m] -------------------------------------------------------\n",
            "[\u001b[1;34mINFO\u001b[m]  T E S T S\n",
            "[\u001b[1;34mINFO\u001b[m] -------------------------------------------------------\n",
            "[\u001b[1;34mINFO\u001b[m] Running \u001b[1mTestSuite\u001b[m\n",
            "SLF4J: Failed to load class \"org.slf4j.impl.StaticLoggerBinder\".\n",
            "SLF4J: Defaulting to no-operation (NOP) logger implementation\n",
            "SLF4J: See http://www.slf4j.org/codes.html#StaticLoggerBinder for further details.\n",
            "[\u001b[1;31mERROR\u001b[m] \u001b[1;31mTests \u001b[0;1mrun: \u001b[0;1m4\u001b[m, \u001b[1;31mFailures: \u001b[0;1;31m1\u001b[m, Errors: 0, Skipped: 0, Time elapsed: 1.256 s\u001b[1;31m <<< FAILURE!\u001b[m - in \u001b[1mTestSuite\u001b[m\n",
            "[\u001b[1;31mERROR\u001b[m] AppTest.testHelloWorld  Time elapsed: 0.037 s  <<< FAILURE!\n",
            "java.lang.AssertionError: expected [Hello1] but found [Hello]\n",
            "\tat org.testng.Assert.fail(Assert.java:111)\n",
            "\tat org.testng.Assert.failNotEquals(Assert.java:1578)\n",
            "\tat org.testng.Assert.assertEqualsImpl(Assert.java:150)\n",
            "\tat org.testng.Assert.assertEquals(Assert.java:132)\n",
            "\tat org.testng.Assert.assertEquals(Assert.java:656)\n",
            "\tat org.testng.Assert.assertEquals(Assert.java:666)\n",
            "\tat AppTest.testHelloWorld(AppTest.java:9)\n",
            "\tat java.base/jdk.internal.reflect.NativeMethodAccessorImpl.invoke0(Native Method)\n",
            "\tat java.base/jdk.internal.reflect.NativeMethodAccessorImpl.invoke(NativeMethodAccessorImpl.java:62)\n",
            "\tat java.base/jdk.internal.reflect.DelegatingMethodAccessorImpl.invoke(DelegatingMethodAccessorImpl.java:43)\n",
            "\tat java.base/java.lang.reflect.Method.invoke(Method.java:566)\n",
            "\tat org.testng.internal.invokers.MethodInvocationHelper.invokeMethod(MethodInvocationHelper.java:139)\n",
            "\tat org.testng.internal.invokers.TestInvoker.invokeMethod(TestInvoker.java:664)\n",
            "\tat org.testng.internal.invokers.TestInvoker.invokeTestMethod(TestInvoker.java:228)\n",
            "\tat org.testng.internal.invokers.MethodRunner.runInSequence(MethodRunner.java:63)\n",
            "\tat org.testng.internal.invokers.TestInvoker$MethodInvocationAgent.invoke(TestInvoker.java:961)\n",
            "\tat org.testng.internal.invokers.TestInvoker.invokeTestMethods(TestInvoker.java:201)\n",
            "\tat org.testng.internal.invokers.TestMethodWorker.invokeTestMethods(TestMethodWorker.java:148)\n",
            "\tat org.testng.internal.invokers.TestMethodWorker.run(TestMethodWorker.java:128)\n",
            "\tat java.base/java.util.ArrayList.forEach(ArrayList.java:1541)\n",
            "\tat org.testng.TestRunner.privateRun(TestRunner.java:819)\n",
            "\tat org.testng.TestRunner.run(TestRunner.java:619)\n",
            "\tat org.testng.SuiteRunner.runTest(SuiteRunner.java:443)\n",
            "\tat org.testng.SuiteRunner.runSequentially(SuiteRunner.java:437)\n",
            "\tat org.testng.SuiteRunner.privateRun(SuiteRunner.java:397)\n",
            "\tat org.testng.SuiteRunner.run(SuiteRunner.java:336)\n",
            "\tat org.testng.SuiteRunnerWorker.runSuite(SuiteRunnerWorker.java:52)\n",
            "\tat org.testng.SuiteRunnerWorker.run(SuiteRunnerWorker.java:95)\n",
            "\tat org.testng.TestNG.runSuitesSequentially(TestNG.java:1301)\n",
            "\tat org.testng.TestNG.runSuitesLocally(TestNG.java:1228)\n",
            "\tat org.testng.TestNG.runSuites(TestNG.java:1134)\n",
            "\tat org.testng.TestNG.run(TestNG.java:1101)\n",
            "\tat org.apache.maven.surefire.testng.TestNGExecutor.run(TestNGExecutor.java:155)\n",
            "\tat org.apache.maven.surefire.testng.TestNGDirectoryTestSuite.executeMulti(TestNGDirectoryTestSuite.java:169)\n",
            "\tat org.apache.maven.surefire.testng.TestNGDirectoryTestSuite.execute(TestNGDirectoryTestSuite.java:88)\n",
            "\tat org.apache.maven.surefire.testng.TestNGProvider.invoke(TestNGProvider.java:137)\n",
            "\tat org.apache.maven.surefire.booter.ForkedBooter.runSuitesInProcess(ForkedBooter.java:385)\n",
            "\tat org.apache.maven.surefire.booter.ForkedBooter.execute(ForkedBooter.java:162)\n",
            "\tat org.apache.maven.surefire.booter.ForkedBooter.run(ForkedBooter.java:507)\n",
            "\tat org.apache.maven.surefire.booter.ForkedBooter.main(ForkedBooter.java:495)\n",
            "\n",
            "[\u001b[1;34mINFO\u001b[m] \n",
            "[\u001b[1;34mINFO\u001b[m] Results:\n",
            "[\u001b[1;34mINFO\u001b[m] \n",
            "[\u001b[1;31mERROR\u001b[m] \u001b[1;31mFailures: \u001b[m\n",
            "[\u001b[1;31mERROR\u001b[m] \u001b[1;31m  AppTest.testHelloWorld:9 expected [Hello1] but found [Hello]\u001b[m\n",
            "[\u001b[1;34mINFO\u001b[m] \n",
            "[\u001b[1;31mERROR\u001b[m] \u001b[1;31mTests run: 4, Failures: 1, Errors: 0, Skipped: 0\u001b[m\n",
            "[\u001b[1;34mINFO\u001b[m] \n",
            "[\u001b[1;34mINFO\u001b[m] \u001b[1m------------------------------------------------------------------------\u001b[m\n",
            "[\u001b[1;34mINFO\u001b[m] \u001b[1;31mBUILD FAILURE\u001b[m\n",
            "[\u001b[1;34mINFO\u001b[m] \u001b[1m------------------------------------------------------------------------\u001b[m\n",
            "[\u001b[1;34mINFO\u001b[m] Total time:  6.134 s\n",
            "[\u001b[1;34mINFO\u001b[m] Finished at: 2025-09-14T13:29:10Z\n",
            "[\u001b[1;34mINFO\u001b[m] \u001b[1m------------------------------------------------------------------------\u001b[m\n",
            "[\u001b[1;31mERROR\u001b[m] Failed to execute goal \u001b[32morg.apache.maven.plugins:maven-surefire-plugin:3.0.0:test\u001b[m \u001b[1m(default-test)\u001b[m on project \u001b[36mtestng-demo\u001b[m: \u001b[1;31mThere are test failures.\u001b[m\n",
            "[\u001b[1;31mERROR\u001b[m] \u001b[1;31m\u001b[m\n",
            "[\u001b[1;31mERROR\u001b[m] \u001b[1;31mPlease refer to /content/testng-demo/target/surefire-reports for the individual test results.\u001b[m\n",
            "[\u001b[1;31mERROR\u001b[m] \u001b[1;31mPlease refer to dump files (if any exist) [date].dump, [date]-jvmRun[N].dump and [date].dumpstream.\u001b[m\n",
            "[\u001b[1;31mERROR\u001b[m] -> \u001b[1m[Help 1]\u001b[m\n",
            "[\u001b[1;31mERROR\u001b[m] \n",
            "[\u001b[1;31mERROR\u001b[m] To see the full stack trace of the errors, re-run Maven with the \u001b[1m-e\u001b[m switch.\n",
            "[\u001b[1;31mERROR\u001b[m] Re-run Maven using the \u001b[1m-X\u001b[m switch to enable full debug logging.\n",
            "[\u001b[1;31mERROR\u001b[m] \n",
            "[\u001b[1;31mERROR\u001b[m] For more information about the errors and possible solutions, please read the following articles:\n",
            "[\u001b[1;31mERROR\u001b[m] \u001b[1m[Help 1]\u001b[m http://cwiki.apache.org/confluence/display/MAVEN/MojoFailureException\n"
          ]
        }
      ]
    }
  ]
}